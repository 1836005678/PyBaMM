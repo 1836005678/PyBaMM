{
 "cells": [
  {
   "cell_type": "code",
   "execution_count": 4,
   "metadata": {},
   "outputs": [
    {
     "data": {
      "text/plain": [
       "'/Users/vsulzer/Documents/Energy_storage/PyBaMM'"
      ]
     },
     "execution_count": 4,
     "metadata": {},
     "output_type": "execute_result"
    }
   ],
   "source": [
    "pybamm.ABSOLUTE_PATH"
   ]
  },
  {
   "cell_type": "code",
   "execution_count": 21,
   "metadata": {},
   "outputs": [],
   "source": [
    "import pybamm\n",
    "import os\n",
    "import inspect\n",
    "from pprint import pformat\n"
   ]
  },
  {
   "cell_type": "code",
   "execution_count": 24,
   "metadata": {},
   "outputs": [],
   "source": [
    "\n",
    "all_parameter_sets = [\n",
    "    x\n",
    "    for x in dir(pybamm.parameter_sets)\n",
    "    if not x.startswith(\"__\") and x not in [\"Sulzer2019\"]\n",
    "]\n",
    "\n",
    "for name in all_parameter_sets:\n",
    "    parameter_values = dict(pybamm.ParameterValues(name))\n",
    "    filename = pybamm.ABSOLUTE_PATH + f\"/pybamm/input/parameters/lithium_ion/{name}.py\"\n",
    "\n",
    "    output = \"\"\n",
    "    for k,v in parameter_values.items():\n",
    "        if callable(v):\n",
    "            parameter_values[k] = v.__name__\n",
    "            output += inspect.getsource(v) + \"\\n\"\n",
    "\n",
    "    # Format parameter dictionary\n",
    "    param_dict = pformat(parameter_values)\n",
    "    \n",
    "    # Make it a function\n",
    "    param_dict = param_dict.replace(\"{\", \"def get_parameter_values():\\n    return {\")\n",
    "    # Replace : 'function_name', with : function_name,\n",
    "    param_dict = param_dict.replace(\"': '\", \"': \").replace(\"',\", \",\")\n",
    "    \n",
    "    output += param_dict\n",
    "    with open(filename, \"w\") as f:\n",
    "        f.write(output)\n"
   ]
  },
  {
   "cell_type": "code",
   "execution_count": null,
   "metadata": {},
   "outputs": [],
   "source": []
  }
 ],
 "metadata": {
  "kernelspec": {
   "display_name": "Python 3.9.13 ('conda_jl')",
   "language": "python",
   "name": "python3"
  },
  "language_info": {
   "codemirror_mode": {
    "name": "ipython",
    "version": 3
   },
   "file_extension": ".py",
   "mimetype": "text/x-python",
   "name": "python",
   "nbconvert_exporter": "python",
   "pygments_lexer": "ipython3",
   "version": "3.9.13"
  },
  "orig_nbformat": 4,
  "vscode": {
   "interpreter": {
    "hash": "612adcc456652826e82b485a1edaef831aa6d5abc680d008e93d513dd8724f14"
   }
  }
 },
 "nbformat": 4,
 "nbformat_minor": 2
}
