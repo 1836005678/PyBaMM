{
 "cells": [
  {
   "cell_type": "code",
   "execution_count": 1,
   "id": "first-trader",
   "metadata": {},
   "outputs": [
    {
     "data": {
      "application/vnd.jupyter.widget-view+json": {
       "model_id": "0bab66a1741c4c83b1c3e00529d2813c",
       "version_major": 2,
       "version_minor": 0
      },
      "text/plain": [
       "interactive(children=(FloatSlider(value=0.0, description='t', max=10.0), Output()), _dom_classes=('widget-inte…"
      ]
     },
     "metadata": {},
     "output_type": "display_data"
    },
    {
     "name": "stdout",
     "output_type": "stream",
     "text": [
      "16774.868203107\n",
      "9828.150769898335\n"
     ]
    }
   ],
   "source": [
    "import pybamm\n",
    "options = {\"cell geometry\": \"pouch\", \"thermal\": \"x-lumped\", \"dimensionality\": 2, \"current collector\": \"potential pair\"}\n",
    "model = pybamm.lithium_ion.SPMe(options=options)\n",
    "experiment = pybamm.Experiment([\"Discharge with 3 C for 10 seconds\"])\n",
    "solver = pybamm.CasadiSolver(\"fast\")\n",
    "sim = pybamm.Simulation(model, experiment=experiment, solver=solver)\n",
    "sim.solve()\n",
    "sim.plot([\"X-averaged Ohmic heating [W.m-3]\"], spatial_unit=\"m\")\n",
    "print(sim.solution[\"X-averaged Ohmic heating [W.m-3]\"](t=10, y=0.147, z=0.137))\n",
    "print(sim.solution[\"X-averaged Ohmic heating [W.m-3]\"](t=10, y=0.207, z=0.1))"
   ]
  },
  {
   "cell_type": "code",
   "execution_count": null,
   "id": "anticipated-population",
   "metadata": {},
   "outputs": [],
   "source": []
  }
 ],
 "metadata": {
  "kernelspec": {
   "display_name": "Python 3",
   "language": "python",
   "name": "python3"
  },
  "language_info": {
   "codemirror_mode": {
    "name": "ipython",
    "version": 3
   },
   "file_extension": ".py",
   "mimetype": "text/x-python",
   "name": "python",
   "nbconvert_exporter": "python",
   "pygments_lexer": "ipython3",
   "version": "3.8.11"
  }
 },
 "nbformat": 4,
 "nbformat_minor": 5
}
