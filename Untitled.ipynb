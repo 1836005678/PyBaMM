{
 "cells": [
  {
   "cell_type": "code",
   "execution_count": 1,
   "metadata": {},
   "outputs": [
    {
     "data": {
      "application/vnd.jupyter.widget-view+json": {
       "model_id": "c6cfcb41d5f64bf1b56c090b4d94dee9",
       "version_major": 2,
       "version_minor": 0
      },
      "text/plain": [
       "interactive(children=(FloatSlider(value=0.0, description='t', max=0.9999999999999999, step=0.05), Output()), _…"
      ]
     },
     "metadata": {},
     "output_type": "display_data"
    }
   ],
   "source": [
    "# Example: 1C constant current discharge of DFN model \n",
    "# with default parameter set\n",
    "\n",
    "import pybamm\n",
    "model = pybamm.lithium_ion.DFN() # Doyle-Fuller-Newman model\n",
    "sim = pybamm.Simulation(model)\n",
    "sim.solve()\n",
    "sim.plot()"
   ]
  },
  {
   "cell_type": "code",
   "execution_count": 2,
   "metadata": {},
   "outputs": [
    {
     "data": {
      "application/vnd.jupyter.widget-view+json": {
       "model_id": "2b6a192a0e25489eb71c620b660e5f31",
       "version_major": 2,
       "version_minor": 0
      },
      "text/plain": [
       "interactive(children=(FloatSlider(value=0.0, description='t', max=0.16666666666666666, step=0.05), Output()), …"
      ]
     },
     "metadata": {},
     "output_type": "display_data"
    }
   ],
   "source": [
    "# Simulate drive cycle loaded from csv file\n",
    "\n",
    "import pybamm\n",
    "\n",
    "# load model \n",
    "model = pybamm.lithium_ion.DFN()\n",
    "\n",
    "# update parameters so the input current is the US06 drive cycle\n",
    "param = model.default_parameter_values\n",
    "param[\"Current function [A]\"] = \"[current data]US06\"\n",
    "\n",
    "# create and run simulation, passing in the updated parameters, and use the CasAdi solver\n",
    "sim = pybamm.Simulation(model, parameter_values=param, solver=pybamm.CasadiSolver())\n",
    "sim.solve()\n",
    "sim.plot()"
   ]
  },
  {
   "cell_type": "code",
   "execution_count": 3,
   "metadata": {},
   "outputs": [
    {
     "name": "stderr",
     "output_type": "stream",
     "text": [
      "2020-02-14 15:26:31,126 - [INFO] base_battery_model.build_model(495): Building Doyle-Fuller-Newman model\n",
      "2020-02-14 15:26:31,223 - [INFO] base_battery_model.build_model(495): Building Doyle-Fuller-Newman model\n",
      "2020-02-14 15:26:31,289 - [INFO] parameter_values.process_model(322): Start setting parameters for Doyle-Fuller-Newman model\n",
      "2020-02-14 15:26:31,375 - [INFO] parameter_values.process_model(392): Finish setting parameters for Doyle-Fuller-Newman model\n",
      "2020-02-14 15:26:31,378 - [INFO] discretisation.process_model(120): Start discretising Doyle-Fuller-Newman model\n",
      "2020-02-14 15:26:31,392 - [INFO] discretisation.process_model(133): Set variable slices for Doyle-Fuller-Newman model\n",
      "2020-02-14 15:26:31,392 - [INFO] discretisation.process_model(142): Discretise boundary conditions for Doyle-Fuller-Newman model\n",
      "2020-02-14 15:26:31,446 - [INFO] discretisation.process_model(144): Set internal boundary conditions for Doyle-Fuller-Newman model\n",
      "2020-02-14 15:26:31,459 - [INFO] base_battery_model.build_model(495): Building Doyle-Fuller-Newman model\n",
      "2020-02-14 15:26:31,526 - [INFO] discretisation.process_model(158): Discretise initial conditions for Doyle-Fuller-Newman model\n",
      "2020-02-14 15:26:31,534 - [INFO] discretisation.process_model(166): Discretise variables for Doyle-Fuller-Newman model\n",
      "2020-02-14 15:26:31,893 - [INFO] discretisation.process_model(170): Discretise model equations for Doyle-Fuller-Newman model\n",
      "2020-02-14 15:26:31,931 - [INFO] discretisation.process_model(177): Discretise events for Doyle-Fuller-Newman model\n",
      "2020-02-14 15:26:31,935 - [INFO] discretisation.process_model(189): Create mass matrix for Doyle-Fuller-Newman model\n",
      "2020-02-14 15:26:31,959 - [INFO] discretisation.process_model(196): Performing model checks for Doyle-Fuller-Newman model\n",
      "2020-02-14 15:26:31,982 - [INFO] discretisation.process_model(199): Finish discretising Doyle-Fuller-Newman model\n",
      "2020-02-14 15:26:31,983 - [INFO] simulation.solve(402): Start running experiment\n",
      "2020-02-14 15:26:31,984 - [INFO] simulation.solve(407): Discharge at C/10 for 13 hours or until 3.3 V\n",
      "2020-02-14 15:26:31,985 - [INFO] base_solver.step(600): Start stepping Doyle-Fuller-Newman model with CasADi solver with 'safe' mode\n",
      "2020-02-14 15:26:32,010 - [INFO] base_solver.report(165): Converting RHS to CasADi\n",
      "2020-02-14 15:26:32,029 - [INFO] base_solver.report(165): Calculating jacobian for RHS using CasADi\n",
      "2020-02-14 15:26:32,035 - [INFO] base_solver.report(165): Converting algebraic to CasADi\n",
      "2020-02-14 15:26:32,056 - [INFO] base_solver.report(165): Calculating jacobian for algebraic using CasADi\n",
      "2020-02-14 15:26:32,075 - [INFO] base_solver.report(165): Converting residuals to CasADi\n",
      "2020-02-14 15:26:32,110 - [INFO] base_solver.report(165): Calculating jacobian for residuals using CasADi\n",
      "2020-02-14 15:26:32,119 - [INFO] base_solver.calculate_consistent_state(323): Start calculating consistent initial conditions\n",
      "2020-02-14 15:26:32,206 - [INFO] base_solver.calculate_consistent_state(378): Finish calculating consistent initial conditions\n",
      "2020-02-14 15:26:32,208 - [INFO] base_solver.set_up(286): Finish solver set-up\n",
      "2020-02-14 15:26:32,209 - [INFO] base_solver.step(614): Calling solver\n",
      "2020-02-14 15:26:32,212 - [INFO] casadi_solver._integrate(110): Start solving Doyle-Fuller-Newman model with CasADi solver with 'safe' mode\n",
      "2020-02-14 15:26:37,539 - [INFO] simulation.solve(407): Rest for 1 hour\n",
      "2020-02-14 15:26:37,543 - [INFO] base_solver.step(614): Calling solver\n",
      "2020-02-14 15:26:37,547 - [INFO] casadi_solver._integrate(110): Start solving Doyle-Fuller-Newman model with CasADi solver with 'safe' mode\n",
      "2020-02-14 15:26:38,209 - [INFO] simulation.solve(407): Charge at 1 A until 4.1 V\n",
      "2020-02-14 15:26:38,211 - [INFO] base_solver.step(614): Calling solver\n",
      "2020-02-14 15:26:38,214 - [INFO] casadi_solver._integrate(110): Start solving Doyle-Fuller-Newman model with CasADi solver with 'safe' mode\n",
      "2020-02-14 15:26:38,907 - [INFO] simulation.solve(407): Hold at 4.1 V until 50 mA\n",
      "2020-02-14 15:26:38,908 - [INFO] base_solver.step(614): Calling solver\n",
      "2020-02-14 15:26:38,910 - [INFO] casadi_solver._integrate(110): Start solving Doyle-Fuller-Newman model with CasADi solver with 'safe' mode\n",
      "2020-02-14 15:26:39,103 - [INFO] simulation.solve(407): Rest for 1 hour\n",
      "2020-02-14 15:26:39,104 - [INFO] base_solver.step(614): Calling solver\n",
      "2020-02-14 15:26:39,107 - [INFO] casadi_solver._integrate(110): Start solving Doyle-Fuller-Newman model with CasADi solver with 'safe' mode\n",
      "2020-02-14 15:26:39,635 - [INFO] simulation.solve(407): Discharge at C/10 for 13 hours or until 3.3 V\n",
      "2020-02-14 15:26:39,636 - [INFO] base_solver.step(614): Calling solver\n",
      "2020-02-14 15:26:39,638 - [INFO] casadi_solver._integrate(110): Start solving Doyle-Fuller-Newman model with CasADi solver with 'safe' mode\n",
      "2020-02-14 15:26:45,366 - [INFO] simulation.solve(407): Rest for 1 hour\n",
      "2020-02-14 15:26:45,367 - [INFO] base_solver.step(614): Calling solver\n",
      "2020-02-14 15:26:45,369 - [INFO] casadi_solver._integrate(110): Start solving Doyle-Fuller-Newman model with CasADi solver with 'safe' mode\n",
      "2020-02-14 15:26:45,799 - [INFO] simulation.solve(407): Charge at 1 A until 4.1 V\n",
      "2020-02-14 15:26:45,800 - [INFO] base_solver.step(614): Calling solver\n",
      "2020-02-14 15:26:45,802 - [INFO] casadi_solver._integrate(110): Start solving Doyle-Fuller-Newman model with CasADi solver with 'safe' mode\n",
      "2020-02-14 15:26:46,284 - [INFO] simulation.solve(407): Hold at 4.1 V until 50 mA\n",
      "2020-02-14 15:26:46,285 - [INFO] base_solver.step(614): Calling solver\n",
      "2020-02-14 15:26:46,287 - [INFO] casadi_solver._integrate(110): Start solving Doyle-Fuller-Newman model with CasADi solver with 'safe' mode\n",
      "2020-02-14 15:26:46,488 - [INFO] simulation.solve(407): Rest for 1 hour\n",
      "2020-02-14 15:26:46,489 - [INFO] base_solver.step(614): Calling solver\n",
      "2020-02-14 15:26:46,491 - [INFO] casadi_solver._integrate(110): Start solving Doyle-Fuller-Newman model with CasADi solver with 'safe' mode\n",
      "2020-02-14 15:26:46,904 - [INFO] simulation.solve(407): Discharge at C/10 for 13 hours or until 3.3 V\n",
      "2020-02-14 15:26:46,905 - [INFO] base_solver.step(614): Calling solver\n",
      "2020-02-14 15:26:46,908 - [INFO] casadi_solver._integrate(110): Start solving Doyle-Fuller-Newman model with CasADi solver with 'safe' mode\n",
      "2020-02-14 15:26:53,852 - [INFO] simulation.solve(407): Rest for 1 hour\n",
      "2020-02-14 15:26:53,854 - [INFO] base_solver.step(614): Calling solver\n",
      "2020-02-14 15:26:53,856 - [INFO] casadi_solver._integrate(110): Start solving Doyle-Fuller-Newman model with CasADi solver with 'safe' mode\n",
      "2020-02-14 15:26:54,296 - [INFO] simulation.solve(407): Charge at 1 A until 4.1 V\n",
      "2020-02-14 15:26:54,297 - [INFO] base_solver.step(614): Calling solver\n",
      "2020-02-14 15:26:54,300 - [INFO] casadi_solver._integrate(110): Start solving Doyle-Fuller-Newman model with CasADi solver with 'safe' mode\n",
      "2020-02-14 15:26:54,787 - [INFO] simulation.solve(407): Hold at 4.1 V until 50 mA\n",
      "2020-02-14 15:26:54,789 - [INFO] base_solver.step(614): Calling solver\n",
      "2020-02-14 15:26:54,791 - [INFO] casadi_solver._integrate(110): Start solving Doyle-Fuller-Newman model with CasADi solver with 'safe' mode\n",
      "2020-02-14 15:26:55,044 - [INFO] simulation.solve(407): Rest for 1 hour\n",
      "2020-02-14 15:26:55,045 - [INFO] base_solver.step(614): Calling solver\n",
      "2020-02-14 15:26:55,047 - [INFO] casadi_solver._integrate(110): Start solving Doyle-Fuller-Newman model with CasADi solver with 'safe' mode\n",
      "2020-02-14 15:26:55,597 - [INFO] simulation.solve(435): Finish experiment simulation, took 23.61 seconds\n"
     ]
    },
    {
     "data": {
      "image/png": "[encoded data removed]",
      "text/plain": [
       "<Figure size 432x288 with 1 Axes>"
      ]
     },
     "metadata": {
      "needs_background": "light"
     },
     "output_type": "display_data"
    },
    {
     "data": {
      "application/vnd.jupyter.widget-view+json": {
       "model_id": "cf9cb86bc176404883528ae6510fe4af",
       "version_major": 2,
       "version_minor": 0
      },
      "text/plain": [
       "interactive(children=(FloatSlider(value=0.0, description='t', max=44.26666666666666, step=0.05), Output()), _d…"
      ]
     },
     "metadata": {},
     "output_type": "display_data"
    }
   ],
   "source": [
    "# Constant-current constant-voltage charge\n",
    "\n",
    "import pybamm\n",
    "\n",
    "experiment = pybamm.Experiment(\n",
    "    [\n",
    "        \"Discharge at C/10 for 13 hours or until 3.3 V\",\n",
    "        \"Rest for 1 hour\",\n",
    "        \"Charge at 1 A until 4.1 V\",\n",
    "        \"Hold at 4.1 V until 50 mA\",\n",
    "        \"Rest for 1 hour\",\n",
    "    ]\n",
    "    * 3,\n",
    "    period=\"2 minutes\",\n",
    ")\n",
    "model = pybamm.lithium_ion.DFN()\n",
    "sim = pybamm.Simulation(model, experiment=experiment)\n",
    "sim.solve()\n",
    "\n",
    "\n",
    "# Plot voltages from the discharge segments only\n",
    "fig, ax = plt.subplots()\n",
    "for i in range(3):\n",
    "    # Extract sub solutions\n",
    "    sol = sim.solution.sub_solutions[i * 5]\n",
    "    # Extract variables\n",
    "    t = sol[\"Time [h]\"].entries\n",
    "    V = sol[\"Terminal voltage [V]\"].entries\n",
    "    # Plot\n",
    "    ax.plot(t - t[0], V, label=\"Discharge {}\".format(i + 1))\n",
    "    ax.set_xlabel(\"Time [h]\")\n",
    "    ax.set_ylabel(\"Voltage [V]\")\n",
    "    ax.set_xlim([0, 13])\n",
    "ax.legend()\n",
    "\n",
    "# Show all plots\n",
    "sim.plot()\n"
   ]
  },
  {
   "cell_type": "code",
   "execution_count": null,
   "metadata": {},
   "outputs": [],
   "source": []
  }
 ],
 "metadata": {
  "kernelspec": {
   "display_name": "Python 3",
   "language": "python",
   "name": "python3"
  },
  "language_info": {
   "codemirror_mode": {
    "name": "ipython",
    "version": 3
   },
   "file_extension": ".py",
   "mimetype": "text/x-python",
   "name": "python",
   "nbconvert_exporter": "python",
   "pygments_lexer": "ipython3",
   "version": "3.6.9"
  }
 },
 "nbformat": 4,
 "nbformat_minor": 2
}
