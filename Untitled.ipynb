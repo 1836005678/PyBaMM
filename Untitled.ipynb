{
 "cells": [
  {
   "cell_type": "code",
   "execution_count": 18,
   "metadata": {},
   "outputs": [
    {
     "name": "stderr",
     "output_type": "stream",
     "text": [
      "2020-08-16 15:20:07,540 - [WARNING] processed_variable.get_spatial_scale(545): No length scale set for negative electrode. Using default of 1 [m].\n"
     ]
    },
    {
     "data": {
      "application/vnd.jupyter.widget-view+json": {
       "model_id": "73ab7156b5074cb389e8d63b546b8f63",
       "version_major": 2,
       "version_minor": 0
      },
      "text/plain": [
       "interactive(children=(FloatSlider(value=0.0, description='t', step=1.0), Output()), _dom_classes=('widget-inte…"
      ]
     },
     "metadata": {},
     "output_type": "display_data"
    }
   ],
   "source": [
    "import pybamm\n",
    "\n",
    "c = pybamm.Variable(\"c\", domain=[\"negative electrode\", \"separator\", \"positive electrode\"])\n",
    "model = pybamm.BaseModel()\n",
    "# x = pybamm.SpatialVariableEdge(\"x\", domain=\"negative electrode\")\n",
    "# v = 0.5 + 0.5 * x\n",
    "v = pybamm.PrimaryBroadcastToEdges(1, [\"negative electrode\", \"separator\", \"positive electrode\"])\n",
    "model.rhs = {c: -pybamm.div(-1e-4 * pybamm.grad(c) + pybamm.upwind(c)*v) + 1}\n",
    "model.initial_conditions = {c: 0}\n",
    "model.boundary_conditions = {c: {\"left\": (0, \"Dirichlet\"), \"right\": (0, \"Neumann\")}}\n",
    "model.variables = {\"c\": c}\n",
    "\n",
    "spm = pybamm.lithium_ion.SPM()\n",
    "\n",
    "param=spm.default_parameter_values\n",
    "geometry=spm.default_geometry\n",
    "submesh_types=spm.default_submesh_types\n",
    "var_pts=spm.default_var_pts\n",
    "spatial_methods=spm.default_spatial_methods\n",
    "\n",
    "# load parameter values and process model and geometry\n",
    "param.process_model(model)\n",
    "param.process_geometry(geometry)\n",
    "\n",
    "# set mesh\n",
    "mesh = pybamm.Mesh(geometry, submesh_types, var_pts)\n",
    "\n",
    "# discretise model\n",
    "disc = pybamm.Discretisation(mesh, spatial_methods)\n",
    "disc.process_model(model)\n",
    "\n",
    "t_eval = [0,100]\n",
    "solution = pybamm.CasadiSolver().solve(model, t_eval)\n",
    "\n",
    "# plot\n",
    "plot = pybamm.QuickPlot(solution,[\"c\"])\n",
    "plot.dynamic_plot()"
   ]
  },
  {
   "cell_type": "code",
   "execution_count": null,
   "metadata": {},
   "outputs": [],
   "source": []
  }
 ],
 "metadata": {
  "kernelspec": {
   "display_name": "Python 3",
   "language": "python",
   "name": "python3"
  },
  "language_info": {
   "codemirror_mode": {
    "name": "ipython",
    "version": 3
   },
   "file_extension": ".py",
   "mimetype": "text/x-python",
   "name": "python",
   "nbconvert_exporter": "python",
   "pygments_lexer": "ipython3",
   "version": "3.8.5"
  }
 },
 "nbformat": 4,
 "nbformat_minor": 4
}
