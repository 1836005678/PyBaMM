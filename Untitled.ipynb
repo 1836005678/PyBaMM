{
 "cells": [
  {
   "cell_type": "code",
   "execution_count": null,
   "metadata": {},
   "outputs": [],
   "source": [
    "# Example: \"2+1D\" pouch cell model \n",
    "\n",
    "import pybamm\n",
    "\n",
    "options = {\n",
    "    \"current collector\": \"potential pair\",\n",
    "    \"dimensionality\": 2,\n",
    "}\n",
    "model = pybamm.lithium_ion.SPMe(options)\n",
    "\n",
    "\n",
    "sim = pybamm.Simulation(model)\n",
    "sim.solve()\n",
    "\n",
    "\n",
    "\n",
    "experiment = pybamm.Experiment(\n",
    "    [\n",
    "        \"Discharge at C/10 for 13 hours or until 3.3 V\",\n",
    "        \"Rest for 1 hour\",\n",
    "        \"Charge at 1 A until 4.1 V\",\n",
    "        \"Hold at 4.1 V until 50 mA\",\n",
    "        \"Rest for 1 hour\",\n",
    "    ]\n",
    "    * 3,\n",
    "    period=\"2 minutes\",\n",
    ")\n",
    "model = pybamm.lithium_ion.DFN()  \n",
    "sim = pybamm.Simulation(model, experiment=experiment)\n",
    "sim.solve()\n",
    "\n",
    "experiment = pybamm.Experiment(\n",
    "    [\"Discharge at C/20 for 1 hour\", \"Rest for 1 hour\"] * 20,\n",
    ")\n",
    "model = pybamm.lithium_ion.DFN()\n",
    "sim = pybamm.Simulation(model, experiment=experiment)\n",
    "sim.solve()"
   ]
  },
  {
   "cell_type": "code",
   "execution_count": null,
   "metadata": {},
   "outputs": [],
   "source": []
  }
 ],
 "metadata": {
  "kernelspec": {
   "display_name": "Python 3",
   "language": "python",
   "name": "python3"
  },
  "language_info": {
   "codemirror_mode": {
    "name": "ipython",
    "version": 3
   },
   "file_extension": ".py",
   "mimetype": "text/x-python",
   "name": "python",
   "nbconvert_exporter": "python",
   "pygments_lexer": "ipython3",
   "version": "3.6.9"
  }
 },
 "nbformat": 4,
 "nbformat_minor": 2
}
