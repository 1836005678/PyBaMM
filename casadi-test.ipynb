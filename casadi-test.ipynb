{
 "cells": [
  {
   "cell_type": "code",
   "execution_count": 1,
   "metadata": {},
   "outputs": [],
   "source": [
    "import numpy as np\n",
    "import casadi"
   ]
  },
  {
   "cell_type": "code",
   "execution_count": 34,
   "metadata": {},
   "outputs": [],
   "source": [
    "t = casadi.MX.sym(\"t\")\n",
    "x = casadi.MX.sym(\"x\")\n",
    "z = casadi.MX.sym(\"z\")\n",
    "f_x = -x\n",
    "f_z = x - casadi.sin(z)\n",
    "\n",
    "t_eval = np.linspace(0, 1)\n",
    "opts = {\"grid\": t_eval}\n",
    "prob = {\"t\": t, \"x\": x, \"z\": z, \"ode\": f_x, \"alg\": f_z}\n",
    "\n",
    "intg = casadi.integrator(\"intg\", \"idas\", prob, opts)"
   ]
  },
  {
   "cell_type": "code",
   "execution_count": 35,
   "metadata": {},
   "outputs": [
    {
     "data": {
      "text/plain": [
       "{'qf': DM([]),\n",
       " 'rqf': DM([]),\n",
       " 'rxf': DM([]),\n",
       " 'rzf': DM([]),\n",
       " 'xf': DM([[0.824472, 0.807817, 0.791498, 0.775509, 0.759842, 0.744493, 0.729453, 0.714717, 0.700279, 0.686132, 0.672271, 0.658691, 0.645384, 0.632347, 0.619572, 0.607056, 0.594793, 0.582777, 0.571004, 0.559469, 0.548167, 0.537094, 0.526244, 0.515613, 0.505197, 0.494991, 0.484992, 0.475194, 0.465594, 0.456189, 0.446973, 0.437944, 0.429097, 0.420428, 0.411935, 0.403614, 0.39546, 0.387471, 0.379644, 0.371974, 0.36446, 0.357098, 0.349884, 0.342816, 0.33589, 0.329105, 0.322456, 0.315942, 0.30956]]),\n",
       " 'zf': DM([[0.969269, 0.940439, 0.913256, 0.88752, 0.863071, 0.839775, 0.817522, 0.796219, 0.775788, 0.756159, 0.737273, 0.719077, 0.701526, 0.684579, 0.668198, 0.652351, 0.637008, 0.622142, 0.607729, 0.593745, 0.580171, 0.566988, 0.554177, 0.541723, 0.52961, 0.517824, 0.506353, 0.495185, 0.484306, 0.473708, 0.463379, 0.45331, 0.443493, 0.433917, 0.424577, 0.415463, 0.406569, 0.397887, 0.389411, 0.381135, 0.373053, 0.365159, 0.357447, 0.349912, 0.34255, 0.335355, 0.328323, 0.32145, 0.31473]])}"
      ]
     },
     "execution_count": 35,
     "metadata": {},
     "output_type": "execute_result"
    }
   ],
   "source": [
    "z0 = 1\n",
    "x0 = casadi.sin(z0)\n",
    "intg(x0=x0, z0=z0)"
   ]
  },
  {
   "cell_type": "code",
   "execution_count": 43,
   "metadata": {},
   "outputs": [
    {
     "name": "stdout",
     "output_type": "stream",
     "text": [
      "nan\n"
     ]
    },
    {
     "name": "stderr",
     "output_type": "stream",
     "text": [
      "CasADi - 2020-04-28 10:10:21 WARNING(\"intg:daeF failed: NaN detected for output alg, at (row 0, col 0).\") [.../casadi/core/oracle_function.cpp:265]\n",
      "CasADi - 2020-04-28 10:10:21 WARNING(\"intg:jacF failed: NaN detected for output o0, at nonzero index 2 (row 1, col 1).\") [.../casadi/core/oracle_function.cpp:265]\n",
      "psetup failed: .../casadi/interfaces/sundials/idas_interface.cpp:827: Calculating Jacobian failed\n",
      "CasADi - 2020-04-28 10:10:21 WARNING(\"intg:daeF failed: NaN detected for output alg, at (row 0, col 0).\") [.../casadi/core/oracle_function.cpp:265]\n",
      "CasADi - 2020-04-28 10:10:21 WARNING(\"intg:jacF failed: NaN detected for output o0, at nonzero index 2 (row 1, col 1).\") [.../casadi/core/oracle_function.cpp:265]\n",
      "psetup failed: .../casadi/interfaces/sundials/idas_interface.cpp:827: Calculating Jacobian failed\n",
      "CasADi - 2020-04-28 10:10:21 WARNING(\"intg:daeF failed: NaN detected for output alg, at (row 0, col 0).\") [.../casadi/core/oracle_function.cpp:265]\n",
      "CasADi - 2020-04-28 10:10:21 WARNING(\"intg:jacF failed: NaN detected for output o0, at nonzero index 2 (row 1, col 1).\") [.../casadi/core/oracle_function.cpp:265]\n",
      "psetup failed: .../casadi/interfaces/sundials/idas_interface.cpp:827: Calculating Jacobian failed\n",
      "CasADi - 2020-04-28 10:10:21 WARNING(\"intg:daeF failed: NaN detected for output alg, at (row 0, col 0).\") [.../casadi/core/oracle_function.cpp:265]\n",
      "CasADi - 2020-04-28 10:10:21 WARNING(\"intg:jacF failed: NaN detected for output o0, at nonzero index 2 (row 1, col 1).\") [.../casadi/core/oracle_function.cpp:265]\n",
      "psetup failed: .../casadi/interfaces/sundials/idas_interface.cpp:827: Calculating Jacobian failed\n",
      "CasADi - 2020-04-28 10:10:21 WARNING(\"intg:daeF failed: NaN detected for output alg, at (row 0, col 0).\") [.../casadi/core/oracle_function.cpp:265]\n",
      "CasADi - 2020-04-28 10:10:21 WARNING(\"intg:jacF failed: NaN detected for output o0, at nonzero index 2 (row 1, col 1).\") [.../casadi/core/oracle_function.cpp:265]\n",
      "psetup failed: .../casadi/interfaces/sundials/idas_interface.cpp:827: Calculating Jacobian failed\n",
      "The residual routine or the linear setup or solve routine had a recoverable error, but IDACalcIC was unable to recover.\n"
     ]
    },
    {
     "ename": "RuntimeError",
     "evalue": ".../casadi/interfaces/sundials/idas_interface.cpp:569: IDACalcIC returned \"IDA_NO_RECOVERY\". Consult IDAS documentation.",
     "output_type": "error",
     "traceback": [
      "\u001b[0;31m---------------------------------------------------------------------------\u001b[0m",
      "\u001b[0;31mRuntimeError\u001b[0m                              Traceback (most recent call last)",
      "\u001b[0;32m<ipython-input-43-3569a35c8b36>\u001b[0m in \u001b[0;36m<module>\u001b[0;34m\u001b[0m\n\u001b[1;32m      2\u001b[0m \u001b[0mz0\u001b[0m \u001b[0;34m=\u001b[0m \u001b[0mcasadi\u001b[0m\u001b[0;34m.\u001b[0m\u001b[0marcsin\u001b[0m\u001b[0;34m(\u001b[0m\u001b[0mx0\u001b[0m\u001b[0;34m)\u001b[0m\u001b[0;34m\u001b[0m\u001b[0;34m\u001b[0m\u001b[0m\n\u001b[1;32m      3\u001b[0m \u001b[0mprint\u001b[0m\u001b[0;34m(\u001b[0m\u001b[0mx0\u001b[0m \u001b[0;34m-\u001b[0m \u001b[0mcasadi\u001b[0m\u001b[0;34m.\u001b[0m\u001b[0msin\u001b[0m\u001b[0;34m(\u001b[0m\u001b[0mz0\u001b[0m\u001b[0;34m)\u001b[0m\u001b[0;34m)\u001b[0m\u001b[0;34m\u001b[0m\u001b[0;34m\u001b[0m\u001b[0m\n\u001b[0;32m----> 4\u001b[0;31m \u001b[0mintg\u001b[0m\u001b[0;34m(\u001b[0m\u001b[0mx0\u001b[0m\u001b[0;34m=\u001b[0m\u001b[0mx0\u001b[0m\u001b[0;34m,\u001b[0m \u001b[0mz0\u001b[0m\u001b[0;34m=\u001b[0m\u001b[0mz0\u001b[0m\u001b[0;34m)\u001b[0m\u001b[0;34m\u001b[0m\u001b[0;34m\u001b[0m\u001b[0m\n\u001b[0m",
      "\u001b[0;32m~/Documents/Energy_storage/PyBaMM/PyBaMM-env/lib/python3.7/site-packages/casadi/casadi.py\u001b[0m in \u001b[0;36m__call__\u001b[0;34m(self, *args, **kwargs)\u001b[0m\n\u001b[1;32m  13341\u001b[0m       \u001b[0;32melse\u001b[0m\u001b[0;34m:\u001b[0m\u001b[0;34m\u001b[0m\u001b[0;34m\u001b[0m\u001b[0m\n\u001b[1;32m  13342\u001b[0m     \u001b[0;31m# Named inputs -> return dictionary\u001b[0m\u001b[0;34m\u001b[0m\u001b[0;34m\u001b[0m\u001b[0;34m\u001b[0m\u001b[0m\n\u001b[0;32m> 13343\u001b[0;31m         \u001b[0;32mreturn\u001b[0m \u001b[0mself\u001b[0m\u001b[0;34m.\u001b[0m\u001b[0mcall\u001b[0m\u001b[0;34m(\u001b[0m\u001b[0mkwargs\u001b[0m\u001b[0;34m)\u001b[0m\u001b[0;34m\u001b[0m\u001b[0;34m\u001b[0m\u001b[0m\n\u001b[0m\u001b[1;32m  13344\u001b[0m \u001b[0;34m\u001b[0m\u001b[0m\n\u001b[1;32m  13345\u001b[0m     \u001b[0;32mdef\u001b[0m \u001b[0mbuffer\u001b[0m\u001b[0;34m(\u001b[0m\u001b[0mself\u001b[0m\u001b[0;34m)\u001b[0m\u001b[0;34m:\u001b[0m\u001b[0;34m\u001b[0m\u001b[0;34m\u001b[0m\u001b[0m\n",
      "\u001b[0;32m~/Documents/Energy_storage/PyBaMM/PyBaMM-env/lib/python3.7/site-packages/casadi/casadi.py\u001b[0m in \u001b[0;36mcall\u001b[0;34m(self, *args)\u001b[0m\n\u001b[1;32m  12212\u001b[0m \u001b[0;34m\u001b[0m\u001b[0m\n\u001b[1;32m  12213\u001b[0m         \"\"\"\n\u001b[0;32m> 12214\u001b[0;31m         \u001b[0;32mreturn\u001b[0m \u001b[0m_casadi\u001b[0m\u001b[0;34m.\u001b[0m\u001b[0mFunction_call\u001b[0m\u001b[0;34m(\u001b[0m\u001b[0mself\u001b[0m\u001b[0;34m,\u001b[0m \u001b[0;34m*\u001b[0m\u001b[0margs\u001b[0m\u001b[0;34m)\u001b[0m\u001b[0;34m\u001b[0m\u001b[0;34m\u001b[0m\u001b[0m\n\u001b[0m\u001b[1;32m  12215\u001b[0m \u001b[0;34m\u001b[0m\u001b[0m\n\u001b[1;32m  12216\u001b[0m \u001b[0;34m\u001b[0m\u001b[0m\n",
      "\u001b[0;31mRuntimeError\u001b[0m: .../casadi/interfaces/sundials/idas_interface.cpp:569: IDACalcIC returned \"IDA_NO_RECOVERY\". Consult IDAS documentation."
     ]
    }
   ],
   "source": [
    "x0 = 1.1\n",
    "z0 = casadi.arcsin(x0)\n",
    "print(x0 - casadi.sin(z0))\n",
    "intg(x0=x0, z0=z0)"
   ]
  },
  {
   "cell_type": "code",
   "execution_count": null,
   "metadata": {},
   "outputs": [],
   "source": []
  }
 ],
 "metadata": {
  "kernelspec": {
   "display_name": "Python 3",
   "language": "python",
   "name": "python3"
  },
  "language_info": {
   "codemirror_mode": {
    "name": "ipython",
    "version": 3
   },
   "file_extension": ".py",
   "mimetype": "text/x-python",
   "name": "python",
   "nbconvert_exporter": "python",
   "pygments_lexer": "ipython3",
   "version": "3.7.7"
  }
 },
 "nbformat": 4,
 "nbformat_minor": 4
}
