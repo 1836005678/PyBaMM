{
 "cells": [
  {
   "cell_type": "code",
   "execution_count": 39,
   "id": "fantastic-bottom",
   "metadata": {},
   "outputs": [],
   "source": [
    "import pybamm\n",
    "\n",
    "model = pybamm.lithium_ion.SPM()\n",
    "\n",
    "for event in model.events:\n",
    "    print(event.name)\n",
    "    model.variables.update({event.name: event.expression})\n",
    "    \n",
    "sim = pybamm.Simulation(model)  \n",
    "sim.step(100)\n",
    "sim.solution[\"Maximum voltage\"].entries"
   ]
  },
  {
   "cell_type": "code",
   "execution_count": 40,
   "id": "respective-label",
   "metadata": {},
   "outputs": [
    {
     "name": "stdout",
     "output_type": "stream",
     "text": [
      "Zero negative electrode porosity cut-off\n",
      "Max negative electrode porosity cut-off\n",
      "Zero positive electrode porosity cut-off\n",
      "Max positive electrode porosity cut-off\n",
      "Zero electrolyte concentration cut-off\n",
      "Minimum voltage\n",
      "Maximum voltage\n",
      "Minimum voltage switch\n",
      "Maximum voltage switch\n"
     ]
    }
   ],
   "source": []
  },
  {
   "cell_type": "code",
   "execution_count": 41,
   "id": "elementary-destination",
   "metadata": {},
   "outputs": [],
   "source": []
  },
  {
   "cell_type": "code",
   "execution_count": 42,
   "id": "mounted-optimum",
   "metadata": {},
   "outputs": [
    {
     "data": {
      "text/plain": [
       "<pybamm.solvers.solution.Solution at 0x7f0cb15b13a0>"
      ]
     },
     "execution_count": 42,
     "metadata": {},
     "output_type": "execute_result"
    }
   ],
   "source": []
  },
  {
   "cell_type": "code",
   "execution_count": 38,
   "id": "minimal-staff",
   "metadata": {},
   "outputs": [
    {
     "data": {
      "text/plain": [
       "array([-12.45170375, -13.21123183])"
      ]
     },
     "execution_count": 38,
     "metadata": {},
     "output_type": "execute_result"
    }
   ],
   "source": []
  },
  {
   "cell_type": "code",
   "execution_count": null,
   "id": "rolled-football",
   "metadata": {},
   "outputs": [],
   "source": []
  }
 ],
 "metadata": {
  "kernelspec": {
   "display_name": "Python 3",
   "language": "python",
   "name": "python3"
  },
  "language_info": {
   "codemirror_mode": {
    "name": "ipython",
    "version": 3
   },
   "file_extension": ".py",
   "mimetype": "text/x-python",
   "name": "python",
   "nbconvert_exporter": "python",
   "pygments_lexer": "ipython3",
   "version": "3.8.11"
  }
 },
 "nbformat": 4,
 "nbformat_minor": 5
}
