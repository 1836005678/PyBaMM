{
 "cells": [
  {
   "cell_type": "code",
   "execution_count": 1,
   "metadata": {},
   "outputs": [],
   "source": [
    "import pybamm"
   ]
  },
  {
   "cell_type": "code",
   "execution_count": 2,
   "metadata": {},
   "outputs": [],
   "source": [
    "model = pybamm.lithium_ion.SPM()"
   ]
  },
  {
   "cell_type": "code",
   "execution_count": 3,
   "metadata": {},
   "outputs": [
    {
     "data": {
      "text/plain": [
       "[]"
      ]
     },
     "execution_count": 3,
     "metadata": {},
     "output_type": "execute_result"
    }
   ],
   "source": [
    "model.input_parameters"
   ]
  },
  {
   "cell_type": "code",
   "execution_count": 4,
   "metadata": {},
   "outputs": [
    {
     "data": {
      "text/plain": [
       "['Maximum concentration in negative electrode [mol.m-3]',\n",
       " 'Negative electrode thickness [m]',\n",
       " 'Separator thickness [m]',\n",
       " 'Positive electrode thickness [m]',\n",
       " 'Typical current [A]',\n",
       " 'Number of electrodes connected in parallel to make a cell',\n",
       " 'Electrode width [m]',\n",
       " 'Electrode height [m]',\n",
       " 'Negative particle radius [m]',\n",
       " 'Reference temperature [K]',\n",
       " 'Positive particle radius [m]',\n",
       " 'Maximum concentration in positive electrode [mol.m-3]',\n",
       " 'Cell capacity [A.h]',\n",
       " 'Negative electrode active material volume fraction',\n",
       " 'Positive electrode active material volume fraction',\n",
       " 'Negative electrode surface area to volume ratio [m-1]',\n",
       " 'Positive electrode surface area to volume ratio [m-1]',\n",
       " 'Typical electrolyte concentration [mol.m-3]',\n",
       " 'Initial temperature [K]',\n",
       " 'Negative electrode Bruggeman coefficient (electrolyte)',\n",
       " 'Separator Bruggeman coefficient (electrolyte)',\n",
       " 'Positive electrode Bruggeman coefficient (electrolyte)',\n",
       " 'Negative electrode Bruggeman coefficient (electrode)',\n",
       " 'Separator Bruggeman coefficient (electrode)',\n",
       " 'Positive electrode Bruggeman coefficient (electrode)',\n",
       " 'Negative electrode electrons in reaction',\n",
       " 'Positive electrode electrons in reaction',\n",
       " 'Number of cells connected in series to make a battery',\n",
       " 'Lower voltage cut-off [V]',\n",
       " 'Upper voltage cut-off [V]']"
      ]
     },
     "execution_count": 4,
     "metadata": {},
     "output_type": "execute_result"
    }
   ],
   "source": [
    "[param.name for param in model.parameters]"
   ]
  },
  {
   "cell_type": "code",
   "execution_count": 5,
   "metadata": {},
   "outputs": [],
   "source": [
    "geometry = model.default_geometry"
   ]
  },
  {
   "cell_type": "code",
   "execution_count": 6,
   "metadata": {},
   "outputs": [
    {
     "data": {
      "text/plain": [
       "[Parameter(-0x6e62c48430b494e8, Negative electrode thickness [m], children=[], domain=[], auxiliary_domains={}),\n",
       " Parameter(0x346cbed00339412f, Separator thickness [m], children=[], domain=[], auxiliary_domains={}),\n",
       " Parameter(-0xc769984b89bbf4d, Positive electrode thickness [m], children=[], domain=[], auxiliary_domains={})]"
      ]
     },
     "execution_count": 6,
     "metadata": {},
     "output_type": "execute_result"
    }
   ],
   "source": [
    "geometry.parameters"
   ]
  },
  {
   "cell_type": "code",
   "execution_count": 7,
   "metadata": {},
   "outputs": [
    {
     "data": {
      "text/plain": [
       "<pybamm.models.base_model.ParamClass at 0x7fe058b45ac8>"
      ]
     },
     "execution_count": 7,
     "metadata": {},
     "output_type": "execute_result"
    }
   ],
   "source": [
    "model.param"
   ]
  },
  {
   "cell_type": "code",
   "execution_count": null,
   "metadata": {},
   "outputs": [],
   "source": []
  }
 ],
 "metadata": {
  "kernelspec": {
   "display_name": "Python 3",
   "language": "python",
   "name": "python3"
  },
  "language_info": {
   "codemirror_mode": {
    "name": "ipython",
    "version": 3
   },
   "file_extension": ".py",
   "mimetype": "text/x-python",
   "name": "python",
   "nbconvert_exporter": "python",
   "pygments_lexer": "ipython3",
   "version": "3.6.9"
  }
 },
 "nbformat": 4,
 "nbformat_minor": 2
}
