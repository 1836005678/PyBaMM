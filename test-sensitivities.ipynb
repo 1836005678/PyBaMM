{
 "cells": [
  {
   "cell_type": "code",
   "execution_count": 1,
   "metadata": {},
   "outputs": [],
   "source": [
    "import pybamm\n",
    "import casadi\n",
    "import numpy as np\n",
    "from scipy.sparse import eye, linalg, csr_matrix"
   ]
  },
  {
   "cell_type": "markdown",
   "metadata": {},
   "source": []
  },
  {
   "cell_type": "code",
   "execution_count": 2,
   "metadata": {},
   "outputs": [],
   "source": [
    "model = pybamm.lithium_ion.DFN()\n",
    "param = model.default_parameter_values\n",
    "param[\"Negative electrode porosity\"] = 0.3\n",
    "param[\"Separator porosity\"] = 0.3\n",
    "param[\"Positive electrode porosity\"] = 0.3\n",
    "param[\"Cation transference number\"] = pybamm.InputParameter(\"t\")\n",
    "\n",
    "# param = pybamm.ParameterValues({})\n",
    "# model = pybamm.BaseModel()\n",
    "# v = pybamm.Variable(\"v\")\n",
    "# t = pybamm.InputParameter(\"t\")\n",
    "# model.rhs = {v: t}\n",
    "# model.initial_conditions = {v: 1}\n",
    "# model.variables = {\"Terminal voltage [V]\": v}\n",
    "\n",
    "solver = pybamm.CasadiSolver(mode=\"fast\")  # , sensitivity=True)\n",
    "sim = pybamm.Simulation(model, parameter_values=param, solver=solver)\n",
    "t_eval = np.linspace(0,3600,50)\n",
    "sol = sim.solve(t_eval, inputs={\"t\": 0.5})\n",
    "\n",
    "# print(sol[\"X-averaged electrolyte concentration\"].data)\n",
    "var = sol[\"Terminal voltage [V]\"]\n",
    "\n",
    "t = casadi.MX.sym(\"t\")\n",
    "y = casadi.MX.sym(\"y\", sim.built_model.len_rhs_and_alg)\n",
    "p = casadi.MX.sym(\"p\")\n",
    "\n",
    "rhs = casadi.vertcat(\n",
    "    sim.built_model.casadi_rhs(t, y, p),\n",
    "    sim.built_model.casadi_algebraic(t, y, p),\n",
    ")\n",
    "\n",
    "jac_x_func = casadi.Function(\"jac_x\", [t, y, p], [casadi.jacobian(rhs, y)])\n",
    "jac_p_func = casadi.Function(\"jac_x\", [t, y, p], [casadi.jacobian(rhs, p)])"
   ]
  },
  {
   "cell_type": "code",
   "execution_count": 3,
   "metadata": {},
   "outputs": [],
   "source": [
    "# sim_with_sens = pybamm.Simulation(model, parameter_values=param, \n",
    "# #                         solver=pybamm.CasadiSolver(mode=\"fast\", sensitivity=True)\n",
    "#                         solver=pybamm.CasadiSolver(mode=\"fast\", sensitivity=True)\n",
    "# )\n",
    "# sol_with_sens = sim_with_sens.solve(\n",
    "#     np.linspace(0,3600,50), \n",
    "#     inputs={\"t\": 0.5}, \n",
    "# )"
   ]
  },
  {
   "cell_type": "code",
   "execution_count": 4,
   "metadata": {},
   "outputs": [
    {
     "data": {
      "text/plain": [
       "0.10660402900000054"
      ]
     },
     "execution_count": 4,
     "metadata": {},
     "output_type": "execute_result"
    }
   ],
   "source": [
    "sol.solve_time"
   ]
  },
  {
   "cell_type": "code",
   "execution_count": 5,
   "metadata": {},
   "outputs": [],
   "source": [
    "# sol_with_sens.solve_time"
   ]
  },
  {
   "cell_type": "code",
   "execution_count": 6,
   "metadata": {},
   "outputs": [],
   "source": [
    "inp = 0.5\n",
    "x0 = sim.built_model.init_eval(p)\n",
    "S_0 = casadi.Function(\"S_0\", [p], [casadi.jacobian(x0,p)])(inp)"
   ]
  },
  {
   "cell_type": "code",
   "execution_count": 7,
   "metadata": {},
   "outputs": [
    {
     "name": "stdout",
     "output_type": "stream",
     "text": [
      "CPU times: user 170 ms, sys: 21.4 ms, total: 191 ms\n",
      "Wall time: 190 ms\n"
     ]
    }
   ],
   "source": [
    "%%time\n",
    "n = sim.built_model.len_rhs_and_alg\n",
    "for idx in range(len(sol.t)):\n",
    "    ti = sol.t[idx]\n",
    "    ui = sol.y[:, idx]\n",
    "    next_jac_x_eval = jac_x_func(ti, ui, inp)\n",
    "    next_jac_p_eval = jac_p_func(ti, ui, inp)\n",
    "    if idx == 0:\n",
    "        jac_x_eval = next_jac_x_eval\n",
    "        jac_p_eval = next_jac_p_eval\n",
    "    else:\n",
    "        jac_x_eval = casadi.diagcat(jac_x_eval, next_jac_x_eval)\n",
    "        jac_p_eval = casadi.vertcat(jac_p_eval, next_jac_p_eval)"
   ]
  },
  {
   "cell_type": "code",
   "execution_count": 8,
   "metadata": {},
   "outputs": [
    {
     "data": {
      "text/plain": [
       "(68050, 68050)"
      ]
     },
     "execution_count": 8,
     "metadata": {},
     "output_type": "execute_result"
    }
   ],
   "source": [
    "jac_x_eval.shape"
   ]
  },
  {
   "cell_type": "code",
   "execution_count": 9,
   "metadata": {},
   "outputs": [
    {
     "data": {
      "text/plain": [
       "(68050, 1)"
      ]
     },
     "execution_count": 9,
     "metadata": {},
     "output_type": "execute_result"
    }
   ],
   "source": [
    "jac_p_eval.shape"
   ]
  },
  {
   "cell_type": "code",
   "execution_count": 10,
   "metadata": {},
   "outputs": [
    {
     "name": "stdout",
     "output_type": "stream",
     "text": [
      "CPU times: user 301 µs, sys: 6 µs, total: 307 µs\n",
      "Wall time: 312 µs\n"
     ]
    },
    {
     "data": {
      "text/plain": [
       "DM(sparse: 1361-by-1361, 4868 nnz\n",
       " (1, 1) -> -31728.4\n",
       " (2, 1) -> 3525.38\n",
       " (1, 2) -> 31728.4\n",
       " ...\n",
       " (1300, 1360) -> -1.21814\n",
       " (1359, 1360) -> -1670.37\n",
       " (1360, 1360) -> 1671.59)"
      ]
     },
     "execution_count": 10,
     "metadata": {},
     "output_type": "execute_result"
    }
   ],
   "source": [
    "%%time\n",
    "i=0\n",
    "jac_x_eval[n*(i+1):n*(i+2),n*(i+1):n*(i+2)]"
   ]
  },
  {
   "cell_type": "code",
   "execution_count": 12,
   "metadata": {},
   "outputs": [
    {
     "name": "stdout",
     "output_type": "stream",
     "text": [
      "CPU times: user 42.1 s, sys: 6.11 s, total: 48.2 s\n",
      "Wall time: 6.39 s\n"
     ]
    }
   ],
   "source": [
    "%%time\n",
    "# Solve for sensitivities symbolically\n",
    "# Forward Euler\n",
    "# Sx_all = Sx_0.full()\n",
    "# S_x = Sx_0\n",
    "# n = sim.built_model.len_rhs\n",
    "# for i in range(len(sol.t)-1):\n",
    "#     dt = sol.t[i+1] - sol.t[i]\n",
    "#     S_x = dt * S_x + jac_x_eval[n*i:n*(i+1),n*i:n*(i+1)] @ S_x + jac_p_eval[n*i:n*(i+1)]\n",
    "#     Sx_all = np.hstack([Sx_all, S_x.full()])\n",
    "# Backward Euler\n",
    "# Sx_all = Sx_0.full()\n",
    "# S_x = Sx_0\n",
    "# n = sim.built_model.len_rhs\n",
    "# for i in range(len(sol.t)-1):\n",
    "#     dt = sol.t[i+1] - sol.t[i]\n",
    "#     A = np.eye(n) - dt * jac_x_eval[n*(i+1):n*(i+2),n*(i+1):n*(i+2)]\n",
    "#     b = dt * jac_p_eval[n*(i+1):n*(i+2)] + S_x\n",
    "#     S_x = np.linalg.solve(A,b)\n",
    "#     Sx_all = np.hstack([Sx_all, S_x])\n",
    "# Crank-Nicolson\n",
    "Sx_all = S_0.full()\n",
    "S_x = S_0\n",
    "\n",
    "timer = pybamm.Timer()\n",
    "I = casadi.DM.eye(n)\n",
    "I2 = np.eye(n)\n",
    "# jxf = jac_x_eval.full()\n",
    "for i in range(len(sol.t)-1):\n",
    "#     print(1, timer.time())\n",
    "#     timer.reset()\n",
    "    dt = sol.t[i+1] - sol.t[i]\n",
    "#     print(2, timer.time())\n",
    "#     timer.reset()\n",
    "    A = (\n",
    "#         I2 - dt / 2 * jac_x_eval[n*(i+1):n*(i+2),n*(i+1):n*(i+2)].full()\n",
    "        I - dt / 2 * jac_x_eval[n*(i+1):n*(i+2),n*(i+1):n*(i+2)]\n",
    "    ).full()\n",
    "#     print(3, timer.time())\n",
    "#     timer.reset()\n",
    "    b = (\n",
    "        dt / 2 * (jac_p_eval[n*i:n*(i+1)] + jac_p_eval[n*(i+1):n*(i+2)])\n",
    "        + (I + dt / 2 * jac_x_eval[n*i:n*(i+1),n*i:n*(i+1)]) @ S_x\n",
    "    ).full()\n",
    "#     print(4, timer.time())\n",
    "#     timer.reset()\n",
    "    S_x = np.linalg.solve(A,b)\n",
    "#     print(5, timer.time())\n",
    "#     timer.reset()\n",
    "    Sx_all = np.hstack([Sx_all, S_x])"
   ]
  },
  {
   "cell_type": "markdown",
   "metadata": {},
   "source": [
    "Solve with casadi integrator"
   ]
  },
  {
   "cell_type": "code",
   "execution_count": 18,
   "metadata": {},
   "outputs": [],
   "source": [
    "S_x = casadi.SX.sym(\"S_x\", n)\n",
    "ode = jac_"
   ]
  },
  {
   "cell_type": "code",
   "execution_count": 14,
   "metadata": {},
   "outputs": [
    {
     "data": {
      "text/plain": [
       "DM(sparse: 1361-by-1361, 4868 nnz\n",
       " (1, 1) -> -31728.4\n",
       " (2, 1) -> 3525.38\n",
       " (1, 2) -> 31728.4\n",
       " ...\n",
       " (1300, 1360) -> -1.30835\n",
       " (1359, 1360) -> -1643.65\n",
       " (1360, 1360) -> 1644.96)"
      ]
     },
     "execution_count": 14,
     "metadata": {},
     "output_type": "execute_result"
    }
   ],
   "source": [
    "next_jac_x_eval"
   ]
  },
  {
   "cell_type": "code",
   "execution_count": null,
   "metadata": {
    "scrolled": true
   },
   "outputs": [],
   "source": [
    "%%time\n",
    "np.linalg.solve(A,b)\n",
    "b.shape"
   ]
  },
  {
   "cell_type": "code",
   "execution_count": null,
   "metadata": {},
   "outputs": [],
   "source": [
    "jac_x_eval[n*(i+1):n*(i+2),n*(i+1):n*(i+2)]"
   ]
  },
  {
   "cell_type": "code",
   "execution_count": null,
   "metadata": {
    "scrolled": false
   },
   "outputs": [],
   "source": [
    "Sx_all[:,1][61:] / (sol_with_sens.sensitivity[\"t\"][121:242])[61:].T"
   ]
  },
  {
   "cell_type": "code",
   "execution_count": null,
   "metadata": {},
   "outputs": [],
   "source": [
    "Sx_all[:,1][61:] - (sol_with_sens.sensitivity[\"t\"][121:242])[61:].T"
   ]
  },
  {
   "cell_type": "code",
   "execution_count": null,
   "metadata": {},
   "outputs": [],
   "source": [
    "%%time\n",
    "# Convert variable to casadi format for differentiating\n",
    "var_casadi = var.base_variable.to_casadi(t, y, inputs={\"t\": p})\n",
    "dvar_dy = casadi.jacobian(var_casadi, y)\n",
    "dvar_dp = casadi.jacobian(var_casadi, p)\n",
    "\n",
    "# Convert to functions and evaluate index-by-index\n",
    "dvar_dy_func = casadi.Function(\n",
    "    \"dvar_dy\", [t, y, p], [dvar_dy]\n",
    ")\n",
    "dvar_dp_func = casadi.Function(\n",
    "    \"dvar_dp\", [t, y, p], [dvar_dp]\n",
    ")\n",
    "for idx in range(len(var.t_sol)):\n",
    "    ti = var.t_sol[idx]\n",
    "    ui = var.u_sol[:, idx]\n",
    "    next_dvar_dy_eval = dvar_dy_func(ti, ui, inp)\n",
    "    next_dvar_dp_eval = dvar_dp_func(ti, ui, inp)\n",
    "    if idx == 0:\n",
    "        dvar_dy_eval = next_dvar_dy_eval\n",
    "        dvar_dp_eval = next_dvar_dp_eval\n",
    "    else:\n",
    "        dvar_dy_eval = casadi.vertcat(dvar_dy_eval, next_dvar_dy_eval)\n",
    "        dvar_dp_eval = casadi.vertcat(dvar_dp_eval, next_dvar_dp_eval)"
   ]
  },
  {
   "cell_type": "code",
   "execution_count": null,
   "metadata": {},
   "outputs": [],
   "source": [
    "S_var = dvar_dy_eval @ Sx_all + dvar_dp_eval"
   ]
  },
  {
   "cell_type": "code",
   "execution_count": null,
   "metadata": {},
   "outputs": [],
   "source": [
    "dvar_dy_eval.shape"
   ]
  },
  {
   "cell_type": "code",
   "execution_count": null,
   "metadata": {},
   "outputs": [],
   "source": [
    "sol_with_sens[\"Terminal voltage [V]\"].sensitivity[\"all\"].shape"
   ]
  },
  {
   "cell_type": "code",
   "execution_count": null,
   "metadata": {},
   "outputs": [],
   "source": [
    "np.diag(S_var - sol_with_sens[\"Terminal voltage [V]\"].sensitivity[\"all\"])"
   ]
  },
  {
   "cell_type": "markdown",
   "metadata": {},
   "source": [
    "## Finite difference for comparison"
   ]
  },
  {
   "cell_type": "code",
   "execution_count": 17,
   "metadata": {},
   "outputs": [
    {
     "name": "stdout",
     "output_type": "stream",
     "text": [
      "CPU times: user 227 ms, sys: 6.25 ms, total: 233 ms\n",
      "Wall time: 231 ms\n"
     ]
    }
   ],
   "source": [
    "%%time\n",
    "h = 1e-8\n",
    "sol_fd = (\n",
    "    sim.solve(t_eval, inputs={\"t\": 0.5+h})[\"Terminal voltage [V]\"].data\n",
    "    - sim.solve(t_eval, inputs={\"t\": 0.5})[\"Terminal voltage [V]\"].data\n",
    ") / h"
   ]
  },
  {
   "cell_type": "code",
   "execution_count": null,
   "metadata": {},
   "outputs": [],
   "source": [
    "sol_fd- sol_with_sens[\"Terminal voltage [V]\"].sensitivity[\"all\"]"
   ]
  },
  {
   "cell_type": "code",
   "execution_count": 16,
   "metadata": {},
   "outputs": [
    {
     "name": "stdout",
     "output_type": "stream",
     "text": [
      "CPU times: user 122 ms, sys: 6.74 ms, total: 129 ms\n",
      "Wall time: 127 ms\n"
     ]
    },
    {
     "data": {
      "text/plain": [
       "<pybamm.solvers.solution.Solution at 0x142ad69d0>"
      ]
     },
     "execution_count": 16,
     "metadata": {},
     "output_type": "execute_result"
    }
   ],
   "source": [
    "%%time\n",
    "sim.solve(t_eval, inputs={\"t\": 0.5})"
   ]
  },
  {
   "cell_type": "code",
   "execution_count": 17,
   "metadata": {},
   "outputs": [],
   "source": [
    "from scipy.interpolate import interp1d"
   ]
  },
  {
   "cell_type": "code",
   "execution_count": 19,
   "metadata": {},
   "outputs": [
    {
     "name": "stdout",
     "output_type": "stream",
     "text": [
      "CPU times: user 165 ms, sys: 99.4 ms, total: 264 ms\n",
      "Wall time: 263 ms\n"
     ]
    }
   ],
   "source": [
    "%%time\n",
    "n = sim.built_model.len_rhs_and_alg\n",
    "for idx in range(len(sol.t)):\n",
    "    ti = sol.t[idx]\n",
    "    ui = sol.y[:, idx]\n",
    "    next_jac_x_eval = jac_x_func(ti, ui, inp)\n",
    "    next_jac_p_eval = jac_p_func(ti, ui, inp)\n",
    "    if idx == 0:\n",
    "        jac_x_eval = next_jac_x_eval\n",
    "        jac_p_eval = next_jac_p_eval\n",
    "    else:\n",
    "        jac_x_eval = casadi.diagcat(jac_x_eval, next_jac_x_eval)\n",
    "        jac_p_eval = casadi.vertcat(jac_p_eval, next_jac_p_eval)"
   ]
  },
  {
   "cell_type": "code",
   "execution_count": 22,
   "metadata": {},
   "outputs": [
    {
     "data": {
      "text/plain": [
       "DM([3.00095, -3.09973, 0.730214, 0.427567, 2.73288])"
      ]
     },
     "execution_count": 22,
     "metadata": {},
     "output_type": "execute_result"
    }
   ],
   "source": [
    "A = casadi.DM(np.random.rand(5,5))\n",
    "b = casadi.DM([1,2,3,4,5])\n",
    "casadi.solve(A,b)"
   ]
  },
  {
   "cell_type": "code",
   "execution_count": null,
   "metadata": {},
   "outputs": [],
   "source": []
  }
 ],
 "metadata": {
  "kernelspec": {
   "display_name": "Python 3",
   "language": "python",
   "name": "python3"
  },
  "language_info": {
   "codemirror_mode": {
    "name": "ipython",
    "version": 3
   },
   "file_extension": ".py",
   "mimetype": "text/x-python",
   "name": "python",
   "nbconvert_exporter": "python",
   "pygments_lexer": "ipython3",
   "version": "3.7.7"
  }
 },
 "nbformat": 4,
 "nbformat_minor": 4
}
