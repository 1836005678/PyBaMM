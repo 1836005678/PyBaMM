{
 "cells": [
  {
   "cell_type": "code",
   "execution_count": 1,
   "metadata": {},
   "outputs": [],
   "source": [
    "#%pip install pybamm -q    # install PyBaMM if it is not installed\n",
    "import os\n",
    "import matplotlib.pyplot as plt\n",
    "import numpy as np\n",
    "import pybamm\n",
    "import pandas as pd\n",
    "import timeit\n",
    "from matplotlib import style\n",
    "style.use('ggplot')\n",
    "start = timeit.default_timer()\n",
    "os.chdir(pybamm.__path__[0]+'/..')\n",
    "pybamm.set_logging_level(\"INFO\")"
   ]
  },
  {
   "cell_type": "code",
   "execution_count": null,
   "metadata": {},
   "outputs": [
    {
     "name": "stderr",
     "output_type": "stream",
     "text": [
      "2021-07-26 09:12:20,988 - [INFO] parameter_values.process_model(411): Start setting parameters for Doyle-Fuller-Newman model\n",
      "2021-07-26 09:12:21,212 - [INFO] parameter_values.process_model(501): Finish setting parameters for Doyle-Fuller-Newman model\n",
      "2021-07-26 09:12:21,214 - [INFO] discretisation.process_model(137): Start discretising Doyle-Fuller-Newman model\n",
      "2021-07-26 09:12:22,322 - [INFO] discretisation.process_model(239): Finish discretising Doyle-Fuller-Newman model\n",
      "2021-07-26 09:12:22,323 - [INFO] base_solver.solve(554): Start solving Doyle-Fuller-Newman model with CasADi solver with 'safe' mode\n",
      "2021-07-26 09:12:22,328 - [INFO] base_solver.set_up(140): Start solver set-up\n",
      "2021-07-26 09:12:22,706 - [INFO] base_solver.set_up(426): Finish solver set-up\n"
     ]
    }
   ],
   "source": [
    "model = pybamm.lithium_ion.BasicDFNComposite()\n",
    "chemistry = pybamm.parameter_sets.Chen2020_composite\n",
    "param = pybamm.ParameterValues(chemistry=chemistry)\n",
    "# model = pybamm.lithium_ion.DFN()\n",
    "# param = model.default_parameter_values\n",
    "param.update({\"Upper voltage cut-off [V]\": 4.5})\n",
    "param.update({\"Lower voltage cut-off [V]\": 2})\n",
    "param.update({\n",
    "    \"Maximum concentration in negative electrode of phase 1 [mol.m-3]\":28700,\n",
    "    \"Initial concentration in negative electrode of phase 1 [mol.m-3]\":23000,\n",
    "    \"Negative electrode mass fraction of phase 1\":0.98,\n",
    "    \"Negative electrode mass fraction of phase 2\":0.02,\n",
    "    \"Initial concentration in negative electrode of phase 2 [mol.m-3]\":277000,\n",
    "    \"Maximum concentration in negative electrode of phase 2 [mol.m-3]\":278000,\n",
    "    })\n",
    "\n",
    "# initial concentration of graphite 29866 [mol.m-3]\n",
    "# -> 0.9134 * 25830 + 0.0866 * 275220\n",
    "\n",
    "C_rates = 0.01\n",
    "Q_cell = 4.89 # [Ah]\n",
    "period = 3600 / C_rates * Q_cell / 5\n",
    "rest_period = 3600\n",
    "rest_period2 = 3600\n",
    "transition = period / 400\n",
    "timestep=[rest_period, period, rest_period2, period]\n",
    "points=[101,401,101,401]\n",
    "t_evals=[]\n",
    "t0 = 0\n",
    "for i in range(0,len(timestep)):\n",
    "    t1 = np.linspace(t0, t0 + timestep[i] - transition, points[i])\n",
    "    t0 += timestep[i]\n",
    "    if i<len(timestep)-1:\n",
    "        t2 = np.linspace(t0 - transition, t0 + transition, 41) # transition points\n",
    "    else:\n",
    "        t2 = []\n",
    "    t_evals=np.concatenate((t_evals, t1 ,t2))\n",
    "\n",
    "t_evals = np.unique(t_evals)\n",
    "capacity = param[\"Nominal cell capacity [A.h]\"]\n",
    "I_load = C_rates * capacity  \n",
    "\n",
    "def I_fun(A):\n",
    "    def current(t):\n",
    "        C_rates = 0.01\n",
    "        Q_cell = 4.89 # [Ah]\n",
    "        period = 3600 / C_rates * Q_cell / 5\n",
    "        rest_period = 3600\n",
    "        rest_period2 = 3600\n",
    "        k = 20\n",
    "        rest = pybamm.sigmoid( t , rest_period, k)\n",
    "        discharge = pybamm.sigmoid( t , rest_period + period, k) - rest\n",
    "        # rest3 = pybamm.sigmoid( rest_period + period * 2 + rest_period2, t, k)\n",
    "        charge = pybamm.sigmoid( rest_period + period + rest_period2, t, k)\n",
    "        return A * discharge - A * charge\n",
    "        # return A * (t < period) - A * (t >= period)\n",
    "        # return A * 0.2 * pybamm.sin(2 * np.pi * t / 7200 )\n",
    "    return current\n",
    "\n",
    "\n",
    "param[\"Current function [A]\"] = I_fun(I_load)\n",
    "\n",
    "sim1 = pybamm.Simulation(\n",
    "    model,\n",
    "    parameter_values=param,\n",
    "    solver=pybamm.CasadiSolver(dt_max = 10),\n",
    ")\n",
    "solution = sim1.solve(t_eval = t_evals)\n",
    "stop = timeit.default_timer()\n",
    "print(\"running time: \" + str(stop - start) + \"s\")"
   ]
  },
  {
   "cell_type": "code",
   "execution_count": null,
   "metadata": {
    "scrolled": true
   },
   "outputs": [],
   "source": [
    "# plot\n",
    "plot = pybamm.QuickPlot( solution, [       \n",
    "        \"Current [A]\",\n",
    "        \"Terminal voltage [V]\",\n",
    "        \"X-averaged negative electrode open circuit potential of phase 1 [V]\",\n",
    "        \"X-averaged negative electrode open circuit potential of phase 2 [V]\",\n",
    "    ]\n",
    ")\n",
    "plot.dynamic_plot()\n"
   ]
  },
  {
   "cell_type": "code",
   "execution_count": null,
   "metadata": {},
   "outputs": [],
   "source": [
    "current = solution[\"Current [A]\"].entries\n",
    "times = solution[\"Time [s]\"].entries / 3600\n",
    "voltage = solution[\"Terminal voltage [V]\"].entries\n",
    "ocp_p1 = solution[\"X-averaged negative electrode open circuit potential of phase 1 [V]\"].entries\n",
    "ocp_p2 = solution[\"X-averaged negative electrode open circuit potential of phase 2 [V]\"].entries\n",
    "ocp_chen = pd.read_csv (\"wip/data/negative_ocp_LGM50.txt\", delimiter= '\\s+',header=None,comment='#')\n",
    "capacity = current * 0\n",
    "capacity_max = 0\n",
    "time_discharge = 0\n",
    "Q_t = 0\n",
    "for i in range(1,len(current)):\n",
    "    Q_t += (current[i] + current[i - 1]) / 2 * (times[i] - times[i-1])\n",
    "    capacity[i] = Q_t\n",
    "capacity = Q_cell - capacity"
   ]
  },
  {
   "cell_type": "code",
   "execution_count": null,
   "metadata": {},
   "outputs": [],
   "source": [
    "V1_Niall = pd.read_csv (\"wip/data/NDK01_14_001C_1.txt\", delimiter= '\\s+',header=1,comment='#')\n",
    "V2_Niall = pd.read_csv (\"wip/data/NDK01_14_001C_2.txt\", delimiter= '\\s+',header=1,comment='#')\n",
    "plt.plot(capacity,voltage,'b--',label='Simulation')\n",
    "plt.plot(Q_cell - V2_Niall.values[:,4]/1000,V2_Niall.values[:,0],'r-',label='Experiment')\n",
    "plt.plot(V1_Niall.values[:,4]/1000,V1_Niall.values[:,0],'r-',label=None)\n",
    "plt.xlabel(\"Capacity [Ah]\")\n",
    "plt.ylabel(\"Voltage [V]\")\n",
    "plt.title(\"Cell voltage [V]\")\n",
    "plt.legend()"
   ]
  },
  {
   "cell_type": "code",
   "execution_count": null,
   "metadata": {
    "scrolled": true
   },
   "outputs": [],
   "source": [
    "plt.plot(capacity,ocp_p1,'r--',label='Graphite')\n",
    "plt.plot(capacity,ocp_p2,'b:',label='Silicon')\n",
    "plt.plot(ocp_chen.values[:,0],ocp_chen.values[:,1],'k-',label='Composite (Chen et al. 2020)')\n",
    "plt.xlabel(\"Capacity [Ah]\")\n",
    "plt.ylabel(\"Equilibrium potential [V]\")\n",
    "plt.title(\"C/100\")\n",
    "plt.legend()"
   ]
  },
  {
   "cell_type": "code",
   "execution_count": null,
   "metadata": {
    "scrolled": true
   },
   "outputs": [],
   "source": [
    "plt.plot(times,ocp_p1,'r--',label='Graphite')\n",
    "plt.plot(times,ocp_p2,'b:',label='Silicon')\n",
    "plt.xlabel(\"Time [h]\")\n",
    "plt.ylabel(\"Equilibrium potential [V]\")\n",
    "plt.title(\"C/100\")\n",
    "plt.legend()\n",
    "# plt.xlim([100, 103])\n",
    "# plt.ylim([0.4, 1])"
   ]
  },
  {
   "cell_type": "code",
   "execution_count": null,
   "metadata": {},
   "outputs": [],
   "source": [
    "c_s_xrav_n_p1 = solution[\"Averaged negative electrode concentration of phase 1\"].entries\n",
    "c_s_xrav_n_p2 = solution[\"Averaged negative electrode concentration of phase 2\"].entries\n",
    "plt.plot(capacity, c_s_xrav_n_p1,'r-', label='Graphite')\n",
    "plt.plot(capacity, c_s_xrav_n_p2, 'b:',label='Silicon')\n",
    "plt.xlabel(\"Capacity [Ah]\")\n",
    "plt.ylabel(\"$c/c_\\mathrm{max}$\")\n",
    "# plt.ylim([0,0.02])\n",
    "plt.legend()"
   ]
  },
  {
   "cell_type": "code",
   "execution_count": null,
   "metadata": {},
   "outputs": [],
   "source": [
    "plt.plot(c_s_xrav_n_p1, ocp_p1,'r-', label='Graphite')\n",
    "plt.plot(c_s_xrav_n_p2, ocp_p2, 'b:',label='Silicon')\n",
    "plt.xlabel(\"$c/c_\\mathrm{max}$\")\n",
    "plt.ylabel(\"Equilibrium potential [V]\")\n",
    "plt.title(\"C/100\")\n",
    "# plt.ylim([0,0.02])\n",
    "plt.legend()"
   ]
  },
  {
   "cell_type": "code",
   "execution_count": null,
   "metadata": {},
   "outputs": [],
   "source": [
    "j_n_p1_av = solution[\"X-averaged negative electrode interfacial current density of phase 1 [A.m-2]\"].entries\n",
    "j_n_p2_av = solution[\"X-averaged negative electrode interfacial current density of phase 2 [A.m-2]\"].entries\n",
    "plt.plot(times, j_n_p1_av,'r-', label='Graphite')\n",
    "plt.plot(times, j_n_p2_av, 'b:',label='Silicon')\n",
    "plt.xlabel(\"Time [h]\")\n",
    "plt.ylabel(\"Interfacial current density [A/m$^{2}$]\")\n",
    "# plt.ylim([-0.2, 0.8])\n",
    "# plt.xlim([96, 102])\n",
    "plt.legend()"
   ]
  },
  {
   "cell_type": "code",
   "execution_count": null,
   "metadata": {},
   "outputs": [],
   "source": [
    "j_n_p1_av = solution[\"X-averaged negative electrode interfacial current density of phase 1 [A.m-2]\"].entries\n",
    "j_n_p2_av = solution[\"X-averaged negative electrode interfacial current density of phase 2 [A.m-2]\"].entries\n",
    "plt.plot(times, j_n_p1_av,'r-', label='Graphite')\n",
    "plt.plot(times, j_n_p2_av, 'b:',label='Silicon')\n",
    "plt.xlabel(\"Time [h]\")\n",
    "plt.ylabel(\"Interfacial current density [A/m$^{2}$]\")\n",
    "# plt.ylim([-0.2, 0.8])\n",
    "plt.xlim([96, 102])\n",
    "plt.legend()"
   ]
  },
  {
   "cell_type": "code",
   "execution_count": null,
   "metadata": {},
   "outputs": [],
   "source": [
    "return"
   ]
  },
  {
   "cell_type": "code",
   "execution_count": null,
   "metadata": {},
   "outputs": [],
   "source": [
    "c_n_max= param[\"Maximum concentration in negative electrode [mol.m-3]\"]\n",
    "F = 96485.3329 #s A / mol\n",
    "L_n =  param[\"Negative electrode thickness [m]\"]\n",
    "L_p =  param[\"Positive electrode thickness [m]\"]\n",
    "L_s =  param[\"Separator thickness [m]\"]\n",
    "I_typ = param[\"Typical current [A]\"]\n",
    "ne= param[\"Number of electrodes connected in parallel to make a cell\"]\n",
    "L_width = param[\"Electrode width [m]\"]\n",
    "L_height = param[\"Electrode height [m]\"]\n",
    "timescale = c_n_max * F * (L_p + L_n + L_s) / abs(I_typ / (ne * L_width * L_height))\n",
    "print(timescale)"
   ]
  },
  {
   "cell_type": "code",
   "execution_count": null,
   "metadata": {},
   "outputs": [],
   "source": [
    "print(min(c_s_xrav_n_p1))"
   ]
  },
  {
   "cell_type": "code",
   "execution_count": null,
   "metadata": {},
   "outputs": [],
   "source": [
    "print(range(0,len(timestep)))"
   ]
  },
  {
   "cell_type": "code",
   "execution_count": null,
   "metadata": {},
   "outputs": [],
   "source": []
  }
 ],
 "metadata": {
  "kernelspec": {
   "display_name": "Python 3",
   "language": "python",
   "name": "python3"
  },
  "language_info": {
   "codemirror_mode": {
    "name": "ipython",
    "version": 3
   },
   "file_extension": ".py",
   "mimetype": "text/x-python",
   "name": "python",
   "nbconvert_exporter": "python",
   "pygments_lexer": "ipython3",
   "version": "3.7.10"
  }
 },
 "nbformat": 4,
 "nbformat_minor": 5
}
