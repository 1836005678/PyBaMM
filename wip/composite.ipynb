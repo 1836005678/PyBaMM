{
 "cells": [
  {
   "cell_type": "code",
   "execution_count": null,
   "metadata": {},
   "outputs": [],
   "source": [
    "#%pip install pybamm -q    # install PyBaMM if it is not installed\n",
    "import os\n",
    "import matplotlib.pyplot as plt\n",
    "import numpy as np\n",
    "import pybamm\n",
    "import pandas as pd\n",
    "import timeit\n",
    "from matplotlib import style\n",
    "style.use('ggplot')\n",
    "start = timeit.default_timer()\n",
    "os.chdir(pybamm.__path__[0]+'/..')\n",
    "pybamm.set_logging_level(\"INFO\")"
   ]
  },
  {
   "cell_type": "code",
   "execution_count": null,
   "metadata": {},
   "outputs": [],
   "source": [
    "model = pybamm.lithium_ion.BasicDFNComposite()\n",
    "chemistry = pybamm.parameter_sets.Chen2020_composite\n",
    "param = pybamm.ParameterValues(chemistry=chemistry)\n",
    "# model = pybamm.lithium_ion.DFN()\n",
    "# param = model.default_parameter_values\n",
    "param.update({\"Upper voltage cut-off [V]\": 4.5})\n",
    "param.update({\"Lower voltage cut-off [V]\": 2})\n",
    "param.update({\n",
    "    \"Maximum concentration in negative electrode of phase 1 [mol.m-3]\":28700,\n",
    "    \"Initial concentration in negative electrode of phase 1 [mol.m-3]\":23108,\n",
    "    \"Negative electrode mass fraction of phase 1\":0.9,\n",
    "    \"Negative electrode diffusivity of phase 1 [m2.s-1]\":3.3E-14,\n",
    "    \"Negative electrode mass fraction of phase 2\":0.1,\n",
    "    \"Initial concentration in negative electrode of phase 2 [mol.m-3]\":264100,\n",
    "    })\n",
    "\n",
    "C_rates = 0.01\n",
    "period = 3600 / C_rates\n",
    "rest_period = 3600\n",
    "transition = 10\n",
    "t1 = np.linspace(0, rest_period - transition, 201)\n",
    "t2 = np.linspace(rest_period - transition, rest_period + transition, 51)\n",
    "t3 = np.linspace(rest_period + transition, rest_period + period - transition, 401)\n",
    "t4 = np.linspace(rest_period + period - transition, rest_period + period + transition, 51)\n",
    "t5 = np.linspace(rest_period + period + transition, rest_period + period * 2, 401)\n",
    "t_evals = np.concatenate((t1,t2,t3,t4,t5), axis=None)\n",
    "t_evals = np.unique(t_evals)\n",
    "capacity = param[\"Nominal cell capacity [A.h]\"]\n",
    "current = C_rates * capacity\n",
    "\n",
    "\n",
    "def I_fun(A):\n",
    "    def current(t):\n",
    "        C_rates = 0.01\n",
    "        period = 3600 / C_rates\n",
    "        rest_period = 3600\n",
    "        k = 10\n",
    "        rest = pybamm.sigmoid( t , rest_period, k)\n",
    "        discharge = pybamm.sigmoid( t , rest_period + period, k) - rest\n",
    "        charge = pybamm.sigmoid( rest_period + period, t, k)\n",
    "        return A * discharge - A * charge\n",
    "        # return A * (t < period) - A * (t >= period)\n",
    "        # return A * 0.2 * pybamm.sin(2 * np.pi * t / 7200 )\n",
    "    return current\n",
    "\n",
    "\n",
    "param[\"Current function [A]\"] = I_fun(current)\n",
    "\n",
    "sim1 = pybamm.Simulation(\n",
    "    model,\n",
    "    parameter_values=param,\n",
    "    solver=pybamm.CasadiSolver(dt_max = 10),\n",
    ")\n",
    "solution = sim1.solve(t_eval = t_evals)\n",
    "stop = timeit.default_timer()\n",
    "print(\"running time: \" + str(stop - start) + \"s\")"
   ]
  },
  {
   "cell_type": "code",
   "execution_count": null,
   "metadata": {
    "scrolled": true
   },
   "outputs": [],
   "source": [
    "# plot\n",
    "plot = pybamm.QuickPlot( solution, [       \n",
    "        \"Current [A]\",\n",
    "        \"Terminal voltage [V]\",\n",
    "        \"X-averaged negative electrode open circuit potential of phase 1 [V]\",\n",
    "        \"X-averaged negative electrode open circuit potential of phase 2 [V]\",\n",
    "    ]\n",
    ")\n",
    "plot.dynamic_plot()\n"
   ]
  },
  {
   "cell_type": "code",
   "execution_count": null,
   "metadata": {},
   "outputs": [],
   "source": [
    "current = solution[\"Current [A]\"].entries\n",
    "times = solution[\"Time [s]\"].entries / 3600\n",
    "voltage = solution[\"Terminal voltage [V]\"].entries\n",
    "ocp_p1 = solution[\"X-averaged negative electrode open circuit potential of phase 1 [V]\"].entries\n",
    "ocp_p2 = solution[\"X-averaged negative electrode open circuit potential of phase 2 [V]\"].entries\n",
    "ocp_chen = pd.read_csv (\"wip/data/negative_ocp_LGM50.txt\", delimiter= '\\s+',header=None,comment='#')\n",
    "capacity = current * 0\n",
    "capacity_max = 0\n",
    "time_discharge = 0\n",
    "for i in range(0,len(current)):\n",
    "    if current[i]>0:\n",
    "        capacity[i] = (times[i] -rest_period / 3600) * current[i]\n",
    "        capacity_max = max(capacity_max, capacity[i])\n",
    "        time_discharge = times[i]\n",
    "    else:\n",
    "        capacity[i] = capacity_max + (times[i] - time_discharge) * current[i]\n",
    "capacity = 5 - capacity"
   ]
  },
  {
   "cell_type": "code",
   "execution_count": null,
   "metadata": {},
   "outputs": [],
   "source": [
    "plt.plot(capacity,voltage)\n",
    "plt.xlabel(\"Capacity [Ah]\")\n",
    "plt.ylabel(\"Voltage [V]\")\n",
    "plt.title(\"Cell voltage [V]\")"
   ]
  },
  {
   "cell_type": "code",
   "execution_count": null,
   "metadata": {},
   "outputs": [],
   "source": [
    "plt.plot(capacity,ocp_p1,'r--',label='Graphite')\n",
    "plt.plot(capacity,ocp_p2,'b:',label='Silicon')\n",
    "plt.plot(ocp_chen.values[:,0],ocp_chen.values[:,1],'k-',label='Composite (Chen et al. 2020)')\n",
    "plt.xlabel(\"Capacity [Ah]\")\n",
    "plt.ylabel(\"Open circuit potential [V]\")\n",
    "plt.title(\"Cell open circuit potential [V]\")\n",
    "plt.legend()"
   ]
  },
  {
   "cell_type": "code",
   "execution_count": null,
   "metadata": {},
   "outputs": [],
   "source": [
    "c_s_xrav_n_p1 = solution[\"Averaged negative electrode concentration of phase 1\"].entries\n",
    "c_s_xrav_n_p2 = solution[\"Averaged negative electrode concentration of phase 2\"].entries\n",
    "plt.plot(capacity, c_s_xrav_n_p1,'r-', label='Graphite')\n",
    "plt.plot(capacity, c_s_xrav_n_p2, 'b:',label='Silicon')\n",
    "plt.xlabel(\"Capacity [Ah]\")\n",
    "plt.ylabel(\"$c/c_\\mathrm{max}$\")\n",
    "plt.ylim([0,1])\n",
    "plt.legend()"
   ]
  },
  {
   "cell_type": "code",
   "execution_count": null,
   "metadata": {},
   "outputs": [],
   "source": [
    "j_n_p1_av = solution[\"X-averaged negative electrode interfacial current density of phase 1 [A.m-2]\"].entries\n",
    "j_n_p2_av = solution[\"X-averaged negative electrode interfacial current density of phase 2 [A.m-2]\"].entries\n",
    "plt.plot(times, j_n_p1_av,'r-', label='Graphite')\n",
    "plt.plot(times, j_n_p2_av, 'b:',label='Silicon')\n",
    "plt.xlabel(\"Time [h]\")\n",
    "plt.ylabel(\"Interfacial current density [A/m$^{2}$]\")\n",
    "#plt.ylim([-0.05, 0.05])\n",
    "plt.legend()"
   ]
  },
  {
   "cell_type": "code",
   "execution_count": null,
   "metadata": {},
   "outputs": [],
   "source": []
  },
  {
   "cell_type": "code",
   "execution_count": null,
   "metadata": {},
   "outputs": [],
   "source": [
    "return"
   ]
  },
  {
   "cell_type": "code",
   "execution_count": null,
   "metadata": {},
   "outputs": [],
   "source": [
    "c_n_max= param[\"Maximum concentration in negative electrode [mol.m-3]\"]\n",
    "F = 96485.3329 #s A / mol\n",
    "L_n =  param[\"Negative electrode thickness [m]\"]\n",
    "L_p =  param[\"Positive electrode thickness [m]\"]\n",
    "L_s =  param[\"Separator thickness [m]\"]\n",
    "I_typ = param[\"Typical current [A]\"]\n",
    "ne= param[\"Number of electrodes connected in parallel to make a cell\"]\n",
    "L_width = param[\"Electrode width [m]\"]\n",
    "L_height = param[\"Electrode height [m]\"]\n",
    "timescale = c_n_max * F * (L_p + L_n + L_s) / abs(I_typ / (ne * L_width * L_height))\n",
    "print(timescale)"
   ]
  },
  {
   "cell_type": "code",
   "execution_count": null,
   "metadata": {},
   "outputs": [],
   "source": [
    "print(min(c_s_xrav_n_p1))"
   ]
  },
  {
   "cell_type": "code",
   "execution_count": null,
   "metadata": {},
   "outputs": [],
   "source": []
  }
 ],
 "metadata": {
  "kernelspec": {
   "display_name": "Python 3",
   "language": "python",
   "name": "python3"
  },
  "language_info": {
   "codemirror_mode": {
    "name": "ipython",
    "version": 3
   },
   "file_extension": ".py",
   "mimetype": "text/x-python",
   "name": "python",
   "nbconvert_exporter": "python",
   "pygments_lexer": "ipython3",
   "version": "3.7.10"
  }
 },
 "nbformat": 4,
 "nbformat_minor": 5
}
