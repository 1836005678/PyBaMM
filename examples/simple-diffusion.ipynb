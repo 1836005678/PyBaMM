{
 "cells": [
  {
   "cell_type": "markdown",
   "metadata": {},
   "source": [
    "# Simple Diffusion\n",
    "\n",
    "In this example, we solve the simple model\n",
    "$$\\frac{\\partial c}{\\partial t} \n",
    "= \\frac{\\partial}{\\partial x}\\left(D(c)\\frac{\\partial c}{\\partial x}\\right) + sj,\\\\\n",
    "c = 1 \\quad \\text{ at } t=0,\\\\\n",
    "\\frac{\\partial c}{\\partial x} = 0 \\quad \\text{ at } x=0,1$$\n",
    "where $j$ is given by\n",
    "$$\n",
    "j = \\begin{cases}\n",
    "\\frac{i}{\\ell_\\text{n}} \\quad &0 < x < \\ell_\\text{n},\\\\\n",
    "0, \\quad &\\ell_\\text{n} < x < 1 - \\ell_\\text{p},\\\\\n",
    "-\\frac{i}{\\ell_\\text{p}} \\quad &1-\\ell_\\text{p} < x < 1.\\\\\n",
    "\\end{cases}\n",
    "$$"
   ]
  },
  {
   "cell_type": "markdown",
   "metadata": {},
   "source": [
    "## Set Up\n",
    "\n",
    "We begin by importing ``pybamm``"
   ]
  },
  {
   "cell_type": "code",
   "execution_count": 1,
   "metadata": {
    "collapsed": true
   },
   "outputs": [],
   "source": [
    "import pybamm"
   ]
  },
  {
   "cell_type": "markdown",
   "metadata": {},
   "source": [
    "Next, we choose the pre-defined \"Electrolyte diffusion\" model from [pybamm.Model]()"
   ]
  },
  {
   "cell_type": "code",
   "execution_count": 2,
   "metadata": {
    "collapsed": true
   },
   "outputs": [],
   "source": [
    "model = pybamm.Model(\"Electrolyte diffusion\")"
   ]
  },
  {
   "cell_type": "markdown",
   "metadata": {},
   "source": [
    "We then load parameters for the model from [pybamm.Parameters](); passing no arguments will use the default parameter values defined in [input/parameters/default.csv](https://github.com/tinosulzer/PyBaMM/blob/master/input/parameters/default.csv)"
   ]
  },
  {
   "cell_type": "code",
   "execution_count": 3,
   "metadata": {
    "collapsed": false
   },
   "outputs": [],
   "source": [
    "param = pybamm.Parameters()"
   ]
  },
  {
   "cell_type": "markdown",
   "metadata": {},
   "source": [
    "Create the mesh, explain inputs"
   ]
  },
  {
   "cell_type": "code",
   "execution_count": 4,
   "metadata": {
    "collapsed": false
   },
   "outputs": [],
   "source": [
    "tsteps = 100\n",
    "tend = 1\n",
    "target_npts = 10\n",
    "mesh = pybamm.Mesh(param, target_npts, tsteps=tsteps, tend=tend)"
   ]
  },
  {
   "cell_type": "markdown",
   "metadata": {},
   "source": [
    "Having created the model, parameters and mesh, we can load all of these into a [pybamm.Simulation]() instance"
   ]
  },
  {
   "cell_type": "code",
   "execution_count": 5,
   "metadata": {
    "collapsed": false
   },
   "outputs": [],
   "source": [
    "sim = pybamm.Simulation(model, param, mesh, name=\"Electrolyte diffusion\")"
   ]
  },
  {
   "cell_type": "markdown",
   "metadata": {},
   "source": [
    "Choose a solver"
   ]
  },
  {
   "cell_type": "code",
   "execution_count": 6,
   "metadata": {
    "collapsed": true
   },
   "outputs": [],
   "source": [
    "solver = pybamm.Solver(integrator=\"BDF\", spatial_discretisation=\"Finite Volumes\")"
   ]
  },
  {
   "cell_type": "markdown",
   "metadata": {},
   "source": [
    "## Running, saving and plotting\n",
    "\n",
    "We are now ready to run our simulation with the chosen solver"
   ]
  },
  {
   "cell_type": "code",
   "execution_count": 7,
   "metadata": {
    "collapsed": false
   },
   "outputs": [],
   "source": [
    "sim.run(solver)"
   ]
  },
  {
   "cell_type": "markdown",
   "metadata": {},
   "source": [
    "Having done this, we can plot the concentration"
   ]
  },
  {
   "cell_type": "code",
   "execution_count": 8,
   "metadata": {
    "collapsed": false
   },
   "outputs": [
    {
     "name": "stdout",
     "output_type": "stream",
     "text": [
      "[[ 1.          0.99201414  0.98508545 ...,  0.09385665  0.08375622\n",
      "   0.07365574]\n",
      " [ 1.          0.99205535  0.98519236 ...,  0.09374185  0.08364141\n",
      "   0.07354092]\n",
      " [ 1.          0.99214228  0.98540934 ...,  0.09351223  0.08341179\n",
      "   0.0733113 ]\n",
      " ..., \n",
      " [ 1.          0.97656052  0.95446414 ..., -0.09140418 -0.10150575\n",
      "  -0.11160728]\n",
      " [ 1.          0.97650973  0.95420951 ..., -0.09300298 -0.10310456\n",
      "  -0.1132061 ]\n",
      " [ 1.          0.97648652  0.95408546 ..., -0.09380238 -0.10390397\n",
      "  -0.1140055 ]]\n"
     ]
    }
   ],
   "source": [
    "# sim.plot(c)"
   ]
  },
  {
   "cell_type": "markdown",
   "metadata": {},
   "source": [
    "and save the simulation for future reference"
   ]
  },
  {
   "cell_type": "code",
   "execution_count": 11,
   "metadata": {
    "collapsed": false
   },
   "outputs": [
    {
     "ename": "NameError",
     "evalue": "name 'sim' is not defined",
     "output_type": "error",
     "traceback": [
      "\u001b[0;31m---------------------------------------------------------------------------\u001b[0m",
      "\u001b[0;31mNameError\u001b[0m                                 Traceback (most recent call last)",
      "\u001b[0;32m<ipython-input-11-f0e817a6d484>\u001b[0m in \u001b[0;36m<module>\u001b[0;34m()\u001b[0m\n\u001b[0;32m----> 1\u001b[0;31m \u001b[0msim\u001b[0m\u001b[0;34m.\u001b[0m\u001b[0msave\u001b[0m\u001b[0;34m(\u001b[0m\u001b[0;34m)\u001b[0m\u001b[0;34m\u001b[0m\u001b[0m\n\u001b[0m",
      "\u001b[0;31mNameError\u001b[0m: name 'sim' is not defined"
     ]
    }
   ],
   "source": [
    "# sim.save()"
   ]
  }
 ],
 "metadata": {
  "kernelspec": {
   "display_name": "Python 3 (anaconda)",
   "language": "python",
   "name": "myenv"
  },
  "language_info": {
   "codemirror_mode": {
    "name": "ipython",
    "version": 3
   },
   "file_extension": ".py",
   "mimetype": "text/x-python",
   "name": "python",
   "nbconvert_exporter": "python",
   "pygments_lexer": "ipython3",
   "version": "3.6.0"
  }
 },
 "nbformat": 4,
 "nbformat_minor": 2
}
