{
 "cells": [
  {
   "cell_type": "markdown",
   "metadata": {},
   "source": [
    "# Adding a Spatial Method\n",
    "\n",
    "Before adding a new spatial method, please read the [contribution guidelines](https://github.com/tinosulzer/PyBaMM/blob/master/CONTRIBUTING.md)\n",
    "\n",
    "Any new spatial method must implement the following operations:\n",
    "- `spatial_variable`\n",
    "- `broadcast`\n",
    "- `gradient` \n",
    "- `divergence`\n",
    "- `integral`\n",
    "- `indefinite integral`\n",
    "\n",
    "Optionally, a new spatial method can also overwrite the default behaviour from the class `SpatialMethod` for the following operations:\n",
    "- `boundary_value`\n",
    "- `mass_matrix`\n",
    "- `compute_diffusivity`\n",
    "\n",
    "For more information on these methods, see the API docs for `SpatialMethod`.\n",
    "\n",
    "For an example of a spatial method implementation, see [Finite Volumes](./finite-volumes.ipynb)"
   ]
  },
  {
   "cell_type": "markdown",
   "metadata": {},
   "source": [
    "------------------------------------------------------------------------------------------------------------------"
   ]
  },
  {
   "cell_type": "markdown",
   "metadata": {},
   "source": [
    "# Adding a Spatial Method\n",
    "\n",
    "Before adding a new spatial method, please read the [contribution guidelines](https://github.com/tinosulzer/PyBaMM/blob/master/CONTRIBUTING.md)\n",
    "\n",
    "Any new spatial method must implement the following operations, which we explain in more detail below:\n",
    "- spatial_variable\n",
    "- broadcast\n",
    "- gradient \n",
    "- divergence\n",
    "- integral\n",
    "- indefinite integral\n",
    "- boundary_value\n",
    "- mass_matrix \n",
    "- compute_diffusivity\n",
    "\n",
    "For an example of a spatial method implementation, see [Finite Volumes](./finite-volumes.ipynb)"
   ]
  },
  {
   "cell_type": "markdown",
   "metadata": {},
   "source": [
    "## Spatial Variable\n",
    "\n",
    "Converts an abstract [SpatialVariable](https://pybamm.readthedocs.io/en/latest/source/expression_tree/independent_variable.html) to a linear algebra object that can be evaluated (e.g. a [Vector](https://pybamm.readthedocs.io/en/latest/source/expression_tree/vector.html))"
   ]
  },
  {
   "cell_type": "markdown",
   "metadata": {},
   "source": [
    "## Broadcast"
   ]
  },
  {
   "cell_type": "code",
   "execution_count": null,
   "metadata": {},
   "outputs": [],
   "source": []
  }
 ],
 "metadata": {
  "kernelspec": {
   "display_name": "Python 3",
   "language": "python",
   "name": "python3"
  },
  "language_info": {
   "codemirror_mode": {
    "name": "ipython",
    "version": 3
   },
   "file_extension": ".py",
   "mimetype": "text/x-python",
   "name": "python",
   "nbconvert_exporter": "python",
   "pygments_lexer": "ipython3",
   "version": "3.6.7"
  }
 },
 "nbformat": 4,
 "nbformat_minor": 2
}
