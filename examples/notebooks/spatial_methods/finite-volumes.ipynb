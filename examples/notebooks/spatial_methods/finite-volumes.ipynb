{
 "cells": [
  {
   "cell_type": "markdown",
   "metadata": {},
   "source": [
    "# Finite Volume Discretisation"
   ]
  },
  {
   "cell_type": "markdown",
   "metadata": {},
   "source": [
    "- Finite Volumes, LeVeque book\n",
    "- Gradient\n",
    "- Divergence\n",
    "- Simplify to Laplacian\n",
    "- Integral\n",
    "- "
   ]
  },
  {
   "cell_type": "markdown",
   "metadata": {},
   "source": [
    "We first import `pybamm` and some useful other modules, and change our working directory to the root of the `PyBaMM` folder:"
   ]
  },
  {
   "cell_type": "code",
   "execution_count": 9,
   "metadata": {},
   "outputs": [],
   "source": [
    "import pybamm\n",
    "import numpy as np\n",
    "import os\n",
    "import matplotlib.pyplot as plt\n",
    "from pprint import pprint\n",
    "os.chdir(pybamm.__path__[0]+'/..')"
   ]
  },
  {
   "cell_type": "markdown",
   "metadata": {},
   "source": [
    "## Setting up a Discretisation"
   ]
  },
  {
   "cell_type": "markdown",
   "metadata": {},
   "source": [
    "To set up a discretisation, we must create a geometry, mesh this geometry, and then create the discretisation with the appropriate spatial method(s). The easiest way to create a geometry is to use an inbuilt one:"
   ]
  },
  {
   "cell_type": "code",
   "execution_count": 14,
   "metadata": {},
   "outputs": [],
   "source": [
    "parameter_values = pybamm.ParameterValues(\n",
    "    base_parameters={\n",
    "        \"Negative electrode width\": 0.3,\n",
    "        \"Separator width\": 0.2,\n",
    "        \"Positive electrode width\": 0.3,\n",
    "    }\n",
    ")\n",
    "\n",
    "geometry = pybamm.Geometry(\"1D macro\", \"1+1D micro\")\n",
    "parameter_values.process_geometry(geometry)"
   ]
  },
  {
   "cell_type": "markdown",
   "metadata": {},
   "source": [
    "We then use this geometry to create a mesh, which for this example consists of uniform 1D submeshes"
   ]
  },
  {
   "cell_type": "code",
   "execution_count": 12,
   "metadata": {},
   "outputs": [],
   "source": [
    "submesh_types = {\n",
    "    \"negative electrode\": pybamm.Uniform1DSubMesh,\n",
    "    \"separator\": pybamm.Uniform1DSubMesh,\n",
    "    \"positive electrode\": pybamm.Uniform1DSubMesh,\n",
    "    \"negative particle\": pybamm.Uniform1DSubMesh,\n",
    "    \"positive particle\": pybamm.Uniform1DSubMesh,\n",
    "}\n",
    "\n",
    "var = pybamm.standard_spatial_vars\n",
    "var_pts = {var.x_n: 40, var.x_s: 25, var.x_p: 35, var.r_n: 10, var.r_p: 10}\n",
    "mesh = pybamm.Mesh(geometry, submesh_types, var_pts)"
   ]
  },
  {
   "cell_type": "markdown",
   "metadata": {},
   "source": [
    "Finally, we can use the mesh to create a discretisation, using Finite Volumes as the spatial method for this example"
   ]
  },
  {
   "cell_type": "code",
   "execution_count": 13,
   "metadata": {},
   "outputs": [],
   "source": [
    "spatial_methods = {\n",
    "    \"macroscale\": pybamm.FiniteVolume,\n",
    "    \"negative particle\": pybamm.FiniteVolume,\n",
    "    \"positive particle\": pybamm.FiniteVolume,\n",
    "}\n",
    "disc = pybamm.Discretisation(mesh, spatial_methods)"
   ]
  },
  {
   "cell_type": "markdown",
   "metadata": {},
   "source": [
    "## Discretisations and Spatial Methods"
   ]
  },
  {
   "cell_type": "markdown",
   "metadata": {},
   "source": [
    "In this notebook, we will work with three variables `u`, `v`, `w`."
   ]
  },
  {
   "cell_type": "code",
   "execution_count": 26,
   "metadata": {},
   "outputs": [],
   "source": [
    "u = pybamm.Variable(\"u\") # u is a variable without a domain (e.g. time, average concentration)\n",
    "macroscale = [\"negative electrode\", \"separator\", \"positive electrode\"]\n",
    "v = pybamm.Variable(\"v\", domain=macroscale) # v is a variable in the macroscale (e.g. electrolyte potential)\n",
    "w = pybamm.Variable(\"w\", domain=[\"negative particle\"]) # w is a variable in the negative particle (e.g. particle concentration)\n",
    "\n",
    "variables = [u,v,w]"
   ]
  },
  {
   "cell_type": "markdown",
   "metadata": {},
   "source": [
    "For any spatial method, a `pybamm.Variable` gets converted to a `pybamm.StateVector` which, when evaluated, takes the appropriate slice of the input vector `y`. "
   ]
  },
  {
   "cell_type": "code",
   "execution_count": 27,
   "metadata": {},
   "outputs": [
    {
     "name": "stdout",
     "output_type": "stream",
     "text": [
      "Discretised u is: StateVector(0x49ecb3d3c6115711, y[0:1], children=[], domain=[])\n",
      "Discretised v is: StateVector(-0x34528f7476fd2c8f, y[1:101], children=[], domain=['negative electrode', 'separator', 'positive electrode'])\n",
      "Discretised w is: StateVector(0x22bf3b1ad766a83a, y[101:501], children=[], domain=['negative particle'])\n"
     ]
    }
   ],
   "source": [
    "# Pass the list of variables to the discretisation to calculate the slices to be used (order matters here!)\n",
    "disc.set_variable_slices(variables)\n",
    "\n",
    "# Discretise the variables\n",
    "u_disc = disc.process_symbol(u)\n",
    "v_disc = disc.process_symbol(v)\n",
    "w_disc = disc.process_symbol(w)\n",
    "\n",
    "# Print the outcome \n",
    "print(\"Discretised u is: {!r}\".format(u_disc))\n",
    "print(\"Discretised v is: {!r}\".format(v_disc))\n",
    "print(\"Discretised w is: {!r}\".format(w_disc))"
   ]
  },
  {
   "cell_type": "markdown",
   "metadata": {},
   "source": [
    "Comment on this output"
   ]
  },
  {
   "cell_type": "code",
   "execution_count": 37,
   "metadata": {},
   "outputs": [],
   "source": [
    "# \n",
    "y_scalar = np.array([5])\n",
    "\n",
    "x = mesh.combine_submeshes(*macroscale)[0].nodes\n",
    "y_macroscale = x**2\n",
    "\n",
    "y = np.concatenate([y_scalar, y_macroscale])"
   ]
  },
  {
   "cell_type": "code",
   "execution_count": 31,
   "metadata": {},
   "outputs": [
    {
     "name": "stdout",
     "output_type": "stream",
     "text": [
      "[0.0046875  0.0140625  0.0234375  0.0328125  0.0421875  0.0515625\n",
      " 0.0609375  0.0703125  0.0796875  0.0890625  0.0984375  0.1078125\n",
      " 0.1171875  0.1265625  0.1359375  0.1453125  0.1546875  0.1640625\n",
      " 0.1734375  0.1828125  0.1921875  0.2015625  0.2109375  0.2203125\n",
      " 0.2296875  0.2390625  0.2484375  0.2578125  0.2671875  0.2765625\n",
      " 0.2859375  0.2953125  0.3046875  0.3140625  0.3234375  0.3328125\n",
      " 0.3421875  0.3515625  0.3609375  0.3703125  0.38       0.39\n",
      " 0.4        0.41       0.42       0.43       0.44       0.45\n",
      " 0.46       0.47       0.48       0.49       0.5        0.51\n",
      " 0.52       0.53       0.54       0.55       0.56       0.57\n",
      " 0.58       0.59       0.6        0.61       0.62       0.63035714\n",
      " 0.64107143 0.65178571 0.6625     0.67321429 0.68392857 0.69464286\n",
      " 0.70535714 0.71607143 0.72678571 0.7375     0.74821429 0.75892857\n",
      " 0.76964286 0.78035714 0.79107143 0.80178571 0.8125     0.82321429\n",
      " 0.83392857 0.84464286 0.85535714 0.86607143 0.87678571 0.8875\n",
      " 0.89821429 0.90892857 0.91964286 0.93035714 0.94107143 0.95178571\n",
      " 0.9625     0.97321429 0.98392857 0.99464286]\n"
     ]
    }
   ],
   "source": [
    "print(x)"
   ]
  },
  {
   "cell_type": "markdown",
   "metadata": {},
   "source": [
    "## Finite Volume Operators"
   ]
  },
  {
   "cell_type": "markdown",
   "metadata": {},
   "source": [
    "### Gradient operator\n",
    "\n",
    "The gradient operator is converted to a Matrix-StateVector multiplication"
   ]
  },
  {
   "cell_type": "code",
   "execution_count": 43,
   "metadata": {},
   "outputs": [
    {
     "name": "stdout",
     "output_type": "stream",
     "text": [
      "@\n",
      "├── Sparse Matrix (99, 100)\n",
      "└── y[1:101]\n"
     ]
    }
   ],
   "source": [
    "grad_v = pybamm.grad(v)\n",
    "grad_v_disc = disc.process_symbol(grad_v)\n",
    "grad_v_disc.render()"
   ]
  },
  {
   "cell_type": "code",
   "execution_count": 46,
   "metadata": {},
   "outputs": [
    {
     "data": {
      "text/plain": [
       "array([[-106.66666667,  106.66666667,    0.        , ...,    0.        ,\n",
       "           0.        ,    0.        ],\n",
       "       [   0.        , -106.66666667,  106.66666667, ...,    0.        ,\n",
       "           0.        ,    0.        ],\n",
       "       [   0.        ,    0.        , -106.66666667, ...,    0.        ,\n",
       "           0.        ,    0.        ],\n",
       "       ...,\n",
       "       [   0.        ,    0.        ,    0.        , ...,   93.33333333,\n",
       "           0.        ,    0.        ],\n",
       "       [   0.        ,    0.        ,    0.        , ...,  -93.33333333,\n",
       "          93.33333333,    0.        ],\n",
       "       [   0.        ,    0.        ,    0.        , ...,    0.        ,\n",
       "         -93.33333333,   93.33333333]])"
      ]
     },
     "execution_count": 46,
     "metadata": {},
     "output_type": "execute_result"
    }
   ],
   "source": [
    "grad_v_disc.children[0].entries.toarray()"
   ]
  },
  {
   "cell_type": "code",
   "execution_count": 44,
   "metadata": {},
   "outputs": [
    {
     "data": {
      "text/plain": [
       "array([0.01875   , 0.0375    , 0.05625   , 0.075     , 0.09375   ,\n",
       "       0.1125    , 0.13125   , 0.15      , 0.16875   , 0.1875    ,\n",
       "       0.20625   , 0.225     , 0.24375   , 0.2625    , 0.28125   ,\n",
       "       0.3       , 0.31875   , 0.3375    , 0.35625   , 0.375     ,\n",
       "       0.39375   , 0.4125    , 0.43125   , 0.45      , 0.46875   ,\n",
       "       0.4875    , 0.50625   , 0.525     , 0.54375   , 0.5625    ,\n",
       "       0.58125   , 0.6       , 0.61875   , 0.6375    , 0.65625   ,\n",
       "       0.675     , 0.69375   , 0.7125    , 0.73125   , 0.7503125 ,\n",
       "       0.77      , 0.79      , 0.81      , 0.83      , 0.85      ,\n",
       "       0.87      , 0.89      , 0.91      , 0.93      , 0.95      ,\n",
       "       0.97      , 0.99      , 1.01      , 1.03      , 1.05      ,\n",
       "       1.07      , 1.09      , 1.11      , 1.13      , 1.15      ,\n",
       "       1.17      , 1.19      , 1.21      , 1.23      , 1.25035714,\n",
       "       1.27142857, 1.29285714, 1.31428571, 1.33571429, 1.35714286,\n",
       "       1.37857143, 1.4       , 1.42142857, 1.44285714, 1.46428571,\n",
       "       1.48571429, 1.50714286, 1.52857143, 1.55      , 1.57142857,\n",
       "       1.59285714, 1.61428571, 1.63571429, 1.65714286, 1.67857143,\n",
       "       1.7       , 1.72142857, 1.74285714, 1.76428571, 1.78571429,\n",
       "       1.80714286, 1.82857143, 1.85      , 1.87142857, 1.89285714,\n",
       "       1.91428571, 1.93571429, 1.95714286, 1.97857143])"
      ]
     },
     "execution_count": 44,
     "metadata": {},
     "output_type": "execute_result"
    }
   ],
   "source": [
    "grad_v_disc.evaluate(1, y)"
   ]
  },
  {
   "cell_type": "code",
   "execution_count": null,
   "metadata": {},
   "outputs": [],
   "source": []
  }
 ],
 "metadata": {
  "kernelspec": {
   "display_name": "Python 3",
   "language": "python",
   "name": "python3"
  },
  "language_info": {
   "codemirror_mode": {
    "name": "ipython",
    "version": 3
   },
   "file_extension": ".py",
   "mimetype": "text/x-python",
   "name": "python",
   "nbconvert_exporter": "python",
   "pygments_lexer": "ipython3",
   "version": "3.6.7"
  }
 },
 "nbformat": 4,
 "nbformat_minor": 2
}
