{
 "cells": [
  {
   "cell_type": "markdown",
   "metadata": {},
   "source": [
    "# Speeding up the solvers"
   ]
  },
  {
   "cell_type": "markdown",
   "metadata": {},
   "source": [
    "This notebook contains a collection of tips on how to speed up the solvers"
   ]
  },
  {
   "cell_type": "code",
   "execution_count": 1,
   "metadata": {},
   "outputs": [
    {
     "name": "stdout",
     "output_type": "stream",
     "text": [
      "\u001b[33mWARNING: You are using pip version 20.2.1; however, version 20.2.4 is available.\n",
      "You should consider upgrading via the '/Users/vsulzer/Documents/Energy_storage/PyBaMM/.tox/dev/bin/python -m pip install --upgrade pip' command.\u001b[0m\n",
      "Note: you may need to restart the kernel to use updated packages.\n"
     ]
    }
   ],
   "source": [
    "%pip install pybamm -q    # install PyBaMM if it is not installed\n",
    "import pybamm\n",
    "import matplotlib.pyplot as plt"
   ]
  },
  {
   "cell_type": "markdown",
   "metadata": {},
   "source": [
    "## Choosing a solver"
   ]
  },
  {
   "cell_type": "markdown",
   "metadata": {},
   "source": [
    "Since it is very easy to switch which solver is used for the model, we recommend you try different solvers for your particular use case. In general, the `CasadiSolver` is the fastest.\n",
    "\n",
    "Once you have found a good solver, you can further improve performance by trying out different values for the `method`, `rtol`, and `atol` arguments. Further options are sometimes available, but are solver specific. See [solver API docs](https://pybamm.readthedocs.io/en/latest/source/solvers/index.html) for details."
   ]
  },
  {
   "cell_type": "markdown",
   "metadata": {},
   "source": [
    "## Choosing and optimizing CasadiSolver settings"
   ]
  },
  {
   "cell_type": "markdown",
   "metadata": {},
   "source": [
    "## Handling instabilities"
   ]
  },
  {
   "cell_type": "markdown",
   "metadata": {},
   "source": [
    "If the solver is taking a lot of steps, possibly failing with a `max_steps` error, and the error persists with different solvers, this suggests a problem with the model itself. This can be due to a few things:\n",
    "\n",
    "- A singularity in the model (such as division by zero). Solve up to the time where the model fails, and plot some variables to see if they are going to infinity. You can then narrow down the source of the problem.\n",
    "- High model stiffness. Again, plot different variables to identify which variables or parameters may be causing problems. To reduce stiffness, all dimensionless parameter values should be as close to 1 as possible.\n",
    "- Non-differentiable functions (see [below](#Smooth-approximations-to-non-differentiable-functions))\n",
    "\n",
    "If none of these fixes work, we are interested in finding out why - please get in touch!"
   ]
  },
  {
   "cell_type": "markdown",
   "metadata": {},
   "source": [
    "### Smooth approximations to non-differentiable functions"
   ]
  },
  {
   "cell_type": "markdown",
   "metadata": {},
   "source": [
    "Some functions, such as `minimum`, `maximum`, `heaviside`, and `abs`, are discontinuous and/or non-differentiable (their derivative is discontinuous). Adaptive solvers can deal with this discontinuity, but will take many more steps close to the discontinuity in order to resolve it. Therefore, using smooth approximations instead can reduce the number of steps taken by the solver, and hence the integration time. See [this post](https://discourse.julialang.org/t/handling-instability-when-solving-ode-problems/9019/5) for more details.\n",
    "\n",
    "Here is an example using the `maximum` function. The function `maximum(x,1)` is continuous but non-differentiable at `x=1`, where its derivative jumps from 0 to 1. However, we can approximate it using the [`softplus` function](https://en.wikipedia.org/wiki/Rectifier_(neural_networks)#Softplus), which is smooth everywhere and is sometimes used in neural networks as a smooth approximation to the RELU activation function. The `softplus` function is given by\n",
    "$$\n",
    "s(x,y;k) = \\frac{\\log(\\exp(kx)+\\exp(ky))}{k},\n",
    "$$\n",
    "where `k` is a strictly positive smoothing (or sharpness) parameter. The larger the value of `k`, the better the approximation but the stiffer the term (exp blows up quickly!). Usually, a value of `k=10` is a good middle ground.\n",
    "\n",
    "In PyBaMM, you can either call the `softplus` function directly, or change `pybamm.settings.max_smoothing` to automatically replace all your calls to `pybamm.maximum` with `softplus`."
   ]
  },
  {
   "cell_type": "code",
   "execution_count": 2,
   "metadata": {},
   "outputs": [
    {
     "name": "stdout",
     "output_type": "stream",
     "text": [
      "Exact maximum: maximum(x, y)\n",
      "Softplus (k=10): log(exp(10.0 * x) + exp(10.0 * y)) / 10.0\n",
      "Softplus (k=20): log(exp(20.0 * x) + exp(20.0 * y)) / 20.0\n",
      "Softplus (k=30): log(exp(30.0 * x) + exp(30.0 * y)) / 30.0\n",
      "Exact maximum: maximum(x, y)\n"
     ]
    }
   ],
   "source": [
    "x = pybamm.Variable(\"x\")\n",
    "y = pybamm.Variable(\"y\")\n",
    "\n",
    "# Normal maximum\n",
    "print(\"Exact maximum:\", pybamm.maximum(x,y))\n",
    "\n",
    "# Softplus\n",
    "print(\"Softplus (k=10):\", pybamm.softplus(x,y,10))\n",
    "\n",
    "# Changing the setting to call softplus automatically\n",
    "pybamm.settings.max_smoothing = 20\n",
    "print(\"Softplus (k=20):\", pybamm.maximum(x,y))\n",
    "\n",
    "# All smoothing parameters can be changed at once\n",
    "pybamm.settings.set_smoothing_parameters(30)\n",
    "print(\"Softplus (k=30):\", pybamm.maximum(x,y))\n",
    "\n",
    "# Change back\n",
    "pybamm.settings.set_smoothing_parameters(\"exact\")\n",
    "print(\"Exact maximum:\", pybamm.maximum(x,y))"
   ]
  },
  {
   "cell_type": "markdown",
   "metadata": {},
   "source": [
    "Here is the plot of softplus with different values of `k`"
   ]
  },
  {
   "cell_type": "code",
   "execution_count": 3,
   "metadata": {},
   "outputs": [
    {
     "data": {
      "text/plain": [
       "<matplotlib.legend.Legend at 0x14253dfd0>"
      ]
     },
     "execution_count": 3,
     "metadata": {},
     "output_type": "execute_result"
    },
    {
     "data": {
      "image/png": "[encoded data removed]",
      "text/plain": [
       "<Figure size 720x360 with 1 Axes>"
      ]
     },
     "metadata": {
      "needs_background": "light"
     },
     "output_type": "display_data"
    }
   ],
   "source": [
    "pts = pybamm.linspace(0, 2, 100)\n",
    "\n",
    "fig, ax = plt.subplots(figsize=(10,5))\n",
    "ax.plot(pts.evaluate(), pybamm.maximum(pts,1).evaluate(), lw=2, label=\"exact\")\n",
    "ax.plot(pts.evaluate(), pybamm.softplus(pts,1,5).evaluate(), \":\", lw=2, label=\"softplus (k=5)\")\n",
    "ax.plot(pts.evaluate(), pybamm.softplus(pts,1,10).evaluate(), \":\", lw=2, label=\"softplus (k=10)\")\n",
    "ax.plot(pts.evaluate(), pybamm.softplus(pts,1,100).evaluate(), \":\", lw=2, label=\"softplus (k=100)\")\n",
    "ax.legend()"
   ]
  },
  {
   "cell_type": "markdown",
   "metadata": {},
   "source": [
    "Solving a model with the exact maximum, and smooth approximations, demonstrates a clear speed-up even for a very simple model"
   ]
  },
  {
   "cell_type": "code",
   "execution_count": 4,
   "metadata": {},
   "outputs": [
    {
     "name": "stdout",
     "output_type": "stream",
     "text": [
      "Exact: 262.878 us\n",
      "Smooth, k=5: 259.492 us\n",
      "Smooth, k=10: 221.944 us\n",
      "Smooth, k=100: 262.987 us\n"
     ]
    },
    {
     "data": {
      "application/vnd.jupyter.widget-view+json": {
       "model_id": "ed38eaf261704906bb260e3c3a4f353c",
       "version_major": 2,
       "version_minor": 0
      },
      "text/plain": [
       "interactive(children=(FloatSlider(value=0.0, description='t', max=2.0, step=0.02), Output()), _dom_classes=('w…"
      ]
     },
     "metadata": {},
     "output_type": "display_data"
    }
   ],
   "source": [
    "model_exact = pybamm.BaseModel()\n",
    "model_exact.rhs = {x: pybamm.maximum(x, 1)}\n",
    "model_exact.initial_conditions = {x: 0.5}\n",
    "model_exact.variables = {\"x\": x, \"max(x,1)\": pybamm.maximum(x, 1)}\n",
    "\n",
    "model_smooth = pybamm.BaseModel()\n",
    "k = pybamm.InputParameter(\"k\")\n",
    "model_smooth.rhs = {x: pybamm.softplus(x, 1, k)}\n",
    "model_smooth.initial_conditions = {x: 0.5}\n",
    "model_smooth.variables = {\"x\": x, \"max(x,1)\": pybamm.softplus(x, 1, k)}\n",
    "\n",
    "solver = pybamm.CasadiSolver(mode=\"fast\")\n",
    "\n",
    "# Exact solution\n",
    "timer = pybamm.Timer()\n",
    "time = 0\n",
    "for _ in range(100):\n",
    "    exact_sol = solver.solve(model_exact, [0, 2])\n",
    "    # Report integration time, which is the time spent actually doing the integration\n",
    "    time += exact_sol.integration_time\n",
    "print(\"Exact:\", timer.format(time/100))\n",
    "sols = [exact_sol]\n",
    "\n",
    "ks = [5, 10, 100]\n",
    "for k in ks:\n",
    "    time = 0\n",
    "    for _ in range(100):\n",
    "        sol = solver.solve(model_smooth, [0, 2], inputs={\"k\": k})\n",
    "        time += sol.integration_time\n",
    "    print(f\"Smooth, k={k}:\", timer.format(time/100))\n",
    "    sols.append(sol)\n",
    "\n",
    "pybamm.dynamic_plot(sols, [\"x\", \"max(x,1)\"], labels=[\"exact\"] + [f\"smooth (k={k})\" for k in ks]);"
   ]
  },
  {
   "cell_type": "markdown",
   "metadata": {},
   "source": [
    "#### Other smooth approximations"
   ]
  },
  {
   "cell_type": "markdown",
   "metadata": {},
   "source": [
    "Here are the other smooth approximations for the other non-smooth functions:"
   ]
  },
  {
   "cell_type": "code",
   "execution_count": 5,
   "metadata": {},
   "outputs": [
    {
     "name": "stdout",
     "output_type": "stream",
     "text": [
      "Smooth minimum (softminus):\t log(exp(-10.0 * x) + exp(-10.0 * y)) / -10.0\n",
      "Smooth heaviside (sigmoid):\t (1.0 + tanh(10.0 * (y - x))) / 2.0\n",
      "Smooth absolute value: \t\t x * (exp(10.0 * x) - exp(-10.0 * x)) / (exp(10.0 * x) + exp(-10.0 * x))\n"
     ]
    }
   ],
   "source": [
    "pybamm.settings.set_smoothing_parameters(10)\n",
    "print(\"Smooth minimum (softminus):\\t {!s}\".format(pybamm.minimum(x,y)))\n",
    "print(\"Smooth heaviside (sigmoid):\\t {!s}\".format(x < y))\n",
    "print(\"Smooth absolute value: \\t\\t {!s}\".format(abs(x)))\n",
    "pybamm.settings.set_smoothing_parameters(\"exact\")"
   ]
  },
  {
   "cell_type": "code",
   "execution_count": null,
   "metadata": {},
   "outputs": [],
   "source": []
  }
 ],
 "metadata": {
  "kernelspec": {
   "display_name": "Python 3",
   "language": "python",
   "name": "python3"
  },
  "language_info": {
   "codemirror_mode": {
    "name": "ipython",
    "version": 3
   },
   "file_extension": ".py",
   "mimetype": "text/x-python",
   "name": "python",
   "nbconvert_exporter": "python",
   "pygments_lexer": "ipython3",
   "version": "3.8.5"
  },
  "toc": {
   "base_numbering": 1,
   "nav_menu": {},
   "number_sections": true,
   "sideBar": true,
   "skip_h1_title": false,
   "title_cell": "Table of Contents",
   "title_sidebar": "Contents",
   "toc_cell": false,
   "toc_position": {},
   "toc_section_display": true,
   "toc_window_display": true
  }
 },
 "nbformat": 4,
 "nbformat_minor": 4
}
