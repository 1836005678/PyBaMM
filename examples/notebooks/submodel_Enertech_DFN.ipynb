{
 "cells": [
  {
   "cell_type": "markdown",
   "metadata": {},
   "source": [
    "# Test the parameter set of the Enertech cells\n",
    "In this notebook, we show how to use pybamm to reproduce the experimental results for the Enertech cells (LCO-G). To see all of the models and submodels available in PyBaMM, please take a look at the documentation [here](https://pybamm.readthedocs.io/en/latest/source/models/index.html)."
   ]
  },
  {
   "cell_type": "code",
   "execution_count": 1,
   "metadata": {},
   "outputs": [],
   "source": [
    "import pybamm\n",
    "import os\n",
    "import numpy as np\n",
    "import matplotlib.pyplot as plt\n",
    "os.chdir(pybamm.__path__[0]+'/..')"
   ]
  },
  {
   "cell_type": "markdown",
   "metadata": {},
   "source": [
    "When you load a model in PyBaMM it builds by default. Building the model sets all of the model variables and sets up any variables which are coupled between different submodels: this is the process which couples the submodels together and allows one submodel to access variables from another. If you would like to swap out a submodel in an exisitng battery model you need to load it without building it by passing the keyword `build=False`"
   ]
  },
  {
   "cell_type": "code",
   "execution_count": 2,
   "metadata": {},
   "outputs": [],
   "source": [
    "model = pybamm.lithium_ion.DFN(\n",
    "    build=False,options = {\"particle\": \"Fickian diffusion\", \"thermal\": \"lumped\"}\n",
    ")\n",
    "# missing radiation heat in pybamm but considered in the paper."
   ]
  },
  {
   "cell_type": "markdown",
   "metadata": {},
   "source": [
    "We can get the parameter set `Ai2020` for the model, which includes the mechanical properties required by the mechanical model."
   ]
  },
  {
   "cell_type": "code",
   "execution_count": 3,
   "metadata": {},
   "outputs": [
    {
     "name": "stderr",
     "output_type": "stream",
     "text": [
      "psetup failed: .../casadi/interfaces/sundials/idas_interface.cpp:827: Calculating Jacobian failed\n",
      "At t = 0.228721, , mxstep steps taken before reaching tout.\n"
     ]
    }
   ],
   "source": [
    "# param = model.default_parameter_values\n",
    "chemistry = pybamm.parameter_sets.Ai2020\n",
    "param = pybamm.ParameterValues(chemistry=chemistry)\n",
    "experiment = pybamm.Experiment([\"Discharge at 1C until 3 V\"])\n",
    "\n",
    "# var = pybamm.standard_spatial_vars\n",
    "# var_pts = {\n",
    "#   var.x_n: 50,\n",
    "#   var.x_s: 50,\n",
    "#   var.x_p: 50,\n",
    "#   var.r_n: 50,\n",
    "#   var.r_p: 50,\n",
    "# }\n",
    "# import pandas as pd\n",
    "# mechanics = pd.read_csv(\"pybamm/input/parameters/lithium-ion/mechanicals/lico2_graphite_Ai2020/parameters.csv\", \n",
    "#                        index_col=0, comment=\"#\", skip_blank_lines=True, header=None)[1][1:].dropna().astype(float).to_dict()\n",
    "# param.update(mechanics, check_already_exists=False)\n",
    "\n",
    "sim1 = pybamm.Simulation(model, experiment=experiment,parameter_values=param)\n",
    "solution = sim1.solve()"
   ]
  },
  {
   "cell_type": "markdown",
   "metadata": {},
   "source": [
    "Load experimental results of the Enertech cells, Ref. Ai et al. JES 2020\n",
    "https://iopscience.iop.org/article/10.1149/2.0122001JES/pdf"
   ]
  },
  {
   "cell_type": "code",
   "execution_count": 4,
   "metadata": {},
   "outputs": [],
   "source": [
    "# load experimental results\n",
    "import pandas as pd\n",
    "path = \"/home/aishine/GEM/PyBaMM/pybamm/input/discharge_data/Enertech_cells/\"\n",
    "Disp_01C=pd.read_csv (path + \"0.1C_discharge_displacement.txt\", delimiter= '\\s+',header=None)\n",
    "Disp_05C=pd.read_csv (path + \"0.5C_discharge_displacement.txt\", delimiter= '\\s+',header=None)\n",
    "Disp_1C=pd.read_csv (path + \"1C_discharge_displacement.txt\", delimiter= '\\s+',header=None)\n",
    "Disp_2C=pd.read_csv (path + \"2C_discharge_displacement.txt\", delimiter= '\\s+',header=None)\n",
    "V_01C=pd.read_csv (path + \"0.1C_discharge_U.txt\", delimiter= '\\s+',header=None)\n",
    "V_05C=pd.read_csv (path + \"0.5C_discharge_U.txt\", delimiter= '\\s+',header=None)\n",
    "V_1C=pd.read_csv (path + \"1C_discharge_U.txt\", delimiter= '\\s+',header=None)\n",
    "V_2C=pd.read_csv (path + \"2C_discharge_U.txt\", delimiter= '\\s+',header=None)\n",
    "T_05C=pd.read_csv (path + \"0.5C_discharge_T.txt\", delimiter= '\\s+',header=None)\n",
    "T_1C=pd.read_csv (path + \"1C_discharge_T.txt\", delimiter= '\\s+',header=None)\n",
    "T_2C=pd.read_csv (path + \"2C_discharge_T.txt\", delimiter= '\\s+',header=None)"
   ]
  },
  {
   "cell_type": "markdown",
   "metadata": {},
   "source": [
    "Plot the results."
   ]
  },
  {
   "cell_type": "code",
   "execution_count": 5,
   "metadata": {},
   "outputs": [
    {
     "data": {
      "image/png": "[encoded data removed]",
      "text/plain": [
       "<Figure size 720x288 with 2 Axes>"
      ]
     },
     "metadata": {
      "needs_background": "light"
     },
     "output_type": "display_data"
    }
   ],
   "source": [
    "t_all = solution[\"Time [h]\"].entries\n",
    "V_n = solution[\"Terminal voltage [V]\"].entries\n",
    "T_n = solution[\"Volume-averaged cell temperature [K]\"].entries - param[\"Initial temperature [K]\"]\n",
    "\n",
    "f, (ax1, ax2) = plt.subplots(1, 2 ,figsize=(10,4))\n",
    "ax1.plot(t_all, V_n,'ro',markerfacecolor='none',label=\"Simulation\")\n",
    "ax1.plot(V_1C.values[:,0]/3600, V_1C.values[:,1],'r-',label=\"Experiment\")\n",
    "ax1.legend()\n",
    "#plt.xlim(0, 3600);\n",
    "ax1.set_xlabel(\"Time [h]\")\n",
    "ax1.set_ylabel(\"Terminal voltage [V]\")\n",
    "\n",
    "ax2.plot(t_all, T_n,'ro',markerfacecolor='none',label=\"Simulation\")\n",
    "ax2.plot(T_1C.values[0:3601,0]/3600, T_1C.values[0:3601,1],'r-',label=\"Experiment\")\n",
    "ax2.legend()\n",
    "ax2.set_xlabel(\"Time [h]\")\n",
    "ax2.set_ylabel(\"Temperature rise [K]\")\n",
    "#plt.xlim(0, 3600);\n",
    "f.show()\n"
   ]
  },
  {
   "cell_type": "code",
   "execution_count": null,
   "metadata": {},
   "outputs": [],
   "source": []
  },
  {
   "cell_type": "code",
   "execution_count": 6,
   "metadata": {},
   "outputs": [
    {
     "ename": "SyntaxError",
     "evalue": "'return' outside function (<ipython-input-6-46e85e1171ec>, line 1)",
     "output_type": "error",
     "traceback": [
      "\u001b[0;36m  File \u001b[0;32m\"<ipython-input-6-46e85e1171ec>\"\u001b[0;36m, line \u001b[0;32m1\u001b[0m\n\u001b[0;31m    return\u001b[0m\n\u001b[0m          ^\u001b[0m\n\u001b[0;31mSyntaxError\u001b[0m\u001b[0;31m:\u001b[0m 'return' outside function\n"
     ]
    }
   ],
   "source": [
    "return\n",
    "# without activity dependence\n",
    "param.update({\"1 + dlnf/dlnc\": 1})\n",
    "sim2 = pybamm.Simulation(model, experiment=experiment,parameter_values=param)\n",
    "solution2 = sim2.solve()"
   ]
  },
  {
   "cell_type": "code",
   "execution_count": null,
   "metadata": {},
   "outputs": [],
   "source": [
    "t_all = solution2[\"Time [s]\"].entries\n",
    "V_n = solution2[\"Terminal voltage [V]\"].entries\n",
    "T_n = solution2[\"Volume-averaged cell temperature [K]\"].entries - param[\"Initial temperature [K]\"]\n",
    "\n",
    "f, (ax1, ax2) = plt.subplots(1, 2 ,figsize=(10,4))\n",
    "ax1.plot(t_all, V_n,'ro',markerfacecolor='none',label=\"Simulation\")\n",
    "ax1.plot(V_1C.values[:,0], V_1C.values[:,1],'r-',label=\"Experiment\")\n",
    "ax1.legend()\n",
    "#plt.xlim(0, 3600);\n",
    "ax1.set_xlabel(\"Time [s]\")\n",
    "ax1.set_ylabel(\"Terminal voltage [V]\")\n",
    "\n",
    "ax2.plot(t_all, T_n,'ro',markerfacecolor='none',label=\"Simulation\")\n",
    "ax2.plot(T_1C.values[0:3601,0], T_1C.values[0:3601,1],'r-',label=\"Experiment\")\n",
    "ax2.legend()\n",
    "ax1.set_xlabel(\"Time [s]\")\n",
    "ax1.set_ylabel(\"Temperature rise [K]\")\n",
    "#plt.xlim(0, 3600);\n",
    "f.show()"
   ]
  }
 ],
 "metadata": {
  "kernelspec": {
   "display_name": "Python 3",
   "language": "python",
   "name": "python3"
  },
  "language_info": {
   "codemirror_mode": {
    "name": "ipython",
    "version": 3
   },
   "file_extension": ".py",
   "mimetype": "text/x-python",
   "name": "python",
   "nbconvert_exporter": "python",
   "pygments_lexer": "ipython3",
   "version": "3.7.8"
  }
 },
 "nbformat": 4,
 "nbformat_minor": 4
}
