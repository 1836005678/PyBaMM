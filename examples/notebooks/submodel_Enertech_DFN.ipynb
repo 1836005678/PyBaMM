{
 "cells": [
  {
   "cell_type": "markdown",
   "metadata": {},
   "source": [
    "# Using submodels in PyBaMM\n",
    "In this notebook we show how to modify existing models by swapping out submodels, and how to build your own model from scratch using exisitng submodels. To see all of the models and submodels available in PyBaMM, please take a look at the documentation [here](https://pybamm.readthedocs.io/en/latest/source/models/index.html)."
   ]
  },
  {
   "cell_type": "markdown",
   "metadata": {},
   "source": [
    "## Changing a submodel in an exisiting battery model\n",
    "PyBaMM is designed to be a flexible modelling package that allows users to easily compare different models and numerical techniques within a common framework. Battery models within PyBaMM are built up using a number of submodels that describe different physics included within the model, such as mass conservation in the electrolyte or charge conservation in the solid. For ease of use, a number of popular battery models are pre-configured in PyBaMM. As an example, we look at the Single Particle Model (for more information see [here](./models/SPM.ipynb)). First we import PyBaMM and any other packages we need"
   ]
  },
  {
   "cell_type": "code",
   "execution_count": 1,
   "metadata": {},
   "outputs": [],
   "source": [
    "import pybamm\n",
    "import os\n",
    "import numpy as np\n",
    "import matplotlib.pyplot as plt\n",
    "os.chdir(pybamm.__path__[0]+'/..')"
   ]
  },
  {
   "cell_type": "markdown",
   "metadata": {},
   "source": [
    "When you load a model in PyBaMM it builds by default. Building the model sets all of the model variables and sets up any variables which are coupled between different submodels: this is the process which couples the submodels together and allows one submodel to access variables from another. If you would like to swap out a submodel in an exisitng battery model you need to load it without building it by passing the keyword `build=False`"
   ]
  },
  {
   "cell_type": "code",
   "execution_count": 2,
   "metadata": {},
   "outputs": [],
   "source": [
    "# model = pybamm.lithium_ion.DFN(build=False,options = {\"particle\": \"Fickian diffusion\", \"thermal\": \"lumped\"})\n",
    "model = pybamm.lithium_ion.DFN(build=False,options = {\"particle\": \"Fickian diffusion\", \"thermal\": \"lumped\"})"
   ]
  },
  {
   "cell_type": "markdown",
   "metadata": {},
   "source": [
    "This collects all of the submodels which make up the SPM, but doesn't build the model. Now you are free to swap out one submodel for another. For instance, you may want to assume that diffusion within the negative particles is infinitely fast, so that the PDE describing diffusion is replaced with an ODE for the uniform particle concentration. To change a submodel you simply update the dictionary entry"
   ]
  },
  {
   "cell_type": "code",
   "execution_count": 3,
   "metadata": {},
   "outputs": [],
   "source": [
    "model.submodels[\"particle cracking\"] = pybamm.particle_cracking.CrackPropagation(model.param, \"Negative\")"
   ]
  },
  {
   "cell_type": "markdown",
   "metadata": {},
   "source": [
    "Building the model also sets up the equations, boundary and initial conditions for the model."
   ]
  },
  {
   "cell_type": "code",
   "execution_count": 4,
   "metadata": {},
   "outputs": [],
   "source": [
    "model.build_model()"
   ]
  },
  {
   "cell_type": "markdown",
   "metadata": {},
   "source": [
    "We can get the default parameters for the model and update them with the parameters required by the cracking model. Eventually, we would like these to be added to their won chemistry (you might need to adjust the path to the parameters file to your system)."
   ]
  },
  {
   "cell_type": "code",
   "execution_count": 5,
   "metadata": {},
   "outputs": [],
   "source": [
    "# param = model.default_parameter_values\n",
    "chemistry = pybamm.parameter_sets.Ai2020\n",
    "param = pybamm.ParameterValues(chemistry=chemistry)\n",
    "\n",
    "\n",
    "import pandas as pd\n",
    "mechanics = pd.read_csv(\"pybamm/input/parameters/lithium-ion/mechanicals/lico2_graphite_Ai2020/parameters.csv\", \n",
    "                        index_col=0, comment=\"#\", skip_blank_lines=True, header=None)[1][1:].dropna().astype(float).to_dict()\n",
    "param.update(mechanics, check_already_exists=False)"
   ]
  },
  {
   "cell_type": "markdown",
   "metadata": {},
   "source": [
    "Now the model can be processed and solved in the usual way, and we still have access to model defaults such as the default geometry and default spatial methods"
   ]
  },
  {
   "cell_type": "code",
   "execution_count": 6,
   "metadata": {},
   "outputs": [
    {
     "data": {
      "application/vnd.jupyter.widget-view+json": {
       "model_id": "418d2da472b74718bcd4c76308791507",
       "version_major": 2,
       "version_minor": 0
      },
      "text/plain": [
       "interactive(children=(FloatSlider(value=0.0, description='t', max=1.0, step=0.01), Output()), _dom_classes=('w…"
      ]
     },
     "metadata": {},
     "output_type": "display_data"
    }
   ],
   "source": [
    "# create geometry\n",
    "geometry = model.default_geometry\n",
    "\n",
    "# load parameter values and process model and geometry\n",
    "param.process_model(model)\n",
    "param.process_geometry(geometry)\n",
    "\n",
    "# set mesh\n",
    "mesh = pybamm.Mesh(geometry, model.default_submesh_types, model.default_var_pts)\n",
    "\n",
    "# discretise model\n",
    "disc = pybamm.Discretisation(mesh, model.default_spatial_methods)\n",
    "disc.process_model(model)\n",
    "\n",
    "# solve model\n",
    "t_eval = np.linspace(0, 3600, 100)\n",
    "solution = model.default_solver.solve(model, t_eval)\n",
    "\n",
    "# plot\n",
    "quick_plot = pybamm.QuickPlot(solution)\n",
    "quick_plot.dynamic_plot();"
   ]
  },
  {
   "cell_type": "markdown",
   "metadata": {},
   "source": [
    "Plot the results."
   ]
  },
  {
   "cell_type": "code",
   "execution_count": 7,
   "metadata": {},
   "outputs": [
    {
     "data": {
      "application/vnd.jupyter.widget-view+json": {
       "model_id": "aa1ff5b11db84df797e0f27905c6f967",
       "version_major": 2,
       "version_minor": 0
      },
      "text/plain": [
       "interactive(children=(FloatSlider(value=0.0, description='t', max=3600.0, step=10.0), Output()), _dom_classes=…"
      ]
     },
     "metadata": {},
     "output_type": "display_data"
    }
   ],
   "source": [
    "# extract voltage\n",
    "stress_t_n_surf = solution[\"Negative particle surface tangential stress\"]\n",
    "c_s_n = solution[\"Negative particle concentration\"]\n",
    "c_s_surf_t=solution[\"Negative particle surface concentration\"]\n",
    "disp_t = solution[\"Negative particle surface displacement [m]\"]\n",
    "l_cr_n_t = solution[\"Negative particle crack length\"]\n",
    "dl_cr = solution [\"Negative particle cracking rate\"]\n",
    "t_all = solution[\"Time [s]\"].entries\n",
    "x = solution[\"x [m]\"].entries[0:19, 0]\n",
    "c_s_n = solution['Negative particle concentration']\n",
    "r_n = solution[\"r_n [m]\"].entries[:, 0, 0]\n",
    "\n",
    "# plot\n",
    "def plot_concentrations(t):\n",
    "    f, (ax1, ax2, ax3, ax4) = plt.subplots(1, 4 ,figsize=(16,4))\n",
    "    ax1.plot(x, stress_t_n_surf(t=t,x=x))\n",
    "    ax1.set_xlabel(r'$x$ [m]')\n",
    "    ax1.set_ylabel('$\\sigma_t/E_n$')\n",
    "    #ax1.set_ylim(0, 0.0015)\n",
    "    \n",
    "    plot_c_n, = ax2.plot(r_n, c_s_n(r=r_n,t=t,x=x[0]))  # can evaluate at arbitrary x (single representative particle)\n",
    "    ax2.set_ylabel('Negative particle concentration')\n",
    "    ax2.set_xlabel(r'$r_n$ [m]')\n",
    "    ax2.set_ylim(0, 1)\n",
    "    ax2.set_title('Close to current collector')\n",
    "    ax2.grid()\n",
    "    \n",
    "    plot_c_n, = ax3.plot(r_n, c_s_n(r=r_n,t=t,x=x[10]))  # can evaluate at arbitrary x (single representative particle)\n",
    "    ax3.set_ylabel('Negative particle concentration')\n",
    "    ax3.set_xlabel(r'$r_n$ [m]')\n",
    "    ax3.set_ylim(0, 1)  \n",
    "    ax3.set_title('In the middle')\n",
    "    ax3.grid()\n",
    "\n",
    "    plot_c_n, = ax4.plot(r_n, c_s_n(r=r_n,t=t,x=x[-1]))  # can evaluate at arbitrary x (single representative particle)\n",
    "    ax4.set_ylabel('Negative particle concentration')\n",
    "    ax4.set_xlabel(r'$r_n$ [m]')\n",
    "    ax4.set_ylim(0, 1)  \n",
    "    ax4.set_title('Close to separator')\n",
    "    ax4.grid()\n",
    "    plt.show()\n",
    "    \n",
    "import ipywidgets as widgets\n",
    "widgets.interact(plot_concentrations, t=widgets.FloatSlider(min=0,max=3600,step=10,value=0));"
   ]
  },
  {
   "cell_type": "code",
   "execution_count": 8,
   "metadata": {},
   "outputs": [
    {
     "data": {
      "image/png": "[encoded data removed]",
      "text/plain": [
       "<Figure size 432x288 with 1 Axes>"
      ]
     },
     "metadata": {
      "needs_background": "light"
     },
     "output_type": "display_data"
    }
   ],
   "source": [
    "T_n = solution[\"Battery voltage [V]\"]\n",
    "plt.plot(t_all, T_n(t=t_all))\n",
    "plt.xlim(0, 3600);"
   ]
  },
  {
   "cell_type": "code",
   "execution_count": 9,
   "metadata": {},
   "outputs": [
    {
     "data": {
      "application/vnd.jupyter.widget-view+json": {
       "model_id": "3c11098ae57f46aa86f324516c7b4c3a",
       "version_major": 2,
       "version_minor": 0
      },
      "text/plain": [
       "interactive(children=(FloatSlider(value=0.0, description='t', max=1.0, step=0.01), Output()), _dom_classes=('w…"
      ]
     },
     "metadata": {},
     "output_type": "display_data"
    }
   ],
   "source": [
    "label = [\"DFN\"]\n",
    "output_variables = [\"Negative particle surface tangential stress\", \"Negative particle concentration\", \"Positive particle concentration\",\"Cell temperature [K]\"]\n",
    "quick_plot = pybamm.QuickPlot(solution, output_variables, label)\n",
    "quick_plot.dynamic_plot();\n"
   ]
  },
  {
   "cell_type": "code",
   "execution_count": null,
   "metadata": {},
   "outputs": [],
   "source": []
  }
 ],
 "metadata": {
  "kernelspec": {
   "display_name": "Python 3",
   "language": "python",
   "name": "python3"
  },
  "language_info": {
   "codemirror_mode": {
    "name": "ipython",
    "version": 3
   },
   "file_extension": ".py",
   "mimetype": "text/x-python",
   "name": "python",
   "nbconvert_exporter": "python",
   "pygments_lexer": "ipython3",
   "version": "3.7.8"
  }
 },
 "nbformat": 4,
 "nbformat_minor": 4
}
