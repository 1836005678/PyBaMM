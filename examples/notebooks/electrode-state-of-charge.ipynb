{
 "cells": [
  {
   "cell_type": "markdown",
   "metadata": {},
   "source": [
    "# Electrode State of Charge"
   ]
  },
  {
   "cell_type": "markdown",
   "metadata": {},
   "source": [
    "This notebook demonstrates some utilities to work with electrode State of Charge (also sometimes called electrode stoichiometry), using the algorithm from Mohtat et al [1]\n",
    "\n",
    "[1] Mohtat, P. \"Towards ...\""
   ]
  },
  {
   "cell_type": "code",
   "execution_count": 1,
   "metadata": {},
   "outputs": [],
   "source": [
    "import pybamm"
   ]
  },
  {
   "cell_type": "markdown",
   "metadata": {},
   "source": [
    "## Create and solve model"
   ]
  },
  {
   "cell_type": "code",
   "execution_count": 2,
   "metadata": {},
   "outputs": [
    {
     "data": {
      "application/vnd.jupyter.widget-view+json": {
       "model_id": "21bb8fe2c9c94e36ba5df27440232157",
       "version_major": 2,
       "version_minor": 0
      },
      "text/plain": [
       "interactive(children=(FloatSlider(value=0.0, description='t', max=2.3205547079887316, step=0.02320554707988731…"
      ]
     },
     "metadata": {},
     "output_type": "display_data"
    },
    {
     "data": {
      "text/plain": [
       "<pybamm.plotting.quick_plot.QuickPlot at 0x13d063ee0>"
      ]
     },
     "execution_count": 2,
     "metadata": {},
     "output_type": "execute_result"
    }
   ],
   "source": [
    "spm = pybamm.lithium_ion.SPM()\n",
    "experiment = pybamm.Experiment([\n",
    "    \"Charge at 1C until 4.2V\", \n",
    "    \"Hold at 4.2V until C/50\",\n",
    "    \"Discharge at 1C until 3V\",\n",
    "    \"Hold at 3V until C/50\",\n",
    "])\n",
    "parameter_values = pybamm.ParameterValues(chemistry=pybamm.parameter_sets.Mohtat2020)\n",
    "\n",
    "sim = pybamm.Simulation(spm, experiment=experiment, parameter_values=parameter_values)\n",
    "sol = sim.solve()\n",
    "sol.plot([\n",
    "    \"Terminal voltage [V]\", \n",
    "    \"Current [A]\", \n",
    "    \"Negative electrode SOC\",\n",
    "    \"Positive electrode SOC\",\n",
    "])"
   ]
  },
  {
   "cell_type": "markdown",
   "metadata": {},
   "source": [
    "## Solve for electrode SOC"
   ]
  },
  {
   "cell_type": "markdown",
   "metadata": {},
   "source": [
    "Given a total amount of lithium, $n_{Li}$, electrode capacities, $C_n$ and $C_p$, and voltage limits, $V_{min}$ and $V_{max}$, we can solve for the min and max electrode SOCs, $x_0$, $x_{100}$, $y_0$, and $y_{100}$,  and the cell capacity, $C$, using the algorithm from Mohtat et al [1].\n",
    "First, we find $x_{100}$ and $y_{100}$ using\n",
    "$$\n",
    "\\begin{align}\n",
    "n_{Li} &= \\frac{3600}{F}(y_{100}C_p + x_{100}C_n),\n",
    "\\\\\n",
    "V_{max} &= U_p(y_{100}) - U_n(x_{100}).\n",
    "\\end{align}\n",
    "$$\n",
    "Then, we find $C$ using\n",
    "$$\n",
    "\\begin{align}\n",
    "V_{min} &= U_p(y_{0}) - U_n(x_{0})\n",
    "\\\\\n",
    "&= U_p\\left(y_{100} + \\frac{C}{C_p}\\right) - U_n\\left(x_{100} - \\frac{C}{C_n}\\right)\n",
    "\\end{align}\n",
    "$$\n",
    "Finally, $x_0$ and $y_0$ are simply defined as\n",
    "$$\n",
    "\\begin{align}\n",
    "x_0 &= x_{100} - \\frac{C}{C_n},\n",
    "\\\\\n",
    "y_0 &= y_{100} + \\frac{C}{C_p}.\n",
    "\\end{align}\n",
    "$$\n",
    "We implement this in pybamm as an algebraic model."
   ]
  },
  {
   "cell_type": "code",
   "execution_count": 12,
   "metadata": {},
   "outputs": [],
   "source": [
    "param = pybamm.LithiumIonParameters()\n",
    "\n",
    "Vmin = 3\n",
    "Vmax = 4.2\n",
    "Cn = parameter_values.evaluate(param.C_n_init)\n",
    "Cp = parameter_values.evaluate(param.C_p_init)\n",
    "n_Li = parameter_values.evaluate(param.n_Li_particles_init)\n",
    "\n",
    "Un = param.U_n\n",
    "Up = param.U_p\n",
    "\n",
    "x = pybamm.Variable(\"x\")\n",
    "y = pybamm.Variable(\"y\")\n",
    "C = pybamm.Variable(\"C\")"
   ]
  },
  {
   "cell_type": "code",
   "execution_count": 15,
   "metadata": {},
   "outputs": [
    {
     "name": "stdout",
     "output_type": "stream",
     "text": [
      "+\n",
      "├── *\n",
      "│   ├── *\n",
      "│   │   ├── *\n",
      "│   │   │   ├── /\n",
      "│   │   │   │   ├── integral dx ['negative electrode']\n",
      "│   │   │   │   │   └── *\n",
      "│   │   │   │   │       ├── Negative electrode active material volume fraction\n",
      "│   │   │   │   │       │   └── *\n",
      "│   │   │   │   │       │       ├── x_n\n",
      "│   │   │   │   │       │       └── +\n",
      "│   │   │   │   │       │           ├── +\n",
      "│   │   │   │   │       │           │   ├── Negative electrode thickness [m]\n",
      "│   │   │   │   │       │           │   └── Separator thickness [m]\n",
      "│   │   │   │   │       │           └── Positive electrode thickness [m]\n",
      "│   │   │   │   │       └── /\n",
      "│   │   │   │   │           ├── Initial concentration in negative electrode [mol.m-3]\n",
      "│   │   │   │   │           │   └── x_n\n",
      "│   │   │   │   │           └── Maximum concentration in negative electrode [mol.m-3]\n",
      "│   │   │   │   └── integral dx ['negative electrode']\n",
      "│   │   │   │       └── broadcast\n",
      "│   │   │   │           └── 1.0\n",
      "│   │   │   └── Maximum concentration in negative electrode [mol.m-3]\n",
      "│   │   └── Negative electrode thickness [m]\n",
      "│   └── *\n",
      "│       ├── Electrode width [m]\n",
      "│       └── Electrode height [m]\n",
      "└── *\n",
      "    ├── *\n",
      "    │   ├── *\n",
      "    │   │   ├── /\n",
      "    │   │   │   ├── integral dx ['positive electrode']\n",
      "    │   │   │   │   └── *\n",
      "    │   │   │   │       ├── Positive electrode active material volume fraction\n",
      "    │   │   │   │       │   └── *\n",
      "    │   │   │   │       │       ├── x_p\n",
      "    │   │   │   │       │       └── +\n",
      "    │   │   │   │       │           ├── +\n",
      "    │   │   │   │       │           │   ├── Negative electrode thickness [m]\n",
      "    │   │   │   │       │           │   └── Separator thickness [m]\n",
      "    │   │   │   │       │           └── Positive electrode thickness [m]\n",
      "    │   │   │   │       └── /\n",
      "    │   │   │   │           ├── Initial concentration in positive electrode [mol.m-3]\n",
      "    │   │   │   │           │   └── x_p\n",
      "    │   │   │   │           └── Maximum concentration in positive electrode [mol.m-3]\n",
      "    │   │   │   └── integral dx ['positive electrode']\n",
      "    │   │   │       └── broadcast\n",
      "    │   │   │           └── 1.0\n",
      "    │   │   └── Maximum concentration in positive electrode [mol.m-3]\n",
      "    │   └── Positive electrode thickness [m]\n",
      "    └── *\n",
      "        ├── Electrode width [m]\n",
      "        └── Electrode height [m]\n"
     ]
    }
   ],
   "source": [
    "param.n_Li_particles_init.render()"
   ]
  },
  {
   "cell_type": "code",
   "execution_count": 5,
   "metadata": {},
   "outputs": [
    {
     "name": "stdout",
     "output_type": "stream",
     "text": [
      "/\n",
      "├── -\n",
      "│   ├── -\n",
      "│   │   ├── -\n",
      "│   │   │   ├── -\n",
      "│   │   │   │   ├── -\n",
      "│   │   │   │   │   ├── -\n",
      "│   │   │   │   │   │   ├── -\n",
      "│   │   │   │   │   │   │   ├── +\n",
      "│   │   │   │   │   │   │   │   ├── 0.063\n",
      "│   │   │   │   │   │   │   │   └── *\n",
      "│   │   │   │   │   │   │   │       ├── 0.8\n",
      "│   │   │   │   │   │   │   │       └── function (exp)\n",
      "│   │   │   │   │   │   │   │           └── *\n",
      "│   │   │   │   │   │   │   │               ├── -75.0\n",
      "│   │   │   │   │   │   │   │               └── +\n",
      "│   │   │   │   │   │   │   │                   ├── x\n",
      "│   │   │   │   │   │   │   │                   └── 0.007\n",
      "│   │   │   │   │   │   │   └── *\n",
      "│   │   │   │   │   │   │       ├── 0.012\n",
      "│   │   │   │   │   │   │       └── function (tanh)\n",
      "│   │   │   │   │   │   │           └── /\n",
      "│   │   │   │   │   │   │               ├── -\n",
      "│   │   │   │   │   │   │               │   ├── x\n",
      "│   │   │   │   │   │   │               │   └── 0.127\n",
      "│   │   │   │   │   │   │               └── 0.016\n",
      "│   │   │   │   │   │   └── *\n",
      "│   │   │   │   │   │       ├── 0.0118\n",
      "│   │   │   │   │   │       └── function (tanh)\n",
      "│   │   │   │   │   │           └── /\n",
      "│   │   │   │   │   │               ├── -\n",
      "│   │   │   │   │   │               │   ├── x\n",
      "│   │   │   │   │   │               │   └── 0.155\n",
      "│   │   │   │   │   │               └── 0.016\n",
      "│   │   │   │   │   └── *\n",
      "│   │   │   │   │       ├── 0.0035\n",
      "│   │   │   │   │       └── function (tanh)\n",
      "│   │   │   │   │           └── /\n",
      "│   │   │   │   │               ├── -\n",
      "│   │   │   │   │               │   ├── x\n",
      "│   │   │   │   │               │   └── 0.22\n",
      "│   │   │   │   │               └── 0.02\n",
      "│   │   │   │   └── *\n",
      "│   │   │   │       ├── 0.0095\n",
      "│   │   │   │       └── function (tanh)\n",
      "│   │   │   │           └── /\n",
      "│   │   │   │               ├── -\n",
      "│   │   │   │               │   ├── x\n",
      "│   │   │   │               │   └── 0.19\n",
      "│   │   │   │               └── 0.013\n",
      "│   │   │   └── *\n",
      "│   │   │       ├── 0.0145\n",
      "│   │   │       └── function (tanh)\n",
      "│   │   │           └── /\n",
      "│   │   │               ├── -\n",
      "│   │   │               │   ├── x\n",
      "│   │   │               │   └── 0.49\n",
      "│   │   │               └── 0.02\n",
      "│   │   └── *\n",
      "│   │       ├── 0.08\n",
      "│   │       └── function (tanh)\n",
      "│   │           └── /\n",
      "│   │               ├── -\n",
      "│   │               │   ├── x\n",
      "│   │               │   └── 1.03\n",
      "│   │               └── 0.055\n",
      "│   └── 0.6108938299830338\n",
      "└── 0.025692579121493725\n"
     ]
    }
   ],
   "source": [
    "model = pybamm.BaseModel()\n",
    "parameter_values.process_symbol(Un(x,0)).render()"
   ]
  },
  {
   "cell_type": "code",
   "execution_count": 6,
   "metadata": {},
   "outputs": [
    {
     "data": {
      "text/plain": [
       "Scalar(0x5e0d7ec915e920c4, Negative electrode porosity, children=[], domain=[], auxiliary_domains={})"
      ]
     },
     "execution_count": 6,
     "metadata": {},
     "output_type": "execute_result"
    }
   ],
   "source": [
    "parameter_values.process_symbol(pybamm.x_average(param.epsilon_n))"
   ]
  },
  {
   "cell_type": "code",
   "execution_count": 7,
   "metadata": {},
   "outputs": [
    {
     "data": {
      "text/plain": [
       "<pybamm.discretisations.discretisation.Discretisation at 0x13d388fd0>"
      ]
     },
     "execution_count": 7,
     "metadata": {},
     "output_type": "execute_result"
    }
   ],
   "source": [
    "sim._disc"
   ]
  },
  {
   "cell_type": "code",
   "execution_count": 8,
   "metadata": {},
   "outputs": [
    {
     "data": {
      "text/plain": [
       "MX((2.*y[1:31]))"
      ]
     },
     "execution_count": 8,
     "metadata": {},
     "output_type": "execute_result"
    }
   ],
   "source": [
    "c_s = spm.variables[\"X-averaged negative particle concentration\"]\n",
    "import casadi\n",
    "y = casadi.MX.sym(\"y\", 31)\n",
    "sim._disc.process_symbol(pybamm.Multiplication(c_s, 2*pybamm.ones_like(c_s))).to_casadi(y=y)"
   ]
  },
  {
   "cell_type": "code",
   "execution_count": null,
   "metadata": {},
   "outputs": [],
   "source": []
  }
 ],
 "metadata": {
  "kernelspec": {
   "display_name": "Python 3",
   "language": "python",
   "name": "python3"
  },
  "language_info": {
   "codemirror_mode": {
    "name": "ipython",
    "version": 3
   },
   "file_extension": ".py",
   "mimetype": "text/x-python",
   "name": "python",
   "nbconvert_exporter": "python",
   "pygments_lexer": "ipython3",
   "version": "3.8.6"
  },
  "toc": {
   "base_numbering": 1,
   "nav_menu": {},
   "number_sections": true,
   "sideBar": true,
   "skip_h1_title": false,
   "title_cell": "Table of Contents",
   "title_sidebar": "Contents",
   "toc_cell": false,
   "toc_position": {},
   "toc_section_display": true,
   "toc_window_display": true
  }
 },
 "nbformat": 4,
 "nbformat_minor": 4
}
