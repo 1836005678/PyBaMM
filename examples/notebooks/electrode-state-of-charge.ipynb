{
 "cells": [
  {
   "cell_type": "markdown",
   "metadata": {},
   "source": [
    "# Electrode State of Charge"
   ]
  },
  {
   "cell_type": "markdown",
   "metadata": {},
   "source": [
    "This notebook demonstrates some utilities to work with electrode State of Charge (also sometimes called electrode stoichiometry), using the algorithm from Mohtat et al [1]\n",
    "\n",
    "[1] Mohtat, P. \"Towards ...\""
   ]
  },
  {
   "cell_type": "code",
   "execution_count": 1,
   "metadata": {},
   "outputs": [],
   "source": [
    "import pybamm"
   ]
  },
  {
   "cell_type": "markdown",
   "metadata": {},
   "source": [
    "## Create and solve model"
   ]
  },
  {
   "cell_type": "code",
   "execution_count": 2,
   "metadata": {},
   "outputs": [
    {
     "data": {
      "application/vnd.jupyter.widget-view+json": {
       "model_id": "52d68a652fd24875b22f7cc5bcbb8f1d",
       "version_major": 2,
       "version_minor": 0
      },
      "text/plain": [
       "interactive(children=(FloatSlider(value=0.0, description='t', max=2.3205547079887316, step=0.02320554707988731…"
      ]
     },
     "metadata": {},
     "output_type": "display_data"
    },
    {
     "data": {
      "text/plain": [
       "<pybamm.plotting.quick_plot.QuickPlot at 0x1433990d0>"
      ]
     },
     "execution_count": 2,
     "metadata": {},
     "output_type": "execute_result"
    }
   ],
   "source": [
    "spm = pybamm.lithium_ion.SPM()\n",
    "experiment = pybamm.Experiment([\n",
    "    \"Charge at 1C until 4.2V\", \n",
    "    \"Hold at 4.2V until C/50\",\n",
    "    \"Discharge at 1C until 3V\",\n",
    "    \"Hold at 3V until C/50\",\n",
    "])\n",
    "parameter_values = pybamm.ParameterValues(chemistry=pybamm.parameter_sets.Mohtat2020)\n",
    "\n",
    "sim = pybamm.Simulation(spm, experiment=experiment, parameter_values=parameter_values)\n",
    "sol = sim.solve()\n",
    "sol.plot([\n",
    "    \"Terminal voltage [V]\", \n",
    "    \"Current [A]\", \n",
    "    \"Negative electrode SOC\",\n",
    "    \"Positive electrode SOC\",\n",
    "])"
   ]
  },
  {
   "cell_type": "markdown",
   "metadata": {},
   "source": [
    "## Solve for electrode SOC"
   ]
  },
  {
   "cell_type": "markdown",
   "metadata": {},
   "source": [
    "Given a total amount of lithium, $n_{Li}$, electrode capacities, $C_n$ and $C_p$, and voltage limits, $V_{min}$ and $V_{max}$, we can solve for the min and max electrode SOCs, $x_0$, $x_{100}$, $y_0$, and $y_{100}$,  and the cell capacity, $C$, using the algorithm from Mohtat et al [1].\n",
    "First, we find $x_{100}$ and $y_{100}$ using\n",
    "$$\n",
    "\\begin{align}\n",
    "n_{Li} &= \\frac{3600}{F}(y_{100}C_p + x_{100}C_n),\n",
    "\\\\\n",
    "V_{max} &= U_p(y_{100}) - U_n(x_{100}).\n",
    "\\end{align}\n",
    "$$\n",
    "Then, we find $C$ using\n",
    "$$\n",
    "\\begin{align}\n",
    "V_{min} &= U_p(y_{0}) - U_n(x_{0})\n",
    "\\\\\n",
    "&= U_p\\left(y_{100} + \\frac{C}{C_p}\\right) - U_n\\left(x_{100} - \\frac{C}{C_n}\\right)\n",
    "\\end{align}\n",
    "$$\n",
    "Finally, $x_0$ and $y_0$ are simply defined as\n",
    "$$\n",
    "\\begin{align}\n",
    "x_0 &= x_{100} - \\frac{C}{C_n},\n",
    "\\\\\n",
    "y_0 &= y_{100} + \\frac{C}{C_p}.\n",
    "\\end{align}\n",
    "$$\n",
    "We implement this in pybamm as an algebraic model."
   ]
  },
  {
   "cell_type": "code",
   "execution_count": 9,
   "metadata": {},
   "outputs": [
    {
     "ename": "ValueError",
     "evalue": "symbol must evaluate to a constant scalar",
     "output_type": "error",
     "traceback": [
      "\u001b[0;31m---------------------------------------------------------------------------\u001b[0m",
      "\u001b[0;31mValueError\u001b[0m                                Traceback (most recent call last)",
      "\u001b[0;32m<ipython-input-9-45d8984b0db6>\u001b[0m in \u001b[0;36m<module>\u001b[0;34m\u001b[0m\n\u001b[1;32m      5\u001b[0m \u001b[0mCn\u001b[0m \u001b[0;34m=\u001b[0m \u001b[0mparameter_values\u001b[0m\u001b[0;34m.\u001b[0m\u001b[0mevaluate\u001b[0m\u001b[0;34m(\u001b[0m\u001b[0mparam\u001b[0m\u001b[0;34m.\u001b[0m\u001b[0mC_n_init\u001b[0m\u001b[0;34m)\u001b[0m\u001b[0;34m\u001b[0m\u001b[0;34m\u001b[0m\u001b[0m\n\u001b[1;32m      6\u001b[0m \u001b[0mCp\u001b[0m \u001b[0;34m=\u001b[0m \u001b[0mparameter_values\u001b[0m\u001b[0;34m.\u001b[0m\u001b[0mevaluate\u001b[0m\u001b[0;34m(\u001b[0m\u001b[0mparam\u001b[0m\u001b[0;34m.\u001b[0m\u001b[0mC_p_init\u001b[0m\u001b[0;34m)\u001b[0m\u001b[0;34m\u001b[0m\u001b[0;34m\u001b[0m\u001b[0m\n\u001b[0;32m----> 7\u001b[0;31m \u001b[0mn_Li\u001b[0m \u001b[0;34m=\u001b[0m \u001b[0mparameter_values\u001b[0m\u001b[0;34m.\u001b[0m\u001b[0mevaluate\u001b[0m\u001b[0;34m(\u001b[0m\u001b[0mparam\u001b[0m\u001b[0;34m.\u001b[0m\u001b[0mn_Li_init\u001b[0m\u001b[0;34m)\u001b[0m\u001b[0;34m\u001b[0m\u001b[0;34m\u001b[0m\u001b[0m\n\u001b[0m\u001b[1;32m      8\u001b[0m \u001b[0;34m\u001b[0m\u001b[0m\n\u001b[1;32m      9\u001b[0m \u001b[0mUn\u001b[0m \u001b[0;34m=\u001b[0m \u001b[0mparam\u001b[0m\u001b[0;34m.\u001b[0m\u001b[0mU_n\u001b[0m\u001b[0;34m\u001b[0m\u001b[0;34m\u001b[0m\u001b[0m\n",
      "\u001b[0;32m~/Documents/Energy_storage/PyBaMM/pybamm/parameters/parameter_values.py\u001b[0m in \u001b[0;36mevaluate\u001b[0;34m(self, symbol)\u001b[0m\n\u001b[1;32m    657\u001b[0m             \u001b[0;32mreturn\u001b[0m \u001b[0mprocessed_symbol\u001b[0m\u001b[0;34m.\u001b[0m\u001b[0mevaluate\u001b[0m\u001b[0;34m(\u001b[0m\u001b[0;34m)\u001b[0m\u001b[0;34m\u001b[0m\u001b[0;34m\u001b[0m\u001b[0m\n\u001b[1;32m    658\u001b[0m         \u001b[0;32melse\u001b[0m\u001b[0;34m:\u001b[0m\u001b[0;34m\u001b[0m\u001b[0;34m\u001b[0m\u001b[0m\n\u001b[0;32m--> 659\u001b[0;31m             \u001b[0;32mraise\u001b[0m \u001b[0mValueError\u001b[0m\u001b[0;34m(\u001b[0m\u001b[0;34m\"symbol must evaluate to a constant scalar\"\u001b[0m\u001b[0;34m)\u001b[0m\u001b[0;34m\u001b[0m\u001b[0;34m\u001b[0m\u001b[0m\n\u001b[0m\u001b[1;32m    660\u001b[0m \u001b[0;34m\u001b[0m\u001b[0m\n\u001b[1;32m    661\u001b[0m     \u001b[0;32mdef\u001b[0m \u001b[0m_ipython_key_completions_\u001b[0m\u001b[0;34m(\u001b[0m\u001b[0mself\u001b[0m\u001b[0;34m)\u001b[0m\u001b[0;34m:\u001b[0m\u001b[0;34m\u001b[0m\u001b[0;34m\u001b[0m\u001b[0m\n",
      "\u001b[0;31mValueError\u001b[0m: symbol must evaluate to a constant scalar"
     ]
    }
   ],
   "source": [
    "param = pybamm.LithiumIonParameters()\n",
    "\n",
    "Vmin = 3\n",
    "Vmax = 4.2\n",
    "Cn = parameter_values.evaluate(param.C_n_init)\n",
    "Cp = parameter_values.evaluate(param.C_p_init)\n",
    "n_Li = parameter_values.evaluate(param.n_Li_init)\n",
    "\n",
    "Un = param.U_n\n",
    "Up = param.U_p\n",
    "\n",
    "x = pybamm.Variable(\"x\")\n",
    "y = pybamm.Variable(\"y\")\n",
    "C = pybamm.Variable(\"C\")"
   ]
  },
  {
   "cell_type": "code",
   "execution_count": 10,
   "metadata": {},
   "outputs": [
    {
     "name": "stdout",
     "output_type": "stream",
     "text": [
      "+\n",
      "├── 0.19298869951642003\n",
      "└── *\n",
      "    ├── *\n",
      "    │   ├── *\n",
      "    │   │   ├── /\n",
      "    │   │   │   ├── integral dx ['negative electrode', 'separator', 'positive electrode']\n",
      "    │   │   │   │   └── concatenation\n",
      "    │   │   │   │       ├── broadcast\n",
      "    │   │   │   │       │   └── Negative electrode porosity = 0.3\n",
      "    │   │   │   │       ├── broadcast\n",
      "    │   │   │   │       │   └── Separator porosity = 0.4\n",
      "    │   │   │   │       └── broadcast\n",
      "    │   │   │   │           └── Positive electrode porosity = 0.3\n",
      "    │   │   │   └── integral dx ['negative electrode', 'separator', 'positive electrode']\n",
      "    │   │   │       └── broadcast\n",
      "    │   │   │           └── 1.0\n",
      "    │   │   └── Typical electrolyte concentration [mol.m-3] = 1000.0\n",
      "    │   └── 0.000141\n",
      "    └── Electrode width [m] = 0.205\n"
     ]
    }
   ],
   "source": [
    "parameter_values.process_symbol(param.n_Li_init).render()"
   ]
  },
  {
   "cell_type": "code",
   "execution_count": 15,
   "metadata": {},
   "outputs": [
    {
     "name": "stdout",
     "output_type": "stream",
     "text": [
      "/\n",
      "├── -\n",
      "│   ├── -\n",
      "│   │   ├── -\n",
      "│   │   │   ├── -\n",
      "│   │   │   │   ├── -\n",
      "│   │   │   │   │   ├── -\n",
      "│   │   │   │   │   │   ├── -\n",
      "│   │   │   │   │   │   │   ├── +\n",
      "│   │   │   │   │   │   │   │   ├── 0.063\n",
      "│   │   │   │   │   │   │   │   └── *\n",
      "│   │   │   │   │   │   │   │       ├── 0.8\n",
      "│   │   │   │   │   │   │   │       └── function (exp)\n",
      "│   │   │   │   │   │   │   │           └── *\n",
      "│   │   │   │   │   │   │   │               ├── -75.0\n",
      "│   │   │   │   │   │   │   │               └── +\n",
      "│   │   │   │   │   │   │   │                   ├── x\n",
      "│   │   │   │   │   │   │   │                   └── 0.007\n",
      "│   │   │   │   │   │   │   └── *\n",
      "│   │   │   │   │   │   │       ├── 0.012\n",
      "│   │   │   │   │   │   │       └── function (tanh)\n",
      "│   │   │   │   │   │   │           └── /\n",
      "│   │   │   │   │   │   │               ├── -\n",
      "│   │   │   │   │   │   │               │   ├── x\n",
      "│   │   │   │   │   │   │               │   └── 0.127\n",
      "│   │   │   │   │   │   │               └── 0.016\n",
      "│   │   │   │   │   │   └── *\n",
      "│   │   │   │   │   │       ├── 0.0118\n",
      "│   │   │   │   │   │       └── function (tanh)\n",
      "│   │   │   │   │   │           └── /\n",
      "│   │   │   │   │   │               ├── -\n",
      "│   │   │   │   │   │               │   ├── x\n",
      "│   │   │   │   │   │               │   └── 0.155\n",
      "│   │   │   │   │   │               └── 0.016\n",
      "│   │   │   │   │   └── *\n",
      "│   │   │   │   │       ├── 0.0035\n",
      "│   │   │   │   │       └── function (tanh)\n",
      "│   │   │   │   │           └── /\n",
      "│   │   │   │   │               ├── -\n",
      "│   │   │   │   │               │   ├── x\n",
      "│   │   │   │   │               │   └── 0.22\n",
      "│   │   │   │   │               └── 0.02\n",
      "│   │   │   │   └── *\n",
      "│   │   │   │       ├── 0.0095\n",
      "│   │   │   │       └── function (tanh)\n",
      "│   │   │   │           └── /\n",
      "│   │   │   │               ├── -\n",
      "│   │   │   │               │   ├── x\n",
      "│   │   │   │               │   └── 0.19\n",
      "│   │   │   │               └── 0.013\n",
      "│   │   │   └── *\n",
      "│   │   │       ├── 0.0145\n",
      "│   │   │       └── function (tanh)\n",
      "│   │   │           └── /\n",
      "│   │   │               ├── -\n",
      "│   │   │               │   ├── x\n",
      "│   │   │               │   └── 0.49\n",
      "│   │   │               └── 0.02\n",
      "│   │   └── *\n",
      "│   │       ├── 0.08\n",
      "│   │       └── function (tanh)\n",
      "│   │           └── /\n",
      "│   │               ├── -\n",
      "│   │               │   ├── x\n",
      "│   │               │   └── 1.03\n",
      "│   │               └── 0.055\n",
      "│   └── 0.6108938299830338\n",
      "└── 0.025692579121493725\n"
     ]
    }
   ],
   "source": [
    "model = pybamm.BaseModel()\n",
    "parameter_values.process_symbol(Un(x,0)).render()"
   ]
  },
  {
   "cell_type": "code",
   "execution_count": null,
   "metadata": {},
   "outputs": [],
   "source": [
    "parameter_values.process_symbol(pybamm.x_average(param.epsilon_n))"
   ]
  },
  {
   "cell_type": "code",
   "execution_count": null,
   "metadata": {},
   "outputs": [],
   "source": [
    "sim._disc"
   ]
  },
  {
   "cell_type": "code",
   "execution_count": null,
   "metadata": {},
   "outputs": [],
   "source": [
    "c_s = spm.variables[\"X-averaged negative particle concentration\"]\n",
    "import casadi\n",
    "y = casadi.MX.sym(\"y\", 31)\n",
    "sim._disc.process_symbol(pybamm.Multiplication(c_s, 2*pybamm.ones_like(c_s))).to_casadi(y=y)"
   ]
  },
  {
   "cell_type": "code",
   "execution_count": null,
   "metadata": {},
   "outputs": [],
   "source": []
  }
 ],
 "metadata": {
  "kernelspec": {
   "display_name": "Python 3",
   "language": "python",
   "name": "python3"
  },
  "language_info": {
   "codemirror_mode": {
    "name": "ipython",
    "version": 3
   },
   "file_extension": ".py",
   "mimetype": "text/x-python",
   "name": "python",
   "nbconvert_exporter": "python",
   "pygments_lexer": "ipython3",
   "version": "3.8.6"
  },
  "toc": {
   "base_numbering": 1,
   "nav_menu": {},
   "number_sections": true,
   "sideBar": true,
   "skip_h1_title": false,
   "title_cell": "Table of Contents",
   "title_sidebar": "Contents",
   "toc_cell": false,
   "toc_position": {},
   "toc_section_display": true,
   "toc_window_display": true
  }
 },
 "nbformat": 4,
 "nbformat_minor": 4
}
