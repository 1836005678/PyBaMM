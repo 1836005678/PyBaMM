{
 "cells": [
  {
   "cell_type": "markdown",
   "id": "403c07ba",
   "metadata": {},
   "source": [
    "# Callbacks"
   ]
  },
  {
   "cell_type": "markdown",
   "id": "4e5bfd9f",
   "metadata": {},
   "source": [
    "<div class=\"alert alert-block alert-info\">\n",
    "<b>WARNING:</b> This is a new, experimental feature, and the API may change in future.\n",
    "</div>"
   ]
  },
  {
   "cell_type": "markdown",
   "id": "cb2ae3b6",
   "metadata": {},
   "source": [
    "Callbacks provide hooks for users to interact with the different parts of the PyBaMM pipeline, for example to log, save, or visualize outputs of intermediate functions. \n",
    "\n",
    "A list of available callbacks can be found in the [API docs](). Any number of callbacks can be provided as a list, and they will each be called in turn in the order provided.\n",
    "\n",
    "The abstract base class [`pybamm.callbacks.Callback`]() documents the available callback methods, at which point in the pipeline they are called, and what arguments are passed to them."
   ]
  },
  {
   "cell_type": "code",
   "execution_count": 8,
   "id": "c25b83cb",
   "metadata": {},
   "outputs": [],
   "source": [
    "import pybamm\n",
    "\n",
    "model = pybamm.lithium_ion.DFN()\n",
    "sim = pybamm.Simulation(model)"
   ]
  },
  {
   "cell_type": "markdown",
   "id": "6c38b44e",
   "metadata": {},
   "source": [
    "## Logging callback"
   ]
  },
  {
   "cell_type": "markdown",
   "id": "538f91d4",
   "metadata": {},
   "source": [
    "The `LoggingCallback` can be used to log the progress of the simulation, either to stdout (default) "
   ]
  },
  {
   "cell_type": "code",
   "execution_count": null,
   "id": "dc4121dd",
   "metadata": {},
   "outputs": [],
   "source": []
  },
  {
   "cell_type": "raw",
   "id": "dac2d172",
   "metadata": {},
   "source": [
    "or to a separate file"
   ]
  },
  {
   "cell_type": "code",
   "execution_count": 14,
   "id": "f01fb22a",
   "metadata": {},
   "outputs": [],
   "source": [
    "callback = pybamm.callbacks.LoggingCallback(\"output.log\")\n",
    "sim.solve([0,3600], callbacks=callback);\n",
    "\n",
    "# Read the file that has been written, which was saved to callback.logs\n",
    "with open(callback.logs, \"r\") as f:\n",
    "    print(f.read())\n",
    "    \n",
    "# Remove the log file\n",
    "os.remove(callback.logs)"
   ]
  },
  {
   "cell_type": "markdown",
   "id": "aa7b0634",
   "metadata": {},
   "source": [
    "## Custom callbacks"
   ]
  },
  {
   "cell_type": "markdown",
   "id": "070fee9e",
   "metadata": {},
   "source": [
    "Custom callbacks should subclass the class `pybamm.callbacks.Callback` class"
   ]
  },
  {
   "cell_type": "code",
   "execution_count": 6,
   "id": "a47ce3ff",
   "metadata": {},
   "outputs": [],
   "source": [
    "class CustomCallback(pybamm.callbacks.Callback):\n",
    "    def on_simulation_end(self, sim):\n",
    "        print(f\"We are at the end of the simulation of the {sim.model.name}\")"
   ]
  },
  {
   "cell_type": "code",
   "execution_count": 7,
   "id": "7f44371e",
   "metadata": {},
   "outputs": [
    {
     "name": "stdout",
     "output_type": "stream",
     "text": [
      "We are at the end of the simulation of the Doyle-Fuller-Newman model\n"
     ]
    },
    {
     "data": {
      "text/plain": [
       "<pybamm.solvers.solution.Solution at 0x7fcfb91a8520>"
      ]
     },
     "execution_count": 7,
     "metadata": {},
     "output_type": "execute_result"
    }
   ],
   "source": [
    "sim.solve([0,3600], callbacks=CustomCallback());"
   ]
  },
  {
   "cell_type": "code",
   "execution_count": null,
   "id": "df832fba",
   "metadata": {},
   "outputs": [],
   "source": []
  }
 ],
 "metadata": {
  "kernelspec": {
   "display_name": "Python 3 (ipykernel)",
   "language": "python",
   "name": "python3"
  },
  "language_info": {
   "codemirror_mode": {
    "name": "ipython",
    "version": 3
   },
   "file_extension": ".py",
   "mimetype": "text/x-python",
   "name": "python",
   "nbconvert_exporter": "python",
   "pygments_lexer": "ipython3",
   "version": "3.8.12"
  },
  "toc": {
   "base_numbering": 1,
   "nav_menu": {},
   "number_sections": true,
   "sideBar": true,
   "skip_h1_title": false,
   "title_cell": "Table of Contents",
   "title_sidebar": "Contents",
   "toc_cell": false,
   "toc_position": {},
   "toc_section_display": true,
   "toc_window_display": true
  }
 },
 "nbformat": 4,
 "nbformat_minor": 5
}
