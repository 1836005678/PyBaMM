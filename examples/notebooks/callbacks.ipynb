{
 "cells": [
  {
   "cell_type": "markdown",
   "id": "403c07ba",
   "metadata": {},
   "source": [
    "# Callbacks"
   ]
  },
  {
   "cell_type": "markdown",
   "id": "4e5bfd9f",
   "metadata": {},
   "source": [
    "<div class=\"alert alert-block alert-info\">\n",
    "<b>WARNING:</b> This is a new, experimental feature, and the API may change in future.\n",
    "</div>"
   ]
  },
  {
   "cell_type": "markdown",
   "id": "cb2ae3b6",
   "metadata": {},
   "source": [
    "Callbacks provide hooks for users to interact with the different parts of the PyBaMM pipeline, for example to log, save, or visualize outputs of intermediate functions. \n",
    "\n",
    "A list of available callbacks can be found in the [API docs](https://pybamm.readthedocs.io/en/latest/source/callbacks.html). Any number of callbacks can be provided as a list, and they will each be called in turn in the order provided.\n",
    "\n",
    "The base class [`pybamm.callbacks.Callback`](https://pybamm.readthedocs.io/en/latest/source/citations.html#pybamm.callbacks.Callback) documents the available callback methods, at which point in the pipeline they are called, and what arguments are passed to them."
   ]
  },
  {
   "cell_type": "code",
   "execution_count": 1,
   "id": "c25b83cb",
   "metadata": {},
   "outputs": [],
   "source": [
    "import pybamm\n",
    "\n",
    "model = pybamm.lithium_ion.DFN()\n",
    "experiment = pybamm.Experiment([\n",
    "        (\n",
    "            \"Discharge at C/5 for 10 hours or until 3.3 V\",\n",
    "            \"Charge at 1 A until 4.1 V\",\n",
    "            \"Hold at 4.1 V until 10 mA\",\n",
    "        ),\n",
    "    ]\n",
    "    * 3\n",
    ")\n",
    "sim = pybamm.Simulation(model, experiment=experiment)"
   ]
  },
  {
   "cell_type": "markdown",
   "id": "6c38b44e",
   "metadata": {},
   "source": [
    "## Logging callback"
   ]
  },
  {
   "cell_type": "markdown",
   "id": "538f91d4",
   "metadata": {},
   "source": [
    "The `LoggingCallback` can be used to log the progress of the simulation. The default is to print to stdout (this callback is automatically created if no other `LoggingCallback` exists)"
   ]
  },
  {
   "cell_type": "code",
   "execution_count": 2,
   "id": "dc4121dd",
   "metadata": {},
   "outputs": [
    {
     "name": "stderr",
     "output_type": "stream",
     "text": [
      "2021-12-30 19:36:56.258 - [NOTICE] callbacks.on_cycle_start(172): Cycle 1/3 (28.051 ms elapsed) --------------------\n",
      "2021-12-30 19:36:56.259 - [NOTICE] callbacks.on_step_start(180): Cycle 1/3, step 1/3: Discharge at C/5 for 10 hours or until 3.3 V\n",
      "2021-12-30 19:36:57.349 - [NOTICE] callbacks.on_step_start(180): Cycle 1/3, step 2/3: Charge at 1 A until 4.1 V\n",
      "2021-12-30 19:36:57.699 - [NOTICE] callbacks.on_step_start(180): Cycle 1/3, step 3/3: Hold at 4.1 V until 10 mA\n",
      "2021-12-30 19:36:58.161 - [NOTICE] callbacks.on_cycle_start(172): Cycle 2/3 (1.931 s elapsed) --------------------\n",
      "2021-12-30 19:36:58.162 - [NOTICE] callbacks.on_step_start(180): Cycle 2/3, step 1/3: Discharge at C/5 for 10 hours or until 3.3 V\n",
      "2021-12-30 19:36:59.405 - [NOTICE] callbacks.on_step_start(180): Cycle 2/3, step 2/3: Charge at 1 A until 4.1 V\n",
      "2021-12-30 19:36:59.660 - [NOTICE] callbacks.on_step_start(180): Cycle 2/3, step 3/3: Hold at 4.1 V until 10 mA\n",
      "2021-12-30 19:36:59.866 - [NOTICE] callbacks.on_cycle_start(172): Cycle 3/3 (3.636 s elapsed) --------------------\n",
      "2021-12-30 19:36:59.866 - [NOTICE] callbacks.on_step_start(180): Cycle 3/3, step 1/3: Discharge at C/5 for 10 hours or until 3.3 V\n",
      "2021-12-30 19:37:01.081 - [NOTICE] callbacks.on_step_start(180): Cycle 3/3, step 2/3: Charge at 1 A until 4.1 V\n",
      "2021-12-30 19:37:01.337 - [NOTICE] callbacks.on_step_start(180): Cycle 3/3, step 3/3: Hold at 4.1 V until 10 mA\n",
      "2021-12-30 19:37:01.543 - [NOTICE] callbacks.on_experiment_end(220): Finish experiment simulation, took 3.636 s\n"
     ]
    }
   ],
   "source": [
    "pybamm.set_logging_level(\"NOTICE\")\n",
    "sim.solve();"
   ]
  },
  {
   "cell_type": "markdown",
   "id": "67608fe3",
   "metadata": {},
   "source": [
    "or to a separate file"
   ]
  },
  {
   "cell_type": "code",
   "execution_count": 3,
   "id": "5e1ecca8",
   "metadata": {},
   "outputs": [
    {
     "name": "stdout",
     "output_type": "stream",
     "text": [
      "2021-12-30 19:37:01.578 - [NOTICE] callbacks.on_cycle_start(172): Cycle 1/3 (27.159 ms elapsed) --------------------\n",
      "2021-12-30 19:37:01.578 - [NOTICE] callbacks.on_step_start(180): Cycle 1/3, step 1/3: Discharge at C/5 for 10 hours or until 3.3 V\n",
      "2021-12-30 19:37:02.878 - [NOTICE] callbacks.on_step_start(180): Cycle 1/3, step 2/3: Charge at 1 A until 4.1 V\n",
      "2021-12-30 19:37:03.134 - [NOTICE] callbacks.on_step_start(180): Cycle 1/3, step 3/3: Hold at 4.1 V until 10 mA\n",
      "2021-12-30 19:37:03.542 - [NOTICE] callbacks.on_cycle_start(172): Cycle 2/3 (1.992 s elapsed) --------------------\n",
      "2021-12-30 19:37:03.543 - [NOTICE] callbacks.on_step_start(180): Cycle 2/3, step 1/3: Discharge at C/5 for 10 hours or until 3.3 V\n",
      "2021-12-30 19:37:04.788 - [NOTICE] callbacks.on_step_start(180): Cycle 2/3, step 2/3: Charge at 1 A until 4.1 V\n",
      "2021-12-30 19:37:05.041 - [NOTICE] callbacks.on_step_start(180): Cycle 2/3, step 3/3: Hold at 4.1 V until 10 mA\n",
      "2021-12-30 19:37:05.243 - [NOTICE] callbacks.on_cycle_start(172): Cycle 3/3 (3.692 s elapsed) --------------------\n",
      "2021-12-30 19:37:05.243 - [NOTICE] callbacks.on_step_start(180): Cycle 3/3, step 1/3: Discharge at C/5 for 10 hours or until 3.3 V\n",
      "2021-12-30 19:37:06.458 - [NOTICE] callbacks.on_step_start(180): Cycle 3/3, step 2/3: Charge at 1 A until 4.1 V\n",
      "2021-12-30 19:37:06.713 - [NOTICE] callbacks.on_step_start(180): Cycle 3/3, step 3/3: Hold at 4.1 V until 10 mA\n",
      "2021-12-30 19:37:06.914 - [NOTICE] callbacks.on_experiment_end(220): Finish experiment simulation, took 3.692 s\n",
      "\n"
     ]
    }
   ],
   "source": [
    "callback = pybamm.callbacks.LoggingCallback(\"output.log\")\n",
    "sim.solve(callbacks=callback);\n",
    "\n",
    "# Read the file that has been written, which was saved to callback.logfile\n",
    "with open(callback.logfile, \"r\") as f:\n",
    "    print(f.read())\n",
    "    \n",
    "# Remove the log file\n",
    "import os\n",
    "os.remove(callback.logfile)"
   ]
  },
  {
   "cell_type": "markdown",
   "id": "aa7b0634",
   "metadata": {},
   "source": [
    "## Custom callbacks"
   ]
  },
  {
   "cell_type": "markdown",
   "id": "070fee9e",
   "metadata": {},
   "source": [
    "Custom callbacks should subclass the class `pybamm.callbacks.Callback` class, and implement a subset of the callback methods `on_<event>`, which all take as input the dictionary `logs`."
   ]
  },
  {
   "cell_type": "code",
   "execution_count": 4,
   "id": "a47ce3ff",
   "metadata": {},
   "outputs": [],
   "source": [
    "class CustomCallback(pybamm.callbacks.Callback):\n",
    "    def on_experiment_end(self, logs):\n",
    "        print(f\"We are at the end of the simulation of the simulation. Logs are {logs}\")"
   ]
  },
  {
   "cell_type": "code",
   "execution_count": 5,
   "id": "7f44371e",
   "metadata": {},
   "outputs": [
    {
     "name": "stderr",
     "output_type": "stream",
     "text": [
      "2021-12-30 19:37:06.950 - [NOTICE] callbacks.on_cycle_start(172): Cycle 1/3 (29.087 ms elapsed) --------------------\n",
      "2021-12-30 19:37:06.951 - [NOTICE] callbacks.on_step_start(180): Cycle 1/3, step 1/3: Discharge at C/5 for 10 hours or until 3.3 V\n",
      "2021-12-30 19:37:08.408 - [NOTICE] callbacks.on_step_start(180): Cycle 1/3, step 2/3: Charge at 1 A until 4.1 V\n",
      "2021-12-30 19:37:08.727 - [NOTICE] callbacks.on_step_start(180): Cycle 1/3, step 3/3: Hold at 4.1 V until 10 mA\n",
      "2021-12-30 19:37:09.129 - [NOTICE] callbacks.on_cycle_start(172): Cycle 2/3 (2.208 s elapsed) --------------------\n",
      "2021-12-30 19:37:09.130 - [NOTICE] callbacks.on_step_start(180): Cycle 2/3, step 1/3: Discharge at C/5 for 10 hours or until 3.3 V\n",
      "2021-12-30 19:37:10.604 - [NOTICE] callbacks.on_step_start(180): Cycle 2/3, step 2/3: Charge at 1 A until 4.1 V\n",
      "2021-12-30 19:37:10.900 - [NOTICE] callbacks.on_step_start(180): Cycle 2/3, step 3/3: Hold at 4.1 V until 10 mA\n",
      "2021-12-30 19:37:11.121 - [NOTICE] callbacks.on_cycle_start(172): Cycle 3/3 (4.200 s elapsed) --------------------\n",
      "2021-12-30 19:37:11.121 - [NOTICE] callbacks.on_step_start(180): Cycle 3/3, step 1/3: Discharge at C/5 for 10 hours or until 3.3 V\n",
      "2021-12-30 19:37:12.503 - [NOTICE] callbacks.on_step_start(180): Cycle 3/3, step 2/3: Charge at 1 A until 4.1 V\n",
      "2021-12-30 19:37:12.794 - [NOTICE] callbacks.on_step_start(180): Cycle 3/3, step 3/3: Hold at 4.1 V until 10 mA\n",
      "2021-12-30 19:37:13.045 - [NOTICE] callbacks.on_experiment_end(220): Finish experiment simulation, took 4.200 s\n"
     ]
    },
    {
     "name": "stdout",
     "output_type": "stream",
     "text": [
      "We are at the end of the simulation of the simulation. Logs are {'stopping conditions': {'voltage': None, 'capacity': None}, 'cycle number': (3, 3), 'elapsed time': pybamm.TimerTime(4.199561042000001), 'step number': (3, 3), 'step operating conditions': 'Hold at 4.1 V until 10 mA', 'termination': 'event: Current cut-off (negative) [A] [experiment]', 'summary variables': {'Minimum measured discharge capacity [A.h]': -0.16806782223941116, 'Maximum measured discharge capacity [A.h]': 0.6889979156579616, 'Measured capacity [A.h]': 0.8570657378973728, 'Minimum voltage [V]': 3.300010000000005, 'Maximum voltage [V]': 4.100000000000016, 'Positive electrode capacity [A.h]': 1.9464430360887066, 'Change in positive electrode capacity [A.h]': 0.0, 'Loss of active material in positive electrode [%]': 1.1102230246251565e-14, 'Change in loss of active material in positive electrode [%]': 0.0, 'Loss of lithium inventory [%]': -2.220446049250313e-14, 'Change in loss of lithium inventory [%]': 0.0, 'Loss of lithium inventory, including electrolyte [%]': 0.0, 'Change in loss of lithium inventory, including electrolyte [%]': 0.0, 'Total lithium [mol]': 0.0799932053645051, 'Change in total lithium [mol]': 0.0, 'Total lithium in electrolyte [mol]': 0.002410514999999987, 'Change in total lithium in electrolyte [mol]': -2.168404344971009e-18, 'Total lithium in positive electrode [mol]': 0.037303833837759315, 'Change in total lithium in positive electrode [mol]': 6.938893903907228e-18, 'Total lithium in particles [mol]': 0.07758269036450512, 'Change in total lithium in particles [mol]': 0.0, 'Total lithium lost [mol]': 0.0, 'Change in total lithium lost [mol]': 0.0, 'Total lithium lost from particles [mol]': -1.3877787807814457e-17, 'Change in total lithium lost from particles [mol]': 0.0, 'Total lithium lost from electrolyte [mol]': 1.2576745200831851e-17, 'Change in total lithium lost from electrolyte [mol]': 2.168404344971009e-18, 'Loss of lithium to SEI [mol]': 0.0, 'Change in loss of lithium to SEI [mol]': 0.0, 'Loss of capacity to SEI [A.h]': 0.0, 'Change in loss of capacity to SEI [A.h]': 0.0, 'Total lithium lost to side reactions [mol]': 0.0, 'Change in total lithium lost to side reactions [mol]': 0.0, 'Total capacity lost to side reactions [A.h]': 0.0, 'Change in total capacity lost to side reactions [A.h]': 0.0, 'Local ECM resistance [Ohm]': -0.1921801399643974, 'Change in local ECM resistance [Ohm]': -0.3385111526792064, 'Negative electrode capacity [A.h]': 1.139331489107912, 'Change in negative electrode capacity [A.h]': 0.0, 'Loss of active material in negative electrode [%]': -2.220446049250313e-14, 'Change in loss of active material in negative electrode [%]': 0.0, 'Total lithium in negative electrode [mol]': 0.0402788565267458, 'Change in total lithium in negative electrode [mol]': -6.938893903907228e-18, 'Loss of lithium to lithium plating [mol]': 0.0, 'Change in loss of lithium to lithium plating [mol]': 0.0, 'Loss of capacity to lithium plating [A.h]': 0.0, 'Change in loss of capacity to lithium plating [A.h]': 0.0, 'x_100': 0.9493038520218161, 'y_100': 0.5126064431891194, 'C': 0.8728195070455337, 'x_0': 0.18322346594476246, 'y_0': 0.9610241419672079, 'Un(x_100)': 0.07517904666112207, 'Un(x_0)': 0.2527477655253842, 'Up(y_100)': 4.175179046661121, 'Up(y_0)': 3.357747765525383, 'Up(y_100) - Un(x_100)': 4.099999999999999, 'Up(y_0) - Un(x_0)': 3.1049999999999986, 'n_Li_100': 0.07758269036450512, 'n_Li_0': 0.07758269036450512, 'n_Li': 0.07758269036450512, 'C_n': 1.139331489107912, 'C_p': 1.9464430360887066, 'C_n * (x_100 - x_0)': 0.8728195070455337, 'C_p * (y_100 - y_0)': 0.8728195070455337, 'Capacity [A.h]': 0.8728195070455337}, 'start capacity': 0.8728195070455353}\n"
     ]
    }
   ],
   "source": [
    "# Note the default `LoggingCallback` is also called\n",
    "sim.solve(callbacks=CustomCallback());"
   ]
  },
  {
   "cell_type": "code",
   "execution_count": null,
   "id": "df832fba",
   "metadata": {},
   "outputs": [],
   "source": []
  }
 ],
 "metadata": {
  "kernelspec": {
   "display_name": "Python 3 (ipykernel)",
   "language": "python",
   "name": "python3"
  },
  "language_info": {
   "codemirror_mode": {
    "name": "ipython",
    "version": 3
   },
   "file_extension": ".py",
   "mimetype": "text/x-python",
   "name": "python",
   "nbconvert_exporter": "python",
   "pygments_lexer": "ipython3",
   "version": "3.8.12"
  },
  "toc": {
   "base_numbering": 1,
   "nav_menu": {},
   "number_sections": true,
   "sideBar": true,
   "skip_h1_title": false,
   "title_cell": "Table of Contents",
   "title_sidebar": "Contents",
   "toc_cell": false,
   "toc_position": {},
   "toc_section_display": true,
   "toc_window_display": true
  }
 },
 "nbformat": 4,
 "nbformat_minor": 5
}
