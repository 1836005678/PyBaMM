{
 "cells": [
  {
   "cell_type": "markdown",
   "metadata": {},
   "source": [
    "# Using submodel sei-cracks in PyBaMM\n",
    "In this notebook we show how to use the sei-crack submodle for additional SEI growth on cracks in the anode. To see all of the models and submodels available in PyBaMM, please take a look at the documentation [here](https://pybamm.readthedocs.io/en/latest/source/models/index.html)."
   ]
  },
  {
   "cell_type": "code",
   "execution_count": 1,
   "metadata": {},
   "outputs": [],
   "source": [
    "import pybamm\n",
    "import os\n",
    "import numpy as np\n",
    "import matplotlib.pyplot as plt\n",
    "os.chdir(pybamm.__path__[0]+'/..')"
   ]
  },
  {
   "cell_type": "markdown",
   "metadata": {},
   "source": [
    "When you load a model in PyBaMM it builds by default. Building the model sets all of the model variables and sets up any variables which are coupled between different submodels: this is the process which couples the submodels together and allows one submodel to access variables from another. If you would like to swap out a submodel in an exisitng battery model you need to load it without building it by passing the keyword `build=False`"
   ]
  },
  {
   "cell_type": "code",
   "execution_count": 2,
   "metadata": {},
   "outputs": [],
   "source": [
    "model = pybamm.lithium_ion.DFN(\n",
    "    build=False, options={\"particle\": \"Fickian diffusion\", \"sei\":\"solvent-diffusion limited\", \"sei film resistance\":\"distributed\", \"sei porosity change\":False}\n",
    ")"
   ]
  },
  {
   "cell_type": "markdown",
   "metadata": {},
   "source": [
    "This collects all of the submodels which make up the SPMe, but doesn't build the model. Here it is applicable to other types of battery models, e.g. SPM or DFN. \n",
    "\n",
    "To change a submodel you simply update the dictionary entry. Here the submodels \"CrackPropagation\" and \"SEIonCracks\" are both applicable to negative and positive electrodes, by replacing negative with positive respectively.\n",
    "\n",
    "Building the model also sets up the equations, boundary and initial conditions for the model."
   ]
  },
  {
   "cell_type": "code",
   "execution_count": 3,
   "metadata": {},
   "outputs": [],
   "source": [
    "model.submodels[\"negative particle cracking\"] = pybamm.particle_cracking.CrackPropagation(\n",
    "    model.param, \"Negative\"\n",
    ")\n",
    "model.submodels[\"negative sei on cracks\"] = pybamm.sei.SEIonCracks(\n",
    "    model.param, \"Negative\"\n",
    ")\n",
    "model.build_model()"
   ]
  },
  {
   "cell_type": "markdown",
   "metadata": {},
   "source": [
    "We can get the default parameters for the model and update them with the parameters required by the cracking model. For some parameter sets including mechanical parameters, this command is not necessary."
   ]
  },
  {
   "cell_type": "code",
   "execution_count": 4,
   "metadata": {},
   "outputs": [],
   "source": [
    "param = model.default_parameter_values\n",
    "chemistry = pybamm.parameter_sets.Chen2020\n",
    "param = pybamm.ParameterValues(chemistry=chemistry)\n",
    "param.update({\"Initial concentration in negative electrode [mol.m-3]\": 29866})\n",
    "param.update({\"Initial concentration in positive electrode [mol.m-3]\": 14778})\n",
    "param.update({\"Maximum concentration in negative electrode [mol.m-3]\": 33133})\n",
    "param.update({\"Maximum concentration in positive electrode [mol.m-3]\": 56840})\n",
    "param.update({\"Negative electrode diffusivity [m2.s-1]\": 6e-15}) #6e-15 good value\n",
    "param.update({\"Negative current collector surface heat transfer coefficient [W.m-2.K-1]\": 0.1, \n",
    "\"Positive current collector surface heat transfer coefficient [W.m-2.K-1]\": 0.1}, check_already_exists=False)\n",
    "param.update({\"Total heat transfer coefficient [W.m-2.K-1]\": 0.1})\n",
    "param.update({\"Ambient temperature [K]\": 298.15})\n",
    "param.update({\"Initial temperature [K]\": 298.15})\n",
    "param.update({\"Initial inner SEI thickness [m]\": 0})\n",
    "param.update({\"Inner SEI reaction proportion\": 0})\n",
    "param.update({\"Outer SEI solvent diffusivity [m2.s-1]\": 2.5e-22*1000})\n",
    "param2 = param\n",
    "\n",
    "# add mechanical properties\n",
    "import pandas as pd\n",
    "mechanics = pd.read_csv(\"pybamm/input/parameters/lithium-ion/mechanicals/lico2_graphite_Ai2020/parameters.csv\", \n",
    "                        index_col=0, comment=\"#\", skip_blank_lines=True, header=None)[1][1:].dropna().astype(float).to_dict()\n",
    "param.update(mechanics, check_already_exists=False)\n",
    "# params.update({\"Negative electrode Number of cracks per unit area of the particle [m-2]\": 3.18e15/100})\n",
    "param.update({\"Negative electrode Cracking rate\":3.9e-20*1000})"
   ]
  },
  {
   "cell_type": "markdown",
   "metadata": {},
   "source": [
    "Now we can define some working conditions for the battery cells."
   ]
  },
  {
   "cell_type": "code",
   "execution_count": 5,
   "metadata": {},
   "outputs": [],
   "source": [
    "total_cycles=4\n",
    "experiment = pybamm.Experiment(\n",
    "    [\"Hold at 4.2 V until 1 mA\",] +\n",
    "    [\n",
    "        \"Discharge at 1C until 2.5 V\",\n",
    "        \"Rest for 600 seconds\",\n",
    "        \"Charge at 1C until 4.2 V\",\n",
    "        \"Hold at 4.2 V until 1 mA\",\n",
    "    ] * total_cycles\n",
    ")\n",
    "# print(experiment)"
   ]
  },
  {
   "cell_type": "markdown",
   "metadata": {},
   "source": [
    "Then it can run the simulation with the defined parameters and working conditions. Another calculation without considering the sei-cracks submodel has also been carried out for comparison."
   ]
  },
  {
   "cell_type": "code",
   "execution_count": 6,
   "metadata": {},
   "outputs": [],
   "source": [
    "sim1 = pybamm.Simulation(model, experiment=experiment,parameter_values=param)\n",
    "solution1 = sim1.solve()\n",
    "\n",
    "# Use the default setup without sei-crack model\n",
    "model2 = pybamm.lithium_ion.DFN(\n",
    "    build=True, options={\"particle\": \"Fickian diffusion\", \"sei\":\"solvent-diffusion limited\", \"sei film resistance\":\"distributed\", \"sei porosity change\":False}\n",
    ")\n",
    "sim2 = pybamm.Simulation(model2, experiment=experiment,parameter_values=param2)\n",
    "solution2 = sim2.solve()"
   ]
  },
  {
   "cell_type": "markdown",
   "metadata": {},
   "source": [
    "Plot the results."
   ]
  },
  {
   "cell_type": "code",
   "execution_count": 7,
   "metadata": {},
   "outputs": [
    {
     "data": {
      "image/png": "[encoded data removed]",
      "text/plain": [
       "<Figure size 432x288 with 1 Axes>"
      ]
     },
     "metadata": {
      "needs_background": "light"
     },
     "output_type": "display_data"
    }
   ],
   "source": [
    "cycle_number1 = []\n",
    "Qdis_delta1 = []\n",
    "Qdis_delta2 = []\n",
    "roughness_cycle = []\n",
    "for i in range(total_cycles):\n",
    "    loc = i*4+1\n",
    "    t1 = solution1.sub_solutions[loc][\"Time [h]\"].entries\n",
    "    Qdis1 = solution1.sub_solutions[loc][\"Discharge capacity [A.h]\"].entries\n",
    "    Qdis_delta1.append(Qdis1[-1]-Qdis1[0])\n",
    "    cycle_number1.append(i)\n",
    "    roughness = solution1.sub_solutions[loc][\"Negative electrode roughness ratio\"].entries\n",
    "    roughness_cycle.append(roughness[0:-1,-1])\n",
    "    t2 = solution2.sub_solutions[loc][\"Time [h]\"].entries\n",
    "    Qdis2 = solution2.sub_solutions[loc][\"Discharge capacity [A.h]\"].entries\n",
    "    Qdis_delta2.append(Qdis2[-1]-Qdis2[0])\n",
    "plt.figure()\n",
    "plt.plot(cycle_number1, Qdis_delta1,label='with sei-cracks')\n",
    "plt.plot(cycle_number1, Qdis_delta2,label='without sei-cracks')\n",
    "plt.xlabel(\"Cycle nunber\")\n",
    "plt.ylabel(\"Discharge capacity [A.h]\")\n",
    "plt.legend()\n",
    "plt.show()"
   ]
  },
  {
   "cell_type": "code",
   "execution_count": null,
   "metadata": {},
   "outputs": [],
   "source": []
  },
  {
   "cell_type": "code",
   "execution_count": 8,
   "metadata": {
    "scrolled": true
   },
   "outputs": [
    {
     "data": {
      "image/png": "[encoded data removed]",
      "text/plain": [
       "<Figure size 432x288 with 1 Axes>"
      ]
     },
     "metadata": {
      "needs_background": "light"
     },
     "output_type": "display_data"
    }
   ],
   "source": [
    "plt.figure()\n",
    "for i in range(0,total_cycles,int(total_cycles/4)):\n",
    "    plt.plot(np.arange(1/38,1,1/19), roughness_cycle[i],label='cycle= '+str(i+1))\n",
    "plt.xlabel(\"$x$ in anode\")\n",
    "plt.ylabel(\"roughness ratio\")\n",
    "plt.legend(loc=(1.04,0))\n",
    "plt.annotate('current collector', xy=(0.05, 0.95),  xycoords='axes fraction',\n",
    "            xytext=(0.2, 0.95), textcoords='axes fraction',va=\"center\", ha=\"left\",\n",
    "            arrowprops=dict(arrowstyle=\"->\",connectionstyle=\"arc3\"),\n",
    "            )\n",
    "plt.annotate('separator', xy=(0.95, 0.95),  xycoords='axes fraction',\n",
    "            xytext=(0.7, 0.95), textcoords='axes fraction',va=\"center\", ha=\"left\",\n",
    "            arrowprops=dict(arrowstyle=\"->\",connectionstyle=\"arc3\"),\n",
    "            )\n",
    "plt.show()"
   ]
  },
  {
   "cell_type": "code",
   "execution_count": 9,
   "metadata": {},
   "outputs": [
    {
     "name": "stdout",
     "output_type": "stream",
     "text": [
      "[ 5.78050306e-18  1.90738397e-04  1.87877432e-04 ... -7.58016421e-06\n",
      " -7.50641499e-06 -7.45218289e-06]\n"
     ]
    }
   ],
   "source": [
    "t_all = solution1[\"Time [s]\"].entries\n",
    "x = solution1[\"x [m]\"].entries[0:19, 0]\n",
    "stress_t_n_surf = solution1[\"Negative particle surface tangential stress\"]\n",
    "print(stress_t_n_surf(t=t_all, x=x[0]))"
   ]
  },
  {
   "cell_type": "code",
   "execution_count": 10,
   "metadata": {},
   "outputs": [
    {
     "ename": "KeyError",
     "evalue": "\"'X-averaged total negative electrode sei-cracks thickness' not found. Best matches are ['X-averaged total negative electrode sei thickness', 'X-averaged total negative electrode sei thickness [m]', 'X-averaged outer negative electrode sei thickness']\"",
     "output_type": "error",
     "traceback": [
      "\u001b[0;31m---------------------------------------------------------------------------\u001b[0m",
      "\u001b[0;31mKeyError\u001b[0m                                  Traceback (most recent call last)",
      "\u001b[0;32m~/GEM/PyBaMM/pybamm/util.py\u001b[0m in \u001b[0;36m__getitem__\u001b[0;34m(self, key)\u001b[0m\n\u001b[1;32m     88\u001b[0m         \u001b[0;32mtry\u001b[0m\u001b[0;34m:\u001b[0m\u001b[0;34m\u001b[0m\u001b[0;34m\u001b[0m\u001b[0m\n\u001b[0;32m---> 89\u001b[0;31m             \u001b[0;32mreturn\u001b[0m \u001b[0msuper\u001b[0m\u001b[0;34m(\u001b[0m\u001b[0;34m)\u001b[0m\u001b[0;34m.\u001b[0m\u001b[0m__getitem__\u001b[0m\u001b[0;34m(\u001b[0m\u001b[0mkey\u001b[0m\u001b[0;34m)\u001b[0m\u001b[0;34m\u001b[0m\u001b[0;34m\u001b[0m\u001b[0m\n\u001b[0m\u001b[1;32m     90\u001b[0m         \u001b[0;32mexcept\u001b[0m \u001b[0mKeyError\u001b[0m\u001b[0;34m:\u001b[0m\u001b[0;34m\u001b[0m\u001b[0;34m\u001b[0m\u001b[0m\n",
      "\u001b[0;31mKeyError\u001b[0m: 'X-averaged total negative electrode sei-cracks thickness'",
      "\nDuring handling of the above exception, another exception occurred:\n",
      "\u001b[0;31mKeyError\u001b[0m                                  Traceback (most recent call last)",
      "\u001b[0;32m<ipython-input-10-01d871a06b5a>\u001b[0m in \u001b[0;36m<module>\u001b[0;34m\u001b[0m\n\u001b[1;32m      2\u001b[0m         solution1[\"X-averaged total negative electrode sei-cracks thickness\"].entries, label=\"With sei-cracks\")\n\u001b[1;32m      3\u001b[0m plt.plot(solution2[\"Time [h]\"].entries,\n\u001b[0;32m----> 4\u001b[0;31m         solution2[\"X-averaged total negative electrode sei-cracks thickness\"].entries, label=\"Without sei-cracks\")\n\u001b[0m\u001b[1;32m      5\u001b[0m \u001b[0mplt\u001b[0m\u001b[0;34m.\u001b[0m\u001b[0mxlabel\u001b[0m\u001b[0;34m(\u001b[0m\u001b[0;34m\"Time [h]\"\u001b[0m\u001b[0;34m)\u001b[0m\u001b[0;34m\u001b[0m\u001b[0;34m\u001b[0m\u001b[0m\n\u001b[1;32m      6\u001b[0m \u001b[0mplt\u001b[0m\u001b[0;34m.\u001b[0m\u001b[0mylabel\u001b[0m\u001b[0;34m(\u001b[0m\u001b[0;34m\"SEI thickenss [m]\"\u001b[0m\u001b[0;34m)\u001b[0m\u001b[0;34m\u001b[0m\u001b[0;34m\u001b[0m\u001b[0m\n",
      "\u001b[0;32m~/GEM/PyBaMM/pybamm/solvers/solution.py\u001b[0m in \u001b[0;36m__getitem__\u001b[0;34m(self, key)\u001b[0m\n\u001b[1;32m    199\u001b[0m         \u001b[0;32melse\u001b[0m\u001b[0;34m:\u001b[0m\u001b[0;34m\u001b[0m\u001b[0;34m\u001b[0m\u001b[0m\n\u001b[1;32m    200\u001b[0m             \u001b[0;31m# otherwise create it, save it and then return it\u001b[0m\u001b[0;34m\u001b[0m\u001b[0;34m\u001b[0m\u001b[0;34m\u001b[0m\u001b[0m\n\u001b[0;32m--> 201\u001b[0;31m             \u001b[0mself\u001b[0m\u001b[0;34m.\u001b[0m\u001b[0mupdate\u001b[0m\u001b[0;34m(\u001b[0m\u001b[0mkey\u001b[0m\u001b[0;34m)\u001b[0m\u001b[0;34m\u001b[0m\u001b[0;34m\u001b[0m\u001b[0m\n\u001b[0m\u001b[1;32m    202\u001b[0m             \u001b[0;32mreturn\u001b[0m \u001b[0mself\u001b[0m\u001b[0;34m.\u001b[0m\u001b[0m_variables\u001b[0m\u001b[0;34m[\u001b[0m\u001b[0mkey\u001b[0m\u001b[0;34m]\u001b[0m\u001b[0;34m\u001b[0m\u001b[0;34m\u001b[0m\u001b[0m\n\u001b[1;32m    203\u001b[0m \u001b[0;34m\u001b[0m\u001b[0m\n",
      "\u001b[0;32m~/GEM/PyBaMM/pybamm/solvers/solution.py\u001b[0m in \u001b[0;36mupdate\u001b[0;34m(self, variables)\u001b[0m\n\u001b[1;32m    167\u001b[0m             \u001b[0;32melse\u001b[0m\u001b[0;34m:\u001b[0m\u001b[0;34m\u001b[0m\u001b[0;34m\u001b[0m\u001b[0m\n\u001b[1;32m    168\u001b[0m                 var = pybamm.ProcessedVariable(\n\u001b[0;32m--> 169\u001b[0;31m                     \u001b[0mself\u001b[0m\u001b[0;34m.\u001b[0m\u001b[0mmodel\u001b[0m\u001b[0;34m.\u001b[0m\u001b[0mvariables\u001b[0m\u001b[0;34m[\u001b[0m\u001b[0mkey\u001b[0m\u001b[0;34m]\u001b[0m\u001b[0;34m,\u001b[0m \u001b[0mself\u001b[0m\u001b[0;34m,\u001b[0m \u001b[0mself\u001b[0m\u001b[0;34m.\u001b[0m\u001b[0m_known_evals\u001b[0m\u001b[0;34m\u001b[0m\u001b[0;34m\u001b[0m\u001b[0m\n\u001b[0m\u001b[1;32m    170\u001b[0m                 )\n\u001b[1;32m    171\u001b[0m \u001b[0;34m\u001b[0m\u001b[0m\n",
      "\u001b[0;32m~/GEM/PyBaMM/pybamm/util.py\u001b[0m in \u001b[0;36m__getitem__\u001b[0;34m(self, key)\u001b[0m\n\u001b[1;32m     90\u001b[0m         \u001b[0;32mexcept\u001b[0m \u001b[0mKeyError\u001b[0m\u001b[0;34m:\u001b[0m\u001b[0;34m\u001b[0m\u001b[0;34m\u001b[0m\u001b[0m\n\u001b[1;32m     91\u001b[0m             \u001b[0mbest_matches\u001b[0m \u001b[0;34m=\u001b[0m \u001b[0mself\u001b[0m\u001b[0;34m.\u001b[0m\u001b[0mget_best_matches\u001b[0m\u001b[0;34m(\u001b[0m\u001b[0mkey\u001b[0m\u001b[0;34m)\u001b[0m\u001b[0;34m\u001b[0m\u001b[0;34m\u001b[0m\u001b[0m\n\u001b[0;32m---> 92\u001b[0;31m             \u001b[0;32mraise\u001b[0m \u001b[0mKeyError\u001b[0m\u001b[0;34m(\u001b[0m\u001b[0;34mf\"'{key}' not found. Best matches are {best_matches}\"\u001b[0m\u001b[0;34m)\u001b[0m\u001b[0;34m\u001b[0m\u001b[0;34m\u001b[0m\u001b[0m\n\u001b[0m\u001b[1;32m     93\u001b[0m \u001b[0;34m\u001b[0m\u001b[0m\n\u001b[1;32m     94\u001b[0m     \u001b[0;32mdef\u001b[0m \u001b[0msearch\u001b[0m\u001b[0;34m(\u001b[0m\u001b[0mself\u001b[0m\u001b[0;34m,\u001b[0m \u001b[0mkey\u001b[0m\u001b[0;34m,\u001b[0m \u001b[0mprint_values\u001b[0m\u001b[0;34m=\u001b[0m\u001b[0;32mFalse\u001b[0m\u001b[0;34m)\u001b[0m\u001b[0;34m:\u001b[0m\u001b[0;34m\u001b[0m\u001b[0;34m\u001b[0m\u001b[0m\n",
      "\u001b[0;31mKeyError\u001b[0m: \"'X-averaged total negative electrode sei-cracks thickness' not found. Best matches are ['X-averaged total negative electrode sei thickness', 'X-averaged total negative electrode sei thickness [m]', 'X-averaged outer negative electrode sei thickness']\""
     ]
    },
    {
     "data": {
      "image/png": "[encoded data removed]",
      "text/plain": [
       "<Figure size 432x288 with 1 Axes>"
      ]
     },
     "metadata": {
      "needs_background": "light"
     },
     "output_type": "display_data"
    }
   ],
   "source": [
    "plt.plot(solution1[\"Time [h]\"].entries,\n",
    "        solution1[\"X-averaged total negative electrode sei-cracks thickness\"].entries, label=\"With sei-cracks\")\n",
    "plt.plot(solution2[\"Time [h]\"].entries,\n",
    "        solution2[\"X-averaged total negative electrode sei-cracks thickness\"].entries, label=\"Without sei-cracks\")\n",
    "plt.xlabel(\"Time [h]\")\n",
    "plt.ylabel(\"SEI thickenss [m]\")\n",
    "plt.legend()\n",
    "plt.show()"
   ]
  },
  {
   "cell_type": "code",
   "execution_count": null,
   "metadata": {},
   "outputs": [],
   "source": [
    "pybamm.dynamic_plot(\n",
    "    solution1,\n",
    "    output_variables =[\n",
    "        #\"Current [A]\",\n",
    "        \"Inner negative electrode sei thickness [m]\",\n",
    "        \"Outer negative electrode sei thickness [m]\",\n",
    "        \"Total negative electrode sei thickness [m]\",            \n",
    "    ])"
   ]
  },
  {
   "cell_type": "code",
   "execution_count": null,
   "metadata": {},
   "outputs": [],
   "source": [
    "print(solution1[\"X-averaged total negative electrode sei-cracks thickness [m]\"].entries"
   ]
  }
 ],
 "metadata": {
  "kernelspec": {
   "display_name": "Python 3",
   "language": "python",
   "name": "python3"
  },
  "language_info": {
   "codemirror_mode": {
    "name": "ipython",
    "version": 3
   },
   "file_extension": ".py",
   "mimetype": "text/x-python",
   "name": "python",
   "nbconvert_exporter": "python",
   "pygments_lexer": "ipython3",
   "version": "3.7.8"
  }
 },
 "nbformat": 4,
 "nbformat_minor": 4
}
