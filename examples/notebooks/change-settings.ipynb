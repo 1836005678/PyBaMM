{
 "cells": [
  {
   "cell_type": "markdown",
   "metadata": {},
   "source": [
    "# Changing settings when solving PyBaMM models\n",
    "\n",
    "[This](./models/SPM.ipynb) example notebook showed how to run an SPM battery model, using the default parameters, discretisation and solvers that were defined for that particular model. Naturally we would like the ability to alter these options on a case by case basis, and this notebook gives an example of how to do this, again using the SPM model.\n",
    "\n",
    "### Table of Contents\n",
    "1. [Default SPM model](#default)\n",
    "1. [Changing the parameters](#parameters)\n",
    "1. [Changing the discretisation](#discretisation)\n",
    "1. [Changing the solver](#solver)"
   ]
  },
  {
   "cell_type": "markdown",
   "metadata": {},
   "source": [
    "## The default SPM model  <a name=\"default\"></a>\n",
    "\n",
    "Below is the code to define and run the default SPM model included in PyBaMM (if this is unfamiliar to you, please see [this](./models/SPM.ipynb) notebook for more details)"
   ]
  },
  {
   "cell_type": "code",
   "execution_count": 1,
   "metadata": {},
   "outputs": [],
   "source": [
    "import pybamm\n",
    "import numpy as np\n",
    "import os\n",
    "import matplotlib.pyplot as plt\n",
    "os.chdir(pybamm.__path__[0]+'/..')\n",
    "\n",
    "# create the model\n",
    "model = pybamm.lithium_ion.SPM()\n",
    "\n",
    "# set the default model geometry\n",
    "geometry = model.default_geometry\n",
    "\n",
    "# set the default model parameters\n",
    "param = model.default_parameter_values\n",
    "\n",
    "# set the parameters for the model and the geometry\n",
    "param.process_model(model)\n",
    "param.process_geometry(geometry)\n",
    "\n",
    "# mesh the domains\n",
    "mesh = pybamm.Mesh(geometry, model.default_submesh_types, model.default_var_pts)\n",
    "\n",
    "# discretise the model equations\n",
    "disc = pybamm.Discretisation(mesh, model.default_spatial_methods)\n",
    "disc.process_model(model)\n",
    "\n",
    "# Solve the model at the given time points\n",
    "solver = model.default_solver\n",
    "n = 100\n",
    "t_eval = np.linspace(0, 0.2, n)\n",
    "solution = solver.solve(model, t_eval)"
   ]
  },
  {
   "cell_type": "markdown",
   "metadata": {},
   "source": [
    "To verify the solution, we can look at a plot of the Terminal voltage over time"
   ]
  },
  {
   "cell_type": "code",
   "execution_count": 2,
   "metadata": {},
   "outputs": [
    {
     "data": {
      "image/png": "[encoded data removed]",
      "text/plain": [
       "<Figure size 432x288 with 1 Axes>"
      ]
     },
     "metadata": {
      "needs_background": "light"
     },
     "output_type": "display_data"
    }
   ],
   "source": [
    "t, y = solution.t, solution.y\n",
    "time = pybamm.ProcessedVariable(model.variables[\"Time [h]\"], t, y)(t)\n",
    "voltage = pybamm.ProcessedVariable(model.variables[\"Terminal voltage [V]\"], t, y)(t)\n",
    "plt.plot(time, voltage, lw=2, label=model.name)\n",
    "plt.xlabel(\"Time [h]\", fontsize=15)\n",
    "plt.ylabel(\"Terminal voltage [V]\", fontsize=15)\n",
    "plt.show()"
   ]
  },
  {
   "cell_type": "markdown",
   "metadata": {},
   "source": [
    "## Changing the model parameters <a name=\"parameters\"></a>\n",
    "\n",
    "The parameters are defined using the [`pybamm.ParameterValues`](https://pybamm.readthedocs.io/en/latest/source/parameters/parameter_values.html) class, which takes either a python dictionary or CSV file with the mapping between parameter names and values.\n",
    "\n",
    "First lets have a look at the default parameters that are included with the SPM model:"
   ]
  },
  {
   "cell_type": "code",
   "execution_count": 3,
   "metadata": {},
   "outputs": [
    {
     "name": "stdout",
     "output_type": "stream",
     "text": [
      "PARAMETER                                                                                   VALUE\n",
      "-------------------------------------------------------------------------------------------------\n",
      "Reference temperature [K]                                                                  298.15\n",
      "Negative current collector width [m]                                                      2.5e-05\n",
      "Negative electrode width [m]                                                               0.0001\n",
      "Separator width [m]                                                                       2.5e-05\n",
      "Positive electrode width [m]                                                               0.0001\n",
      "Positive current collector width [m]                                                      2.5e-05\n",
      "Electrode height [m]                                                          0.13699999999999998\n",
      "Electrode depth [m]                                                                         0.207\n",
      "Negative current collector thickness [m]                                                  2.5e-05\n",
      "Positive current collector thickness [m]                                                  2.5e-05\n",
      "Negative tab width [m]                                                                       0.04\n",
      "Negative tab centre y-coordinate [m]                                                         0.06\n",
      "Negative tab centre z-coordinate [m]                                          0.13699999999999998\n",
      "Positive tab width [m]                                                                       0.04\n",
      "Positive tab centre y-coordinate [m]                                                        0.147\n",
      "Positive tab centre z-coordinate [m]                                          0.13699999999999998\n",
      "Number of electrodes connected in parallel to make a cell                                     1.0\n",
      "Lower voltage cut-off [V]                                                                   3.105\n",
      "Upper voltage cut-off [V]                                                                     4.7\n",
      "Typical electrolyte concentration [mol.m-3]                                                1000.0\n",
      "Cation transference number                                                                    0.4\n",
      "Typical lithium ion diffusivity [m2.s-1]                                                 5.34e-10\n",
      "Negative electrode conductivity [S.m-1]                                                     100.0\n",
      "Positive electrode conductivity [S.m-1]                                                      10.0\n",
      "Maximum concentration in negative electrode [mol.m-3]                          24983.261993843702\n",
      "Maximum concentration in positive electrode [mol.m-3]                            51217.9257309275\n",
      "Negative electrode diffusion coefficient [m2.s-1]                                         3.9e-14\n",
      "Positive electrode diffusion coefficient [m2.s-1]                                           1e-13\n",
      "Negative current collector conductivity [S.m-1]                                        59600000.0\n",
      "Positive current collector conductivity [S.m-1]                                        35500000.0\n",
      "Negative electrode porosity                                                                   0.3\n",
      "Separator porosity                                                                            1.0\n",
      "Positive electrode porosity                                                                   0.3\n",
      "Negative particle radius [m]                                                                1e-05\n",
      "Positive particle radius [m]                                                                1e-05\n",
      "Negative electrode surface area density [m-1]                                            180000.0\n",
      "Positive electrode surface area density [m-1]                                            150000.0\n",
      "Bruggeman coefficient                                                                         1.5\n",
      "Negative electrode cation signed stoichiometry                                               -1.0\n",
      "Positive electrode cation signed stoichiometry                                               -1.0\n",
      "Negative electrode electrons in reaction                                                      1.0\n",
      "Positive electrode electrons in reaction                                                      1.0\n",
      "Negative electrode reference exchange-current density [A.m-2(m3.mol)1.5]                    2e-05\n",
      "Positive electrode reference exchange-current density [A.m-2(m3.mol)1.5]                    6e-07\n",
      "Reference OCP vs SHE in the negative electrode [V]                                            nan\n",
      "Reference OCP vs SHE in the positive electrode [V]                                            nan\n",
      "Charge transfer coefficient                                                                   0.5\n",
      "Double-layer capacity [F.m-2]                                                                 0.2\n",
      "Negative current collector density [kg.m-3]                                                8954.0\n",
      "Negative electrode density [kg.m-3]                                                        1657.0\n",
      "Separator density [kg.m-3]                                                                  397.0\n",
      "Positive electrode density [kg.m-3]                                                        3262.0\n",
      "Positive current collector density [kg.m-3]                                                2707.0\n",
      "Negative current collector specific heat capacity [J.kg-1.K-1]                              385.0\n",
      "Negative electrode specific heat capacity [J.kg-1.K-1]                                      700.0\n",
      "Separator specific heat capacity [J.kg-1.K-1]                                               700.0\n",
      "Positive current collector specific heat capacity [J.kg-1.K-1]                              897.0\n",
      "Negative current collector thermal conductivity [W.m-1.K-1]                                 401.0\n",
      "Negative electrode thermal conductivity [W.m-1.K-1]                                           1.7\n",
      "Separator thermal conductivity [W.m-1.K-1]                                                   0.16\n",
      "Positive electrode thermal conductivity [W.m-1.K-1]                                           2.1\n",
      "Positive current collector thermal conductivity [W.m-1.K-1]                                 237.0\n",
      "Heat transfer coefficient [W.m-2.K-1]                                                        10.0\n",
      "Typical temperature variation [K]                                                             2.4\n",
      "Lumped effective thermal density [J.K-1.m-3]                                            1811600.0\n",
      "Effective thermal conductivity [W.m-1.K-1]                                                59.3964\n",
      "Initial concentration in electrolyte [mol.m-3]                                             1000.0\n",
      "Initial concentration in negative electrode [mol.m-3]                             19986.609595075\n",
      "Initial concentration in positive electrode [mol.m-3]                          30730.755438556498\n",
      "Initial temperature [K]                                                                    298.15\n",
      "Typical current [A]                                                                             1\n"
     ]
    },
    {
     "ename": "AttributeError",
     "evalue": "'GetConstantCurrent' object has no attribute '__name__'",
     "output_type": "error",
     "traceback": [
      "\u001b[0;31m---------------------------------------------------------------------------\u001b[0m",
      "\u001b[0;31mTypeError\u001b[0m                                 Traceback (most recent call last)",
      "\u001b[0;32m<ipython-input-3-87267d80e3a4>\u001b[0m in \u001b[0;36m<module>\u001b[0;34m\u001b[0m\n\u001b[1;32m      5\u001b[0m     \u001b[0;32mtry\u001b[0m\u001b[0;34m:\u001b[0m\u001b[0;34m\u001b[0m\u001b[0;34m\u001b[0m\u001b[0m\n\u001b[0;32m----> 6\u001b[0;31m         \u001b[0mprint\u001b[0m\u001b[0;34m(\u001b[0m\u001b[0mformat_str\u001b[0m\u001b[0;34m.\u001b[0m\u001b[0mformat\u001b[0m\u001b[0;34m(\u001b[0m\u001b[0mkey\u001b[0m\u001b[0;34m,\u001b[0m \u001b[0mvalue\u001b[0m\u001b[0;34m)\u001b[0m\u001b[0;34m)\u001b[0m\u001b[0;34m\u001b[0m\u001b[0;34m\u001b[0m\u001b[0m\n\u001b[0m\u001b[1;32m      7\u001b[0m     \u001b[0;32mexcept\u001b[0m \u001b[0mTypeError\u001b[0m\u001b[0;34m:\u001b[0m\u001b[0;34m\u001b[0m\u001b[0;34m\u001b[0m\u001b[0m\n",
      "\u001b[0;31mTypeError\u001b[0m: unsupported format string passed to GetConstantCurrent.__format__",
      "\nDuring handling of the above exception, another exception occurred:\n",
      "\u001b[0;31mAttributeError\u001b[0m                            Traceback (most recent call last)",
      "\u001b[0;32m<ipython-input-3-87267d80e3a4>\u001b[0m in \u001b[0;36m<module>\u001b[0;34m\u001b[0m\n\u001b[1;32m      6\u001b[0m         \u001b[0mprint\u001b[0m\u001b[0;34m(\u001b[0m\u001b[0mformat_str\u001b[0m\u001b[0;34m.\u001b[0m\u001b[0mformat\u001b[0m\u001b[0;34m(\u001b[0m\u001b[0mkey\u001b[0m\u001b[0;34m,\u001b[0m \u001b[0mvalue\u001b[0m\u001b[0;34m)\u001b[0m\u001b[0;34m)\u001b[0m\u001b[0;34m\u001b[0m\u001b[0;34m\u001b[0m\u001b[0m\n\u001b[1;32m      7\u001b[0m     \u001b[0;32mexcept\u001b[0m \u001b[0mTypeError\u001b[0m\u001b[0;34m:\u001b[0m\u001b[0;34m\u001b[0m\u001b[0;34m\u001b[0m\u001b[0m\n\u001b[0;32m----> 8\u001b[0;31m         \u001b[0mprint\u001b[0m\u001b[0;34m(\u001b[0m\u001b[0mformat_str\u001b[0m\u001b[0;34m.\u001b[0m\u001b[0mformat\u001b[0m\u001b[0;34m(\u001b[0m\u001b[0mkey\u001b[0m\u001b[0;34m,\u001b[0m \u001b[0mvalue\u001b[0m\u001b[0;34m.\u001b[0m\u001b[0m__name__\u001b[0m\u001b[0;34m(\u001b[0m\u001b[0;34m)\u001b[0m\u001b[0;34m)\u001b[0m\u001b[0;34m)\u001b[0m\u001b[0;34m\u001b[0m\u001b[0;34m\u001b[0m\u001b[0m\n\u001b[0m",
      "\u001b[0;31mAttributeError\u001b[0m: 'GetConstantCurrent' object has no attribute '__name__'"
     ]
    }
   ],
   "source": [
    "format_str = '{:<75}  {:>20}'\n",
    "print(format_str.format('PARAMETER', 'VALUE'))\n",
    "print(\"-\"*97)\n",
    "for key, value in model.default_parameter_values.items():\n",
    "    try:\n",
    "        print(format_str.format(key, value))\n",
    "    except TypeError:\n",
    "        print(format_str.format(key, value.__name__()))"
   ]
  },
  {
   "cell_type": "markdown",
   "metadata": {},
   "source": [
    "Most of the parameters in this list have numerical values. Some have string values, that point to particular python functions within PyBaMM. These denote parameters that vary over time and/or space, in a manner defined by the given python function. For the moment we will ignore these, and focus on altering one of the numerical parameters.\n",
    "\n",
    "The class [`pybamm.ParameterValues`](https://pybamm.readthedocs.io/en/latest/source/parameters/parameter_values.html) acts like the normal python `dict` data structure, so you can read or write individual parameters accordingly:"
   ]
  },
  {
   "cell_type": "code",
   "execution_count": null,
   "metadata": {},
   "outputs": [],
   "source": [
    "variable = \"Typical current [A]\"\n",
    "old_value = param[variable]\n",
    "param[variable] = 1.4\n",
    "new_value = param[variable]\n",
    "print(variable,'was',old_value)\n",
    "print(variable,'now is',param[variable])"
   ]
  },
  {
   "cell_type": "markdown",
   "metadata": {},
   "source": [
    "Once this parameter has been changed, the most foolproof way of re-running the simulation is to go through the entire process given above of (1) generating the model, (2) setting the parameters of the model, (3) meshing the domain, (4) discretising the equations, and finally (5), solving the equations. However, this is only neccessary in a small number of cases, if for example you change one of the geometry parameters, such as the *Negative electrode width*. In this case you would need to remesh the geometry as the relative length of the electrodes would have altered. This would in turn require you to re-discretise the model equations. \n",
    "\n",
    "In most use-cases, however, fully regenerating the discretisated model is not neccessary, and you can simply use the `update_model` function for [`pybamm.ParameterValues`](https://pybamm.readthedocs.io/en/latest/source/parameters/parameter_values.html)"
   ]
  },
  {
   "cell_type": "code",
   "execution_count": null,
   "metadata": {},
   "outputs": [],
   "source": [
    "param.update_model(model, disc)"
   ]
  },
  {
   "cell_type": "markdown",
   "metadata": {},
   "source": [
    "Now we can simply call the solver again to solve the new model"
   ]
  },
  {
   "cell_type": "code",
   "execution_count": null,
   "metadata": {},
   "outputs": [],
   "source": [
    "solution = solver.solve(model, t_eval)"
   ]
  },
  {
   "cell_type": "markdown",
   "metadata": {},
   "source": [
    "We can compare the Terminal voltage calculated using both the old and new parameters"
   ]
  },
  {
   "cell_type": "code",
   "execution_count": null,
   "metadata": {},
   "outputs": [],
   "source": [
    "t, y = solution.t, solution.y\n",
    "new_voltage = pybamm.ProcessedVariable(model.variables[\"Terminal voltage [V]\"], t, y)(t)\n",
    "new_time = pybamm.ProcessedVariable(model.variables[\"Time [h]\"], t, y)(t)\n",
    "plt.plot(time, voltage, lw=2, label=\"Typical current = {}\".format(old_value))\n",
    "plt.plot(new_time, new_voltage, lw=2, label=\"Typical current = {}\".format(new_value))\n",
    "plt.xlabel(\"Time [h]\", fontsize=15)\n",
    "plt.ylabel(\"Terminal voltage [V]\", fontsize=15)\n",
    "plt.legend(fontsize=15)\n",
    "plt.show()"
   ]
  },
  {
   "cell_type": "markdown",
   "metadata": {},
   "source": [
    "## Changing the discretisation <a name=\"discretisation\"></a>\n",
    "\n",
    "The chosen spatial discretisation method to use for each domain is passed into the [`pybamm.Discretisation`](https://pybamm.readthedocs.io/en/latest/source/discretisations/discretisation.html) class as one of its arguments. The default spatial methods for the SPM class are given as:\n"
   ]
  },
  {
   "cell_type": "code",
   "execution_count": null,
   "metadata": {},
   "outputs": [],
   "source": [
    "print(format_str.format('DOMAIN', 'DISCRETISED BY'))\n",
    "print(\"-\"*82)\n",
    "for key, value in model.default_spatial_methods.items():\n",
    "    print(format_str.format(key, value.__name__))"
   ]
  },
  {
   "cell_type": "markdown",
   "metadata": {},
   "source": [
    "To change the discretisation for a particular domain, you can update the spatial methods `dict` with the new discretiation class  that you wish to use, for example:"
   ]
  },
  {
   "cell_type": "code",
   "execution_count": null,
   "metadata": {},
   "outputs": [],
   "source": [
    "spatial_methods = model.default_spatial_methods\n",
    "spatial_methods[\"negative particle\"] = pybamm.FiniteVolume"
   ]
  },
  {
   "cell_type": "markdown",
   "metadata": {},
   "source": [
    "**NOTE**: at the current time, PyBaMM only supports Finite Volume discretisation, so the above does not alter the default discretisations. We plan on adding additional discretiations methods soon, so watch this space"
   ]
  },
  {
   "cell_type": "markdown",
   "metadata": {},
   "source": [
    "Now that we have set the new discretisation method, we can proceed to re-discretise and then solve the model. Note that in this case we need to regenerate the model using `pybamm.lithium_ion.SPM`, as the original model information was lost when we discretised it [above](#default). "
   ]
  },
  {
   "cell_type": "code",
   "execution_count": null,
   "metadata": {},
   "outputs": [],
   "source": [
    "# re-generate the model and set parameters\n",
    "model = pybamm.lithium_ion.SPM()\n",
    "param.process_model(model)\n",
    "\n",
    "# re-discretise the model ...\n",
    "disc = pybamm.Discretisation(mesh, spatial_methods)\n",
    "disc.process_model(model)\n",
    "\n",
    "# ... and finally solve it\n",
    "solution = solver.solve(model, t_eval)\n",
    "pybamm.QuickPlot(model, mesh, solution).plot(0)"
   ]
  },
  {
   "cell_type": "markdown",
   "metadata": {},
   "source": [
    "## Changing the solver <a name=\"solver\"></a>\n",
    "\n",
    "Which method you use to integrate the discretisated model in time can also be changed. PyBaMM currently has three different solver classes, which are:\n",
    "\n",
    "1. [pybamm.ScipySolver](https://pybamm.readthedocs.io/en/latest/source/solvers/scipy_solver.html). Uses normal python `scipy` ode integration classes.\n",
    "1. [ScikitsOdeSolver](https://pybamm.readthedocs.io/en/latest/source/solvers/scikits_solvers.html). Uses Sundials CVODE ODE time-stepper.\n",
    "1. [ScikitsDaeSolver](https://pybamm.readthedocs.io/en/latest/source/solvers/scikits_solvers.html). Uses Sundial IDA DAE time-stepper."
   ]
  },
  {
   "cell_type": "code",
   "execution_count": null,
   "metadata": {},
   "outputs": [],
   "source": [
    "print('Default solver for SPM model:',type(model.default_solver).__name__)"
   ]
  },
  {
   "cell_type": "markdown",
   "metadata": {},
   "source": [
    "To change this, simply create a new solver using one of the above classes and use it to solve your discretised model"
   ]
  },
  {
   "cell_type": "code",
   "execution_count": null,
   "metadata": {},
   "outputs": [],
   "source": [
    "new_solver = pybamm.ScipySolver()\n",
    "new_solution = new_solver.solve(model, t_eval)\n",
    "pybamm.QuickPlot(model, mesh, new_solution).plot(0)"
   ]
  },
  {
   "cell_type": "code",
   "execution_count": null,
   "metadata": {},
   "outputs": [],
   "source": []
  }
 ],
 "metadata": {
  "kernelspec": {
   "display_name": "Python 3",
   "language": "python",
   "name": "python3"
  },
  "language_info": {
   "codemirror_mode": {
    "name": "ipython",
    "version": 3
   },
   "file_extension": ".py",
   "mimetype": "text/x-python",
   "name": "python",
   "nbconvert_exporter": "python",
   "pygments_lexer": "ipython3",
   "version": "3.6.7"
  }
 },
 "nbformat": 4,
 "nbformat_minor": 2
}
