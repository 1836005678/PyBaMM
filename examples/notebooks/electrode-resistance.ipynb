{
 "cells": [
  {
   "cell_type": "code",
   "execution_count": 1,
   "metadata": {},
   "outputs": [],
   "source": [
    "import pybamm"
   ]
  },
  {
   "cell_type": "code",
   "execution_count": 27,
   "metadata": {},
   "outputs": [],
   "source": [
    "model = pybamm.lithium_ion.DFN()\n",
    "param = model.param\n",
    "parameter_values = pybamm.ParameterValues(chemistry=pybamm.parameter_sets.Mohtat2020)\n",
    "\n",
    "x0 = pybamm.InputParameter(\"x0\")\n",
    "y0 = pybamm.InputParameter(\"y0\")\n",
    "Cn = pybamm.InputParameter(\"Cn\")\n",
    "Cp = pybamm.InputParameter(\"Cp\")\n",
    "\n",
    "c_n_max = parameter_values.evaluate(param.c_n_max)\n",
    "c_p_max = parameter_values.evaluate(param.c_p_max)\n",
    "eps_over_C_n = parameter_values.evaluate(1/(param.F * param.A_cc * param.L_n * c_n_max / 3600))\n",
    "eps_over_C_p = parameter_values.evaluate(1/(param.F * param.A_cc * param.L_p * c_p_max / 3600))\n",
    "\n",
    "# x100 = \n",
    "# y100 = \n",
    "\n",
    "parameter_values.update({\n",
    "    \"Initial concentration in negative electrode [mol.m-3]\": x0 * c_n_max,\n",
    "    \"Initial concentration in positive electrode [mol.m-3]\": y0 * c_p_max,\n",
    "})\n",
    "\n",
    "x0 = 0.0017\n",
    "y0 = 0.8907\n",
    "\n"
   ]
  },
  {
   "cell_type": "code",
   "execution_count": 43,
   "metadata": {},
   "outputs": [
    {
     "data": {
      "text/plain": [
       "2.9376700924178767"
      ]
     },
     "execution_count": 43,
     "metadata": {},
     "output_type": "execute_result"
    }
   ],
   "source": [
    "0.3 / eps_over_C_n"
   ]
  },
  {
   "cell_type": "code",
   "execution_count": 40,
   "metadata": {},
   "outputs": [
    {
     "data": {
      "text/plain": [
       "Multiplication(-0x7c5953ee7eb13e1b, *, children=['x_n', '0.000141'], domain=['negative electrode'], auxiliary_domains={'secondary': \"['current collector']\"})"
      ]
     },
     "execution_count": 40,
     "metadata": {},
     "output_type": "execute_result"
    }
   ],
   "source": [
    "parameter_values.process_symbol(pybamm.x_average(model.param.epsilon_n).children[0].child.children[0])"
   ]
  },
  {
   "cell_type": "code",
   "execution_count": null,
   "metadata": {},
   "outputs": [],
   "source": [
    "sim = pybamm.Simulation(model, parameter_values=param, C_rate=-1)\n",
    "sol = sim.solve([0,3600])"
   ]
  },
  {
   "cell_type": "code",
   "execution_count": 10,
   "metadata": {
    "scrolled": true
   },
   "outputs": [
    {
     "data": {
      "application/vnd.jupyter.widget-view+json": {
       "model_id": "35388b18dd9d439e96355104c3f1f412",
       "version_major": 2,
       "version_minor": 0
      },
      "text/plain": [
       "interactive(children=(FloatSlider(value=0.0, description='t', max=3432.3961058235163, step=34.32396105823516),…"
      ]
     },
     "metadata": {},
     "output_type": "display_data"
    },
    {
     "data": {
      "text/plain": [
       "<pybamm.plotting.quick_plot.QuickPlot at 0x14ad743a0>"
      ]
     },
     "execution_count": 10,
     "metadata": {},
     "output_type": "execute_result"
    }
   ],
   "source": [
    "sol.plot()"
   ]
  },
  {
   "cell_type": "code",
   "execution_count": 14,
   "metadata": {},
   "outputs": [
    {
     "data": {
      "application/vnd.jupyter.widget-view+json": {
       "model_id": "0d545cfd8c8a46a988b9da00ed0a3222",
       "version_major": 2,
       "version_minor": 0
      },
      "text/plain": [
       "interactive(children=(FloatSlider(value=0.0, description='t', max=3432.3961058235163, step=34.32396105823516),…"
      ]
     },
     "metadata": {},
     "output_type": "display_data"
    },
    {
     "data": {
      "text/plain": [
       "<pybamm.plotting.quick_plot.QuickPlot at 0x14b2466a0>"
      ]
     },
     "execution_count": 14,
     "metadata": {},
     "output_type": "execute_result"
    }
   ],
   "source": [
    "sol.plot([\"Local ECM resistance [Ohm]\"])"
   ]
  },
  {
   "cell_type": "code",
   "execution_count": null,
   "metadata": {},
   "outputs": [],
   "source": []
  }
 ],
 "metadata": {
  "kernelspec": {
   "display_name": "Python 3",
   "language": "python",
   "name": "python3"
  },
  "language_info": {
   "codemirror_mode": {
    "name": "ipython",
    "version": 3
   },
   "file_extension": ".py",
   "mimetype": "text/x-python",
   "name": "python",
   "nbconvert_exporter": "python",
   "pygments_lexer": "ipython3",
   "version": "3.8.6"
  },
  "toc": {
   "base_numbering": 1,
   "nav_menu": {},
   "number_sections": true,
   "sideBar": true,
   "skip_h1_title": false,
   "title_cell": "Table of Contents",
   "title_sidebar": "Contents",
   "toc_cell": false,
   "toc_position": {},
   "toc_section_display": true,
   "toc_window_display": true
  }
 },
 "nbformat": 4,
 "nbformat_minor": 4
}
