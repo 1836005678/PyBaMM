{
 "cells": [
  {
   "cell_type": "markdown",
   "metadata": {},
   "source": [
    "# Zero dimensional li-s model\n",
    "\n",
    "In this notebook we solve the model given in [2]. "
   ]
  },
  {
   "cell_type": "markdown",
   "metadata": {},
   "source": [
    "## References\n",
    "\n",
    "[1]  Marinescu, M., Zhang, T. & Offer, G. J. (2016). A zero dimensional model of lithium-sulfur batteries during charge and discharge. Physical Chemistry Chemical Physics, 18, 584-593.\n",
    "\n",
    "[2]  Marinescu, M., O’Neill, L., Zhang, T., Walus, S., Wilson, T. E., & Offer, G. J. (2018). Irreversible vs reversible capacity fade of lithium-sulfur batteries during The Electrochemical Society, 165(1), A6107-A6118."
   ]
  },
  {
   "cell_type": "code",
   "execution_count": 1,
   "metadata": {},
   "outputs": [],
   "source": [
    "import pybamm\n",
    "import numpy as np \n",
    "import matplotlib.pyplot as plt"
   ]
  },
  {
   "cell_type": "markdown",
   "metadata": {},
   "source": [
    "We first load the model and update the parameter values to match those given in the paper"
   ]
  },
  {
   "cell_type": "code",
   "execution_count": 2,
   "metadata": {},
   "outputs": [],
   "source": [
    "model = pybamm.lithium_sulfur.MarinescuEtAl2016()\n",
    "\n",
    "# Update current and ICs to correspond to initial 2.4V as in ref [2]\n",
    "params = model.default_parameter_values\n",
    "params.update(\n",
    "    {\n",
    "        \"Current function [A]\": 1.7,\n",
    "        \"Initial Condition for S8 ion [g]\": 2.6730,\n",
    "        \"Initial Condition for S4 ion [g]\": 0.0128,\n",
    "        \"Initial Condition for S2 ion [g]\": 4.3321e-6,\n",
    "        \"Initial Condition for S ion [g]\": 1.6321e-6,\n",
    "        \"Initial Condition for Precipitated Sulfur [g]\": 2.7e-06,\n",
    "        \"Initial Condition for Terminal Voltage [V]\": 2.4,\n",
    "        \"Shuttle rate coefficient during charge [s-1]\": 0.0002,\n",
    "        \"Shuttle rate coefficient during discharge [s-1]\": 0.0002,\n",
    "    }\n",
    ")"
   ]
  },
  {
   "cell_type": "markdown",
   "metadata": {},
   "source": [
    "We then set up and solve the simulation"
   ]
  },
  {
   "cell_type": "code",
   "execution_count": 3,
   "metadata": {},
   "outputs": [
    {
     "name": "stderr",
     "output_type": "stream",
     "text": [
      "psetup failed: .../casadi/interfaces/sundials/idas_interface.cpp:827: Calculating Jacobian failed\n",
      "psetup failed: .../casadi/interfaces/sundials/idas_interface.cpp:827: Calculating Jacobian failed\n",
      "psetup failed: .../casadi/interfaces/sundials/idas_interface.cpp:827: Calculating Jacobian failed\n",
      "psetup failed: .../casadi/interfaces/sundials/idas_interface.cpp:827: Calculating Jacobian failed\n",
      "psetup failed: .../casadi/interfaces/sundials/idas_interface.cpp:827: Calculating Jacobian failed\n",
      "psetup failed: .../casadi/interfaces/sundials/idas_interface.cpp:827: Calculating Jacobian failed\n",
      "psetup failed: .../casadi/interfaces/sundials/idas_interface.cpp:827: Calculating Jacobian failed\n",
      "psetup failed: .../casadi/interfaces/sundials/idas_interface.cpp:827: Calculating Jacobian failed\n",
      "psetup failed: .../casadi/interfaces/sundials/idas_interface.cpp:827: Calculating Jacobian failed\n",
      "psetup failed: .../casadi/interfaces/sundials/idas_interface.cpp:827: Calculating Jacobian failed\n",
      "psetup failed: .../casadi/interfaces/sundials/idas_interface.cpp:827: Calculating Jacobian failed\n",
      "psetup failed: .../casadi/interfaces/sundials/idas_interface.cpp:827: Calculating Jacobian failed\n",
      "psetup failed: .../casadi/interfaces/sundials/idas_interface.cpp:827: Calculating Jacobian failed\n",
      "psetup failed: .../casadi/interfaces/sundials/idas_interface.cpp:827: Calculating Jacobian failed\n",
      "psetup failed: .../casadi/interfaces/sundials/idas_interface.cpp:827: Calculating Jacobian failed\n",
      "psetup failed: .../casadi/interfaces/sundials/idas_interface.cpp:827: Calculating Jacobian failed\n",
      "psetup failed: .../casadi/interfaces/sundials/idas_interface.cpp:827: Calculating Jacobian failed\n",
      "psetup failed: .../casadi/interfaces/sundials/idas_interface.cpp:827: Calculating Jacobian failed\n",
      "At t = 6688.99 and h = 9.53674e-08, the corrector convergence failed repeatedly or with |h| = hmin.\n",
      "psetup failed: .../casadi/interfaces/sundials/idas_interface.cpp:827: Calculating Jacobian failed\n",
      "psetup failed: .../casadi/interfaces/sundials/idas_interface.cpp:827: Calculating Jacobian failed\n",
      "psetup failed: .../casadi/interfaces/sundials/idas_interface.cpp:827: Calculating Jacobian failed\n",
      "psetup failed: .../casadi/interfaces/sundials/idas_interface.cpp:827: Calculating Jacobian failed\n",
      "psetup failed: .../casadi/interfaces/sundials/idas_interface.cpp:827: Calculating Jacobian failed\n",
      "psetup failed: .../casadi/interfaces/sundials/idas_interface.cpp:827: Calculating Jacobian failed\n",
      "psetup failed: .../casadi/interfaces/sundials/idas_interface.cpp:827: Calculating Jacobian failed\n",
      "psetup failed: .../casadi/interfaces/sundials/idas_interface.cpp:827: Calculating Jacobian failed\n",
      "psetup failed: .../casadi/interfaces/sundials/idas_interface.cpp:827: Calculating Jacobian failed\n",
      "psetup failed: .../casadi/interfaces/sundials/idas_interface.cpp:827: Calculating Jacobian failed\n",
      "psetup failed: .../casadi/interfaces/sundials/idas_interface.cpp:827: Calculating Jacobian failed\n",
      "psetup failed: .../casadi/interfaces/sundials/idas_interface.cpp:827: Calculating Jacobian failed\n",
      "psetup failed: .../casadi/interfaces/sundials/idas_interface.cpp:827: Calculating Jacobian failed\n",
      "At t = 6688.57 and h = 9.53674e-08, the corrector convergence failed repeatedly or with |h| = hmin.\n",
      "psetup failed: .../casadi/interfaces/sundials/idas_interface.cpp:827: Calculating Jacobian failed\n",
      "psetup failed: .../casadi/interfaces/sundials/idas_interface.cpp:827: Calculating Jacobian failed\n",
      "psetup failed: .../casadi/interfaces/sundials/idas_interface.cpp:827: Calculating Jacobian failed\n",
      "psetup failed: .../casadi/interfaces/sundials/idas_interface.cpp:827: Calculating Jacobian failed\n",
      "psetup failed: .../casadi/interfaces/sundials/idas_interface.cpp:827: Calculating Jacobian failed\n",
      "psetup failed: .../casadi/interfaces/sundials/idas_interface.cpp:827: Calculating Jacobian failed\n",
      "psetup failed: .../casadi/interfaces/sundials/idas_interface.cpp:827: Calculating Jacobian failed\n",
      "psetup failed: .../casadi/interfaces/sundials/idas_interface.cpp:827: Calculating Jacobian failed\n",
      "psetup failed: .../casadi/interfaces/sundials/idas_interface.cpp:827: Calculating Jacobian failed\n",
      "psetup failed: .../casadi/interfaces/sundials/idas_interface.cpp:827: Calculating Jacobian failed\n",
      "psetup failed: .../casadi/interfaces/sundials/idas_interface.cpp:827: Calculating Jacobian failed\n",
      "psetup failed: .../casadi/interfaces/sundials/idas_interface.cpp:827: Calculating Jacobian failed\n",
      "psetup failed: .../casadi/interfaces/sundials/idas_interface.cpp:827: Calculating Jacobian failed\n",
      "psetup failed: .../casadi/interfaces/sundials/idas_interface.cpp:827: Calculating Jacobian failed\n",
      "psetup failed: .../casadi/interfaces/sundials/idas_interface.cpp:827: Calculating Jacobian failed\n",
      "At t = 6696.83 and h = 9.53674e-08, the corrector convergence failed repeatedly or with |h| = hmin.\n",
      "psetup failed: .../casadi/interfaces/sundials/idas_interface.cpp:827: Calculating Jacobian failed\n",
      "psetup failed: .../casadi/interfaces/sundials/idas_interface.cpp:827: Calculating Jacobian failed\n",
      "psetup failed: .../casadi/interfaces/sundials/idas_interface.cpp:827: Calculating Jacobian failed\n",
      "psetup failed: .../casadi/interfaces/sundials/idas_interface.cpp:827: Calculating Jacobian failed\n",
      "psetup failed: .../casadi/interfaces/sundials/idas_interface.cpp:827: Calculating Jacobian failed\n",
      "psetup failed: .../casadi/interfaces/sundials/idas_interface.cpp:827: Calculating Jacobian failed\n",
      "psetup failed: .../casadi/interfaces/sundials/idas_interface.cpp:827: Calculating Jacobian failed\n",
      "psetup failed: .../casadi/interfaces/sundials/idas_interface.cpp:827: Calculating Jacobian failed\n",
      "psetup failed: .../casadi/interfaces/sundials/idas_interface.cpp:827: Calculating Jacobian failed\n",
      "psetup failed: .../casadi/interfaces/sundials/idas_interface.cpp:827: Calculating Jacobian failed\n",
      "psetup failed: .../casadi/interfaces/sundials/idas_interface.cpp:827: Calculating Jacobian failed\n",
      "At t = 6700.81 and h = 2.62022e-08, the corrector convergence failed repeatedly or with |h| = hmin.\n",
      "psetup failed: .../casadi/interfaces/sundials/idas_interface.cpp:827: Calculating Jacobian failed\n",
      "psetup failed: .../casadi/interfaces/sundials/idas_interface.cpp:827: Calculating Jacobian failed\n",
      "psetup failed: .../casadi/interfaces/sundials/idas_interface.cpp:827: Calculating Jacobian failed\n",
      "psetup failed: .../casadi/interfaces/sundials/idas_interface.cpp:827: Calculating Jacobian failed\n",
      "psetup failed: .../casadi/interfaces/sundials/idas_interface.cpp:827: Calculating Jacobian failed\n",
      "psetup failed: .../casadi/interfaces/sundials/idas_interface.cpp:827: Calculating Jacobian failed\n",
      "psetup failed: .../casadi/interfaces/sundials/idas_interface.cpp:827: Calculating Jacobian failed\n",
      "psetup failed: .../casadi/interfaces/sundials/idas_interface.cpp:827: Calculating Jacobian failed\n",
      "psetup failed: .../casadi/interfaces/sundials/idas_interface.cpp:827: Calculating Jacobian failed\n",
      "psetup failed: .../casadi/interfaces/sundials/idas_interface.cpp:827: Calculating Jacobian failed\n",
      "psetup failed: .../casadi/interfaces/sundials/idas_interface.cpp:827: Calculating Jacobian failed\n",
      "psetup failed: .../casadi/interfaces/sundials/idas_interface.cpp:827: Calculating Jacobian failed\n",
      "psetup failed: .../casadi/interfaces/sundials/idas_interface.cpp:827: Calculating Jacobian failed\n",
      "psetup failed: .../casadi/interfaces/sundials/idas_interface.cpp:827: Calculating Jacobian failed\n",
      "psetup failed: .../casadi/interfaces/sundials/idas_interface.cpp:827: Calculating Jacobian failed\n",
      "At t = 6702.58 and h = 1.19209e-08, the corrector convergence failed repeatedly or with |h| = hmin.\n",
      "psetup failed: .../casadi/interfaces/sundials/idas_interface.cpp:827: Calculating Jacobian failed\n",
      "psetup failed: .../casadi/interfaces/sundials/idas_interface.cpp:827: Calculating Jacobian failed\n",
      "psetup failed: .../casadi/interfaces/sundials/idas_interface.cpp:827: Calculating Jacobian failed\n",
      "psetup failed: .../casadi/interfaces/sundials/idas_interface.cpp:827: Calculating Jacobian failed\n",
      "psetup failed: .../casadi/interfaces/sundials/idas_interface.cpp:827: Calculating Jacobian failed\n",
      "psetup failed: .../casadi/interfaces/sundials/idas_interface.cpp:827: Calculating Jacobian failed\n",
      "psetup failed: .../casadi/interfaces/sundials/idas_interface.cpp:827: Calculating Jacobian failed\n",
      "psetup failed: .../casadi/interfaces/sundials/idas_interface.cpp:827: Calculating Jacobian failed\n",
      "psetup failed: .../casadi/interfaces/sundials/idas_interface.cpp:827: Calculating Jacobian failed\n",
      "psetup failed: .../casadi/interfaces/sundials/idas_interface.cpp:827: Calculating Jacobian failed\n",
      "psetup failed: .../casadi/interfaces/sundials/idas_interface.cpp:827: Calculating Jacobian failed\n",
      "At t = 6703.01 and h = 2.58662e-08, the corrector convergence failed repeatedly or with |h| = hmin.\n",
      "psetup failed: .../casadi/interfaces/sundials/idas_interface.cpp:827: Calculating Jacobian failed\n"
     ]
    },
    {
     "data": {
      "text/plain": [
       "<pybamm.solvers.solution.Solution at 0x7fc9f1ffe7f0>"
      ]
     },
     "execution_count": 3,
     "metadata": {},
     "output_type": "execute_result"
    }
   ],
   "source": [
    "# Set up and solve simulation\n",
    "sim = pybamm.Simulation(\n",
    "    model,\n",
    "    parameter_values=params,\n",
    "    solver=pybamm.CasadiSolver(\n",
    "        atol=1e-6, rtol=1e-3, extra_options_setup={\"max_step_size\": 0.1}\n",
    "    ),\n",
    ")\n",
    "sim.solve(np.linspace(0, 7000, 700))"
   ]
  },
  {
   "cell_type": "code",
   "execution_count": 4,
   "metadata": {},
   "outputs": [
    {
     "data": {
      "application/vnd.jupyter.widget-view+json": {
       "model_id": "f9b4f541aec9447cbcef7816d161e396",
       "version_major": 2,
       "version_minor": 0
      },
      "text/plain": [
       "interactive(children=(FloatSlider(value=0.0, description='t', max=1.8619510688039784, step=0.01861951068803978…"
      ]
     },
     "metadata": {},
     "output_type": "display_data"
    }
   ],
   "source": [
    "sim.plot(model.variables)"
   ]
  },
  {
   "cell_type": "code",
   "execution_count": 5,
   "metadata": {},
   "outputs": [
    {
     "name": "stdout",
     "output_type": "stream",
     "text": [
      "Solution time:  1.627 s\n",
      "Final time:  1 hour, 51 minutes, 43 seconds\n",
      "Termination reason:  event: Zero theoretical capacity\n"
     ]
    }
   ],
   "source": [
    "timer = pybamm.Timer()\n",
    "print(\"Solution time: \", timer.format(sim.solution.solve_time))\n",
    "print(\"Final time: \", timer.format(sim.solution.t[-1]))\n",
    "print(\"Termination reason: \", sim.solution.termination)"
   ]
  },
  {
   "cell_type": "markdown",
   "metadata": {},
   "source": [
    "We see that the solver stopped when zero theoretical capacity.\n",
    "\n",
    "Now we can extract the variables we are interested in from the solution object and plot the results."
   ]
  },
  {
   "cell_type": "code",
   "execution_count": 6,
   "metadata": {},
   "outputs": [
    {
     "data": {
      "text/plain": [
       "<matplotlib.legend.Legend at 0x7fc9eee32208>"
      ]
     },
     "execution_count": 6,
     "metadata": {},
     "output_type": "execute_result"
    },
    {
     "data": {
      "image/png": "[encoded data removed]",
      "text/plain": [
       "<Figure size 1080x576 with 4 Axes>"
      ]
     },
     "metadata": {
      "needs_background": "light"
     },
     "output_type": "display_data"
    }
   ],
   "source": [
    "# extract variables \n",
    "t = sim.solution[\"Time [s]\"].entries\n",
    "S8 = sim.solution[\"S8 [g]\"].entries\n",
    "S4 = sim.solution[\"S4 [g]\"].entries\n",
    "S2 = sim.solution[\"S2 [g]\"].entries\n",
    "Sp = sim.solution[\"Precipitated Sulfur [g]\"].entries\n",
    "S_tot = S8 + S4 + S2 + Sp\n",
    "i_H = sim.solution[\"High plateau current [A]\"].entries\n",
    "i_L = sim.solution[\"Low plateau current [A]\"].entries\n",
    "eta_H = sim.solution[\"High plateau over-potential [V]\"].entries\n",
    "eta_L = sim.solution[\"Low plateau over-potential [V]\"].entries\n",
    "E_H = sim.solution[\"High plateau potential [V]\"].entries\n",
    "E_L = sim.solution[\"Low plateau potential [V]\"].entries\n",
    "V = sim.solution[\"Terminal voltage [V]\"].entries\n",
    "\n",
    "# set up figure and plot\n",
    "fig, ax = plt.subplots(2, 2, figsize=(15,8))\n",
    "\n",
    "ax[0, 0].plot(t, S8, label=\"S8\")\n",
    "ax[0, 0].plot(t, S4, label=\"S4\")\n",
    "ax[0, 0].plot(t, S2, label=\"S2\")\n",
    "ax[0, 0].plot(t, Sp, label=\"Sp\")\n",
    "ax[0, 0].plot(t, S_tot, label=\"S_{tot}\")\n",
    "ax[0, 0].set_xlim([0, 8000])\n",
    "ax[0, 0].set_ylim([0, 3])\n",
    "ax[0, 0].set_xlabel(\"Time [s]\")\n",
    "ax[0, 0].set_ylabel(\"Species mass [g]\")\n",
    "ax[0, 0].legend()\n",
    "\n",
    "ax[0, 1].plot(t, i_H, label=\"i_H\")\n",
    "ax[0, 1].plot(t, i_L, label=\"i_L\")\n",
    "ax[0, 1].set_xlim([0, 8000])\n",
    "ax[0, 1].set_ylim([0, 2])\n",
    "ax[0, 1].set_xlabel(\"Time [s]\")\n",
    "ax[0, 1].set_ylabel(\"Reaction current [A]\")\n",
    "ax[0, 1].legend()\n",
    "\n",
    "ax[1, 0].plot(t, eta_H, label=\"eta_H\")\n",
    "ax[1, 0].plot(t, eta_L, label=\"eta_L\")\n",
    "ax[1, 0].set_xlim([0, 8000])\n",
    "ax[1, 0].set_ylim([-20e-3, 0])\n",
    "ax[1, 0].set_xlabel(\"Time [s]\")\n",
    "ax[1, 0].set_ylabel(\"Reaction overpotential [V]\")\n",
    "ax[1, 0].legend()\n",
    "\n",
    "ax[1, 1].plot(t, E_H, label=\"E_H\")\n",
    "ax[1, 1].plot(t, E_L, label=\"E_L\")\n",
    "ax[1, 1].plot(t, V, label=\"V\")\n",
    "ax[1, 1].set_xlim([0, 8000])\n",
    "ax[1, 1].set_ylim([2.2, 2.45])\n",
    "ax[1, 1].set_xlabel(\"Time [s]\")\n",
    "ax[1, 1].set_ylabel(\"Nernst and cell voltages [V]\")\n",
    "ax[1, 1].legend()"
   ]
  },
  {
   "cell_type": "markdown",
   "metadata": {},
   "source": [
    "## Speeding up the solve time\n",
    "\n",
    "We see that the solution ended because we hit an \"event\". We can speed up the solve time by using the `CasadiSolver` in \"fast\" mode, but this doesn't support events. Instead we can solve up to a time just before the event was hit, and see that the solve time is reduced."
   ]
  },
  {
   "cell_type": "code",
   "execution_count": 7,
   "metadata": {},
   "outputs": [
    {
     "name": "stderr",
     "output_type": "stream",
     "text": [
      "psetup failed: .../casadi/interfaces/sundials/idas_interface.cpp:827: Calculating Jacobian failed\n"
     ]
    },
    {
     "data": {
      "text/plain": [
       "<pybamm.solvers.solution.Solution at 0x7fc9eed630b8>"
      ]
     },
     "execution_count": 7,
     "metadata": {},
     "output_type": "execute_result"
    }
   ],
   "source": [
    "sim = pybamm.Simulation(\n",
    "    model,\n",
    "    parameter_values=params,\n",
    "    solver=pybamm.CasadiSolver(\n",
    "        atol=1e-6, rtol=1e-3, mode=\"fast\", extra_options_setup={\"max_step_size\": 0.1}\n",
    "    ),\n",
    ")\n",
    "sim.solve(np.linspace(0, 6680, 680))"
   ]
  },
  {
   "cell_type": "code",
   "execution_count": 8,
   "metadata": {},
   "outputs": [
    {
     "name": "stdout",
     "output_type": "stream",
     "text": [
      "Solution time:  547.747 ms\n",
      "Final time:  1 hour, 51 minutes, 20 seconds\n",
      "Termination reason:  final time\n"
     ]
    }
   ],
   "source": [
    "timer = pybamm.Timer()\n",
    "print(\"Solution time: \", timer.format(sim.solution.solve_time))\n",
    "print(\"Final time: \", timer.format(sim.solution.t[-1]))\n",
    "print(\"Termination reason: \", sim.solution.termination)"
   ]
  },
  {
   "cell_type": "code",
   "execution_count": 9,
   "metadata": {},
   "outputs": [
    {
     "data": {
      "application/vnd.jupyter.widget-view+json": {
       "model_id": "132afc216a70490a983eb038538f73a0",
       "version_major": 2,
       "version_minor": 0
      },
      "text/plain": [
       "interactive(children=(FloatSlider(value=0.0, description='t', max=1.8555555555555556, step=0.01855555555555555…"
      ]
     },
     "metadata": {},
     "output_type": "display_data"
    }
   ],
   "source": [
    "sim.plot()"
   ]
  },
  {
   "cell_type": "markdown",
   "metadata": {},
   "source": [
    "## Play with some solver options"
   ]
  },
  {
   "cell_type": "code",
   "execution_count": 10,
   "metadata": {},
   "outputs": [
    {
     "name": "stdout",
     "output_type": "stream",
     "text": [
      "FORWARD INTEGRATION:\n",
      "Number of steps taken by SUNDIALS: 669\n",
      "Number of calls to the user’s f function: 1360\n",
      "Number of calls made to the linear solver setup function: 173\n",
      "Number of error test failures: 39\n",
      "Method order used on the last internal step: 2\n",
      "Method order to be used on the next internal step: 2\n",
      "Actual value of initial step size: 4.37663e-06\n",
      "Step size taken on the last internal step: 1.50923\n",
      "Step size to be attempted on the next internal step: 1.50923\n",
      "Current internal time reached: 1.50923\n",
      "Number of nonlinear iterations performed: 1342\n",
      "Number of nonlinear convergence failures: 26\n",
      "\n"
     ]
    },
    {
     "name": "stderr",
     "output_type": "stream",
     "text": [
      "psetup failed: .../casadi/interfaces/sundials/idas_interface.cpp:827: Calculating Jacobian failed\n",
      "psetup failed: .../casadi/interfaces/sundials/idas_interface.cpp:827: Calculating Jacobian failed\n",
      "psetup failed: .../casadi/interfaces/sundials/idas_interface.cpp:827: Calculating Jacobian failed\n",
      "psetup failed: .../casadi/interfaces/sundials/idas_interface.cpp:827: Calculating Jacobian failed\n",
      "psetup failed: .../casadi/interfaces/sundials/idas_interface.cpp:827: Calculating Jacobian failed\n",
      "psetup failed: .../casadi/interfaces/sundials/idas_interface.cpp:827: Calculating Jacobian failed\n",
      "psetup failed: .../casadi/interfaces/sundials/idas_interface.cpp:827: Calculating Jacobian failed\n",
      "psetup failed: .../casadi/interfaces/sundials/idas_interface.cpp:827: Calculating Jacobian failed\n",
      "psetup failed: .../casadi/interfaces/sundials/idas_interface.cpp:827: Calculating Jacobian failed\n",
      "psetup failed: .../casadi/interfaces/sundials/idas_interface.cpp:827: Calculating Jacobian failed\n",
      "psetup failed: .../casadi/interfaces/sundials/idas_interface.cpp:827: Calculating Jacobian failed\n",
      "psetup failed: .../casadi/interfaces/sundials/idas_interface.cpp:827: Calculating Jacobian failed\n"
     ]
    },
    {
     "data": {
      "text/plain": [
       "<pybamm.solvers.solution.Solution at 0x7fc9ec8d10b8>"
      ]
     },
     "execution_count": 10,
     "metadata": {},
     "output_type": "execute_result"
    }
   ],
   "source": [
    "sim = pybamm.Simulation(\n",
    "    model,\n",
    "    parameter_values=params,\n",
    "    solver=pybamm.CasadiSolver(\n",
    "        atol=1e-8, rtol=1e-6, mode=\"fast\", \n",
    "        extra_options_setup={\n",
    "            \"print_stats\": True,\n",
    "        }\n",
    "    ),\n",
    ")\n",
    "sim.solve(np.linspace(0, 6680, 680))"
   ]
  },
  {
   "cell_type": "code",
   "execution_count": 11,
   "metadata": {},
   "outputs": [
    {
     "name": "stdout",
     "output_type": "stream",
     "text": [
      "Solution time:  24.489 ms\n",
      "Final time:  1 hour, 51 minutes, 20 seconds\n",
      "Termination reason:  final time\n"
     ]
    }
   ],
   "source": [
    "timer = pybamm.Timer()\n",
    "print(\"Solution time: \", timer.format(sim.solution.solve_time))\n",
    "print(\"Final time: \", timer.format(sim.solution.t[-1]))\n",
    "print(\"Termination reason: \", sim.solution.termination)"
   ]
  },
  {
   "cell_type": "code",
   "execution_count": 12,
   "metadata": {},
   "outputs": [
    {
     "data": {
      "application/vnd.jupyter.widget-view+json": {
       "model_id": "9cbf50a4fbc44cd7aab40a060e089533",
       "version_major": 2,
       "version_minor": 0
      },
      "text/plain": [
       "interactive(children=(FloatSlider(value=0.0, description='t', max=1.8555555555555556, step=0.01855555555555555…"
      ]
     },
     "metadata": {},
     "output_type": "display_data"
    }
   ],
   "source": [
    "sim.plot(model.variables)"
   ]
  },
  {
   "cell_type": "code",
   "execution_count": 13,
   "metadata": {},
   "outputs": [
    {
     "name": "stdout",
     "output_type": "stream",
     "text": [
      "FORWARD INTEGRATION:\n",
      "Number of steps taken by SUNDIALS: 66839\n",
      "Number of calls to the user’s f function: 67685\n",
      "Number of calls made to the linear solver setup function: 194\n",
      "Number of error test failures: 0\n",
      "Method order used on the last internal step: 3\n",
      "Method order to be used on the next internal step: 3\n",
      "Actual value of initial step size: 4.37663e-06\n",
      "Step size taken on the last internal step: 0.0516991\n",
      "Step size to be attempted on the next internal step: 0.1\n",
      "Current internal time reached: 0.1\n",
      "Number of nonlinear iterations performed: 67679\n",
      "Number of nonlinear convergence failures: 4\n",
      "\n"
     ]
    },
    {
     "data": {
      "text/plain": [
       "<pybamm.solvers.solution.Solution at 0x7fc9e7fb9080>"
      ]
     },
     "execution_count": 13,
     "metadata": {},
     "output_type": "execute_result"
    }
   ],
   "source": [
    "sim = pybamm.Simulation(\n",
    "    model,\n",
    "    parameter_values=params,\n",
    "    solver=pybamm.CasadiSolver(\n",
    "        atol=1e-8, rtol=1e-6, mode=\"fast\", \n",
    "        extra_options_setup={\n",
    "            \"max_step_size\": 0.1,\n",
    "            \"print_stats\": True,\n",
    "        }\n",
    "    ),\n",
    ")\n",
    "sim.solve(np.linspace(0, 6680, 680))"
   ]
  },
  {
   "cell_type": "code",
   "execution_count": 14,
   "metadata": {},
   "outputs": [
    {
     "name": "stdout",
     "output_type": "stream",
     "text": [
      "Solution time:  622.855 ms\n",
      "Final time:  1 hour, 51 minutes, 20 seconds\n",
      "Termination reason:  final time\n"
     ]
    }
   ],
   "source": [
    "timer = pybamm.Timer()\n",
    "print(\"Solution time: \", timer.format(sim.solution.solve_time))\n",
    "print(\"Final time: \", timer.format(sim.solution.t[-1]))\n",
    "print(\"Termination reason: \", sim.solution.termination)"
   ]
  },
  {
   "cell_type": "code",
   "execution_count": 15,
   "metadata": {},
   "outputs": [
    {
     "data": {
      "application/vnd.jupyter.widget-view+json": {
       "model_id": "b5923d63b41142b2bb6b9201288ac8a8",
       "version_major": 2,
       "version_minor": 0
      },
      "text/plain": [
       "interactive(children=(FloatSlider(value=0.0, description='t', max=1.8555555555555556, step=0.01855555555555555…"
      ]
     },
     "metadata": {},
     "output_type": "display_data"
    }
   ],
   "source": [
    "sim.plot(model.variables)"
   ]
  },
  {
   "cell_type": "code",
   "execution_count": 16,
   "metadata": {},
   "outputs": [
    {
     "data": {
      "text/plain": [
       "1.4189385420538595e-10"
      ]
     },
     "execution_count": 16,
     "metadata": {},
     "output_type": "execute_result"
    }
   ],
   "source": [
    "sim.solution[\"S8 [g]\"].entries[-1]"
   ]
  },
  {
   "cell_type": "code",
   "execution_count": 17,
   "metadata": {},
   "outputs": [
    {
     "name": "stdout",
     "output_type": "stream",
     "text": [
      "FORWARD INTEGRATION:\n",
      "Number of steps taken by SUNDIALS: 113\n",
      "Number of calls to the user’s f function: 265\n",
      "Number of calls made to the linear solver setup function: 35\n",
      "Number of error test failures: 3\n",
      "Method order used on the last internal step: 3\n",
      "Method order to be used on the next internal step: 3\n",
      "Actual value of initial step size: 4.37663e-06\n",
      "Step size taken on the last internal step: 5.69004\n",
      "Step size to be attempted on the next internal step: 11.3801\n",
      "Current internal time reached: 11.3801\n",
      "Number of nonlinear iterations performed: 260\n",
      "Number of nonlinear convergence failures: 3\n",
      "\n",
      "FORWARD INTEGRATION:\n",
      "Number of steps taken by SUNDIALS: 34\n",
      "Number of calls to the user’s f function: 50\n",
      "Number of calls made to the linear solver setup function: 17\n",
      "Number of error test failures: 0\n",
      "Method order used on the last internal step: 3\n",
      "Method order to be used on the next internal step: 3\n",
      "Actual value of initial step size: 0.000548978\n",
      "Step size taken on the last internal step: 31.0051\n",
      "Step size to be attempted on the next internal step: 62.0101\n",
      "Current internal time reached: 62.0101\n",
      "Number of nonlinear iterations performed: 48\n",
      "Number of nonlinear convergence failures: 0\n",
      "\n",
      "FORWARD INTEGRATION:\n",
      "Number of steps taken by SUNDIALS: 46\n",
      "Number of calls to the user’s f function: 102\n",
      "Number of calls made to the linear solver setup function: 19\n",
      "Number of error test failures: 1\n",
      "Method order used on the last internal step: 3\n",
      "Method order to be used on the next internal step: 3\n",
      "Actual value of initial step size: 0.00073877\n",
      "Step size taken on the last internal step: 5.04409\n",
      "Step size to be attempted on the next internal step: 10.0882\n",
      "Current internal time reached: 10.0882\n",
      "Number of nonlinear iterations performed: 100\n",
      "Number of nonlinear convergence failures: 0\n",
      "\n",
      "FORWARD INTEGRATION:\n",
      "Number of steps taken by SUNDIALS: 383\n",
      "Number of calls to the user’s f function: 685\n",
      "Number of calls made to the linear solver setup function: 45\n",
      "Number of error test failures: 14\n",
      "Method order used on the last internal step: 3\n",
      "Method order to be used on the next internal step: 3\n",
      "Actual value of initial step size: 0.000233375\n",
      "Step size taken on the last internal step: 3.84295\n",
      "Step size to be attempted on the next internal step: 7.6859\n",
      "Current internal time reached: 7.6859\n",
      "Number of nonlinear iterations performed: 683\n",
      "Number of nonlinear convergence failures: 0\n",
      "\n",
      "FORWARD INTEGRATION:\n",
      "Number of steps taken by SUNDIALS: 55\n",
      "Number of calls to the user’s f function: 91\n",
      "Number of calls made to the linear solver setup function: 18\n",
      "Number of error test failures: 0\n",
      "Method order used on the last internal step: 3\n",
      "Method order to be used on the next internal step: 3\n",
      "Actual value of initial step size: 0.000420077\n",
      "Step size taken on the last internal step: 6.63995\n",
      "Step size to be attempted on the next internal step: 13.2799\n",
      "Current internal time reached: 13.2799\n",
      "Number of nonlinear iterations performed: 89\n",
      "Number of nonlinear convergence failures: 0\n",
      "\n",
      "FORWARD INTEGRATION:\n",
      "Number of steps taken by SUNDIALS: 31\n",
      "Number of calls to the user’s f function: 45\n",
      "Number of calls made to the linear solver setup function: 16\n",
      "Number of error test failures: 0\n",
      "Method order used on the last internal step: 4\n",
      "Method order to be used on the next internal step: 4\n",
      "Actual value of initial step size: 0.000933175\n",
      "Step size taken on the last internal step: 53.6307\n",
      "Step size to be attempted on the next internal step: 53.6307\n",
      "Current internal time reached: 53.6307\n",
      "Number of nonlinear iterations performed: 43\n",
      "Number of nonlinear convergence failures: 0\n",
      "\n",
      "FORWARD INTEGRATION:\n",
      "Number of steps taken by SUNDIALS: 27\n",
      "Number of calls to the user’s f function: 45\n",
      "Number of calls made to the linear solver setup function: 17\n",
      "Number of error test failures: 0\n",
      "Method order used on the last internal step: 3\n",
      "Method order to be used on the next internal step: 3\n",
      "Actual value of initial step size: 0.00137565\n",
      "Step size taken on the last internal step: 67.3849\n",
      "Step size to be attempted on the next internal step: 67.3849\n",
      "Current internal time reached: 67.3849\n",
      "Number of nonlinear iterations performed: 43\n",
      "Number of nonlinear convergence failures: 0\n",
      "\n",
      "FORWARD INTEGRATION:\n",
      "Number of steps taken by SUNDIALS: 25\n",
      "Number of calls to the user’s f function: 40\n",
      "Number of calls made to the linear solver setup function: 17\n",
      "Number of error test failures: 0\n",
      "Method order used on the last internal step: 3\n",
      "Method order to be used on the next internal step: 3\n",
      "Actual value of initial step size: 0.00169272\n",
      "Step size taken on the last internal step: 77.209\n",
      "Step size to be attempted on the next internal step: 154.418\n",
      "Current internal time reached: 154.418\n",
      "Number of nonlinear iterations performed: 38\n",
      "Number of nonlinear convergence failures: 0\n",
      "\n",
      "FORWARD INTEGRATION:\n",
      "Number of steps taken by SUNDIALS: 25\n",
      "Number of calls to the user’s f function: 39\n",
      "Number of calls made to the linear solver setup function: 18\n",
      "Number of error test failures: 0\n",
      "Method order used on the last internal step: 3\n",
      "Method order to be used on the next internal step: 3\n",
      "Actual value of initial step size: 0.00178905\n",
      "Step size taken on the last internal step: 48.0103\n",
      "Step size to be attempted on the next internal step: 48.0103\n",
      "Current internal time reached: 48.0103\n",
      "Number of nonlinear iterations performed: 37\n",
      "Number of nonlinear convergence failures: 0\n",
      "\n",
      "FORWARD INTEGRATION:\n",
      "Number of steps taken by SUNDIALS: 27\n",
      "Number of calls to the user’s f function: 42\n",
      "Number of calls made to the linear solver setup function: 18\n",
      "Number of error test failures: 0\n",
      "Method order used on the last internal step: 3\n",
      "Method order to be used on the next internal step: 3\n",
      "Actual value of initial step size: 0.00156847\n",
      "Step size taken on the last internal step: 38.3487\n",
      "Step size to be attempted on the next internal step: 76.6974\n",
      "Current internal time reached: 76.6974\n",
      "Number of nonlinear iterations performed: 40\n",
      "Number of nonlinear convergence failures: 0\n",
      "\n",
      "FORWARD INTEGRATION:\n",
      "Number of steps taken by SUNDIALS: 42\n",
      "Number of calls to the user’s f function: 69\n",
      "Number of calls made to the linear solver setup function: 21\n",
      "Number of error test failures: 2\n",
      "Method order used on the last internal step: 2\n",
      "Method order to be used on the next internal step: 2\n",
      "Actual value of initial step size: 0.00103069\n",
      "Step size taken on the last internal step: 17.9702\n",
      "Step size to be attempted on the next internal step: 17.9702\n",
      "Current internal time reached: 17.9702\n",
      "Number of nonlinear iterations performed: 67\n",
      "Number of nonlinear convergence failures: 0\n",
      "\n",
      "FORWARD INTEGRATION:\n",
      "Number of steps taken by SUNDIALS: 30\n",
      "Number of calls to the user’s f function: 127\n",
      "Number of calls made to the linear solver setup function: 28\n",
      "Number of error test failures: 2\n",
      "Method order used on the last internal step: 2\n",
      "Method order to be used on the next internal step: 2\n",
      "Actual value of initial step size: 0.000280567\n",
      "Step size taken on the last internal step: 2.99127\n",
      "Step size to be attempted on the next internal step: 5.98254\n",
      "Current internal time reached: 5.98254\n",
      "Number of nonlinear iterations performed: 89\n",
      "Number of nonlinear convergence failures: 3\n",
      "\n",
      "FORWARD INTEGRATION:\n",
      "Number of steps taken by SUNDIALS: 26\n",
      "Number of calls to the user’s f function: 39\n",
      "Number of calls made to the linear solver setup function: 17\n",
      "Number of error test failures: 0\n",
      "Method order used on the last internal step: 3\n",
      "Method order to be used on the next internal step: 3\n",
      "Actual value of initial step size: 0.000210067\n",
      "Step size taken on the last internal step: 6.91482\n",
      "Step size to be attempted on the next internal step: 6.91482\n",
      "Current internal time reached: 6.91482\n",
      "Number of nonlinear iterations performed: 37\n",
      "Number of nonlinear convergence failures: 0\n",
      "\n",
      "FORWARD INTEGRATION:\n",
      "Number of steps taken by SUNDIALS: 61\n",
      "Number of calls to the user’s f function: 200\n",
      "Number of calls made to the linear solver setup function: 47\n",
      "Number of error test failures: 4\n",
      "Method order used on the last internal step: 3\n",
      "Method order to be used on the next internal step: 3\n",
      "Actual value of initial step size: 9.38493e-06\n",
      "Step size taken on the last internal step: 1.27519\n",
      "Step size to be attempted on the next internal step: 2.55037\n",
      "Current internal time reached: 2.55037\n",
      "Number of nonlinear iterations performed: 193\n",
      "Number of nonlinear convergence failures: 5\n",
      "\n",
      "FORWARD INTEGRATION:\n",
      "Number of steps taken by SUNDIALS: 49\n",
      "Number of calls to the user’s f function: 214\n",
      "Number of calls made to the linear solver setup function: 42\n",
      "Number of error test failures: 4\n",
      "Method order used on the last internal step: 2\n",
      "Method order to be used on the next internal step: 2\n",
      "Actual value of initial step size: 4.07513e-05\n",
      "Step size taken on the last internal step: 0.781051\n",
      "Step size to be attempted on the next internal step: 1.5621\n",
      "Current internal time reached: 1.5621\n",
      "Number of nonlinear iterations performed: 148\n",
      "Number of nonlinear convergence failures: 7\n",
      "\n",
      "FORWARD INTEGRATION:\n",
      "Number of steps taken by SUNDIALS: 21\n",
      "Number of calls to the user’s f function: 30\n",
      "Number of calls made to the linear solver setup function: 16\n",
      "Number of error test failures: 0\n",
      "Method order used on the last internal step: 2\n",
      "Method order to be used on the next internal step: 2\n",
      "Actual value of initial step size: 6.72038e-05\n",
      "Step size taken on the last internal step: 2.13053\n",
      "Step size to be attempted on the next internal step: 2.13053\n",
      "Current internal time reached: 2.13053\n",
      "Number of nonlinear iterations performed: 28\n",
      "Number of nonlinear convergence failures: 0\n",
      "\n"
     ]
    },
    {
     "name": "stderr",
     "output_type": "stream",
     "text": [
      "psetup failed: .../casadi/interfaces/sundials/idas_interface.cpp:827: Calculating Jacobian failed\n",
      "psetup failed: .../casadi/interfaces/sundials/idas_interface.cpp:827: Calculating Jacobian failed\n",
      "psetup failed: .../casadi/interfaces/sundials/idas_interface.cpp:827: Calculating Jacobian failed\n",
      "psetup failed: .../casadi/interfaces/sundials/idas_interface.cpp:827: Calculating Jacobian failed\n",
      "psetup failed: .../casadi/interfaces/sundials/idas_interface.cpp:827: Calculating Jacobian failed\n",
      "psetup failed: .../casadi/interfaces/sundials/idas_interface.cpp:827: Calculating Jacobian failed\n",
      "psetup failed: .../casadi/interfaces/sundials/idas_interface.cpp:827: Calculating Jacobian failed\n",
      "psetup failed: .../casadi/interfaces/sundials/idas_interface.cpp:827: Calculating Jacobian failed\n",
      "psetup failed: .../casadi/interfaces/sundials/idas_interface.cpp:827: Calculating Jacobian failed\n",
      "psetup failed: .../casadi/interfaces/sundials/idas_interface.cpp:827: Calculating Jacobian failed\n",
      "At t = 6632.58 and h = 1.19567e-05, the corrector convergence failed repeatedly or with |h| = hmin.\n",
      "psetup failed: .../casadi/interfaces/sundials/idas_interface.cpp:827: Calculating Jacobian failed\n",
      "psetup failed: .../casadi/interfaces/sundials/idas_interface.cpp:827: Calculating Jacobian failed\n",
      "psetup failed: .../casadi/interfaces/sundials/idas_interface.cpp:827: Calculating Jacobian failed\n",
      "psetup failed: .../casadi/interfaces/sundials/idas_interface.cpp:827: Calculating Jacobian failed\n",
      "psetup failed: .../casadi/interfaces/sundials/idas_interface.cpp:827: Calculating Jacobian failed\n",
      "psetup failed: .../casadi/interfaces/sundials/idas_interface.cpp:827: Calculating Jacobian failed\n",
      "psetup failed: .../casadi/interfaces/sundials/idas_interface.cpp:827: Calculating Jacobian failed\n",
      "psetup failed: .../casadi/interfaces/sundials/idas_interface.cpp:827: Calculating Jacobian failed\n",
      "psetup failed: .../casadi/interfaces/sundials/idas_interface.cpp:827: Calculating Jacobian failed\n",
      "psetup failed: .../casadi/interfaces/sundials/idas_interface.cpp:827: Calculating Jacobian failed\n",
      "At t = 6632.58 and h = 1.19567e-05, the corrector convergence failed repeatedly or with |h| = hmin.\n",
      "psetup failed: .../casadi/interfaces/sundials/idas_interface.cpp:827: Calculating Jacobian failed\n",
      "psetup failed: .../casadi/interfaces/sundials/idas_interface.cpp:827: Calculating Jacobian failed\n",
      "psetup failed: .../casadi/interfaces/sundials/idas_interface.cpp:827: Calculating Jacobian failed\n",
      "psetup failed: .../casadi/interfaces/sundials/idas_interface.cpp:827: Calculating Jacobian failed\n",
      "psetup failed: .../casadi/interfaces/sundials/idas_interface.cpp:827: Calculating Jacobian failed\n",
      "psetup failed: .../casadi/interfaces/sundials/idas_interface.cpp:827: Calculating Jacobian failed\n",
      "psetup failed: .../casadi/interfaces/sundials/idas_interface.cpp:827: Calculating Jacobian failed\n",
      "psetup failed: .../casadi/interfaces/sundials/idas_interface.cpp:827: Calculating Jacobian failed\n",
      "psetup failed: .../casadi/interfaces/sundials/idas_interface.cpp:827: Calculating Jacobian failed\n",
      "psetup failed: .../casadi/interfaces/sundials/idas_interface.cpp:827: Calculating Jacobian failed\n",
      "At t = 6632.34 and h = 7.92017e-06, the corrector convergence failed repeatedly or with |h| = hmin.\n",
      "psetup failed: .../casadi/interfaces/sundials/idas_interface.cpp:827: Calculating Jacobian failed\n",
      "At t = 6664.47 and h = 5.17022e-06, the corrector convergence failed repeatedly or with |h| = hmin.\n",
      "psetup failed: .../casadi/interfaces/sundials/idas_interface.cpp:827: Calculating Jacobian failed\n",
      "psetup failed: .../casadi/interfaces/sundials/idas_interface.cpp:827: Calculating Jacobian failed\n",
      "psetup failed: .../casadi/interfaces/sundials/idas_interface.cpp:827: Calculating Jacobian failed\n",
      "At t = 6679.87 and h = 6.81127e-09, the corrector convergence failed repeatedly or with |h| = hmin.\n",
      "psetup failed: .../casadi/interfaces/sundials/idas_interface.cpp:827: Calculating Jacobian failed\n",
      "psetup failed: .../casadi/interfaces/sundials/idas_interface.cpp:827: Calculating Jacobian failed\n"
     ]
    },
    {
     "data": {
      "text/plain": [
       "<pybamm.solvers.solution.Solution at 0x7fc9e777bcf8>"
      ]
     },
     "execution_count": 17,
     "metadata": {},
     "output_type": "execute_result"
    }
   ],
   "source": [
    "sim = pybamm.Simulation(\n",
    "    model,\n",
    "    parameter_values=params,\n",
    "    solver=pybamm.CasadiSolver(\n",
    "        atol=1e-8, rtol=1e-6, mode=\"safe\", dt_max=600, \n",
    "        extra_options_setup={\n",
    "            \"print_stats\": True,\n",
    "        }\n",
    "    ),\n",
    ")\n",
    "sim.solve(np.linspace(0, 6680, 680))"
   ]
  },
  {
   "cell_type": "code",
   "execution_count": 18,
   "metadata": {},
   "outputs": [
    {
     "name": "stdout",
     "output_type": "stream",
     "text": [
      "Solution time:  87.899 ms\n",
      "Final time:  1 hour, 51 minutes, 20 seconds\n",
      "Termination reason:  final time\n"
     ]
    }
   ],
   "source": [
    "timer = pybamm.Timer()\n",
    "print(\"Solution time: \", timer.format(sim.solution.solve_time))\n",
    "print(\"Final time: \", timer.format(sim.solution.t[-1]))\n",
    "print(\"Termination reason: \", sim.solution.termination)"
   ]
  },
  {
   "cell_type": "code",
   "execution_count": 19,
   "metadata": {},
   "outputs": [
    {
     "data": {
      "application/vnd.jupyter.widget-view+json": {
       "model_id": "67e6f2565a544a8092d92c1de6e55ee2",
       "version_major": 2,
       "version_minor": 0
      },
      "text/plain": [
       "interactive(children=(FloatSlider(value=0.0, description='t', max=1.8555555555555556, step=0.01855555555555555…"
      ]
     },
     "metadata": {},
     "output_type": "display_data"
    }
   ],
   "source": [
    "sim.plot(model.variables)"
   ]
  },
  {
   "cell_type": "code",
   "execution_count": 20,
   "metadata": {},
   "outputs": [
    {
     "data": {
      "text/plain": [
       "<matplotlib.legend.Legend at 0x7fc9e6e71cc0>"
      ]
     },
     "execution_count": 20,
     "metadata": {},
     "output_type": "execute_result"
    },
    {
     "data": {
      "image/png": "[encoded data removed]",
      "text/plain": [
       "<Figure size 1080x576 with 4 Axes>"
      ]
     },
     "metadata": {
      "needs_background": "light"
     },
     "output_type": "display_data"
    }
   ],
   "source": [
    "# extract variables \n",
    "t = sim.solution[\"Time [s]\"].entries\n",
    "S8 = sim.solution[\"S8 [g]\"].entries\n",
    "S4 = sim.solution[\"S4 [g]\"].entries\n",
    "S2 = sim.solution[\"S2 [g]\"].entries\n",
    "Sp = sim.solution[\"Precipitated Sulfur [g]\"].entries\n",
    "S_tot = S8 + S4 + S2 + Sp\n",
    "i_H = sim.solution[\"High plateau current [A]\"].entries\n",
    "i_L = sim.solution[\"Low plateau current [A]\"].entries\n",
    "eta_H = sim.solution[\"High plateau over-potential [V]\"].entries\n",
    "eta_L = sim.solution[\"Low plateau over-potential [V]\"].entries\n",
    "E_H = sim.solution[\"High plateau potential [V]\"].entries\n",
    "E_L = sim.solution[\"Low plateau potential [V]\"].entries\n",
    "V = sim.solution[\"Terminal voltage [V]\"].entries\n",
    "\n",
    "# set up figure and plot\n",
    "fig, ax = plt.subplots(2, 2, figsize=(15,8))\n",
    "\n",
    "ax[0, 0].plot(t, S8, label=\"S8\")\n",
    "ax[0, 0].plot(t, S4, label=\"S4\")\n",
    "ax[0, 0].plot(t, S2, label=\"S2\")\n",
    "ax[0, 0].plot(t, Sp, label=\"Sp\")\n",
    "ax[0, 0].plot(t, S_tot, label=\"S_{tot}\")\n",
    "ax[0, 0].set_xlim([0, 8000])\n",
    "ax[0, 0].set_ylim([0, 3])\n",
    "ax[0, 0].set_xlabel(\"Time [s]\")\n",
    "ax[0, 0].set_ylabel(\"Species mass [g]\")\n",
    "ax[0, 0].legend()\n",
    "\n",
    "ax[0, 1].plot(t, i_H, label=\"i_H\")\n",
    "ax[0, 1].plot(t, i_L, label=\"i_L\")\n",
    "ax[0, 1].set_xlim([0, 8000])\n",
    "ax[0, 1].set_ylim([0, 2])\n",
    "ax[0, 1].set_xlabel(\"Time [s]\")\n",
    "ax[0, 1].set_ylabel(\"Reaction current [A]\")\n",
    "ax[0, 1].legend()\n",
    "\n",
    "ax[1, 0].plot(t, eta_H, label=\"eta_H\")\n",
    "ax[1, 0].plot(t, eta_L, label=\"eta_L\")\n",
    "ax[1, 0].set_xlim([0, 8000])\n",
    "ax[1, 0].set_ylim([-20e-3, 0])\n",
    "ax[1, 0].set_xlabel(\"Time [s]\")\n",
    "ax[1, 0].set_ylabel(\"Reaction overpotential [V]\")\n",
    "ax[1, 0].legend()\n",
    "\n",
    "ax[1, 1].plot(t, E_H, label=\"E_H\")\n",
    "ax[1, 1].plot(t, E_L, label=\"E_L\")\n",
    "ax[1, 1].plot(t, V, label=\"V\")\n",
    "ax[1, 1].set_xlim([0, 8000])\n",
    "ax[1, 1].set_ylim([2.2, 2.45])\n",
    "ax[1, 1].set_xlabel(\"Time [s]\")\n",
    "ax[1, 1].set_ylabel(\"Nernst and cell voltages [V]\")\n",
    "ax[1, 1].legend()"
   ]
  }
 ],
 "metadata": {
  "kernelspec": {
   "display_name": "Python 3",
   "language": "python",
   "name": "python3"
  },
  "language_info": {
   "codemirror_mode": {
    "name": "ipython",
    "version": 3
   },
   "file_extension": ".py",
   "mimetype": "text/x-python",
   "name": "python",
   "nbconvert_exporter": "python",
   "pygments_lexer": "ipython3",
   "version": "3.6.9"
  }
 },
 "nbformat": 4,
 "nbformat_minor": 4
}
