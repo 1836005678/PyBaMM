{
 "cells": [
  {
   "cell_type": "markdown",
   "id": "regional-bedroom",
   "metadata": {},
   "source": [
    "# Simulating long experiments"
   ]
  },
  {
   "cell_type": "markdown",
   "id": "quantitative-radar",
   "metadata": {},
   "source": [
    "This notebook introduces functionality for simulating experiments over hundreds or even thousands of cycles. \n",
    "\n",
    "In the interest of simplicity and running time, we consider a SPM with SEI effects leading to linear degradation."
   ]
  },
  {
   "cell_type": "markdown",
   "id": "dominican-practice",
   "metadata": {},
   "source": [
    "- termination\n",
    "- save_at_cycles\n",
    "- summary variables\n",
    "- starting solution"
   ]
  },
  {
   "cell_type": "code",
   "execution_count": 1,
   "id": "novel-spectacular",
   "metadata": {},
   "outputs": [
    {
     "name": "stdout",
     "output_type": "stream",
     "text": [
      "\u001b[33mWARNING: You are using pip version 21.0.1; however, version 21.1.1 is available.\n",
      "You should consider upgrading via the '/Users/vsulzer/Documents/Energy_storage/PyBaMM/.tox/dev/bin/python -m pip install --upgrade pip' command.\u001b[0m\n",
      "Note: you may need to restart the kernel to use updated packages.\n"
     ]
    }
   ],
   "source": [
    "%pip install pybamm -q\n",
    "import pybamm\n",
    "import matplotlib.pyplot as plt\n",
    "import numpy as np"
   ]
  },
  {
   "cell_type": "code",
   "execution_count": 2,
   "id": "limiting-making",
   "metadata": {},
   "outputs": [],
   "source": [
    "# parameter_values = pybamm.ParameterValues(chemistry=pybamm.parameter_sets.Mohtat2020)\n",
    "# parameter_values.update(\n",
    "#     {\n",
    "#         \"SEI kinetic rate constant [m.s-1]\": 1e-15,\n",
    "# #         \"SEI resistivity [Ohm.m]\": 0,\n",
    "#     },\n",
    "# )\n",
    "# spm = pybamm.lithium_ion.SPM({\"SEI\": \"ec reaction limited\"})\n"
   ]
  },
  {
   "cell_type": "code",
   "execution_count": 3,
   "id": "photographic-sussex",
   "metadata": {},
   "outputs": [],
   "source": [
    "# esoh_model = pybamm.lithium_ion.ElectrodeSOH()\n",
    "# esoh_sim = pybamm.Simulation(esoh_model, parameter_values=parameter_values)\n",
    "# param = spm.param\n",
    "\n",
    "# Vmin = 3.0\n",
    "# Vmax = 4.2\n",
    "# Cn = parameter_values.evaluate(param.C_n_init)\n",
    "# Cp = parameter_values.evaluate(param.C_p_init)\n",
    "# n_Li_init = parameter_values.evaluate(param.n_Li_particles_init)\n",
    "# c_n_max = parameter_values.evaluate(param.c_n_max)\n",
    "# c_p_max = parameter_values.evaluate(param.c_p_max)\n",
    "\n",
    "# esoh_sol = esoh_sim.solve(\n",
    "#     [0],\n",
    "#     inputs={\"V_min\": Vmin, \"V_max\": Vmax, \"C_n\": Cn, \"C_p\": Cp, \"n_Li\": n_Li_init},\n",
    "# )\n",
    "# print(esoh_sol[\"x_100\"].data[0])\n",
    "# print(esoh_sol[\"y_100\"].data[0])"
   ]
  },
  {
   "cell_type": "code",
   "execution_count": 4,
   "id": "religious-primary",
   "metadata": {},
   "outputs": [],
   "source": [
    "# pybamm.set_logging_level(\"NOTICE\")\n",
    "# parameter_values.update(\n",
    "#     {\n",
    "#         \"Initial concentration in negative electrode [mol.m-3]\": esoh_sol[\"x_100\"].data[0] * c_n_max,\n",
    "#         \"Initial concentration in positive electrode [mol.m-3]\": esoh_sol[\"y_100\"].data[0] * c_p_max,\n",
    "#     }\n",
    "# )\n",
    "# experiment = pybamm.Experiment([\n",
    "#     (f\"Discharge at 1C until {Vmin}V\",\n",
    "#      \"Rest for 1 hour\",\n",
    "#      f\"Charge at 1C until {Vmax}V\", \n",
    "#      f\"Hold at {Vmax}V until C/50\"\n",
    "#     )\n",
    "# ])\n",
    "# sim = pybamm.Simulation(spm, experiment=experiment, parameter_values=parameter_values, \n",
    "#                         solver=pybamm.CasadiSolver(\"safe\"))\n",
    "# spm_sol = sim.solve()"
   ]
  },
  {
   "cell_type": "code",
   "execution_count": 5,
   "id": "unlikely-duplicate",
   "metadata": {},
   "outputs": [],
   "source": [
    "# pybamm.set_logging_level(\"NOTICE\")\n",
    "# experiment = pybamm.Experiment([\n",
    "#     (f\"Discharge at 1C until {Vmin}V\",\n",
    "#      \"Rest for 1 hour\",\n",
    "#     f\"Charge at 1C until {Vmax}V\", \n",
    "#     f\"Hold at {Vmax}V until C/50\")\n",
    "# ] * 500,\n",
    "# termination=\"99% capacity\"\n",
    "# )\n",
    "# sim_100 = pybamm.Simulation(spm, experiment=experiment, parameter_values=parameter_values, \n",
    "#                             solver=pybamm.CasadiSolver(\"safe\"))\n",
    "# spm_sol_100 = sim_100.solve()"
   ]
  },
  {
   "cell_type": "code",
   "execution_count": 6,
   "id": "featured-locking",
   "metadata": {},
   "outputs": [],
   "source": [
    "# solution1.summary_variables[\"Capacity [A.h]\"]"
   ]
  },
  {
   "cell_type": "markdown",
   "id": "honey-publicity",
   "metadata": {},
   "source": [
    "## References"
   ]
  },
  {
   "cell_type": "markdown",
   "id": "checked-campus",
   "metadata": {},
   "source": [
    "The relevant papers for this notebook are:"
   ]
  },
  {
   "cell_type": "code",
   "execution_count": 7,
   "id": "stupid-abortion",
   "metadata": {},
   "outputs": [
    {
     "name": "stdout",
     "output_type": "stream",
     "text": [
      "[1] Charles R. Harris, K. Jarrod Millman, Stéfan J. van der Walt, Ralf Gommers, Pauli Virtanen, David Cournapeau, Eric Wieser, Julian Taylor, Sebastian Berg, Nathaniel J. Smith, and others. Array programming with NumPy. Nature, 585(7825):357–362, 2020. doi:10.1038/s41586-020-2649-2.\n",
      "[2] Valentin Sulzer, Scott G. Marquis, Robert Timms, Martin Robinson, and S. Jon Chapman. Python Battery Mathematical Modelling (PyBaMM). ECSarXiv. February, 2020. doi:10.1149/osf.io/67ckj.\n",
      "\n"
     ]
    }
   ],
   "source": [
    "pybamm.print_citations()"
   ]
  },
  {
   "cell_type": "code",
   "execution_count": null,
   "id": "vocational-vampire",
   "metadata": {},
   "outputs": [],
   "source": []
  }
 ],
 "metadata": {
  "kernelspec": {
   "display_name": "Python 3",
   "language": "python",
   "name": "python3"
  },
  "language_info": {
   "codemirror_mode": {
    "name": "ipython",
    "version": 3
   },
   "file_extension": ".py",
   "mimetype": "text/x-python",
   "name": "python",
   "nbconvert_exporter": "python",
   "pygments_lexer": "ipython3",
   "version": "3.8.8"
  },
  "toc": {
   "base_numbering": 1,
   "nav_menu": {},
   "number_sections": true,
   "sideBar": true,
   "skip_h1_title": false,
   "title_cell": "Table of Contents",
   "title_sidebar": "Contents",
   "toc_cell": false,
   "toc_position": {},
   "toc_section_display": true,
   "toc_window_display": true
  }
 },
 "nbformat": 4,
 "nbformat_minor": 5
}
