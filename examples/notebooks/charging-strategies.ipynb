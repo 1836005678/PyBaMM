{
 "cells": [
  {
   "cell_type": "code",
   "execution_count": 1,
   "metadata": {},
   "outputs": [],
   "source": [
    "import pybamm"
   ]
  },
  {
   "cell_type": "markdown",
   "metadata": {},
   "source": [
    "## CC-CV"
   ]
  },
  {
   "cell_type": "code",
   "execution_count": 102,
   "metadata": {},
   "outputs": [
    {
     "name": "stderr",
     "output_type": "stream",
     "text": [
      "The linesearch algorithm failed with too small a step.\n",
      "The linesearch algorithm failed with too small a step.\n"
     ]
    },
    {
     "data": {
      "text/plain": [
       "<pybamm.solvers.solution.Solution at 0x145c0d340>"
      ]
     },
     "execution_count": 102,
     "metadata": {},
     "output_type": "execute_result"
    }
   ],
   "source": [
    "experiment = pybamm.Experiment(\n",
    "    [\n",
    "        (\n",
    "            \"Charge at 5 C until 4.2 V\",\n",
    "            \"Hold at 4.2 V until 0.1A\",\n",
    "        ),\n",
    "    ]\n",
    ")\n",
    "model = pybamm.lithium_ion.DFN(name=\"CC-CV\")\n",
    "model.variables[\"Plating overpotential [V]\"] = pybamm.min(\n",
    "    model.variables[\"Negative electrode surface potential difference [V]\"]\n",
    ")\n",
    "param = pybamm.ParameterValues(chemistry=pybamm.parameter_sets.Mohtat2020)\n",
    "\n",
    "solver = pybamm.CasadiSolver(dt_max=1)#extra_options_setup={\"max_num_steps\": 200}, )\n",
    "sim = pybamm.Simulation(model, experiment=experiment, parameter_values=param, solver=solver)\n",
    "sim.solve()"
   ]
  },
  {
   "cell_type": "markdown",
   "metadata": {},
   "source": [
    "## CC-Ceta"
   ]
  },
  {
   "cell_type": "code",
   "execution_count": 103,
   "metadata": {},
   "outputs": [],
   "source": [
    "    \n",
    "def constant_current_constant_overpotential(variables):\n",
    "    I = variables[\"Current [A]\"]\n",
    "    s_I = pybamm.InputParameter(\"Current switch\")\n",
    "    eta_pl = pybamm.boundary_value(\n",
    "        variables[\"Negative electrode surface potential difference [V]\"], \"right\"\n",
    "    )\n",
    "    s_eta = pybamm.InputParameter(\"Overpotential switch\")\n",
    "    V = variables[\"Terminal voltage [V]\"]\n",
    "    s_V = pybamm.InputParameter(\"Voltage switch\")\n",
    "\n",
    "    return (\n",
    "        s_I * (I - -5*5)\n",
    "        + s_eta * (eta_pl)\n",
    "        + s_V * (V - 4.2)\n",
    "    )"
   ]
  },
  {
   "cell_type": "code",
   "execution_count": 106,
   "metadata": {},
   "outputs": [
    {
     "name": "stderr",
     "output_type": "stream",
     "text": [
      "The linesearch algorithm failed with too small a step.\n",
      "The linesearch algorithm failed with too small a step.\n"
     ]
    }
   ],
   "source": [
    "model2 = pybamm.lithium_ion.DFN({\"operating mode\": constant_current_constant_overpotential}, name=\"CC-Ceta-CV\")\n",
    "\n",
    "# add termination event for li plating\n",
    "eta_pl = model2.variables[\"Negative electrode surface potential difference [V]\"]\n",
    "model2.events.append(\n",
    "    pybamm.Event(\"Li plating [experiment]\", \n",
    "    pybamm.min(eta_pl) - pybamm.InputParameter(\"Plating cut-off [V]\"))\n",
    ")\n",
    "model2.events.append(\n",
    "    pybamm.Event(\n",
    "        \"Current cut-off (positive) [A] [experiment]\",\n",
    "        model2.variables[\"Current [A]\"]\n",
    "        + abs(pybamm.InputParameter(\"Current cut-off [A]\")),\n",
    "    )\n",
    ")\n",
    "model2.events.append(\n",
    "    pybamm.Event(\n",
    "        \"Voltage cut-off [V] [experiment]\",\n",
    "        model2.variables[\"Terminal voltage [V]\"]\n",
    "        - pybamm.InputParameter(\"Voltage cut-off [V]\"),\n",
    "    )\n",
    ")\n",
    "model2.variables[\"Plating overpotential [V]\"] = pybamm.min(\n",
    "    model2.variables[\"Negative electrode surface potential difference [V]\"]\n",
    ")\n",
    "\n",
    "param2 = pybamm.ParameterValues(chemistry=pybamm.parameter_sets.Mohtat2020)\n",
    "param2[\"Upper voltage cut-off [V]\"] = 5\n",
    "param2[\"Current function [A]\"] = -5 * 5\n",
    "solver = pybamm.CasadiSolver(dt_max = 1, extra_options_setup={\"max_num_steps\": 200})\n",
    "\n",
    "sim2 = pybamm.Simulation(model2, parameter_values=param2, solver=solver)\n",
    "\n",
    "# Re-initialize solution, e.g. for solving multiple times with different\n",
    "# inputs without having to build the simulation again\n",
    "sim2._solution = None\n",
    "# Step through all experimental conditions\n",
    "\n",
    "experiment_inputs = [\n",
    "    {\"Current switch\": 1, \"Overpotential switch\": 0, \"Voltage switch\": 0,\n",
    "     \"Plating cut-off [V]\": 0, \"Current cut-off [A]\": -1e10, \"Voltage cut-off [V]\": 1e10},\n",
    "    {\"Current switch\": 0, \"Overpotential switch\": 1, \"Voltage switch\": 0,\n",
    "     \"Plating cut-off [V]\": 1e10, \"Current cut-off [A]\": -1e10, \"Voltage cut-off [V]\": 4.2},\n",
    "    {\"Current switch\": 0, \"Overpotential switch\": 0, \"Voltage switch\": 1,\n",
    "     \"Plating cut-off [V]\": 1e10, \"Current cut-off [A]\": 0.1, \"Voltage cut-off [V]\": 1e10},\n",
    "]\n",
    "experiment_times = [3600/5, 3600,3600]\n",
    "period = 60\n",
    "\n",
    "for idx, (exp_inputs, dt) in enumerate(\n",
    "    zip(experiment_inputs, experiment_times)\n",
    "):\n",
    "    # Make sure we take at least 2 timesteps\n",
    "    npts = max(int(round(dt / period)) + 1, 2)\n",
    "    sim2.step(dt, solver=solver, npts=npts, inputs=exp_inputs)\n",
    "    # Only allow events specified by experiment\n",
    "    if not (\n",
    "        sim2._solution.termination == \"final time\"\n",
    "        or \"[experiment]\" in sim2._solution.termination\n",
    "    ):\n",
    "        pybamm.logger.warning(\n",
    "            \"\\n\\n\\tExperiment is infeasible: '{}' \".format(\n",
    "                sim2._solution.termination\n",
    "            )\n",
    "            + \"was triggered during '{}'. \".format(\n",
    "                exp_inputs\n",
    "            )\n",
    "            + \"Try reducing current, shortening the time interval, \"\n",
    "            \"or reducing the period.\\n\\n\"\n",
    "        )\n",
    "        break"
   ]
  },
  {
   "cell_type": "markdown",
   "metadata": {},
   "source": [
    "## Plot"
   ]
  },
  {
   "cell_type": "code",
   "execution_count": 109,
   "metadata": {},
   "outputs": [
    {
     "data": {
      "application/vnd.jupyter.widget-view+json": {
       "model_id": "07613ebc67cb4161b2d6accf3af8e148",
       "version_major": 2,
       "version_minor": 0
      },
      "text/plain": [
       "interactive(children=(FloatSlider(value=0.0, description='t', max=2101.9634413253807, step=21.019634413253808)…"
      ]
     },
     "metadata": {},
     "output_type": "display_data"
    }
   ],
   "source": [
    "plot = pybamm.dynamic_plot(\n",
    "    [sim,sim2], \n",
    "    [\"Current [A]\", \"Terminal voltage [V]\", \"Plating overpotential [V]\"]\n",
    ")\n",
    "plot.fig.savefig(\"Ceta_charging.png\")"
   ]
  },
  {
   "cell_type": "markdown",
   "metadata": {},
   "source": [
    "## No CV"
   ]
  },
  {
   "cell_type": "code",
   "execution_count": 112,
   "metadata": {},
   "outputs": [
    {
     "name": "stderr",
     "output_type": "stream",
     "text": [
      "The linesearch algorithm failed with too small a step.\n",
      "The linesearch algorithm failed with too small a step.\n",
      "At t = 0.0535793, , mxstep steps taken before reaching tout.\n",
      "At t = 0.0535793, , mxstep steps taken before reaching tout.\n",
      "At t = 0.0535793, , mxstep steps taken before reaching tout.\n",
      "At t = 0.0535793, , mxstep steps taken before reaching tout.\n",
      "At t = 0.0535793, , mxstep steps taken before reaching tout.\n",
      "At t = 0.0535793, , mxstep steps taken before reaching tout.\n",
      "At t = 0.0535793, , mxstep steps taken before reaching tout.\n",
      "2021-01-14 16:44:37,548 - [WARNING] <ipython-input-112-5ad2235ed7f6>.<module>(59): \n",
      "\n",
      "\tExperiment is infeasible: 'event: Minumum positive particle surface concentration' was triggered during '{'Current switch': 0, 'Overpotential switch': 1, 'Voltage switch': 0, 'Plating cut-off [V]': 10000000000.0, 'Current cut-off [A]': 0.1, 'Voltage cut-off [V]': 10000000000.0}'. Try reducing current, shortening the time interval, or reducing the period.\n",
      "\n",
      "\n"
     ]
    }
   ],
   "source": [
    "model2 = pybamm.lithium_ion.DFN({\"operating mode\": constant_current_constant_overpotential}, name=\"CC-Ceta\")\n",
    "\n",
    "# add termination event for li plating\n",
    "eta_pl = model2.variables[\"Negative electrode surface potential difference [V]\"]\n",
    "model2.events.append(\n",
    "    pybamm.Event(\"Li plating [experiment]\", \n",
    "    pybamm.min(eta_pl) - pybamm.InputParameter(\"Plating cut-off [V]\"))\n",
    ")\n",
    "model2.events.append(\n",
    "    pybamm.Event(\n",
    "        \"Current cut-off (positive) [A] [experiment]\",\n",
    "        model2.variables[\"Current [A]\"]\n",
    "        + abs(pybamm.InputParameter(\"Current cut-off [A]\")),\n",
    "    )\n",
    ")\n",
    "model2.events.append(\n",
    "    pybamm.Event(\n",
    "        \"Voltage cut-off [V] [experiment]\",\n",
    "        model2.variables[\"Terminal voltage [V]\"]\n",
    "        - pybamm.InputParameter(\"Voltage cut-off [V]\"),\n",
    "    )\n",
    ")\n",
    "model2.variables[\"Plating overpotential [V]\"] = pybamm.min(\n",
    "    model2.variables[\"Negative electrode surface potential difference [V]\"]\n",
    ")\n",
    "\n",
    "param2 = pybamm.ParameterValues(chemistry=pybamm.parameter_sets.Mohtat2020)\n",
    "param2[\"Upper voltage cut-off [V]\"] = 5\n",
    "param2[\"Current function [A]\"] = -5 * 5\n",
    "solver = pybamm.CasadiSolver(dt_max = 1, extra_options_setup={\"max_num_steps\": 200})\n",
    "\n",
    "sim2 = pybamm.Simulation(model2, parameter_values=param2, solver=solver)\n",
    "\n",
    "# Re-initialize solution, e.g. for solving multiple times with different\n",
    "# inputs without having to build the simulation again\n",
    "sim2._solution = None\n",
    "# Step through all experimental conditions\n",
    "\n",
    "experiment_inputs = [\n",
    "    {\"Current switch\": 1, \"Overpotential switch\": 0, \"Voltage switch\": 0,\n",
    "     \"Plating cut-off [V]\": 0, \"Current cut-off [A]\": -1e10, \"Voltage cut-off [V]\": 1e10},\n",
    "    {\"Current switch\": 0, \"Overpotential switch\": 1, \"Voltage switch\": 0,\n",
    "     \"Plating cut-off [V]\": 1e10, \"Current cut-off [A]\": 0.1, \"Voltage cut-off [V]\": 1e10},\n",
    "]\n",
    "experiment_times = [3600/5, 3600]\n",
    "period = 60\n",
    "\n",
    "for idx, (exp_inputs, dt) in enumerate(\n",
    "    zip(experiment_inputs, experiment_times)\n",
    "):\n",
    "    # Make sure we take at least 2 timesteps\n",
    "    npts = max(int(round(dt / period)) + 1, 2)\n",
    "    sim2.step(dt, solver=solver, npts=npts, inputs=exp_inputs)\n",
    "    # Only allow events specified by experiment\n",
    "    if not (\n",
    "        sim2._solution.termination == \"final time\"\n",
    "        or \"[experiment]\" in sim2._solution.termination\n",
    "    ):\n",
    "        pybamm.logger.warning(\n",
    "            \"\\n\\n\\tExperiment is infeasible: '{}' \".format(\n",
    "                sim2._solution.termination\n",
    "            )\n",
    "            + \"was triggered during '{}'. \".format(\n",
    "                exp_inputs\n",
    "            )\n",
    "            + \"Try reducing current, shortening the time interval, \"\n",
    "            \"or reducing the period.\\n\\n\"\n",
    "        )\n",
    "        break"
   ]
  },
  {
   "cell_type": "code",
   "execution_count": 113,
   "metadata": {},
   "outputs": [
    {
     "data": {
      "application/vnd.jupyter.widget-view+json": {
       "model_id": "047c17fba52b4052a1acb06949643488",
       "version_major": 2,
       "version_minor": 0
      },
      "text/plain": [
       "interactive(children=(FloatSlider(value=0.0, description='t', max=2044.9533223661676, step=20.449533223661675)…"
      ]
     },
     "metadata": {},
     "output_type": "display_data"
    }
   ],
   "source": [
    "plot = pybamm.dynamic_plot(\n",
    "    [sim,sim2], \n",
    "    [\"Current [A]\", \"Terminal voltage [V]\", \"Plating overpotential [V]\"]\n",
    ")\n",
    "plot.fig.savefig(\"Ceta_charging2.png\")"
   ]
  },
  {
   "cell_type": "code",
   "execution_count": null,
   "metadata": {},
   "outputs": [],
   "source": []
  }
 ],
 "metadata": {
  "kernelspec": {
   "display_name": "Python 3",
   "language": "python",
   "name": "python3"
  },
  "language_info": {
   "codemirror_mode": {
    "name": "ipython",
    "version": 3
   },
   "file_extension": ".py",
   "mimetype": "text/x-python",
   "name": "python",
   "nbconvert_exporter": "python",
   "pygments_lexer": "ipython3",
   "version": "3.8.6"
  },
  "toc": {
   "base_numbering": 1,
   "nav_menu": {},
   "number_sections": true,
   "sideBar": true,
   "skip_h1_title": false,
   "title_cell": "Table of Contents",
   "title_sidebar": "Contents",
   "toc_cell": false,
   "toc_position": {},
   "toc_section_display": true,
   "toc_window_display": true
  }
 },
 "nbformat": 4,
 "nbformat_minor": 4
}
