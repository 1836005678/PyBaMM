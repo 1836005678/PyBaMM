{
 "cells": [
  {
   "cell_type": "code",
   "execution_count": 14,
   "id": "obvious-cedar",
   "metadata": {},
   "outputs": [],
   "source": [
    "import pybamm\n",
    "import matplotlib.pyplot as plt"
   ]
  },
  {
   "cell_type": "code",
   "execution_count": 67,
   "id": "healthy-stake",
   "metadata": {},
   "outputs": [
    {
     "name": "stderr",
     "output_type": "stream",
     "text": [
      "2021-03-08 17:04:17,200 - [NOTICE] simulation.solve(682): Cycle 1/1 (5.248 us elapsed) --------------------\n",
      "2021-03-08 17:04:17,201 - [NOTICE] simulation.solve(697): Cycle 1/1, step 1/3: Charge at 1C until 4.2V\n",
      "2021-03-08 17:04:17,328 - [NOTICE] simulation.solve(697): Cycle 1/1, step 2/3: Hold at 4.2V until C/100\n",
      "2021-03-08 17:04:17,534 - [NOTICE] simulation.solve(697): Cycle 1/1, step 3/3: Rest for 6 hours\n",
      "2021-03-08 17:04:17,909 - [NOTICE] simulation.solve(754): Finish experiment simulation, took 709.276 ms\n"
     ]
    }
   ],
   "source": [
    "model = pybamm.lithium_ion.SPM({\"SEI\": \"ec reaction limited\"})\n",
    "parameter_values = pybamm.ParameterValues(chemistry=pybamm.parameter_sets.Mohtat2020)\n",
    "parameter_values.update(\n",
    "{\n",
    "    \"SEI kinetic rate constant [m.s-1]\": 1e-6,\n",
    "    \"Initial outer SEI thickness [m]\": 2.5e-9,\n",
    "}\n",
    ")\n",
    "experiment = pybamm.Experiment(\n",
    "[\n",
    "    (\"Charge at 1C until 4.2V\",\n",
    "    \"Hold at 4.2V until C/100\",\n",
    "    \"Rest for 6 hours\",)\n",
    "]\n",
    ")\n",
    "sim = pybamm.Simulation(model, experiment=experiment, parameter_values=parameter_values)\n",
    "pybamm.set_logging_level(\"NOTICE\")\n",
    "sol = sim.solve()"
   ]
  },
  {
   "cell_type": "code",
   "execution_count": 68,
   "id": "marine-mitchell",
   "metadata": {},
   "outputs": [
    {
     "data": {
      "image/png": "[encoded data removed]",
      "text/plain": [
       "<Figure size 720x288 with 3 Axes>"
      ]
     },
     "metadata": {
      "needs_background": "light"
     },
     "output_type": "display_data"
    }
   ],
   "source": [
    "t = sol.cycles[0].steps[-1][\"Time [h]\"].data\n",
    "V = sol.cycles[0].steps[-1][\"Terminal voltage [V]\"].data\n",
    "j = sol.cycles[0].steps[-1][\"X-averaged negative electrode SEI interfacial current density\"].data\n",
    "L = sol.cycles[0].steps[-1][\"X-averaged outer negative electrode SEI thickness\"].data\n",
    "\n",
    "fig, ax = plt.subplots(1,3,figsize=(10,4))\n",
    "\n",
    "ax[0].plot(t,V)\n",
    "# ax[0].set_ylim([4.192,4.1924])\n",
    "\n",
    "ax[1].plot(t,j)\n",
    "\n",
    "ax[2].plot(t,L)\n",
    "\n",
    "fig.tight_layout()"
   ]
  },
  {
   "cell_type": "code",
   "execution_count": 69,
   "id": "allied-andrew",
   "metadata": {},
   "outputs": [
    {
     "name": "stdout",
     "output_type": "stream",
     "text": [
      "Initial inner SEI thickness [m]\t2.5e-09\n",
      "Initial outer SEI thickness [m]\t2.5e-09\n",
      "Inner SEI electron conductivity [S.m-1]\t8.95e-14\n",
      "Inner SEI lithium interstitial diffusivity [m2.s-1]\t1e-20\n",
      "Inner SEI open-circuit potential [V]\t0.1\n",
      "Inner SEI partial molar volume [m3.mol-1]\t9.585e-05\n",
      "Inner SEI reaction proportion\t0.5\n",
      "Outer SEI open-circuit potential [V]\t0.8\n",
      "Outer SEI partial molar volume [m3.mol-1]\t9.585e-05\n",
      "Outer SEI solvent diffusivity [m2.s-1]\t2.5000000000000002e-22\n",
      "Ratio of inner and outer SEI exchange current densities\t1.0\n",
      "SEI kinetic rate constant [m.s-1]\t1e-06\n",
      "SEI open-circuit potential [V]\t0.4\n",
      "SEI reaction exchange current density [A.m-2]\t1.5e-07\n",
      "SEI resistivity [Ohm.m]\t5000000.0\n"
     ]
    }
   ],
   "source": [
    "parameter_values.search(\"SEI\")"
   ]
  },
  {
   "cell_type": "code",
   "execution_count": 21,
   "id": "perceived-reservation",
   "metadata": {},
   "outputs": [
    {
     "data": {
      "text/plain": [
       "{'operating mode': 'current',\n",
       " 'dimensionality': 0,\n",
       " 'surface form': 'false',\n",
       " 'convection': 'none',\n",
       " 'side reactions': [],\n",
       " 'interfacial surface area': 'constant',\n",
       " 'current collector': 'uniform',\n",
       " 'particle': 'Fickian diffusion',\n",
       " 'particle shape': 'spherical',\n",
       " 'electrolyte conductivity': 'default',\n",
       " 'thermal': 'isothermal',\n",
       " 'cell geometry': 'arbitrary',\n",
       " 'external submodels': [],\n",
       " 'SEI': 'ec reaction limited',\n",
       " 'lithium plating': 'none',\n",
       " 'SEI porosity change': 'false',\n",
       " 'loss of active material': 'none',\n",
       " 'working electrode': 'none',\n",
       " 'particle cracking': 'none',\n",
       " 'total interfacial current density as a state': 'true',\n",
       " 'SEI film resistance': 'distributed'}"
      ]
     },
     "execution_count": 21,
     "metadata": {},
     "output_type": "execute_result"
    }
   ],
   "source": [
    "model.options"
   ]
  },
  {
   "cell_type": "code",
   "execution_count": null,
   "id": "generic-receiver",
   "metadata": {},
   "outputs": [],
   "source": []
  }
 ],
 "metadata": {
  "kernelspec": {
   "display_name": "Python 3",
   "language": "python",
   "name": "python3"
  },
  "language_info": {
   "codemirror_mode": {
    "name": "ipython",
    "version": 3
   },
   "file_extension": ".py",
   "mimetype": "text/x-python",
   "name": "python",
   "nbconvert_exporter": "python",
   "pygments_lexer": "ipython3",
   "version": "3.8.8"
  },
  "toc": {
   "base_numbering": 1,
   "nav_menu": {},
   "number_sections": true,
   "sideBar": true,
   "skip_h1_title": false,
   "title_cell": "Table of Contents",
   "title_sidebar": "Contents",
   "toc_cell": false,
   "toc_position": {},
   "toc_section_display": true,
   "toc_window_display": true
  }
 },
 "nbformat": 4,
 "nbformat_minor": 5
}
