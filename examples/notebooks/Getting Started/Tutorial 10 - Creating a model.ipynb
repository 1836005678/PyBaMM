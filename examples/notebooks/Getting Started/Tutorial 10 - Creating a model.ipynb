{
 "cells": [
  {
   "cell_type": "markdown",
   "id": "ae6ac58d",
   "metadata": {},
   "source": [
    "# Tutorial 10 - Creating a model\n",
    "\n",
    "In [Tutorial 9](./Tutorial%209%20-%20Changing%20the%20mesh.ipynb) we showed how to change the mesh using on of the built-in battery models in PyBaMM. In this tutorial we show how to create a simple model from scratch in PyBaMM.\n",
    "\n",
    "As simple example, we consider the problem of linear diffusion on a unit sphere with a flux at the boundary that depends on the concentration\n",
    "\\begin{equation*}\n",
    "  \\frac{\\partial c}{\\partial t} = \\nabla \\cdot (\\nabla c),\n",
    "\\end{equation*}\n",
    "with the following boundary and initial conditions:\n",
    "\\begin{equation*}\n",
    "  \\left.\\frac{\\partial c}{\\partial r}\\right\\vert_{r=0} = 0, \\quad \\left.\\frac{\\partial c}{\\partial r}\\right\\vert_{r=1} = -j, \\quad \\left.c\\right\\vert_{t=0} = 1,\n",
    "\\end{equation*}\n",
    "where\n",
    "\\begin{equation*}\n",
    "j = j_0(1-c)^{1/2}c^{1/2}.\n",
    "\\end{equation*}\n",
    "Here $j_0$ is a parameter we can control. In this example we will assume that everything is dimensionless and just focus on how to set up and solve the model rather than any specific physical interpretation."
   ]
  },
  {
   "cell_type": "code",
   "execution_count": 1,
   "id": "7d0ae1c9",
   "metadata": {},
   "outputs": [
    {
     "name": "stdout",
     "output_type": "stream",
     "text": [
      "Note: you may need to restart the kernel to use updated packages.\n"
     ]
    }
   ],
   "source": [
    "%pip install pybamm -q    # install PyBaMM if it is not installed\n",
    "import pybamm"
   ]
  },
  {
   "cell_type": "markdown",
   "id": "f8857ad3",
   "metadata": {},
   "source": [
    "## Setting up the model\n",
    "\n",
    "First we load an empty model. We use the `BaseModel` class that sets up all the basic framework on which our model will be built."
   ]
  },
  {
   "cell_type": "code",
   "execution_count": 4,
   "id": "c9b7e903",
   "metadata": {},
   "outputs": [],
   "source": [
    "model = pybamm.BaseModel()"
   ]
  },
  {
   "cell_type": "markdown",
   "id": "797669c5",
   "metadata": {},
   "source": [
    "We then define our variables and parameters using the `Variable` and `Parameter` classes, respectively. Since we are solving a PDE we need to tell PyBaMM the domain each variable belongs to so that it can be discretised in space in the correct way. This is done by passing the keyword argument `domain`, and in this example we choose the domain \"particle\"."
   ]
  },
  {
   "cell_type": "code",
   "execution_count": 5,
   "id": "c39933ef",
   "metadata": {},
   "outputs": [],
   "source": [
    "c = pybamm.Variable(\"Concentration\", domain=\"negative particle\")\n",
    "j0 = pybamm.Parameter(\"Flux parameter\")"
   ]
  },
  {
   "cell_type": "markdown",
   "id": "ddcef414",
   "metadata": {},
   "source": [
    "We then state out governing equations. In PyBaMM we distinguish between Ordinary Differential Equations of the form $dy/dt = \\text{rhs}$ and Algebraic Equations of the form $f(y) = 0$. The model equations are stored in dictionaries where the key is the variable and the value is the rhs for ODEs and the residual ($f(y)$) for algebraic equations.\n",
    "\n",
    "Sometime it is useful to define intermediate quantities in order to express the governing equations more easily. In this example we define the flux, then define the rhs to be minus the divergence of the flux. The equation is then added to the dictionary `model.rhs`"
   ]
  },
  {
   "cell_type": "code",
   "execution_count": 6,
   "id": "58d8fb9a",
   "metadata": {},
   "outputs": [],
   "source": [
    "N = -pybamm.grad(c)  # define the flux\n",
    "dcdt = -pybamm.div(N)  # define the rhs equation\n",
    "\n",
    "model.rhs = {c: dcdt}  # add the equation to rhs dictionary with the variable as the key "
   ]
  },
  {
   "cell_type": "code",
   "execution_count": null,
   "id": "d06a5573",
   "metadata": {},
   "outputs": [],
   "source": []
  }
 ],
 "metadata": {
  "kernelspec": {
   "display_name": "Python 3",
   "language": "python",
   "name": "python3"
  },
  "language_info": {
   "codemirror_mode": {
    "name": "ipython",
    "version": 3
   },
   "file_extension": ".py",
   "mimetype": "text/x-python",
   "name": "python",
   "nbconvert_exporter": "python",
   "pygments_lexer": "ipython3",
   "version": "3.8.13"
  }
 },
 "nbformat": 4,
 "nbformat_minor": 5
}
