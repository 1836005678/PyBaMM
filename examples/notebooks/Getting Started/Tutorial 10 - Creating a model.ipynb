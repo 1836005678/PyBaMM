{
 "cells": [
  {
   "cell_type": "markdown",
   "id": "ae6ac58d",
   "metadata": {},
   "source": [
    "# Tutorial 10 - Creating a model\n",
    "\n",
    "In [Tutorial 9](./Tutorial%209%20-%20Changing%20the%20mesh.ipynb) we showed how to change the mesh using on of the built-in battery models in PyBaMM. In this tutorial we show how to create a simple model from scratch in PyBaMM.\n",
    "\n",
    "As simple example, we consider the problem of linear diffusion on a unit sphere with a flux at the boundary that depends on the concentration. We solve\n",
    "\\begin{equation*}\n",
    "  \\frac{\\partial c}{\\partial t} = \\nabla \\cdot (\\nabla c),\n",
    "\\end{equation*}\n",
    "with the following boundary and initial conditions:\n",
    "\\begin{equation*}\n",
    "  \\left.\\frac{\\partial c}{\\partial r}\\right\\vert_{r=0} = 0, \\quad \\left.\\frac{\\partial c}{\\partial r}\\right\\vert_{r=1} = -j, \\quad \\left.c\\right\\vert_{t=0} = c_0,\n",
    "\\end{equation*}\n",
    "where\n",
    "\\begin{equation*}\n",
    "j = \\left.j_0(1-c)^{1/2}c^{1/2}\\right\\vert_{r=1}.\n",
    "\\end{equation*}\n",
    "Here $c_0$ and $j_0$ are parameters we can control. In this example we will assume that everything is non-dimensional and focus on how to set up and solve the model rather than any specific physical interpretation."
   ]
  },
  {
   "cell_type": "code",
   "execution_count": 1,
   "id": "7d0ae1c9",
   "metadata": {},
   "outputs": [],
   "source": [
    "#%pip install pybamm -q    # install PyBaMM if it is not installed\n",
    "import pybamm"
   ]
  },
  {
   "cell_type": "markdown",
   "id": "f8857ad3",
   "metadata": {},
   "source": [
    "## Setting up the model\n",
    "\n",
    "First we load an empty model. We use the `BaseModel` class that sets up all the basic framework on which our model will be built."
   ]
  },
  {
   "cell_type": "code",
   "execution_count": 2,
   "id": "c9b7e903",
   "metadata": {},
   "outputs": [],
   "source": [
    "model = pybamm.BaseModel()"
   ]
  },
  {
   "cell_type": "markdown",
   "id": "797669c5",
   "metadata": {},
   "source": [
    "We then define our variables and parameters using the `Variable` and `Parameter` classes, respectively. Since we are solving a PDE we need to tell PyBaMM the domain each variable belongs to so that it can be discretised in space in the correct way. This is done by passing the keyword argument `domain`, and in this example we choose the domain \"particle\"."
   ]
  },
  {
   "cell_type": "code",
   "execution_count": 3,
   "id": "c39933ef",
   "metadata": {},
   "outputs": [],
   "source": [
    "c = pybamm.Variable(\"Concentration\", domain=\"particle\")\n",
    "c0 = pybamm.Parameter(\"Initial concentration\")\n",
    "j0 = pybamm.Parameter(\"Flux parameter\")"
   ]
  },
  {
   "cell_type": "markdown",
   "id": "ddcef414",
   "metadata": {},
   "source": [
    "We then state out governing equations. In PyBaMM we distinguish between Ordinary Differential Equations of the form $dy/dt = \\text{rhs}$ and Algebraic Equations of the form $f(y) = 0$. The model equations are stored in dictionaries where the key is the variable and the value is the rhs for ODEs and the residual ($f(y)$) for algebraic equations.\n",
    "\n",
    "Sometime it is useful to define intermediate quantities in order to express the governing equations more easily. In this example we define the flux, then define the rhs to be minus the divergence of the flux. The equation is then added to the dictionary `model.rhs`"
   ]
  },
  {
   "cell_type": "code",
   "execution_count": 4,
   "id": "58d8fb9a",
   "metadata": {},
   "outputs": [],
   "source": [
    "N = -pybamm.grad(c)  # define the flux\n",
    "dcdt = -pybamm.div(N)  # define the rhs equation\n",
    "\n",
    "model.rhs = {c: dcdt}  # add the equation to rhs dictionary with the variable as the key "
   ]
  },
  {
   "cell_type": "markdown",
   "id": "a960144f",
   "metadata": {},
   "source": [
    "Next we add the necessary boundary and initial conditions to the model. These are also stored in dictionaries called `model.boundary_conditions` and `model.initial_conditions`, respectively. "
   ]
  },
  {
   "cell_type": "code",
   "execution_count": 21,
   "id": "90d08a1a",
   "metadata": {},
   "outputs": [],
   "source": [
    "# boundary conditions \n",
    "c_surf = pybamm.surf(c)  # concentration at the surface of the sphere\n",
    "j = j0 * (1 - c_surf) ** (1 / 2) * c_surf ** (1 / 2)  # prescribed boundary flux\n",
    "model.boundary_conditions = {c: {\"left\": (0, \"Neumann\"), \"right\": (-j, \"Neumann\")}}\n",
    "\n",
    "# initial conditions \n",
    "model.initial_conditions = {c: c0}"
   ]
  },
  {
   "cell_type": "markdown",
   "id": "e44314d3",
   "metadata": {},
   "source": [
    "We can add any variables of interest to the dictionary `model.variables`. These can simply be the variables we solve for (in this case $c$) or any other user-defined quantities."
   ]
  },
  {
   "cell_type": "code",
   "execution_count": 22,
   "id": "178b5b86",
   "metadata": {},
   "outputs": [],
   "source": [
    "model.variables = {\n",
    "    \"Concentration\": c,\n",
    "    \"Surface concentration\": c_surf,\n",
    "    \"Flux\": N,\n",
    "    \"Boundary flux\": j,\n",
    "}"
   ]
  },
  {
   "cell_type": "markdown",
   "id": "c7f5ff5f",
   "metadata": {},
   "source": [
    "## Setting up the geometry and mesh\n"
   ]
  },
  {
   "cell_type": "code",
   "execution_count": 23,
   "id": "afd31667",
   "metadata": {},
   "outputs": [],
   "source": [
    "r = pybamm.SpatialVariable(\"r\", domain=[\"particle\"], coord_sys=\"spherical polar\")\n",
    "geometry = {\"particle\": {r: {\"min\": 0, \"max\": 1}}}\n",
    "\n",
    "submesh_types = {\"particle\": pybamm.Uniform1DSubMesh}\n",
    "var_pts = {r: 20}\n",
    "mesh = pybamm.Mesh(geometry, submesh_types, var_pts)\n",
    "\n",
    "spatial_methods = {\"particle\": pybamm.FiniteVolume()}"
   ]
  },
  {
   "cell_type": "markdown",
   "id": "e56c1f46",
   "metadata": {},
   "source": [
    "## Solving the model"
   ]
  },
  {
   "cell_type": "code",
   "execution_count": 30,
   "id": "c598b5b9",
   "metadata": {},
   "outputs": [],
   "source": [
    "parameter_values = pybamm.ParameterValues({\n",
    "    \"Initial concentration\": 0.9,\n",
    "    \"Flux parameter\": 0.8,\n",
    "})\n",
    "\n",
    "solver = pybamm.ScipySolver()\n",
    "\n",
    "sim = pybamm.Simulation(\n",
    "        model,\n",
    "        geometry=geometry,\n",
    "        parameter_values=parameter_values,\n",
    "        submesh_types=submesh_types,\n",
    "        var_pts=var_pts,\n",
    "        spatial_methods=spatial_methods,\n",
    "        solver=solver,\n",
    ")"
   ]
  },
  {
   "cell_type": "code",
   "execution_count": 31,
   "id": "6855600b",
   "metadata": {},
   "outputs": [
    {
     "data": {
      "text/plain": [
       "<pybamm.solvers.solution.Solution at 0x7f758377f280>"
      ]
     },
     "execution_count": 31,
     "metadata": {},
     "output_type": "execute_result"
    }
   ],
   "source": [
    "sim.solve([0, 1])"
   ]
  },
  {
   "cell_type": "code",
   "execution_count": 32,
   "id": "4500bbcf",
   "metadata": {},
   "outputs": [
    {
     "name": "stderr",
     "output_type": "stream",
     "text": [
      "2022-07-08 15:05:41.704 - [WARNING] processed_variable.get_spatial_scale(521): No length scale set for particle. Using default of 1 [m].\n",
      "2022-07-08 15:05:41.720 - [WARNING] processed_variable.get_spatial_scale(521): No length scale set for particle. Using default of 1 [m].\n"
     ]
    },
    {
     "data": {
      "application/vnd.jupyter.widget-view+json": {
       "model_id": "76841cc5e7f24e4dac3512dded68fd74",
       "version_major": 2,
       "version_minor": 0
      },
      "text/plain": [
       "interactive(children=(FloatSlider(value=0.0, description='t', max=1.0, step=0.01), Output()), _dom_classes=('w…"
      ]
     },
     "metadata": {},
     "output_type": "display_data"
    },
    {
     "data": {
      "text/plain": [
       "<pybamm.plotting.quick_plot.QuickPlot at 0x7f757e8c03d0>"
      ]
     },
     "execution_count": 32,
     "metadata": {},
     "output_type": "execute_result"
    }
   ],
   "source": [
    "sim.plot(model.variables.keys())"
   ]
  },
  {
   "cell_type": "code",
   "execution_count": null,
   "id": "50d01598",
   "metadata": {},
   "outputs": [],
   "source": []
  }
 ],
 "metadata": {
  "kernelspec": {
   "display_name": "Python 3",
   "language": "python",
   "name": "python3"
  },
  "language_info": {
   "codemirror_mode": {
    "name": "ipython",
    "version": 3
   },
   "file_extension": ".py",
   "mimetype": "text/x-python",
   "name": "python",
   "nbconvert_exporter": "python",
   "pygments_lexer": "ipython3",
   "version": "3.8.13"
  }
 },
 "nbformat": 4,
 "nbformat_minor": 5
}
