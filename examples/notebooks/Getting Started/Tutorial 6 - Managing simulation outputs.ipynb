{
 "cells": [
  {
   "cell_type": "markdown",
   "metadata": {},
   "source": [
    "# Tutorial 6 - Managing simulation outputs"
   ]
  },
  {
   "cell_type": "markdown",
   "metadata": {},
   "source": [
    "In the previous tutorials we have interacted with the outputs of the simulation via the default dynamic plot. However, usually we need to access the output data to manipulate it or transfer to another software which is the topic of this notebook.\n",
    "\n",
    "We start by building and solving our model as shown in previous notebooks:"
   ]
  },
  {
   "cell_type": "code",
   "execution_count": 2,
   "metadata": {},
   "outputs": [
    {
     "name": "stdout",
     "output_type": "stream",
     "text": [
      "Note: you may need to restart the kernel to use updated packages.\n"
     ]
    },
    {
     "data": {
      "text/plain": [
       "<pybamm.solvers.solution.Solution at 0x7fd5b3e91be0>"
      ]
     },
     "execution_count": 2,
     "metadata": {},
     "output_type": "execute_result"
    }
   ],
   "source": [
    "%pip install pybamm -q    # install PyBaMM if it is not installed\n",
    "import pybamm\n",
    "model = pybamm.lithium_ion.SPMe()\n",
    "sim = pybamm.Simulation(model)\n",
    "sim.solve([0, 3600])"
   ]
  },
  {
   "cell_type": "markdown",
   "metadata": {},
   "source": [
    "## Accessing solution variables"
   ]
  },
  {
   "cell_type": "markdown",
   "metadata": {},
   "source": [
    "We can now access the solved variables directly to visualise or create our own plots. We first extract the solution object:"
   ]
  },
  {
   "cell_type": "code",
   "execution_count": 3,
   "metadata": {},
   "outputs": [],
   "source": [
    "solution = sim.solution"
   ]
  },
  {
   "cell_type": "markdown",
   "metadata": {},
   "source": [
    "and now we can create a post-processed variable (for a list of all the available variables see [Tutorial 3](./Tutorial%203%20-%20Basic%20plotting.ipynb))"
   ]
  },
  {
   "cell_type": "code",
   "execution_count": 4,
   "metadata": {},
   "outputs": [],
   "source": [
    "t = solution[\"Time [s]\"]\n",
    "V = solution[\"Terminal voltage [V]\"]"
   ]
  },
  {
   "cell_type": "markdown",
   "metadata": {},
   "source": [
    "One option is to visualise the data set returned by the solver directly"
   ]
  },
  {
   "cell_type": "code",
   "execution_count": 5,
   "metadata": {},
   "outputs": [
    {
     "data": {
      "text/plain": [
       "array([3.77057104, 3.75314461, 3.74576311, 3.74048117, 3.73590496,\n",
       "       3.73162686, 3.72751691, 3.72353235, 3.71965942, 3.71589494,\n",
       "       3.71223915, 3.70869332, 3.70525855, 3.70193545, 3.69872414,\n",
       "       3.69562413, 3.69263434, 3.68975318, 3.68697862, 3.68430825,\n",
       "       3.68173935, 3.67926889, 3.67689358, 3.67460986, 3.67241392,\n",
       "       3.67030168, 3.6682687 , 3.66631015, 3.66442061, 3.66259389,\n",
       "       3.66082272, 3.65909835, 3.6574099 , 3.65574365, 3.65408194,\n",
       "       3.65240196, 3.65067434, 3.64886178, 3.64691843, 3.64479094,\n",
       "       3.64242262, 3.63976266, 3.63678089, 3.63348596, 3.62994003,\n",
       "       3.62625983, 3.62259742, 3.61910534, 3.61590162, 3.61305016,\n",
       "       3.61056143, 3.60840702, 3.60653781, 3.60489893, 3.60343905,\n",
       "       3.60211465, 3.6008912 , 3.59974248, 3.59864935, 3.59759829,\n",
       "       3.59658021, 3.59558935, 3.59462252, 3.59367839, 3.59275703,\n",
       "       3.59185944, 3.59098715, 3.59014183, 3.5893249 , 3.58853704,\n",
       "       3.58777775, 3.58704477, 3.58633355, 3.5856367 , 3.58494342,\n",
       "       3.58423909, 3.58350484, 3.58271739, 3.58184885, 3.58086676,\n",
       "       3.57973396, 3.57840835, 3.57684218, 3.57498043, 3.57275802,\n",
       "       3.57009488, 3.56688821, 3.56300064, 3.55824248, 3.55234574,\n",
       "       3.54492659, 3.53543151, 3.52306093, 3.50666266, 3.48458575,\n",
       "       3.45448664, 3.4130848 , 3.35588169, 3.27689371, 3.16851934])"
      ]
     },
     "execution_count": 5,
     "metadata": {},
     "output_type": "execute_result"
    }
   ],
   "source": [
    "V.entries"
   ]
  },
  {
   "cell_type": "markdown",
   "metadata": {},
   "source": [
    "which correspond to the data at the times"
   ]
  },
  {
   "cell_type": "code",
   "execution_count": 6,
   "metadata": {},
   "outputs": [
    {
     "data": {
      "text/plain": [
       "array([   0.        ,   36.36363636,   72.72727273,  109.09090909,\n",
       "        145.45454545,  181.81818182,  218.18181818,  254.54545455,\n",
       "        290.90909091,  327.27272727,  363.63636364,  400.        ,\n",
       "        436.36363636,  472.72727273,  509.09090909,  545.45454545,\n",
       "        581.81818182,  618.18181818,  654.54545455,  690.90909091,\n",
       "        727.27272727,  763.63636364,  800.        ,  836.36363636,\n",
       "        872.72727273,  909.09090909,  945.45454545,  981.81818182,\n",
       "       1018.18181818, 1054.54545455, 1090.90909091, 1127.27272727,\n",
       "       1163.63636364, 1200.        , 1236.36363636, 1272.72727273,\n",
       "       1309.09090909, 1345.45454545, 1381.81818182, 1418.18181818,\n",
       "       1454.54545455, 1490.90909091, 1527.27272727, 1563.63636364,\n",
       "       1600.        , 1636.36363636, 1672.72727273, 1709.09090909,\n",
       "       1745.45454545, 1781.81818182, 1818.18181818, 1854.54545455,\n",
       "       1890.90909091, 1927.27272727, 1963.63636364, 2000.        ,\n",
       "       2036.36363636, 2072.72727273, 2109.09090909, 2145.45454545,\n",
       "       2181.81818182, 2218.18181818, 2254.54545455, 2290.90909091,\n",
       "       2327.27272727, 2363.63636364, 2400.        , 2436.36363636,\n",
       "       2472.72727273, 2509.09090909, 2545.45454545, 2581.81818182,\n",
       "       2618.18181818, 2654.54545455, 2690.90909091, 2727.27272727,\n",
       "       2763.63636364, 2800.        , 2836.36363636, 2872.72727273,\n",
       "       2909.09090909, 2945.45454545, 2981.81818182, 3018.18181818,\n",
       "       3054.54545455, 3090.90909091, 3127.27272727, 3163.63636364,\n",
       "       3200.        , 3236.36363636, 3272.72727273, 3309.09090909,\n",
       "       3345.45454545, 3381.81818182, 3418.18181818, 3454.54545455,\n",
       "       3490.90909091, 3527.27272727, 3563.63636364, 3600.        ])"
      ]
     },
     "execution_count": 6,
     "metadata": {},
     "output_type": "execute_result"
    }
   ],
   "source": [
    "t.entries"
   ]
  },
  {
   "cell_type": "markdown",
   "metadata": {},
   "source": [
    "In addition, post-processed variables can be called at any time (by interpolation)"
   ]
  },
  {
   "cell_type": "code",
   "execution_count": 7,
   "metadata": {},
   "outputs": [
    {
     "data": {
      "text/plain": [
       "array([3.72957189, 3.70869332, 3.6782    , 3.65409855])"
      ]
     },
     "execution_count": 7,
     "metadata": {},
     "output_type": "execute_result"
    }
   ],
   "source": [
    "V([200, 400, 780, 1236])  # times in seconds"
   ]
  },
  {
   "cell_type": "markdown",
   "metadata": {},
   "source": [
    "## Saving the simulation and output data"
   ]
  },
  {
   "cell_type": "markdown",
   "metadata": {},
   "source": [
    "In some cases simulations might take a long time to run so it is advisable to save in your computer so it can be analysed later without re-running the simulation. You can save the whole simulation doing:"
   ]
  },
  {
   "cell_type": "code",
   "execution_count": 8,
   "metadata": {},
   "outputs": [],
   "source": [
    "sim.save(\"SPMe.pkl\")"
   ]
  },
  {
   "cell_type": "markdown",
   "metadata": {},
   "source": [
    "If you now check the root directory of your notebooks you will notice that a new file called `\"SPMe.pkl\"` has appeared. We can load the stored simulation doing"
   ]
  },
  {
   "cell_type": "code",
   "execution_count": 9,
   "metadata": {},
   "outputs": [],
   "source": [
    "sim2 = pybamm.load(\"SPMe.pkl\")"
   ]
  },
  {
   "cell_type": "markdown",
   "metadata": {},
   "source": [
    "which allows the same manipulation as the original simulation would allow"
   ]
  },
  {
   "cell_type": "code",
   "execution_count": 10,
   "metadata": {},
   "outputs": [
    {
     "data": {
      "application/vnd.jupyter.widget-view+json": {
       "model_id": "cf1e17785b834c7dbee9b936027904d1",
       "version_major": 2,
       "version_minor": 0
      },
      "text/plain": [
       "interactive(children=(FloatSlider(value=0.0, description='t', max=1.0, step=0.01), Output()), _dom_classes=('w…"
      ]
     },
     "metadata": {},
     "output_type": "display_data"
    }
   ],
   "source": [
    "sim2.plot()"
   ]
  },
  {
   "cell_type": "markdown",
   "metadata": {},
   "source": [
    "Alternatively, we can just save the solution of the simulation in a similar way"
   ]
  },
  {
   "cell_type": "code",
   "execution_count": 11,
   "metadata": {},
   "outputs": [],
   "source": [
    "sol = sim.solution\n",
    "sol.save(\"SPMe_sol.pkl\")"
   ]
  },
  {
   "cell_type": "markdown",
   "metadata": {},
   "source": [
    "and load it in a similar way too"
   ]
  },
  {
   "cell_type": "code",
   "execution_count": 12,
   "metadata": {},
   "outputs": [
    {
     "data": {
      "application/vnd.jupyter.widget-view+json": {
       "model_id": "0c585713c60f4ec68dcbbe5496e84c59",
       "version_major": 2,
       "version_minor": 0
      },
      "text/plain": [
       "interactive(children=(FloatSlider(value=0.0, description='t', max=1.0, step=0.01), Output()), _dom_classes=('w…"
      ]
     },
     "metadata": {},
     "output_type": "display_data"
    },
    {
     "data": {
      "text/plain": [
       "<pybamm.plotting.quick_plot.QuickPlot at 0x7fd5af060da0>"
      ]
     },
     "execution_count": 12,
     "metadata": {},
     "output_type": "execute_result"
    }
   ],
   "source": [
    "sol2 = pybamm.load(\"SPMe_sol.pkl\")\n",
    "pybamm.dynamic_plot(sol2)"
   ]
  },
  {
   "cell_type": "markdown",
   "metadata": {},
   "source": [
    "Another option is to just save the data for some variables"
   ]
  },
  {
   "cell_type": "code",
   "execution_count": 13,
   "metadata": {},
   "outputs": [],
   "source": [
    "sol.save_data(\"sol_data.pkl\", [\"Current [A]\", \"Terminal voltage [V]\"])"
   ]
  },
  {
   "cell_type": "markdown",
   "metadata": {},
   "source": [
    "or save in csv or mat format"
   ]
  },
  {
   "cell_type": "code",
   "execution_count": 14,
   "metadata": {},
   "outputs": [],
   "source": [
    "sol.save_data(\"sol_data.csv\", [\"Current [A]\", \"Terminal voltage [V]\"], to_format=\"csv\")\n",
    "sol.save_data(\"sol_data.mat\", [\"Current [A]\", \"Terminal voltage [V]\"], to_format=\"matlab\")"
   ]
  },
  {
   "cell_type": "markdown",
   "metadata": {},
   "source": [
    "In this notebook we have shown how to extract and store the outputs of PyBaMM's simulations. Next, in [Tutorial 7](./Tutorial%207%20-%20Model%20options.ipynb) we will show how to change the model options."
   ]
  }
 ],
 "metadata": {
  "kernelspec": {
   "display_name": "Python 3",
   "language": "python",
   "name": "python3"
  },
  "language_info": {
   "codemirror_mode": {
    "name": "ipython",
    "version": 3
   },
   "file_extension": ".py",
   "mimetype": "text/x-python",
   "name": "python",
   "nbconvert_exporter": "python",
   "pygments_lexer": "ipython3",
   "version": "3.7.8"
  }
 },
 "nbformat": 4,
 "nbformat_minor": 2
}
