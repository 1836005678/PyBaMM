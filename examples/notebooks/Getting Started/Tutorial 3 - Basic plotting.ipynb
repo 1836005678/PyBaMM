{
 "cells": [
  {
   "cell_type": "markdown",
   "metadata": {},
   "source": [
    "# Tutorial 3 - Basic plotting"
   ]
  },
  {
   "cell_type": "markdown",
   "metadata": {},
   "source": [
    "In [Tutorial 2](./Tutorial%202%20-%20Compare%20models.ipynb), we made use of PyBaMM's automatic plotting function when comparing models. This gave a good quick overview of many of the key variables in the model. However, by passing in just a few arguments it is easy to plot any of the many other variables that may be of interest to you. We start by building and solving a model as before:"
   ]
  },
  {
   "cell_type": "code",
   "execution_count": 1,
   "metadata": {},
   "outputs": [
    {
     "name": "stdout",
     "output_type": "stream",
     "text": [
      "Note: you may need to restart the kernel to use updated packages.\n"
     ]
    },
    {
     "data": {
      "text/plain": [
       "<pybamm.solvers.solution.Solution at 0x7fd4b4f2d250>"
      ]
     },
     "execution_count": 1,
     "metadata": {},
     "output_type": "execute_result"
    }
   ],
   "source": [
    "%pip install pybamm -q    # install PyBaMM if it is not installed\n",
    "import pybamm\n",
    "import matplotlib.pyplot as plt\n",
    "\n",
    "model_dfn = pybamm.lithium_ion.DFN()\n",
    "sim_dfn = pybamm.Simulation(model_dfn)\n",
    "sim_dfn.solve([0, 3600])"
   ]
  },
  {
   "cell_type": "markdown",
   "metadata": {},
   "source": [
    "We now want to plot a selection of the model variables. To see a full list of the available variables just type:"
   ]
  },
  {
   "cell_type": "code",
   "execution_count": 2,
   "metadata": {},
   "outputs": [
    {
     "data": {
      "text/plain": [
       "['Time',\n",
       " 'Time [s]',\n",
       " 'Time [min]',\n",
       " 'Time [h]',\n",
       " 'x',\n",
       " 'x [m]',\n",
       " 'x_n',\n",
       " 'x_n [m]',\n",
       " 'x_s',\n",
       " 'x_s [m]',\n",
       " 'x_p',\n",
       " 'x_p [m]',\n",
       " 'r_p',\n",
       " 'r_p [m]',\n",
       " 'r_n',\n",
       " 'r_n [m]',\n",
       " 'Current density variable',\n",
       " 'Total current density',\n",
       " 'Total current density [A.m-2]',\n",
       " 'Current [A]',\n",
       " 'C-rate',\n",
       " 'Discharge capacity [A.h]',\n",
       " 'Porosity',\n",
       " 'Separator porosity',\n",
       " 'Positive electrode porosity',\n",
       " 'X-averaged separator porosity',\n",
       " 'X-averaged positive electrode porosity',\n",
       " 'Negative electrode porosity',\n",
       " 'X-averaged negative electrode porosity',\n",
       " 'Leading-order porosity',\n",
       " 'Leading-order separator porosity',\n",
       " 'Leading-order positive electrode porosity',\n",
       " 'Leading-order x-averaged separator porosity',\n",
       " 'Leading-order x-averaged positive electrode porosity',\n",
       " 'Leading-order negative electrode porosity',\n",
       " 'Leading-order x-averaged negative electrode porosity',\n",
       " 'Porosity change',\n",
       " 'Separator porosity change',\n",
       " 'Positive electrode porosity change',\n",
       " 'X-averaged separator porosity change',\n",
       " 'X-averaged positive electrode porosity change',\n",
       " 'Negative electrode porosity change',\n",
       " 'X-averaged negative electrode porosity change',\n",
       " 'Leading-order x-averaged separator porosity change',\n",
       " 'Leading-order x-averaged positive electrode porosity change',\n",
       " 'Leading-order x-averaged negative electrode porosity change',\n",
       " 'Negative electrode interface utilisation variable',\n",
       " 'X-averaged negative electrode interface utilisation variable',\n",
       " 'Negative electrode interface utilisation',\n",
       " 'X-averaged negative electrode interface utilisation',\n",
       " 'Positive electrode interface utilisation variable',\n",
       " 'X-averaged positive electrode interface utilisation variable',\n",
       " 'Positive electrode interface utilisation',\n",
       " 'X-averaged positive electrode interface utilisation',\n",
       " 'Negative electrode active material volume fraction',\n",
       " 'X-averaged negative electrode active material volume fraction',\n",
       " 'Negative electrode capacity [A.h]',\n",
       " 'Negative particle radius',\n",
       " 'Negative particle radius [m]',\n",
       " 'Negative electrode surface area to volume ratio',\n",
       " 'Negative electrode surface area to volume ratio [m-1]',\n",
       " 'X-averaged negative electrode surface area to volume ratio',\n",
       " 'X-averaged negative electrode surface area to volume ratio [m-1]',\n",
       " 'Negative electrode active material volume fraction change',\n",
       " 'X-averaged negative electrode active material volume fraction change',\n",
       " 'Positive electrode active material volume fraction',\n",
       " 'X-averaged positive electrode active material volume fraction',\n",
       " 'Positive electrode capacity [A.h]',\n",
       " 'Positive particle radius',\n",
       " 'Positive particle radius [m]',\n",
       " 'Positive electrode surface area to volume ratio',\n",
       " 'Positive electrode surface area to volume ratio [m-1]',\n",
       " 'X-averaged positive electrode surface area to volume ratio',\n",
       " 'X-averaged positive electrode surface area to volume ratio [m-1]',\n",
       " 'Positive electrode active material volume fraction change',\n",
       " 'X-averaged positive electrode active material volume fraction change',\n",
       " 'Separator pressure',\n",
       " 'X-averaged separator pressure',\n",
       " 'Separator transverse volume-averaged velocity',\n",
       " 'Positive electrode transverse volume-averaged velocity',\n",
       " 'Separator transverse volume-averaged velocity [m.s-2]',\n",
       " 'Positive electrode transverse volume-averaged velocity [m.s-2]',\n",
       " 'X-averaged separator transverse volume-averaged velocity',\n",
       " 'X-averaged positive electrode transverse volume-averaged velocity',\n",
       " 'X-averaged separator transverse volume-averaged velocity [m.s-2]',\n",
       " 'X-averaged positive electrode transverse volume-averaged velocity [m.s-2]',\n",
       " 'Transverse volume-averaged velocity',\n",
       " 'Transverse volume-averaged velocity [m.s-2]',\n",
       " 'Negative electrode transverse volume-averaged velocity',\n",
       " 'Negative electrode transverse volume-averaged velocity [m.s-2]',\n",
       " 'X-averaged negative electrode transverse volume-averaged velocity',\n",
       " 'X-averaged negative electrode transverse volume-averaged velocity [m.s-2]',\n",
       " 'Separator transverse volume-averaged acceleration',\n",
       " 'Positive electrode transverse volume-averaged acceleration',\n",
       " 'Separator transverse volume-averaged acceleration [m.s-2]',\n",
       " 'Positive electrode transverse volume-averaged acceleration [m.s-2]',\n",
       " 'X-averaged separator transverse volume-averaged acceleration',\n",
       " 'X-averaged positive electrode transverse volume-averaged acceleration',\n",
       " 'X-averaged separator transverse volume-averaged acceleration [m.s-2]',\n",
       " 'X-averaged positive electrode transverse volume-averaged acceleration [m.s-2]',\n",
       " 'Transverse volume-averaged acceleration',\n",
       " 'Transverse volume-averaged acceleration [m.s-2]',\n",
       " 'Negative electrode transverse volume-averaged acceleration',\n",
       " 'Negative electrode transverse volume-averaged acceleration [m.s-2]',\n",
       " 'X-averaged negative electrode transverse volume-averaged acceleration',\n",
       " 'X-averaged negative electrode transverse volume-averaged acceleration [m.s-2]',\n",
       " 'Positive electrode volume-averaged velocity',\n",
       " 'Positive electrode volume-averaged velocity [m.s-1]',\n",
       " 'Negative electrode volume-averaged velocity',\n",
       " 'Negative electrode volume-averaged velocity [m.s-1]',\n",
       " 'Positive electrode volume-averaged acceleration',\n",
       " 'Positive electrode volume-averaged acceleration [m.s-1]',\n",
       " 'X-averaged positive electrode volume-averaged acceleration',\n",
       " 'X-averaged positive electrode volume-averaged acceleration [m.s-1]',\n",
       " 'Negative electrode volume-averaged acceleration',\n",
       " 'Negative electrode volume-averaged acceleration [m.s-1]',\n",
       " 'X-averaged negative electrode volume-averaged acceleration',\n",
       " 'X-averaged negative electrode volume-averaged acceleration [m.s-1]',\n",
       " 'Positive electrode pressure',\n",
       " 'X-averaged positive electrode pressure',\n",
       " 'Negative electrode pressure',\n",
       " 'X-averaged negative electrode pressure',\n",
       " 'Negative particle concentration',\n",
       " 'Negative particle concentration [mol.m-3]',\n",
       " 'X-averaged negative particle concentration',\n",
       " 'X-averaged negative particle concentration [mol.m-3]',\n",
       " 'R-averaged negative particle concentration',\n",
       " 'R-averaged negative particle concentration [mol.m-3]',\n",
       " 'Average negative particle concentration',\n",
       " 'Average negative particle concentration [mol.m-3]',\n",
       " 'Negative particle surface concentration',\n",
       " 'Negative particle surface concentration [mol.m-3]',\n",
       " 'X-averaged negative particle surface concentration',\n",
       " 'X-averaged negative particle surface concentration [mol.m-3]',\n",
       " 'Negative electrode extent of lithiation',\n",
       " 'X-averaged negative electrode extent of lithiation',\n",
       " 'Minimum negative particle concentration',\n",
       " 'Maximum negative particle concentration',\n",
       " 'Minimum negative particle concentration [mol.m-3]',\n",
       " 'Maximum negative particle concentration [mol.m-3]',\n",
       " 'Minimum negative particle surface concentration',\n",
       " 'Maximum negative particle surface concentration',\n",
       " 'Minimum negative particle surface concentration [mol.m-3]',\n",
       " 'Maximum negative particle surface concentration [mol.m-3]',\n",
       " 'Positive particle concentration',\n",
       " 'Positive particle concentration [mol.m-3]',\n",
       " 'X-averaged positive particle concentration',\n",
       " 'X-averaged positive particle concentration [mol.m-3]',\n",
       " 'R-averaged positive particle concentration',\n",
       " 'R-averaged positive particle concentration [mol.m-3]',\n",
       " 'Average positive particle concentration',\n",
       " 'Average positive particle concentration [mol.m-3]',\n",
       " 'Positive particle surface concentration',\n",
       " 'Positive particle surface concentration [mol.m-3]',\n",
       " 'X-averaged positive particle surface concentration',\n",
       " 'X-averaged positive particle surface concentration [mol.m-3]',\n",
       " 'Positive electrode extent of lithiation',\n",
       " 'X-averaged positive electrode extent of lithiation',\n",
       " 'Minimum positive particle concentration',\n",
       " 'Maximum positive particle concentration',\n",
       " 'Minimum positive particle concentration [mol.m-3]',\n",
       " 'Maximum positive particle concentration [mol.m-3]',\n",
       " 'Minimum positive particle surface concentration',\n",
       " 'Maximum positive particle surface concentration',\n",
       " 'Minimum positive particle surface concentration [mol.m-3]',\n",
       " 'Maximum positive particle surface concentration [mol.m-3]',\n",
       " 'Negative electrode potential',\n",
       " 'Negative electrode potential [V]',\n",
       " 'X-averaged negative electrode potential',\n",
       " 'X-averaged negative electrode potential [V]',\n",
       " 'Negative electrode ohmic losses',\n",
       " 'Negative electrode ohmic losses [V]',\n",
       " 'X-averaged negative electrode ohmic losses',\n",
       " 'X-averaged negative electrode ohmic losses [V]',\n",
       " 'Gradient of negative electrode potential',\n",
       " 'Positive electrode potential',\n",
       " 'Positive electrode potential [V]',\n",
       " 'X-averaged positive electrode potential',\n",
       " 'X-averaged positive electrode potential [V]',\n",
       " 'Positive electrode ohmic losses',\n",
       " 'Positive electrode ohmic losses [V]',\n",
       " 'X-averaged positive electrode ohmic losses',\n",
       " 'X-averaged positive electrode ohmic losses [V]',\n",
       " 'Gradient of positive electrode potential',\n",
       " 'Porosity times concentration',\n",
       " 'Separator porosity times concentration',\n",
       " 'Positive electrode porosity times concentration',\n",
       " 'Negative electrode porosity times concentration',\n",
       " 'Negative electrolyte potential',\n",
       " 'Negative electrolyte potential [V]',\n",
       " 'Separator electrolyte potential',\n",
       " 'Separator electrolyte potential [V]',\n",
       " 'Positive electrolyte potential',\n",
       " 'Positive electrolyte potential [V]',\n",
       " 'Electrolyte potential',\n",
       " 'Electrolyte potential [V]',\n",
       " 'X-averaged electrolyte potential',\n",
       " 'X-averaged electrolyte potential [V]',\n",
       " 'X-averaged negative electrolyte potential',\n",
       " 'X-averaged negative electrolyte potential [V]',\n",
       " 'X-averaged separator electrolyte potential',\n",
       " 'X-averaged separator electrolyte potential [V]',\n",
       " 'X-averaged positive electrolyte potential',\n",
       " 'X-averaged positive electrolyte potential [V]',\n",
       " 'X-averaged electrolyte overpotential',\n",
       " 'X-averaged electrolyte overpotential [V]',\n",
       " 'Gradient of separator electrolyte potential',\n",
       " 'Gradient of positive electrolyte potential',\n",
       " 'Gradient of electrolyte potential',\n",
       " 'Gradient of negative electrolyte potential',\n",
       " 'Negative current collector temperature',\n",
       " 'Negative current collector temperature [K]',\n",
       " 'X-averaged negative electrode temperature',\n",
       " 'X-averaged negative electrode temperature [K]',\n",
       " 'Negative electrode temperature',\n",
       " 'Negative electrode temperature [K]',\n",
       " 'X-averaged separator temperature',\n",
       " 'X-averaged separator temperature [K]',\n",
       " 'Separator temperature',\n",
       " 'Separator temperature [K]',\n",
       " 'X-averaged positive electrode temperature',\n",
       " 'X-averaged positive electrode temperature [K]',\n",
       " 'Positive electrode temperature',\n",
       " 'Positive electrode temperature [K]',\n",
       " 'Positive current collector temperature',\n",
       " 'Positive current collector temperature [K]',\n",
       " 'Cell temperature',\n",
       " 'Cell temperature [K]',\n",
       " 'X-averaged cell temperature',\n",
       " 'X-averaged cell temperature [K]',\n",
       " 'Volume-averaged cell temperature',\n",
       " 'Volume-averaged cell temperature [K]',\n",
       " 'Ambient temperature [K]',\n",
       " 'Ambient temperature',\n",
       " 'Negative current collector potential',\n",
       " 'Negative current collector potential [V]',\n",
       " 'Inner SEI thickness',\n",
       " 'Inner SEI thickness [m]',\n",
       " 'Outer SEI thickness',\n",
       " 'Outer SEI thickness [m]',\n",
       " 'X-averaged inner SEI thickness',\n",
       " 'X-averaged inner SEI thickness [m]',\n",
       " 'X-averaged outer SEI thickness',\n",
       " 'X-averaged outer SEI thickness [m]',\n",
       " 'SEI thickness',\n",
       " 'SEI thickness [m]',\n",
       " 'Total SEI thickness',\n",
       " 'Total SEI thickness [m]',\n",
       " 'X-averaged SEI thickness',\n",
       " 'X-averaged SEI thickness [m]',\n",
       " 'X-averaged total SEI thickness',\n",
       " 'X-averaged total SEI thickness [m]',\n",
       " 'X-averaged negative electrode resistance [Ohm.m2]',\n",
       " 'Inner SEI concentration [mol.m-3]',\n",
       " 'X-averaged inner SEI concentration [mol.m-3]',\n",
       " 'Outer SEI concentration [mol.m-3]',\n",
       " 'X-averaged outer SEI concentration [mol.m-3]',\n",
       " 'SEI concentration [mol.m-3]',\n",
       " 'X-averaged SEI concentration [mol.m-3]',\n",
       " 'Loss of lithium to SEI [mol]',\n",
       " 'Loss of capacity to SEI [A.h]',\n",
       " 'Inner SEI interfacial current density',\n",
       " 'Inner SEI interfacial current density [A.m-2]',\n",
       " 'X-averaged inner SEI interfacial current density',\n",
       " 'X-averaged inner SEI interfacial current density [A.m-2]',\n",
       " 'Outer SEI interfacial current density',\n",
       " 'Outer SEI interfacial current density [A.m-2]',\n",
       " 'X-averaged outer SEI interfacial current density',\n",
       " 'X-averaged outer SEI interfacial current density [A.m-2]',\n",
       " 'SEI interfacial current density',\n",
       " 'SEI interfacial current density [A.m-2]',\n",
       " 'X-averaged SEI interfacial current density',\n",
       " 'X-averaged SEI interfacial current density [A.m-2]',\n",
       " 'Lithium plating concentration',\n",
       " 'Lithium plating concentration [mol.m-3]',\n",
       " 'X-averaged lithium plating concentration',\n",
       " 'X-averaged lithium plating concentration [mol.m-3]',\n",
       " 'Dead lithium concentration',\n",
       " 'Dead lithium concentration [mol.m-3]',\n",
       " 'X-averaged dead lithium concentration',\n",
       " 'X-averaged dead lithium concentration [mol.m-3]',\n",
       " 'Lithium plating thickness',\n",
       " 'Lithium plating thickness [m]',\n",
       " 'X-averaged lithium plating thickness [m]',\n",
       " 'Dead lithium thickness',\n",
       " 'Dead lithium thickness [m]',\n",
       " 'X-averaged dead lithium thickness [m]',\n",
       " 'Loss of lithium to lithium plating [mol]',\n",
       " 'Loss of capacity to lithium plating [A.h]',\n",
       " 'Negative electrode lithium plating reaction overpotential',\n",
       " 'X-averaged negative electrode lithium plating reaction overpotential',\n",
       " 'Negative electrode lithium plating reaction overpotential [V]',\n",
       " 'X-averaged negative electrode lithium plating reaction overpotential [V]',\n",
       " 'Lithium plating interfacial current density',\n",
       " 'Lithium plating interfacial current density [A.m-2]',\n",
       " 'X-averaged lithium plating interfacial current density',\n",
       " 'X-averaged lithium plating interfacial current density [A.m-2]',\n",
       " 'Electrolyte transport efficiency',\n",
       " 'Positive electrolyte transport efficiency',\n",
       " 'X-averaged positive electrolyte transport efficiency',\n",
       " 'Negative electrolyte transport efficiency',\n",
       " 'X-averaged negative electrolyte transport efficiency',\n",
       " 'Separator transport efficiency',\n",
       " 'X-averaged separator transport efficiency',\n",
       " 'Electrode transport efficiency',\n",
       " 'Positive electrode transport efficiency',\n",
       " 'X-averaged positive electrode transport efficiency',\n",
       " 'Negative electrode transport efficiency',\n",
       " 'X-averaged negative electrode transport efficiency',\n",
       " 'Separator volume-averaged velocity',\n",
       " 'Separator volume-averaged velocity [m.s-1]',\n",
       " 'Separator volume-averaged acceleration',\n",
       " 'Separator volume-averaged acceleration [m.s-1]',\n",
       " 'X-averaged separator volume-averaged acceleration',\n",
       " 'X-averaged separator volume-averaged acceleration [m.s-1]',\n",
       " 'Volume-averaged velocity',\n",
       " 'Volume-averaged velocity [m.s-1]',\n",
       " 'Volume-averaged acceleration',\n",
       " 'X-averaged volume-averaged acceleration',\n",
       " 'Volume-averaged acceleration [m.s-1]',\n",
       " 'X-averaged volume-averaged acceleration [m.s-1]',\n",
       " 'Pressure',\n",
       " 'Negative electrode open circuit potential',\n",
       " 'Negative electrode open circuit potential [V]',\n",
       " 'X-averaged negative electrode open circuit potential',\n",
       " 'X-averaged negative electrode open circuit potential [V]',\n",
       " 'Negative electrode entropic change',\n",
       " 'Negative electrode entropic change [V.K-1]',\n",
       " 'X-averaged negative electrode entropic change',\n",
       " 'X-averaged negative electrode entropic change [V.K-1]',\n",
       " 'Positive electrode open circuit potential',\n",
       " 'Positive electrode open circuit potential [V]',\n",
       " 'X-averaged positive electrode open circuit potential',\n",
       " 'X-averaged positive electrode open circuit potential [V]',\n",
       " 'Positive electrode entropic change',\n",
       " 'Positive electrode entropic change [V.K-1]',\n",
       " 'X-averaged positive electrode entropic change',\n",
       " 'X-averaged positive electrode entropic change [V.K-1]',\n",
       " 'Negative effective diffusivity',\n",
       " 'Negative effective diffusivity [m2.s-1]',\n",
       " 'X-averaged negative effective diffusivity',\n",
       " 'X-averaged negative effective diffusivity [m2.s-1]',\n",
       " 'Negative particle flux',\n",
       " 'Negative electrode SOC',\n",
       " 'Negative electrode volume-averaged concentration',\n",
       " 'Negative electrode volume-averaged concentration [mol.m-3]',\n",
       " 'Total lithium in negative electrode [mol]',\n",
       " 'Positive effective diffusivity',\n",
       " 'Positive effective diffusivity [m2.s-1]',\n",
       " 'X-averaged positive effective diffusivity',\n",
       " 'X-averaged positive effective diffusivity [m2.s-1]',\n",
       " 'Positive particle flux',\n",
       " 'Positive electrode SOC',\n",
       " 'Positive electrode volume-averaged concentration',\n",
       " 'Positive electrode volume-averaged concentration [mol.m-3]',\n",
       " 'Total lithium in positive electrode [mol]',\n",
       " 'Negative electrode effective conductivity',\n",
       " 'Negative electrode current density',\n",
       " 'Negative electrode current density [A.m-2]',\n",
       " 'Positive electrode effective conductivity',\n",
       " 'Positive electrode current density',\n",
       " 'Positive electrode current density [A.m-2]',\n",
       " 'Electrode current density',\n",
       " 'Positive current collector potential',\n",
       " 'Positive current collector potential [V]',\n",
       " 'Local voltage',\n",
       " 'Local voltage [V]',\n",
       " 'Terminal voltage',\n",
       " 'Terminal voltage [V]',\n",
       " 'Electrolyte concentration',\n",
       " 'Electrolyte concentration [mol.m-3]',\n",
       " 'Electrolyte concentration [Molar]',\n",
       " 'X-averaged electrolyte concentration',\n",
       " 'X-averaged electrolyte concentration [mol.m-3]',\n",
       " 'X-averaged electrolyte concentration [Molar]',\n",
       " 'Negative electrolyte concentration',\n",
       " 'Negative electrolyte concentration [mol.m-3]',\n",
       " 'Negative electrolyte concentration [Molar]',\n",
       " 'Separator electrolyte concentration',\n",
       " 'Separator electrolyte concentration [mol.m-3]',\n",
       " 'Separator electrolyte concentration [Molar]',\n",
       " 'Positive electrolyte concentration',\n",
       " 'Positive electrolyte concentration [mol.m-3]',\n",
       " 'Positive electrolyte concentration [Molar]',\n",
       " 'X-averaged negative electrolyte concentration',\n",
       " 'X-averaged negative electrolyte concentration [mol.m-3]',\n",
       " 'X-averaged separator electrolyte concentration',\n",
       " 'X-averaged separator electrolyte concentration [mol.m-3]',\n",
       " 'X-averaged positive electrolyte concentration',\n",
       " 'X-averaged positive electrolyte concentration [mol.m-3]',\n",
       " 'Electrolyte current density',\n",
       " 'Electrolyte current density [A.m-2]',\n",
       " 'X-averaged concentration overpotential',\n",
       " 'X-averaged electrolyte ohmic losses',\n",
       " 'X-averaged concentration overpotential [V]',\n",
       " 'X-averaged electrolyte ohmic losses [V]',\n",
       " 'Negative electrode surface potential difference',\n",
       " 'Negative electrode surface potential difference [V]',\n",
       " 'X-averaged negative electrode surface potential difference',\n",
       " 'X-averaged negative electrode surface potential difference [V]',\n",
       " 'Positive electrode surface potential difference',\n",
       " 'Positive electrode surface potential difference [V]',\n",
       " 'X-averaged positive electrode surface potential difference',\n",
       " 'X-averaged positive electrode surface potential difference [V]',\n",
       " 'Ohmic heating',\n",
       " 'Ohmic heating [W.m-3]',\n",
       " 'X-averaged Ohmic heating',\n",
       " 'X-averaged Ohmic heating [W.m-3]',\n",
       " 'Volume-averaged Ohmic heating',\n",
       " 'Volume-averaged Ohmic heating [W.m-3]',\n",
       " 'Irreversible electrochemical heating',\n",
       " 'Irreversible electrochemical heating [W.m-3]',\n",
       " 'X-averaged irreversible electrochemical heating',\n",
       " 'X-averaged irreversible electrochemical heating [W.m-3]',\n",
       " 'Volume-averaged irreversible electrochemical heating',\n",
       " 'Volume-averaged irreversible electrochemical heating[W.m-3]',\n",
       " 'Reversible heating',\n",
       " 'Reversible heating [W.m-3]',\n",
       " 'X-averaged reversible heating',\n",
       " 'X-averaged reversible heating [W.m-3]',\n",
       " 'Volume-averaged reversible heating',\n",
       " 'Volume-averaged reversible heating [W.m-3]',\n",
       " 'Total heating',\n",
       " 'Total heating [W.m-3]',\n",
       " 'X-averaged total heating',\n",
       " 'X-averaged total heating [W.m-3]',\n",
       " 'Volume-averaged total heating',\n",
       " 'Volume-averaged total heating [W.m-3]',\n",
       " 'Current collector current density',\n",
       " 'Current collector current density [A.m-2]',\n",
       " 'Leading-order current collector current density',\n",
       " 'X-averaged negative electrode SEI interfacial current density',\n",
       " 'Negative electrode SEI interfacial current density',\n",
       " 'Negative electrode SEI interfacial current density [A.m-2]',\n",
       " 'Negative electrode SEI volumetric interfacial current density',\n",
       " 'X-averaged negative electrode SEI volumetric interfacial current density',\n",
       " 'Negative electrode SEI volumetric interfacial current density [A.m-3]',\n",
       " 'X-averaged negative electrode SEI volumetric interfacial current density [A.m-3]',\n",
       " 'X-averaged positive electrode SEI interfacial current density',\n",
       " 'Positive electrode SEI interfacial current density',\n",
       " 'Positive electrode SEI interfacial current density [A.m-2]',\n",
       " 'X-averaged positive electrode SEI volumetric interfacial current density',\n",
       " 'Positive electrode SEI volumetric interfacial current density',\n",
       " 'X-averaged negative electrode lithium plating interfacial current density',\n",
       " 'X-averaged positive electrode lithium plating interfacial current density',\n",
       " 'X-averaged positive electrode lithium plating volumetric interfacial current density',\n",
       " 'Negative electrode lithium plating interfacial current density',\n",
       " 'Negative electrode lithium plating interfacial current density [A.m-2]',\n",
       " 'Positive electrode lithium plating interfacial current density',\n",
       " 'Positive electrode lithium plating interfacial current density [A.m-2]',\n",
       " 'Positive electrode lithium plating volumetric interfacial current density',\n",
       " 'Negative electrode lithium plating volumetric interfacial current density',\n",
       " 'X-averaged negative electrode lithium plating volumetric interfacial current density',\n",
       " 'Negative electrode lithium plating volumetric interfacial current density [A.m-3]',\n",
       " 'X-averaged negative electrode lithium plating volumetric interfacial current density [A.m-3]',\n",
       " 'Negative electrode interfacial current density',\n",
       " 'X-averaged negative electrode interfacial current density',\n",
       " 'Negative electrode interfacial current density [A.m-2]',\n",
       " 'X-averaged negative electrode interfacial current density [A.m-2]',\n",
       " 'X-averaged negative electrode total interfacial current density',\n",
       " 'X-averaged negative electrode total interfacial current density [A.m-2]',\n",
       " 'Negative electrode exchange current density',\n",
       " 'X-averaged negative electrode exchange current density',\n",
       " 'Negative electrode exchange current density [A.m-2]',\n",
       " 'X-averaged negative electrode exchange current density [A.m-2]',\n",
       " 'Negative electrode reaction overpotential',\n",
       " 'X-averaged negative electrode reaction overpotential',\n",
       " 'Negative electrode reaction overpotential [V]',\n",
       " 'X-averaged negative electrode reaction overpotential [V]',\n",
       " 'Negative electrode volumetric interfacial current density',\n",
       " 'X-averaged negative electrode volumetric interfacial current density',\n",
       " 'Negative electrode volumetric interfacial current density [A.m-3]',\n",
       " 'X-averaged negative electrode volumetric interfacial current density [A.m-3]',\n",
       " 'SEI film overpotential',\n",
       " 'X-averaged SEI film overpotential',\n",
       " 'SEI film overpotential [V]',\n",
       " 'X-averaged SEI film overpotential [V]',\n",
       " 'Positive electrode interfacial current density',\n",
       " 'X-averaged positive electrode interfacial current density',\n",
       " 'Positive electrode interfacial current density [A.m-2]',\n",
       " 'X-averaged positive electrode interfacial current density [A.m-2]',\n",
       " 'X-averaged positive electrode total interfacial current density',\n",
       " 'X-averaged positive electrode total interfacial current density [A.m-2]',\n",
       " 'Positive electrode exchange current density',\n",
       " 'X-averaged positive electrode exchange current density',\n",
       " 'Positive electrode exchange current density [A.m-2]',\n",
       " 'X-averaged positive electrode exchange current density [A.m-2]',\n",
       " 'Positive electrode reaction overpotential',\n",
       " 'X-averaged positive electrode reaction overpotential',\n",
       " 'Positive electrode reaction overpotential [V]',\n",
       " 'X-averaged positive electrode reaction overpotential [V]',\n",
       " 'Positive electrode volumetric interfacial current density',\n",
       " 'X-averaged positive electrode volumetric interfacial current density',\n",
       " 'Positive electrode volumetric interfacial current density [A.m-3]',\n",
       " 'X-averaged positive electrode volumetric interfacial current density [A.m-3]',\n",
       " 'Electrolyte flux',\n",
       " 'Electrolyte flux [mol.m-2.s-1]',\n",
       " 'Total lithium in electrolyte',\n",
       " 'Total lithium in electrolyte [mol]',\n",
       " 'Sum of electrolyte reaction source terms',\n",
       " 'Sum of positive electrode electrolyte reaction source terms',\n",
       " 'Sum of x-averaged positive electrode electrolyte reaction source terms',\n",
       " 'Sum of interfacial current densities',\n",
       " 'Sum of volumetric interfacial current densities',\n",
       " 'Sum of positive electrode interfacial current densities',\n",
       " 'Sum of x-averaged positive electrode interfacial current densities',\n",
       " 'Sum of positive electrode volumetric interfacial current densities',\n",
       " 'Sum of x-averaged positive electrode volumetric interfacial current densities',\n",
       " 'Sum of negative electrode electrolyte reaction source terms',\n",
       " 'Sum of x-averaged negative electrode electrolyte reaction source terms',\n",
       " 'Sum of negative electrode interfacial current densities',\n",
       " 'Sum of x-averaged negative electrode interfacial current densities',\n",
       " 'Sum of negative electrode volumetric interfacial current densities',\n",
       " 'Sum of x-averaged negative electrode volumetric interfacial current densities',\n",
       " 'Interfacial current density',\n",
       " 'Interfacial current density [A.m-2]',\n",
       " 'Exchange current density',\n",
       " 'Exchange current density [A.m-2]',\n",
       " 'X-averaged open circuit voltage',\n",
       " 'Measured open circuit voltage',\n",
       " 'X-averaged open circuit voltage [V]',\n",
       " 'Measured open circuit voltage [V]',\n",
       " 'X-averaged reaction overpotential',\n",
       " 'X-averaged reaction overpotential [V]',\n",
       " 'X-averaged solid phase ohmic losses',\n",
       " 'X-averaged solid phase ohmic losses [V]',\n",
       " 'X-averaged battery open circuit voltage [V]',\n",
       " 'Measured battery open circuit voltage [V]',\n",
       " 'X-averaged battery reaction overpotential [V]',\n",
       " 'X-averaged battery solid phase ohmic losses [V]',\n",
       " 'X-averaged battery electrolyte ohmic losses [V]',\n",
       " 'X-averaged battery concentration overpotential [V]',\n",
       " 'Battery voltage [V]',\n",
       " 'Change in measured open circuit voltage',\n",
       " 'Change in measured open circuit voltage [V]',\n",
       " 'Local ECM resistance',\n",
       " 'Local ECM resistance [Ohm]',\n",
       " 'Terminal power [W]',\n",
       " 'Power [W]',\n",
       " 'Resistance [Ohm]',\n",
       " 'LAM_ne [%]',\n",
       " 'LAM_pe [%]',\n",
       " 'LLI [%]',\n",
       " 'Loss of active material in negative electrode [%]',\n",
       " 'Loss of active material in positive electrode [%]',\n",
       " 'Loss of lithium inventory [%]',\n",
       " 'Loss of lithium inventory, including electrolyte [%]',\n",
       " 'Total lithium [mol]',\n",
       " 'Total lithium in particles [mol]',\n",
       " 'Total lithium lost [mol]',\n",
       " 'Total lithium lost from particles [mol]',\n",
       " 'Total lithium lost from electrolyte [mol]',\n",
       " 'Total lithium lost to side reactions [mol]',\n",
       " 'Total capacity lost to side reactions [A.h]']"
      ]
     },
     "execution_count": 2,
     "metadata": {},
     "output_type": "execute_result"
    }
   ],
   "source": [
    "model_dfn.variable_names()"
   ]
  },
  {
   "cell_type": "markdown",
   "metadata": {},
   "source": [
    "There are a _lot_ of variables. You can also search the list of variables for a particular string (e.g. \"electrolyte\")"
   ]
  },
  {
   "cell_type": "code",
   "execution_count": 3,
   "metadata": {},
   "outputs": [
    {
     "name": "stdout",
     "output_type": "stream",
     "text": [
      "Electrolyte concentration\n",
      "Electrolyte concentration [Molar]\n",
      "Electrolyte concentration [mol.m-3]\n",
      "Electrolyte current density\n",
      "Electrolyte current density [A.m-2]\n",
      "Electrolyte flux\n",
      "Electrolyte flux [mol.m-2.s-1]\n",
      "Electrolyte potential\n",
      "Electrolyte potential [V]\n",
      "Electrolyte transport efficiency\n",
      "Gradient of electrolyte potential\n",
      "Gradient of negative electrolyte potential\n",
      "Gradient of positive electrolyte potential\n",
      "Gradient of separator electrolyte potential\n",
      "Loss of lithium inventory, including electrolyte [%]\n",
      "Negative electrolyte concentration\n",
      "Negative electrolyte concentration [Molar]\n",
      "Negative electrolyte concentration [mol.m-3]\n",
      "Negative electrolyte potential\n",
      "Negative electrolyte potential [V]\n",
      "Negative electrolyte transport efficiency\n",
      "Positive electrolyte concentration\n",
      "Positive electrolyte concentration [Molar]\n",
      "Positive electrolyte concentration [mol.m-3]\n",
      "Positive electrolyte potential\n",
      "Positive electrolyte potential [V]\n",
      "Positive electrolyte transport efficiency\n",
      "Separator electrolyte concentration\n",
      "Separator electrolyte concentration [Molar]\n",
      "Separator electrolyte concentration [mol.m-3]\n",
      "Separator electrolyte potential\n",
      "Separator electrolyte potential [V]\n",
      "Sum of electrolyte reaction source terms\n",
      "Sum of negative electrode electrolyte reaction source terms\n",
      "Sum of positive electrode electrolyte reaction source terms\n",
      "Sum of x-averaged negative electrode electrolyte reaction source terms\n",
      "Sum of x-averaged positive electrode electrolyte reaction source terms\n",
      "Total lithium in electrolyte\n",
      "Total lithium in electrolyte [mol]\n",
      "Total lithium lost from electrolyte [mol]\n",
      "X-averaged battery electrolyte ohmic losses [V]\n",
      "X-averaged electrolyte concentration\n",
      "X-averaged electrolyte concentration [Molar]\n",
      "X-averaged electrolyte concentration [mol.m-3]\n",
      "X-averaged electrolyte ohmic losses\n",
      "X-averaged electrolyte ohmic losses [V]\n",
      "X-averaged electrolyte overpotential\n",
      "X-averaged electrolyte overpotential [V]\n",
      "X-averaged electrolyte potential\n",
      "X-averaged electrolyte potential [V]\n",
      "X-averaged negative electrolyte concentration\n",
      "X-averaged negative electrolyte concentration [mol.m-3]\n",
      "X-averaged negative electrolyte potential\n",
      "X-averaged negative electrolyte potential [V]\n",
      "X-averaged negative electrolyte transport efficiency\n",
      "X-averaged positive electrolyte concentration\n",
      "X-averaged positive electrolyte concentration [mol.m-3]\n",
      "X-averaged positive electrolyte potential\n",
      "X-averaged positive electrolyte potential [V]\n",
      "X-averaged positive electrolyte transport efficiency\n",
      "X-averaged separator electrolyte concentration\n",
      "X-averaged separator electrolyte concentration [mol.m-3]\n",
      "X-averaged separator electrolyte potential\n",
      "X-averaged separator electrolyte potential [V]\n"
     ]
    }
   ],
   "source": [
    "model_dfn.variables.search(\"electrolyte\")"
   ]
  },
  {
   "cell_type": "markdown",
   "metadata": {},
   "source": [
    "We have tried to make variables names fairly self explanatory. However, there are two variables for most quantities. This is because PyBaMM utilises both dimensionless and dimensional variables for these quantities. As a rule, the dimensionless variables have no units in their name and the dimensional variables have units in their name. If in doubt, we recommend using the dimensional variable with units."
   ]
  },
  {
   "cell_type": "markdown",
   "metadata": {},
   "source": [
    "As a first example, we choose to plot the terminal voltage. We add this to a list and then pass this list to the `plot` method of our simulation:"
   ]
  },
  {
   "cell_type": "code",
   "execution_count": 4,
   "metadata": {},
   "outputs": [
    {
     "data": {
      "application/vnd.jupyter.widget-view+json": {
       "model_id": "4233bb603c614ff0a17469374723ee2b",
       "version_major": 2,
       "version_minor": 0
      },
      "text/plain": [
       "interactive(children=(FloatSlider(value=0.0, description='t', max=1.0, step=0.01), Output()), _dom_classes=('w…"
      ]
     },
     "metadata": {},
     "output_type": "display_data"
    },
    {
     "data": {
      "text/plain": [
       "<pybamm.plotting.quick_plot.QuickPlot at 0x7fd4b2798e20>"
      ]
     },
     "execution_count": 4,
     "metadata": {},
     "output_type": "execute_result"
    }
   ],
   "source": [
    "output_variables = [\"Terminal voltage [V]\"]\n",
    "sim_dfn.plot(output_variables=output_variables)"
   ]
  },
  {
   "cell_type": "markdown",
   "metadata": {},
   "source": [
    "Alternatively, we may be interested in plotting both the electrolyte concentration and the terminal voltage. In which case, we would do:"
   ]
  },
  {
   "cell_type": "code",
   "execution_count": 5,
   "metadata": {},
   "outputs": [
    {
     "data": {
      "application/vnd.jupyter.widget-view+json": {
       "model_id": "605a4bbe33454b718be1315c51793793",
       "version_major": 2,
       "version_minor": 0
      },
      "text/plain": [
       "interactive(children=(FloatSlider(value=0.0, description='t', max=1.0, step=0.01), Output()), _dom_classes=('w…"
      ]
     },
     "metadata": {},
     "output_type": "display_data"
    },
    {
     "data": {
      "text/plain": [
       "<pybamm.plotting.quick_plot.QuickPlot at 0x7fd4b533fcd0>"
      ]
     },
     "execution_count": 5,
     "metadata": {},
     "output_type": "execute_result"
    }
   ],
   "source": [
    "output_variables = [\"Electrolyte concentration [mol.m-3]\", \"Terminal voltage [V]\"]\n",
    "sim_dfn.plot(output_variables=output_variables)"
   ]
  },
  {
   "cell_type": "markdown",
   "metadata": {},
   "source": [
    "You can also plot multiple variables on the same plot by nesting lists"
   ]
  },
  {
   "cell_type": "code",
   "execution_count": 6,
   "metadata": {},
   "outputs": [
    {
     "data": {
      "application/vnd.jupyter.widget-view+json": {
       "model_id": "ae8de6b692eb4776b16994ad762b395a",
       "version_major": 2,
       "version_minor": 0
      },
      "text/plain": [
       "interactive(children=(FloatSlider(value=0.0, description='t', max=1.0, step=0.01), Output()), _dom_classes=('w…"
      ]
     },
     "metadata": {},
     "output_type": "display_data"
    },
    {
     "data": {
      "text/plain": [
       "<pybamm.plotting.quick_plot.QuickPlot at 0x7fd4909ce460>"
      ]
     },
     "execution_count": 6,
     "metadata": {},
     "output_type": "execute_result"
    }
   ],
   "source": [
    "sim_dfn.plot([[\"Electrode current density\", \"Electrolyte current density\"], \"Terminal voltage [V]\"])"
   ]
  },
  {
   "cell_type": "code",
   "execution_count": 7,
   "metadata": {},
   "outputs": [
    {
     "data": {
      "application/vnd.jupyter.widget-view+json": {
       "model_id": "393396525a1e41ff8d32b3b30b1ca4ad",
       "version_major": 2,
       "version_minor": 0
      },
      "text/plain": [
       "interactive(children=(FloatSlider(value=0.0, description='t', max=1.0, step=0.01), Output()), _dom_classes=('w…"
      ]
     },
     "metadata": {},
     "output_type": "display_data"
    },
    {
     "data": {
      "text/plain": [
       "<pybamm.plotting.quick_plot.QuickPlot at 0x7fd490a2bd00>"
      ]
     },
     "execution_count": 7,
     "metadata": {},
     "output_type": "execute_result"
    }
   ],
   "source": [
    "sim_dfn.plot()"
   ]
  },
  {
   "cell_type": "markdown",
   "metadata": {},
   "source": [
    "For plotting the voltage components you can use the `plot_votage_components` function"
   ]
  },
  {
   "cell_type": "code",
   "execution_count": 8,
   "metadata": {},
   "outputs": [
    {
     "data": {
      "image/png": "[encoded data removed]",
      "text/plain": [
       "<Figure size 432x288 with 1 Axes>"
      ]
     },
     "metadata": {
      "needs_background": "light"
     },
     "output_type": "display_data"
    },
    {
     "data": {
      "text/plain": [
       "(<Figure size 432x288 with 1 Axes>, <AxesSubplot:xlabel='Time [h]'>)"
      ]
     },
     "execution_count": 8,
     "metadata": {},
     "output_type": "execute_result"
    }
   ],
   "source": [
    "pybamm.plot_voltage_components(sim_dfn.solution)"
   ]
  },
  {
   "cell_type": "markdown",
   "metadata": {},
   "source": [
    "And with a few modifications (by creating subplots and by providing the axes on which the voltage components have to be plotted), it can also be used to compare the voltage components of different simulations"
   ]
  },
  {
   "cell_type": "code",
   "execution_count": 9,
   "metadata": {},
   "outputs": [
    {
     "data": {
      "image/png": "[encoded data removed]",
      "text/plain": [
       "<Figure size 1080x432 with 2 Axes>"
      ]
     },
     "metadata": {
      "needs_background": "light"
     },
     "output_type": "display_data"
    }
   ],
   "source": [
    "# simulating and solving Single Particle Model\n",
    "model_spm = pybamm.lithium_ion.SPM()\n",
    "sim_spm = pybamm.Simulation(model_spm)\n",
    "sim_spm.solve([0, 3700])\n",
    "\n",
    "# comparing voltage components for Doyle-Fuller-Newman model and Single Particle Model\n",
    "fig, axes = plt.subplots(1, 2, figsize=(15, 6), sharey=True)\n",
    "\n",
    "pybamm.plot_voltage_components(sim_dfn.solution, ax=axes.flat[0])\n",
    "pybamm.plot_voltage_components(sim_spm.solution, ax=axes.flat[1])\n",
    "\n",
    "axes.flat[0].set_title(\"Doyle-Fuller-Newman Model\")\n",
    "axes.flat[1].set_title(\"Single Particle Model\")\n",
    "\n",
    "plt.show()"
   ]
  },
  {
   "cell_type": "markdown",
   "metadata": {},
   "source": [
    "In this tutorial we have seen how to use the plotting functionality in PyBaMM.\n",
    "\n",
    "In [Tutorial 4](./Tutorial%204%20-%20Setting%20parameter%20values.ipynb) we show how to change parameter values."
   ]
  },
  {
   "cell_type": "markdown",
   "metadata": {},
   "source": [
    "## References\n",
    "\n",
    "The relevant papers for this notebook are:"
   ]
  },
  {
   "cell_type": "code",
   "execution_count": 10,
   "metadata": {},
   "outputs": [
    {
     "name": "stdout",
     "output_type": "stream",
     "text": [
      "[1] Joel A. E. Andersson, Joris Gillis, Greg Horn, James B. Rawlings, and Moritz Diehl. CasADi – A software framework for nonlinear optimization and optimal control. Mathematical Programming Computation, 11(1):1–36, 2019. doi:10.1007/s12532-018-0139-4.\n",
      "[2] Marc Doyle, Thomas F. Fuller, and John Newman. Modeling of galvanostatic charge and discharge of the lithium/polymer/insertion cell. Journal of the Electrochemical society, 140(6):1526–1533, 1993. doi:10.1149/1.2221597.\n",
      "[3] Charles R. Harris, K. Jarrod Millman, Stéfan J. van der Walt, Ralf Gommers, Pauli Virtanen, David Cournapeau, Eric Wieser, Julian Taylor, Sebastian Berg, Nathaniel J. Smith, and others. Array programming with NumPy. Nature, 585(7825):357–362, 2020. doi:10.1038/s41586-020-2649-2.\n",
      "[4] Scott G. Marquis, Valentin Sulzer, Robert Timms, Colin P. Please, and S. Jon Chapman. An asymptotic derivation of a single particle model with electrolyte. Journal of The Electrochemical Society, 166(15):A3693–A3706, 2019. doi:10.1149/2.0341915jes.\n",
      "[5] Valentin Sulzer, Scott G. Marquis, Robert Timms, Martin Robinson, and S. Jon Chapman. Python Battery Mathematical Modelling (PyBaMM). Journal of Open Research Software, 9(1):14, 2021. doi:10.5334/jors.309.\n",
      "\n"
     ]
    }
   ],
   "source": [
    "pybamm.print_citations()"
   ]
  }
 ],
 "metadata": {
  "kernelspec": {
   "display_name": "Python 3.8.12 ('conda_jl')",
   "language": "python",
   "name": "python3"
  },
  "language_info": {
   "codemirror_mode": {
    "name": "ipython",
    "version": 3
   },
   "file_extension": ".py",
   "mimetype": "text/x-python",
   "name": "python",
   "nbconvert_exporter": "python",
   "pygments_lexer": "ipython3",
   "version": "3.8.12"
  },
  "vscode": {
   "interpreter": {
    "hash": "612adcc456652826e82b485a1edaef831aa6d5abc680d008e93d513dd8724f14"
   }
  }
 },
 "nbformat": 4,
 "nbformat_minor": 2
}
