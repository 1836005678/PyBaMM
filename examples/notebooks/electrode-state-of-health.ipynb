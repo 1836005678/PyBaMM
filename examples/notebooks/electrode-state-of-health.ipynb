{
 "cells": [
  {
   "cell_type": "markdown",
   "metadata": {},
   "source": [
    "# Electrode State of Health"
   ]
  },
  {
   "cell_type": "markdown",
   "metadata": {},
   "source": [
    "This notebook demonstrates some utilities to work with electrode State of Health (also sometimes called electrode stoichiometry), using the algorithm from Mohtat et al [1]\n",
    "\n",
    "[1] Mohtat, P., Lee, S., Siegel, J. B., & Stefanopoulou, A. G. (2019). Towards better estimability of electrode-specific state of health: Decoding the cell expansion. Journal of Power Sources, 427, 101-111."
   ]
  },
  {
   "cell_type": "code",
   "execution_count": 1,
   "metadata": {},
   "outputs": [
    {
     "name": "stdout",
     "output_type": "stream",
     "text": [
      "\u001b[33mWARNING: You are using pip version 21.0.1; however, version 21.1 is available.\n",
      "You should consider upgrading via the '/Users/vsulzer/Documents/Energy_storage/PyBaMM/.tox/dev/bin/python -m pip install --upgrade pip' command.\u001b[0m\n",
      "Note: you may need to restart the kernel to use updated packages.\n"
     ]
    }
   ],
   "source": [
    "%pip install pybamm -q\n",
    "import pybamm\n",
    "import matplotlib.pyplot as plt\n",
    "import numpy as np"
   ]
  },
  {
   "cell_type": "markdown",
   "metadata": {},
   "source": [
    "## Create and solve model"
   ]
  },
  {
   "cell_type": "code",
   "execution_count": 3,
   "metadata": {},
   "outputs": [
    {
     "ename": "SolverError",
     "evalue": "Could not determine which event was triggered (possibly due to NaNs)",
     "output_type": "error",
     "traceback": [
      "\u001b[0;31m---------------------------------------------------------------------------\u001b[0m",
      "\u001b[0;31mSolverError\u001b[0m                               Traceback (most recent call last)",
      "\u001b[0;32m<ipython-input-3-94958dd66bef>\u001b[0m in \u001b[0;36m<module>\u001b[0;34m\u001b[0m\n\u001b[1;32m      9\u001b[0m \u001b[0;34m\u001b[0m\u001b[0m\n\u001b[1;32m     10\u001b[0m \u001b[0msim\u001b[0m \u001b[0;34m=\u001b[0m \u001b[0mpybamm\u001b[0m\u001b[0;34m.\u001b[0m\u001b[0mSimulation\u001b[0m\u001b[0;34m(\u001b[0m\u001b[0mspm\u001b[0m\u001b[0;34m,\u001b[0m \u001b[0mexperiment\u001b[0m\u001b[0;34m=\u001b[0m\u001b[0mexperiment\u001b[0m\u001b[0;34m,\u001b[0m \u001b[0mparameter_values\u001b[0m\u001b[0;34m=\u001b[0m\u001b[0mparameter_values\u001b[0m\u001b[0;34m)\u001b[0m\u001b[0;34m\u001b[0m\u001b[0;34m\u001b[0m\u001b[0m\n\u001b[0;32m---> 11\u001b[0;31m \u001b[0mspm_sol\u001b[0m \u001b[0;34m=\u001b[0m \u001b[0msim\u001b[0m\u001b[0;34m.\u001b[0m\u001b[0msolve\u001b[0m\u001b[0;34m(\u001b[0m\u001b[0;34m)\u001b[0m\u001b[0;34m\u001b[0m\u001b[0;34m\u001b[0m\u001b[0m\n\u001b[0m\u001b[1;32m     12\u001b[0m spm_sol.plot([\n\u001b[1;32m     13\u001b[0m     \u001b[0;34m\"Terminal voltage [V]\"\u001b[0m\u001b[0;34m,\u001b[0m\u001b[0;34m\u001b[0m\u001b[0;34m\u001b[0m\u001b[0m\n",
      "\u001b[0;32m~/Documents/Energy_storage/PyBaMM/pybamm/simulation.py\u001b[0m in \u001b[0;36msolve\u001b[0;34m(self, t_eval, solver, check_model, save_at_cycles, calc_esoh, starting_solution, **kwargs)\u001b[0m\n\u001b[1;32m    746\u001b[0m                     \u001b[0;31m# Make sure we take at least 2 timesteps\u001b[0m\u001b[0;34m\u001b[0m\u001b[0;34m\u001b[0m\u001b[0;34m\u001b[0m\u001b[0m\n\u001b[1;32m    747\u001b[0m                     \u001b[0mnpts\u001b[0m \u001b[0;34m=\u001b[0m \u001b[0mmax\u001b[0m\u001b[0;34m(\u001b[0m\u001b[0mint\u001b[0m\u001b[0;34m(\u001b[0m\u001b[0mround\u001b[0m\u001b[0;34m(\u001b[0m\u001b[0mdt\u001b[0m \u001b[0;34m/\u001b[0m \u001b[0mexp_inputs\u001b[0m\u001b[0;34m[\u001b[0m\u001b[0;34m\"period\"\u001b[0m\u001b[0;34m]\u001b[0m\u001b[0;34m)\u001b[0m\u001b[0;34m)\u001b[0m \u001b[0;34m+\u001b[0m \u001b[0;36m1\u001b[0m\u001b[0;34m,\u001b[0m \u001b[0;36m2\u001b[0m\u001b[0;34m)\u001b[0m\u001b[0;34m\u001b[0m\u001b[0;34m\u001b[0m\u001b[0m\n\u001b[0;32m--> 748\u001b[0;31m                     step_solution = solver.step(\n\u001b[0m\u001b[1;32m    749\u001b[0m                         \u001b[0mcurrent_solution\u001b[0m\u001b[0;34m,\u001b[0m\u001b[0;34m\u001b[0m\u001b[0;34m\u001b[0m\u001b[0m\n\u001b[1;32m    750\u001b[0m                         \u001b[0mmodel\u001b[0m\u001b[0;34m,\u001b[0m\u001b[0;34m\u001b[0m\u001b[0;34m\u001b[0m\u001b[0m\n",
      "\u001b[0;32m~/Documents/Energy_storage/PyBaMM/pybamm/solvers/base_solver.py\u001b[0m in \u001b[0;36mstep\u001b[0;34m(self, old_solution, model, dt, npts, external_variables, inputs, save)\u001b[0m\n\u001b[1;32m   1024\u001b[0m         \u001b[0;31m# Identify the event that caused termination and update the solution to\u001b[0m\u001b[0;34m\u001b[0m\u001b[0;34m\u001b[0m\u001b[0;34m\u001b[0m\u001b[0m\n\u001b[1;32m   1025\u001b[0m         \u001b[0;31m# include the event time and state\u001b[0m\u001b[0;34m\u001b[0m\u001b[0;34m\u001b[0m\u001b[0;34m\u001b[0m\u001b[0m\n\u001b[0;32m-> 1026\u001b[0;31m         \u001b[0msolution\u001b[0m\u001b[0;34m,\u001b[0m \u001b[0mtermination\u001b[0m \u001b[0;34m=\u001b[0m \u001b[0mself\u001b[0m\u001b[0;34m.\u001b[0m\u001b[0mget_termination_reason\u001b[0m\u001b[0;34m(\u001b[0m\u001b[0msolution\u001b[0m\u001b[0;34m,\u001b[0m \u001b[0mmodel\u001b[0m\u001b[0;34m.\u001b[0m\u001b[0mevents\u001b[0m\u001b[0;34m)\u001b[0m\u001b[0;34m\u001b[0m\u001b[0;34m\u001b[0m\u001b[0m\n\u001b[0m\u001b[1;32m   1027\u001b[0m \u001b[0;34m\u001b[0m\u001b[0m\n\u001b[1;32m   1028\u001b[0m         \u001b[0;31m# Assign setup time\u001b[0m\u001b[0;34m\u001b[0m\u001b[0;34m\u001b[0m\u001b[0;34m\u001b[0m\u001b[0m\n",
      "\u001b[0;32m~/Documents/Energy_storage/PyBaMM/pybamm/solvers/base_solver.py\u001b[0m in \u001b[0;36mget_termination_reason\u001b[0;34m(self, solution, events)\u001b[0m\n\u001b[1;32m   1089\u001b[0m             \u001b[0;32mif\u001b[0m \u001b[0mabs\u001b[0m\u001b[0;34m(\u001b[0m\u001b[0mfinal_event_values\u001b[0m\u001b[0;34m[\u001b[0m\u001b[0mtermination_event\u001b[0m\u001b[0;34m]\u001b[0m\u001b[0;34m)\u001b[0m \u001b[0;34m>\u001b[0m \u001b[0;36m0.1\u001b[0m\u001b[0;34m:\u001b[0m  \u001b[0;31m# pragma: no cover\u001b[0m\u001b[0;34m\u001b[0m\u001b[0;34m\u001b[0m\u001b[0m\n\u001b[1;32m   1090\u001b[0m                 \u001b[0;31m# Hard to test this\u001b[0m\u001b[0;34m\u001b[0m\u001b[0;34m\u001b[0m\u001b[0;34m\u001b[0m\u001b[0m\n\u001b[0;32m-> 1091\u001b[0;31m                 raise pybamm.SolverError(\n\u001b[0m\u001b[1;32m   1092\u001b[0m                     \u001b[0;34m\"Could not determine which event was triggered \"\u001b[0m\u001b[0;34m\u001b[0m\u001b[0;34m\u001b[0m\u001b[0m\n\u001b[1;32m   1093\u001b[0m                     \u001b[0;34m\"(possibly due to NaNs)\"\u001b[0m\u001b[0;34m\u001b[0m\u001b[0;34m\u001b[0m\u001b[0m\n",
      "\u001b[0;31mSolverError\u001b[0m: Could not determine which event was triggered (possibly due to NaNs)"
     ]
    }
   ],
   "source": [
    "spm = pybamm.lithium_ion.SPM()\n",
    "experiment = pybamm.Experiment([\n",
    "    \"Charge at 1C until 4.2V\", \n",
    "    \"Hold at 4.2V until C/50\",\n",
    "    \"Discharge at 1C until 3V\",\n",
    "    \"Hold at 3V until C/50\",\n",
    "])\n",
    "parameter_values = pybamm.ParameterValues(chemistry=pybamm.parameter_sets.Chen2020)\n",
    "\n",
    "sim = pybamm.Simulation(spm, experiment=experiment, parameter_values=parameter_values)\n",
    "spm_sol = sim.solve()\n",
    "spm_sol.plot([\n",
    "    \"Terminal voltage [V]\", \n",
    "    \"Current [A]\", \n",
    "    \"Negative electrode SOC\",\n",
    "    \"Positive electrode SOC\",\n",
    "])"
   ]
  },
  {
   "cell_type": "markdown",
   "metadata": {},
   "source": [
    "## Solve for electrode SOH variables"
   ]
  },
  {
   "cell_type": "markdown",
   "metadata": {},
   "source": [
    "Given a total amount of lithium, $n_{Li}$, electrode capacities, $C_n$ and $C_p$, and voltage limits, $V_{min}$ and $V_{max}$, we can solve for the min and max electrode SOCs, $x_0$, $x_{100}$, $y_0$, and $y_{100}$,  and the cell capacity, $C$, using the algorithm from Mohtat et al [1].\n",
    "First, we find $x_{100}$ and $y_{100}$ using\n",
    "$$\n",
    "\\begin{align}\n",
    "n_{Li} &= \\frac{3600}{F}(y_{100}C_p + x_{100}C_n),\n",
    "\\\\\n",
    "V_{max} &= U_p(y_{100}) - U_n(x_{100}).\n",
    "\\end{align}\n",
    "$$\n",
    "Then, we find $C$ using\n",
    "$$\n",
    "\\begin{align}\n",
    "V_{min} &= U_p(y_{0}) - U_n(x_{0})\n",
    "\\\\\n",
    "&= U_p\\left(y_{100} + \\frac{C}{C_p}\\right) - U_n\\left(x_{100} - \\frac{C}{C_n}\\right)\n",
    "\\end{align}\n",
    "$$\n",
    "Finally, $x_0$ and $y_0$ are simply defined as\n",
    "$$\n",
    "\\begin{align}\n",
    "x_0 &= x_{100} - \\frac{C}{C_n},\n",
    "\\\\\n",
    "y_0 &= y_{100} + \\frac{C}{C_p}.\n",
    "\\end{align}\n",
    "$$\n",
    "We implement this in pybamm as an algebraic model."
   ]
  },
  {
   "cell_type": "code",
   "execution_count": 3,
   "metadata": {},
   "outputs": [],
   "source": [
    "param = pybamm.LithiumIonParameters()\n",
    "\n",
    "Vmin = 3\n",
    "Vmax = 4.2\n",
    "Cn = parameter_values.evaluate(param.C_n_init)\n",
    "Cp = parameter_values.evaluate(param.C_p_init)\n",
    "n_Li = parameter_values.evaluate(param.n_Li_particles_init)\n",
    "\n",
    "Un = param.U_n_dimensional\n",
    "Up = param.U_p_dimensional\n",
    "T_ref = param.T_ref"
   ]
  },
  {
   "cell_type": "code",
   "execution_count": 13,
   "metadata": {},
   "outputs": [
    {
     "name": "stdout",
     "output_type": "stream",
     "text": [
      "x_100 : 0.8333952418070643\n",
      "y_100 : 0.03352393941868425\n",
      "C : 4.976233834657047\n",
      "x_0 : 0.0003105051235081646\n",
      "y_0 : 0.8921330277182218\n"
     ]
    }
   ],
   "source": [
    "model = pybamm.BaseModel()\n",
    "x100 = pybamm.Variable(\"x100\")\n",
    "C = pybamm.Variable(\"C\")\n",
    "\n",
    "y100 = (n_Li * param.F / 3600 - x100 * Cn) / Cp\n",
    "x0 = x100 - C/Cn\n",
    "y0 = y100 + C/Cp\n",
    "\n",
    "model.algebraic = {\n",
    "    x100: Up(y100, T_ref) - Un(x100, T_ref) - Vmax,\n",
    "    C: Up(y0, T_ref) - Un(x0, T_ref) - Vmin,\n",
    "}\n",
    "model.initial_conditions = {\n",
    "    x100: 1,\n",
    "    C: Cp,\n",
    "}\n",
    "model.variables = {\n",
    "    \"x_100\": x100,\n",
    "    \"y_100\": y100,\n",
    "    \"C\": C,\n",
    "    \"x_0\": x0,\n",
    "    \"y_0\": y0,\n",
    "}\n",
    "\n",
    "sim = pybamm.Simulation(model, parameter_values=parameter_values)\n",
    "sol = sim.solve([0])\n",
    "for var in [\"x_100\", \"y_100\", \"C\", \"x_0\", \"y_0\"]:\n",
    "    print(var, \":\", sol[var].data[0])"
   ]
  },
  {
   "cell_type": "markdown",
   "metadata": {},
   "source": [
    "This model is implemented in PyBaMM as the `ElectrodeSOH` model"
   ]
  },
  {
   "cell_type": "code",
   "execution_count": 19,
   "metadata": {},
   "outputs": [
    {
     "name": "stdout",
     "output_type": "stream",
     "text": [
      "x_100 : 0.8333952418070643\n",
      "y_100 : 0.03352393941868425\n",
      "C : 4.976233834657047\n",
      "x_0 : 0.0003105051235081646\n",
      "y_0 : 0.8921330277182218\n"
     ]
    }
   ],
   "source": [
    "model = pybamm.lithium_ion.ElectrodeSOH()\n",
    "sim = pybamm.Simulation(model, parameter_values=parameter_values)\n",
    "esoh_sol = sim.solve(\n",
    "    [0],\n",
    "    inputs={ \"V_min\": Vmin, \"V_max\": Vmax, \"C_n\": Cn, \"C_p\": Cp, \"n_Li\": n_Li},\n",
    ")\n",
    "for var in [\"x_100\", \"y_100\", \"C\", \"x_0\", \"y_0\"]:\n",
    "    print(var, \":\", esoh_sol[var].data[0])"
   ]
  },
  {
   "cell_type": "markdown",
   "metadata": {},
   "source": [
    "## Check against simulations"
   ]
  },
  {
   "cell_type": "markdown",
   "metadata": {},
   "source": [
    "Plotting the SPM simulations against the eSOH calculations validates the min/max stoichiometry calculations"
   ]
  },
  {
   "cell_type": "code",
   "execution_count": 36,
   "metadata": {},
   "outputs": [
    {
     "data": {
      "image/png": "[encoded data removed]",
      "text/plain": [
       "<Figure size 432x288 with 2 Axes>"
      ]
     },
     "metadata": {
      "needs_background": "light"
     },
     "output_type": "display_data"
    }
   ],
   "source": [
    "t = spm_sol[\"Time [h]\"].data\n",
    "x_spm = spm_sol[\"Negative electrode SOC\"].data\n",
    "y_spm = spm_sol[\"Positive electrode SOC\"].data\n",
    "\n",
    "x_0 = esoh_sol[\"x_0\"].data * np.ones_like(t)\n",
    "y_0 = esoh_sol[\"y_0\"].data * np.ones_like(t)\n",
    "x_100 = esoh_sol[\"x_100\"].data * np.ones_like(t)\n",
    "y_100 = esoh_sol[\"y_100\"].data * np.ones_like(t)\n",
    "\n",
    "fig, axes = plt.subplots(1,2)\n",
    "\n",
    "axes[0].plot(t, x_spm, \"b\")\n",
    "axes[0].plot(t, x_0, \"k:\")\n",
    "axes[0].plot(t, x_100, \"k:\")\n",
    "axes[0].set_ylabel(\"x\")\n",
    "    \n",
    "axes[1].plot(t, y_spm, \"r\")\n",
    "axes[1].plot(t, y_0, \"k:\")\n",
    "axes[1].plot(t, y_100, \"k:\")\n",
    "axes[1].set_ylabel(\"y\")\n",
    "    \n",
    "for k in range(2):\n",
    "    axes[k].set_xlim([t[0],t[-1]])\n",
    "    axes[k].set_ylim([0,1])    \n",
    "    axes[k].set_xlabel(\"Time [h]\")\n",
    "    \n",
    "fig.tight_layout()\n"
   ]
  },
  {
   "cell_type": "code",
   "execution_count": null,
   "metadata": {},
   "outputs": [],
   "source": []
  }
 ],
 "metadata": {
  "kernelspec": {
   "display_name": "Python 3",
   "language": "python",
   "name": "python3"
  },
  "language_info": {
   "codemirror_mode": {
    "name": "ipython",
    "version": 3
   },
   "file_extension": ".py",
   "mimetype": "text/x-python",
   "name": "python",
   "nbconvert_exporter": "python",
   "pygments_lexer": "ipython3",
   "version": "3.8.8"
  },
  "toc": {
   "base_numbering": 1,
   "nav_menu": {},
   "number_sections": true,
   "sideBar": true,
   "skip_h1_title": false,
   "title_cell": "Table of Contents",
   "title_sidebar": "Contents",
   "toc_cell": false,
   "toc_position": {},
   "toc_section_display": true,
   "toc_window_display": true
  }
 },
 "nbformat": 4,
 "nbformat_minor": 4
}
