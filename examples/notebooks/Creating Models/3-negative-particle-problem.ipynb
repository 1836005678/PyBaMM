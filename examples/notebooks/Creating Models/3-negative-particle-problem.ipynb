{
 "cells": [
  {
   "cell_type": "markdown",
   "metadata": {},
   "source": [
    "# A step towards the Single Particle Model"
   ]
  },
  {
   "cell_type": "markdown",
   "metadata": {},
   "source": [
    "In the [previous notebook](./3-adding-parameters-to-a-pde-model.ipynb) we saw how to include parameters in a model in pybamm. Now it is time to solve a real-life battery problem! We consider the problem of spherical diffusion in the negative electrode particle within the single particle model. That is,\n",
    "\\begin{equation*}\n",
    "  \\frac{\\partial c}{\\partial t} = \\nabla \\cdot (D \\nabla c),\n",
    "\\end{equation*}\n",
    "with the following boundary and initial conditions:\n",
    "\\begin{equation*}\n",
    "  \\left.\\frac{\\partial c}{\\partial r}\\right\\vert_{r=0} = 0, \\quad \\left.\\frac{\\partial c}{\\partial r}\\right\\vert_{r=R} = -\\frac{j}{FD}, \\quad \\left.c\\right\\vert_{t=0} = c_0,\n",
    "\\end{equation*}\n",
    "where $c$ is the concentration, $r$ the radial coordinate, $t$ time, $R$ the particle radius, $D$ the diffusion coefficient, $j$ the interfacial current density, $F$ Faraday's constant, and $c_0$ the initial concentration. \n",
    "\n",
    "In this example we use the following parameters:\n",
    "\n",
    "| Symbol | Units              | Value                                          |\n",
    "|:-------|:-------------------|:-----------------------------------------------|\n",
    "| $R$      | m                | $10 \\times 10^{-6}$                            |\n",
    "| $D$      | m${^2}$ s$^{-1}$ | $3.9 \\times 10^{-14}$                          |\n",
    "| $j$      | A m$^{-2}$       | $1.4$                                          |\n",
    "| $F$      | C mol$^{-1}$     | $96485$                                        |\n",
    "| $c_0$    | mol m$^{-3}$     | $2.5 \\times 10^{4}$                            |\n",
    "\n"
   ]
  },
  {
   "cell_type": "code",
   "execution_count": 1,
   "metadata": {},
   "outputs": [
    {
     "data": {
      "text/plain": [
       "<Figure size 640x480 with 1 Axes>"
      ]
     },
     "metadata": {},
     "output_type": "display_data"
    }
   ],
   "source": [
    "import pybamm\n",
    "import numpy as np\n",
    "import matplotlib.pyplot as plt\n",
    "\n",
    "\"--------------------------------------------------------------------------------------\"\n",
    "\"Setting up the model\"\n",
    "\n",
    "# 1. Initialise model ------------------------------------------------------------------\n",
    "model = pybamm.BaseModel()\n",
    "\n",
    "# 2. Define parameters and variables ---------------------------------------------------\n",
    "R = pybamm.Parameter(\"Particle radius [m]\")\n",
    "D = pybamm.Parameter(\"Diffusion coefficient [m2.s-1]\")\n",
    "j = pybamm.Parameter(\"Interfacial current density [A.m-2]\")\n",
    "F = pybamm.Parameter(\"Faraday constant [C.mol-1]\")\n",
    "c0 = pybamm.Parameter(\"Initial concentration [mol.m-3]\")\n",
    "\n",
    "c = pybamm.Variable(\"Concentration [mol.m-3]\", domain=\"negative particle\")\n",
    "\n",
    "# 3. State governing equations ---------------------------------------------------------\n",
    "N = -D * pybamm.grad(c)  # flux\n",
    "dcdt = -pybamm.div(N)\n",
    "\n",
    "model.rhs = {c: dcdt}  # add equation to rhs dictionary\n",
    "\n",
    "# 4. State boundary conditions ---------------------------------------------------------\n",
    "lbc = pybamm.Scalar(0)\n",
    "rbc = -j / F / D\n",
    "model.boundary_conditions = {c: {\"left\": (lbc, \"Dirichlet\"), \"right\": (rbc, \"Neumann\")}}\n",
    "\n",
    "# 5. State initial conditions ----------------------------------------------------------\n",
    "model.initial_conditions = {c: c0}\n",
    "\n",
    "# 6. State output variables ------------------------------------------------------------\n",
    "model.variables = {\n",
    "    \"Concentration [mol.m-3]\": c,\n",
    "    \"Surface concentration [mol.m-3]\": pybamm.surf(c),\n",
    "    \"Flux [mol.m-2.s-1]\": N,\n",
    "}\n",
    "\n",
    "\"--------------------------------------------------------------------------------------\"\n",
    "\"Using the model\"\n",
    "\n",
    "# define geometry\n",
    "r = pybamm.SpatialVariable(\n",
    "    \"r\", domain=[\"negative particle\"], coord_sys=\"spherical polar\"\n",
    ")\n",
    "geometry = {\"negative particle\": {\"primary\": {r: {\"min\": pybamm.Scalar(0), \"max\": R}}}}\n",
    "\n",
    "# parameter values\n",
    "param = pybamm.ParameterValues(\n",
    "    {\n",
    "        \"Particle radius [m]\": 10e-6,\n",
    "        \"Diffusion coefficient [m2.s-1]\": 3.9e-14,\n",
    "        \"Interfacial current density [A.m-2]\": 1.4,\n",
    "        \"Faraday constant [C.mol-1]\": 96485,\n",
    "        \"Initial concentration [mol.m-3]\": 2.5e4,\n",
    "    }\n",
    ")\n",
    "\n",
    "\n",
    "# process model and geometry\n",
    "param.process_model(model)\n",
    "param.process_geometry(geometry)\n",
    "\n",
    "# mesh and discretise\n",
    "submesh_types = {\"negative particle\": pybamm.MeshGenerator(pybamm.Uniform1DSubMesh)}\n",
    "var_pts = {r: 20}\n",
    "mesh = pybamm.Mesh(geometry, submesh_types, var_pts)\n",
    "\n",
    "spatial_methods = {\"negative particle\": pybamm.FiniteVolume()}\n",
    "disc = pybamm.Discretisation(mesh, spatial_methods)\n",
    "disc.process_model(model)\n",
    "\n",
    "# solve\n",
    "solver = pybamm.ScipySolver()\n",
    "t = np.linspace(0, 3600, 900)\n",
    "solution = solver.solve(model, t)\n",
    "\n",
    "# post-process, so that the solution can be called at any time t or space r\n",
    "# (using interpolation)\n",
    "c_surf = pybamm.ProcessedVariable(\n",
    "    model.variables[\"Surface concentration [mol.m-3]\"], solution.t, solution.y, mesh\n",
    ")\n",
    "\n",
    "# plot\n",
    "plt.plot(solution.t, c_surf(solution.t))\n",
    "plt.xlabel(\"Time [s]\")\n",
    "plt.ylabel(\"Surface concentration [mol.m-3]\")\n",
    "plt.show()"
   ]
  },
  {
   "cell_type": "markdown",
   "metadata": {},
   "source": [
    "In the [next notebook](/5-a-simple-SEI-model.ipynb) we consider a simple model for SEI growth, and show how to correctly pose the model in non-dimensional form and then create and solve it using pybamm."
   ]
  },
  {
   "cell_type": "code",
   "execution_count": null,
   "metadata": {},
   "outputs": [],
   "source": []
  }
 ],
 "metadata": {
  "kernelspec": {
   "display_name": "Python 3",
   "language": "python",
   "name": "python3"
  },
  "language_info": {
   "codemirror_mode": {
    "name": "ipython",
    "version": 3
   },
   "file_extension": ".py",
   "mimetype": "text/x-python",
   "name": "python",
   "nbconvert_exporter": "python",
   "pygments_lexer": "ipython3",
   "version": "3.6.9"
  }
 },
 "nbformat": 4,
 "nbformat_minor": 2
}
