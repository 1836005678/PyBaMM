{
 "cells": [
  {
   "cell_type": "markdown",
   "metadata": {},
   "source": [
    "# Comparison of PyBaMM and COMSOL Discharge Curves"
   ]
  },
  {
   "cell_type": "markdown",
   "metadata": {},
   "source": [
    "In this notebook we compare the discharge curves obatined by solving the DFN model both in PyBaMM and COMSOL. Results are presented for a range of C-rates, and we see an excellent agreement between the two implementations. For more information on the DFN model, see the [DFN notebook](https://github.com/pybamm-team/PyBaMM/blob/master/examples/notebooks/models/DFN.ipynb)."
   ]
  },
  {
   "cell_type": "markdown",
   "metadata": {},
   "source": [
    "First we need to import pybamm, and then change our working directory to the root of the pybamm folder."
   ]
  },
  {
   "cell_type": "code",
   "execution_count": 8,
   "metadata": {},
   "outputs": [],
   "source": [
    "import pybamm\n",
    "import numpy as np\n",
    "import os\n",
    "import pandas as pd\n",
    "import matplotlib.pyplot as plt\n",
    "os.chdir(pybamm.__path__[0] + \"/..\")"
   ]
  },
  {
   "cell_type": "markdown",
   "metadata": {},
   "source": [
    "We then create a dictionary of the C-rates we would like to solve for and compare. Note that the repository currently only contains COMSOL results for the C-rates listed below. "
   ]
  },
  {
   "cell_type": "code",
   "execution_count": 9,
   "metadata": {},
   "outputs": [],
   "source": [
    "C_rates = {\"01\": 0.1, \"05\": 0.5, \"1\": 1, \"2\": 2, \"3\": 3}"
   ]
  },
  {
   "cell_type": "markdown",
   "metadata": {},
   "source": [
    "We get the DFN model equations, geometry, and default parameters. Before processign the model, we adjust the electrode height and depth to be 1 m, to match the one-dimensional model we solved in COMSOL. The model is then processed using the defualt geometry and updated paramters. Finally, we create a mesh and discretise the model. "
   ]
  },
  {
   "cell_type": "code",
   "execution_count": 10,
   "metadata": {},
   "outputs": [
    {
     "data": {
      "text/plain": [
       "<pybamm.models.lithium_ion.dfn.DFN at 0x7f546895ad68>"
      ]
     },
     "execution_count": 10,
     "metadata": {},
     "output_type": "execute_result"
    }
   ],
   "source": [
    "# load model and geometry\n",
    "model = pybamm.lithium_ion.DFN()\n",
    "geometry = model.default_geometry\n",
    "\n",
    "# load parameters and process model and geometry\n",
    "param = model.default_parameter_values\n",
    "param[\"Electrode depth [m]\"] = 1\n",
    "param[\"Electrode height [m]\"] = 1\n",
    "param.process_model(model)\n",
    "param.process_geometry(geometry)\n",
    "\n",
    "# create mesh\n",
    "var = pybamm.standard_spatial_vars\n",
    "var_pts = {var.x_n: 31, var.x_s: 11, var.x_p: 31, var.r_n: 11, var.r_p: 11}\n",
    "mesh = pybamm.Mesh(geometry, model.default_submesh_types, var_pts)\n",
    "\n",
    "# discretise model\n",
    "disc = pybamm.Discretisation(mesh, model.default_spatial_methods)\n",
    "disc.process_model(model)"
   ]
  },
  {
   "cell_type": "markdown",
   "metadata": {},
   "source": [
    "We create the figure by looping over the dictionary of C-rates. In each step of the loop we load the COMSOL results from a .csv file and solve the DFN model in pybamm. The output variables are then processed, allowing us to plot the discharges curve computed using pybamm and COMSOL, and their absolute difference.  "
   ]
  },
  {
   "cell_type": "code",
   "execution_count": null,
   "metadata": {},
   "outputs": [],
   "source": [
    "# create figure\n",
    "fig, ax = plt.subplots(figsize=(15, 8))\n",
    "plt.tight_layout()\n",
    "plt.subplots_adjust(left=-0.1)\n",
    "discharge_curve = plt.subplot(211)\n",
    "plt.xlim([0, 26])\n",
    "plt.ylim([3.2, 3.9])\n",
    "plt.xlabel(r\"Discharge Capacity (Ah)\")\n",
    "plt.ylabel(\"Voltage (V)\")\n",
    "plt.title(r\"Comsol $\\cdots$ PyBaMM $-$\")\n",
    "voltage_difference_plot = plt.subplot(212)\n",
    "plt.xlim([0, 26])\n",
    "plt.yscale(\"log\")\n",
    "plt.grid(True)\n",
    "plt.xlabel(r\"Discharge Capacity (Ah)\")\n",
    "plt.ylabel(r\"$\\vert V - V_{comsol} \\vert$\")\n",
    "\n",
    "# loop over C_rates dict to create plot\n",
    "for key, C_rate in C_rates.items():\n",
    "\n",
    "    # load the comsol voltage data\n",
    "    comsol = pd.read_csv(\n",
    "        \"input/comsol_results/{}C/Voltage.csv\".format(key), sep=\",\", header=None\n",
    "    )\n",
    "    comsol_time = comsol[0].values\n",
    "    comsol_voltage = comsol[1].values\n",
    "\n",
    "    # update current density\n",
    "    param[\"Typical current [A]\"] = 24 * C_rate\n",
    "    param.update_model(model, disc)\n",
    "\n",
    "    # discharge timescale\n",
    "    tau = param.process_symbol(\n",
    "        pybamm.standard_parameters_lithium_ion.tau_discharge\n",
    "    ).evaluate(0, 0)\n",
    "\n",
    "    # solve model at comsol times\n",
    "    solver = model.default_solver\n",
    "    t = comsol_time / tau\n",
    "    solver.solve(model, t)\n",
    "\n",
    "    # discharge capacity\n",
    "    discharge_capacity = pybamm.ProcessedVariable(\n",
    "        model.variables[\"Discharge capacity [A.h]\"], solver.t, solver.y, mesh=mesh\n",
    "    )\n",
    "    discharge_capacity_sol = discharge_capacity(solver.t)\n",
    "    comsol_discharge_capacity = comsol_time * param[\"Typical current [A]\"] / 3600\n",
    "\n",
    "    # extract the voltage\n",
    "    voltage = pybamm.ProcessedVariable(\n",
    "        model.variables[\"Terminal voltage [V]\"], solver.t, solver.y, mesh=mesh\n",
    "    )\n",
    "    voltage_sol = voltage(solver.t)\n",
    "\n",
    "    # calculate the difference between the two solution methods\n",
    "    end_index = min(len(solver.t), len(comsol_time))\n",
    "    voltage_difference = np.abs(voltage_sol[0:end_index] - comsol_voltage[0:end_index])\n",
    "\n",
    "    # plot discharge curves and absolute voltage_difference\n",
    "    color = next(ax._get_lines.prop_cycler)[\"color\"]\n",
    "    discharge_curve.plot(\n",
    "        comsol_discharge_capacity, comsol_voltage, color=color, linestyle=\":\"\n",
    "    )\n",
    "    discharge_curve.plot(\n",
    "        discharge_capacity_sol,\n",
    "        voltage_sol,\n",
    "        color=color,\n",
    "        linestyle=\"-\",\n",
    "        label=\"{} C\".format(C_rate),\n",
    "    )\n",
    "    voltage_difference_plot.plot(\n",
    "        discharge_capacity_sol[0:end_index], voltage_difference, color=color\n",
    "    )\n",
    "\n",
    "discharge_curve.legend(loc=\"best\")\n",
    "plt.subplots_adjust(\n",
    "    top=0.92, bottom=0.08, left=0.10, right=0.95, hspace=0.25, wspace=0.35\n",
    ")\n",
    "plt.show()"
   ]
  },
  {
   "cell_type": "code",
   "execution_count": null,
   "metadata": {},
   "outputs": [],
   "source": []
  }
 ],
 "metadata": {
  "kernelspec": {
   "display_name": "Python 3",
   "language": "python",
   "name": "python3"
  },
  "language_info": {
   "codemirror_mode": {
    "name": "ipython",
    "version": 3
   },
   "file_extension": ".py",
   "mimetype": "text/x-python",
   "name": "python",
   "nbconvert_exporter": "python",
   "pygments_lexer": "ipython3",
   "version": "3.6.7"
  }
 },
 "nbformat": 4,
 "nbformat_minor": 2
}
