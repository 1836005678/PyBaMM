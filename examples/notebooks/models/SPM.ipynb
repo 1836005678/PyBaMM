{
 "cells": [
  {
   "cell_type": "markdown",
   "metadata": {},
   "source": [
    "# Single Particle Model (SPM) "
   ]
  },
  {
   "cell_type": "markdown",
   "metadata": {},
   "source": [
    "## Model Equations"
   ]
  },
  {
   "cell_type": "markdown",
   "metadata": {},
   "source": [
    "The SPM consists of two spherically symmetric diffusion equations: one within a representative negative particle ($k=\\text{n}$) and one within a representative positive particle ($k=\\text{p}$). In the centre of the particle the classical no-flux condition is imposed. Since the SPM assumes that all particles in an electrode behave in exactly the same way, the flux on the surface of a particle is simply the current divided by the thickness of the electrode. We shall use $r_k\\in[0,1]$ for the radial coordinate of the particle in electrode $k$. The concentration of lithium in electrode $k$ is denoted $c_k$ and the current is denoted by $\\mathcal{I}$. All parameters in the model stated here are dimensionless and are given in terms of dimensional parameters at the end of this notebook.The model equations for the SPM are then: \n",
    "$$\n",
    "\\frac{\\partial c_k}{\\partial t} = \\gamma_k \\frac{\\partial}{\\partial r_k}\\left( r_k^2 \\frac{\\partial c_k}{\\partial r_k} \\right) \\\\ \n",
    "\\frac{\\partial c_k}{\\partial r_k}\\bigg|_{r_k=0} = 0, \\quad -\\beta_k \\hat{C}_k \\gamma_k \\frac{\\partial c_k}{\\partial r_k}\\bigg|_{r_k=1} = \\begin{cases} \n",
    "    \\frac{\\mathcal{I}}{L_n}, \\quad k=\\text{n}, \\\\ \n",
    "    -\\frac{\\mathcal{I}}{L_p}, \\quad k=\\text{p},\n",
    "\\end{cases} ,\n",
    "$$ \n",
    "for $k\\in\\{\\text{n, p}\\}$.\n",
    "\n",
    "### Voltage Expression\n",
    "The terminal voltage is obtained from the expression: \n",
    "$$\n",
    "V = U_p(c_p)\\big|_{r_p=1}-U_n(c_n)\\big|_{r_n=1}-\\frac{2}{\\Lambda}\\sinh^{-1}\\left(\\frac{\\mathcal{I}}{g_p L_p} \\right)  -\\frac{2}{\\Lambda}\\sinh^{-1}\\left(\\frac{\\mathcal{I}}{g_n L_n} \\right)\n",
    "$$\n",
    "with the exchange current densities given by\n",
    "$$\n",
    "g_k = m_k \\hat{C}_k (c_k)^{1/2} (1-c_k)^{1/2}, \\quad \\text{for } k\\in\\{\\text{n, p}\\}.\n",
    "$$"
   ]
  },
  {
   "cell_type": "markdown",
   "metadata": {},
   "source": [
    "## Example solving SPM using PyBaMM\n",
    "\n",
    "Below we show how to solve the SPM model, using the default geometry, mesh, paramters, discretisation and solver provided with PyBaMM.\n",
    "\n",
    "First we need to import pybamm, and then change our working directory to the root of the pybamm folder. "
   ]
  },
  {
   "cell_type": "code",
   "execution_count": 1,
   "metadata": {},
   "outputs": [],
   "source": [
    "import pybamm\n",
    "import numpy as np\n",
    "import os\n",
    "import matplotlib.pyplot as plt\n",
    "os.chdir(pybamm.__path__[0]+'/..')"
   ]
  },
  {
   "cell_type": "markdown",
   "metadata": {},
   "source": [
    "We then get the SPM model equations:"
   ]
  },
  {
   "cell_type": "code",
   "execution_count": 2,
   "metadata": {},
   "outputs": [],
   "source": [
    "model = pybamm.lithium_ion.SPM()"
   ]
  },
  {
   "cell_type": "markdown",
   "metadata": {},
   "source": [
    "The model object is a subtype of [`pybamm.BaseModel`](https://pybamm.readthedocs.io/en/latest/source/models/base_model.html), and contains all the equations that define this particular model. For example, the `rhs` dict contained in `model` has a dictionary mapping variables such as $c_n$ to the equation representing its rate of change with time (i.e. $\\frac{c_n}{dt}$). We can see this explicitly be visualising this entry in the `rhs` dict:"
   ]
  },
  {
   "cell_type": "code",
   "execution_count": 3,
   "metadata": {},
   "outputs": [
    {
     "name": "stdout",
     "output_type": "stream",
     "text": [
      "rhs equation for variable ' Negative particle concentration ' is:\n"
     ]
    }
   ],
   "source": [
    "variable = next(iter(model.rhs.keys()))\n",
    "equation = next(iter(model.rhs.values()))\n",
    "print('rhs equation for variable \\'',variable,'\\' is:')\n",
    "path = 'examples/notebooks/models/'\n",
    "equation.visualise(path+'spm1.png')"
   ]
  },
  {
   "cell_type": "markdown",
   "metadata": {},
   "source": [
    "![](spm1.png)"
   ]
  },
  {
   "cell_type": "markdown",
   "metadata": {},
   "source": [
    "We need a geometry to define our model equations over. In pybamm this is represented by the [`pybamm.Geometry`](https://pybamm.readthedocs.io/en/latest/source/geometry/geometry.html) class. In this case we use the default geometry object defined by the model"
   ]
  },
  {
   "cell_type": "code",
   "execution_count": 4,
   "metadata": {},
   "outputs": [],
   "source": [
    "geometry = model.default_geometry"
   ]
  },
  {
   "cell_type": "markdown",
   "metadata": {},
   "source": [
    "This geometry object defines a number of geometry domains, each with its own name, spatial variables and min/max limits (the latter are represented as equations similar to the rhs equation shown above). For instance, the SPM model has the following domains:"
   ]
  },
  {
   "cell_type": "code",
   "execution_count": 5,
   "metadata": {},
   "outputs": [
    {
     "name": "stdout",
     "output_type": "stream",
     "text": [
      "SPM domains:\n",
      "1. negative electrode with variables:\n",
      "  -( 0.0 ) <= x_n <= ( Negative electrode width / Negative electrode width + Separator width + Positive electrode width )\n",
      "2. separator with variables:\n",
      "  -( Negative electrode width / Negative electrode width + Separator width + Positive electrode width ) <= x_s <= ( Negative electrode width / Negative electrode width + Separator width + Positive electrode width + Separator width / Negative electrode width + Separator width + Positive electrode width )\n",
      "3. positive electrode with variables:\n",
      "  -( Negative electrode width / Negative electrode width + Separator width + Positive electrode width + Separator width / Negative electrode width + Separator width + Positive electrode width ) <= x_p <= ( 1.0 )\n",
      "4. negative particle with variables:\n",
      "  -( 0.0 ) <= r_n <= ( 1.0 )\n",
      "5. positive particle with variables:\n",
      "  -( 0.0 ) <= r_p <= ( 1.0 )\n"
     ]
    }
   ],
   "source": [
    "print('SPM domains:')\n",
    "for i, (k, v) in enumerate(geometry.items()):\n",
    "    print(str(i+1)+'.',k,'with variables:')\n",
    "    for var, rng in v['primary'].items():\n",
    "        print('  -(',rng['min'],') <=',var,'<= (',rng['max'],')')"
   ]
  },
  {
   "cell_type": "markdown",
   "metadata": {},
   "source": [
    "Both the model equations and the geometry are defined by a set of parameters, such as $\\gamma_p$ or $L_p$. We can substitute these symbolic parameters in the model with values by using the [`pybamm.ParameterValues`](https://pybamm.readthedocs.io/en/latest/source/parameters/parameter_values.html) class, which takes either a python dictionary or CSV file with the mapping between parameter names and values. Rather than create our own instance of `pybamm.ParameterValues`, we will use the default parameter set included in the model"
   ]
  },
  {
   "cell_type": "code",
   "execution_count": 6,
   "metadata": {},
   "outputs": [],
   "source": [
    "param = model.default_parameter_values"
   ]
  },
  {
   "cell_type": "markdown",
   "metadata": {},
   "source": [
    "We can then apply this parameter set to the model and geometry"
   ]
  },
  {
   "cell_type": "code",
   "execution_count": 7,
   "metadata": {},
   "outputs": [],
   "source": [
    "param.process_model(model)\n",
    "param.process_geometry(geometry)"
   ]
  },
  {
   "cell_type": "markdown",
   "metadata": {},
   "source": [
    "The next step is to mesh the input geometry. We can do this using the [`pybamm.Mesh`](https://pybamm.readthedocs.io/en/latest/source/meshes/meshes.html) class. This class takes in the geometry of the problem, and also two dictionaries containing the type of mesh to use within each domain of the geometry (i.e. within the positive or negative electrode domains), and the number of mesh points. \n",
    "\n",
    "The default mesh types and the default number of points to use in each variable for the SPH model are:"
   ]
  },
  {
   "cell_type": "code",
   "execution_count": 8,
   "metadata": {},
   "outputs": [
    {
     "name": "stdout",
     "output_type": "stream",
     "text": [
      "negative electrode is of type Uniform1DSubMesh\n",
      "separator is of type Uniform1DSubMesh\n",
      "positive electrode is of type Uniform1DSubMesh\n",
      "negative particle is of type Uniform1DSubMesh\n",
      "positive particle is of type Uniform1DSubMesh\n",
      "x_n has 40 mesh points\n",
      "x_s has 25 mesh points\n",
      "x_p has 35 mesh points\n",
      "r_n has 10 mesh points\n",
      "r_p has 10 mesh points\n"
     ]
    }
   ],
   "source": [
    "for k, t in model.default_submesh_types.items():\n",
    "    print(k,'is of type',t.__name__)\n",
    "for var, npts in model.default_var_pts.items():\n",
    "    print(var,'has',npts,'mesh points')"
   ]
  },
  {
   "cell_type": "markdown",
   "metadata": {},
   "source": [
    "With these defaults, we can then create our mesh of the given geometry:"
   ]
  },
  {
   "cell_type": "code",
   "execution_count": 9,
   "metadata": {},
   "outputs": [],
   "source": [
    "mesh = pybamm.Mesh(geometry, model.default_submesh_types, model.default_var_pts)"
   ]
  },
  {
   "cell_type": "markdown",
   "metadata": {},
   "source": [
    "The next step is to discretise the model equations over this mesh. We do this using the [`pybamm.Discretisation`](https://pybamm.readthedocs.io/en/latest/source/discretisations/discretisation.html) class, which takes both the mesh we have already created, and a dictionary of spatial methods to use for each geometry domain. For the case of the SPM model, we use the following defaults for the spatial discretisation methods:"
   ]
  },
  {
   "cell_type": "code",
   "execution_count": 10,
   "metadata": {},
   "outputs": [
    {
     "name": "stdout",
     "output_type": "stream",
     "text": [
      "macroscale is discretised using FiniteVolume method\n",
      "negative particle is discretised using FiniteVolume method\n",
      "positive particle is discretised using FiniteVolume method\n"
     ]
    }
   ],
   "source": [
    "for k, method in model.default_spatial_methods.items():\n",
    "    print(k,'is discretised using',method.__name__,'method')"
   ]
  },
  {
   "cell_type": "markdown",
   "metadata": {},
   "source": [
    "We then create the `pybamm.Discretisation` object, and use this to discretise the model equations"
   ]
  },
  {
   "cell_type": "code",
   "execution_count": 11,
   "metadata": {},
   "outputs": [],
   "source": [
    "disc = pybamm.Discretisation(mesh, model.default_spatial_methods)\n",
    "disc.process_model(model)"
   ]
  },
  {
   "cell_type": "markdown",
   "metadata": {},
   "source": [
    "After this stage, all the equations in `model` have been discretised into purely linear algebra expressions that are ready to be evaluated within a time-stepping loop of a given solver. Once again we use the default ODE solver for this model"
   ]
  },
  {
   "cell_type": "code",
   "execution_count": 12,
   "metadata": {},
   "outputs": [
    {
     "name": "stdout",
     "output_type": "stream",
     "text": [
      "Solving using ScikitsOdeSolver solver...\n",
      "Finished.\n"
     ]
    }
   ],
   "source": [
    "# Solve the model at the given time points\n",
    "solver = model.default_solver\n",
    "n = 100\n",
    "t_eval = np.linspace(0, 1, n)\n",
    "print('Solving using',type(solver).__name__,'solver...')\n",
    "solver.solve(model, t_eval)\n",
    "print('Finished.')"
   ]
  },
  {
   "cell_type": "markdown",
   "metadata": {},
   "source": [
    "Each model in pybamm has a list of relevent variables defined in the model, for use in visualising the model solution or for comparison with other models. The SPM model defines the following variables:"
   ]
  },
  {
   "cell_type": "code",
   "execution_count": 13,
   "metadata": {},
   "outputs": [
    {
     "name": "stdout",
     "output_type": "stream",
     "text": [
      "SPM model variables:\n",
      "\t- Negative particle concentration\n",
      "\t- Negative particle surface concentration\n",
      "\t- Negative particle flux\n",
      "\t- Positive particle concentration\n",
      "\t- Positive particle surface concentration\n",
      "\t- Positive particle flux\n",
      "\t- current\n",
      "\t- Negative interfacial current density\n",
      "\t- Positive interfacial current density\n",
      "\t- Negative electrode open circuit potential\n",
      "\t- Positive electrode open circuit potential\n",
      "\t- Open circuit voltage\n",
      "\t- Negative reaction overpotential\n",
      "\t- Positive reaction overpotential\n",
      "\t- Reaction overpotential\n",
      "\t- Terminal voltage\n",
      "\t- Electrolyte Potential\n",
      "\t- Electrolyte concentration\n"
     ]
    }
   ],
   "source": [
    "print('SPM model variables:')\n",
    "for v in model.variables.keys():\n",
    "    print('\\t-',v)"
   ]
  },
  {
   "cell_type": "markdown",
   "metadata": {},
   "source": [
    "To help visualise the results, pybamm provides the `pybamm.ProcessedVariable` class, which takes the output of a solver and a variable, and allows the user to evaluate the value of that variable at any given time or $x$ value. For example, we can create a `pybamm.ProcessedVariable` using the SPM voltage variable, and plot the voltage versus time, along with the surface particle concentration."
   ]
  },
  {
   "cell_type": "code",
   "execution_count": 14,
   "metadata": {},
   "outputs": [],
   "source": [
    "voltage = pybamm.ProcessedVariable(model.variables['Terminal voltage'], solver.t, solver.y, mesh=mesh)\n",
    "spc_n = pybamm.ProcessedVariable(\n",
    "    model.variables['Negative particle surface concentration'], solver.t, solver.y, mesh=mesh\n",
    ")\n",
    "spc_p = pybamm.ProcessedVariable(\n",
    "    model.variables['Positive particle surface concentration'], solver.t, solver.y, mesh=mesh\n",
    ")"
   ]
  },
  {
   "cell_type": "markdown",
   "metadata": {},
   "source": [
    "One we have these variables in hand, we can begin generating plots using a library such as Matplotlib. Below we plot the terminal voltage and surface particle concentrations versus time"
   ]
  },
  {
   "cell_type": "code",
   "execution_count": 17,
   "metadata": {},
   "outputs": [
    {
     "data": {
      "image/png": "[encoded data removed]",
      "text/plain": [
       "<Figure size 936x288 with 3 Axes>"
      ]
     },
     "metadata": {
      "needs_background": "light"
     },
     "output_type": "display_data"
    }
   ],
   "source": [
    "%matplotlib inline\n",
    "t = np.linspace(0,1,100)\n",
    "f, (ax1, ax2, ax3) = plt.subplots(1, 3, figsize=(13,4))\n",
    "\n",
    "ax1.plot(t, voltage(t=t).reshape(-1))\n",
    "ax1.set_xlabel(r'$t$')\n",
    "ax1.set_ylabel('Terminal voltage')\n",
    "\n",
    "ax2.plot(t, spc_n(t=t).reshape(-1))\n",
    "ax2.set_xlabel(r'$t$')\n",
    "ax2.set_ylabel('Negative particle surface concentration')\n",
    "\n",
    "ax3.plot(t, spc_p(t=t).reshape(-1))\n",
    "ax3.set_xlabel(r'$t$')\n",
    "ax3.set_ylabel('Positive particle surface concentration')\n",
    "\n",
    "plt.tight_layout()\n",
    "plt.show()"
   ]
  },
  {
   "cell_type": "markdown",
   "metadata": {},
   "source": [
    "Some of the output variables are defined over space as well as time. Once option to visualise these variables is to use the `interact` slider widget. Below we plot the negative/positive particle concentration over $r$, using a slider to change the current time point"
   ]
  },
  {
   "cell_type": "code",
   "execution_count": 16,
   "metadata": {},
   "outputs": [
    {
     "data": {
      "application/vnd.jupyter.widget-view+json": {
       "model_id": "5717916411574754848e1ecd40995ad5",
       "version_major": 2,
       "version_minor": 0
      },
      "text/plain": [
       "interactive(children=(FloatSlider(value=0.0, description='t', max=1.0), Output()), _dom_classes=('widget-inter…"
      ]
     },
     "metadata": {},
     "output_type": "display_data"
    }
   ],
   "source": [
    "c_n = pybamm.ProcessedVariable(model.variables['Negative particle concentration'], solver.t, solver.y, mesh=mesh)\n",
    "c_p = pybamm.ProcessedVariable(model.variables['Positive particle concentration'], solver.t, solver.y, mesh=mesh)\n",
    "r = np.linspace(0,1,100)\n",
    "\n",
    "def plot_concentrations(t):\n",
    "    f, (ax1, ax2) = plt.subplots(1, 2 ,figsize=(10,5))\n",
    "    plot_c_n, = ax1.plot(r, c_n(x=r,t=t))\n",
    "    plot_c_p, = ax2.plot(r, c_p(x=r,t=t))\n",
    "    ax1.set_ylabel('Negative particle concentration')\n",
    "    ax2.set_ylabel('Positive particle concentration')\n",
    "    ax1.set_xlabel(r'$r_n$')\n",
    "    ax2.set_xlabel(r'$r_p$')\n",
    "    ax1.set_ylim(0, 1)\n",
    "    ax2.set_ylim(0, 1)\n",
    "    plt.show()\n",
    "    \n",
    "import ipywidgets as widgets\n",
    "widgets.interact(plot_concentrations, t=widgets.FloatSlider(min=0,max=1,step=0.1,value=0));\n"
   ]
  }
 ],
 "metadata": {
  "kernelspec": {
   "display_name": "Python 3",
   "language": "python",
   "name": "python3"
  },
  "language_info": {
   "codemirror_mode": {
    "name": "ipython",
    "version": 3
   },
   "file_extension": ".py",
   "mimetype": "text/x-python",
   "name": "python",
   "nbconvert_exporter": "python",
   "pygments_lexer": "ipython3",
   "version": "3.6.7"
  }
 },
 "nbformat": 4,
 "nbformat_minor": 2
}
