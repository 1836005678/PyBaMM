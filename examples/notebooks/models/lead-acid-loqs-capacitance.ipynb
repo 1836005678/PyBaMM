{
 "cells": [
  {
   "cell_type": "code",
   "execution_count": 1,
   "metadata": {},
   "outputs": [],
   "source": [
    "%matplotlib inline\n",
    "import pybamm\n",
    "import tests\n",
    "import numpy as np\n",
    "import os\n",
    "import matplotlib.pyplot as plt\n",
    "from pprint import pprint\n",
    "os.chdir(pybamm.__path__[0]+'/..')"
   ]
  },
  {
   "cell_type": "code",
   "execution_count": 2,
   "metadata": {},
   "outputs": [],
   "source": [
    "model = pybamm.lead_acid.LOQSCapacitance()\n",
    "modeltest = tests.StandardModelTest(model)\n",
    "modeltest.test_all()"
   ]
  },
  {
   "cell_type": "code",
   "execution_count": 3,
   "metadata": {},
   "outputs": [],
   "source": [
    "t_sol, y_sol = modeltest.solver.t, modeltest.solver.y\n",
    "\n",
    "# Post-process variables\n",
    "conc = pybamm.ProcessedVariable(\n",
    "    model.variables[\"Electrolyte concentration\"],\n",
    "    t_sol,\n",
    "    y_sol,\n",
    "    mesh=modeltest.disc.mesh,\n",
    ")"
   ]
  },
  {
   "cell_type": "code",
   "execution_count": 4,
   "metadata": {},
   "outputs": [
    {
     "data": {
      "text/plain": [
       "array([1.        , 0.98776411, 0.97547574, 0.96313465, 0.95074049,\n",
       "       0.93829292, 0.92579159, 0.91323615, 0.90062625, 0.88796153,\n",
       "       0.87524164, 0.86246622, 0.84963489, 0.8367473 , 0.82380308,\n",
       "       0.81080184, 0.79774322, 0.78462683, 0.77145229, 0.75821921,\n",
       "       0.7449272 , 0.73157587, 0.71816482, 0.70469365, 0.69116195,\n",
       "       0.67756932, 0.66391534, 0.6501996 , 0.63642169, 0.62258117,\n",
       "       0.60867762, 0.59471061, 0.58067971, 0.56658448, 0.55242447,\n",
       "       0.53819925, 0.52390835, 0.50955134, 0.49512774, 0.4806371 ,\n",
       "       0.46607896, 0.45145283, 0.43675826, 0.42199476, 0.40716185,\n",
       "       0.39225905, 0.37728587, 0.36224181, 0.34712638, 0.33193909,\n",
       "       0.31667942, 0.30134689, 0.28594097, 0.27046118, 0.254907  ,\n",
       "       0.23927793, 0.22357347, 0.20779313, 0.19193643, 0.17600292,\n",
       "       0.15999216, 0.14390376, 0.12773743, 0.11149296, 0.09517037,\n",
       "       0.07877002, 0.06229298, 0.0457418 , 0.02912248, 0.01244641])"
      ]
     },
     "execution_count": 4,
     "metadata": {},
     "output_type": "execute_result"
    }
   ],
   "source": [
    "conc(t_sol, 0)"
   ]
  },
  {
   "cell_type": "code",
   "execution_count": 5,
   "metadata": {},
   "outputs": [],
   "source": [
    "voltage = pybamm.ProcessedVariable(\n",
    "    model.variables[\"Terminal voltage [V]\"], t_sol, y_sol\n",
    ")"
   ]
  },
  {
   "cell_type": "code",
   "execution_count": 7,
   "metadata": {},
   "outputs": [
    {
     "data": {
      "text/plain": [
       "array([[12.99060003, 12.94781782, 12.92564801, 12.90344663, 12.88121199,\n",
       "        12.85894233, 12.83663583, 12.81429058, 12.7919046 , 12.76947581,\n",
       "        12.74700206, 12.72448107, 12.70191045, 12.6792877 , 12.6566102 ,\n",
       "        12.63387517, 12.61107969, 12.58822069, 12.56529489, 12.54229884,\n",
       "        12.51922888, 12.49608112, 12.4728514 , 12.44953529, 12.42612808,\n",
       "        12.4026247 , 12.37901971, 12.35530729, 12.33148114, 12.30753446,\n",
       "        12.2834599 , 12.25924948, 12.23489452, 12.21038555, 12.1857122 ,\n",
       "        12.16086312, 12.13582578, 12.11058639, 12.08512965, 12.05943855,\n",
       "        12.03349411, 12.00727508, 11.98075756, 11.95391452, 11.92671532,\n",
       "        11.89912498, 11.8711034 , 11.84260435, 11.8135742 , 11.78395034,\n",
       "        11.75365916, 11.72261352, 11.69070934, 11.6578213 , 11.623797  ,\n",
       "        11.58844913, 11.55154483, 11.51279071, 11.47181173, 11.42812033,\n",
       "        11.38107026, 11.32978517, 11.27304371, 11.20908523, 11.13526042,\n",
       "        11.04735177, 10.9381082 , 10.79361209, 10.58229277, 10.21214024]])"
      ]
     },
     "execution_count": 7,
     "metadata": {},
     "output_type": "execute_result"
    }
   ],
   "source": [
    "voltage(t_sol) * 6"
   ]
  },
  {
   "cell_type": "code",
   "execution_count": null,
   "metadata": {},
   "outputs": [],
   "source": [
    "model = pybamm.lead_acid.LOQSCapacitance()\n",
    "param = model.default_parameter_values\n",
    "param.update({\"Typical current density\": 0.0001})\n",
    "modeltest = tests.StandardModelTest(model, parameter_values=param)\n",
    "modeltest.test_all()"
   ]
  },
  {
   "cell_type": "code",
   "execution_count": null,
   "metadata": {},
   "outputs": [],
   "source": [
    "t_sol, y_sol = modeltest.solver.t, modeltest.solver.y\n",
    "voltage = pybamm.ProcessedVariable(\n",
    "    model.variables[\"Terminal voltage [V]\"], t_sol, y_sol\n",
    ")\n",
    "voltage(t_sol) * 6"
   ]
  },
  {
   "cell_type": "code",
   "execution_count": 16,
   "metadata": {},
   "outputs": [
    {
     "data": {
      "text/plain": [
       "array([0.        , 0.01010101, 0.02020202, 0.03030303, 0.04040404,\n",
       "       0.05050505, 0.06060606, 0.07070707, 0.08080808, 0.09090909,\n",
       "       0.1010101 , 0.11111111, 0.12121212, 0.13131313, 0.14141414,\n",
       "       0.15151515, 0.16161616, 0.17171717, 0.18181818, 0.19191919,\n",
       "       0.2020202 , 0.21212121, 0.22222222, 0.23232323, 0.24242424,\n",
       "       0.25252525, 0.26262626, 0.27272727, 0.28282828, 0.29292929,\n",
       "       0.3030303 , 0.31313131, 0.32323232, 0.33333333, 0.34343434,\n",
       "       0.35353535, 0.36363636, 0.37373737, 0.38383838, 0.39393939,\n",
       "       0.4040404 , 0.41414141, 0.42424242, 0.43434343, 0.44444444,\n",
       "       0.45454545, 0.46464646, 0.47474747, 0.48484848, 0.49494949,\n",
       "       0.50505051, 0.51515152, 0.52525253, 0.53535354, 0.54545455,\n",
       "       0.55555556, 0.56565657, 0.57575758, 0.58585859, 0.5959596 ,\n",
       "       0.60606061, 0.61616162, 0.62626263, 0.63636364, 0.64646465,\n",
       "       0.65656566, 0.66666667, 0.67676768, 0.68686869, 0.6969697 ])"
      ]
     },
     "execution_count": 16,
     "metadata": {},
     "output_type": "execute_result"
    }
   ],
   "source": [
    "modeltest.solver.t"
   ]
  },
  {
   "cell_type": "code",
   "execution_count": null,
   "metadata": {},
   "outputs": [],
   "source": []
  }
 ],
 "metadata": {
  "kernelspec": {
   "display_name": "Python 3",
   "language": "python",
   "name": "python3"
  },
  "language_info": {
   "codemirror_mode": {
    "name": "ipython",
    "version": 3
   },
   "file_extension": ".py",
   "mimetype": "text/x-python",
   "name": "python",
   "nbconvert_exporter": "python",
   "pygments_lexer": "ipython3",
   "version": "3.6.7"
  }
 },
 "nbformat": 4,
 "nbformat_minor": 2
}
