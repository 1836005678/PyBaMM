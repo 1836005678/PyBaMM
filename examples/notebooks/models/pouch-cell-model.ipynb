{
 "cells": [
  {
   "cell_type": "markdown",
   "metadata": {},
   "source": [
    "# Pouch cell model"
   ]
  },
  {
   "cell_type": "markdown",
   "metadata": {},
   "source": [
    "In this notebook we compare the solutions of two reduced-order models of a lithium-ion pouch cell with the full solution obtained using COMSOL. This example is based on the results in [[1]](#ref). The code used to produce the results in [[1]](#ref) can be found [here](https://github.com/rtimms/asymptotic-pouch-cell).\n",
    "\n",
    "The full model is based on the Doyle-Fuller-Newman model [[2]](#ref2) and, in the interest of simplicity, considers a one-dimensional current collector (i.e. variation in one of the current collector dimensions is ignored), resulting in a 2D macroscopic model.\n",
    "\n",
    "The first of the reduced order models, which is applicable in the limit of large conductivity in the current collectors, solves a one-dimensional problem in the current collectors coupled to a one-dimensional DFN model describing the through-cell electrochemistry at each point. We refer to this as a 1+1D model, though since the DFN is already a pseudo-two-dimensional model, perhaps it is more properly a 1+1+1D model.\n",
    "\n",
    "The second reduced order model, which is applicable in the limit of very large conductivity in the current collectors, solves a single (averaged) one-dimensional DFN model for the through-cell behaviour and an uncoupled problem for the distribution of potential in the current collectors (from which the resistance and heat source can be calculated). We refer to this model as the DFNCC, where the \"CC\" indicates the additional (uncoupled) current collector problem.\n",
    "\n",
    "All of the model equations, and derivations of the reduced-order models, can be found in [[1]](#ref)."
   ]
  },
  {
   "cell_type": "markdown",
   "metadata": {},
   "source": [
    "### References\n",
    "<a name=\"ref\">[1]</a> R Timms, SG Marquis, V Sulzer, CP Please and SJ Chapman. Asymptotic\n",
    "           Reduction of a Lithium-ion Pouch Cell Model. Submitted, 2020\n",
    "           \n",
    "<a name=\"ref2\">[2]</a>  M Doyle,  TF Fuller,  and J Newman.  Modeling of galvanostatic charge and discharge of thelithium/polymer/insertion cell. Journal of the Electrochemical society, 140(6):1526–1533, 1993"
   ]
  },
  {
   "cell_type": "markdown",
   "metadata": {},
   "source": [
    "## Solving the reduced-order pouch cell models in PyBaMM"
   ]
  },
  {
   "cell_type": "markdown",
   "metadata": {},
   "source": [
    "We begin by importing PyBaMM along with the other packages required in this notebook"
   ]
  },
  {
   "cell_type": "code",
   "execution_count": 1,
   "metadata": {},
   "outputs": [
    {
     "name": "stdout",
     "output_type": "stream",
     "text": [
      "\u001b[33mWARNING: You are using pip version 20.2.4; however, version 20.3.3 is available.\n",
      "You should consider upgrading via the '/Users/vsulzer/Documents/Energy_storage/PyBaMM/.tox/dev/bin/python -m pip install --upgrade pip' command.\u001b[0m\n",
      "Note: you may need to restart the kernel to use updated packages.\n"
     ]
    }
   ],
   "source": [
    "%pip install pybamm -q    # install PyBaMM if it is not installed\n",
    "import pybamm\n",
    "import sys\n",
    "import pickle\n",
    "import matplotlib.pyplot as plt\n",
    "import numpy as np\n",
    "import scipy.interpolate as interp\n",
    "\n",
    "# increase recursion limit for large expression trees\n",
    "sys.setrecursionlimit(100000)"
   ]
  },
  {
   "cell_type": "markdown",
   "metadata": {},
   "source": [
    "We then need to load up the appropriate models. For the DFNCC we require a 1D model of the current collectors and an average 1D DFN model for the through-cell electrochemistry. The 1+1D pouch cell model is built directly into PyBaMM and are accessed by passing the model option \"dimensionality\" which can be 1 or 2, corresponding to 1D or 2D current collectors. This option can be passed to any existing electrochemical model (e.g. [SPM](./SPM.ipynb), [SPMe](./SPMe.ipynb), [DFN](./DFN.ipynb)). Here we choose the DFN model. \n",
    "\n",
    "For both electrochemical models we choose an \"x-lumped\" thermal model, meaning we assume that the temperature is uniform in the through-cell direction $x$, but account for the variation in temperature in the transverse direction $z$."
   ]
  },
  {
   "cell_type": "code",
   "execution_count": 2,
   "metadata": {},
   "outputs": [
    {
     "name": "stderr",
     "output_type": "stream",
     "text": [
      "/Users/vsulzer/Documents/Energy_storage/PyBaMM/pybamm/models/full_battery_models/base_battery_model.py:434: UserWarning: 1+1D Thermal models are only valid if both tabs are placed at the top of the cell.\n",
      "  warnings.warn(\n"
     ]
    }
   ],
   "source": [
    "cc_model = pybamm.current_collector.EffectiveResistance({\"dimensionality\": 1})\n",
    "dfn_av = pybamm.lithium_ion.DFN({\"thermal\": \"x-lumped\"}, name=\"Average DFN\")\n",
    "dfn = pybamm.lithium_ion.DFN(\n",
    "    {\"current collector\": \"potential pair\", \"dimensionality\": 1, \"thermal\": \"x-lumped\"},\n",
    "    name=\"1+1D DFN\",\n",
    ")"
   ]
  },
  {
   "cell_type": "markdown",
   "metadata": {},
   "source": [
    "We then add the models to a dictionary for easy access later"
   ]
  },
  {
   "cell_type": "code",
   "execution_count": 3,
   "metadata": {},
   "outputs": [],
   "source": [
    "models = {\"Current collector\": cc_model, \"Average DFN\": dfn_av, \"1+1D DFN\": dfn}"
   ]
  },
  {
   "cell_type": "markdown",
   "metadata": {},
   "source": [
    "Next we update the parameters to match those used in the COMSOL simulation. In particular, we set the current to correspond to a 3C discharge and assume uniform Newton cooling on all boundaries."
   ]
  },
  {
   "cell_type": "code",
   "execution_count": 4,
   "metadata": {},
   "outputs": [],
   "source": [
    "param = dfn.default_parameter_values\n",
    "I_1C = param[\"Cell capacity [A.h]\"]  # 1C current is cell capacity multipled by 1 hour\n",
    "param.update(\n",
    "    {\n",
    "        \"Current function [A]\": I_1C * 3,       \n",
    "        \"Negative electrode diffusivity [m2.s-1]\": 3.9 * 10 ** (-14),\n",
    "        \"Positive electrode diffusivity [m2.s-1]\": 10 ** (-13),\n",
    "        \"Negative current collector surface heat transfer coefficient [W.m-2.K-1]\": 10,\n",
    "        \"Positive current collector surface heat transfer coefficient [W.m-2.K-1]\": 10,\n",
    "        \"Negative tab heat transfer coefficient [W.m-2.K-1]\": 10,\n",
    "        \"Positive tab heat transfer coefficient [W.m-2.K-1]\": 10,\n",
    "        \"Edge heat transfer coefficient [W.m-2.K-1]\": 10,\n",
    "    }\n",
    ")"
   ]
  },
  {
   "cell_type": "markdown",
   "metadata": {},
   "source": [
    "In this example we choose to discretise in space using 16 nodes per domain."
   ]
  },
  {
   "cell_type": "code",
   "execution_count": 5,
   "metadata": {},
   "outputs": [],
   "source": [
    "var = pybamm.standard_spatial_vars\n",
    "npts = 16\n",
    "var_pts = {\n",
    "    var.x_n: npts,\n",
    "    var.x_s: npts,\n",
    "    var.x_p: npts,\n",
    "    var.r_n: npts,\n",
    "    var.r_p: npts,\n",
    "    var.z: npts,\n",
    "}"
   ]
  },
  {
   "cell_type": "markdown",
   "metadata": {},
   "source": [
    "Before solving the models we load the COMSOL data so that we can request the output at the times in the COMSOL solution"
   ]
  },
  {
   "cell_type": "code",
   "execution_count": 6,
   "metadata": {},
   "outputs": [],
   "source": [
    "comsol_results_path = pybamm.get_parameters_filepath(\n",
    "    \"input/comsol_results/comsol_1plus1D_3C.pickle\"\n",
    ")\n",
    "comsol_variables = pickle.load(open(comsol_results_path, \"rb\"))"
   ]
  },
  {
   "cell_type": "markdown",
   "metadata": {},
   "source": [
    "Next we loop over the models, creating and solving a simulation for each."
   ]
  },
  {
   "cell_type": "code",
   "execution_count": 7,
   "metadata": {},
   "outputs": [],
   "source": [
    "simulations = {}\n",
    "solutions = {}  # store solutions in a separate dict for easy access later\n",
    "for name, model in models.items():\n",
    "    sim = pybamm.Simulation(model, parameter_values=param, var_pts=var_pts)\n",
    "    simulations[name] = sim  # store simulation for later\n",
    "    if name == \"Current collector\":\n",
    "        # model is independent of time, so just solve arbitrarily at t=0 using \n",
    "        # the default algebraic solver\n",
    "        t_eval = np.array([0])\n",
    "        solutions[name] = sim.solve(t_eval=t_eval)        \n",
    "    else:\n",
    "        # solve at COMSOL times using Casadi solver in \"fast\" mode\n",
    "        t_eval = comsol_variables[\"time\"]       \n",
    "        solutions[name] = sim.solve(solver=pybamm.CasadiSolver(mode=\"fast\"), t_eval=t_eval)"
   ]
  },
  {
   "cell_type": "markdown",
   "metadata": {},
   "source": [
    "## Creating the COMSOL model"
   ]
  },
  {
   "cell_type": "markdown",
   "metadata": {},
   "source": [
    "In this section we show how to create a PyBaMM \"model\" from the COMSOL solution. If you are just interested in seeing the comparison the skip ahead to the section \"Comparing the full and reduced-order models\".\n"
   ]
  },
  {
   "cell_type": "markdown",
   "metadata": {},
   "source": [
    "To create a PyBaMM model from the COMSOL data we must create a `pybamm.Function` object for each variable. We do this by interpolating in space to match the PyBaMM mesh and then creating a function to interpolate in time. The following cell defines the function that handles the creation of the `pybamm.Function` object."
   ]
  },
  {
   "cell_type": "code",
   "execution_count": 8,
   "metadata": {},
   "outputs": [],
   "source": [
    "# set up times\n",
    "tau = param.evaluate(dfn.param.tau_discharge)\n",
    "comsol_t = comsol_variables[\"time\"]\n",
    "pybamm_t = comsol_t / tau\n",
    "# set up space\n",
    "mesh = simulations[\"1+1D DFN\"].mesh\n",
    "L_z = param.evaluate(dfn.param.L_z)\n",
    "pybamm_z = mesh[\"current collector\"].nodes\n",
    "z_interp = pybamm_z * L_z\n",
    "\n",
    "    \n",
    "def get_interp_fun_curr_coll(variable_name):\n",
    "    \"\"\"\n",
    "    Create a :class:`pybamm.Function` object using the variable (interpolate in space \n",
    "    to match nodes, and then create function to interpolate in time)\n",
    "    \"\"\"\n",
    "\n",
    "    comsol_z = comsol_variables[variable_name + \"_z\"]\n",
    "    variable = comsol_variables[variable_name]\n",
    "    variable = interp.interp1d(comsol_z, variable, axis=0, kind=\"linear\")(z_interp)\n",
    "\n",
    "    def myinterp(t):\n",
    "        return interp.interp1d(comsol_t, variable, kind=\"linear\")(t)[:, np.newaxis]\n",
    "\n",
    "    # Make sure to use dimensional time\n",
    "    fun = pybamm.Function(myinterp, pybamm.t * tau, name=variable_name + \"_comsol\")\n",
    "    fun.domain = \"current collector\"\n",
    "    fun.mesh = mesh.combine_submeshes(\"current collector\")\n",
    "    fun.secondary_mesh = None\n",
    "    \n",
    "    return fun"
   ]
  },
  {
   "cell_type": "markdown",
   "metadata": {},
   "source": [
    "We then pass the variables of interest to the interpolating function"
   ]
  },
  {
   "cell_type": "code",
   "execution_count": 9,
   "metadata": {},
   "outputs": [],
   "source": [
    "comsol_voltage = pybamm.Function(\n",
    "    interp.interp1d(comsol_t, comsol_variables[\"voltage\"], kind=\"linear\"),\n",
    "    pybamm.t * tau,\n",
    "    name=\"voltage_comsol\",\n",
    ")\n",
    "comsol_voltage.mesh = None\n",
    "comsol_voltage.secondary_mesh = None\n",
    "comsol_phi_s_cn = get_interp_fun_curr_coll(\"phi_s_cn\")\n",
    "comsol_phi_s_cp = get_interp_fun_curr_coll(\"phi_s_cp\")\n",
    "comsol_current = get_interp_fun_curr_coll(\"current\")\n",
    "comsol_temperature = get_interp_fun_curr_coll(\"temperature\")"
   ]
  },
  {
   "cell_type": "markdown",
   "metadata": {},
   "source": [
    "and add them to a `pybamm.BaseModel` object"
   ]
  },
  {
   "cell_type": "code",
   "execution_count": 10,
   "metadata": {},
   "outputs": [],
   "source": [
    "comsol_model = pybamm.BaseModel()\n",
    "comsol_model.variables = {\n",
    "    \"Terminal voltage [V]\": comsol_voltage,\n",
    "    \"Negative current collector potential [V]\": comsol_phi_s_cn,\n",
    "    \"Positive current collector potential [V]\": comsol_phi_s_cp,\n",
    "    \"Current collector current density [A.m-2]\": comsol_current,\n",
    "    \"X-averaged cell temperature [K]\": comsol_temperature,\n",
    "    # Add spatial variables to match pybamm model\n",
    "    \"z\": simulations[\"1+1D DFN\"].built_model.variables[\"z\"],\n",
    "    \"z [m]\": simulations[\"1+1D DFN\"].built_model.variables[\"z [m]\"],   \n",
    "}"
   ]
  },
  {
   "cell_type": "markdown",
   "metadata": {},
   "source": [
    "We then add the solution object from the 1+1D model. This is just so that PyBaMM uses the same (dimensionless) times behind the scenes when dealing with COMSOL model and the reduced-order models: the variables in `comsol_model.variables` are functions of time only that return the (interpolated in space) COMSOL solution. We also need to update the time and length scales for the COMSOL model so that any dimensionless variables are scaled correctly. "
   ]
  },
  {
   "cell_type": "code",
   "execution_count": 11,
   "metadata": {},
   "outputs": [],
   "source": [
    "comsol_solution = pybamm.Solution(solutions[\"1+1D DFN\"].t, solutions[\"1+1D DFN\"].y)\n",
    "comsol_model.timescale = simulations[\"1+1D DFN\"].model.timescale\n",
    "comsol_model.length_scales = simulations[\"1+1D DFN\"].model.length_scales\n",
    "comsol_solution.model = comsol_model\n",
    "comsol_solution.inputs = {}"
   ]
  },
  {
   "cell_type": "markdown",
   "metadata": {},
   "source": [
    "## Comparing the full and reduced-order models"
   ]
  },
  {
   "cell_type": "markdown",
   "metadata": {},
   "source": [
    "The DFNCC requires some post-processing to extract the solution variables. In particular, we need to pass the current and voltage from the average DFN model to the current collector model in order to compute the distribution of the potential in the current collectors and to account for the effect of the current collector resistance in the terminal voltage. \n",
    "\n",
    "This process is automated by the method `post_process` which accepts the current collector solution object, the parameters and the voltage and current from the average DFN model. The results are stored in the dictionary `dfncc_vars`"
   ]
  },
  {
   "cell_type": "code",
   "execution_count": 12,
   "metadata": {},
   "outputs": [],
   "source": [
    "V_av = solutions[\"Average DFN\"][\"Terminal voltage\"]\n",
    "I_av = solutions[\"Average DFN\"][\"Total current density\"]\n",
    "\n",
    "dfncc_vars = cc_model.post_process(\n",
    "    solutions[\"Current collector\"], param, V_av, I_av\n",
    ")"
   ]
  },
  {
   "cell_type": "markdown",
   "metadata": {},
   "source": [
    "Next we create a function to create some custom plots. For a given variable the plots will show: (a) the COMSOL results as a function of position in the current collector $z$ and time $t$; (b) a comparison of the full and reduced-order models and a sequence of times; (c) the time-averaged error between the full and reduced-order models as a function of space; and (d) the space-averaged error between the full and reduced-order models as a function of time."
   ]
  },
  {
   "cell_type": "code",
   "execution_count": 13,
   "metadata": {},
   "outputs": [],
   "source": [
    "def plot(\n",
    "    t_plot,\n",
    "    z_plot,\n",
    "    t_slices,\n",
    "    var_name,\n",
    "    units,\n",
    "    comsol_var_fun,\n",
    "    dfn_var_fun,\n",
    "    dfncc_var_fun,\n",
    "    param,\n",
    "    cmap=\"viridis\",\n",
    "):\n",
    "    \n",
    "    fig, ax = plt.subplots(2, 2, figsize=(13, 7))\n",
    "    fig.subplots_adjust(\n",
    "        left=0.15, bottom=0.1, right=0.95, top=0.95, wspace=0.4, hspace=0.8\n",
    "    )\n",
    "    # plot comsol var\n",
    "    comsol_var = comsol_var_fun(t=t_plot, z=z_plot)\n",
    "    comsol_var_plot = ax[0, 0].pcolormesh(\n",
    "        z_plot * 1e3, t_plot, np.transpose(comsol_var), shading=\"gouraud\", cmap=cmap\n",
    "    )\n",
    "    if \"cn\" in var_name:\n",
    "        format = \"%.0e\"\n",
    "    elif \"cp\" in var_name:\n",
    "        format = \"%.0e\"\n",
    "    else:\n",
    "        format = None\n",
    "    fig.colorbar(\n",
    "        comsol_var_plot,\n",
    "        ax=ax,\n",
    "        format=format,\n",
    "        location=\"top\",\n",
    "        shrink=0.42,\n",
    "        aspect=20,\n",
    "        anchor=(0.0, 0.0),\n",
    "    )\n",
    "\n",
    "    # plot slices\n",
    "    ccmap = plt.get_cmap(\"inferno\")\n",
    "    for ind, t in enumerate(t_slices):\n",
    "        color = ccmap(float(ind) / len(t_slices))\n",
    "        comsol_var_slice = comsol_var_fun(t=t, z=z_plot)\n",
    "        dfn_var_slice = dfn_var_fun(t=t, z=z_plot)\n",
    "        dfncc_var_slice = dfncc_var_fun(t=np.array([t]), z=z_plot)\n",
    "        ax[0, 1].plot(\n",
    "            z_plot * 1e3, comsol_var_slice, \"o\", fillstyle=\"none\", color=color\n",
    "        )\n",
    "        ax[0, 1].plot(\n",
    "            z_plot * 1e3,\n",
    "            dfn_var_slice,\n",
    "            \"-\",\n",
    "            color=color,\n",
    "            label=\"{:.0f} s\".format(t_slices[ind]),\n",
    "        )\n",
    "        ax[0, 1].plot(z_plot * 1e3, dfncc_var_slice, \":\", color=color)\n",
    "    # add dummy points for legend of styles\n",
    "    comsol_p, = ax[0, 1].plot(np.nan, np.nan, \"ko\", fillstyle=\"none\")\n",
    "    pybamm_p, = ax[0, 1].plot(np.nan, np.nan, \"k-\", fillstyle=\"none\")\n",
    "    dfncc_p, = ax[0, 1].plot(np.nan, np.nan, \"k:\", fillstyle=\"none\")\n",
    "\n",
    "    # compute errors\n",
    "    dfn_var = dfn_var_fun(t=t_plot, z=z_plot)\n",
    "    dfncc_var = dfncc_var_fun(t=t_plot, z=z_plot)\n",
    "    error = np.abs(comsol_var - dfn_var)\n",
    "    error_bar = np.abs(comsol_var - dfncc_var)\n",
    "\n",
    "    # plot time averaged error\n",
    "    ax[1, 0].plot(z_plot * 1e3, np.mean(error, axis=1), \"k-\", label=r\"$1+1$D\")\n",
    "    ax[1, 0].plot(z_plot * 1e3, np.mean(error_bar, axis=1), \"k:\", label=\"DFNCC\")\n",
    "\n",
    "    # plot z averaged error\n",
    "    ax[1, 1].plot(t_plot, np.mean(error, axis=0), \"k-\", label=r\"$1+1$D\")\n",
    "    ax[1, 1].plot(t_plot, np.mean(error_bar, axis=0), \"k:\", label=\"DFNCC\")\n",
    "\n",
    "    # set ticks\n",
    "    ax[0, 0].tick_params(which=\"both\")\n",
    "    ax[0, 1].tick_params(which=\"both\")\n",
    "    ax[1, 0].tick_params(which=\"both\")\n",
    "    if var_name in [\"$\\mathcal{I}^*$\"]:\n",
    "        ax[1, 0].set_yscale(\"log\")\n",
    "        ax[1, 0].set_yticks = [1e-5, 1e-4, 1e-3, 1e-2, 1e-1, 1e-2, 1e-1, 1]\n",
    "    else:\n",
    "        ax[1, 0].ticklabel_format(style=\"sci\", scilimits=(-2, 2), axis=\"y\")\n",
    "    ax[1, 1].tick_params(which=\"both\")\n",
    "    if var_name in [\"$\\phi^*_{\\mathrm{s,cn}}$\", \"$\\phi^*_{\\mathrm{s,cp}} - V^*$\"]:\n",
    "        ax[1, 0].ticklabel_format(style=\"sci\", scilimits=(-2, 2), axis=\"y\")\n",
    "    else:\n",
    "        ax[1, 1].set_yscale(\"log\")\n",
    "        ax[1, 1].set_yticks = [1e-5, 1e-4, 1e-3, 1e-2, 1e-1, 1e-2, 1e-1, 1]\n",
    "\n",
    "    # set labels\n",
    "    ax[0, 0].set_xlabel(r\"$z^*$ [mm]\")\n",
    "    ax[0, 0].set_ylabel(r\"$t^*$ [s]\")\n",
    "    ax[0, 0].set_title(r\"{} {}\".format(var_name, units), y=1.5)\n",
    "    ax[0, 1].set_xlabel(r\"$z^*$ [mm]\")\n",
    "    ax[0, 1].set_ylabel(r\"{}\".format(var_name))\n",
    "    ax[1, 0].set_xlabel(r\"$z^*$ [mm]\")\n",
    "    ax[1, 0].set_ylabel(\"Time-averaged\" + \"\\n\" + r\"absolute error {}\".format(units))\n",
    "    ax[1, 1].set_xlabel(r\"$t^*$ [s]\")\n",
    "    ax[1, 1].set_ylabel(\"Space-averaged\" + \"\\n\" + r\"absolute error {}\".format(units))\n",
    "\n",
    "    ax[0, 0].text(-0.1, 1.6, \"(a)\", transform=ax[0, 0].transAxes)\n",
    "    ax[0, 1].text(-0.1, 1.6, \"(b)\", transform=ax[0, 1].transAxes)\n",
    "    ax[1, 0].text(-0.1, 1.2, \"(c)\", transform=ax[1, 0].transAxes)\n",
    "    ax[1, 1].text(-0.1, 1.2, \"(d)\", transform=ax[1, 1].transAxes)\n",
    "\n",
    "    leg1 = ax[0, 1].legend(\n",
    "        bbox_to_anchor=(0, 1.1, 1.0, 0.102),\n",
    "        loc=\"lower left\",\n",
    "        borderaxespad=0.0,\n",
    "        ncol=3,\n",
    "        mode=\"expand\",\n",
    "    )\n",
    "\n",
    "    leg2 = ax[0, 1].legend(\n",
    "        [comsol_p, pybamm_p, dfncc_p],\n",
    "        [\"COMSOL\", r\"$1+1$D\", \"DFNCC\"],\n",
    "        bbox_to_anchor=(0, 1.5, 1.0, 0.102),\n",
    "        loc=\"lower left\",\n",
    "        borderaxespad=0.0,\n",
    "        ncol=3,\n",
    "        mode=\"expand\",\n",
    "    )\n",
    "    ax[0, 1].add_artist(leg1)\n",
    "\n",
    "    ax[1, 0].legend(\n",
    "        bbox_to_anchor=(0.0, 1.1, 1.0, 0.102),\n",
    "        loc=\"lower right\",\n",
    "        borderaxespad=0.0,\n",
    "        ncol=3,\n",
    "    )\n",
    "    ax[1, 1].legend(\n",
    "        bbox_to_anchor=(0.0, 1.1, 1.0, 0.102),\n",
    "        loc=\"lower right\",\n",
    "        borderaxespad=0.0,\n",
    "        ncol=3,\n",
    "    )"
   ]
  },
  {
   "cell_type": "markdown",
   "metadata": {},
   "source": [
    "We then set up the times and points in space to use in the plots "
   ]
  },
  {
   "cell_type": "code",
   "execution_count": 14,
   "metadata": {},
   "outputs": [],
   "source": [
    "t_plot = comsol_t\n",
    "z_plot = z_interp\n",
    "t_slices = np.array([600, 1200, 1800, 2400, 3000]) / 3"
   ]
  },
  {
   "cell_type": "markdown",
   "metadata": {},
   "source": [
    "and plot the negative current collector potential"
   ]
  },
  {
   "cell_type": "code",
   "execution_count": 21,
   "metadata": {},
   "outputs": [
    {
     "ename": "AttributeError",
     "evalue": "'interp1d' object has no attribute '__name__'",
     "output_type": "error",
     "traceback": [
      "\u001b[0;31m---------------------------------------------------------------------------\u001b[0m",
      "\u001b[0;31mKeyError\u001b[0m                                  Traceback (most recent call last)",
      "\u001b[0;32m~/Documents/Energy_storage/PyBaMM/pybamm/expression_tree/operations/convert_to_casadi.py\u001b[0m in \u001b[0;36mconvert\u001b[0;34m(self, symbol, t, y, y_dot, inputs)\u001b[0m\n\u001b[1;32m     40\u001b[0m         \u001b[0;32mtry\u001b[0m\u001b[0;34m:\u001b[0m\u001b[0;34m\u001b[0m\u001b[0;34m\u001b[0m\u001b[0m\n\u001b[0;32m---> 41\u001b[0;31m             \u001b[0;32mreturn\u001b[0m \u001b[0mself\u001b[0m\u001b[0;34m.\u001b[0m\u001b[0m_casadi_symbols\u001b[0m\u001b[0;34m[\u001b[0m\u001b[0msymbol\u001b[0m\u001b[0;34m.\u001b[0m\u001b[0mid\u001b[0m\u001b[0;34m]\u001b[0m\u001b[0;34m\u001b[0m\u001b[0;34m\u001b[0m\u001b[0m\n\u001b[0m\u001b[1;32m     42\u001b[0m         \u001b[0;32mexcept\u001b[0m \u001b[0mKeyError\u001b[0m\u001b[0;34m:\u001b[0m\u001b[0;34m\u001b[0m\u001b[0;34m\u001b[0m\u001b[0m\n",
      "\u001b[0;31mKeyError\u001b[0m: 3707944294786099166",
      "\nDuring handling of the above exception, another exception occurred:\n",
      "\u001b[0;31mAttributeError\u001b[0m                            Traceback (most recent call last)",
      "\u001b[0;32m<ipython-input-21-9968dbfd53e4>\u001b[0m in \u001b[0;36m<module>\u001b[0;34m\u001b[0m\n\u001b[0;32m----> 1\u001b[0;31m comsol_model.variables[\"Terminal voltage [V]\"].to_casadi(\n\u001b[0m\u001b[1;32m      2\u001b[0m     \u001b[0mcomsol_solution\u001b[0m\u001b[0;34m.\u001b[0m\u001b[0m_t_MX\u001b[0m\u001b[0;34m,\u001b[0m \u001b[0mcomsol_solution\u001b[0m\u001b[0;34m.\u001b[0m\u001b[0m_y_MX\u001b[0m\u001b[0;34m\u001b[0m\u001b[0;34m\u001b[0m\u001b[0m\n\u001b[1;32m      3\u001b[0m )\n",
      "\u001b[0;32m~/Documents/Energy_storage/PyBaMM/pybamm/expression_tree/symbol.py\u001b[0m in \u001b[0;36mto_casadi\u001b[0;34m(self, t, y, y_dot, inputs, casadi_symbols)\u001b[0m\n\u001b[1;32m    994\u001b[0m         \u001b[0mSee\u001b[0m \u001b[0;34m:\u001b[0m\u001b[0;32mclass\u001b[0m\u001b[0;34m:\u001b[0m\u001b[0;31m`\u001b[0m\u001b[0mpybamm\u001b[0m\u001b[0;34m.\u001b[0m\u001b[0mCasadiConverter\u001b[0m\u001b[0;31m`\u001b[0m\u001b[0;34m.\u001b[0m\u001b[0;34m\u001b[0m\u001b[0;34m\u001b[0m\u001b[0m\n\u001b[1;32m    995\u001b[0m         \"\"\"\n\u001b[0;32m--> 996\u001b[0;31m         \u001b[0;32mreturn\u001b[0m \u001b[0mpybamm\u001b[0m\u001b[0;34m.\u001b[0m\u001b[0mCasadiConverter\u001b[0m\u001b[0;34m(\u001b[0m\u001b[0mcasadi_symbols\u001b[0m\u001b[0;34m)\u001b[0m\u001b[0;34m.\u001b[0m\u001b[0mconvert\u001b[0m\u001b[0;34m(\u001b[0m\u001b[0mself\u001b[0m\u001b[0;34m,\u001b[0m \u001b[0mt\u001b[0m\u001b[0;34m,\u001b[0m \u001b[0my\u001b[0m\u001b[0;34m,\u001b[0m \u001b[0my_dot\u001b[0m\u001b[0;34m,\u001b[0m \u001b[0minputs\u001b[0m\u001b[0;34m)\u001b[0m\u001b[0;34m\u001b[0m\u001b[0;34m\u001b[0m\u001b[0m\n\u001b[0m\u001b[1;32m    997\u001b[0m \u001b[0;34m\u001b[0m\u001b[0m\n\u001b[1;32m    998\u001b[0m     \u001b[0;32mdef\u001b[0m \u001b[0mnew_copy\u001b[0m\u001b[0;34m(\u001b[0m\u001b[0mself\u001b[0m\u001b[0;34m)\u001b[0m\u001b[0;34m:\u001b[0m\u001b[0;34m\u001b[0m\u001b[0;34m\u001b[0m\u001b[0m\n",
      "\u001b[0;32m~/Documents/Energy_storage/PyBaMM/pybamm/expression_tree/operations/convert_to_casadi.py\u001b[0m in \u001b[0;36mconvert\u001b[0;34m(self, symbol, t, y, y_dot, inputs)\u001b[0m\n\u001b[1;32m     43\u001b[0m             \u001b[0;31m# Change inputs to empty dictionary if it's None\u001b[0m\u001b[0;34m\u001b[0m\u001b[0;34m\u001b[0m\u001b[0;34m\u001b[0m\u001b[0m\n\u001b[1;32m     44\u001b[0m             \u001b[0minputs\u001b[0m \u001b[0;34m=\u001b[0m \u001b[0minputs\u001b[0m \u001b[0;32mor\u001b[0m \u001b[0;34m{\u001b[0m\u001b[0;34m}\u001b[0m\u001b[0;34m\u001b[0m\u001b[0;34m\u001b[0m\u001b[0m\n\u001b[0;32m---> 45\u001b[0;31m             \u001b[0mcasadi_symbol\u001b[0m \u001b[0;34m=\u001b[0m \u001b[0mself\u001b[0m\u001b[0;34m.\u001b[0m\u001b[0m_convert\u001b[0m\u001b[0;34m(\u001b[0m\u001b[0msymbol\u001b[0m\u001b[0;34m,\u001b[0m \u001b[0mt\u001b[0m\u001b[0;34m,\u001b[0m \u001b[0my\u001b[0m\u001b[0;34m,\u001b[0m \u001b[0my_dot\u001b[0m\u001b[0;34m,\u001b[0m \u001b[0minputs\u001b[0m\u001b[0;34m)\u001b[0m\u001b[0;34m\u001b[0m\u001b[0;34m\u001b[0m\u001b[0m\n\u001b[0m\u001b[1;32m     46\u001b[0m             \u001b[0mself\u001b[0m\u001b[0;34m.\u001b[0m\u001b[0m_casadi_symbols\u001b[0m\u001b[0;34m[\u001b[0m\u001b[0msymbol\u001b[0m\u001b[0;34m.\u001b[0m\u001b[0mid\u001b[0m\u001b[0;34m]\u001b[0m \u001b[0;34m=\u001b[0m \u001b[0mcasadi_symbol\u001b[0m\u001b[0;34m\u001b[0m\u001b[0;34m\u001b[0m\u001b[0m\n\u001b[1;32m     47\u001b[0m \u001b[0;34m\u001b[0m\u001b[0m\n",
      "\u001b[0;32m~/Documents/Energy_storage/PyBaMM/pybamm/expression_tree/operations/convert_to_casadi.py\u001b[0m in \u001b[0;36m_convert\u001b[0;34m(self, symbol, t, y, y_dot, inputs)\u001b[0m\n\u001b[1;32m    137\u001b[0m                     \u001b[0;34m*\u001b[0m\u001b[0mconverted_children\u001b[0m\u001b[0;34m\u001b[0m\u001b[0;34m\u001b[0m\u001b[0m\n\u001b[1;32m    138\u001b[0m                 )\n\u001b[0;32m--> 139\u001b[0;31m             \u001b[0;32melif\u001b[0m \u001b[0msymbol\u001b[0m\u001b[0;34m.\u001b[0m\u001b[0mfunction\u001b[0m\u001b[0;34m.\u001b[0m\u001b[0m__name__\u001b[0m\u001b[0;34m.\u001b[0m\u001b[0mstartswith\u001b[0m\u001b[0;34m(\u001b[0m\u001b[0;34m\"elementwise_grad_of_\"\u001b[0m\u001b[0;34m)\u001b[0m\u001b[0;34m:\u001b[0m\u001b[0;34m\u001b[0m\u001b[0;34m\u001b[0m\u001b[0m\n\u001b[0m\u001b[1;32m    140\u001b[0m                 \u001b[0mdifferentiating_child_idx\u001b[0m \u001b[0;34m=\u001b[0m \u001b[0mint\u001b[0m\u001b[0;34m(\u001b[0m\u001b[0msymbol\u001b[0m\u001b[0;34m.\u001b[0m\u001b[0mfunction\u001b[0m\u001b[0;34m.\u001b[0m\u001b[0m__name__\u001b[0m\u001b[0;34m[\u001b[0m\u001b[0;34m-\u001b[0m\u001b[0;36m1\u001b[0m\u001b[0;34m]\u001b[0m\u001b[0;34m)\u001b[0m\u001b[0;34m\u001b[0m\u001b[0;34m\u001b[0m\u001b[0m\n\u001b[1;32m    141\u001b[0m                 \u001b[0;31m# Create dummy symbolic variables in order to differentiate using CasADi\u001b[0m\u001b[0;34m\u001b[0m\u001b[0;34m\u001b[0m\u001b[0;34m\u001b[0m\u001b[0m\n",
      "\u001b[0;31mAttributeError\u001b[0m: 'interp1d' object has no attribute '__name__'"
     ]
    }
   ],
   "source": [
    "comsol_model.variables[\"Terminal voltage [V]\"].to_casadi(\n",
    "    comsol_solution._t_MX, comsol_solution._y_MX\n",
    ")"
   ]
  },
  {
   "cell_type": "code",
   "execution_count": 15,
   "metadata": {},
   "outputs": [
    {
     "ename": "Exception",
     "evalue": "Implicit conversion of symbolic CasADi type to numeric matrix not supported.\nThis may occur when you pass a CasADi object to a numpy function.\nUse an equivalent CasADi function instead of that numpy function.",
     "output_type": "error",
     "traceback": [
      "\u001b[0;31m---------------------------------------------------------------------------\u001b[0m",
      "\u001b[0;31mKeyError\u001b[0m                                  Traceback (most recent call last)",
      "\u001b[0;32m~/Documents/Energy_storage/PyBaMM/pybamm/expression_tree/operations/convert_to_casadi.py\u001b[0m in \u001b[0;36mconvert\u001b[0;34m(self, symbol, t, y, y_dot, inputs)\u001b[0m\n\u001b[1;32m     40\u001b[0m         \u001b[0;32mtry\u001b[0m\u001b[0;34m:\u001b[0m\u001b[0;34m\u001b[0m\u001b[0;34m\u001b[0m\u001b[0m\n\u001b[0;32m---> 41\u001b[0;31m             \u001b[0;32mreturn\u001b[0m \u001b[0mself\u001b[0m\u001b[0;34m.\u001b[0m\u001b[0m_casadi_symbols\u001b[0m\u001b[0;34m[\u001b[0m\u001b[0msymbol\u001b[0m\u001b[0;34m.\u001b[0m\u001b[0mid\u001b[0m\u001b[0;34m]\u001b[0m\u001b[0;34m\u001b[0m\u001b[0;34m\u001b[0m\u001b[0m\n\u001b[0m\u001b[1;32m     42\u001b[0m         \u001b[0;32mexcept\u001b[0m \u001b[0mKeyError\u001b[0m\u001b[0;34m:\u001b[0m\u001b[0;34m\u001b[0m\u001b[0;34m\u001b[0m\u001b[0m\n",
      "\u001b[0;31mKeyError\u001b[0m: 2414869232381412254",
      "\nDuring handling of the above exception, another exception occurred:\n",
      "\u001b[0;31mAttributeError\u001b[0m                            Traceback (most recent call last)",
      "\u001b[0;32m~/Documents/Energy_storage/PyBaMM/.tox/dev/lib/python3.8/site-packages/casadi/casadi.py\u001b[0m in \u001b[0;36m__array__\u001b[0;34m(self, *args, **kwargs)\u001b[0m\n\u001b[1;32m  10926\u001b[0m           \u001b[0;32mtry\u001b[0m\u001b[0;34m:\u001b[0m\u001b[0;34m\u001b[0m\u001b[0;34m\u001b[0m\u001b[0m\n\u001b[0;32m> 10927\u001b[0;31m             \u001b[0;32mreturn\u001b[0m \u001b[0mself\u001b[0m\u001b[0;34m.\u001b[0m\u001b[0mfull\u001b[0m\u001b[0;34m(\u001b[0m\u001b[0;34m)\u001b[0m\u001b[0;34m\u001b[0m\u001b[0;34m\u001b[0m\u001b[0m\n\u001b[0m\u001b[1;32m  10928\u001b[0m           \u001b[0;32mexcept\u001b[0m\u001b[0;34m:\u001b[0m\u001b[0;34m\u001b[0m\u001b[0;34m\u001b[0m\u001b[0m\n",
      "\u001b[0;32m~/Documents/Energy_storage/PyBaMM/.tox/dev/lib/python3.8/site-packages/casadi/casadi.py\u001b[0m in \u001b[0;36m<lambda>\u001b[0;34m(self, name)\u001b[0m\n\u001b[1;32m   9553\u001b[0m         \u001b[0m__swig_getmethods__\u001b[0m\u001b[0;34m.\u001b[0m\u001b[0mupdate\u001b[0m\u001b[0;34m(\u001b[0m\u001b[0mgetattr\u001b[0m\u001b[0;34m(\u001b[0m\u001b[0m_s\u001b[0m\u001b[0;34m,\u001b[0m \u001b[0;34m'__swig_getmethods__'\u001b[0m\u001b[0;34m,\u001b[0m \u001b[0;34m{\u001b[0m\u001b[0;34m}\u001b[0m\u001b[0;34m)\u001b[0m\u001b[0;34m)\u001b[0m\u001b[0;34m\u001b[0m\u001b[0;34m\u001b[0m\u001b[0m\n\u001b[0;32m-> 9554\u001b[0;31m     \u001b[0m__getattr__\u001b[0m \u001b[0;34m=\u001b[0m \u001b[0;32mlambda\u001b[0m \u001b[0mself\u001b[0m\u001b[0;34m,\u001b[0m \u001b[0mname\u001b[0m\u001b[0;34m:\u001b[0m \u001b[0m_swig_getattr\u001b[0m\u001b[0;34m(\u001b[0m\u001b[0mself\u001b[0m\u001b[0;34m,\u001b[0m \u001b[0mMX\u001b[0m\u001b[0;34m,\u001b[0m \u001b[0mname\u001b[0m\u001b[0;34m)\u001b[0m\u001b[0;34m\u001b[0m\u001b[0;34m\u001b[0m\u001b[0m\n\u001b[0m\u001b[1;32m   9555\u001b[0m     \u001b[0m__repr__\u001b[0m \u001b[0;34m=\u001b[0m \u001b[0m_swig_repr\u001b[0m\u001b[0;34m\u001b[0m\u001b[0;34m\u001b[0m\u001b[0m\n",
      "\u001b[0;32m~/Documents/Energy_storage/PyBaMM/.tox/dev/lib/python3.8/site-packages/casadi/casadi.py\u001b[0m in \u001b[0;36m_swig_getattr\u001b[0;34m(self, class_type, name)\u001b[0m\n\u001b[1;32m     82\u001b[0m         \u001b[0;32mreturn\u001b[0m \u001b[0mmethod\u001b[0m\u001b[0;34m(\u001b[0m\u001b[0mself\u001b[0m\u001b[0;34m)\u001b[0m\u001b[0;34m\u001b[0m\u001b[0;34m\u001b[0m\u001b[0m\n\u001b[0;32m---> 83\u001b[0;31m     \u001b[0;32mraise\u001b[0m \u001b[0mAttributeError\u001b[0m\u001b[0;34m(\u001b[0m\u001b[0;34m\"'%s' object has no attribute '%s'\"\u001b[0m \u001b[0;34m%\u001b[0m \u001b[0;34m(\u001b[0m\u001b[0mclass_type\u001b[0m\u001b[0;34m.\u001b[0m\u001b[0m__name__\u001b[0m\u001b[0;34m,\u001b[0m \u001b[0mname\u001b[0m\u001b[0;34m)\u001b[0m\u001b[0;34m)\u001b[0m\u001b[0;34m\u001b[0m\u001b[0;34m\u001b[0m\u001b[0m\n\u001b[0m\u001b[1;32m     84\u001b[0m \u001b[0;34m\u001b[0m\u001b[0m\n",
      "\u001b[0;31mAttributeError\u001b[0m: 'MX' object has no attribute 'full'",
      "\nDuring handling of the above exception, another exception occurred:\n",
      "\u001b[0;31mException\u001b[0m                                 Traceback (most recent call last)",
      "\u001b[0;32m<ipython-input-15-2fba978aa985>\u001b[0m in \u001b[0;36m<module>\u001b[0;34m\u001b[0m\n\u001b[1;32m      1\u001b[0m \u001b[0mvar\u001b[0m \u001b[0;34m=\u001b[0m \u001b[0;34m\"Negative current collector potential [V]\"\u001b[0m\u001b[0;34m\u001b[0m\u001b[0;34m\u001b[0m\u001b[0m\n\u001b[0;32m----> 2\u001b[0;31m \u001b[0mcomsol_var_fun\u001b[0m \u001b[0;34m=\u001b[0m \u001b[0mcomsol_solution\u001b[0m\u001b[0;34m[\u001b[0m\u001b[0mvar\u001b[0m\u001b[0;34m]\u001b[0m\u001b[0;34m\u001b[0m\u001b[0;34m\u001b[0m\u001b[0m\n\u001b[0m\u001b[1;32m      3\u001b[0m \u001b[0mdfn_var_fun\u001b[0m \u001b[0;34m=\u001b[0m \u001b[0msolutions\u001b[0m\u001b[0;34m[\u001b[0m\u001b[0;34m\"1+1D DFN\"\u001b[0m\u001b[0;34m]\u001b[0m\u001b[0;34m[\u001b[0m\u001b[0mvar\u001b[0m\u001b[0;34m]\u001b[0m\u001b[0;34m\u001b[0m\u001b[0;34m\u001b[0m\u001b[0m\n\u001b[1;32m      4\u001b[0m \u001b[0;34m\u001b[0m\u001b[0m\n\u001b[1;32m      5\u001b[0m \u001b[0mdfncc_var_fun\u001b[0m \u001b[0;34m=\u001b[0m \u001b[0mdfncc_vars\u001b[0m\u001b[0;34m[\u001b[0m\u001b[0mvar\u001b[0m\u001b[0;34m]\u001b[0m\u001b[0;34m\u001b[0m\u001b[0;34m\u001b[0m\u001b[0m\n",
      "\u001b[0;32m~/Documents/Energy_storage/PyBaMM/pybamm/solvers/solution.py\u001b[0m in \u001b[0;36m__getitem__\u001b[0;34m(self, key)\u001b[0m\n\u001b[1;32m    243\u001b[0m         \u001b[0;32melse\u001b[0m\u001b[0;34m:\u001b[0m\u001b[0;34m\u001b[0m\u001b[0;34m\u001b[0m\u001b[0m\n\u001b[1;32m    244\u001b[0m             \u001b[0;31m# otherwise create it, save it and then return it\u001b[0m\u001b[0;34m\u001b[0m\u001b[0;34m\u001b[0m\u001b[0;34m\u001b[0m\u001b[0m\n\u001b[0;32m--> 245\u001b[0;31m             \u001b[0mself\u001b[0m\u001b[0;34m.\u001b[0m\u001b[0mupdate\u001b[0m\u001b[0;34m(\u001b[0m\u001b[0mkey\u001b[0m\u001b[0;34m)\u001b[0m\u001b[0;34m\u001b[0m\u001b[0;34m\u001b[0m\u001b[0m\n\u001b[0m\u001b[1;32m    246\u001b[0m             \u001b[0;32mreturn\u001b[0m \u001b[0mself\u001b[0m\u001b[0;34m.\u001b[0m\u001b[0m_variables\u001b[0m\u001b[0;34m[\u001b[0m\u001b[0mkey\u001b[0m\u001b[0;34m]\u001b[0m\u001b[0;34m\u001b[0m\u001b[0;34m\u001b[0m\u001b[0m\n\u001b[1;32m    247\u001b[0m \u001b[0;34m\u001b[0m\u001b[0m\n",
      "\u001b[0;32m~/Documents/Energy_storage/PyBaMM/pybamm/solvers/solution.py\u001b[0m in \u001b[0;36mupdate\u001b[0;34m(self, variables)\u001b[0m\n\u001b[1;32m    205\u001b[0m                     \u001b[0;31m# Convert variable to casadi\u001b[0m\u001b[0;34m\u001b[0m\u001b[0;34m\u001b[0m\u001b[0;34m\u001b[0m\u001b[0m\n\u001b[1;32m    206\u001b[0m                     \u001b[0;31m# Make all inputs symbolic first for converting to casadi\u001b[0m\u001b[0;34m\u001b[0m\u001b[0;34m\u001b[0m\u001b[0;34m\u001b[0m\u001b[0m\n\u001b[0;32m--> 207\u001b[0;31m                     var_sym = var_pybamm.to_casadi(\n\u001b[0m\u001b[1;32m    208\u001b[0m                         \u001b[0mself\u001b[0m\u001b[0;34m.\u001b[0m\u001b[0m_t_MX\u001b[0m\u001b[0;34m,\u001b[0m \u001b[0mself\u001b[0m\u001b[0;34m.\u001b[0m\u001b[0m_y_MX\u001b[0m\u001b[0;34m,\u001b[0m \u001b[0minputs\u001b[0m\u001b[0;34m=\u001b[0m\u001b[0mself\u001b[0m\u001b[0;34m.\u001b[0m\u001b[0m_symbolic_inputs_dict\u001b[0m\u001b[0;34m\u001b[0m\u001b[0;34m\u001b[0m\u001b[0m\n\u001b[1;32m    209\u001b[0m                     )\n",
      "\u001b[0;32m~/Documents/Energy_storage/PyBaMM/pybamm/expression_tree/symbol.py\u001b[0m in \u001b[0;36mto_casadi\u001b[0;34m(self, t, y, y_dot, inputs, casadi_symbols)\u001b[0m\n\u001b[1;32m    994\u001b[0m         \u001b[0mSee\u001b[0m \u001b[0;34m:\u001b[0m\u001b[0;32mclass\u001b[0m\u001b[0;34m:\u001b[0m\u001b[0;31m`\u001b[0m\u001b[0mpybamm\u001b[0m\u001b[0;34m.\u001b[0m\u001b[0mCasadiConverter\u001b[0m\u001b[0;31m`\u001b[0m\u001b[0;34m.\u001b[0m\u001b[0;34m\u001b[0m\u001b[0;34m\u001b[0m\u001b[0m\n\u001b[1;32m    995\u001b[0m         \"\"\"\n\u001b[0;32m--> 996\u001b[0;31m         \u001b[0;32mreturn\u001b[0m \u001b[0mpybamm\u001b[0m\u001b[0;34m.\u001b[0m\u001b[0mCasadiConverter\u001b[0m\u001b[0;34m(\u001b[0m\u001b[0mcasadi_symbols\u001b[0m\u001b[0;34m)\u001b[0m\u001b[0;34m.\u001b[0m\u001b[0mconvert\u001b[0m\u001b[0;34m(\u001b[0m\u001b[0mself\u001b[0m\u001b[0;34m,\u001b[0m \u001b[0mt\u001b[0m\u001b[0;34m,\u001b[0m \u001b[0my\u001b[0m\u001b[0;34m,\u001b[0m \u001b[0my_dot\u001b[0m\u001b[0;34m,\u001b[0m \u001b[0minputs\u001b[0m\u001b[0;34m)\u001b[0m\u001b[0;34m\u001b[0m\u001b[0;34m\u001b[0m\u001b[0m\n\u001b[0m\u001b[1;32m    997\u001b[0m \u001b[0;34m\u001b[0m\u001b[0m\n\u001b[1;32m    998\u001b[0m     \u001b[0;32mdef\u001b[0m \u001b[0mnew_copy\u001b[0m\u001b[0;34m(\u001b[0m\u001b[0mself\u001b[0m\u001b[0;34m)\u001b[0m\u001b[0;34m:\u001b[0m\u001b[0;34m\u001b[0m\u001b[0;34m\u001b[0m\u001b[0m\n",
      "\u001b[0;32m~/Documents/Energy_storage/PyBaMM/pybamm/expression_tree/operations/convert_to_casadi.py\u001b[0m in \u001b[0;36mconvert\u001b[0;34m(self, symbol, t, y, y_dot, inputs)\u001b[0m\n\u001b[1;32m     43\u001b[0m             \u001b[0;31m# Change inputs to empty dictionary if it's None\u001b[0m\u001b[0;34m\u001b[0m\u001b[0;34m\u001b[0m\u001b[0;34m\u001b[0m\u001b[0m\n\u001b[1;32m     44\u001b[0m             \u001b[0minputs\u001b[0m \u001b[0;34m=\u001b[0m \u001b[0minputs\u001b[0m \u001b[0;32mor\u001b[0m \u001b[0;34m{\u001b[0m\u001b[0;34m}\u001b[0m\u001b[0;34m\u001b[0m\u001b[0;34m\u001b[0m\u001b[0m\n\u001b[0;32m---> 45\u001b[0;31m             \u001b[0mcasadi_symbol\u001b[0m \u001b[0;34m=\u001b[0m \u001b[0mself\u001b[0m\u001b[0;34m.\u001b[0m\u001b[0m_convert\u001b[0m\u001b[0;34m(\u001b[0m\u001b[0msymbol\u001b[0m\u001b[0;34m,\u001b[0m \u001b[0mt\u001b[0m\u001b[0;34m,\u001b[0m \u001b[0my\u001b[0m\u001b[0;34m,\u001b[0m \u001b[0my_dot\u001b[0m\u001b[0;34m,\u001b[0m \u001b[0minputs\u001b[0m\u001b[0;34m)\u001b[0m\u001b[0;34m\u001b[0m\u001b[0;34m\u001b[0m\u001b[0m\n\u001b[0m\u001b[1;32m     46\u001b[0m             \u001b[0mself\u001b[0m\u001b[0;34m.\u001b[0m\u001b[0m_casadi_symbols\u001b[0m\u001b[0;34m[\u001b[0m\u001b[0msymbol\u001b[0m\u001b[0;34m.\u001b[0m\u001b[0mid\u001b[0m\u001b[0;34m]\u001b[0m \u001b[0;34m=\u001b[0m \u001b[0mcasadi_symbol\u001b[0m\u001b[0;34m\u001b[0m\u001b[0;34m\u001b[0m\u001b[0m\n\u001b[1;32m     47\u001b[0m \u001b[0;34m\u001b[0m\u001b[0m\n",
      "\u001b[0;32m~/Documents/Energy_storage/PyBaMM/pybamm/expression_tree/operations/convert_to_casadi.py\u001b[0m in \u001b[0;36m_convert\u001b[0;34m(self, symbol, t, y, y_dot, inputs)\u001b[0m\n\u001b[1;32m    152\u001b[0m             \u001b[0;31m# Other functions\u001b[0m\u001b[0;34m\u001b[0m\u001b[0;34m\u001b[0m\u001b[0;34m\u001b[0m\u001b[0m\n\u001b[1;32m    153\u001b[0m             \u001b[0;32melse\u001b[0m\u001b[0;34m:\u001b[0m\u001b[0;34m\u001b[0m\u001b[0;34m\u001b[0m\u001b[0m\n\u001b[0;32m--> 154\u001b[0;31m                 \u001b[0;32mreturn\u001b[0m \u001b[0msymbol\u001b[0m\u001b[0;34m.\u001b[0m\u001b[0m_function_evaluate\u001b[0m\u001b[0;34m(\u001b[0m\u001b[0mconverted_children\u001b[0m\u001b[0;34m)\u001b[0m\u001b[0;34m\u001b[0m\u001b[0;34m\u001b[0m\u001b[0m\n\u001b[0m\u001b[1;32m    155\u001b[0m         \u001b[0;32melif\u001b[0m \u001b[0misinstance\u001b[0m\u001b[0;34m(\u001b[0m\u001b[0msymbol\u001b[0m\u001b[0;34m,\u001b[0m \u001b[0mpybamm\u001b[0m\u001b[0;34m.\u001b[0m\u001b[0mConcatenation\u001b[0m\u001b[0;34m)\u001b[0m\u001b[0;34m:\u001b[0m\u001b[0;34m\u001b[0m\u001b[0;34m\u001b[0m\u001b[0m\n\u001b[1;32m    156\u001b[0m             converted_children = [\n",
      "\u001b[0;32m~/Documents/Energy_storage/PyBaMM/pybamm/expression_tree/functions.py\u001b[0m in \u001b[0;36m_function_evaluate\u001b[0;34m(self, evaluated_children)\u001b[0m\n\u001b[1;32m    196\u001b[0m \u001b[0;34m\u001b[0m\u001b[0m\n\u001b[1;32m    197\u001b[0m     \u001b[0;32mdef\u001b[0m \u001b[0m_function_evaluate\u001b[0m\u001b[0;34m(\u001b[0m\u001b[0mself\u001b[0m\u001b[0;34m,\u001b[0m \u001b[0mevaluated_children\u001b[0m\u001b[0;34m)\u001b[0m\u001b[0;34m:\u001b[0m\u001b[0;34m\u001b[0m\u001b[0;34m\u001b[0m\u001b[0m\n\u001b[0;32m--> 198\u001b[0;31m         \u001b[0;32mreturn\u001b[0m \u001b[0mself\u001b[0m\u001b[0;34m.\u001b[0m\u001b[0mfunction\u001b[0m\u001b[0;34m(\u001b[0m\u001b[0;34m*\u001b[0m\u001b[0mevaluated_children\u001b[0m\u001b[0;34m)\u001b[0m\u001b[0;34m\u001b[0m\u001b[0;34m\u001b[0m\u001b[0m\n\u001b[0m\u001b[1;32m    199\u001b[0m \u001b[0;34m\u001b[0m\u001b[0m\n\u001b[1;32m    200\u001b[0m     \u001b[0;32mdef\u001b[0m \u001b[0mnew_copy\u001b[0m\u001b[0;34m(\u001b[0m\u001b[0mself\u001b[0m\u001b[0;34m)\u001b[0m\u001b[0;34m:\u001b[0m\u001b[0;34m\u001b[0m\u001b[0;34m\u001b[0m\u001b[0m\n",
      "\u001b[0;32m<ipython-input-8-abd10d213611>\u001b[0m in \u001b[0;36mmyinterp\u001b[0;34m(t)\u001b[0m\n\u001b[1;32m     21\u001b[0m \u001b[0;34m\u001b[0m\u001b[0m\n\u001b[1;32m     22\u001b[0m     \u001b[0;32mdef\u001b[0m \u001b[0mmyinterp\u001b[0m\u001b[0;34m(\u001b[0m\u001b[0mt\u001b[0m\u001b[0;34m)\u001b[0m\u001b[0;34m:\u001b[0m\u001b[0;34m\u001b[0m\u001b[0;34m\u001b[0m\u001b[0m\n\u001b[0;32m---> 23\u001b[0;31m         \u001b[0;32mreturn\u001b[0m \u001b[0minterp\u001b[0m\u001b[0;34m.\u001b[0m\u001b[0minterp1d\u001b[0m\u001b[0;34m(\u001b[0m\u001b[0mcomsol_t\u001b[0m\u001b[0;34m,\u001b[0m \u001b[0mvariable\u001b[0m\u001b[0;34m,\u001b[0m \u001b[0mkind\u001b[0m\u001b[0;34m=\u001b[0m\u001b[0;34m\"linear\"\u001b[0m\u001b[0;34m)\u001b[0m\u001b[0;34m(\u001b[0m\u001b[0mt\u001b[0m\u001b[0;34m)\u001b[0m\u001b[0;34m[\u001b[0m\u001b[0;34m:\u001b[0m\u001b[0;34m,\u001b[0m \u001b[0mnp\u001b[0m\u001b[0;34m.\u001b[0m\u001b[0mnewaxis\u001b[0m\u001b[0;34m]\u001b[0m\u001b[0;34m\u001b[0m\u001b[0;34m\u001b[0m\u001b[0m\n\u001b[0m\u001b[1;32m     24\u001b[0m \u001b[0;34m\u001b[0m\u001b[0m\n\u001b[1;32m     25\u001b[0m     \u001b[0;31m# Make sure to use dimensional time\u001b[0m\u001b[0;34m\u001b[0m\u001b[0;34m\u001b[0m\u001b[0;34m\u001b[0m\u001b[0m\n",
      "\u001b[0;32m~/Documents/Energy_storage/PyBaMM/.tox/dev/lib/python3.8/site-packages/scipy/interpolate/polyint.py\u001b[0m in \u001b[0;36m__call__\u001b[0;34m(self, x)\u001b[0m\n\u001b[1;32m     70\u001b[0m \u001b[0;34m\u001b[0m\u001b[0m\n\u001b[1;32m     71\u001b[0m         \"\"\"\n\u001b[0;32m---> 72\u001b[0;31m         \u001b[0mx\u001b[0m\u001b[0;34m,\u001b[0m \u001b[0mx_shape\u001b[0m \u001b[0;34m=\u001b[0m \u001b[0mself\u001b[0m\u001b[0;34m.\u001b[0m\u001b[0m_prepare_x\u001b[0m\u001b[0;34m(\u001b[0m\u001b[0mx\u001b[0m\u001b[0;34m)\u001b[0m\u001b[0;34m\u001b[0m\u001b[0;34m\u001b[0m\u001b[0m\n\u001b[0m\u001b[1;32m     73\u001b[0m         \u001b[0my\u001b[0m \u001b[0;34m=\u001b[0m \u001b[0mself\u001b[0m\u001b[0;34m.\u001b[0m\u001b[0m_evaluate\u001b[0m\u001b[0;34m(\u001b[0m\u001b[0mx\u001b[0m\u001b[0;34m)\u001b[0m\u001b[0;34m\u001b[0m\u001b[0;34m\u001b[0m\u001b[0m\n\u001b[1;32m     74\u001b[0m         \u001b[0;32mreturn\u001b[0m \u001b[0mself\u001b[0m\u001b[0;34m.\u001b[0m\u001b[0m_finish_y\u001b[0m\u001b[0;34m(\u001b[0m\u001b[0my\u001b[0m\u001b[0;34m,\u001b[0m \u001b[0mx_shape\u001b[0m\u001b[0;34m)\u001b[0m\u001b[0;34m\u001b[0m\u001b[0;34m\u001b[0m\u001b[0m\n",
      "\u001b[0;32m~/Documents/Energy_storage/PyBaMM/.tox/dev/lib/python3.8/site-packages/scipy/interpolate/polyint.py\u001b[0m in \u001b[0;36m_prepare_x\u001b[0;34m(self, x)\u001b[0m\n\u001b[1;32m     82\u001b[0m     \u001b[0;32mdef\u001b[0m \u001b[0m_prepare_x\u001b[0m\u001b[0;34m(\u001b[0m\u001b[0mself\u001b[0m\u001b[0;34m,\u001b[0m \u001b[0mx\u001b[0m\u001b[0;34m)\u001b[0m\u001b[0;34m:\u001b[0m\u001b[0;34m\u001b[0m\u001b[0;34m\u001b[0m\u001b[0m\n\u001b[1;32m     83\u001b[0m         \u001b[0;34m\"\"\"Reshape input x array to 1-D\"\"\"\u001b[0m\u001b[0;34m\u001b[0m\u001b[0;34m\u001b[0m\u001b[0m\n\u001b[0;32m---> 84\u001b[0;31m         \u001b[0mx\u001b[0m \u001b[0;34m=\u001b[0m \u001b[0m_asarray_validated\u001b[0m\u001b[0;34m(\u001b[0m\u001b[0mx\u001b[0m\u001b[0;34m,\u001b[0m \u001b[0mcheck_finite\u001b[0m\u001b[0;34m=\u001b[0m\u001b[0;32mFalse\u001b[0m\u001b[0;34m,\u001b[0m \u001b[0mas_inexact\u001b[0m\u001b[0;34m=\u001b[0m\u001b[0;32mTrue\u001b[0m\u001b[0;34m)\u001b[0m\u001b[0;34m\u001b[0m\u001b[0;34m\u001b[0m\u001b[0m\n\u001b[0m\u001b[1;32m     85\u001b[0m         \u001b[0mx_shape\u001b[0m \u001b[0;34m=\u001b[0m \u001b[0mx\u001b[0m\u001b[0;34m.\u001b[0m\u001b[0mshape\u001b[0m\u001b[0;34m\u001b[0m\u001b[0;34m\u001b[0m\u001b[0m\n\u001b[1;32m     86\u001b[0m         \u001b[0;32mreturn\u001b[0m \u001b[0mx\u001b[0m\u001b[0;34m.\u001b[0m\u001b[0mravel\u001b[0m\u001b[0;34m(\u001b[0m\u001b[0;34m)\u001b[0m\u001b[0;34m,\u001b[0m \u001b[0mx_shape\u001b[0m\u001b[0;34m\u001b[0m\u001b[0;34m\u001b[0m\u001b[0m\n",
      "\u001b[0;32m~/Documents/Energy_storage/PyBaMM/.tox/dev/lib/python3.8/site-packages/scipy/_lib/_util.py\u001b[0m in \u001b[0;36m_asarray_validated\u001b[0;34m(a, check_finite, sparse_ok, objects_ok, mask_ok, as_inexact)\u001b[0m\n\u001b[1;32m    270\u001b[0m             \u001b[0;32mraise\u001b[0m \u001b[0mValueError\u001b[0m\u001b[0;34m(\u001b[0m\u001b[0;34m'masked arrays are not supported'\u001b[0m\u001b[0;34m)\u001b[0m\u001b[0;34m\u001b[0m\u001b[0;34m\u001b[0m\u001b[0m\n\u001b[1;32m    271\u001b[0m     \u001b[0mtoarray\u001b[0m \u001b[0;34m=\u001b[0m \u001b[0mnp\u001b[0m\u001b[0;34m.\u001b[0m\u001b[0masarray_chkfinite\u001b[0m \u001b[0;32mif\u001b[0m \u001b[0mcheck_finite\u001b[0m \u001b[0;32melse\u001b[0m \u001b[0mnp\u001b[0m\u001b[0;34m.\u001b[0m\u001b[0masarray\u001b[0m\u001b[0;34m\u001b[0m\u001b[0;34m\u001b[0m\u001b[0m\n\u001b[0;32m--> 272\u001b[0;31m     \u001b[0ma\u001b[0m \u001b[0;34m=\u001b[0m \u001b[0mtoarray\u001b[0m\u001b[0;34m(\u001b[0m\u001b[0ma\u001b[0m\u001b[0;34m)\u001b[0m\u001b[0;34m\u001b[0m\u001b[0;34m\u001b[0m\u001b[0m\n\u001b[0m\u001b[1;32m    273\u001b[0m     \u001b[0;32mif\u001b[0m \u001b[0;32mnot\u001b[0m \u001b[0mobjects_ok\u001b[0m\u001b[0;34m:\u001b[0m\u001b[0;34m\u001b[0m\u001b[0;34m\u001b[0m\u001b[0m\n\u001b[1;32m    274\u001b[0m         \u001b[0;32mif\u001b[0m \u001b[0ma\u001b[0m\u001b[0;34m.\u001b[0m\u001b[0mdtype\u001b[0m \u001b[0;32mis\u001b[0m \u001b[0mnp\u001b[0m\u001b[0;34m.\u001b[0m\u001b[0mdtype\u001b[0m\u001b[0;34m(\u001b[0m\u001b[0;34m'O'\u001b[0m\u001b[0;34m)\u001b[0m\u001b[0;34m:\u001b[0m\u001b[0;34m\u001b[0m\u001b[0;34m\u001b[0m\u001b[0m\n",
      "\u001b[0;32m~/Documents/Energy_storage/PyBaMM/.tox/dev/lib/python3.8/site-packages/numpy/core/_asarray.py\u001b[0m in \u001b[0;36masarray\u001b[0;34m(a, dtype, order)\u001b[0m\n\u001b[1;32m     81\u001b[0m \u001b[0;34m\u001b[0m\u001b[0m\n\u001b[1;32m     82\u001b[0m     \"\"\"\n\u001b[0;32m---> 83\u001b[0;31m     \u001b[0;32mreturn\u001b[0m \u001b[0marray\u001b[0m\u001b[0;34m(\u001b[0m\u001b[0ma\u001b[0m\u001b[0;34m,\u001b[0m \u001b[0mdtype\u001b[0m\u001b[0;34m,\u001b[0m \u001b[0mcopy\u001b[0m\u001b[0;34m=\u001b[0m\u001b[0;32mFalse\u001b[0m\u001b[0;34m,\u001b[0m \u001b[0morder\u001b[0m\u001b[0;34m=\u001b[0m\u001b[0morder\u001b[0m\u001b[0;34m)\u001b[0m\u001b[0;34m\u001b[0m\u001b[0;34m\u001b[0m\u001b[0m\n\u001b[0m\u001b[1;32m     84\u001b[0m \u001b[0;34m\u001b[0m\u001b[0m\n\u001b[1;32m     85\u001b[0m \u001b[0;34m\u001b[0m\u001b[0m\n",
      "\u001b[0;32m~/Documents/Energy_storage/PyBaMM/.tox/dev/lib/python3.8/site-packages/casadi/casadi.py\u001b[0m in \u001b[0;36m__array__\u001b[0;34m(self, *args, **kwargs)\u001b[0m\n\u001b[1;32m  10927\u001b[0m             \u001b[0;32mreturn\u001b[0m \u001b[0mself\u001b[0m\u001b[0;34m.\u001b[0m\u001b[0mfull\u001b[0m\u001b[0;34m(\u001b[0m\u001b[0;34m)\u001b[0m\u001b[0;34m\u001b[0m\u001b[0;34m\u001b[0m\u001b[0m\n\u001b[1;32m  10928\u001b[0m           \u001b[0;32mexcept\u001b[0m\u001b[0;34m:\u001b[0m\u001b[0;34m\u001b[0m\u001b[0;34m\u001b[0m\u001b[0m\n\u001b[0;32m> 10929\u001b[0;31m             raise Exception(\"Implicit conversion of symbolic CasADi type to numeric matrix not supported.\\n\"\n\u001b[0m\u001b[1;32m  10930\u001b[0m                        \u001b[0;34m+\u001b[0m \u001b[0;34m\"This may occur when you pass a CasADi object to a numpy function.\\n\"\u001b[0m\u001b[0;34m\u001b[0m\u001b[0;34m\u001b[0m\u001b[0m\n\u001b[1;32m  10931\u001b[0m                        + \"Use an equivalent CasADi function instead of that numpy function.\")\n",
      "\u001b[0;31mException\u001b[0m: Implicit conversion of symbolic CasADi type to numeric matrix not supported.\nThis may occur when you pass a CasADi object to a numpy function.\nUse an equivalent CasADi function instead of that numpy function."
     ]
    }
   ],
   "source": [
    "var = \"Negative current collector potential [V]\"\n",
    "comsol_var_fun = comsol_solution[var]\n",
    "dfn_var_fun = solutions[\"1+1D DFN\"][var]\n",
    "\n",
    "dfncc_var_fun = dfncc_vars[var]\n",
    "plot(\n",
    "    t_plot,\n",
    "    z_plot,\n",
    "    t_slices,\n",
    "    \"$\\phi^*_{\\mathrm{s,cn}}$\",\n",
    "    \"[V]\",\n",
    "    comsol_var_fun,\n",
    "    dfn_var_fun,\n",
    "    dfncc_var_fun,\n",
    "    param,\n",
    "    cmap=\"cividis\",\n",
    ")"
   ]
  },
  {
   "cell_type": "markdown",
   "metadata": {},
   "source": [
    "the positive current collector potential with respect to terminal voltage"
   ]
  },
  {
   "cell_type": "code",
   "execution_count": null,
   "metadata": {},
   "outputs": [],
   "source": [
    "var = \"Positive current collector potential [V]\"\n",
    "comsol_var = comsol_solution[var]\n",
    "V_comsol = comsol_solution[\"Terminal voltage [V]\"]\n",
    "\n",
    "\n",
    "def comsol_var_fun(t, z):\n",
    "    return comsol_var(t=t, z=z) - V_comsol(t=t)\n",
    "\n",
    "\n",
    "dfn_var = solutions[\"1+1D DFN\"][var]\n",
    "V = solutions[\"1+1D DFN\"][\"Terminal voltage [V]\"]\n",
    "\n",
    "\n",
    "def dfn_var_fun(t, z):\n",
    "    return dfn_var(t=t, z=z) - V(t=t)\n",
    "\n",
    "\n",
    "dfncc_var =  dfncc_vars[var]\n",
    "V_dfncc = dfncc_vars[\"Terminal voltage [V]\"]\n",
    "\n",
    "def dfncc_var_fun(t, z):\n",
    "    return dfncc_var(t=t, z=z) - V_dfncc(t)\n",
    "\n",
    "\n",
    "plot(\n",
    "    t_plot,\n",
    "    z_plot,\n",
    "    t_slices,\n",
    "    \"$\\phi^*_{\\mathrm{s,cp}} - V^*$\",\n",
    "    \"[V]\",\n",
    "    comsol_var_fun,\n",
    "    dfn_var_fun,\n",
    "    dfncc_var_fun,\n",
    "    param,\n",
    "    cmap=\"viridis\",\n",
    ")"
   ]
  },
  {
   "cell_type": "markdown",
   "metadata": {},
   "source": [
    "the through-cell current "
   ]
  },
  {
   "cell_type": "code",
   "execution_count": null,
   "metadata": {},
   "outputs": [],
   "source": [
    "var = \"Current collector current density [A.m-2]\"\n",
    "comsol_var_fun = comsol_solution[var]\n",
    "dfn_var_fun = solutions[\"1+1D DFN\"][var]\n",
    "\n",
    "I_av = solutions[\"Average DFN\"][var]\n",
    "\n",
    "\n",
    "def dfncc_var_fun(t, z):\n",
    "    \"In the DFNCC the current is just the average current\"\n",
    "    return np.transpose(np.repeat(I_av(t)[:, np.newaxis], len(z), axis=1))\n",
    "\n",
    "\n",
    "plot(\n",
    "    t_plot,\n",
    "    z_plot,\n",
    "    t_slices,\n",
    "    \"$\\mathcal{I}^*$\",\n",
    "    \"[A/m${}^2$]\",\n",
    "    comsol_var_fun,\n",
    "    dfn_var_fun,\n",
    "    dfncc_var_fun,\n",
    "    param,\n",
    "    cmap=\"plasma\",\n",
    ")"
   ]
  },
  {
   "cell_type": "markdown",
   "metadata": {},
   "source": [
    "and the temperature with respect to reference temperature"
   ]
  },
  {
   "cell_type": "code",
   "execution_count": null,
   "metadata": {
    "scrolled": true
   },
   "outputs": [],
   "source": [
    "T_ref = param.evaluate(dfn.param.T_ref)\n",
    "var = \"X-averaged cell temperature [K]\"\n",
    "comsol_var = comsol_solution[var]\n",
    "\n",
    "\n",
    "def comsol_var_fun(t, z):\n",
    "    return comsol_var(t=t, z=z) - T_ref\n",
    "\n",
    "\n",
    "dfn_var = solutions[\"1+1D DFN\"][var]\n",
    "\n",
    "\n",
    "def dfn_var_fun(t, z):\n",
    "    return dfn_var(t=t, z=z) - T_ref\n",
    "\n",
    "\n",
    "T_av = solutions[\"Average DFN\"][var]\n",
    "\n",
    "\n",
    "def dfncc_var_fun(t, z):\n",
    "    \"In the DFNCC the temperature is just the average temperature\"\n",
    "    return np.transpose(np.repeat(T_av(t)[:, np.newaxis], len(z), axis=1)) - T_ref\n",
    "\n",
    "\n",
    "plot(\n",
    "    t_plot,\n",
    "    z_plot,\n",
    "    t_slices,\n",
    "    \"$\\\\bar{T}^* - \\\\bar{T}_0^*$\",\n",
    "    \"[K]\",\n",
    "    comsol_var_fun,\n",
    "    dfn_var_fun,\n",
    "    dfncc_var_fun,\n",
    "    param,\n",
    "    cmap=\"inferno\",\n",
    ")"
   ]
  },
  {
   "cell_type": "markdown",
   "metadata": {},
   "source": [
    "We see that the electrical conductivity of the current collectors is sufficiently\n",
    "high that the potentials remain fairly uniform in space, and both the 1+1D DFN and DFNCC models are able to accurately capture the potential distribution in the current collectors.\n",
    "\n",
    "\n",
    "In the plot of the current we see that positioning both tabs at the top of the cell means that for most of the simulation the current preferentially travels through the upper part of the cell. Eventually, as the cell continues to discharge, this part becomes more (de)lithiated until the resultant local increase in through-cell resistance is sufficient for it to become preferential for the current to travel further along the current collectors and through the lower part of the cell. This behaviour is well captured by the 1+1D model. In the DFNCC formulation the through-cell current density is assumed uniform,\n",
    "so the greatest error is found at the ends of the current collectors where the current density deviates most from its average.\n",
    "\n",
    "For the parameters used in this example we find that the temperature exhibits a relatively weak variation along the length of the current collectors.  "
   ]
  }
 ],
 "metadata": {
  "kernelspec": {
   "display_name": "Python 3",
   "language": "python",
   "name": "python3"
  },
  "language_info": {
   "codemirror_mode": {
    "name": "ipython",
    "version": 3
   },
   "file_extension": ".py",
   "mimetype": "text/x-python",
   "name": "python",
   "nbconvert_exporter": "python",
   "pygments_lexer": "ipython3",
   "version": "3.8.6"
  },
  "toc": {
   "base_numbering": 1,
   "nav_menu": {},
   "number_sections": true,
   "sideBar": true,
   "skip_h1_title": false,
   "title_cell": "Table of Contents",
   "title_sidebar": "Contents",
   "toc_cell": false,
   "toc_position": {},
   "toc_section_display": true,
   "toc_window_display": true
  }
 },
 "nbformat": 4,
 "nbformat_minor": 2
}
