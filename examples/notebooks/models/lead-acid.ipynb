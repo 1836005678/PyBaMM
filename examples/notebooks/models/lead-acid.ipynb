{
 "cells": [
  {
   "cell_type": "markdown",
   "metadata": {},
   "source": [
    "# Lead-Acid Models"
   ]
  },
  {
   "cell_type": "markdown",
   "metadata": {},
   "source": [
    "We compare a standard porous-electrode model for lead-acid batteries with two asymptotic reductions. For a more in-depth introduction to PyBaMM models, see the [SPM notebook](./SPM.ipynb). Further details on the models can be found in [[1]](#ref)\n",
    "\n",
    "<a name=\"ref\">[1]</a> Sulzer, Valentin, S. Jon Chapman, Colin P. Please, David A. Howey, and Charles W. Monroe. \"Faster Lead-Acid Battery Simulations from Porous-Electrode Theory: II. Asymptotic Analysis.\" arXiv preprint arXiv:1902.01774 (2019)."
   ]
  },
  {
   "cell_type": "code",
   "execution_count": 1,
   "metadata": {},
   "outputs": [],
   "source": [
    "import pybamm\n",
    "import numpy as np\n",
    "import os\n",
    "import matplotlib.pyplot as plt\n",
    "os.chdir(pybamm.__path__[0]+'/..')"
   ]
  },
  {
   "cell_type": "markdown",
   "metadata": {},
   "source": [
    "### \"Full\" model\n",
    "\n",
    "#### Electrolyte Concentration\n",
    "\n",
    "$$\n",
    "    \\frac{\\partial }{\\partial t}\\left(\\epsilon c\\right) = -\\frac{\\partial N}{\\partial x} + sj, \\\\ \n",
    "    N = -\\frac{\\epsilon^b  D(c)}{\\mathcal{C}_\\text{e}}  \\frac{\\partial c}{\\partial x}\\\\\n",
    "    N\\big|_{x=0}= N\\big|_{x=1}=0, \\\\ \n",
    "    c\\big|_{t=0} = 1\n",
    "$$ \n",
    "\n",
    "#### Porosity\n",
    "\n",
    "$$\n",
    "    \\frac{\\partial \\epsilon}{\\partial t} = -\\beta^\\text{surf}j, \\\\  \n",
    "    \\epsilon\\big|_{t=0} = \\epsilon^0\n",
    "$$ \n",
    "\n",
    "#### Electrolyte Current \n",
    "\n",
    "$$\n",
    "    \\frac{\\partial i_{\\text{e}}}{\\partial x} = j, \\\\\n",
    "    \\mathcal{C}_\\text{e} i_{\\text{e}} = \\epsilon_k^b \\kappa(c) \n",
    "        \\left( \\chi \\frac{\\partial}{\\partial x}\\log(c) \n",
    "        - \\frac{\\partial\\phi_{\\text{e}}}{\\partial x}\\right)\\\\\n",
    "    i_{\\text{e}}\\big|_{x=0}= i_{\\text{e}}\\big|_{x=1}=0,\n",
    "$$\n",
    "\n",
    "#### Electrode Current \n",
    "\n",
    "$$\n",
    "    \\frac{\\partial i_{\\text{s}}}{\\partial x} = -j,\\\\\n",
    "    i_{\\text{s}} = -\\sigma\\frac{\\partial\\phi_{\\text{s}}}{\\partial x},\\\\\n",
    "    \\phi_{\\text{s}}\\big|_{x=0}\n",
    "        = i_{\\text{s}}\\big|_{x=l_\\text{n}} \n",
    "        = i_{\\text{s}}\\big|_{x=1-l_\\text{p}} = 0, \\\\\n",
    "    i_{\\text{s}}\\big|_{x=1}=\\mathcal{I},\n",
    "$$\n",
    "\n",
    "\n",
    "#### interfacial current density\n",
    "\n",
    "$$\n",
    "j = \\begin{cases}\n",
    "    2j_0(c) \\sinh\\left(\\eta\\right), \\quad &0 < x < l_\\text{n} \\\\\n",
    "    0, \\quad &l_\\text{n} < x < 1-l_\\text{p} \\\\\n",
    "    2j_0(c) \\sinh\\left(\\eta\\right), \\quad &1-l_\\text{p} < x < 1 \n",
    "\\end{cases}\n",
    "\\\\\n",
    "\\eta = \\phi_{\\text{s}} - \\phi_\\text{e} - U(c),\n",
    "$$\n",
    "\n",
    "\n",
    "This model is implemented in PyBaMM as the `NewmanTiedemann` model "
   ]
  },
  {
   "cell_type": "code",
   "execution_count": 2,
   "metadata": {},
   "outputs": [],
   "source": [
    "full = pybamm.lead_acid.NewmanTiedemann()"
   ]
  },
  {
   "cell_type": "markdown",
   "metadata": {},
   "source": [
    "### \"Leading-order\" model \n",
    "\n",
    "$$\n",
    "    \\frac{\\mathrm{d} }{\\mathrm{d} t}\\left(\\epsilon c\\right) = (s_\\text{n} - s_\\text{p})\\mathrm{I}, \\\\\n",
    "    \\frac{\\mathrm{d} \\epsilon}{\\mathrm{d} t} = -\\beta^\\text{surf}j, \\\\\n",
    "    j = \\begin{cases}\n",
    "        \\mathrm{I}/l_\\text{n}, \\quad &0 < x < l_\\text{n} \\\\\n",
    "        0, \\quad &l_\\text{n} < x < 1-l_\\text{p} \\\\\n",
    "        -\\mathrm{I}/l_\\text{p}, \\quad &1-l_\\text{p} < x < 1 \n",
    "    \\end{cases} \\\\\n",
    "    \\phi_\\text{e} = -U_\\text{n}(c) + \\sinh^{-1}\\left(\\frac{\\mathrm{I}}{2l_\\text{n}j_{0\\text{n}}(c)}\\right) \\\\\n",
    "    V = -\\phi_\\text{e} + U_\\text{p}(c) - \\sinh^{-1}\\left(\\frac{\\mathrm{I}}{2l_\\text{p}j_{0\\text{p}}(c)}\\right) \\\\\n",
    "$$\n",
    "\n",
    "This model is implemented in PyBaMM as `LOQS` (leading-order quasi-static)"
   ]
  },
  {
   "cell_type": "code",
   "execution_count": 3,
   "metadata": {},
   "outputs": [],
   "source": [
    "loqs = pybamm.lead_acid.LOQS()"
   ]
  },
  {
   "cell_type": "markdown",
   "metadata": {},
   "source": [
    "### \"Composite\" model\n",
    "\n",
    "#### Electrolyte Concentration\n",
    "\n",
    "$$\n",
    "    \\frac{\\partial }{\\partial t}\\left(\\epsilon c\\right) = -\\frac{\\partial N}{\\partial x} + sj, \\\\ \n",
    "    N = -\\frac{\\epsilon^b  D(c)}{\\mathcal{C}_\\text{e}}  \\frac{\\partial c}{\\partial x}\\\\\n",
    "    N\\big|_{x=0}= N\\big|_{x=1}=0, \\\\ \n",
    "    c\\big|_{t=0} = 1\n",
    "$$ \n",
    "\n",
    "#### Porosity\n",
    "\n",
    "$$\n",
    "    \\frac{\\partial \\epsilon}{\\partial t} = -\\beta^\\text{surf}j, \\\\  \n",
    "    \\epsilon\\big|_{t=0} = \\epsilon^0\n",
    "$$ \n",
    "\n",
    "#### Interfacial current density\n",
    "\n",
    "$$\n",
    "j = \\begin{cases}\n",
    "        \\mathrm{I}/l_\\text{n}, \\quad &0 < x < l_\\text{n} \\\\\n",
    "        0, \\quad &l_\\text{n} < x < 1-l_\\text{p} \\\\\n",
    "        -\\mathrm{I}/l_\\text{p}, \\quad &1-l_\\text{p} < x < 1 \n",
    "    \\end{cases} \\\\\n",
    "$$\n",
    "\n",
    "#### Voltage \n",
    "\n",
    "$$ \n",
    "V = U_{\\text{eq}} + \\eta_r + \\eta_c + \\Delta\\Phi_{\\text{Elec}} + \\Delta\\Phi_{\\text{Solid}}\n",
    "$$ \n",
    "where \n",
    "\\begin{align}\n",
    "    & U_{\\text{eq}} = U_p(\\bar{c}_p) - U_n(\\bar{c}_n), \\\\ \n",
    "     &\\eta_{r} = -\\sinh^{-1}\\left(\\frac{\\mathcal{I}}{2\\bar{j}_{0n} l_n}\\right)\n",
    "     -\\sinh^{-1}\\left(\\frac{\\mathcal{I}}{2\\bar{j}_{0p} l_p}\\right), \\\\\n",
    "     &\\eta_c =  \\mathcal{C}_e\\chi\\left(\\log(\\bar{c}_{p}) - \\log(\\bar{c}_{n})\\right), \\\\\n",
    "    &\\Delta \\Phi_{\\text{Elec}}= -\\frac{\\mathcal{C}_e \\mathcal{I}}{\\kappa(\\bar{c})}\\left(\\frac{l_n}{3\\epsilon_n^b} + \\frac{l_s}{\\epsilon_{s}^b} + \\frac{l_p}{3\\epsilon_p^b} \\right),\n",
    "     \\label{eqn:SPMe:electrolyte_ohmic_losses} \\\\\n",
    "     &\\Delta \\Phi_{\\text{Solid}} =  -\\frac{\\mathcal{I}}{3}\\left(\\frac{l_p}{\\sigma_p} + \\frac{l_n}{\\sigma_n} \\right), \n",
    "\\end{align} \n",
    "with \n",
    "\\begin{equation} \n",
    "    \\bar{\\cdot}_{\\text{n}} =  \\frac{1}{l_n}\\int_0^{l_n} \\cdot_{\\text{n}} \\, \\text{d}x, \\quad\n",
    "    \\bar{\\cdot}_{\\text{p}} =  \\frac{1}{l_p}\\int_{1-l_p}^{1} \\cdot_{\\text{p}} \\, \\text{d}x,\n",
    "\\end{equation}\n",
    "\n",
    "\n",
    "This model is implemented in PyBaMM as `Composite`\n",
    "\n"
   ]
  },
  {
   "cell_type": "code",
   "execution_count": 4,
   "metadata": {},
   "outputs": [],
   "source": [
    "composite = pybamm.lead_acid.Composite()"
   ]
  },
  {
   "cell_type": "markdown",
   "metadata": {},
   "source": [
    "## Solving the models"
   ]
  },
  {
   "cell_type": "markdown",
   "metadata": {},
   "source": [
    "We load process parameters for each model, using the same set of (default) parameters for all"
   ]
  },
  {
   "cell_type": "code",
   "execution_count": 5,
   "metadata": {},
   "outputs": [],
   "source": [
    "# load models\n",
    "models = [loqs, composite, full]\n",
    "\n",
    "# process parameters\n",
    "param = models[0].default_parameter_values\n",
    "for model in models:\n",
    "    param.process_model(model)"
   ]
  },
  {
   "cell_type": "markdown",
   "metadata": {},
   "source": [
    "Then, we discretise the models, using the default settings"
   ]
  },
  {
   "cell_type": "code",
   "execution_count": 6,
   "metadata": {},
   "outputs": [],
   "source": [
    "discs = {}\n",
    "for model in models:\n",
    "    # load and process default geometry\n",
    "    geometry = model.default_geometry\n",
    "    param.process_geometry(geometry)\n",
    "    \n",
    "    # discretise using default settings\n",
    "    mesh = pybamm.Mesh(geometry, model.default_submesh_types, model.default_var_pts)\n",
    "    disc = pybamm.Discretisation(mesh, model.default_spatial_methods)\n",
    "    disc.process_model(model)\n",
    "    discs[model] = disc"
   ]
  },
  {
   "cell_type": "markdown",
   "metadata": {},
   "source": [
    "Finally, we solve each model using its own individual solver"
   ]
  },
  {
   "cell_type": "code",
   "execution_count": 7,
   "metadata": {},
   "outputs": [
    {
     "name": "stdout",
     "output_type": "stream",
     "text": [
      "Solved the LOQS model in 0.027 seconds\n",
      "Solved the Composite model in 0.260 seconds\n",
      "Solved the Newman-Tiedemann model in 13.203 seconds\n"
     ]
    }
   ],
   "source": [
    "timer = pybamm.Timer()\n",
    "solvers = {}\n",
    "t_eval = np.linspace(0, 1, 100)\n",
    "for model in models:\n",
    "    solver = model.default_solver\n",
    "    start = timer.time()\n",
    "    solver.solve(model, t_eval)\n",
    "    end = timer.time()\n",
    "    print(\"Solved the {} in {:.3f} seconds\".format(model.name, end-start))\n",
    "    solvers[model] = solver"
   ]
  },
  {
   "cell_type": "markdown",
   "metadata": {},
   "source": [
    "## Results"
   ]
  },
  {
   "cell_type": "markdown",
   "metadata": {},
   "source": [
    "To plot the results, we create `ProcessedVariable` objects, which can be evaluated at any time and position. For example, we can compare the voltages:"
   ]
  },
  {
   "cell_type": "code",
   "execution_count": 13,
   "metadata": {},
   "outputs": [
    {
     "data": {
      "image/png": "[encoded data removed]",
      "text/plain": [
       "<Figure size 432x288 with 1 Axes>"
      ]
     },
     "metadata": {
      "needs_background": "light"
     },
     "output_type": "display_data"
    }
   ],
   "source": [
    "%matplotlib inline\n",
    "for model in models:\n",
    "    t, y = solvers[model].t, solvers[model].y\n",
    "    time = pybamm.ProcessedVariable(model.variables[\"Time [h]\"], t, y)(t)\n",
    "    voltage = pybamm.ProcessedVariable(model.variables[\"Terminal voltage [V]\"], t, y)\n",
    "    plt.plot(time, voltage(t) * 6, lw=2, label=model.name)\n",
    "plt.xlabel(\"Time [h]\", fontsize=15)\n",
    "plt.ylabel(\"Terminal voltage [V]\", fontsize=15)\n",
    "plt.legend(fontsize=15)\n",
    "plt.show()"
   ]
  },
  {
   "cell_type": "markdown",
   "metadata": {},
   "source": [
    "Alternatively, using `QuickPlot`, we can compare the values of some variables"
   ]
  },
  {
   "cell_type": "code",
   "execution_count": 9,
   "metadata": {},
   "outputs": [
    {
     "data": {
      "application/vnd.jupyter.widget-view+json": {
       "model_id": "df24158a2f9a4ef2a511cb014ff68087",
       "version_major": 2,
       "version_minor": 0
      },
      "text/plain": [
       "interactive(children=(FloatSlider(value=0.0, description='t', max=22.836113990129277, step=0.05), Output()), _…"
      ]
     },
     "metadata": {},
     "output_type": "display_data"
    }
   ],
   "source": [
    "mesh = list(discs.values())[0].mesh\n",
    "quick_plot = pybamm.QuickPlot(models, mesh, list(solvers.values()))\n",
    "import ipywidgets as widgets\n",
    "widgets.interact(quick_plot.plot, t=widgets.FloatSlider(min=0,max=quick_plot.max_t,step=0.05,value=0));"
   ]
  },
  {
   "cell_type": "markdown",
   "metadata": {},
   "source": [
    "If we update the current, setting it to be 20 A, we observe a greater discrepancy between the full model and the reduced-order models."
   ]
  },
  {
   "cell_type": "code",
   "execution_count": 10,
   "metadata": {},
   "outputs": [
    {
     "data": {
      "application/vnd.jupyter.widget-view+json": {
       "model_id": "89b5df0343704be1ac49e659a794ad4b",
       "version_major": 2,
       "version_minor": 0
      },
      "text/plain": [
       "interactive(children=(FloatSlider(value=0.0, description='t', max=1.1418056995064636, step=0.05), Output()), _…"
      ]
     },
     "metadata": {},
     "output_type": "display_data"
    }
   ],
   "source": [
    "# update parameter values and solve again\n",
    "param.update({\"Typical current\": 20})\n",
    "for model in models:\n",
    "    param.update_model(model, discs[model])\n",
    "    solvers[model].solve(model, t_eval)\n",
    "\n",
    "# Plot\n",
    "quick_plot = pybamm.QuickPlot(models, mesh, list(solvers.values()))\n",
    "widgets.interact(quick_plot.plot, t=widgets.FloatSlider(min=0,max=quick_plot.max_t,step=0.05,value=0));"
   ]
  },
  {
   "cell_type": "code",
   "execution_count": null,
   "metadata": {},
   "outputs": [],
   "source": []
  }
 ],
 "metadata": {
  "kernelspec": {
   "display_name": "Python 3",
   "language": "python",
   "name": "python3"
  },
  "language_info": {
   "codemirror_mode": {
    "name": "ipython",
    "version": 3
   },
   "file_extension": ".py",
   "mimetype": "text/x-python",
   "name": "python",
   "nbconvert_exporter": "python",
   "pygments_lexer": "ipython3",
   "version": "3.6.7"
  }
 },
 "nbformat": 4,
 "nbformat_minor": 2
}
