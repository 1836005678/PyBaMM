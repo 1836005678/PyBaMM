{
 "cells": [
  {
   "cell_type": "code",
   "execution_count": 1,
   "id": "eb5375ae",
   "metadata": {},
   "outputs": [
    {
     "name": "stdout",
     "output_type": "stream",
     "text": [
      "\u001b[33mWARNING: You are using pip version 22.0.4; however, version 22.1.2 is available.\n",
      "You should consider upgrading via the '/home/sokane/PyBaMM/env/bin/python3 -m pip install --upgrade pip' command.\u001b[0m\u001b[33m\n",
      "\u001b[0mNote: you may need to restart the kernel to use updated packages.\n"
     ]
    }
   ],
   "source": [
    "%pip install pybamm -q    # install PyBaMM if it is not installed\n",
    "import pybamm\n",
    "import matplotlib.pyplot as plt\n",
    "import numpy as np"
   ]
  },
  {
   "cell_type": "code",
   "execution_count": 2,
   "id": "05c30b49",
   "metadata": {},
   "outputs": [
    {
     "ename": "KeyError",
     "evalue": "'Negative electrode roughness ratio'",
     "output_type": "error",
     "traceback": [
      "\u001b[0;31m---------------------------------------------------------------------------\u001b[0m",
      "\u001b[0;31mKeyError\u001b[0m                                  Traceback (most recent call last)",
      "Input \u001b[0;32mIn [2]\u001b[0m, in \u001b[0;36m<module>\u001b[0;34m\u001b[0m\n\u001b[1;32m      1\u001b[0m parameter_values \u001b[38;5;241m=\u001b[39m pybamm\u001b[38;5;241m.\u001b[39mParameterValues(\u001b[38;5;124m\"\u001b[39m\u001b[38;5;124mAi2020\u001b[39m\u001b[38;5;124m\"\u001b[39m)\n\u001b[0;32m----> 2\u001b[0m model1 \u001b[38;5;241m=\u001b[39m \u001b[43mpybamm\u001b[49m\u001b[38;5;241;43m.\u001b[39;49m\u001b[43mlithium_ion\u001b[49m\u001b[38;5;241;43m.\u001b[39;49m\u001b[43mDFN\u001b[49m\u001b[43m(\u001b[49m\u001b[43m{\u001b[49m\u001b[38;5;124;43m\"\u001b[39;49m\u001b[38;5;124;43mSEI\u001b[39;49m\u001b[38;5;124;43m\"\u001b[39;49m\u001b[43m:\u001b[49m\u001b[43m \u001b[49m\u001b[38;5;124;43m\"\u001b[39;49m\u001b[38;5;124;43msolvent-diffusion limited\u001b[39;49m\u001b[38;5;124;43m\"\u001b[39;49m\u001b[43m}\u001b[49m\u001b[43m)\u001b[49m\n\u001b[1;32m      3\u001b[0m model2 \u001b[38;5;241m=\u001b[39m pybamm\u001b[38;5;241m.\u001b[39mlithium_ion\u001b[38;5;241m.\u001b[39mDFN({\n\u001b[1;32m      4\u001b[0m     \u001b[38;5;124m\"\u001b[39m\u001b[38;5;124mparticle mechanics\u001b[39m\u001b[38;5;124m\"\u001b[39m: \u001b[38;5;124m\"\u001b[39m\u001b[38;5;124mswelling and cracking\u001b[39m\u001b[38;5;124m\"\u001b[39m,\n\u001b[1;32m      5\u001b[0m     \u001b[38;5;124m\"\u001b[39m\u001b[38;5;124mSEI\u001b[39m\u001b[38;5;124m\"\u001b[39m: \u001b[38;5;124m\"\u001b[39m\u001b[38;5;124msolvent-diffusion limited\u001b[39m\u001b[38;5;124m\"\u001b[39m,\n\u001b[1;32m      6\u001b[0m     \u001b[38;5;124m\"\u001b[39m\u001b[38;5;124mSEI on cracks\u001b[39m\u001b[38;5;124m\"\u001b[39m: \u001b[38;5;124m\"\u001b[39m\u001b[38;5;124mtrue\u001b[39m\u001b[38;5;124m\"\u001b[39m,\n\u001b[1;32m      7\u001b[0m })\n\u001b[1;32m      8\u001b[0m experiment \u001b[38;5;241m=\u001b[39m pybamm\u001b[38;5;241m.\u001b[39mExperiment([\u001b[38;5;124m\"\u001b[39m\u001b[38;5;124mDischarge at 1C until 3 V\u001b[39m\u001b[38;5;124m\"\u001b[39m])\n",
      "File \u001b[0;32m~/PyBaMM/pybamm/models/full_battery_models/lithium_ion/dfn.py:66\u001b[0m, in \u001b[0;36mDFN.__init__\u001b[0;34m(self, options, name, build)\u001b[0m\n\u001b[1;32m     63\u001b[0m     \u001b[38;5;28mself\u001b[39m\u001b[38;5;241m.\u001b[39mset_li_metal_counter_electrode_submodels()\n\u001b[1;32m     65\u001b[0m \u001b[38;5;28;01mif\u001b[39;00m build:\n\u001b[0;32m---> 66\u001b[0m     \u001b[38;5;28;43mself\u001b[39;49m\u001b[38;5;241;43m.\u001b[39;49m\u001b[43mbuild_model\u001b[49m\u001b[43m(\u001b[49m\u001b[43m)\u001b[49m\n\u001b[1;32m     68\u001b[0m pybamm\u001b[38;5;241m.\u001b[39mcitations\u001b[38;5;241m.\u001b[39mregister(\u001b[38;5;124m\"\u001b[39m\u001b[38;5;124mDoyle1993\u001b[39m\u001b[38;5;124m\"\u001b[39m)\n",
      "File \u001b[0;32m~/PyBaMM/pybamm/models/full_battery_models/base_battery_model.py:863\u001b[0m, in \u001b[0;36mBaseBatteryModel.build_model\u001b[0;34m(self)\u001b[0m\n\u001b[1;32m    860\u001b[0m pybamm\u001b[38;5;241m.\u001b[39mlogger\u001b[38;5;241m.\u001b[39minfo(\u001b[38;5;124m\"\u001b[39m\u001b[38;5;124mStart building \u001b[39m\u001b[38;5;132;01m{}\u001b[39;00m\u001b[38;5;124m\"\u001b[39m\u001b[38;5;241m.\u001b[39mformat(\u001b[38;5;28mself\u001b[39m\u001b[38;5;241m.\u001b[39mname))\n\u001b[1;32m    862\u001b[0m \u001b[38;5;28;01mif\u001b[39;00m \u001b[38;5;28mself\u001b[39m\u001b[38;5;241m.\u001b[39m_built_fundamental_and_external \u001b[38;5;129;01mis\u001b[39;00m \u001b[38;5;28;01mFalse\u001b[39;00m:\n\u001b[0;32m--> 863\u001b[0m     \u001b[38;5;28;43mself\u001b[39;49m\u001b[38;5;241;43m.\u001b[39;49m\u001b[43mbuild_fundamental_and_external\u001b[49m\u001b[43m(\u001b[49m\u001b[43m)\u001b[49m\n\u001b[1;32m    865\u001b[0m \u001b[38;5;28mself\u001b[39m\u001b[38;5;241m.\u001b[39mbuild_coupled_variables()\n\u001b[1;32m    867\u001b[0m \u001b[38;5;28mself\u001b[39m\u001b[38;5;241m.\u001b[39mbuild_model_equations()\n",
      "File \u001b[0;32m~/PyBaMM/pybamm/models/full_battery_models/base_battery_model.py:751\u001b[0m, in \u001b[0;36mBaseBatteryModel.build_fundamental_and_external\u001b[0;34m(self)\u001b[0m\n\u001b[1;32m    745\u001b[0m \u001b[38;5;28;01mfor\u001b[39;00m submodel_name, submodel \u001b[38;5;129;01min\u001b[39;00m \u001b[38;5;28mself\u001b[39m\u001b[38;5;241m.\u001b[39msubmodels\u001b[38;5;241m.\u001b[39mitems():\n\u001b[1;32m    746\u001b[0m     pybamm\u001b[38;5;241m.\u001b[39mlogger\u001b[38;5;241m.\u001b[39mdebug(\n\u001b[1;32m    747\u001b[0m         \u001b[38;5;124m\"\u001b[39m\u001b[38;5;124mGetting fundamental variables for \u001b[39m\u001b[38;5;132;01m{}\u001b[39;00m\u001b[38;5;124m submodel (\u001b[39m\u001b[38;5;132;01m{}\u001b[39;00m\u001b[38;5;124m)\u001b[39m\u001b[38;5;124m\"\u001b[39m\u001b[38;5;241m.\u001b[39mformat(\n\u001b[1;32m    748\u001b[0m             submodel_name, \u001b[38;5;28mself\u001b[39m\u001b[38;5;241m.\u001b[39mname\n\u001b[1;32m    749\u001b[0m         )\n\u001b[1;32m    750\u001b[0m     )\n\u001b[0;32m--> 751\u001b[0m     \u001b[38;5;28mself\u001b[39m\u001b[38;5;241m.\u001b[39mvariables\u001b[38;5;241m.\u001b[39mupdate(\u001b[43msubmodel\u001b[49m\u001b[38;5;241;43m.\u001b[39;49m\u001b[43mget_fundamental_variables\u001b[49m\u001b[43m(\u001b[49m\u001b[43m)\u001b[49m)\n\u001b[1;32m    753\u001b[0m \u001b[38;5;66;03m# Set the submodels that are external\u001b[39;00m\n\u001b[1;32m    754\u001b[0m \u001b[38;5;28;01mfor\u001b[39;00m sub \u001b[38;5;129;01min\u001b[39;00m \u001b[38;5;28mself\u001b[39m\u001b[38;5;241m.\u001b[39moptions[\u001b[38;5;124m\"\u001b[39m\u001b[38;5;124mexternal submodels\u001b[39m\u001b[38;5;124m\"\u001b[39m]:\n",
      "File \u001b[0;32m~/PyBaMM/pybamm/models/submodels/interface/sei/no_sei.py:37\u001b[0m, in \u001b[0;36mNoSEI.get_fundamental_variables\u001b[0;34m(self)\u001b[0m\n\u001b[1;32m     33\u001b[0m     zero \u001b[38;5;241m=\u001b[39m pybamm\u001b[38;5;241m.\u001b[39mFullBroadcast(\n\u001b[1;32m     34\u001b[0m         pybamm\u001b[38;5;241m.\u001b[39mScalar(\u001b[38;5;241m0\u001b[39m), \u001b[38;5;124m\"\u001b[39m\u001b[38;5;124mnegative electrode\u001b[39m\u001b[38;5;124m\"\u001b[39m, \u001b[38;5;124m\"\u001b[39m\u001b[38;5;124mcurrent collector\u001b[39m\u001b[38;5;124m\"\u001b[39m\n\u001b[1;32m     35\u001b[0m     )\n\u001b[1;32m     36\u001b[0m variables \u001b[38;5;241m=\u001b[39m \u001b[38;5;28mself\u001b[39m\u001b[38;5;241m.\u001b[39m_get_standard_thickness_variables(zero, zero)\n\u001b[0;32m---> 37\u001b[0m variables\u001b[38;5;241m.\u001b[39mupdate(\u001b[38;5;28;43mself\u001b[39;49m\u001b[38;5;241;43m.\u001b[39;49m\u001b[43m_get_standard_concentration_variables\u001b[49m\u001b[43m(\u001b[49m\u001b[43mvariables\u001b[49m\u001b[43m)\u001b[49m)\n\u001b[1;32m     38\u001b[0m variables\u001b[38;5;241m.\u001b[39mupdate(\u001b[38;5;28mself\u001b[39m\u001b[38;5;241m.\u001b[39m_get_standard_reaction_variables(zero, zero))\n\u001b[1;32m     39\u001b[0m \u001b[38;5;28;01mreturn\u001b[39;00m variables\n",
      "File \u001b[0;32m~/PyBaMM/pybamm/models/submodels/interface/sei/base_sei.py:230\u001b[0m, in \u001b[0;36mBaseModel._get_standard_concentration_variables\u001b[0;34m(self, variables)\u001b[0m\n\u001b[1;32m    228\u001b[0m L_inner_cr \u001b[38;5;241m=\u001b[39m variables[\u001b[38;5;124m\"\u001b[39m\u001b[38;5;124mInner SEI on cracks thickness\u001b[39m\u001b[38;5;124m\"\u001b[39m]\n\u001b[1;32m    229\u001b[0m L_outer_cr \u001b[38;5;241m=\u001b[39m variables[\u001b[38;5;124m\"\u001b[39m\u001b[38;5;124mOuter SEI on cracks thickness\u001b[39m\u001b[38;5;124m\"\u001b[39m]\n\u001b[0;32m--> 230\u001b[0m roughness \u001b[38;5;241m=\u001b[39m \u001b[43mvariables\u001b[49m\u001b[43m[\u001b[49m\u001b[38;5;28;43mself\u001b[39;49m\u001b[38;5;241;43m.\u001b[39;49m\u001b[43mdomain\u001b[49m\u001b[43m \u001b[49m\u001b[38;5;241;43m+\u001b[39;49m\u001b[43m \u001b[49m\u001b[38;5;124;43m\"\u001b[39;49m\u001b[38;5;124;43m electrode roughness ratio\u001b[39;49m\u001b[38;5;124;43m\"\u001b[39;49m\u001b[43m]\u001b[49m\n\u001b[1;32m    232\u001b[0m n_inner_cr \u001b[38;5;241m=\u001b[39m L_inner_cr \u001b[38;5;241m*\u001b[39m (roughness \u001b[38;5;241m-\u001b[39m \u001b[38;5;241m1\u001b[39m)  \u001b[38;5;66;03m# inner SEI cracks concentration\u001b[39;00m\n\u001b[1;32m    233\u001b[0m n_outer_cr \u001b[38;5;241m=\u001b[39m L_outer_cr \u001b[38;5;241m*\u001b[39m (roughness \u001b[38;5;241m-\u001b[39m \u001b[38;5;241m1\u001b[39m)  \u001b[38;5;66;03m# outer SEI cracks concentration\u001b[39;00m\n",
      "\u001b[0;31mKeyError\u001b[0m: 'Negative electrode roughness ratio'"
     ]
    }
   ],
   "source": [
    "parameter_values = pybamm.ParameterValues(\"Ai2020\")\n",
    "model1 = pybamm.lithium_ion.DFN({\"SEI\": \"solvent-diffusion limited\"})\n",
    "model2 = pybamm.lithium_ion.DFN({\n",
    "    \"particle mechanics\": \"swelling and cracking\",\n",
    "    \"SEI\": \"solvent-diffusion limited\",\n",
    "    \"SEI on cracks\": \"true\",\n",
    "})\n",
    "experiment = pybamm.Experiment([\"Discharge at 1C until 3 V\"])\n",
    "sim1 = pybamm.Simulation(model1, parameter_values=parameter_values, experiment=experiment)\n",
    "sol1 = sim1.solve()\n",
    "sim2 = pybamm.Simulation(model2, parameter_values=parameter_values, experiment=experiment)\n",
    "sol2 = sim2.solve()"
   ]
  },
  {
   "cell_type": "code",
   "execution_count": null,
   "id": "c3884817",
   "metadata": {},
   "outputs": [],
   "source": []
  }
 ],
 "metadata": {
  "kernelspec": {
   "display_name": "Python 3 (ipykernel)",
   "language": "python",
   "name": "python3"
  },
  "language_info": {
   "codemirror_mode": {
    "name": "ipython",
    "version": 3
   },
   "file_extension": ".py",
   "mimetype": "text/x-python",
   "name": "python",
   "nbconvert_exporter": "python",
   "pygments_lexer": "ipython3",
   "version": "3.8.10"
  }
 },
 "nbformat": 4,
 "nbformat_minor": 5
}
