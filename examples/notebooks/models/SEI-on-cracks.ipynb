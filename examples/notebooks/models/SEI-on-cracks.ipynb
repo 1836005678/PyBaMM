{
 "cells": [
  {
   "cell_type": "code",
   "execution_count": 1,
   "id": "eb5375ae",
   "metadata": {},
   "outputs": [
    {
     "name": "stdout",
     "output_type": "stream",
     "text": [
      "\u001b[33mWARNING: You are using pip version 22.0.4; however, version 22.1.2 is available.\n",
      "You should consider upgrading via the '/home/sokane/PyBaMM/env/bin/python3 -m pip install --upgrade pip' command.\u001b[0m\u001b[33m\n",
      "\u001b[0mNote: you may need to restart the kernel to use updated packages.\n"
     ]
    }
   ],
   "source": [
    "%pip install pybamm -q    # install PyBaMM if it is not installed\n",
    "import pybamm\n",
    "import matplotlib.pyplot as plt\n",
    "import numpy as np"
   ]
  },
  {
   "cell_type": "code",
   "execution_count": 2,
   "id": "05c30b49",
   "metadata": {},
   "outputs": [
    {
     "name": "stderr",
     "output_type": "stream",
     "text": [
      "At t = 0.00698581, , mxstep steps taken before reaching tout.\n"
     ]
    },
    {
     "ename": "SolverError",
     "evalue": "Could not solve for summary variables, run `sim.solve(calc_esoh=False)` to skip this step",
     "output_type": "error",
     "traceback": [
      "\u001b[0;31m---------------------------------------------------------------------------\u001b[0m",
      "\u001b[0;31mSolverError\u001b[0m                               Traceback (most recent call last)",
      "File \u001b[0;32m~/PyBaMM/pybamm/solvers/solution.py:918\u001b[0m, in \u001b[0;36mget_cycle_summary_variables\u001b[0;34m(cycle_solution, esoh_sim)\u001b[0m\n\u001b[1;32m    917\u001b[0m \u001b[38;5;28;01mtry\u001b[39;00m:\n\u001b[0;32m--> 918\u001b[0m     esoh_sol \u001b[38;5;241m=\u001b[39m \u001b[43mesoh_sim\u001b[49m\u001b[38;5;241;43m.\u001b[39;49m\u001b[43msolve\u001b[49m\u001b[43m(\u001b[49m\u001b[43m[\u001b[49m\u001b[38;5;241;43m0\u001b[39;49m\u001b[43m]\u001b[49m\u001b[43m,\u001b[49m\u001b[43m \u001b[49m\u001b[43minputs\u001b[49m\u001b[38;5;241;43m=\u001b[39;49m\u001b[43minputs\u001b[49m\u001b[43m,\u001b[49m\u001b[43m \u001b[49m\u001b[43msolver\u001b[49m\u001b[38;5;241;43m=\u001b[39;49m\u001b[43msolver\u001b[49m\u001b[43m)\u001b[49m\n\u001b[1;32m    919\u001b[0m \u001b[38;5;28;01mexcept\u001b[39;00m pybamm\u001b[38;5;241m.\u001b[39mSolverError:  \u001b[38;5;66;03m# pragma: no cover\u001b[39;00m\n",
      "File \u001b[0;32m~/PyBaMM/pybamm/simulation.py:710\u001b[0m, in \u001b[0;36mSimulation.solve\u001b[0;34m(self, t_eval, solver, check_model, save_at_cycles, calc_esoh, starting_solution, initial_soc, callbacks, **kwargs)\u001b[0m\n\u001b[1;32m    696\u001b[0m                 warnings\u001b[38;5;241m.\u001b[39mwarn(\n\u001b[1;32m    697\u001b[0m                     \u001b[38;5;124;03m\"\"\"\u001b[39;00m\n\u001b[1;32m    698\u001b[0m \u001b[38;5;124;03m                    The largest timestep in t_eval ({}) is larger than\u001b[39;00m\n\u001b[0;32m   (...)\u001b[0m\n\u001b[1;32m    707\u001b[0m                     pybamm\u001b[38;5;241m.\u001b[39mSolverWarning,\n\u001b[1;32m    708\u001b[0m                 )\n\u001b[0;32m--> 710\u001b[0m     \u001b[38;5;28mself\u001b[39m\u001b[38;5;241m.\u001b[39m_solution \u001b[38;5;241m=\u001b[39m \u001b[43msolver\u001b[49m\u001b[38;5;241;43m.\u001b[39;49m\u001b[43msolve\u001b[49m\u001b[43m(\u001b[49m\u001b[38;5;28;43mself\u001b[39;49m\u001b[38;5;241;43m.\u001b[39;49m\u001b[43mbuilt_model\u001b[49m\u001b[43m,\u001b[49m\u001b[43m \u001b[49m\u001b[43mt_eval\u001b[49m\u001b[43m,\u001b[49m\u001b[43m \u001b[49m\u001b[38;5;241;43m*\u001b[39;49m\u001b[38;5;241;43m*\u001b[39;49m\u001b[43mkwargs\u001b[49m\u001b[43m)\u001b[49m\n\u001b[1;32m    712\u001b[0m \u001b[38;5;28;01melif\u001b[39;00m \u001b[38;5;28mself\u001b[39m\u001b[38;5;241m.\u001b[39moperating_mode \u001b[38;5;241m==\u001b[39m \u001b[38;5;124m\"\u001b[39m\u001b[38;5;124mwith experiment\u001b[39m\u001b[38;5;124m\"\u001b[39m:\n",
      "File \u001b[0;32m~/PyBaMM/pybamm/solvers/base_solver.py:1083\u001b[0m, in \u001b[0;36mBaseSolver.solve\u001b[0;34m(self, model, t_eval, external_variables, inputs, initial_conditions, nproc, calculate_sensitivities)\u001b[0m\n\u001b[1;32m   1082\u001b[0m \u001b[38;5;28;01mif\u001b[39;00m ninputs \u001b[38;5;241m==\u001b[39m \u001b[38;5;241m1\u001b[39m:\n\u001b[0;32m-> 1083\u001b[0m     new_solution \u001b[38;5;241m=\u001b[39m \u001b[38;5;28;43mself\u001b[39;49m\u001b[38;5;241;43m.\u001b[39;49m\u001b[43m_integrate\u001b[49m\u001b[43m(\u001b[49m\n\u001b[1;32m   1084\u001b[0m \u001b[43m        \u001b[49m\u001b[43mmodel\u001b[49m\u001b[43m,\u001b[49m\n\u001b[1;32m   1085\u001b[0m \u001b[43m        \u001b[49m\u001b[43mt_eval_dimensionless\u001b[49m\u001b[43m[\u001b[49m\u001b[43mstart_index\u001b[49m\u001b[43m:\u001b[49m\u001b[43mend_index\u001b[49m\u001b[43m]\u001b[49m\u001b[43m,\u001b[49m\n\u001b[1;32m   1086\u001b[0m \u001b[43m        \u001b[49m\u001b[43mext_and_inputs_list\u001b[49m\u001b[43m[\u001b[49m\u001b[38;5;241;43m0\u001b[39;49m\u001b[43m]\u001b[49m\u001b[43m,\u001b[49m\n\u001b[1;32m   1087\u001b[0m \u001b[43m    \u001b[49m\u001b[43m)\u001b[49m\n\u001b[1;32m   1088\u001b[0m     new_solutions \u001b[38;5;241m=\u001b[39m [new_solution]\n",
      "File \u001b[0;32m~/PyBaMM/pybamm/solvers/casadi_algebraic_solver.py:184\u001b[0m, in \u001b[0;36mCasadiAlgebraicSolver._integrate\u001b[0;34m(self, model, t_eval, inputs_dict)\u001b[0m\n\u001b[1;32m    183\u001b[0m \u001b[38;5;28;01melif\u001b[39;00m \u001b[38;5;129;01mnot\u001b[39;00m success:\n\u001b[0;32m--> 184\u001b[0m     \u001b[38;5;28;01mraise\u001b[39;00m pybamm\u001b[38;5;241m.\u001b[39mSolverError(\n\u001b[1;32m    185\u001b[0m         \u001b[38;5;124m\"\u001b[39m\u001b[38;5;124mCould not find acceptable solution: \u001b[39m\u001b[38;5;132;01m{}\u001b[39;00m\u001b[38;5;124m\"\u001b[39m\u001b[38;5;241m.\u001b[39mformat(message)\n\u001b[1;32m    186\u001b[0m     )\n\u001b[1;32m    187\u001b[0m \u001b[38;5;28;01melif\u001b[39;00m \u001b[38;5;28many\u001b[39m(np\u001b[38;5;241m.\u001b[39misnan(fun)):\n",
      "\u001b[0;31mSolverError\u001b[0m: Could not find acceptable solution: .../casadi/core/rootfinder.cpp:280: rootfinder process failed. Set 'error_on_fail' option to false to ignore this error.",
      "\nDuring handling of the above exception, another exception occurred:\n",
      "\u001b[0;31mSolverError\u001b[0m                               Traceback (most recent call last)",
      "Input \u001b[0;32mIn [2]\u001b[0m, in \u001b[0;36m<module>\u001b[0;34m\u001b[0m\n\u001b[1;32m      8\u001b[0m experiment \u001b[38;5;241m=\u001b[39m pybamm\u001b[38;5;241m.\u001b[39mExperiment([\u001b[38;5;124m\"\u001b[39m\u001b[38;5;124mDischarge at 1C until 3 V\u001b[39m\u001b[38;5;124m\"\u001b[39m])\n\u001b[1;32m      9\u001b[0m sim1 \u001b[38;5;241m=\u001b[39m pybamm\u001b[38;5;241m.\u001b[39mSimulation(model1, parameter_values\u001b[38;5;241m=\u001b[39mparameter_values, experiment\u001b[38;5;241m=\u001b[39mexperiment)\n\u001b[0;32m---> 10\u001b[0m sol1 \u001b[38;5;241m=\u001b[39m \u001b[43msim1\u001b[49m\u001b[38;5;241;43m.\u001b[39;49m\u001b[43msolve\u001b[49m\u001b[43m(\u001b[49m\u001b[43m)\u001b[49m\n\u001b[1;32m     11\u001b[0m sim2 \u001b[38;5;241m=\u001b[39m pybamm\u001b[38;5;241m.\u001b[39mSimulation(model2, parameter_values\u001b[38;5;241m=\u001b[39mparameter_values, experiment\u001b[38;5;241m=\u001b[39mexperiment)\n\u001b[1;32m     12\u001b[0m sol2 \u001b[38;5;241m=\u001b[39m sim2\u001b[38;5;241m.\u001b[39msolve()\n",
      "File \u001b[0;32m~/PyBaMM/pybamm/simulation.py:858\u001b[0m, in \u001b[0;36mSimulation.solve\u001b[0;34m(self, t_eval, solver, check_model, save_at_cycles, calc_esoh, starting_solution, initial_soc, callbacks, **kwargs)\u001b[0m\n\u001b[1;32m    856\u001b[0m \u001b[38;5;66;03m# At the final step of the inner loop we save the cycle\u001b[39;00m\n\u001b[1;32m    857\u001b[0m \u001b[38;5;28;01mif\u001b[39;00m \u001b[38;5;28mlen\u001b[39m(steps) \u001b[38;5;241m>\u001b[39m \u001b[38;5;241m0\u001b[39m:\n\u001b[0;32m--> 858\u001b[0m     cycle_sol \u001b[38;5;241m=\u001b[39m \u001b[43mpybamm\u001b[49m\u001b[38;5;241;43m.\u001b[39;49m\u001b[43mmake_cycle_solution\u001b[49m\u001b[43m(\u001b[49m\n\u001b[1;32m    859\u001b[0m \u001b[43m        \u001b[49m\u001b[43msteps\u001b[49m\u001b[43m,\u001b[49m\n\u001b[1;32m    860\u001b[0m \u001b[43m        \u001b[49m\u001b[43mesoh_sim\u001b[49m\u001b[43m,\u001b[49m\n\u001b[1;32m    861\u001b[0m \u001b[43m        \u001b[49m\u001b[43msave_this_cycle\u001b[49m\u001b[38;5;241;43m=\u001b[39;49m\u001b[43msave_this_cycle\u001b[49m\u001b[43m,\u001b[49m\n\u001b[1;32m    862\u001b[0m \u001b[43m    \u001b[49m\u001b[43m)\u001b[49m\n\u001b[1;32m    863\u001b[0m     cycle_solution, cycle_sum_vars, cycle_first_state \u001b[38;5;241m=\u001b[39m cycle_sol\n\u001b[1;32m    864\u001b[0m     all_cycle_solutions\u001b[38;5;241m.\u001b[39mappend(cycle_solution)\n",
      "File \u001b[0;32m~/PyBaMM/pybamm/solvers/solution.py:812\u001b[0m, in \u001b[0;36mmake_cycle_solution\u001b[0;34m(step_solutions, esoh_sim, save_this_cycle)\u001b[0m\n\u001b[1;32m    808\u001b[0m cycle_solution\u001b[38;5;241m.\u001b[39mset_up_time \u001b[38;5;241m=\u001b[39m sum_sols\u001b[38;5;241m.\u001b[39mset_up_time\n\u001b[1;32m    810\u001b[0m cycle_solution\u001b[38;5;241m.\u001b[39msteps \u001b[38;5;241m=\u001b[39m step_solutions\n\u001b[0;32m--> 812\u001b[0m cycle_summary_variables \u001b[38;5;241m=\u001b[39m \u001b[43mget_cycle_summary_variables\u001b[49m\u001b[43m(\u001b[49m\u001b[43mcycle_solution\u001b[49m\u001b[43m,\u001b[49m\u001b[43m \u001b[49m\u001b[43mesoh_sim\u001b[49m\u001b[43m)\u001b[49m\n\u001b[1;32m    814\u001b[0m cycle_first_state \u001b[38;5;241m=\u001b[39m cycle_solution\u001b[38;5;241m.\u001b[39mfirst_state\n\u001b[1;32m    816\u001b[0m \u001b[38;5;28;01mif\u001b[39;00m save_this_cycle:\n",
      "File \u001b[0;32m~/PyBaMM/pybamm/solvers/solution.py:920\u001b[0m, in \u001b[0;36mget_cycle_summary_variables\u001b[0;34m(cycle_solution, esoh_sim)\u001b[0m\n\u001b[1;32m    918\u001b[0m     esoh_sol \u001b[38;5;241m=\u001b[39m esoh_sim\u001b[38;5;241m.\u001b[39msolve([\u001b[38;5;241m0\u001b[39m], inputs\u001b[38;5;241m=\u001b[39minputs, solver\u001b[38;5;241m=\u001b[39msolver)\n\u001b[1;32m    919\u001b[0m \u001b[38;5;28;01mexcept\u001b[39;00m pybamm\u001b[38;5;241m.\u001b[39mSolverError:  \u001b[38;5;66;03m# pragma: no cover\u001b[39;00m\n\u001b[0;32m--> 920\u001b[0m     \u001b[38;5;28;01mraise\u001b[39;00m pybamm\u001b[38;5;241m.\u001b[39mSolverError(\n\u001b[1;32m    921\u001b[0m         \u001b[38;5;124m\"\u001b[39m\u001b[38;5;124mCould not solve for summary variables, run \u001b[39m\u001b[38;5;124m\"\u001b[39m\n\u001b[1;32m    922\u001b[0m         \u001b[38;5;124m\"\u001b[39m\u001b[38;5;124m`sim.solve(calc_esoh=False)` to skip this step\u001b[39m\u001b[38;5;124m\"\u001b[39m\n\u001b[1;32m    923\u001b[0m     )\n\u001b[1;32m    924\u001b[0m \u001b[38;5;28;01mfor\u001b[39;00m var \u001b[38;5;129;01min\u001b[39;00m esoh_sim\u001b[38;5;241m.\u001b[39mbuilt_model\u001b[38;5;241m.\u001b[39mvariables:\n\u001b[1;32m    925\u001b[0m     cycle_summary_variables[var] \u001b[38;5;241m=\u001b[39m esoh_sol[var]\u001b[38;5;241m.\u001b[39mdata[\u001b[38;5;241m0\u001b[39m]\n",
      "\u001b[0;31mSolverError\u001b[0m: Could not solve for summary variables, run `sim.solve(calc_esoh=False)` to skip this step"
     ]
    }
   ],
   "source": [
    "parameter_values = pybamm.ParameterValues(\"Ai2020\")\n",
    "model1 = pybamm.lithium_ion.DFN({\"SEI\": \"solvent-diffusion limited\"})\n",
    "model2 = pybamm.lithium_ion.DFN({\n",
    "    \"particle mechanics\": \"swelling and cracking\",\n",
    "    \"SEI\": \"solvent-diffusion limited\",\n",
    "    \"SEI on cracks\": \"true\",\n",
    "})\n",
    "experiment = pybamm.Experiment([\"Discharge at 1C until 3 V\"])\n",
    "sim1 = pybamm.Simulation(model1, parameter_values=parameter_values, experiment=experiment)\n",
    "sol1 = sim1.solve()\n",
    "sim2 = pybamm.Simulation(model2, parameter_values=parameter_values, experiment=experiment)\n",
    "sol2 = sim2.solve()"
   ]
  },
  {
   "cell_type": "code",
   "execution_count": null,
   "id": "c3884817",
   "metadata": {},
   "outputs": [],
   "source": []
  }
 ],
 "metadata": {
  "kernelspec": {
   "display_name": "Python 3 (ipykernel)",
   "language": "python",
   "name": "python3"
  },
  "language_info": {
   "codemirror_mode": {
    "name": "ipython",
    "version": 3
   },
   "file_extension": ".py",
   "mimetype": "text/x-python",
   "name": "python",
   "nbconvert_exporter": "python",
   "pygments_lexer": "ipython3",
   "version": "3.8.10"
  }
 },
 "nbformat": 4,
 "nbformat_minor": 5
}
