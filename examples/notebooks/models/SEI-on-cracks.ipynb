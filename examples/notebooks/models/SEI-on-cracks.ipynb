{
 "cells": [
  {
   "cell_type": "code",
   "execution_count": 1,
   "id": "eb5375ae",
   "metadata": {},
   "outputs": [
    {
     "name": "stdout",
     "output_type": "stream",
     "text": [
      "\u001b[33mWARNING: You are using pip version 22.0.4; however, version 22.1.2 is available.\n",
      "You should consider upgrading via the '/home/sokane/PyBaMM/env/bin/python3 -m pip install --upgrade pip' command.\u001b[0m\u001b[33m\n",
      "\u001b[0mNote: you may need to restart the kernel to use updated packages.\n"
     ]
    }
   ],
   "source": [
    "%pip install pybamm -q    # install PyBaMM if it is not installed\n",
    "import pybamm\n",
    "import matplotlib.pyplot as plt\n",
    "import numpy as np"
   ]
  },
  {
   "cell_type": "code",
   "execution_count": 3,
   "id": "05c30b49",
   "metadata": {},
   "outputs": [],
   "source": [
    "parameter_values = pybamm.ParameterValues(\"OKane2022\")\n",
    "model1 = pybamm.lithium_ion.DFN({\"SEI\": \"solvent-diffusion limited\"})\n",
    "model2 = pybamm.lithium_ion.DFN({\n",
    "    \"particle mechanics\": \"swelling only\",\n",
    "    \"loss of active material\": \"stress-driven\",\n",
    "    \"SEI\": \"solvent-diffusion limited\",\n",
    "    \"SEI on cracks\": \"false\",\n",
    "})\n",
    "experiment = pybamm.Experiment([\"Discharge at 1C until 3 V\"])\n",
    "sim1 = pybamm.Simulation(model1, parameter_values=parameter_values, experiment=experiment)\n",
    "sol1 = sim1.solve(calc_esoh=False)\n",
    "sim2 = pybamm.Simulation(model2, parameter_values=parameter_values, experiment=experiment)\n",
    "sol2 = sim2.solve(calc_esoh=False)"
   ]
  },
  {
   "cell_type": "code",
   "execution_count": null,
   "id": "c3884817",
   "metadata": {},
   "outputs": [],
   "source": [
    "t1 = sol1[\"Time [s]\"].entries\n",
    "SEI1 = sol1[\"Loss of capacity to SEI [A.h]\"].entries\n",
    "t2 = sol2[\"Time [s]\"].entries\n",
    "SEI2 = sol2[\"Loss of capacity to SEI [A.h]\"].entries + sol2[\"Loss of capacity to SEI on cracks [A.h]\"].entries"
   ]
  },
  {
   "cell_type": "code",
   "execution_count": null,
   "id": "d33e1d89",
   "metadata": {},
   "outputs": [],
   "source": [
    "(fig, ax) = plt.subplots()\n",
    "ax.plot(t1,SEI1,label=\"without cracking\")\n",
    "ax.plot(t2,SEI2,label=\"with cracking\")\n",
    "plt.legend()\n",
    "plt.show()"
   ]
  },
  {
   "cell_type": "code",
   "execution_count": null,
   "id": "9ca7991b",
   "metadata": {},
   "outputs": [],
   "source": []
  }
 ],
 "metadata": {
  "kernelspec": {
   "display_name": "Python 3 (ipykernel)",
   "language": "python",
   "name": "python3"
  },
  "language_info": {
   "codemirror_mode": {
    "name": "ipython",
    "version": 3
   },
   "file_extension": ".py",
   "mimetype": "text/x-python",
   "name": "python",
   "nbconvert_exporter": "python",
   "pygments_lexer": "ipython3",
   "version": "3.8.10"
  }
 },
 "nbformat": 4,
 "nbformat_minor": 5
}
