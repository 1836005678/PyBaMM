{
 "cells": [
  {
   "cell_type": "markdown",
   "id": "569864b3",
   "metadata": {},
   "source": [
    "# Modelling SEI growth on particle cracks\n",
    "\n",
    "This notebook provides a short demonsration of how the SEI and particle mechanics submodels can be combined to simulate SEi growth on particle cracks."
   ]
  },
  {
   "cell_type": "code",
   "execution_count": 1,
   "id": "eb5375ae",
   "metadata": {},
   "outputs": [
    {
     "name": "stdout",
     "output_type": "stream",
     "text": [
      "\u001b[33mWARNING: You are using pip version 22.0.4; however, version 22.1.2 is available.\n",
      "You should consider upgrading via the '/home/sokane/PyBaMM/env/bin/python3 -m pip install --upgrade pip' command.\u001b[0m\u001b[33m\n",
      "\u001b[0mNote: you may need to restart the kernel to use updated packages.\n"
     ]
    }
   ],
   "source": [
    "%pip install pybamm -q    # install PyBaMM if it is not installed\n",
    "import pybamm\n",
    "import matplotlib.pyplot as plt\n",
    "import numpy as np"
   ]
  },
  {
   "cell_type": "markdown",
   "id": "c46a0904",
   "metadata": {},
   "source": [
    "Define two models. In model1, the only degradation mechanism is solvent-diffusion limited SEI growth. model2 includes the same SEI growth mechanism but also includes particle cracking and SEI growth on the cracks. The SEI model is run twice: once on the initial surface and once on the cracks. The equations for SEI on cracks are reported by O'Kane et al. [8]"
   ]
  },
  {
   "cell_type": "code",
   "execution_count": 2,
   "id": "b4df06fd",
   "metadata": {},
   "outputs": [],
   "source": [
    "model1 = pybamm.lithium_ion.DFN({\"SEI\": \"none\"})\n",
    "model2 = pybamm.lithium_ion.DFN({\n",
    "    \"particle mechanics\": \"swelling and cracking\",\n",
    "    \"SEI\": \"solvent-diffusion limited\",\n",
    "    \"SEI on cracks\": \"true\",\n",
    "})"
   ]
  },
  {
   "cell_type": "markdown",
   "id": "01d45212",
   "metadata": {},
   "source": [
    "Depending on the parameter set being used, the particle cracking model can require a large number of mesh points inside the particles to be numerically stable."
   ]
  },
  {
   "cell_type": "code",
   "execution_count": 3,
   "id": "19235041",
   "metadata": {},
   "outputs": [],
   "source": [
    "parameter_values = pybamm.ParameterValues(\"OKane2022\")\n",
    "var_pts = {\n",
    "    \"x_n\": 20,  # negative electrode\n",
    "    \"x_s\": 20,  # separator \n",
    "    \"x_p\": 20,  # positive electrode\n",
    "    \"r_n\": 120,  # negative particle\n",
    "    \"r_p\": 100,  # positive particle\n",
    "}"
   ]
  },
  {
   "cell_type": "markdown",
   "id": "b70d357a",
   "metadata": {},
   "source": [
    "Solve the models with and without cracking for a 1C discharge."
   ]
  },
  {
   "cell_type": "code",
   "execution_count": 4,
   "id": "05c30b49",
   "metadata": {},
   "outputs": [],
   "source": [
    "experiment = pybamm.Experiment([\"Discharge at 1C until 2.5 V\"])\n",
    "sim1 = pybamm.Simulation(model1, parameter_values=parameter_values, experiment=experiment, var_pts=var_pts)\n",
    "sol1 = sim1.solve()\n",
    "sim2 = pybamm.Simulation(model2, parameter_values=parameter_values, experiment=experiment, var_pts=var_pts)\n",
    "sol2 = sim2.solve()"
   ]
  },
  {
   "cell_type": "code",
   "execution_count": null,
   "id": "c3884817",
   "metadata": {},
   "outputs": [],
   "source": [
    "t1 = sol1[\"Time [s]\"].entries\n",
    "V1 = sol1[\"Terminal voltage [V]\"].entries\n",
    "SEI1 = sol1[\"Loss of capacity to SEI [A.h]\"].entries\n",
    "t2 = sol2[\"Time [s]\"].entries\n",
    "V2 = sol2[\"Terminal voltage [V]\"].entries\n",
    "SEI2 = sol2[\"Loss of capacity to SEI [A.h]\"].entries + sol2[\"Loss of capacity to SEI on cracks [A.h]\"].entries"
   ]
  },
  {
   "cell_type": "code",
   "execution_count": null,
   "id": "d33e1d89",
   "metadata": {},
   "outputs": [],
   "source": [
    "fig, (ax1, ax2) = plt.subplots(1, 2, figsize=(18,4))\n",
    "ax1.plot(t1,V1,label=\"without cracking\")\n",
    "ax1.plot(t2,V2,label=\"with cracking\")\n",
    "ax1.set_xlabel(\"Time [s]\")\n",
    "ax1.set_ylabel(\"Terminal voltage [V]\")\n",
    "ax1.legend()\n",
    "ax2.plot(t1,SEI1,label=\"without cracking\")\n",
    "ax2.plot(t2,SEI2,label=\"with cracking\")\n",
    "ax2.set_xlabel(\"Time [s]\")\n",
    "ax2.set_ylabel(\"Loss of capacity to SEI [A.h]\")\n",
    "ax2.legend()\n",
    "plt.show()"
   ]
  },
  {
   "cell_type": "markdown",
   "id": "4afa1ba8",
   "metadata": {},
   "source": [
    "The SEI on cracks consumes far more capacity than the SEI on the initial surface, in agreement with the literature."
   ]
  },
  {
   "cell_type": "code",
   "execution_count": null,
   "id": "9ca7991b",
   "metadata": {},
   "outputs": [],
   "source": [
    "pybamm.print_citations()"
   ]
  },
  {
   "cell_type": "code",
   "execution_count": null,
   "id": "86209382",
   "metadata": {},
   "outputs": [],
   "source": []
  }
 ],
 "metadata": {
  "kernelspec": {
   "display_name": "Python 3 (ipykernel)",
   "language": "python",
   "name": "python3"
  },
  "language_info": {
   "codemirror_mode": {
    "name": "ipython",
    "version": 3
   },
   "file_extension": ".py",
   "mimetype": "text/x-python",
   "name": "python",
   "nbconvert_exporter": "python",
   "pygments_lexer": "ipython3",
   "version": "3.8.10"
  }
 },
 "nbformat": 4,
 "nbformat_minor": 5
}
