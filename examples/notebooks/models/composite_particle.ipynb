{
 "cells": [
  {
   "cell_type": "markdown",
   "id": "68feb769",
   "metadata": {},
   "source": [
    "# A composite electrode particle model"
   ]
  },
  {
   "cell_type": "markdown",
   "id": "58f614c2",
   "metadata": {},
   "source": [
    " A composite electrode particle model is developed for (negative) electrodes with two phases, e.g. graphite/silicon in LG M50 battery cells. The current version is demonstrated for negative composite electrodes only but is easily extended to positive composite electrodes. The reference is at the end of this notebook."
   ]
  },
  {
   "cell_type": "markdown",
   "id": "44c5f462",
   "metadata": {},
   "source": [
    "## How to use the model\n",
    "\n",
    "Let us set up pybamm "
   ]
  },
  {
   "cell_type": "code",
   "execution_count": 1,
   "id": "29f9e4d0",
   "metadata": {},
   "outputs": [],
   "source": [
    "#%pip install pybamm -q    # install PyBaMM if it is not installed\n",
    "import os\n",
    "import matplotlib.pyplot as plt\n",
    "import numpy as np\n",
    "import pybamm\n",
    "import pandas as pd\n",
    "import timeit\n",
    "from matplotlib import style\n",
    "style.use('ggplot')\n",
    "os.chdir(pybamm.__path__[0]+'/..')\n",
    "pybamm.set_logging_level(\"INFO\")"
   ]
  },
  {
   "cell_type": "markdown",
   "id": "7d4ebc5e",
   "metadata": {},
   "source": [
    "Choose the option `{\"particle phases\": (\"2\", \"1\")}` to load the composite electrode particle model by specifying that there are two particle phases (graphite and silicon) in the negative electrode. The parameter set \"Chen2020_composite\" includes parameters for silicon as a secondary particle"
   ]
  },
  {
   "cell_type": "code",
   "execution_count": 2,
   "id": "8935004a",
   "metadata": {},
   "outputs": [
    {
     "name": "stderr",
     "output_type": "stream",
     "text": [
      "2022-08-16 17:43:14.527 - [INFO] base_model._build_model(573): Start building Doyle-Fuller-Newman model\n",
      "2022-08-16 17:43:14.588 - [INFO] base_battery_model.build_model(982): Finish building Doyle-Fuller-Newman model\n"
     ]
    }
   ],
   "source": [
    "start = timeit.default_timer()\n",
    "model = pybamm.lithium_ion.DFN({\"particle phases\": (\"2\", \"1\")})\n",
    "param = pybamm.ParameterValues(\"Chen2020_composite\")\n",
    "\n",
    "param.update({\"Upper voltage cut-off [V]\": 4.5})\n",
    "param.update({\"Lower voltage cut-off [V]\": 2.5})"
   ]
  },
  {
   "cell_type": "code",
   "execution_count": 3,
   "id": "7bc190eb",
   "metadata": {},
   "outputs": [
    {
     "data": {
      "text/plain": [
       "{'chemistry': 'lithium_ion',\n",
       " 'cell': 'LGM50_Chen2020',\n",
       " 'negative electrode': 'graphite_Chen2020',\n",
       " 'negative secondary particle': 'silicon_Ai2022',\n",
       " 'separator': 'separator_Chen2020',\n",
       " 'positive electrode': 'nmc_Chen2020',\n",
       " 'electrolyte': 'lipf6_Nyman2008',\n",
       " 'experiment': '1C_discharge_from_full_Chen2020',\n",
       " 'sei': 'example',\n",
       " 'citation': ['Chen2020', 'Ai2022']}"
      ]
     },
     "execution_count": 3,
     "metadata": {},
     "output_type": "execute_result"
    }
   ],
   "source": [
    "pybamm.parameter_sets.Chen2020_composite"
   ]
  },
  {
   "cell_type": "code",
   "execution_count": 4,
   "id": "a97ddeac",
   "metadata": {},
   "outputs": [
    {
     "data": {
      "text/plain": [
       "{'1 + dlnf/dlnc': 1.0,\n",
       " 'Ambient temperature [K]': 298.15,\n",
       " 'Bulk solvent concentration [mol.m-3]': 2636.0,\n",
       " 'Cation transference number': 0.2594,\n",
       " 'Cell cooling surface area [m2]': 0.00531,\n",
       " 'Cell thermal expansion coefficient [m.K-1]': 1.1e-06,\n",
       " 'Cell volume [m3]': 2.42e-05,\n",
       " 'Current function [A]': 5.0,\n",
       " 'EC diffusivity [m2.s-1]': 2e-18,\n",
       " 'EC initial concentration in electrolyte [mol.m-3]': 4541.0,\n",
       " 'Electrode height [m]': 0.065,\n",
       " 'Electrode width [m]': 1.58,\n",
       " 'Electrolyte conductivity [S.m-1]': <function electrolyte_conductivity_Nyman2008 at 0x7fbc202ae4c0>,\n",
       " 'Electrolyte diffusivity [m2.s-1]': <function electrolyte_diffusivity_Nyman2008 at 0x7fbc202ae3a0>,\n",
       " 'Initial concentration in electrolyte [mol.m-3]': 1000.0,\n",
       " 'Initial concentration in positive electrode [mol.m-3]': 17038.0,\n",
       " 'Initial inner SEI thickness [m]': 2.5e-09,\n",
       " 'Initial outer SEI thickness [m]': 2.5e-09,\n",
       " 'Initial temperature [K]': 298.15,\n",
       " 'Inner SEI electron conductivity [S.m-1]': 8.95e-14,\n",
       " 'Inner SEI lithium interstitial diffusivity [m2.s-1]': 1e-20,\n",
       " 'Inner SEI open-circuit potential [V]': 0.1,\n",
       " 'Inner SEI partial molar volume [m3.mol-1]': 9.585e-05,\n",
       " 'Inner SEI reaction proportion': 0.5,\n",
       " 'Lithium interstitial reference concentration [mol.m-3]': 15.0,\n",
       " 'Lower voltage cut-off [V]': 2.5,\n",
       " 'Maximum concentration in positive electrode [mol.m-3]': 63104.0,\n",
       " 'Negative current collector conductivity [S.m-1]': 58411000.0,\n",
       " 'Negative current collector density [kg.m-3]': 8960.0,\n",
       " 'Negative current collector specific heat capacity [J.kg-1.K-1]': 385.0,\n",
       " 'Negative current collector thermal conductivity [W.m-1.K-1]': 401.0,\n",
       " 'Negative current collector thickness [m]': 1.2e-05,\n",
       " 'Negative electrode Bruggeman coefficient (electrode)': 1.5,\n",
       " 'Negative electrode Bruggeman coefficient (electrolyte)': 1.5,\n",
       " 'Negative electrode cation signed stoichiometry': -1.0,\n",
       " 'Negative electrode charge transfer coefficient': 0.5,\n",
       " 'Negative electrode conductivity [S.m-1]': 215.0,\n",
       " 'Negative electrode double-layer capacity [F.m-2]': 0.2,\n",
       " 'Negative electrode porosity': 0.25,\n",
       " 'Negative electrode reaction-driven LAM factor [m3.mol-1]': 0.0,\n",
       " 'Negative electrode specific heat capacity [J.kg-1.K-1]': 700.0,\n",
       " 'Negative electrode thermal conductivity [W.m-1.K-1]': 1.7,\n",
       " 'Negative electrode thickness [m]': 8.52e-05,\n",
       " 'Nominal cell capacity [A.h]': 5.0,\n",
       " 'Number of cells connected in series to make a battery': 1.0,\n",
       " 'Number of electrodes connected in parallel to make a cell': 1.0,\n",
       " 'Outer SEI open-circuit potential [V]': 0.8,\n",
       " 'Outer SEI partial molar volume [m3.mol-1]': 9.585e-05,\n",
       " 'Outer SEI solvent diffusivity [m2.s-1]': 2.5000000000000002e-22,\n",
       " 'Positive current collector conductivity [S.m-1]': 36914000.0,\n",
       " 'Positive current collector density [kg.m-3]': 2700.0,\n",
       " 'Positive current collector specific heat capacity [J.kg-1.K-1]': 897.0,\n",
       " 'Positive current collector thermal conductivity [W.m-1.K-1]': 237.0,\n",
       " 'Positive current collector thickness [m]': 1.6e-05,\n",
       " 'Positive electrode Bruggeman coefficient (electrode)': 1.5,\n",
       " 'Positive electrode Bruggeman coefficient (electrolyte)': 1.5,\n",
       " 'Positive electrode OCP [V]': <function nmc_LGM50_ocp_Chen2020 at 0x7fbc202ae550>,\n",
       " 'Positive electrode OCP entropic change [V.K-1]': 0.0,\n",
       " 'Positive electrode active material volume fraction': 0.665,\n",
       " 'Positive electrode cation signed stoichiometry': -1.0,\n",
       " 'Positive electrode charge transfer coefficient': 0.5,\n",
       " 'Positive electrode conductivity [S.m-1]': 0.18,\n",
       " 'Positive electrode density [kg.m-3]': 3262.0,\n",
       " 'Positive electrode diffusivity [m2.s-1]': 4e-15,\n",
       " 'Positive electrode double-layer capacity [F.m-2]': 0.2,\n",
       " 'Positive electrode electrons in reaction': 1.0,\n",
       " 'Positive electrode exchange-current density [A.m-2]': <function nmc_LGM50_electrolyte_exchange_current_density_Chen2020 at 0x7fbc202ae1f0>,\n",
       " 'Positive electrode porosity': 0.335,\n",
       " 'Positive electrode reaction-driven LAM factor [m3.mol-1]': 0.0,\n",
       " 'Positive electrode specific heat capacity [J.kg-1.K-1]': 700.0,\n",
       " 'Positive electrode thermal conductivity [W.m-1.K-1]': 2.1,\n",
       " 'Positive electrode thickness [m]': 7.56e-05,\n",
       " 'Positive particle radius [m]': 5.22e-06,\n",
       " 'Primary: Initial concentration in negative electrode [mol.m-3]': 29866.0,\n",
       " 'Primary: Maximum concentration in negative electrode [mol.m-3]': 33133.0,\n",
       " 'Primary: Negative electrode OCP [V]': <function graphite_LGM50_ocp_Chen2020 at 0x7fbc202ae820>,\n",
       " 'Primary: Negative electrode OCP entropic change [V.K-1]': 0.0,\n",
       " 'Primary: Negative electrode active material volume fraction': 0.75,\n",
       " 'Primary: Negative electrode density [kg.m-3]': 1657.0,\n",
       " 'Primary: Negative electrode diffusivity [m2.s-1]': 3.3e-14,\n",
       " 'Primary: Negative electrode electrons in reaction': 1.0,\n",
       " 'Primary: Negative electrode exchange-current density [A.m-2]': <function graphite_LGM50_electrolyte_exchange_current_density_Chen2020 at 0x7fbc202ae700>,\n",
       " 'Primary: Negative particle radius [m]': 5.86e-06,\n",
       " 'Ratio of lithium moles to SEI moles': 2.0,\n",
       " 'Reference temperature [K]': 298.15,\n",
       " 'SEI growth activation energy [J.mol-1]': 0.0,\n",
       " 'SEI kinetic rate constant [m.s-1]': 1e-12,\n",
       " 'SEI open-circuit potential [V]': 0.4,\n",
       " 'SEI reaction exchange current density [A.m-2]': 1.5e-07,\n",
       " 'SEI resistivity [Ohm.m]': 200000.0,\n",
       " 'Secondary: Initial concentration in negative electrode [mol.m-3]': 275220.0,\n",
       " 'Secondary: Maximum concentration in negative electrode [mol.m-3]': 278000.0,\n",
       " 'Secondary: Negative electrode OCP [V]': 0.0,\n",
       " 'Secondary: Negative electrode OCP entropic change [V.K-1]': 0.0,\n",
       " 'Secondary: Negative electrode active material volume fraction': 0.015,\n",
       " 'Secondary: Negative electrode delithiation OCP [V]': <function silicon_ocp_delithiation_Mark2016 at 0x7fbc202aeca0>,\n",
       " 'Secondary: Negative electrode density [kg.m-3]': 2650.0,\n",
       " 'Secondary: Negative electrode diffusivity [m2.s-1]': 1.67e-14,\n",
       " 'Secondary: Negative electrode electrons in reaction': 1.0,\n",
       " 'Secondary: Negative electrode exchange-current density [A.m-2]': <function silicon_LGM50_electrolyte_exchange_current_density_Chen2020 at 0x7fbc202aea60>,\n",
       " 'Secondary: Negative electrode lithiation OCP [V]': <function silicon_ocp_lithiation_Mark2016 at 0x7fbc202aec10>,\n",
       " 'Secondary: Negative particle radius [m]': 1.52e-06,\n",
       " 'Separator Bruggeman coefficient (electrolyte)': 1.5,\n",
       " 'Separator density [kg.m-3]': 397.0,\n",
       " 'Separator porosity': 0.47,\n",
       " 'Separator specific heat capacity [J.kg-1.K-1]': 700.0,\n",
       " 'Separator thermal conductivity [W.m-1.K-1]': 0.16,\n",
       " 'Separator thickness [m]': 1.2e-05,\n",
       " 'Total heat transfer coefficient [W.m-2.K-1]': 10.0,\n",
       " 'Typical current [A]': 5.0,\n",
       " 'Typical electrolyte concentration [mol.m-3]': 1000.0,\n",
       " 'Upper voltage cut-off [V]': 4.5}"
      ]
     },
     "execution_count": 4,
     "metadata": {},
     "output_type": "execute_result"
    }
   ],
   "source": [
    "param"
   ]
  },
  {
   "cell_type": "markdown",
   "id": "cf194af2",
   "metadata": {},
   "source": [
    "Define a current loading"
   ]
  },
  {
   "cell_type": "code",
   "execution_count": 5,
   "id": "5a0dc425",
   "metadata": {},
   "outputs": [],
   "source": [
    "C_rates = 0.5\n",
    "Q_cell = 5 # [Ah]\n",
    "period = 1 / C_rates * Q_cell / 5\n",
    "transition = period / 20\n",
    "timestep=np.array([0.1, period * 4]) * 3600\n",
    "points=[41, 201, 201]\n",
    "t_evals=[]\n",
    "t0 = 0\n",
    "for i in range(0,len(timestep)):\n",
    "    t1 = np.linspace(t0, t0 + timestep[i] - transition, points[i])\n",
    "    t0 += timestep[i]\n",
    "    if i < len(timestep)-1:\n",
    "        t2 = np.linspace(t0 - transition, t0 + transition, 41) # transition points\n",
    "    else:\n",
    "        t2 = []\n",
    "    t_evals=np.concatenate((t_evals, t1 ,t2))\n",
    "\n",
    "t_evals = np.unique(t_evals)\n",
    "capacity = param[\"Nominal cell capacity [A.h]\"]\n",
    "I_load = C_rates * capacity  \n",
    "\n",
    "def I_fun(A):\n",
    "    def current(t):\n",
    "        C_rates = 0.5\n",
    "        Q_cell = 5 # [Ah]\n",
    "        period = 1 / C_rates * Q_cell / 5\n",
    "        timestep=np.array([0.1, period * 4]) * 3600\n",
    "        k = 10\n",
    "        rest = pybamm.sigmoid( t , timestep[0], k)\n",
    "        discharge = pybamm.sigmoid( t , timestep[0] + timestep[1], k) - rest\n",
    "        return A * discharge\n",
    "        # return A * (t < period) - A * (t >= period)\n",
    "        # return A * 0.2 * pybamm.sin(2 * np.pi * t / 7200 )\n",
    "    return current\n",
    "\n",
    "param[\"Current function [A]\"] = I_fun(I_load)"
   ]
  },
  {
   "cell_type": "markdown",
   "id": "659b97d9",
   "metadata": {},
   "source": [
    "It is very easy to vary the relative volume fraction of each phase. The following example shows how to compare the results of batteries with three relative volume fractions (0.001, 0.04, 0.1) of silicon."
   ]
  },
  {
   "cell_type": "code",
   "execution_count": 6,
   "id": "6319cc89",
   "metadata": {},
   "outputs": [
    {
     "name": "stderr",
     "output_type": "stream",
     "text": [
      "2022-08-16 17:43:14.640 - [INFO] parameter_values.process_model(397): Start setting parameters for Doyle-Fuller-Newman model\n",
      "2022-08-16 17:43:14.699 - [INFO] parameter_values.process_model(500): Finish setting parameters for Doyle-Fuller-Newman model\n",
      "2022-08-16 17:43:14.700 - [INFO] discretisation.process_model(137): Start discretising Doyle-Fuller-Newman model\n"
     ]
    },
    {
     "name": "stdout",
     "output_type": "stream",
     "text": [
      "0.001\n"
     ]
    },
    {
     "name": "stderr",
     "output_type": "stream",
     "text": [
      "2022-08-16 17:43:15.034 - [INFO] discretisation.process_model(254): Finish discretising Doyle-Fuller-Newman model\n",
      "2022-08-16 17:43:15.035 - [INFO] base_solver.solve(880): Start solving Doyle-Fuller-Newman model with CasADi solver with 'safe' mode\n",
      "2022-08-16 17:43:15.081 - [INFO] base_solver.set_up(109): Start solver set-up\n",
      "2022-08-16 17:43:15.202 - [INFO] base_solver.set_up(730): Finish solver set-up\n",
      "2022-08-16 17:43:16.132 - [INFO] base_solver.solve(1153): Finish solving Doyle-Fuller-Newman model (event: Minimum voltage)\n",
      "2022-08-16 17:43:16.133 - [INFO] base_solver.solve(1154): Set-up time: 121.923 ms, Solve time: 920.003 ms (of which integration time: 736.414 ms), Total time: 1.042 s\n",
      "2022-08-16 17:43:16.138 - [INFO] parameter_values.process_model(397): Start setting parameters for Doyle-Fuller-Newman model\n",
      "2022-08-16 17:43:16.194 - [INFO] parameter_values.process_model(500): Finish setting parameters for Doyle-Fuller-Newman model\n",
      "2022-08-16 17:43:16.195 - [INFO] discretisation.process_model(137): Start discretising Doyle-Fuller-Newman model\n"
     ]
    },
    {
     "name": "stdout",
     "output_type": "stream",
     "text": [
      "0.04\n"
     ]
    },
    {
     "name": "stderr",
     "output_type": "stream",
     "text": [
      "2022-08-16 17:43:16.517 - [INFO] discretisation.process_model(254): Finish discretising Doyle-Fuller-Newman model\n",
      "2022-08-16 17:43:16.517 - [INFO] base_solver.solve(880): Start solving Doyle-Fuller-Newman model with CasADi solver with 'safe' mode\n",
      "2022-08-16 17:43:16.520 - [INFO] base_solver.set_up(109): Start solver set-up\n",
      "2022-08-16 17:43:16.624 - [INFO] base_solver.set_up(730): Finish solver set-up\n",
      "psetup failed: .../casadi/interfaces/sundials/idas_interface.cpp:849: Calculating Jacobian failed\n",
      "psetup failed: .../casadi/interfaces/sundials/idas_interface.cpp:849: Calculating Jacobian failed\n",
      "psetup failed: .../casadi/interfaces/sundials/idas_interface.cpp:849: Calculating Jacobian failed\n",
      "At t = 0.00831211 and h = 7.58024e-12, the corrector convergence failed repeatedly or with |h| = hmin.\n",
      "psetup failed: .../casadi/interfaces/sundials/idas_interface.cpp:852: Linear solve failed\n",
      "At t = 0.00119384 and h = 3.70987e-28, the corrector convergence failed repeatedly or with |h| = hmin.\n",
      "psetup failed: .../casadi/interfaces/sundials/idas_interface.cpp:849: Calculating Jacobian failed\n",
      "psetup failed: .../casadi/interfaces/sundials/idas_interface.cpp:852: Linear solve failed\n",
      "psetup failed: .../casadi/interfaces/sundials/idas_interface.cpp:852: Linear solve failed\n",
      "psetup failed: .../casadi/interfaces/sundials/idas_interface.cpp:852: Linear solve failed\n",
      "psetup failed: .../casadi/interfaces/sundials/idas_interface.cpp:852: Linear solve failed\n",
      "psetup failed: .../casadi/interfaces/sundials/idas_interface.cpp:852: Linear solve failed\n",
      "At t = 0.00119384 and h = 1.66465e-18, the corrector convergence failed repeatedly or with |h| = hmin.\n",
      "At t = 0.00119384 and h = 1.066e-17, the corrector convergence failed repeatedly or with |h| = hmin.\n",
      "At t = 0.00039272 and h = 2.25178e-18, the corrector convergence failed repeatedly or with |h| = hmin.\n",
      "psetup failed: .../casadi/interfaces/sundials/idas_interface.cpp:852: Linear solve failed\n",
      "psetup failed: .../casadi/interfaces/sundials/idas_interface.cpp:852: Linear solve failed\n",
      "psetup failed: .../casadi/interfaces/sundials/idas_interface.cpp:852: Linear solve failed\n",
      "psetup failed: .../casadi/interfaces/sundials/idas_interface.cpp:852: Linear solve failed\n",
      "At t = 0.00039272 and h = 2.69269e-27, the corrector convergence failed repeatedly or with |h| = hmin.\n",
      "psetup failed: .../casadi/interfaces/sundials/idas_interface.cpp:852: Linear solve failed\n",
      "psetup failed: .../casadi/interfaces/sundials/idas_interface.cpp:852: Linear solve failed\n",
      "At t = 0.000192441 and h = 2.52441e-21, the corrector convergence failed repeatedly or with |h| = hmin.\n",
      "At t = 9.23009e-05 and h = 3.19629e-21, the corrector convergence failed repeatedly or with |h| = hmin.\n",
      "At t = 4.22301e-05 and h = 6.11238e-17, the corrector convergence failed repeatedly or with |h| = hmin.\n",
      "At t = 1.71967e-05 and h = 5.25156e-24, the corrector convergence failed repeatedly or with |h| = hmin.\n",
      "At t = 4.67902e-06 and h = 5.70016e-20, the corrector convergence failed repeatedly or with |h| = hmin.\n",
      "At t = 4.67857e-06 and h = 1.93864e-17, the corrector convergence failed repeatedly or with |h| = hmin.\n",
      "2022-08-16 17:43:22.852 - [INFO] base_solver.solve(1153): Finish solving Doyle-Fuller-Newman model (event: Minimum voltage)\n",
      "2022-08-16 17:43:22.853 - [INFO] base_solver.solve(1154): Set-up time: 105.122 ms, Solve time: 6.217 s (of which integration time: 1.135 s), Total time: 6.322 s\n",
      "2022-08-16 17:43:22.861 - [INFO] parameter_values.process_model(397): Start setting parameters for Doyle-Fuller-Newman model\n",
      "2022-08-16 17:43:22.917 - [INFO] parameter_values.process_model(500): Finish setting parameters for Doyle-Fuller-Newman model\n",
      "2022-08-16 17:43:22.918 - [INFO] discretisation.process_model(137): Start discretising Doyle-Fuller-Newman model\n"
     ]
    },
    {
     "name": "stdout",
     "output_type": "stream",
     "text": [
      "0.1\n"
     ]
    },
    {
     "name": "stderr",
     "output_type": "stream",
     "text": [
      "2022-08-16 17:43:23.251 - [INFO] discretisation.process_model(254): Finish discretising Doyle-Fuller-Newman model\n",
      "2022-08-16 17:43:23.251 - [INFO] base_solver.solve(880): Start solving Doyle-Fuller-Newman model with CasADi solver with 'safe' mode\n",
      "2022-08-16 17:43:23.254 - [INFO] base_solver.set_up(109): Start solver set-up\n",
      "2022-08-16 17:43:23.357 - [INFO] base_solver.set_up(730): Finish solver set-up\n",
      "At t = 0.00760278 and h = 5.35603e-19, the corrector convergence failed repeatedly or with |h| = hmin.\n",
      "psetup failed: .../casadi/interfaces/sundials/idas_interface.cpp:852: Linear solve failed\n",
      "At t = 0.00119383 and h = 5.80905e-19, the corrector convergence failed repeatedly or with |h| = hmin.\n",
      "At t = 0.00119384 and h = 6.52123e-21, the corrector convergence failed repeatedly or with |h| = hmin.\n",
      "At t = 0.00119384 and h = 1.31824e-18, the corrector convergence failed repeatedly or with |h| = hmin.\n",
      "psetup failed: .../casadi/interfaces/sundials/idas_interface.cpp:852: Linear solve failed\n",
      "psetup failed: .../casadi/interfaces/sundials/idas_interface.cpp:852: Linear solve failed\n",
      "psetup failed: .../casadi/interfaces/sundials/idas_interface.cpp:852: Linear solve failed\n",
      "At t = 0.000392721 and h = 5.06464e-26, the corrector convergence failed repeatedly or with |h| = hmin.\n",
      "At t = 0.00039272 and h = 7.93004e-19, the corrector convergence failed repeatedly or with |h| = hmin.\n",
      "At t = 0.000192431 and h = 3.64878e-16, the corrector convergence failed repeatedly or with |h| = hmin.\n",
      "At t = 9.23013e-05 and h = 7.13098e-25, the corrector convergence failed repeatedly or with |h| = hmin.\n",
      "At t = 4.22315e-05 and h = 5.57656e-23, the corrector convergence failed repeatedly or with |h| = hmin.\n",
      "At t = 1.71958e-05 and h = 3.2444e-17, the corrector convergence failed repeatedly or with |h| = hmin.\n",
      "At t = 4.67915e-06 and h = 4.4399e-22, the corrector convergence failed repeatedly or with |h| = hmin.\n",
      "At t = 4.67878e-06 and h = 2.03013e-17, the corrector convergence failed repeatedly or with |h| = hmin.\n",
      "2022-08-16 17:43:30.297 - [INFO] base_solver.solve(1153): Finish solving Doyle-Fuller-Newman model (event: Minimum voltage)\n",
      "2022-08-16 17:43:30.297 - [INFO] base_solver.solve(1154): Set-up time: 103.965 ms, Solve time: 6.929 s (of which integration time: 901.484 ms), Total time: 7.033 s\n"
     ]
    },
    {
     "name": "stdout",
     "output_type": "stream",
     "text": [
      "running time: 15.799469875s\n"
     ]
    }
   ],
   "source": [
    "v_si=[0.001,0.04,0.1]\n",
    "total_am_volume_fraction = 0.75\n",
    "solution=[]\n",
    "for v in v_si:\n",
    "    param.update({\n",
    "        \"Primary: Negative electrode active material volume fraction\": (1-v) * total_am_volume_fraction, #primary\n",
    "        \"Secondary: Negative electrode active material volume fraction\": v * total_am_volume_fraction,\n",
    "    })\n",
    "    print(v)\n",
    "    sim = pybamm.Simulation(\n",
    "        model,\n",
    "        parameter_values=param,\n",
    "        solver=pybamm.CasadiSolver(dt_max = 10),\n",
    "    )\n",
    "    solution.append(sim.solve(t_eval = t_evals))\n",
    "stop = timeit.default_timer()\n",
    "print(\"running time: \" + str(stop - start) + \"s\")"
   ]
  },
  {
   "cell_type": "markdown",
   "id": "e87e931c",
   "metadata": {},
   "source": [
    "## Results\n",
    "Compare the cell voltages of the three cells in this example, to see how silicon affects the output capacity"
   ]
  },
  {
   "cell_type": "code",
   "execution_count": 7,
   "id": "ec9bebd1",
   "metadata": {
    "scrolled": false
   },
   "outputs": [
    {
     "data": {
      "text/plain": [
       "<matplotlib.legend.Legend at 0x7fbc40a64a00>"
      ]
     },
     "execution_count": 7,
     "metadata": {},
     "output_type": "execute_result"
    },
    {
     "data": {
      "image/png": "[encoded data removed]",
      "text/plain": [
       "<Figure size 432x288 with 1 Axes>"
      ]
     },
     "metadata": {},
     "output_type": "display_data"
    }
   ],
   "source": [
    "ltype=['k-','r--','b-.','g:','m-','c--','y-.'];\n",
    "for i in range(0,len(v_si)):\n",
    "    t_i = solution[i][\"Time [s]\"].entries / 3600\n",
    "    V_i = solution[i][\"Terminal voltage [V]\"].entries\n",
    "    plt.plot(t_i, V_i,ltype[i],label=\"$V_\\mathrm{si}=$\"+str(v_si[i]))\n",
    "plt.xlabel('Time [h]')\n",
    "plt.ylabel('Terminal voltage [V]')\n",
    "plt.legend()"
   ]
  },
  {
   "cell_type": "markdown",
   "id": "ee7bc032",
   "metadata": {},
   "source": [
    "Results of interfacial current density in silicon"
   ]
  },
  {
   "cell_type": "code",
   "execution_count": 8,
   "id": "9893a85f",
   "metadata": {},
   "outputs": [
    {
     "data": {
      "text/plain": [
       "Text(0.5, 1.0, 'Silicon')"
      ]
     },
     "execution_count": 8,
     "metadata": {},
     "output_type": "execute_result"
    },
    {
     "data": {
      "image/png": "[encoded data removed]",
      "text/plain": [
       "<Figure size 432x288 with 1 Axes>"
      ]
     },
     "metadata": {},
     "output_type": "display_data"
    },
    {
     "data": {
      "image/png": "[encoded data removed]",
      "text/plain": [
       "<Figure size 432x288 with 1 Axes>"
      ]
     },
     "metadata": {},
     "output_type": "display_data"
    }
   ],
   "source": [
    "plt.figure()\n",
    "for i in range(0,len(v_si)):\n",
    "    t_i = solution[i][\"Time [s]\"].entries / 3600\n",
    "    j_n_p1_av = solution[i][\"X-averaged negative electrode primary interfacial current density [A.m-2]\"].entries\n",
    "    plt.plot(t_i, j_n_p1_av,ltype[i],label=\"$V_\\mathrm{si}=$\"+str(v_si[i]))\n",
    "plt.xlabel('Time [h]')\n",
    "plt.ylabel('Averaged interfacial current density [A/m$^{2}$]')\n",
    "plt.legend()\n",
    "plt.title('Graphite')\n",
    "\n",
    "plt.figure()\n",
    "for i in range(0,len(v_si)):\n",
    "    t_i = solution[i][\"Time [s]\"].entries / 3600\n",
    "    j_n_p2_av = solution[i][\"X-averaged negative electrode secondary interfacial current density [A.m-2]\"].entries\n",
    "    plt.plot(t_i, j_n_p2_av,ltype[i],label=\"$V_\\mathrm{si}=$\"+str(v_si[i]))\n",
    "plt.xlabel('Time [h]')\n",
    "plt.ylabel('Averaged interfacial current density [A/m$^{2}$]')\n",
    "plt.legend()\n",
    "plt.title('Silicon')"
   ]
  },
  {
   "cell_type": "markdown",
   "id": "77fa4197",
   "metadata": {},
   "source": [
    "Results of interfacial current density in graphite"
   ]
  },
  {
   "cell_type": "code",
   "execution_count": 9,
   "id": "9eafca0e",
   "metadata": {},
   "outputs": [
    {
     "ename": "KeyError",
     "evalue": "'X-averaged negative electrode primary interfacial current density per volume [A.m-3]'",
     "output_type": "error",
     "traceback": [
      "\u001b[0;31m---------------------------------------------------------------------------\u001b[0m",
      "\u001b[0;31mKeyError\u001b[0m                                  Traceback (most recent call last)",
      "\u001b[0;32m/var/folders/nw/gh4flqm95sz2p7db3mty4m4w0000gp/T/ipykernel_30987/1006504715.py\u001b[0m in \u001b[0;36m<module>\u001b[0;34m\u001b[0m\n\u001b[1;32m      2\u001b[0m \u001b[0;32mfor\u001b[0m \u001b[0mi\u001b[0m \u001b[0;32min\u001b[0m \u001b[0mrange\u001b[0m\u001b[0;34m(\u001b[0m\u001b[0;36m0\u001b[0m\u001b[0;34m,\u001b[0m\u001b[0mlen\u001b[0m\u001b[0;34m(\u001b[0m\u001b[0mv_si\u001b[0m\u001b[0;34m)\u001b[0m\u001b[0;34m)\u001b[0m\u001b[0;34m:\u001b[0m\u001b[0;34m\u001b[0m\u001b[0;34m\u001b[0m\u001b[0m\n\u001b[1;32m      3\u001b[0m     \u001b[0mt_i\u001b[0m \u001b[0;34m=\u001b[0m \u001b[0msolution\u001b[0m\u001b[0;34m[\u001b[0m\u001b[0mi\u001b[0m\u001b[0;34m]\u001b[0m\u001b[0;34m[\u001b[0m\u001b[0;34m\"Time [s]\"\u001b[0m\u001b[0;34m]\u001b[0m\u001b[0;34m.\u001b[0m\u001b[0mentries\u001b[0m \u001b[0;34m/\u001b[0m \u001b[0;36m3600\u001b[0m\u001b[0;34m\u001b[0m\u001b[0;34m\u001b[0m\u001b[0m\n\u001b[0;32m----> 4\u001b[0;31m     \u001b[0mj_n_p1_Vav\u001b[0m \u001b[0;34m=\u001b[0m \u001b[0msolution\u001b[0m\u001b[0;34m[\u001b[0m\u001b[0mi\u001b[0m\u001b[0;34m]\u001b[0m\u001b[0;34m[\u001b[0m\u001b[0;34m\"X-averaged negative electrode primary interfacial current density per volume [A.m-3]\"\u001b[0m\u001b[0;34m]\u001b[0m\u001b[0;34m.\u001b[0m\u001b[0mentries\u001b[0m\u001b[0;34m\u001b[0m\u001b[0;34m\u001b[0m\u001b[0m\n\u001b[0m\u001b[1;32m      5\u001b[0m     \u001b[0mplt\u001b[0m\u001b[0;34m.\u001b[0m\u001b[0mplot\u001b[0m\u001b[0;34m(\u001b[0m\u001b[0mt_i\u001b[0m\u001b[0;34m,\u001b[0m \u001b[0mj_n_p1_Vav\u001b[0m\u001b[0;34m,\u001b[0m\u001b[0mltype\u001b[0m\u001b[0;34m[\u001b[0m\u001b[0mi\u001b[0m\u001b[0;34m]\u001b[0m\u001b[0;34m,\u001b[0m\u001b[0mlabel\u001b[0m\u001b[0;34m=\u001b[0m\u001b[0;34m\"$V_\\mathrm{si}=$\"\u001b[0m\u001b[0;34m+\u001b[0m\u001b[0mstr\u001b[0m\u001b[0;34m(\u001b[0m\u001b[0mv_si\u001b[0m\u001b[0;34m[\u001b[0m\u001b[0mi\u001b[0m\u001b[0;34m]\u001b[0m\u001b[0;34m)\u001b[0m\u001b[0;34m)\u001b[0m\u001b[0;34m\u001b[0m\u001b[0;34m\u001b[0m\u001b[0m\n\u001b[1;32m      6\u001b[0m \u001b[0mplt\u001b[0m\u001b[0;34m.\u001b[0m\u001b[0mxlabel\u001b[0m\u001b[0;34m(\u001b[0m\u001b[0;34m'Time [h]'\u001b[0m\u001b[0;34m)\u001b[0m\u001b[0;34m\u001b[0m\u001b[0;34m\u001b[0m\u001b[0m\n",
      "\u001b[0;32m~/Documents/Energy_storage/PyBaMM/pybamm/solvers/solution.py\u001b[0m in \u001b[0;36m__getitem__\u001b[0;34m(self, key)\u001b[0m\n\u001b[1;32m    548\u001b[0m         \u001b[0;32melse\u001b[0m\u001b[0;34m:\u001b[0m\u001b[0;34m\u001b[0m\u001b[0;34m\u001b[0m\u001b[0m\n\u001b[1;32m    549\u001b[0m             \u001b[0;31m# otherwise create it, save it and then return it\u001b[0m\u001b[0;34m\u001b[0m\u001b[0;34m\u001b[0m\u001b[0;34m\u001b[0m\u001b[0m\n\u001b[0;32m--> 550\u001b[0;31m             \u001b[0mself\u001b[0m\u001b[0;34m.\u001b[0m\u001b[0mupdate\u001b[0m\u001b[0;34m(\u001b[0m\u001b[0mkey\u001b[0m\u001b[0;34m)\u001b[0m\u001b[0;34m\u001b[0m\u001b[0;34m\u001b[0m\u001b[0m\n\u001b[0m\u001b[1;32m    551\u001b[0m             \u001b[0;32mreturn\u001b[0m \u001b[0mself\u001b[0m\u001b[0;34m.\u001b[0m\u001b[0m_variables\u001b[0m\u001b[0;34m[\u001b[0m\u001b[0mkey\u001b[0m\u001b[0;34m]\u001b[0m\u001b[0;34m\u001b[0m\u001b[0;34m\u001b[0m\u001b[0m\n\u001b[1;32m    552\u001b[0m \u001b[0;34m\u001b[0m\u001b[0m\n",
      "\u001b[0;32m~/Documents/Energy_storage/PyBaMM/pybamm/solvers/solution.py\u001b[0m in \u001b[0;36mupdate\u001b[0;34m(self, variables)\u001b[0m\n\u001b[1;32m    486\u001b[0m             \u001b[0;31m# Otherwise a standard ProcessedVariable is ok\u001b[0m\u001b[0;34m\u001b[0m\u001b[0;34m\u001b[0m\u001b[0;34m\u001b[0m\u001b[0m\n\u001b[1;32m    487\u001b[0m             \u001b[0;32melse\u001b[0m\u001b[0;34m:\u001b[0m\u001b[0;34m\u001b[0m\u001b[0;34m\u001b[0m\u001b[0m\n\u001b[0;32m--> 488\u001b[0;31m                 vars_pybamm = [\n\u001b[0m\u001b[1;32m    489\u001b[0m                     \u001b[0mmodel\u001b[0m\u001b[0;34m.\u001b[0m\u001b[0mvariables_and_events\u001b[0m\u001b[0;34m[\u001b[0m\u001b[0mkey\u001b[0m\u001b[0;34m]\u001b[0m \u001b[0;32mfor\u001b[0m \u001b[0mmodel\u001b[0m \u001b[0;32min\u001b[0m \u001b[0mself\u001b[0m\u001b[0;34m.\u001b[0m\u001b[0mall_models\u001b[0m\u001b[0;34m\u001b[0m\u001b[0;34m\u001b[0m\u001b[0m\n\u001b[1;32m    490\u001b[0m                 ]\n",
      "\u001b[0;32m~/Documents/Energy_storage/PyBaMM/pybamm/solvers/solution.py\u001b[0m in \u001b[0;36m<listcomp>\u001b[0;34m(.0)\u001b[0m\n\u001b[1;32m    487\u001b[0m             \u001b[0;32melse\u001b[0m\u001b[0;34m:\u001b[0m\u001b[0;34m\u001b[0m\u001b[0;34m\u001b[0m\u001b[0m\n\u001b[1;32m    488\u001b[0m                 vars_pybamm = [\n\u001b[0;32m--> 489\u001b[0;31m                     \u001b[0mmodel\u001b[0m\u001b[0;34m.\u001b[0m\u001b[0mvariables_and_events\u001b[0m\u001b[0;34m[\u001b[0m\u001b[0mkey\u001b[0m\u001b[0;34m]\u001b[0m \u001b[0;32mfor\u001b[0m \u001b[0mmodel\u001b[0m \u001b[0;32min\u001b[0m \u001b[0mself\u001b[0m\u001b[0;34m.\u001b[0m\u001b[0mall_models\u001b[0m\u001b[0;34m\u001b[0m\u001b[0;34m\u001b[0m\u001b[0m\n\u001b[0m\u001b[1;32m    490\u001b[0m                 ]\n\u001b[1;32m    491\u001b[0m \u001b[0;34m\u001b[0m\u001b[0m\n",
      "\u001b[0;31mKeyError\u001b[0m: 'X-averaged negative electrode primary interfacial current density per volume [A.m-3]'"
     ]
    },
    {
     "data": {
      "text/plain": [
       "<Figure size 432x288 with 0 Axes>"
      ]
     },
     "metadata": {},
     "output_type": "display_data"
    }
   ],
   "source": [
    "plt.figure()\n",
    "for i in range(0,len(v_si)):\n",
    "    t_i = solution[i][\"Time [s]\"].entries / 3600\n",
    "    j_n_p1_Vav = solution[i][\"X-averaged negative electrode primary interfacial current density per volume [A.m-3]\"].entries\n",
    "    plt.plot(t_i, j_n_p1_Vav,ltype[i],label=\"$V_\\mathrm{si}=$\"+str(v_si[i]))\n",
    "plt.xlabel('Time [h]')\n",
    "plt.ylabel('Averaged interfacial current density per volume [A/m$^{2}$]')\n",
    "plt.legend()\n",
    "plt.title('Graphite')\n",
    "\n",
    "plt.figure()\n",
    "for i in range(0,len(v_si)):\n",
    "    t_i = solution[i][\"Time [s]\"].entries / 3600\n",
    "    j_n_p2_Vav = solution[i][\"X-averaged negative electrode secondary interfacial current density per volume [A.m-3]\"].entries\n",
    "    plt.plot(t_i, j_n_p2_Vav,ltype[i],label=\"$V_\\mathrm{si}=$\"+str(v_si[i]))\n",
    "plt.xlabel('Time [h]')\n",
    "plt.ylabel('Averaged interfacial current density per volume [A/m$^{3}$]')\n",
    "plt.legend()\n",
    "plt.title('Silicon')"
   ]
  },
  {
   "cell_type": "markdown",
   "id": "1d2efd36",
   "metadata": {},
   "source": [
    "Results of average lithium concentration"
   ]
  },
  {
   "cell_type": "code",
   "execution_count": null,
   "id": "302e7bb8",
   "metadata": {},
   "outputs": [],
   "source": [
    "plt.figure()\n",
    "for i in range(0,len(v_si)):\n",
    "    t_i = solution[i][\"Time [s]\"].entries / 3600\n",
    "    c_s_xrav_n_p1 = solution[i][\"Average negative primary particle concentration\"].entries\n",
    "    plt.plot(t_i, c_s_xrav_n_p1 ,ltype[i],label=\"$V_\\mathrm{si}=$\"+str(v_si[i]))\n",
    "plt.xlabel('Time [h]')\n",
    "plt.ylabel(\"$c_\\mathrm{g}/c_\\mathrm{g,max}$\")\n",
    "plt.legend()\n",
    "plt.title('Graphite')\n",
    "\n",
    "plt.figure()\n",
    "for i in range(0,len(v_si)):\n",
    "    t_i = solution[i][\"Time [s]\"].entries / 3600\n",
    "    c_s_xrav_n_p2 = solution[i][\"Average negative secondary particle concentration\"].entries\n",
    "    plt.plot(t_i, c_s_xrav_n_p2,ltype[i],label=\"$V_\\mathrm{si}=$\"+str(v_si[i]))\n",
    "plt.xlabel('Time [h]')\n",
    "plt.ylabel(\"$c_\\mathrm{si}/c_\\mathrm{si,max}$\")\n",
    "plt.legend()\n",
    "plt.title('Silicon')"
   ]
  },
  {
   "cell_type": "markdown",
   "id": "299bd7ec",
   "metadata": {},
   "source": [
    "Results of equilibrium potential"
   ]
  },
  {
   "cell_type": "code",
   "execution_count": null,
   "id": "cfd2994e",
   "metadata": {},
   "outputs": [],
   "source": [
    "plt.figure()\n",
    "for i in range(0,len(v_si)):\n",
    "    t_i = solution[i][\"Time [s]\"].entries / 3600\n",
    "    ocp_p1 = solution[i][\"X-averaged negative electrode primary open circuit potential [V]\"].entries\n",
    "    plt.plot(t_i, ocp_p1 ,ltype[i],label=\"$V_\\mathrm{si}=$\"+str(v_si[i]))\n",
    "plt.xlabel('Time [h]')\n",
    "plt.ylabel(\"Equilibruim potential [V]\")\n",
    "plt.legend()\n",
    "plt.title('Graphite')\n",
    "\n",
    "plt.figure()\n",
    "for i in range(0,len(v_si)):\n",
    "    t_i = solution[i][\"Time [s]\"].entries / 3600\n",
    "    ocp_p2 = solution[i][\"X-averaged negative electrode secondary open circuit potential [V]\"].entries\n",
    "    plt.plot(t_i, ocp_p2,ltype[i],label=\"$V_\\mathrm{si}=$\"+str(v_si[i]))\n",
    "plt.xlabel('Time [h]')\n",
    "plt.ylabel(\"Equilibruim potential [V]\")\n",
    "plt.legend()\n",
    "plt.title('Silicon')\n",
    "\n",
    "plt.figure()\n",
    "for i in range(0,len(v_si)):\n",
    "    t_i = solution[len(v_si)- 1 - i][\"Time [s]\"].entries / 3600\n",
    "    ocp_p = solution[len(v_si)- 1 - i][\"X-averaged positive electrode open circuit potential [V]\"].entries\n",
    "    plt.plot(t_i, ocp_p,ltype[len(v_si)- 1 - i],label=\"$V_\\mathrm{si}=$\"+str(v_si[len(v_si)- 1 - i]))\n",
    "plt.xlabel('Time [h]')\n",
    "plt.ylabel(\"Equilibrium potential [V]\")\n",
    "plt.legend()\n",
    "plt.title('NMC811')"
   ]
  },
  {
   "cell_type": "markdown",
   "id": "e9a2ba08",
   "metadata": {},
   "source": [
    "## References\n",
    "\n",
    "The relevant papers for this notebook are:"
   ]
  },
  {
   "cell_type": "code",
   "execution_count": null,
   "id": "5e9e5819",
   "metadata": {},
   "outputs": [],
   "source": [
    "pybamm.print_citations()"
   ]
  },
  {
   "cell_type": "code",
   "execution_count": null,
   "id": "9cff9f95",
   "metadata": {},
   "outputs": [],
   "source": []
  }
 ],
 "metadata": {
  "kernelspec": {
   "display_name": "Python 3 (ipykernel)",
   "language": "python",
   "name": "python3"
  },
  "language_info": {
   "codemirror_mode": {
    "name": "ipython",
    "version": 3
   },
   "file_extension": ".py",
   "mimetype": "text/x-python",
   "name": "python",
   "nbconvert_exporter": "python",
   "pygments_lexer": "ipython3",
   "version": "3.8.12"
  },
  "toc": {
   "base_numbering": 1,
   "nav_menu": {},
   "number_sections": true,
   "sideBar": true,
   "skip_h1_title": false,
   "title_cell": "Table of Contents",
   "title_sidebar": "Contents",
   "toc_cell": false,
   "toc_position": {},
   "toc_section_display": true,
   "toc_window_display": true
  }
 },
 "nbformat": 4,
 "nbformat_minor": 5
}
