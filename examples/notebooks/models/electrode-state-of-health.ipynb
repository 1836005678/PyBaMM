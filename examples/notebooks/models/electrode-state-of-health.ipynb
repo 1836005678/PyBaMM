{
 "cells": [
  {
   "cell_type": "markdown",
   "metadata": {},
   "source": [
    "# Electrode State of Health"
   ]
  },
  {
   "cell_type": "markdown",
   "metadata": {},
   "source": [
    "This notebook demonstrates some utilities to work with electrode State of Health (also sometimes called electrode stoichiometry), using the algorithm from Mohtat et al [1]\n",
    "\n",
    "[1] Mohtat, P., Lee, S., Siegel, J. B., & Stefanopoulou, A. G. (2019). Towards better estimability of electrode-specific state of health: Decoding the cell expansion. Journal of Power Sources, 427, 101-111."
   ]
  },
  {
   "cell_type": "code",
   "execution_count": 1,
   "metadata": {},
   "outputs": [],
   "source": [
    "# %pip install pybamm -q    # install PyBaMM if it is not installed\n",
    "import pybamm\n",
    "import matplotlib.pyplot as plt\n",
    "import numpy as np"
   ]
  },
  {
   "cell_type": "markdown",
   "metadata": {},
   "source": [
    "## Create and solve model"
   ]
  },
  {
   "cell_type": "code",
   "execution_count": 2,
   "metadata": {},
   "outputs": [
    {
     "ename": "AttributeError",
     "evalue": "'LithiumIonParameters' object has no attribute 'n'",
     "output_type": "error",
     "traceback": [
      "\u001b[0;31m---------------------------------------------------------------------------\u001b[0m",
      "\u001b[0;31mAttributeError\u001b[0m                            Traceback (most recent call last)",
      "Input \u001b[0;32mIn [2]\u001b[0m, in \u001b[0;36m<cell line: 11>\u001b[0;34m()\u001b[0m\n\u001b[1;32m      8\u001b[0m parameter_values \u001b[38;5;241m=\u001b[39m pybamm\u001b[38;5;241m.\u001b[39mParameterValues(\u001b[38;5;124m\"\u001b[39m\u001b[38;5;124mMohtat2020\u001b[39m\u001b[38;5;124m\"\u001b[39m)\n\u001b[1;32m     10\u001b[0m sim \u001b[38;5;241m=\u001b[39m pybamm\u001b[38;5;241m.\u001b[39mSimulation(spm, experiment\u001b[38;5;241m=\u001b[39mexperiment, parameter_values\u001b[38;5;241m=\u001b[39mparameter_values)\n\u001b[0;32m---> 11\u001b[0m spm_sol \u001b[38;5;241m=\u001b[39m \u001b[43msim\u001b[49m\u001b[38;5;241;43m.\u001b[39;49m\u001b[43msolve\u001b[49m\u001b[43m(\u001b[49m\u001b[43m)\u001b[49m\n\u001b[1;32m     12\u001b[0m spm_sol\u001b[38;5;241m.\u001b[39mplot([\n\u001b[1;32m     13\u001b[0m     \u001b[38;5;124m\"\u001b[39m\u001b[38;5;124mTerminal voltage [V]\u001b[39m\u001b[38;5;124m\"\u001b[39m, \n\u001b[1;32m     14\u001b[0m     \u001b[38;5;124m\"\u001b[39m\u001b[38;5;124mCurrent [A]\u001b[39m\u001b[38;5;124m\"\u001b[39m, \n\u001b[1;32m     15\u001b[0m     \u001b[38;5;124m\"\u001b[39m\u001b[38;5;124mNegative electrode SOC\u001b[39m\u001b[38;5;124m\"\u001b[39m,\n\u001b[1;32m     16\u001b[0m     \u001b[38;5;124m\"\u001b[39m\u001b[38;5;124mPositive electrode SOC\u001b[39m\u001b[38;5;124m\"\u001b[39m,\n\u001b[1;32m     17\u001b[0m ])\n",
      "File \u001b[0;32m~/PycharmProjects/PyBaMM/pybamm/simulation.py:740\u001b[0m, in \u001b[0;36mSimulation.solve\u001b[0;34m(self, t_eval, solver, check_model, save_at_cycles, calc_esoh, starting_solution, initial_soc, **kwargs)\u001b[0m\n\u001b[1;32m    738\u001b[0m \u001b[38;5;66;03m# Set up eSOH model (for summary variables)\u001b[39;00m\n\u001b[1;32m    739\u001b[0m \u001b[38;5;28;01mif\u001b[39;00m calc_esoh \u001b[38;5;129;01mis\u001b[39;00m \u001b[38;5;28;01mTrue\u001b[39;00m:\n\u001b[0;32m--> 740\u001b[0m     esoh_model \u001b[38;5;241m=\u001b[39m \u001b[43mpybamm\u001b[49m\u001b[38;5;241;43m.\u001b[39;49m\u001b[43mlithium_ion\u001b[49m\u001b[38;5;241;43m.\u001b[39;49m\u001b[43mElectrodeSOH\u001b[49m\u001b[43m(\u001b[49m\u001b[38;5;28;43mself\u001b[39;49m\u001b[38;5;241;43m.\u001b[39;49m\u001b[43mparameter_values\u001b[49m\u001b[43m)\u001b[49m\n\u001b[1;32m    741\u001b[0m     esoh_sim \u001b[38;5;241m=\u001b[39m pybamm\u001b[38;5;241m.\u001b[39mSimulation(\n\u001b[1;32m    742\u001b[0m         esoh_model, parameter_values\u001b[38;5;241m=\u001b[39m\u001b[38;5;28mself\u001b[39m\u001b[38;5;241m.\u001b[39mparameter_values\n\u001b[1;32m    743\u001b[0m     )\n\u001b[1;32m    744\u001b[0m \u001b[38;5;28;01melse\u001b[39;00m:\n",
      "File \u001b[0;32m~/PycharmProjects/PyBaMM/pybamm/models/full_battery_models/lithium_ion/electrode_soh.py:41\u001b[0m, in \u001b[0;36mElectrodeSOH.__init__\u001b[0;34m(self, parameter_values, name)\u001b[0m\n\u001b[1;32m     37\u001b[0m \u001b[38;5;28msuper\u001b[39m()\u001b[38;5;241m.\u001b[39m\u001b[38;5;21m__init__\u001b[39m(name)\n\u001b[1;32m     39\u001b[0m param \u001b[38;5;241m=\u001b[39m pybamm\u001b[38;5;241m.\u001b[39mLithiumIonParameters()\n\u001b[0;32m---> 41\u001b[0m Un \u001b[38;5;241m=\u001b[39m \u001b[43mparam\u001b[49m\u001b[38;5;241;43m.\u001b[39;49m\u001b[43mn\u001b[49m\u001b[38;5;241m.\u001b[39mU_dimensional\n\u001b[1;32m     42\u001b[0m Up \u001b[38;5;241m=\u001b[39m param\u001b[38;5;241m.\u001b[39mp\u001b[38;5;241m.\u001b[39mU_dimensional\n\u001b[1;32m     43\u001b[0m T_ref \u001b[38;5;241m=\u001b[39m param\u001b[38;5;241m.\u001b[39mT_ref\n",
      "\u001b[0;31mAttributeError\u001b[0m: 'LithiumIonParameters' object has no attribute 'n'"
     ]
    }
   ],
   "source": [
    "spm = pybamm.lithium_ion.SPM()\n",
    "experiment = pybamm.Experiment([\n",
    "    \"Charge at 1C until 4.2V\", \n",
    "    \"Hold at 4.2V until C/50\",\n",
    "    \"Discharge at 1C until 2.8V\",\n",
    "    \"Hold at 2.8V until C/50\",\n",
    "])\n",
    "parameter_values = pybamm.ParameterValues(\"Mohtat2020\")\n",
    "\n",
    "sim = pybamm.Simulation(spm, experiment=experiment, parameter_values=parameter_values)\n",
    "spm_sol = sim.solve()\n",
    "spm_sol.plot([\n",
    "    \"Terminal voltage [V]\", \n",
    "    \"Current [A]\", \n",
    "    \"Negative electrode SOC\",\n",
    "    \"Positive electrode SOC\",\n",
    "])"
   ]
  },
  {
   "cell_type": "markdown",
   "metadata": {},
   "source": [
    "## Solve for electrode SOH variables"
   ]
  },
  {
   "cell_type": "markdown",
   "metadata": {},
   "source": [
    "Given a total amount of lithium, $n_{Li}$, electrode capacities, $C_n$ and $C_p$, and voltage limits, $V_{min}$ and $V_{max}$, we can solve for the min and max electrode SOCs, $x_0$, $x_{100}$, $y_0$, and $y_{100}$,  and the cell capacity, $C$, using the algorithm from Mohtat et al [1].\n",
    "First, we find $x_{100}$ and $y_{100}$ using\n",
    "$$\n",
    "\\begin{align}\n",
    "n_{Li} &= \\frac{3600}{F}(y_{100}C_p + x_{100}C_n),\n",
    "\\\\\n",
    "V_{max} &= U_p(y_{100}) - U_n(x_{100}).\n",
    "\\end{align}\n",
    "$$\n",
    "Then, we find $C$ using\n",
    "$$\n",
    "\\begin{align}\n",
    "V_{min} &= U_p(y_{0}) - U_n(x_{0})\n",
    "\\\\\n",
    "&= U_p\\left(y_{100} + \\frac{C}{C_p}\\right) - U_n\\left(x_{100} - \\frac{C}{C_n}\\right)\n",
    "\\end{align}\n",
    "$$\n",
    "Finally, $x_0$ and $y_0$ are simply defined as\n",
    "$$\n",
    "\\begin{align}\n",
    "x_0 &= x_{100} - \\frac{C}{C_n},\n",
    "\\\\\n",
    "y_0 &= y_{100} + \\frac{C}{C_p}.\n",
    "\\end{align}\n",
    "$$\n",
    "We implement this in pybamm as an algebraic model."
   ]
  },
  {
   "cell_type": "code",
   "execution_count": null,
   "metadata": {},
   "outputs": [],
   "source": [
    "param = pybamm.LithiumIonParameters()\n",
    "\n",
    "Vmin = 2.8\n",
    "Vmax = 4.2\n",
    "Cn = parameter_values.evaluate(param.C_n_init)\n",
    "Cp = parameter_values.evaluate(param.C_p_init)\n",
    "n_Li = parameter_values.evaluate(param.n_Li_particles_init)\n",
    "\n",
    "Un = param.U_n_dimensional\n",
    "Up = param.U_p_dimensional\n",
    "T_ref = param.T_ref"
   ]
  },
  {
   "cell_type": "code",
   "execution_count": null,
   "metadata": {},
   "outputs": [],
   "source": [
    "# First we solve for x_100 and y_100\n",
    "\n",
    "model = pybamm.BaseModel()\n",
    "\n",
    "x_100 = pybamm.Variable(\"x_100\")\n",
    "y_100 = (n_Li * param.F / 3600 - x_100 * Cn) / Cp\n",
    "\n",
    "y_100_min = 1e-10\n",
    "x_100_upper_limit = min(((n_Li * param.F) / 3600 - y_100_min*Cp)/Cn, 1-1e-10)\n",
    "\n",
    "\n",
    "Vmax_init = parameter_values.evaluate(Up(y_100_min, T_ref)) - parameter_values.evaluate(Un(x_100_upper_limit, T_ref))\n",
    "Vmin_init = parameter_values.evaluate(Up(y_100_min + 1, T_ref)) - parameter_values.evaluate(Un(x_100_upper_limit - Cp/Cn, T_ref))\n",
    "\n",
    "\n",
    "if isinstance(parameter_values[\"Positive electrode OCP [V]\"], tuple):\n",
    "    # if data is provided for the Positive (or Negative) electrode OCP [V] \n",
    "    # the intial conditions must be within the bounds of this data to prevent extrapolation errors\n",
    "    y_100_min = np.min(parameter_values[\"Positive electrode OCP [V]\"][1][1])\n",
    "    x_100_upper_limit = (n_Li * pybamm.constants.F.value / 3600 - y_100_min * Cp) / Cn\n",
    "\n",
    "    V_lower_bound = min(parameter_values[\"Positive electrode OCP [V]\"][1][1]) - parameter_values[\"Negative electrode OCP [V]\"](x_100_upper_limit).evaluate()\n",
    "    V_upper_bound = max(parameter_values[\"Positive electrode OCP [V]\"][1][1]) - parameter_values[\"Negative electrode OCP [V]\"](x_100_upper_limit).evaluate()\n",
    "\n",
    "    if Vmin_init[0][0] < V_lower_bound:\n",
    "        raise(ValueError(\"Initial voltage is outside bounds of OCP data in parameter set. Revise initial values.\"))\n",
    "\n",
    "    if Vmax_init[0][0] > V_upper_bound:\n",
    "        raise(ValueError(\"Initial voltage is outside bounds of OCP data in parameter set. Revise initial values.\"))\n",
    "\n",
    "\n",
    "model.algebraic = {\n",
    "    x_100: Up(y_100, T_ref) - Un(x_100, T_ref) - Vmax + 1e5*(y_100<0) + 1e5*(x_100>1),\n",
    "}\n",
    "\n",
    "\n",
    "model.initial_conditions = {\n",
    "    x_100: x_100_upper_limit\n",
    "}\n",
    "\n",
    "model.variables = {\n",
    "\"x_100\": x_100,\n",
    "\"y_100\": y_100\n",
    "}\n",
    "\n",
    "\n",
    "sim = pybamm.Simulation(model, parameter_values=parameter_values)\n",
    "\n",
    "sol = sim.solve([0])\n",
    "\n",
    "x_100 = sol[\"x_100\"].data[0]\n",
    "y_100 = sol[\"y_100\"].data[0]\n",
    "\n",
    "for var in [\"x_100\", \"y_100\"]:\n",
    "    print(var, \":\", sol[var].data[0])\n",
    "\n",
    "# Based on the calculated values for x_100 and y_100 we solve for C\n",
    "model = pybamm.BaseModel()\n",
    "\n",
    "C = pybamm.Variable(\"C\")\n",
    "x_0 = x_100 - C/Cn\n",
    "y_0 = y_100 + C/Cp\n",
    "\n",
    "model.algebraic = {\n",
    "C: Up(y_0, T_ref) - Un(x_0, T_ref) - Vmin\n",
    "}\n",
    "\n",
    "model.initial_conditions = {C: Cp}\n",
    "\n",
    "model.variables = {\n",
    "    \"C\": C,\n",
    "    \"x_0\": x_0,\n",
    "    \"y_0\": y_0,\n",
    "}\n",
    "\n",
    "sim = pybamm.Simulation(model, parameter_values=parameter_values)\n",
    "sol = sim.solve([0])\n",
    "\n",
    "\n",
    "for var in [\"C\", \"x_0\", \"y_0\"]:\n",
    "print(var, \":\", sol[var].data[0])"
   ]
  },
  {
   "cell_type": "markdown",
   "metadata": {},
   "source": [
    "This model is implemented in PyBaMM as the `ElectrodeSOH` model"
   ]
  },
  {
   "cell_type": "code",
   "execution_count": null,
   "metadata": {},
   "outputs": [],
   "source": [
    "model = pybamm.lithium_ion.ElectrodeSOH()\n",
    "sim = pybamm.Simulation(model, parameter_values=parameter_values)\n",
    "esoh_sol = sim.solve(\n",
    "    [0],\n",
    "    inputs={ \"V_min\": Vmin, \"V_max\": Vmax, \"C_n\": Cn, \"C_p\": Cp, \"n_Li\": n_Li},\n",
    ")\n",
    "for var in [\"x_100\", \"y_100\", \"C\", \"x_0\", \"y_0\"]:\n",
    "    print(var, \":\", esoh_sol[var].data[0])"
   ]
  },
  {
   "cell_type": "markdown",
   "metadata": {},
   "source": [
    "## Check against simulations"
   ]
  },
  {
   "cell_type": "markdown",
   "metadata": {},
   "source": [
    "Plotting the SPM simulations against the eSOH calculations validates the min/max stoichiometry calculations"
   ]
  },
  {
   "cell_type": "code",
   "execution_count": null,
   "metadata": {},
   "outputs": [],
   "source": [
    "t = spm_sol[\"Time [h]\"].data\n",
    "x_spm = spm_sol[\"Negative electrode SOC\"].data\n",
    "y_spm = spm_sol[\"Positive electrode SOC\"].data\n",
    "\n",
    "x_0 = esoh_sol[\"x_0\"].data * np.ones_like(t)\n",
    "y_0 = esoh_sol[\"y_0\"].data * np.ones_like(t)\n",
    "x_100 = esoh_sol[\"x_100\"].data * np.ones_like(t)\n",
    "y_100 = esoh_sol[\"y_100\"].data * np.ones_like(t)\n",
    "\n",
    "fig, axes = plt.subplots(1,2)\n",
    "\n",
    "axes[0].plot(t, x_spm, \"b\")\n",
    "axes[0].plot(t, x_0, \"k:\")\n",
    "axes[0].plot(t, x_100, \"k:\")\n",
    "axes[0].set_ylabel(\"x\")\n",
    "    \n",
    "axes[1].plot(t, y_spm, \"r\")\n",
    "axes[1].plot(t, y_0, \"k:\")\n",
    "axes[1].plot(t, y_100, \"k:\")\n",
    "axes[1].set_ylabel(\"y\")\n",
    "    \n",
    "for k in range(2):\n",
    "    axes[k].set_xlim([t[0],t[-1]])\n",
    "    axes[k].set_ylim([0,1])    \n",
    "    axes[k].set_xlabel(\"Time [h]\")\n",
    "    \n",
    "fig.tight_layout()\n"
   ]
  },
  {
   "cell_type": "markdown",
   "metadata": {},
   "source": [
    "## References\n",
    "\n",
    "The relevant papers for this notebook are:"
   ]
  },
  {
   "cell_type": "code",
   "execution_count": null,
   "metadata": {},
   "outputs": [],
   "source": [
    "pybamm.print_citations()"
   ]
  },
  {
   "cell_type": "code",
   "execution_count": null,
   "metadata": {},
   "outputs": [],
   "source": []
  }
 ],
 "metadata": {
  "kernelspec": {
   "display_name": "Python 3 (ipykernel)",
   "language": "python",
   "name": "python3"
  },
  "language_info": {
   "codemirror_mode": {
    "name": "ipython",
    "version": 3
   },
   "file_extension": ".py",
   "mimetype": "text/x-python",
   "name": "python",
   "nbconvert_exporter": "python",
   "pygments_lexer": "ipython3",
   "version": "3.9.0"
  },
  "toc": {
   "base_numbering": 1,
   "nav_menu": {},
   "number_sections": true,
   "sideBar": true,
   "skip_h1_title": false,
   "title_cell": "Table of Contents",
   "title_sidebar": "Contents",
   "toc_cell": false,
   "toc_position": {},
   "toc_section_display": true,
   "toc_window_display": true
  }
 },
 "nbformat": 4,
 "nbformat_minor": 4
}
