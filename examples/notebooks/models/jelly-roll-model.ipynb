{
 "cells": [
  {
   "cell_type": "code",
   "execution_count": 1,
   "id": "heard-cartridge",
   "metadata": {},
   "outputs": [],
   "source": [
    "import pybamm\n",
    "import numpy as np \n",
    "from numpy import pi\n",
    "import matplotlib.pyplot as plt "
   ]
  },
  {
   "cell_type": "code",
   "execution_count": 2,
   "id": "herbal-organizer",
   "metadata": {},
   "outputs": [],
   "source": [
    "# parameters \n",
    "N = 20\n",
    "r0 = 0.25\n",
    "eps = (1-r0)/N\n",
    "delta = 0.05\n",
    "V = 1\n",
    "sigma_a = 1\n",
    "sigma_cc = 5*1e6\n",
    "sigma = sigma_a / sigma_cc / eps**4 "
   ]
  },
  {
   "cell_type": "code",
   "execution_count": 3,
   "id": "virgin-wrestling",
   "metadata": {},
   "outputs": [],
   "source": [
    "# model\n",
    "model = pybamm.BaseModel()\n",
    "r = pybamm.SpatialVariable(\"radius\", domain=\"radius\", coord_sys=\"cylindrical polar\")\n",
    "phi_n = pybamm.Variable(\"Negative potential\", domain=\"radius\")\n",
    "phi_p = pybamm.Variable(\"Positive potential\", domain=\"radius\")\n",
    "\n",
    "A = 8 * pi **2 *sigma / delta / (1-4*delta)\n",
    "# 1/r d(1/r  d\\phi^+/dr)/dr = -8 \\pi^2 \\sigma (\\phi^- - \\phi^+) / \\delta(1 - 4\\delta)\n",
    "# 1/r d(1/r  d\\phi^-/dr)/dr =  8 \\pi^2 \\sigma (\\phi^- - \\phi^+) / \\delta(1 - 4\\delta)\n",
    "# Note: in cylindrical polars 1/r d(1/r dphi/dr) = div(1/r^2 grad(phi))\n",
    "model.algebraic = {\n",
    "        phi_p: pybamm.div((1 / r ** 2) * pybamm.grad(phi_p)) + A * (phi_n - phi_p),\n",
    "        phi_n: pybamm.div((1 / r ** 2) * pybamm.grad(phi_n)) - A * (phi_n - phi_p),\n",
    "}\n",
    "model.boundary_conditions = {\n",
    "    phi_p: {\n",
    "        \"left\": (0, \"Neumann\"),\n",
    "        \"right\": (V, \"Dirichlet\"),\n",
    "    },\n",
    "    phi_n: {\n",
    "        \"left\": (0, \"Dirichlet\"),\n",
    "        \"right\": (0, \"Neumann\"),\n",
    "    }    \n",
    "}\n",
    "model.initial_conditions = {phi_p: V, phi_n: 0}  # initial guess for solver\n",
    "model.variables = {\"Negative potential\": phi_n, \"Positive potential\": phi_p}"
   ]
  },
  {
   "cell_type": "code",
   "execution_count": 4,
   "id": "technological-electric",
   "metadata": {},
   "outputs": [],
   "source": [
    "# geometry\n",
    "geometry = {\"radius\": {r: {\"min\": r0, \"max\": 1}}}"
   ]
  },
  {
   "cell_type": "code",
   "execution_count": 5,
   "id": "buried-blind",
   "metadata": {},
   "outputs": [],
   "source": [
    "# discretisation\n",
    "submesh_types = {\"radius\": pybamm.Uniform1DSubMesh}\n",
    "var_pts = {r: 100}\n",
    "mesh = pybamm.Mesh(geometry, submesh_types, var_pts)\n",
    "spatial_methods = {\"radius\": pybamm.FiniteVolume()}\n",
    "disc = pybamm.Discretisation(mesh, spatial_methods)\n",
    "disc.process_model(model);"
   ]
  },
  {
   "cell_type": "code",
   "execution_count": 6,
   "id": "straight-anime",
   "metadata": {},
   "outputs": [],
   "source": [
    "# solver \n",
    "solver = pybamm.CasadiAlgebraicSolver()\n",
    "solution = solver.solve(model)"
   ]
  },
  {
   "cell_type": "code",
   "execution_count": 7,
   "id": "affecting-albuquerque",
   "metadata": {},
   "outputs": [
    {
     "name": "stderr",
     "output_type": "stream",
     "text": [
      "2021-11-24 10:10:47,443 - [WARNING] processed_variable.get_spatial_scale(520): No length scale set for radius. Using default of 1 [m].\n",
      "2021-11-24 10:10:47,446 - [WARNING] processed_variable.get_spatial_scale(520): No length scale set for radius. Using default of 1 [m].\n"
     ]
    }
   ],
   "source": [
    "# post-process homogenised potential \n",
    "phi_n = solution[\"Negative potential\"]\n",
    "phi_p = solution[\"Positive potential\"]\n",
    "\n",
    "def alpha(r):\n",
    "    return 2 * (phi_n(x=r) - phi_p(x=r))\n",
    "\n",
    "\n",
    "def phi_am1(r, theta):\n",
    "    # careful here - phi always returns a column vector so we need to add a new axis to r to get the right shape \n",
    "    return alpha(r) * (r[:,np.newaxis]/eps - r0/eps - delta - theta / 2 / pi) / (1 - 4*delta) + phi_p(x=r)\n",
    "\n",
    "def phi_am2(r, theta):\n",
    "    # careful here - phi always returns a column vector so we need to add a new axis to r to get the right shape \n",
    "    return alpha(r) * (r0/eps + 1 - delta + theta / 2 / pi - r[:,np.newaxis]/eps) / (1 - 4*delta) + phi_p(x=r)\n",
    "\n"
   ]
  },
  {
   "cell_type": "code",
   "execution_count": 8,
   "id": "taken-hearing",
   "metadata": {},
   "outputs": [],
   "source": [
    "# define spiral \n",
    "spiral_pos_inner = lambda t : r0 - eps * delta + eps * t / (2 * pi)\n",
    "spiral_pos_outer = lambda t : r0 + eps * delta + eps * t / (2 * pi)\n",
    "\n",
    "spiral_neg_inner = lambda t : r0 - eps * delta + eps/2 + eps * t / (2 * pi)\n",
    "spiral_neg_outer = lambda t : r0 + eps * delta + eps/2 + eps * t / (2 * pi)\n",
    "\n",
    "spiral_am1_inner = lambda t : r0 + eps * delta + eps * t / (2 * pi)\n",
    "spiral_am1_outer = lambda t : r0 - eps * delta + eps/2 + eps * t / (2 * pi)\n",
    "\n",
    "spiral_am2_inner = lambda t : r0 + eps * delta + eps/2 + eps * t / (2 * pi)\n",
    "spiral_am2_outer = lambda t : r0 - eps * delta + eps + eps * t / (2 * pi)"
   ]
  },
  {
   "cell_type": "code",
   "execution_count": 9,
   "id": "handled-jacksonville",
   "metadata": {},
   "outputs": [],
   "source": [
    "# Setup fine mesh with nr points per layer\n",
    "nr = 10\n",
    "rr = np.linspace(r0, 1, nr)\n",
    "tt = np.arange(0, (N+1)*2*pi, 2*pi)\n",
    "\n",
    "# N+1 winds of pos c.c.\n",
    "r_mesh_pos = np.zeros((len(tt),len(rr)))\n",
    "for i in range(len(tt)):\n",
    "    r_mesh_pos[i,:] = np.linspace(spiral_pos_inner(tt[i]), spiral_pos_outer(tt[i]), nr)\n",
    "# N winds of neg, am1, am2\n",
    "r_mesh_neg = np.zeros((len(tt)-1, len(rr)))\n",
    "r_mesh_am1 = np.zeros((len(tt)-1, len(rr)))\n",
    "r_mesh_am2 = np.zeros((len(tt)-1, len(rr)))\n",
    "for i in range(len(tt)-1):\n",
    "    r_mesh_am2[i,:] = np.linspace(spiral_am2_inner(tt[i]), spiral_am2_outer(tt[i]), nr)\n",
    "    r_mesh_neg[i,:] = np.linspace(spiral_neg_inner(tt[i]), spiral_neg_outer(tt[i]), nr)\n",
    "    r_mesh_am1[i,:] = np.linspace(spiral_am1_inner(tt[i]), spiral_am1_outer(tt[i]), nr)\n",
    "# Combine and sort    \n",
    "r_total_mesh = np.vstack((r_mesh_pos,r_mesh_neg,r_mesh_am1, r_mesh_am2))\n",
    "r_total_mesh = np.sort(r_total_mesh,axis=None)"
   ]
  },
  {
   "cell_type": "code",
   "execution_count": 10,
   "id": "monetary-belarus",
   "metadata": {
    "scrolled": false
   },
   "outputs": [
    {
     "data": {
      "image/png": "[encoded data removed]",
      "text/plain": [
       "<Figure size 576x576 with 1 Axes>"
      ]
     },
     "metadata": {
      "needs_background": "light"
     },
     "output_type": "display_data"
    }
   ],
   "source": [
    "# plot homogenised potential \n",
    "fig, ax = plt.subplots(1, 1, figsize=(8,8))\n",
    "\n",
    "ax.plot(r_total_mesh, phi_n(x=r_total_mesh), 'b', label=r\"$\\phi^-$\")\n",
    "ax.plot(r_total_mesh, phi_p(x=r_total_mesh), 'r', label=r\"$\\phi^+$\")\n",
    "for i in range(len(tt)):\n",
    "    ax.plot(r_mesh_pos[i,:], phi_p(x=r_mesh_pos[i,:]), 'k', label=r\"$\\phi$\" if i ==0 else \"\")\n",
    "for i in range(len(tt)-1):\n",
    "    ax.plot(r_mesh_neg[i,:], phi_n(x=r_mesh_neg[i,:]), 'k')\n",
    "    ax.plot(r_mesh_am1[i,:], phi_am1(r_mesh_am1[i,:], tt[i]), 'k')\n",
    "    ax.plot(r_mesh_am2[i,:], phi_am2(r_mesh_am2[i,:], tt[i]), 'k')\n",
    "ax.set_xlabel(r\"$r$\")\n",
    "ax.set_ylabel(r\"$\\phi$\")\n",
    "ax.legend();"
   ]
  },
  {
   "cell_type": "code",
   "execution_count": null,
   "id": "amber-spirituality",
   "metadata": {},
   "outputs": [],
   "source": []
  }
 ],
 "metadata": {
  "kernelspec": {
   "display_name": "Python 3",
   "language": "python",
   "name": "python3"
  },
  "language_info": {
   "codemirror_mode": {
    "name": "ipython",
    "version": 3
   },
   "file_extension": ".py",
   "mimetype": "text/x-python",
   "name": "python",
   "nbconvert_exporter": "python",
   "pygments_lexer": "ipython3",
   "version": "3.8.12"
  }
 },
 "nbformat": 4,
 "nbformat_minor": 5
}
