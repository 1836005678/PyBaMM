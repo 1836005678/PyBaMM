{
 "cells": [
  {
   "cell_type": "markdown",
   "metadata": {},
   "source": [
    "# Using crack submodels in PyBaMM\n",
    "In this notebook we show how to use the crack submodel with battery DFN or SPM models. To see all of the models and submodels available in PyBaMM, please take a look at the documentation [here](https://pybamm.readthedocs.io/en/latest/source/models/index.html)."
   ]
  },
  {
   "cell_type": "code",
   "execution_count": 1,
   "metadata": {},
   "outputs": [],
   "source": [
    "import pybamm\n",
    "import os\n",
    "import numpy as np\n",
    "import matplotlib.pyplot as plt\n",
    "os.chdir(pybamm.__path__[0]+'/..')"
   ]
  },
  {
   "cell_type": "markdown",
   "metadata": {},
   "source": [
    "Then we load the DFN. When you load a model in PyBaMM it builds by default. Building the model sets all of the model variables and sets up any variables which are coupled between different submodels: this is the process which couples the submodels together and allows one submodel to access variables from another. If you would like to swap out a submodel in an exisitng battery model you need to load it without building it by passing the keyword `build=False`"
   ]
  },
  {
   "cell_type": "code",
   "execution_count": 2,
   "metadata": {},
   "outputs": [],
   "source": [
    "#model = pybamm.lithium_ion.SPMe(\n",
    "model = pybamm.lithium_ion.DFN(\n",
    "    build=False,options = {\n",
    "        \"particle\": \"Fickian diffusion\",  \n",
    "        \"thermal\": \"lumped\", \n",
    "        \"particle cracking\": \"both\", # other options are \"positive\", \"negative\" or \"none\"\n",
    "    }\n",
    ")"
   ]
  },
  {
   "cell_type": "markdown",
   "metadata": {},
   "source": [
    "This collects all of the submodels which make up the DFN, but doesn't build the model. "
   ]
  },
  {
   "cell_type": "code",
   "execution_count": 3,
   "metadata": {},
   "outputs": [],
   "source": [
    "param = model.default_parameter_values\n",
    "\n",
    "import pandas as pd\n",
    "mechanics = pd.read_csv(\"pybamm/input/parameters/lithium-ion/mechanicals/lico2_graphite_Ai2020/parameters.csv\", \n",
    "                        index_col=0, comment=\"#\", skip_blank_lines=True, header=None)[1][1:].dropna().astype(float).to_dict()\n",
    "param.update(mechanics, check_already_exists=False)\n",
    "## It can update the speed of crack propagation using the commands below:\n",
    "# params.update({\"Negative electrode Number of cracks per unit area of the particle [m-2]\": 3.18e15/100})\n",
    "# param.update({\"Negative electrode Cracking rate\":3.9e-20*1000})"
   ]
  },
  {
   "cell_type": "markdown",
   "metadata": {},
   "source": [
    "We can get the default parameters for the model and update them with the parameters required by the cracking model. Eventually, we would like these to be added to their won chemistry (you might need to adjust the path to the parameters file to your system).\n",
    "Now the model can be processed and solved in the usual way, and we still have access to model defaults such as the default geometry and default spatial methods"
   ]
  },
  {
   "cell_type": "code",
   "execution_count": 4,
   "metadata": {},
   "outputs": [
    {
     "data": {
      "application/vnd.jupyter.widget-view+json": {
       "model_id": "a8781709100142f5a754426317257ef9",
       "version_major": 2,
       "version_minor": 0
      },
      "text/plain": [
       "interactive(children=(FloatSlider(value=0.0, description='t', max=2.0868031269501226, step=0.02086803126950122…"
      ]
     },
     "metadata": {},
     "output_type": "display_data"
    }
   ],
   "source": [
    "experiment = pybamm.Experiment([\n",
    "    \"Discharge at 1C until 3.2 V\",\n",
    "    \"Charge at 1C until 4 V\",\n",
    "])\n",
    "sim = pybamm.Simulation(\n",
    "    model,\n",
    "    experiment=experiment,\n",
    "    parameter_values=param,\n",
    "    solver=pybamm.CasadiSolver(dt_max=0.001),\n",
    ")\n",
    "solution = sim.solve()\n",
    "# plot\n",
    "quick_plot = pybamm.QuickPlot(solution)\n",
    "quick_plot.dynamic_plot();"
   ]
  },
  {
   "cell_type": "markdown",
   "metadata": {},
   "source": [
    "Plot the results as required."
   ]
  },
  {
   "cell_type": "code",
   "execution_count": 5,
   "metadata": {},
   "outputs": [
    {
     "data": {
      "application/vnd.jupyter.widget-view+json": {
       "model_id": "867cd52ecbb348929f46a2b6e8320b0a",
       "version_major": 2,
       "version_minor": 0
      },
      "text/plain": [
       "interactive(children=(FloatSlider(value=0.0, description='t', max=7200.0, step=10.0), Output()), _dom_classes=…"
      ]
     },
     "metadata": {},
     "output_type": "display_data"
    }
   ],
   "source": [
    "# extract voltage\n",
    "stress_t_n_surf = solution[\"Negative particle surface tangential stress\"]\n",
    "c_s_n = solution[\"Negative particle concentration\"]\n",
    "c_s_surf_t=solution[\"Negative particle surface concentration\"]\n",
    "disp_t = solution[\"Negative particle surface displacement [m]\"]\n",
    "l_cr_n_t = solution[\"Negative particle crack length\"]\n",
    "dl_cr = solution [\"Negative particle cracking rate\"]\n",
    "t_all = solution[\"Time [s]\"].entries\n",
    "x = solution[\"x [m]\"].entries[0:19, 0]\n",
    "c_s_n = solution['Negative particle concentration']\n",
    "r_n = solution[\"r_n [m]\"].entries[:, 0, 0]\n",
    "\n",
    "# plot\n",
    "def plot_concentrations(t):\n",
    "    f, (ax1, ax2, ax3, ax4) = plt.subplots(1, 4 ,figsize=(20,4))\n",
    "    ax1.plot(x, stress_t_n_surf(t=t,x=x))\n",
    "    ax1.set_xlabel(r'$x_n$ [m]')\n",
    "    ax1.set_ylabel('$\\sigma_t/E_n$')\n",
    "    \n",
    "    plot_c_n, = ax2.plot(r_n, c_s_n(r=r_n,t=t,x=x[0]))  # can evaluate at arbitrary x (single representative particle)\n",
    "    ax2.set_ylabel('Negative particle concentration')\n",
    "    ax2.set_xlabel(r'$r_n$ [m]')\n",
    "    ax2.set_ylim(0, 1)\n",
    "    ax2.set_title('Close to current collector')\n",
    "    ax2.grid()\n",
    "    \n",
    "    plot_c_n, = ax3.plot(r_n, c_s_n(r=r_n,t=t,x=x[10]))  # can evaluate at arbitrary x (single representative particle)\n",
    "    ax3.set_ylabel('Negative particle concentration')\n",
    "    ax3.set_xlabel(r'$r_n$ [m]')\n",
    "    ax3.set_ylim(0, 1)  \n",
    "    ax3.set_title('In the middle')\n",
    "    ax3.grid()\n",
    "\n",
    "    plot_c_n, = ax4.plot(r_n, c_s_n(r=r_n,t=t,x=x[-1]))  # can evaluate at arbitrary x (single representative particle)\n",
    "    ax4.set_ylabel('Negative particle concentration')\n",
    "    ax4.set_xlabel(r'$r_n$ [m]')\n",
    "    ax4.set_ylim(0, 1)  \n",
    "    ax4.set_title('Close to separator')\n",
    "    ax4.grid()\n",
    "    plt.show()\n",
    "    \n",
    "import ipywidgets as widgets\n",
    "widgets.interact(plot_concentrations, t=widgets.FloatSlider(min=0,max=7200,step=10,value=0));"
   ]
  },
  {
   "cell_type": "markdown",
   "metadata": {},
   "source": [
    "Plot results using the default functions"
   ]
  },
  {
   "cell_type": "code",
   "execution_count": 6,
   "metadata": {},
   "outputs": [
    {
     "data": {
      "application/vnd.jupyter.widget-view+json": {
       "model_id": "4a14a036a0b24d11960ff6c336645698",
       "version_major": 2,
       "version_minor": 0
      },
      "text/plain": [
       "interactive(children=(FloatSlider(value=0.0, description='t', max=2.0868031269501226, step=0.02086803126950122…"
      ]
     },
     "metadata": {},
     "output_type": "display_data"
    }
   ],
   "source": [
    "label = [\"Crack model\"]\n",
    "output_variables = [\"Negative particle crack length\", \"Positive particle crack length\"]\n",
    "quick_plot = pybamm.QuickPlot(solution, output_variables, label)\n",
    "quick_plot.dynamic_plot();"
   ]
  },
  {
   "cell_type": "markdown",
   "metadata": {},
   "source": [
    "## References\n",
    "\n",
    "[1] M Doyle, TF Fuller and J Newman. \"Modeling of galvanostatic charge and discharge of the lithium/polymer/insertion cell.\" Journal of the Electrochemical Society 140.6 (1993): 1526-1533.\n",
    "\n",
    "[2] Ai, W., Kraft, L., Sturm, J., Jossen, A., & Wu, B. (2019). Electrochemical Thermal-Mechanical Modelling of Stress Inhomogeneity in Lithium-Ion Pouch Cells. Journal of The Electrochemical Society, 167(1), 013512."
   ]
  },
  {
   "cell_type": "code",
   "execution_count": null,
   "metadata": {},
   "outputs": [],
   "source": []
  }
 ],
 "metadata": {
  "kernelspec": {
   "display_name": "Python 3",
   "language": "python",
   "name": "python3"
  },
  "language_info": {
   "codemirror_mode": {
    "name": "ipython",
    "version": 3
   },
   "file_extension": ".py",
   "mimetype": "text/x-python",
   "name": "python",
   "nbconvert_exporter": "python",
   "pygments_lexer": "ipython3",
   "version": "3.7.8"
  }
 },
 "nbformat": 4,
 "nbformat_minor": 2
}
