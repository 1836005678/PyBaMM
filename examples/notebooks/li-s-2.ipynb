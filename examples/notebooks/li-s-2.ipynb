{
 "cells": [
  {
   "cell_type": "code",
   "execution_count": 2,
   "metadata": {},
   "outputs": [],
   "source": [
    "import pybamm\n",
    "import matplotlib.pyplot as plt"
   ]
  },
  {
   "cell_type": "code",
   "execution_count": 3,
   "metadata": {},
   "outputs": [],
   "source": [
    "model = pybamm.lithium_sulfur.MarinescuEtAl2016()\n",
    "\n",
    "param = model.default_parameter_values\n",
    "#param[\"Current function [A]\"] = 1.7"
   ]
  },
  {
   "cell_type": "code",
   "execution_count": 4,
   "metadata": {},
   "outputs": [],
   "source": [
    "solver = pybamm.ScikitsDaeSolver()\n",
    "sim = pybamm.Simulation(model, parameter_values=param, solver=solver)"
   ]
  },
  {
   "cell_type": "code",
   "execution_count": 5,
   "metadata": {},
   "outputs": [
    {
     "name": "stdout",
     "output_type": "stream",
     "text": [
      "Final time 12000.0s k\n"
     ]
    },
    {
     "data": {
      "image/png": "[encoded data removed]",
      "text/plain": [
       "<Figure size 432x288 with 1 Axes>"
      ]
     },
     "metadata": {
      "needs_background": "light"
     },
     "output_type": "display_data"
    }
   ],
   "source": [
    "tstep = 1000\n",
    "npts = 1000\n",
    "\n",
    "error = False \n",
    "\n",
    "while error is False:\n",
    "    try:\n",
    "        solution = sim.step(tstep, npts=npts)\n",
    "        t = solution.t\n",
    "        V = solution[\"Terminal voltage [V]\"].entries\n",
    "        plt.plot(t[-1], V[-1], 'ro')\n",
    "    except pybamm.SolverError:\n",
    "        error = True\n",
    "        t = solution.t\n",
    "        V = solution[\"Terminal voltage [V]\"].entries\n",
    "        plt.plot(t, V)        \n",
    "        print(\"Final time {}s\".format(solution.t[-1]),'k')"
   ]
  },
  {
   "cell_type": "code",
   "execution_count": 6,
   "metadata": {},
   "outputs": [
    {
     "data": {
      "application/vnd.jupyter.widget-view+json": {
       "model_id": "399e4d6f7b90475ca622617e0267511d",
       "version_major": 2,
       "version_minor": 0
      },
      "text/plain": [
       "interactive(children=(FloatSlider(value=0.0, description='t', max=3.3333333333333335, step=0.03333333333333333…"
      ]
     },
     "metadata": {},
     "output_type": "display_data"
    }
   ],
   "source": [
    "sim.plot(model.variables)"
   ]
  },
  {
   "cell_type": "code",
   "execution_count": null,
   "metadata": {},
   "outputs": [],
   "source": []
  }
 ],
 "metadata": {
  "kernelspec": {
   "display_name": "Python 3",
   "language": "python",
   "name": "python3"
  },
  "language_info": {
   "codemirror_mode": {
    "name": "ipython",
    "version": 3
   },
   "file_extension": ".py",
   "mimetype": "text/x-python",
   "name": "python",
   "nbconvert_exporter": "python",
   "pygments_lexer": "ipython3",
   "version": "3.6.9"
  }
 },
 "nbformat": 4,
 "nbformat_minor": 4
}
