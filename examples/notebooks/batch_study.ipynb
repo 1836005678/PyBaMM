{
 "metadata": {
  "language_info": {
   "codemirror_mode": {
    "name": "ipython",
    "version": 3
   },
   "file_extension": ".py",
   "mimetype": "text/x-python",
   "name": "python",
   "nbconvert_exporter": "python",
   "pygments_lexer": "ipython3",
   "version": "3.9.0"
  },
  "orig_nbformat": 2,
  "kernelspec": {
   "name": "python3",
   "display_name": "Python 3.9.0 64-bit",
   "metadata": {
    "interpreter": {
     "hash": "8e473b7b27fd32c4f175591765ae7218e26352aafc6eb4399ae3355663397de4"
    }
   }
  }
 },
 "nbformat": 4,
 "nbformat_minor": 2,
 "cells": [
  {
   "source": [
    "# BatchStudy\n",
    "\n",
    "In this notebook, we explain how different models, experiments, chemistries, etc. can be compared with each other using the `BatchStudy` class."
   ],
   "cell_type": "markdown",
   "metadata": {}
  },
  {
   "source": [
    "## Comparing models\n",
    "We start by creating a simple script to compare `SPM`, `SPMe` and `DFN` model with the default parameters."
   ],
   "cell_type": "markdown",
   "metadata": {}
  },
  {
   "cell_type": "code",
   "execution_count": 1,
   "metadata": {},
   "outputs": [],
   "source": [
    "# %pip install pybamm -q    # install PyBaMM if it is not installed\n",
    "import pybamm\n",
    "\n",
    "# load up 3 models to compare\n",
    "dfn = pybamm.lithium_ion.DFN()\n",
    "spm = pybamm.lithium_ion.SPM()\n",
    "spme = pybamm.lithium_ion.SPMe()"
   ]
  },
  {
   "source": [
    "The `BatchStudy` class requires a dictionary of models, and all the default values for a given model are used if no additional parameter is passed in."
   ],
   "cell_type": "markdown",
   "metadata": {}
  },
  {
   "cell_type": "code",
   "execution_count": 2,
   "metadata": {},
   "outputs": [
    {
     "output_type": "display_data",
     "data": {
      "text/plain": "interactive(children=(FloatSlider(value=0.0, description='t', max=1.0, step=0.01), Output()), _dom_classes=('w…",
      "application/vnd.jupyter.widget-view+json": {
       "version_major": 2,
       "version_minor": 0,
       "model_id": "3b7fc9c973e54b3e8452ea8dfcf5eab0"
      }
     },
     "metadata": {}
    },
    {
     "output_type": "execute_result",
     "data": {
      "text/plain": [
       "<pybamm.plotting.quick_plot.QuickPlot at 0x122670429a0>"
      ]
     },
     "metadata": {},
     "execution_count": 2
    }
   ],
   "source": [
    "models = {\n",
    "    \"dfn\": dfn,\n",
    "    \"spm\": spm,\n",
    "    \"spme\": spme,\n",
    "}\n",
    "\n",
    "# creating a BatchStudy object\n",
    "batch_study = pybamm.BatchStudy(models=models)\n",
    "\n",
    "# solving and plotting the comparison\n",
    "batch_study.solve(t_eval=[0, 3600])\n",
    "batch_study.plot()"
   ]
  },
  {
   "source": [
    "`BatchStudy` by default requires equal number of items in all the dictionaries passed, which can be changed by setting the value of `permutations` to `True`. When set `True`, a cartesian product of all the available items is taken.\n",
    "\n",
    "For example, here we pass 3 models but only 1 parameter value, hence it is necessary to set `permutations` to `True`. Here, the given parameter value is used for all the provided models."
   ],
   "cell_type": "markdown",
   "metadata": {}
  },
  {
   "cell_type": "code",
   "execution_count": 3,
   "metadata": {},
   "outputs": [
    {
     "output_type": "display_data",
     "data": {
      "text/plain": "interactive(children=(FloatSlider(value=0.0, description='t', max=3566.800904290021, step=35.66800904290021), …",
      "application/vnd.jupyter.widget-view+json": {
       "version_major": 2,
       "version_minor": 0,
       "model_id": "f21110f1ae1c46b4b4af99b804b112ce"
      }
     },
     "metadata": {}
    },
    {
     "output_type": "execute_result",
     "data": {
      "text/plain": [
       "<pybamm.plotting.quick_plot.QuickPlot at 0x122644681c0>"
      ]
     },
     "metadata": {},
     "execution_count": 3
    }
   ],
   "source": [
    "# passing parameter_values as a dictionary\n",
    "chen2020 = pybamm.parameter_sets.Chen2020\n",
    "parameter_values = {\"Chen2020\": pybamm.ParameterValues(chemistry=chen2020)}\n",
    "\n",
    "# creating a BatchStudy object and solving the simulation\n",
    "batch_study = pybamm.BatchStudy(models=models, parameter_values=parameter_values, permutations=True)\n",
    "batch_study.solve(t_eval=[0, 3600])\n",
    "batch_study.plot()"
   ]
  },
  {
   "source": [
    "## Comparing parameters\n",
    "\n",
    "`BatchStudy` can also be used to compare different things (like effect of changing a parameter's value) on a single model.\n",
    "\n",
    "In the following cell, we compare different values of `\"Curent function [A]\"` using the `Single Paritcle Model with electrolyte`.\n"
   ],
   "cell_type": "markdown",
   "metadata": {}
  },
  {
   "cell_type": "code",
   "execution_count": 4,
   "metadata": {},
   "outputs": [
    {
     "output_type": "display_data",
     "data": {
      "text/plain": "interactive(children=(FloatSlider(value=0.0, description='t', max=1.0, step=0.01), Output()), _dom_classes=('w…",
      "application/vnd.jupyter.widget-view+json": {
       "version_major": 2,
       "version_minor": 0,
       "model_id": "032c69848dfe404a9221fc617284ede6"
      }
     },
     "metadata": {}
    },
    {
     "output_type": "execute_result",
     "data": {
      "text/plain": [
       "<pybamm.plotting.quick_plot.QuickPlot at 0x12262f42430>"
      ]
     },
     "metadata": {},
     "execution_count": 4
    }
   ],
   "source": [
    "model = {\"spme\": spme}\n",
    "\n",
    "# populating a dictionary with 3 same parameter values\n",
    "parameter_values = {\n",
    "    \"Chen2020_1\": pybamm.ParameterValues(chemistry=chen2020),\n",
    "    \"Chen2020_2\": pybamm.ParameterValues(chemistry=chen2020),\n",
    "    \"Chen2020_3\": pybamm.ParameterValues(chemistry=chen2020),\n",
    "}\n",
    "\n",
    "# different values for \"Current function [A]\"\n",
    "current_values = [4.5, 4.75, 5]\n",
    "\n",
    "# changing the value of \"Current function [A]\" in all the parameter values present in the \n",
    "# parameter_values dictionary\n",
    "for k, v, current_value in zip(parameter_values.keys(), parameter_values.values(), current_values):\n",
    "    v[\"Current function [A]\"] = current_value \n",
    "\n",
    "# creating a BatchStudy object with permutations set to True to create a cartesian product\n",
    "batch_study = pybamm.BatchStudy(models=model, parameter_values=parameter_values, permutations=True)\n",
    "batch_study.solve(t_eval=[0, 3600])\n",
    "\n",
    "# generating the required labels and plotting\n",
    "labels = [f\"Current function [A]: {current}\" for current in current_values]\n",
    "batch_study.plot(labels=labels)"
   ]
  },
  {
   "source": [
    "## Using experiments\n",
    "\n"
   ],
   "cell_type": "markdown",
   "metadata": {}
  },
  {
   "cell_type": "code",
   "execution_count": null,
   "metadata": {
    "tags": []
   },
   "outputs": [],
   "source": [
    "pybamm.set_logging_level(\"NOTICE\")\n",
    "\n",
    "cccv = pybamm.Experiment(\n",
    "    [\n",
    "        (\"Discharge at C/10 for 10 hours or until 3.3 V\",\n",
    "        \"Rest for 1 hour\",\n",
    "        \"Charge at 1 A until 4.1 V\",\n",
    "        \"Hold at 4.1 V until 50 mA\",\n",
    "        \"Rest for 1 hour\")\n",
    "    ]\n",
    "    * 10,\n",
    ")\n",
    "\n",
    "mohtat2020 = pybamm.parameter_sets.Mohtat2020\n",
    "parameter_values = {\n",
    "    \"Mohtat2020_1\": pybamm.ParameterValues(chemistry=mohtat2020),\n",
    "    \"Mohtat2020_2\": pybamm.ParameterValues(chemistry=mohtat2020),\n",
    "    \"Mohtat2020_3\": pybamm.ParameterValues(chemistry=mohtat2020),\n",
    "}\n",
    "\n",
    "inner_sei_oc_v = [2.0e-4, 2.7e-4, 3.4e-4]\n",
    "\n",
    "for k, v, sei_kin_rate_const in zip(parameter_values.keys(), parameter_values.values(), current_values):\n",
    "    v.update(\n",
    "        {\n",
    "            \"Inner SEI open-circuit potential [V]\": inner_sei_oc_v\n",
    "        },\n",
    "    )\n",
    "\n",
    "model = {\"spm\": pybamm.lithium_ion.SPM({\"SEI\": \"electron-migration limited\"})}\n",
    "\n",
    "experiment = {\n",
    "    \"cccv\": cccv\n",
    "}\n",
    "\n",
    "batch_study = pybamm.BatchStudy(models=model, experiments=experiment, parameter_values=parameter_values, permutations=True)\n",
    "batch_study.solve(initial_soc=1)\n",
    "batch_study.plot()\n"
   ]
  },
  {
   "cell_type": "code",
   "execution_count": null,
   "metadata": {},
   "outputs": [],
   "source": [
    "pybamm.plot_summary_variables([sim.solution for sim in batch_study.sims])"
   ]
  },
  {
   "cell_type": "code",
   "execution_count": null,
   "metadata": {},
   "outputs": [],
   "source": []
  }
 ]
}