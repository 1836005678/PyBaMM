{
 "cells": [
  {
   "cell_type": "code",
   "execution_count": null,
   "metadata": {},
   "outputs": [],
   "source": [
    "import pybamm\n",
    "import numpy as np\n",
    "import os\n",
    "%matplotlib inline\n",
    "import matplotlib.pyplot as plt\n",
    "os.chdir(pybamm.__path__[0]+'/..')"
   ]
  },
  {
   "cell_type": "code",
   "execution_count": null,
   "metadata": {},
   "outputs": [],
   "source": [
    "model = pybamm.li_ion.SPM()"
   ]
  },
  {
   "cell_type": "code",
   "execution_count": null,
   "metadata": {},
   "outputs": [],
   "source": [
    "# Set parameters for the model\n",
    "param = model.default_parameter_values\n",
    "param.process_model(model)\n"
   ]
  },
  {
   "cell_type": "code",
   "execution_count": null,
   "metadata": {},
   "outputs": [],
   "source": [
    "# Create a mesh\n",
    "geometry = model.default_geometry\n",
    "param.process_geometry(geometry)\n",
    "mesh = pybamm.Mesh(\n",
    "            geometry, model.default_submesh_types, model.default_submesh_pts\n",
    "        )"
   ]
  },
  {
   "cell_type": "code",
   "execution_count": null,
   "metadata": {},
   "outputs": [],
   "source": [
    "# Discretise model over mesh\n",
    "disc = pybamm.Discretisation(mesh, model.default_spatial_methods)\n",
    "disc.process_model(model)"
   ]
  },
  {
   "cell_type": "code",
   "execution_count": null,
   "metadata": {},
   "outputs": [],
   "source": [
    "# Solve the model at the given time points\n",
    "solver = model.default_solver\n",
    "\n",
    "n = 100\n",
    "t_eval = np.linspace(0, 1, n)\n",
    "solver.solve(model, t_eval)"
   ]
  },
  {
   "cell_type": "code",
   "execution_count": null,
   "metadata": {},
   "outputs": [],
   "source": [
    "def evaluate_variable_over_time(exp, t, y):\n",
    "    var_t0 = exp.evaluate(t[0],y[:,0])\n",
    "    var_over_time = np.empty((len(var_t0),n))\n",
    "    for i,_ in enumerate(solver.t):\n",
    "        var_over_time[:,i] = exp.evaluate(t[i],y[:,i])\n",
    "    return var_over_time\n"
   ]
  },
  {
   "cell_type": "code",
   "execution_count": null,
   "metadata": {},
   "outputs": [],
   "source": [
    "variable_names = list(model.variables.keys())\n",
    "fig,axs = plt.subplots(len(variable_names),figsize=(10,7))\n",
    "for name, ax in zip(variable_names,axs):\n",
    "    data = evaluate_variable_over_time(model.variables[name],solver.t,solver.y)\n",
    "    if data.shape[0] == 1:\n",
    "        ax.plot(solver.t,data.reshape(-1))\n",
    "    else:\n",
    "        ax.imshow(data)\n",
    "    ax.set_title(name)\n",
    "plt.tight_layout()\n",
    "plt.show()\n"
   ]
  },
  {
   "cell_type": "code",
   "execution_count": null,
   "metadata": {},
   "outputs": [],
   "source": []
  }
 ],
 "metadata": {
  "kernelspec": {
   "display_name": "Python 3",
   "language": "python",
   "name": "python3"
  },
  "language_info": {
   "codemirror_mode": {
    "name": "ipython",
    "version": 3
   },
   "file_extension": ".py",
   "mimetype": "text/x-python",
   "name": "python",
   "nbconvert_exporter": "python",
   "pygments_lexer": "ipython3",
   "version": "3.6.7"
  }
 },
 "nbformat": 4,
 "nbformat_minor": 2
}
