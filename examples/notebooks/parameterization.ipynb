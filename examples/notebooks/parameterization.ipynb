{
 "metadata": {
  "language_info": {
   "codemirror_mode": {
    "name": "ipython",
    "version": 3
   },
   "file_extension": ".py",
   "mimetype": "text/x-python",
   "name": "python",
   "nbconvert_exporter": "python",
   "pygments_lexer": "ipython3",
   "version": "3.9.0"
  },
  "orig_nbformat": 2,
  "kernelspec": {
   "name": "python3",
   "display_name": "Python 3.9.0 64-bit",
   "metadata": {
    "interpreter": {
     "hash": "8e473b7b27fd32c4f175591765ae7218e26352aafc6eb4399ae3355663397de4"
    }
   }
  }
 },
 "nbformat": 4,
 "nbformat_minor": 2,
 "cells": [
  {
   "source": [
    "# Parameterisation\n",
    "\n",
    "In this notebook, we explain different concepts of parameterisation in `pybamm`. The concepts explained are listed below - \n",
    "\n",
    "1. Adding your own parameter sets (using a dictionary)\n",
    "2. Finding the parameters in a model\n",
    "3. Plotting parameter functions\n",
    "\n",
    "### Some useful related examples are linked below:\n",
    "\n",
    "- The API documentation of [Parameters](https://pybamm.readthedocs.io/en/latest/source/parameters/index.html) can be found at [pybamm.readthedocs.io](https://pybamm.readthedocs.io/)\n",
    "- [Setting parameter values](https://github.com/pybamm-team/PyBaMM/blob/develop/examples/notebooks/Getting%20Started/Tutorial%204%20-%20Setting%20parameter%20values.ipynb) can be found at `pybamm/examples/notebooks/Getting Started/Tutorial 4 - Setting parameter values.ipynb`\n",
    "- [parameter-management.ipynb](https://github.com/pybamm-team/PyBaMM/blob/develop/examples/notebooks/parameter-management.ipynb) can be found at `pybamm/examples/notebooks/parameter-management.ipynb`\n",
    "- [parameter-values.ipynb](https://github.com/pybamm-team/PyBaMM/blob/develop/examples/notebooks/parameter-values.ipynb) can be found at `pybamm/examples/notebooks/parameter-values.ipynb`\n"
   ],
   "cell_type": "markdown",
   "metadata": {}
  },
  {
   "source": [
    "## Adding your own parameter sets (using a dictionary)\n",
    "\n",
    "We will be using the model defined and explained in great detail in [3-negative-particle-problem.ipynb](https://github.com/pybamm-team/PyBaMM/blob/develop/examples/notebooks/Creating%20Models/3-negative-particle-problem.ipynb) example notebook. We begin by importing the required libraries and setting up an empty `pybamm.BaseModel`\n",
    "\n",
    "\n"
   ],
   "cell_type": "markdown",
   "metadata": {}
  },
  {
   "cell_type": "code",
   "execution_count": 1,
   "metadata": {},
   "outputs": [
    {
     "output_type": "stream",
     "name": "stderr",
     "text": [
      "ERROR: Invalid requirement: '#'\n",
      "WARNING: You are using pip version 21.0.1; however, version 21.1 is available.\n",
      "You should consider upgrading via the 'c:\\users\\saransh\\saransh_softwares\\python_3.9\\python.exe -m pip install --upgrade pip' command.\n",
      "Note: you may need to restart the kernel to use updated packages.\n"
     ]
    }
   ],
   "source": [
    "%pip install pybamm -q    # install PyBaMM if it is not installed\n",
    "import pybamm\n",
    "import numpy as np\n",
    "import matplotlib.pyplot as plt\n",
    "\n",
    "model = pybamm.BaseModel()"
   ]
  },
  {
   "source": [
    "## Setting up the model\n",
    "\n",
    "We define all the parameters and variables using `pybamm.Parameter` and `pybamm.Variable` respectively."
   ],
   "cell_type": "markdown",
   "metadata": {}
  },
  {
   "cell_type": "code",
   "execution_count": 2,
   "metadata": {},
   "outputs": [],
   "source": [
    "R = pybamm.Parameter(\"Particle radius [m]\")\n",
    "D = pybamm.Parameter(\"Diffusion coefficient [m2.s-1]\")\n",
    "j = pybamm.Parameter(\"Interfacial current density [A.m-2]\")\n",
    "F = pybamm.Parameter(\"Faraday constant [C.mol-1]\")\n",
    "c0 = pybamm.Parameter(\"Initial concentration [mol.m-3]\")\n",
    "\n",
    "c = pybamm.Variable(\"Concentration [mol.m-3]\", domain=\"negative particle\")"
   ]
  },
  {
   "source": [
    "Now we define our model equations, boundary and initial conditions. We also add the variables required using the dictionary `model.variables`"
   ],
   "cell_type": "markdown",
   "metadata": {}
  },
  {
   "source": [
    "# governing equations\n",
    "N = -D * pybamm.grad(c)  # flux\n",
    "dcdt = -pybamm.div(N)\n",
    "model.rhs = {c: dcdt}  \n",
    "\n",
    "# boundary conditions \n",
    "lbc = pybamm.Scalar(0)\n",
    "rbc = -j / F / D\n",
    "model.boundary_conditions = {c: {\"left\": (lbc, \"Neumann\"), \"right\": (rbc, \"Neumann\")}}\n",
    "\n",
    "# initial conditions \n",
    "model.initial_conditions = {c: c0}\n",
    "\n",
    "model.variables = {\n",
    "    \"Concentration [mol.m-3]\": c,\n",
    "    \"Surface concentration [mol.m-3]\": pybamm.surf(c),\n",
    "    \"Flux [mol.m-2.s-1]\": N,\n",
    "}"
   ],
   "cell_type": "code",
   "metadata": {},
   "execution_count": 3,
   "outputs": []
  },
  {
   "source": [
    "## Adding the parameters\n",
    "\n",
    "Now we can proceed to the step where we add the `parameter` values using a dictionary. We set up a dictionary with parameter names as the dictionary keys and their respective values as the dictionary values."
   ],
   "cell_type": "markdown",
   "metadata": {}
  },
  {
   "cell_type": "code",
   "execution_count": 4,
   "metadata": {},
   "outputs": [],
   "source": [
    "values = {\n",
    "    \"Particle radius [m]\": 10e-5,\n",
    "    \"Diffusion coefficient [m2.s-1]\": 3.9e-14,\n",
    "    \"Interfacial current density [A.m-2]\": 1.4,\n",
    "    \"Faraday constant [C.mol-1]\": 96485,\n",
    "    \"Initial concentration [mol.m-3]\": 2.5e4,\n",
    "}"
   ]
  },
  {
   "source": [
    "Now we can pass this dictionary in `pybamm.ParameterValues` class which accepts a dictionary of parameter names and values. We can then print `param` to check if it was initialised."
   ],
   "cell_type": "markdown",
   "metadata": {}
  },
  {
   "cell_type": "code",
   "execution_count": 5,
   "metadata": {},
   "outputs": [
    {
     "output_type": "execute_result",
     "data": {
      "text/plain": [
       "{'Diffusion coefficient [m2.s-1]': 3.9e-14,\n",
       " 'Faraday constant [C.mol-1]': 96485,\n",
       " 'Initial concentration [mol.m-3]': 25000.0,\n",
       " 'Interfacial current density [A.m-2]': 1.4,\n",
       " 'Particle radius [m]': 0.0001}"
      ]
     },
     "metadata": {},
     "execution_count": 5
    }
   ],
   "source": [
    "param = pybamm.ParameterValues(values)\n",
    "\n",
    "param"
   ]
  },
  {
   "source": [
    "## Updating the parameter values\n",
    "\n",
    "The parameter values or `param` can be further updated by using the `update` function of `ParameterValues` class. The `update` function takes a dictionary with keys being the parameters to be updated and their respective values being the updated values. Here we update the `\"Particle radius [m]\"` parameter's value. Additionally, a function can also be passed as a `parameter's` value which we will see ahead, and a new `parameter` can also be added by passing `check_already_exists=False` in the `update` function."
   ],
   "cell_type": "markdown",
   "metadata": {}
  },
  {
   "cell_type": "code",
   "execution_count": 6,
   "metadata": {},
   "outputs": [
    {
     "output_type": "execute_result",
     "data": {
      "text/plain": [
       "{'Diffusion coefficient [m2.s-1]': 3.9e-14,\n",
       " 'Faraday constant [C.mol-1]': 96485,\n",
       " 'Initial concentration [mol.m-3]': 25000.0,\n",
       " 'Interfacial current density [A.m-2]': 1.4,\n",
       " 'Particle radius [m]': 1e-05}"
      ]
     },
     "metadata": {},
     "execution_count": 6
    }
   ],
   "source": [
    "param.update(\n",
    "    {\n",
    "        \"Particle radius [m]\": 10e-6\n",
    "    }\n",
    ")\n",
    "\n",
    "param"
   ]
  },
  {
   "source": [
    "## Finding the parameters in a model\n",
    "\n",
    "The `parameter` function of the `BaseModel` class can be used to obtain the parameters of a model."
   ],
   "cell_type": "markdown",
   "metadata": {}
  },
  {
   "cell_type": "code",
   "execution_count": 7,
   "metadata": {},
   "outputs": [
    {
     "output_type": "execute_result",
     "data": {
      "text/plain": [
       "[Parameter(-0x44059590c7ea8090, Diffusion coefficient [m2.s-1], children=[], domain=[], auxiliary_domains={}),\n",
       " Parameter(-0x21314cf5f8681a5d, Initial concentration [mol.m-3], children=[], domain=[], auxiliary_domains={})]"
      ]
     },
     "metadata": {},
     "execution_count": 7
    }
   ],
   "source": [
    "parameters = model.parameters\n",
    "parameters"
   ]
  },
  {
   "source": [
    "As explained in the [3-negative-particle-problem.ipynb](https://github.com/pybamm-team/PyBaMM/blob/develop/examples/notebooks/Creating%20Models/3-negative-particle-problem.ipynb) example, we define the `particle geometry` and process both, the `model`, and the `geometry`."
   ],
   "cell_type": "markdown",
   "metadata": {}
  },
  {
   "source": [
    "r = pybamm.SpatialVariable(\"r\", domain=[\"negative particle\"], coord_sys=\"spherical polar\")\n",
    "geometry = {\"negative particle\": {r: {\"min\": pybamm.Scalar(0), \"max\": R}}}\n",
    "\n",
    "param.process_model(model)\n",
    "param.process_geometry(geometry)"
   ],
   "cell_type": "code",
   "metadata": {},
   "execution_count": 8,
   "outputs": []
  },
  {
   "source": [
    "We can now set up our mesh, choose a spatial method, and discretise our model"
   ],
   "cell_type": "markdown",
   "metadata": {}
  },
  {
   "cell_type": "code",
   "execution_count": 9,
   "metadata": {},
   "outputs": [],
   "source": [
    "submesh_types = {\"negative particle\": pybamm.MeshGenerator(pybamm.Uniform1DSubMesh)}\n",
    "var_pts = {r: 20}\n",
    "mesh = pybamm.Mesh(geometry, submesh_types, var_pts)\n",
    "\n",
    "spatial_methods = {\"negative particle\": pybamm.FiniteVolume()}\n",
    "disc = pybamm.Discretisation(mesh, spatial_methods)\n",
    "disc.process_model(model);"
   ]
  },
  {
   "source": [
    "We choose a solver and times at which we want the solution returned, and solve the model."
   ],
   "cell_type": "markdown",
   "metadata": {}
  },
  {
   "cell_type": "code",
   "execution_count": 10,
   "metadata": {},
   "outputs": [
    {
     "output_type": "stream",
     "name": "stderr",
     "text": [
      "2021-04-28 19:36:42,925 - [WARNING] processed_variable.get_spatial_scale(471): No length scale set for negative particle. Using default of 1 [m].\n"
     ]
    },
    {
     "output_type": "display_data",
     "data": {
      "text/plain": "<Figure size 936x288 with 2 Axes>",
      "image/svg+xml": "<?xml version=\"1.0\" encoding=\"utf-8\" standalone=\"no\"?>\r\n<!DOCTYPE svg PUBLIC \"-//W3C//DTD SVG 1.1//EN\"\r\n  \"http://www.w3.org/Graphics/SVG/1.1/DTD/svg11.dtd\">\r\n<!-- Created with matplotlib (https://matplotlib.org/) -->\r\n<svg height=\"281.15625pt\" version=\"1.1\" viewBox=\"0 0 929.327187 281.15625\" width=\"929.327187pt\" xmlns=\"http://www.w3.org/2000/svg\" xmlns:xlink=\"http://www.w3.org/1999/xlink\">\r\n <metadata>\r\n  <rdf:RDF xmlns:cc=\"http://creativecommons.org/ns#\" xmlns:dc=\"http://purl.org/dc/elements/1.1/\" xmlns:rdf=\"http://www.w3.org/1999/02/22-rdf-syntax-ns#\">\r\n   <cc:Work>\r\n    <dc:type rdf:resource=\"http://purl.org/dc/dcmitype/StillImage\"/>\r\n    <dc:date>2021-04-28T19:36:43.171310</dc:date>\r\n    <dc:format>image/svg+xml</dc:format>\r\n    <dc:creator>\r\n     <cc:Agent>\r\n      <dc:title>Matplotlib v3.3.3, https://matplotlib.org/</dc:title>\r\n     </cc:Agent>\r\n    </dc:creator>\r\n   </cc:Work>\r\n  </rdf:RDF>\r\n </metadata>\r\n <defs>\r\n  <style type=\"text/css\">*{stroke-linecap:butt;stroke-linejoin:round;}</style>\r\n </defs>\r\n <g id=\"figure_1\">\r\n  <g id=\"patch_1\">\r\n   <path d=\"M 0 281.15625 \r\nL 929.327187 281.15625 \r\nL 929.327187 0 \r\nL 0 0 \r\nz\r\n\" style=\"fill:none;\"/>\r\n  </g>\r\n  <g id=\"axes_1\">\r\n   <g id=\"patch_2\">\r\n    <path d=\"M 59.577188 241.5 \r\nL 459.589687 241.5 \r\nL 459.589687 7.2 \r\nL 59.577188 7.2 \r\nz\r\n\" style=\"fill:#ffffff;\"/>\r\n   </g>\r\n   <g id=\"matplotlib.axis_1\">\r\n    <g id=\"xtick_1\">\r\n     <g id=\"line2d_1\">\r\n      <defs>\r\n       <path d=\"M 0 0 \r\nL 0 3.5 \r\n\" id=\"ma9d005ec73\" style=\"stroke:#000000;stroke-width:0.8;\"/>\r\n      </defs>\r\n      <g>\r\n       <use style=\"stroke:#000000;stroke-width:0.8;\" x=\"77.759574\" xlink:href=\"#ma9d005ec73\" y=\"241.5\"/>\r\n      </g>\r\n     </g>\r\n     <g id=\"text_1\">\r\n      <!-- 0 -->\r\n      <g transform=\"translate(74.896449 257.438594)scale(0.09 -0.09)\">\r\n       <defs>\r\n        <path d=\"M 31.78125 66.40625 \r\nQ 24.171875 66.40625 20.328125 58.90625 \r\nQ 16.5 51.421875 16.5 36.375 \r\nQ 16.5 21.390625 20.328125 13.890625 \r\nQ 24.171875 6.390625 31.78125 6.390625 \r\nQ 39.453125 6.390625 43.28125 13.890625 \r\nQ 47.125 21.390625 47.125 36.375 \r\nQ 47.125 51.421875 43.28125 58.90625 \r\nQ 39.453125 66.40625 31.78125 66.40625 \r\nz\r\nM 31.78125 74.21875 \r\nQ 44.046875 74.21875 50.515625 64.515625 \r\nQ 56.984375 54.828125 56.984375 36.375 \r\nQ 56.984375 17.96875 50.515625 8.265625 \r\nQ 44.046875 -1.421875 31.78125 -1.421875 \r\nQ 19.53125 -1.421875 13.0625 8.265625 \r\nQ 6.59375 17.96875 6.59375 36.375 \r\nQ 6.59375 54.828125 13.0625 64.515625 \r\nQ 19.53125 74.21875 31.78125 74.21875 \r\nz\r\n\" id=\"DejaVuSans-48\"/>\r\n       </defs>\r\n       <use xlink:href=\"#DejaVuSans-48\"/>\r\n      </g>\r\n     </g>\r\n    </g>\r\n    <g id=\"xtick_2\">\r\n     <g id=\"line2d_2\">\r\n      <g>\r\n       <use style=\"stroke:#000000;stroke-width:0.8;\" x=\"128.266203\" xlink:href=\"#ma9d005ec73\" y=\"241.5\"/>\r\n      </g>\r\n     </g>\r\n     <g id=\"text_2\">\r\n      <!-- 500 -->\r\n      <g transform=\"translate(119.676828 257.438594)scale(0.09 -0.09)\">\r\n       <defs>\r\n        <path d=\"M 10.796875 72.90625 \r\nL 49.515625 72.90625 \r\nL 49.515625 64.59375 \r\nL 19.828125 64.59375 \r\nL 19.828125 46.734375 \r\nQ 21.96875 47.46875 24.109375 47.828125 \r\nQ 26.265625 48.1875 28.421875 48.1875 \r\nQ 40.625 48.1875 47.75 41.5 \r\nQ 54.890625 34.8125 54.890625 23.390625 \r\nQ 54.890625 11.625 47.5625 5.09375 \r\nQ 40.234375 -1.421875 26.90625 -1.421875 \r\nQ 22.3125 -1.421875 17.546875 -0.640625 \r\nQ 12.796875 0.140625 7.71875 1.703125 \r\nL 7.71875 11.625 \r\nQ 12.109375 9.234375 16.796875 8.0625 \r\nQ 21.484375 6.890625 26.703125 6.890625 \r\nQ 35.15625 6.890625 40.078125 11.328125 \r\nQ 45.015625 15.765625 45.015625 23.390625 \r\nQ 45.015625 31 40.078125 35.4375 \r\nQ 35.15625 39.890625 26.703125 39.890625 \r\nQ 22.75 39.890625 18.8125 39.015625 \r\nQ 14.890625 38.140625 10.796875 36.28125 \r\nz\r\n\" id=\"DejaVuSans-53\"/>\r\n       </defs>\r\n       <use xlink:href=\"#DejaVuSans-53\"/>\r\n       <use x=\"63.623047\" xlink:href=\"#DejaVuSans-48\"/>\r\n       <use x=\"127.246094\" xlink:href=\"#DejaVuSans-48\"/>\r\n      </g>\r\n     </g>\r\n    </g>\r\n    <g id=\"xtick_3\">\r\n     <g id=\"line2d_3\">\r\n      <g>\r\n       <use style=\"stroke:#000000;stroke-width:0.8;\" x=\"178.772831\" xlink:href=\"#ma9d005ec73\" y=\"241.5\"/>\r\n      </g>\r\n     </g>\r\n     <g id=\"text_3\">\r\n      <!-- 1000 -->\r\n      <g transform=\"translate(167.320331 257.438594)scale(0.09 -0.09)\">\r\n       <defs>\r\n        <path d=\"M 12.40625 8.296875 \r\nL 28.515625 8.296875 \r\nL 28.515625 63.921875 \r\nL 10.984375 60.40625 \r\nL 10.984375 69.390625 \r\nL 28.421875 72.90625 \r\nL 38.28125 72.90625 \r\nL 38.28125 8.296875 \r\nL 54.390625 8.296875 \r\nL 54.390625 0 \r\nL 12.40625 0 \r\nz\r\n\" id=\"DejaVuSans-49\"/>\r\n       </defs>\r\n       <use xlink:href=\"#DejaVuSans-49\"/>\r\n       <use x=\"63.623047\" xlink:href=\"#DejaVuSans-48\"/>\r\n       <use x=\"127.246094\" xlink:href=\"#DejaVuSans-48\"/>\r\n       <use x=\"190.869141\" xlink:href=\"#DejaVuSans-48\"/>\r\n      </g>\r\n     </g>\r\n    </g>\r\n    <g id=\"xtick_4\">\r\n     <g id=\"line2d_4\">\r\n      <g>\r\n       <use style=\"stroke:#000000;stroke-width:0.8;\" x=\"229.27946\" xlink:href=\"#ma9d005ec73\" y=\"241.5\"/>\r\n      </g>\r\n     </g>\r\n     <g id=\"text_4\">\r\n      <!-- 1500 -->\r\n      <g transform=\"translate(217.82696 257.438594)scale(0.09 -0.09)\">\r\n       <use xlink:href=\"#DejaVuSans-49\"/>\r\n       <use x=\"63.623047\" xlink:href=\"#DejaVuSans-53\"/>\r\n       <use x=\"127.246094\" xlink:href=\"#DejaVuSans-48\"/>\r\n       <use x=\"190.869141\" xlink:href=\"#DejaVuSans-48\"/>\r\n      </g>\r\n     </g>\r\n    </g>\r\n    <g id=\"xtick_5\">\r\n     <g id=\"line2d_5\">\r\n      <g>\r\n       <use style=\"stroke:#000000;stroke-width:0.8;\" x=\"279.786089\" xlink:href=\"#ma9d005ec73\" y=\"241.5\"/>\r\n      </g>\r\n     </g>\r\n     <g id=\"text_5\">\r\n      <!-- 2000 -->\r\n      <g transform=\"translate(268.333589 257.438594)scale(0.09 -0.09)\">\r\n       <defs>\r\n        <path d=\"M 19.1875 8.296875 \r\nL 53.609375 8.296875 \r\nL 53.609375 0 \r\nL 7.328125 0 \r\nL 7.328125 8.296875 \r\nQ 12.9375 14.109375 22.625 23.890625 \r\nQ 32.328125 33.6875 34.8125 36.53125 \r\nQ 39.546875 41.84375 41.421875 45.53125 \r\nQ 43.3125 49.21875 43.3125 52.78125 \r\nQ 43.3125 58.59375 39.234375 62.25 \r\nQ 35.15625 65.921875 28.609375 65.921875 \r\nQ 23.96875 65.921875 18.8125 64.3125 \r\nQ 13.671875 62.703125 7.8125 59.421875 \r\nL 7.8125 69.390625 \r\nQ 13.765625 71.78125 18.9375 73 \r\nQ 24.125 74.21875 28.421875 74.21875 \r\nQ 39.75 74.21875 46.484375 68.546875 \r\nQ 53.21875 62.890625 53.21875 53.421875 \r\nQ 53.21875 48.921875 51.53125 44.890625 \r\nQ 49.859375 40.875 45.40625 35.40625 \r\nQ 44.1875 33.984375 37.640625 27.21875 \r\nQ 31.109375 20.453125 19.1875 8.296875 \r\nz\r\n\" id=\"DejaVuSans-50\"/>\r\n       </defs>\r\n       <use xlink:href=\"#DejaVuSans-50\"/>\r\n       <use x=\"63.623047\" xlink:href=\"#DejaVuSans-48\"/>\r\n       <use x=\"127.246094\" xlink:href=\"#DejaVuSans-48\"/>\r\n       <use x=\"190.869141\" xlink:href=\"#DejaVuSans-48\"/>\r\n      </g>\r\n     </g>\r\n    </g>\r\n    <g id=\"xtick_6\">\r\n     <g id=\"line2d_6\">\r\n      <g>\r\n       <use style=\"stroke:#000000;stroke-width:0.8;\" x=\"330.292718\" xlink:href=\"#ma9d005ec73\" y=\"241.5\"/>\r\n      </g>\r\n     </g>\r\n     <g id=\"text_6\">\r\n      <!-- 2500 -->\r\n      <g transform=\"translate(318.840218 257.438594)scale(0.09 -0.09)\">\r\n       <use xlink:href=\"#DejaVuSans-50\"/>\r\n       <use x=\"63.623047\" xlink:href=\"#DejaVuSans-53\"/>\r\n       <use x=\"127.246094\" xlink:href=\"#DejaVuSans-48\"/>\r\n       <use x=\"190.869141\" xlink:href=\"#DejaVuSans-48\"/>\r\n      </g>\r\n     </g>\r\n    </g>\r\n    <g id=\"xtick_7\">\r\n     <g id=\"line2d_7\">\r\n      <g>\r\n       <use style=\"stroke:#000000;stroke-width:0.8;\" x=\"380.799347\" xlink:href=\"#ma9d005ec73\" y=\"241.5\"/>\r\n      </g>\r\n     </g>\r\n     <g id=\"text_7\">\r\n      <!-- 3000 -->\r\n      <g transform=\"translate(369.346847 257.438594)scale(0.09 -0.09)\">\r\n       <defs>\r\n        <path d=\"M 40.578125 39.3125 \r\nQ 47.65625 37.796875 51.625 33 \r\nQ 55.609375 28.21875 55.609375 21.1875 \r\nQ 55.609375 10.40625 48.1875 4.484375 \r\nQ 40.765625 -1.421875 27.09375 -1.421875 \r\nQ 22.515625 -1.421875 17.65625 -0.515625 \r\nQ 12.796875 0.390625 7.625 2.203125 \r\nL 7.625 11.71875 \r\nQ 11.71875 9.328125 16.59375 8.109375 \r\nQ 21.484375 6.890625 26.8125 6.890625 \r\nQ 36.078125 6.890625 40.9375 10.546875 \r\nQ 45.796875 14.203125 45.796875 21.1875 \r\nQ 45.796875 27.640625 41.28125 31.265625 \r\nQ 36.765625 34.90625 28.71875 34.90625 \r\nL 20.21875 34.90625 \r\nL 20.21875 43.015625 \r\nL 29.109375 43.015625 \r\nQ 36.375 43.015625 40.234375 45.921875 \r\nQ 44.09375 48.828125 44.09375 54.296875 \r\nQ 44.09375 59.90625 40.109375 62.90625 \r\nQ 36.140625 65.921875 28.71875 65.921875 \r\nQ 24.65625 65.921875 20.015625 65.03125 \r\nQ 15.375 64.15625 9.8125 62.3125 \r\nL 9.8125 71.09375 \r\nQ 15.4375 72.65625 20.34375 73.4375 \r\nQ 25.25 74.21875 29.59375 74.21875 \r\nQ 40.828125 74.21875 47.359375 69.109375 \r\nQ 53.90625 64.015625 53.90625 55.328125 \r\nQ 53.90625 49.265625 50.4375 45.09375 \r\nQ 46.96875 40.921875 40.578125 39.3125 \r\nz\r\n\" id=\"DejaVuSans-51\"/>\r\n       </defs>\r\n       <use xlink:href=\"#DejaVuSans-51\"/>\r\n       <use x=\"63.623047\" xlink:href=\"#DejaVuSans-48\"/>\r\n       <use x=\"127.246094\" xlink:href=\"#DejaVuSans-48\"/>\r\n       <use x=\"190.869141\" xlink:href=\"#DejaVuSans-48\"/>\r\n      </g>\r\n     </g>\r\n    </g>\r\n    <g id=\"xtick_8\">\r\n     <g id=\"line2d_8\">\r\n      <g>\r\n       <use style=\"stroke:#000000;stroke-width:0.8;\" x=\"431.305975\" xlink:href=\"#ma9d005ec73\" y=\"241.5\"/>\r\n      </g>\r\n     </g>\r\n     <g id=\"text_8\">\r\n      <!-- 3500 -->\r\n      <g transform=\"translate(419.853475 257.438594)scale(0.09 -0.09)\">\r\n       <use xlink:href=\"#DejaVuSans-51\"/>\r\n       <use x=\"63.623047\" xlink:href=\"#DejaVuSans-53\"/>\r\n       <use x=\"127.246094\" xlink:href=\"#DejaVuSans-48\"/>\r\n       <use x=\"190.869141\" xlink:href=\"#DejaVuSans-48\"/>\r\n      </g>\r\n     </g>\r\n    </g>\r\n    <g id=\"text_9\">\r\n     <!-- Time [s] -->\r\n     <g transform=\"translate(237.221641 271.668594)scale(0.11 -0.11)\">\r\n      <defs>\r\n       <path d=\"M -0.296875 72.90625 \r\nL 61.375 72.90625 \r\nL 61.375 64.59375 \r\nL 35.5 64.59375 \r\nL 35.5 0 \r\nL 25.59375 0 \r\nL 25.59375 64.59375 \r\nL -0.296875 64.59375 \r\nz\r\n\" id=\"DejaVuSans-84\"/>\r\n       <path d=\"M 9.421875 54.6875 \r\nL 18.40625 54.6875 \r\nL 18.40625 0 \r\nL 9.421875 0 \r\nz\r\nM 9.421875 75.984375 \r\nL 18.40625 75.984375 \r\nL 18.40625 64.59375 \r\nL 9.421875 64.59375 \r\nz\r\n\" id=\"DejaVuSans-105\"/>\r\n       <path d=\"M 52 44.1875 \r\nQ 55.375 50.25 60.0625 53.125 \r\nQ 64.75 56 71.09375 56 \r\nQ 79.640625 56 84.28125 50.015625 \r\nQ 88.921875 44.046875 88.921875 33.015625 \r\nL 88.921875 0 \r\nL 79.890625 0 \r\nL 79.890625 32.71875 \r\nQ 79.890625 40.578125 77.09375 44.375 \r\nQ 74.3125 48.1875 68.609375 48.1875 \r\nQ 61.625 48.1875 57.5625 43.546875 \r\nQ 53.515625 38.921875 53.515625 30.90625 \r\nL 53.515625 0 \r\nL 44.484375 0 \r\nL 44.484375 32.71875 \r\nQ 44.484375 40.625 41.703125 44.40625 \r\nQ 38.921875 48.1875 33.109375 48.1875 \r\nQ 26.21875 48.1875 22.15625 43.53125 \r\nQ 18.109375 38.875 18.109375 30.90625 \r\nL 18.109375 0 \r\nL 9.078125 0 \r\nL 9.078125 54.6875 \r\nL 18.109375 54.6875 \r\nL 18.109375 46.1875 \r\nQ 21.1875 51.21875 25.484375 53.609375 \r\nQ 29.78125 56 35.6875 56 \r\nQ 41.65625 56 45.828125 52.96875 \r\nQ 50 49.953125 52 44.1875 \r\nz\r\n\" id=\"DejaVuSans-109\"/>\r\n       <path d=\"M 56.203125 29.59375 \r\nL 56.203125 25.203125 \r\nL 14.890625 25.203125 \r\nQ 15.484375 15.921875 20.484375 11.0625 \r\nQ 25.484375 6.203125 34.421875 6.203125 \r\nQ 39.59375 6.203125 44.453125 7.46875 \r\nQ 49.3125 8.734375 54.109375 11.28125 \r\nL 54.109375 2.78125 \r\nQ 49.265625 0.734375 44.1875 -0.34375 \r\nQ 39.109375 -1.421875 33.890625 -1.421875 \r\nQ 20.796875 -1.421875 13.15625 6.1875 \r\nQ 5.515625 13.8125 5.515625 26.8125 \r\nQ 5.515625 40.234375 12.765625 48.109375 \r\nQ 20.015625 56 32.328125 56 \r\nQ 43.359375 56 49.78125 48.890625 \r\nQ 56.203125 41.796875 56.203125 29.59375 \r\nz\r\nM 47.21875 32.234375 \r\nQ 47.125 39.59375 43.09375 43.984375 \r\nQ 39.0625 48.390625 32.421875 48.390625 \r\nQ 24.90625 48.390625 20.390625 44.140625 \r\nQ 15.875 39.890625 15.1875 32.171875 \r\nz\r\n\" id=\"DejaVuSans-101\"/>\r\n       <path id=\"DejaVuSans-32\"/>\r\n       <path d=\"M 8.59375 75.984375 \r\nL 29.296875 75.984375 \r\nL 29.296875 69 \r\nL 17.578125 69 \r\nL 17.578125 -6.203125 \r\nL 29.296875 -6.203125 \r\nL 29.296875 -13.1875 \r\nL 8.59375 -13.1875 \r\nz\r\n\" id=\"DejaVuSans-91\"/>\r\n       <path d=\"M 44.28125 53.078125 \r\nL 44.28125 44.578125 \r\nQ 40.484375 46.53125 36.375 47.5 \r\nQ 32.28125 48.484375 27.875 48.484375 \r\nQ 21.1875 48.484375 17.84375 46.4375 \r\nQ 14.5 44.390625 14.5 40.28125 \r\nQ 14.5 37.15625 16.890625 35.375 \r\nQ 19.28125 33.59375 26.515625 31.984375 \r\nL 29.59375 31.296875 \r\nQ 39.15625 29.25 43.1875 25.515625 \r\nQ 47.21875 21.78125 47.21875 15.09375 \r\nQ 47.21875 7.46875 41.1875 3.015625 \r\nQ 35.15625 -1.421875 24.609375 -1.421875 \r\nQ 20.21875 -1.421875 15.453125 -0.5625 \r\nQ 10.6875 0.296875 5.421875 2 \r\nL 5.421875 11.28125 \r\nQ 10.40625 8.6875 15.234375 7.390625 \r\nQ 20.0625 6.109375 24.8125 6.109375 \r\nQ 31.15625 6.109375 34.5625 8.28125 \r\nQ 37.984375 10.453125 37.984375 14.40625 \r\nQ 37.984375 18.0625 35.515625 20.015625 \r\nQ 33.0625 21.96875 24.703125 23.78125 \r\nL 21.578125 24.515625 \r\nQ 13.234375 26.265625 9.515625 29.90625 \r\nQ 5.8125 33.546875 5.8125 39.890625 \r\nQ 5.8125 47.609375 11.28125 51.796875 \r\nQ 16.75 56 26.8125 56 \r\nQ 31.78125 56 36.171875 55.265625 \r\nQ 40.578125 54.546875 44.28125 53.078125 \r\nz\r\n\" id=\"DejaVuSans-115\"/>\r\n       <path d=\"M 30.421875 75.984375 \r\nL 30.421875 -13.1875 \r\nL 9.71875 -13.1875 \r\nL 9.71875 -6.203125 \r\nL 21.390625 -6.203125 \r\nL 21.390625 69 \r\nL 9.71875 69 \r\nL 9.71875 75.984375 \r\nz\r\n\" id=\"DejaVuSans-93\"/>\r\n      </defs>\r\n      <use xlink:href=\"#DejaVuSans-84\"/>\r\n      <use x=\"57.958984\" xlink:href=\"#DejaVuSans-105\"/>\r\n      <use x=\"85.742188\" xlink:href=\"#DejaVuSans-109\"/>\r\n      <use x=\"183.154297\" xlink:href=\"#DejaVuSans-101\"/>\r\n      <use x=\"244.677734\" xlink:href=\"#DejaVuSans-32\"/>\r\n      <use x=\"276.464844\" xlink:href=\"#DejaVuSans-91\"/>\r\n      <use x=\"315.478516\" xlink:href=\"#DejaVuSans-115\"/>\r\n      <use x=\"367.578125\" xlink:href=\"#DejaVuSans-93\"/>\r\n     </g>\r\n    </g>\r\n   </g>\r\n   <g id=\"matplotlib.axis_2\">\r\n    <g id=\"ytick_1\">\r\n     <g id=\"line2d_9\">\r\n      <defs>\r\n       <path d=\"M 0 0 \r\nL -3.5 0 \r\n\" id=\"mba38de6f07\" style=\"stroke:#000000;stroke-width:0.8;\"/>\r\n      </defs>\r\n      <g>\r\n       <use style=\"stroke:#000000;stroke-width:0.8;\" x=\"59.577188\" xlink:href=\"#mba38de6f07\" y=\"212.399458\"/>\r\n      </g>\r\n     </g>\r\n     <g id=\"text_10\">\r\n      <!-- 10000 -->\r\n      <g transform=\"translate(21.845938 215.818755)scale(0.09 -0.09)\">\r\n       <use xlink:href=\"#DejaVuSans-49\"/>\r\n       <use x=\"63.623047\" xlink:href=\"#DejaVuSans-48\"/>\r\n       <use x=\"127.246094\" xlink:href=\"#DejaVuSans-48\"/>\r\n       <use x=\"190.869141\" xlink:href=\"#DejaVuSans-48\"/>\r\n       <use x=\"254.492188\" xlink:href=\"#DejaVuSans-48\"/>\r\n      </g>\r\n     </g>\r\n    </g>\r\n    <g id=\"ytick_2\">\r\n     <g id=\"line2d_10\">\r\n      <g>\r\n       <use style=\"stroke:#000000;stroke-width:0.8;\" x=\"59.577188\" xlink:href=\"#mba38de6f07\" y=\"179.974549\"/>\r\n      </g>\r\n     </g>\r\n     <g id=\"text_11\">\r\n      <!-- 12500 -->\r\n      <g transform=\"translate(21.845938 183.393846)scale(0.09 -0.09)\">\r\n       <use xlink:href=\"#DejaVuSans-49\"/>\r\n       <use x=\"63.623047\" xlink:href=\"#DejaVuSans-50\"/>\r\n       <use x=\"127.246094\" xlink:href=\"#DejaVuSans-53\"/>\r\n       <use x=\"190.869141\" xlink:href=\"#DejaVuSans-48\"/>\r\n       <use x=\"254.492188\" xlink:href=\"#DejaVuSans-48\"/>\r\n      </g>\r\n     </g>\r\n    </g>\r\n    <g id=\"ytick_3\">\r\n     <g id=\"line2d_11\">\r\n      <g>\r\n       <use style=\"stroke:#000000;stroke-width:0.8;\" x=\"59.577188\" xlink:href=\"#mba38de6f07\" y=\"147.549639\"/>\r\n      </g>\r\n     </g>\r\n     <g id=\"text_12\">\r\n      <!-- 15000 -->\r\n      <g transform=\"translate(21.845938 150.968936)scale(0.09 -0.09)\">\r\n       <use xlink:href=\"#DejaVuSans-49\"/>\r\n       <use x=\"63.623047\" xlink:href=\"#DejaVuSans-53\"/>\r\n       <use x=\"127.246094\" xlink:href=\"#DejaVuSans-48\"/>\r\n       <use x=\"190.869141\" xlink:href=\"#DejaVuSans-48\"/>\r\n       <use x=\"254.492188\" xlink:href=\"#DejaVuSans-48\"/>\r\n      </g>\r\n     </g>\r\n    </g>\r\n    <g id=\"ytick_4\">\r\n     <g id=\"line2d_12\">\r\n      <g>\r\n       <use style=\"stroke:#000000;stroke-width:0.8;\" x=\"59.577188\" xlink:href=\"#mba38de6f07\" y=\"115.124729\"/>\r\n      </g>\r\n     </g>\r\n     <g id=\"text_13\">\r\n      <!-- 17500 -->\r\n      <g transform=\"translate(21.845938 118.544026)scale(0.09 -0.09)\">\r\n       <defs>\r\n        <path d=\"M 8.203125 72.90625 \r\nL 55.078125 72.90625 \r\nL 55.078125 68.703125 \r\nL 28.609375 0 \r\nL 18.3125 0 \r\nL 43.21875 64.59375 \r\nL 8.203125 64.59375 \r\nz\r\n\" id=\"DejaVuSans-55\"/>\r\n       </defs>\r\n       <use xlink:href=\"#DejaVuSans-49\"/>\r\n       <use x=\"63.623047\" xlink:href=\"#DejaVuSans-55\"/>\r\n       <use x=\"127.246094\" xlink:href=\"#DejaVuSans-53\"/>\r\n       <use x=\"190.869141\" xlink:href=\"#DejaVuSans-48\"/>\r\n       <use x=\"254.492188\" xlink:href=\"#DejaVuSans-48\"/>\r\n      </g>\r\n     </g>\r\n    </g>\r\n    <g id=\"ytick_5\">\r\n     <g id=\"line2d_13\">\r\n      <g>\r\n       <use style=\"stroke:#000000;stroke-width:0.8;\" x=\"59.577188\" xlink:href=\"#mba38de6f07\" y=\"82.699819\"/>\r\n      </g>\r\n     </g>\r\n     <g id=\"text_14\">\r\n      <!-- 20000 -->\r\n      <g transform=\"translate(21.845938 86.119116)scale(0.09 -0.09)\">\r\n       <use xlink:href=\"#DejaVuSans-50\"/>\r\n       <use x=\"63.623047\" xlink:href=\"#DejaVuSans-48\"/>\r\n       <use x=\"127.246094\" xlink:href=\"#DejaVuSans-48\"/>\r\n       <use x=\"190.869141\" xlink:href=\"#DejaVuSans-48\"/>\r\n       <use x=\"254.492188\" xlink:href=\"#DejaVuSans-48\"/>\r\n      </g>\r\n     </g>\r\n    </g>\r\n    <g id=\"ytick_6\">\r\n     <g id=\"line2d_14\">\r\n      <g>\r\n       <use style=\"stroke:#000000;stroke-width:0.8;\" x=\"59.577188\" xlink:href=\"#mba38de6f07\" y=\"50.27491\"/>\r\n      </g>\r\n     </g>\r\n     <g id=\"text_15\">\r\n      <!-- 22500 -->\r\n      <g transform=\"translate(21.845938 53.694207)scale(0.09 -0.09)\">\r\n       <use xlink:href=\"#DejaVuSans-50\"/>\r\n       <use x=\"63.623047\" xlink:href=\"#DejaVuSans-50\"/>\r\n       <use x=\"127.246094\" xlink:href=\"#DejaVuSans-53\"/>\r\n       <use x=\"190.869141\" xlink:href=\"#DejaVuSans-48\"/>\r\n       <use x=\"254.492188\" xlink:href=\"#DejaVuSans-48\"/>\r\n      </g>\r\n     </g>\r\n    </g>\r\n    <g id=\"ytick_7\">\r\n     <g id=\"line2d_15\">\r\n      <g>\r\n       <use style=\"stroke:#000000;stroke-width:0.8;\" x=\"59.577188\" xlink:href=\"#mba38de6f07\" y=\"17.85\"/>\r\n      </g>\r\n     </g>\r\n     <g id=\"text_16\">\r\n      <!-- 25000 -->\r\n      <g transform=\"translate(21.845938 21.269297)scale(0.09 -0.09)\">\r\n       <use xlink:href=\"#DejaVuSans-50\"/>\r\n       <use x=\"63.623047\" xlink:href=\"#DejaVuSans-53\"/>\r\n       <use x=\"127.246094\" xlink:href=\"#DejaVuSans-48\"/>\r\n       <use x=\"190.869141\" xlink:href=\"#DejaVuSans-48\"/>\r\n       <use x=\"254.492188\" xlink:href=\"#DejaVuSans-48\"/>\r\n      </g>\r\n     </g>\r\n    </g>\r\n    <g id=\"text_17\">\r\n     <!-- Surface concentration [mol.m-3] -->\r\n     <g transform=\"translate(15.558281 214.022344)rotate(-90)scale(0.11 -0.11)\">\r\n      <defs>\r\n       <path d=\"M 53.515625 70.515625 \r\nL 53.515625 60.890625 \r\nQ 47.90625 63.578125 42.921875 64.890625 \r\nQ 37.9375 66.21875 33.296875 66.21875 \r\nQ 25.25 66.21875 20.875 63.09375 \r\nQ 16.5 59.96875 16.5 54.203125 \r\nQ 16.5 49.359375 19.40625 46.890625 \r\nQ 22.3125 44.4375 30.421875 42.921875 \r\nL 36.375 41.703125 \r\nQ 47.40625 39.59375 52.65625 34.296875 \r\nQ 57.90625 29 57.90625 20.125 \r\nQ 57.90625 9.515625 50.796875 4.046875 \r\nQ 43.703125 -1.421875 29.984375 -1.421875 \r\nQ 24.8125 -1.421875 18.96875 -0.25 \r\nQ 13.140625 0.921875 6.890625 3.21875 \r\nL 6.890625 13.375 \r\nQ 12.890625 10.015625 18.65625 8.296875 \r\nQ 24.421875 6.59375 29.984375 6.59375 \r\nQ 38.421875 6.59375 43.015625 9.90625 \r\nQ 47.609375 13.234375 47.609375 19.390625 \r\nQ 47.609375 24.75 44.3125 27.78125 \r\nQ 41.015625 30.8125 33.5 32.328125 \r\nL 27.484375 33.5 \r\nQ 16.453125 35.6875 11.515625 40.375 \r\nQ 6.59375 45.0625 6.59375 53.421875 \r\nQ 6.59375 63.09375 13.40625 68.65625 \r\nQ 20.21875 74.21875 32.171875 74.21875 \r\nQ 37.3125 74.21875 42.625 73.28125 \r\nQ 47.953125 72.359375 53.515625 70.515625 \r\nz\r\n\" id=\"DejaVuSans-83\"/>\r\n       <path d=\"M 8.5 21.578125 \r\nL 8.5 54.6875 \r\nL 17.484375 54.6875 \r\nL 17.484375 21.921875 \r\nQ 17.484375 14.15625 20.5 10.265625 \r\nQ 23.53125 6.390625 29.59375 6.390625 \r\nQ 36.859375 6.390625 41.078125 11.03125 \r\nQ 45.3125 15.671875 45.3125 23.6875 \r\nL 45.3125 54.6875 \r\nL 54.296875 54.6875 \r\nL 54.296875 0 \r\nL 45.3125 0 \r\nL 45.3125 8.40625 \r\nQ 42.046875 3.421875 37.71875 1 \r\nQ 33.40625 -1.421875 27.6875 -1.421875 \r\nQ 18.265625 -1.421875 13.375 4.4375 \r\nQ 8.5 10.296875 8.5 21.578125 \r\nz\r\nM 31.109375 56 \r\nz\r\n\" id=\"DejaVuSans-117\"/>\r\n       <path d=\"M 41.109375 46.296875 \r\nQ 39.59375 47.171875 37.8125 47.578125 \r\nQ 36.03125 48 33.890625 48 \r\nQ 26.265625 48 22.1875 43.046875 \r\nQ 18.109375 38.09375 18.109375 28.8125 \r\nL 18.109375 0 \r\nL 9.078125 0 \r\nL 9.078125 54.6875 \r\nL 18.109375 54.6875 \r\nL 18.109375 46.1875 \r\nQ 20.953125 51.171875 25.484375 53.578125 \r\nQ 30.03125 56 36.53125 56 \r\nQ 37.453125 56 38.578125 55.875 \r\nQ 39.703125 55.765625 41.0625 55.515625 \r\nz\r\n\" id=\"DejaVuSans-114\"/>\r\n       <path d=\"M 37.109375 75.984375 \r\nL 37.109375 68.5 \r\nL 28.515625 68.5 \r\nQ 23.6875 68.5 21.796875 66.546875 \r\nQ 19.921875 64.59375 19.921875 59.515625 \r\nL 19.921875 54.6875 \r\nL 34.71875 54.6875 \r\nL 34.71875 47.703125 \r\nL 19.921875 47.703125 \r\nL 19.921875 0 \r\nL 10.890625 0 \r\nL 10.890625 47.703125 \r\nL 2.296875 47.703125 \r\nL 2.296875 54.6875 \r\nL 10.890625 54.6875 \r\nL 10.890625 58.5 \r\nQ 10.890625 67.625 15.140625 71.796875 \r\nQ 19.390625 75.984375 28.609375 75.984375 \r\nz\r\n\" id=\"DejaVuSans-102\"/>\r\n       <path d=\"M 34.28125 27.484375 \r\nQ 23.390625 27.484375 19.1875 25 \r\nQ 14.984375 22.515625 14.984375 16.5 \r\nQ 14.984375 11.71875 18.140625 8.90625 \r\nQ 21.296875 6.109375 26.703125 6.109375 \r\nQ 34.1875 6.109375 38.703125 11.40625 \r\nQ 43.21875 16.703125 43.21875 25.484375 \r\nL 43.21875 27.484375 \r\nz\r\nM 52.203125 31.203125 \r\nL 52.203125 0 \r\nL 43.21875 0 \r\nL 43.21875 8.296875 \r\nQ 40.140625 3.328125 35.546875 0.953125 \r\nQ 30.953125 -1.421875 24.3125 -1.421875 \r\nQ 15.921875 -1.421875 10.953125 3.296875 \r\nQ 6 8.015625 6 15.921875 \r\nQ 6 25.140625 12.171875 29.828125 \r\nQ 18.359375 34.515625 30.609375 34.515625 \r\nL 43.21875 34.515625 \r\nL 43.21875 35.40625 \r\nQ 43.21875 41.609375 39.140625 45 \r\nQ 35.0625 48.390625 27.6875 48.390625 \r\nQ 23 48.390625 18.546875 47.265625 \r\nQ 14.109375 46.140625 10.015625 43.890625 \r\nL 10.015625 52.203125 \r\nQ 14.9375 54.109375 19.578125 55.046875 \r\nQ 24.21875 56 28.609375 56 \r\nQ 40.484375 56 46.34375 49.84375 \r\nQ 52.203125 43.703125 52.203125 31.203125 \r\nz\r\n\" id=\"DejaVuSans-97\"/>\r\n       <path d=\"M 48.78125 52.59375 \r\nL 48.78125 44.1875 \r\nQ 44.96875 46.296875 41.140625 47.34375 \r\nQ 37.3125 48.390625 33.40625 48.390625 \r\nQ 24.65625 48.390625 19.8125 42.84375 \r\nQ 14.984375 37.3125 14.984375 27.296875 \r\nQ 14.984375 17.28125 19.8125 11.734375 \r\nQ 24.65625 6.203125 33.40625 6.203125 \r\nQ 37.3125 6.203125 41.140625 7.25 \r\nQ 44.96875 8.296875 48.78125 10.40625 \r\nL 48.78125 2.09375 \r\nQ 45.015625 0.34375 40.984375 -0.53125 \r\nQ 36.96875 -1.421875 32.421875 -1.421875 \r\nQ 20.0625 -1.421875 12.78125 6.34375 \r\nQ 5.515625 14.109375 5.515625 27.296875 \r\nQ 5.515625 40.671875 12.859375 48.328125 \r\nQ 20.21875 56 33.015625 56 \r\nQ 37.15625 56 41.109375 55.140625 \r\nQ 45.0625 54.296875 48.78125 52.59375 \r\nz\r\n\" id=\"DejaVuSans-99\"/>\r\n       <path d=\"M 30.609375 48.390625 \r\nQ 23.390625 48.390625 19.1875 42.75 \r\nQ 14.984375 37.109375 14.984375 27.296875 \r\nQ 14.984375 17.484375 19.15625 11.84375 \r\nQ 23.34375 6.203125 30.609375 6.203125 \r\nQ 37.796875 6.203125 41.984375 11.859375 \r\nQ 46.1875 17.53125 46.1875 27.296875 \r\nQ 46.1875 37.015625 41.984375 42.703125 \r\nQ 37.796875 48.390625 30.609375 48.390625 \r\nz\r\nM 30.609375 56 \r\nQ 42.328125 56 49.015625 48.375 \r\nQ 55.71875 40.765625 55.71875 27.296875 \r\nQ 55.71875 13.875 49.015625 6.21875 \r\nQ 42.328125 -1.421875 30.609375 -1.421875 \r\nQ 18.84375 -1.421875 12.171875 6.21875 \r\nQ 5.515625 13.875 5.515625 27.296875 \r\nQ 5.515625 40.765625 12.171875 48.375 \r\nQ 18.84375 56 30.609375 56 \r\nz\r\n\" id=\"DejaVuSans-111\"/>\r\n       <path d=\"M 54.890625 33.015625 \r\nL 54.890625 0 \r\nL 45.90625 0 \r\nL 45.90625 32.71875 \r\nQ 45.90625 40.484375 42.875 44.328125 \r\nQ 39.84375 48.1875 33.796875 48.1875 \r\nQ 26.515625 48.1875 22.3125 43.546875 \r\nQ 18.109375 38.921875 18.109375 30.90625 \r\nL 18.109375 0 \r\nL 9.078125 0 \r\nL 9.078125 54.6875 \r\nL 18.109375 54.6875 \r\nL 18.109375 46.1875 \r\nQ 21.34375 51.125 25.703125 53.5625 \r\nQ 30.078125 56 35.796875 56 \r\nQ 45.21875 56 50.046875 50.171875 \r\nQ 54.890625 44.34375 54.890625 33.015625 \r\nz\r\n\" id=\"DejaVuSans-110\"/>\r\n       <path d=\"M 18.3125 70.21875 \r\nL 18.3125 54.6875 \r\nL 36.8125 54.6875 \r\nL 36.8125 47.703125 \r\nL 18.3125 47.703125 \r\nL 18.3125 18.015625 \r\nQ 18.3125 11.328125 20.140625 9.421875 \r\nQ 21.96875 7.515625 27.59375 7.515625 \r\nL 36.8125 7.515625 \r\nL 36.8125 0 \r\nL 27.59375 0 \r\nQ 17.1875 0 13.234375 3.875 \r\nQ 9.28125 7.765625 9.28125 18.015625 \r\nL 9.28125 47.703125 \r\nL 2.6875 47.703125 \r\nL 2.6875 54.6875 \r\nL 9.28125 54.6875 \r\nL 9.28125 70.21875 \r\nz\r\n\" id=\"DejaVuSans-116\"/>\r\n       <path d=\"M 9.421875 75.984375 \r\nL 18.40625 75.984375 \r\nL 18.40625 0 \r\nL 9.421875 0 \r\nz\r\n\" id=\"DejaVuSans-108\"/>\r\n       <path d=\"M 10.6875 12.40625 \r\nL 21 12.40625 \r\nL 21 0 \r\nL 10.6875 0 \r\nz\r\n\" id=\"DejaVuSans-46\"/>\r\n       <path d=\"M 4.890625 31.390625 \r\nL 31.203125 31.390625 \r\nL 31.203125 23.390625 \r\nL 4.890625 23.390625 \r\nz\r\n\" id=\"DejaVuSans-45\"/>\r\n      </defs>\r\n      <use xlink:href=\"#DejaVuSans-83\"/>\r\n      <use x=\"63.476562\" xlink:href=\"#DejaVuSans-117\"/>\r\n      <use x=\"126.855469\" xlink:href=\"#DejaVuSans-114\"/>\r\n      <use x=\"167.96875\" xlink:href=\"#DejaVuSans-102\"/>\r\n      <use x=\"203.173828\" xlink:href=\"#DejaVuSans-97\"/>\r\n      <use x=\"264.453125\" xlink:href=\"#DejaVuSans-99\"/>\r\n      <use x=\"319.433594\" xlink:href=\"#DejaVuSans-101\"/>\r\n      <use x=\"380.957031\" xlink:href=\"#DejaVuSans-32\"/>\r\n      <use x=\"412.744141\" xlink:href=\"#DejaVuSans-99\"/>\r\n      <use x=\"467.724609\" xlink:href=\"#DejaVuSans-111\"/>\r\n      <use x=\"528.90625\" xlink:href=\"#DejaVuSans-110\"/>\r\n      <use x=\"592.285156\" xlink:href=\"#DejaVuSans-99\"/>\r\n      <use x=\"647.265625\" xlink:href=\"#DejaVuSans-101\"/>\r\n      <use x=\"708.789062\" xlink:href=\"#DejaVuSans-110\"/>\r\n      <use x=\"772.167969\" xlink:href=\"#DejaVuSans-116\"/>\r\n      <use x=\"811.376953\" xlink:href=\"#DejaVuSans-114\"/>\r\n      <use x=\"852.490234\" xlink:href=\"#DejaVuSans-97\"/>\r\n      <use x=\"913.769531\" xlink:href=\"#DejaVuSans-116\"/>\r\n      <use x=\"952.978516\" xlink:href=\"#DejaVuSans-105\"/>\r\n      <use x=\"980.761719\" xlink:href=\"#DejaVuSans-111\"/>\r\n      <use x=\"1041.943359\" xlink:href=\"#DejaVuSans-110\"/>\r\n      <use x=\"1105.322266\" xlink:href=\"#DejaVuSans-32\"/>\r\n      <use x=\"1137.109375\" xlink:href=\"#DejaVuSans-91\"/>\r\n      <use x=\"1176.123047\" xlink:href=\"#DejaVuSans-109\"/>\r\n      <use x=\"1273.535156\" xlink:href=\"#DejaVuSans-111\"/>\r\n      <use x=\"1334.716797\" xlink:href=\"#DejaVuSans-108\"/>\r\n      <use x=\"1362.5\" xlink:href=\"#DejaVuSans-46\"/>\r\n      <use x=\"1394.287109\" xlink:href=\"#DejaVuSans-109\"/>\r\n      <use x=\"1491.699219\" xlink:href=\"#DejaVuSans-45\"/>\r\n      <use x=\"1527.783203\" xlink:href=\"#DejaVuSans-51\"/>\r\n      <use x=\"1591.40625\" xlink:href=\"#DejaVuSans-93\"/>\r\n     </g>\r\n    </g>\r\n   </g>\r\n   <g id=\"line2d_16\">\r\n    <path clip-path=\"url(#p402866e5d9)\" d=\"M 77.759574 17.85 \r\nL 78.366665 20.168561 \r\nL 78.973757 21.502124 \r\nL 80.187939 23.397064 \r\nL 82.009213 25.550261 \r\nL 83.830488 27.345695 \r\nL 86.258853 29.451274 \r\nL 89.901401 32.262738 \r\nL 94.151041 35.241163 \r\nL 99.614863 38.796558 \r\nL 106.899959 43.26451 \r\nL 117.220513 49.316534 \r\nL 134.219071 58.988945 \r\nL 174.287101 81.455059 \r\nL 441.407301 230.85 \r\nL 441.407301 230.85 \r\n\" style=\"fill:none;stroke:#ff0000;stroke-linecap:square;stroke-width:1.8;\"/>\r\n   </g>\r\n   <g id=\"patch_3\">\r\n    <path d=\"M 59.577188 241.5 \r\nL 59.577188 7.2 \r\n\" style=\"fill:none;stroke:#000000;stroke-linecap:square;stroke-linejoin:miter;stroke-width:0.8;\"/>\r\n   </g>\r\n   <g id=\"patch_4\">\r\n    <path d=\"M 459.589687 241.5 \r\nL 459.589687 7.2 \r\n\" style=\"fill:none;stroke:#000000;stroke-linecap:square;stroke-linejoin:miter;stroke-width:0.8;\"/>\r\n   </g>\r\n   <g id=\"patch_5\">\r\n    <path d=\"M 59.577188 241.5 \r\nL 459.589687 241.5 \r\n\" style=\"fill:none;stroke:#000000;stroke-linecap:square;stroke-linejoin:miter;stroke-width:0.8;\"/>\r\n   </g>\r\n   <g id=\"patch_6\">\r\n    <path d=\"M 59.577188 7.2 \r\nL 459.589687 7.2 \r\n\" style=\"fill:none;stroke:#000000;stroke-linecap:square;stroke-linejoin:miter;stroke-width:0.8;\"/>\r\n   </g>\r\n  </g>\r\n  <g id=\"axes_2\">\r\n   <g id=\"patch_7\">\r\n    <path d=\"M 522.114688 241.5 \r\nL 922.127187 241.5 \r\nL 922.127187 7.2 \r\nL 522.114688 7.2 \r\nz\r\n\" style=\"fill:#ffffff;\"/>\r\n   </g>\r\n   <g id=\"matplotlib.axis_3\">\r\n    <g id=\"xtick_9\">\r\n     <g id=\"line2d_17\">\r\n      <g>\r\n       <use style=\"stroke:#000000;stroke-width:0.8;\" x=\"530.727397\" xlink:href=\"#ma9d005ec73\" y=\"241.5\"/>\r\n      </g>\r\n     </g>\r\n     <g id=\"text_18\">\r\n      <!-- 0 -->\r\n      <g transform=\"translate(527.864272 257.438594)scale(0.09 -0.09)\">\r\n       <use xlink:href=\"#DejaVuSans-48\"/>\r\n      </g>\r\n     </g>\r\n    </g>\r\n    <g id=\"xtick_10\">\r\n     <g id=\"line2d_18\">\r\n      <g>\r\n       <use style=\"stroke:#000000;stroke-width:0.8;\" x=\"607.284813\" xlink:href=\"#ma9d005ec73\" y=\"241.5\"/>\r\n      </g>\r\n     </g>\r\n     <g id=\"text_19\">\r\n      <!-- 2 -->\r\n      <g transform=\"translate(604.421688 257.438594)scale(0.09 -0.09)\">\r\n       <use xlink:href=\"#DejaVuSans-50\"/>\r\n      </g>\r\n     </g>\r\n    </g>\r\n    <g id=\"xtick_11\">\r\n     <g id=\"line2d_19\">\r\n      <g>\r\n       <use style=\"stroke:#000000;stroke-width:0.8;\" x=\"683.842229\" xlink:href=\"#ma9d005ec73\" y=\"241.5\"/>\r\n      </g>\r\n     </g>\r\n     <g id=\"text_20\">\r\n      <!-- 4 -->\r\n      <g transform=\"translate(680.979104 257.438594)scale(0.09 -0.09)\">\r\n       <defs>\r\n        <path d=\"M 37.796875 64.3125 \r\nL 12.890625 25.390625 \r\nL 37.796875 25.390625 \r\nz\r\nM 35.203125 72.90625 \r\nL 47.609375 72.90625 \r\nL 47.609375 25.390625 \r\nL 58.015625 25.390625 \r\nL 58.015625 17.1875 \r\nL 47.609375 17.1875 \r\nL 47.609375 0 \r\nL 37.796875 0 \r\nL 37.796875 17.1875 \r\nL 4.890625 17.1875 \r\nL 4.890625 26.703125 \r\nz\r\n\" id=\"DejaVuSans-52\"/>\r\n       </defs>\r\n       <use xlink:href=\"#DejaVuSans-52\"/>\r\n      </g>\r\n     </g>\r\n    </g>\r\n    <g id=\"xtick_12\">\r\n     <g id=\"line2d_20\">\r\n      <g>\r\n       <use style=\"stroke:#000000;stroke-width:0.8;\" x=\"760.399646\" xlink:href=\"#ma9d005ec73\" y=\"241.5\"/>\r\n      </g>\r\n     </g>\r\n     <g id=\"text_21\">\r\n      <!-- 6 -->\r\n      <g transform=\"translate(757.536521 257.438594)scale(0.09 -0.09)\">\r\n       <defs>\r\n        <path d=\"M 33.015625 40.375 \r\nQ 26.375 40.375 22.484375 35.828125 \r\nQ 18.609375 31.296875 18.609375 23.390625 \r\nQ 18.609375 15.53125 22.484375 10.953125 \r\nQ 26.375 6.390625 33.015625 6.390625 \r\nQ 39.65625 6.390625 43.53125 10.953125 \r\nQ 47.40625 15.53125 47.40625 23.390625 \r\nQ 47.40625 31.296875 43.53125 35.828125 \r\nQ 39.65625 40.375 33.015625 40.375 \r\nz\r\nM 52.59375 71.296875 \r\nL 52.59375 62.3125 \r\nQ 48.875 64.0625 45.09375 64.984375 \r\nQ 41.3125 65.921875 37.59375 65.921875 \r\nQ 27.828125 65.921875 22.671875 59.328125 \r\nQ 17.53125 52.734375 16.796875 39.40625 \r\nQ 19.671875 43.65625 24.015625 45.921875 \r\nQ 28.375 48.1875 33.59375 48.1875 \r\nQ 44.578125 48.1875 50.953125 41.515625 \r\nQ 57.328125 34.859375 57.328125 23.390625 \r\nQ 57.328125 12.15625 50.6875 5.359375 \r\nQ 44.046875 -1.421875 33.015625 -1.421875 \r\nQ 20.359375 -1.421875 13.671875 8.265625 \r\nQ 6.984375 17.96875 6.984375 36.375 \r\nQ 6.984375 53.65625 15.1875 63.9375 \r\nQ 23.390625 74.21875 37.203125 74.21875 \r\nQ 40.921875 74.21875 44.703125 73.484375 \r\nQ 48.484375 72.75 52.59375 71.296875 \r\nz\r\n\" id=\"DejaVuSans-54\"/>\r\n       </defs>\r\n       <use xlink:href=\"#DejaVuSans-54\"/>\r\n      </g>\r\n     </g>\r\n    </g>\r\n    <g id=\"xtick_13\">\r\n     <g id=\"line2d_21\">\r\n      <g>\r\n       <use style=\"stroke:#000000;stroke-width:0.8;\" x=\"836.957062\" xlink:href=\"#ma9d005ec73\" y=\"241.5\"/>\r\n      </g>\r\n     </g>\r\n     <g id=\"text_22\">\r\n      <!-- 8 -->\r\n      <g transform=\"translate(834.093937 257.438594)scale(0.09 -0.09)\">\r\n       <defs>\r\n        <path d=\"M 31.78125 34.625 \r\nQ 24.75 34.625 20.71875 30.859375 \r\nQ 16.703125 27.09375 16.703125 20.515625 \r\nQ 16.703125 13.921875 20.71875 10.15625 \r\nQ 24.75 6.390625 31.78125 6.390625 \r\nQ 38.8125 6.390625 42.859375 10.171875 \r\nQ 46.921875 13.96875 46.921875 20.515625 \r\nQ 46.921875 27.09375 42.890625 30.859375 \r\nQ 38.875 34.625 31.78125 34.625 \r\nz\r\nM 21.921875 38.8125 \r\nQ 15.578125 40.375 12.03125 44.71875 \r\nQ 8.5 49.078125 8.5 55.328125 \r\nQ 8.5 64.0625 14.71875 69.140625 \r\nQ 20.953125 74.21875 31.78125 74.21875 \r\nQ 42.671875 74.21875 48.875 69.140625 \r\nQ 55.078125 64.0625 55.078125 55.328125 \r\nQ 55.078125 49.078125 51.53125 44.71875 \r\nQ 48 40.375 41.703125 38.8125 \r\nQ 48.828125 37.15625 52.796875 32.3125 \r\nQ 56.78125 27.484375 56.78125 20.515625 \r\nQ 56.78125 9.90625 50.3125 4.234375 \r\nQ 43.84375 -1.421875 31.78125 -1.421875 \r\nQ 19.734375 -1.421875 13.25 4.234375 \r\nQ 6.78125 9.90625 6.78125 20.515625 \r\nQ 6.78125 27.484375 10.78125 32.3125 \r\nQ 14.796875 37.15625 21.921875 38.8125 \r\nz\r\nM 18.3125 54.390625 \r\nQ 18.3125 48.734375 21.84375 45.5625 \r\nQ 25.390625 42.390625 31.78125 42.390625 \r\nQ 38.140625 42.390625 41.71875 45.5625 \r\nQ 45.3125 48.734375 45.3125 54.390625 \r\nQ 45.3125 60.0625 41.71875 63.234375 \r\nQ 38.140625 66.40625 31.78125 66.40625 \r\nQ 25.390625 66.40625 21.84375 63.234375 \r\nQ 18.3125 60.0625 18.3125 54.390625 \r\nz\r\n\" id=\"DejaVuSans-56\"/>\r\n       </defs>\r\n       <use xlink:href=\"#DejaVuSans-56\"/>\r\n      </g>\r\n     </g>\r\n    </g>\r\n    <g id=\"xtick_14\">\r\n     <g id=\"line2d_22\">\r\n      <g>\r\n       <use style=\"stroke:#000000;stroke-width:0.8;\" x=\"913.514478\" xlink:href=\"#ma9d005ec73\" y=\"241.5\"/>\r\n      </g>\r\n     </g>\r\n     <g id=\"text_23\">\r\n      <!-- 10 -->\r\n      <g transform=\"translate(907.788228 257.438594)scale(0.09 -0.09)\">\r\n       <use xlink:href=\"#DejaVuSans-49\"/>\r\n       <use x=\"63.623047\" xlink:href=\"#DejaVuSans-48\"/>\r\n      </g>\r\n     </g>\r\n    </g>\r\n    <g id=\"text_24\">\r\n     <!-- Particle radius [microns] -->\r\n     <g transform=\"translate(655.247813 271.668594)scale(0.11 -0.11)\">\r\n      <defs>\r\n       <path d=\"M 19.671875 64.796875 \r\nL 19.671875 37.40625 \r\nL 32.078125 37.40625 \r\nQ 38.96875 37.40625 42.71875 40.96875 \r\nQ 46.484375 44.53125 46.484375 51.125 \r\nQ 46.484375 57.671875 42.71875 61.234375 \r\nQ 38.96875 64.796875 32.078125 64.796875 \r\nz\r\nM 9.8125 72.90625 \r\nL 32.078125 72.90625 \r\nQ 44.34375 72.90625 50.609375 67.359375 \r\nQ 56.890625 61.8125 56.890625 51.125 \r\nQ 56.890625 40.328125 50.609375 34.8125 \r\nQ 44.34375 29.296875 32.078125 29.296875 \r\nL 19.671875 29.296875 \r\nL 19.671875 0 \r\nL 9.8125 0 \r\nz\r\n\" id=\"DejaVuSans-80\"/>\r\n       <path d=\"M 45.40625 46.390625 \r\nL 45.40625 75.984375 \r\nL 54.390625 75.984375 \r\nL 54.390625 0 \r\nL 45.40625 0 \r\nL 45.40625 8.203125 \r\nQ 42.578125 3.328125 38.25 0.953125 \r\nQ 33.9375 -1.421875 27.875 -1.421875 \r\nQ 17.96875 -1.421875 11.734375 6.484375 \r\nQ 5.515625 14.40625 5.515625 27.296875 \r\nQ 5.515625 40.1875 11.734375 48.09375 \r\nQ 17.96875 56 27.875 56 \r\nQ 33.9375 56 38.25 53.625 \r\nQ 42.578125 51.265625 45.40625 46.390625 \r\nz\r\nM 14.796875 27.296875 \r\nQ 14.796875 17.390625 18.875 11.75 \r\nQ 22.953125 6.109375 30.078125 6.109375 \r\nQ 37.203125 6.109375 41.296875 11.75 \r\nQ 45.40625 17.390625 45.40625 27.296875 \r\nQ 45.40625 37.203125 41.296875 42.84375 \r\nQ 37.203125 48.484375 30.078125 48.484375 \r\nQ 22.953125 48.484375 18.875 42.84375 \r\nQ 14.796875 37.203125 14.796875 27.296875 \r\nz\r\n\" id=\"DejaVuSans-100\"/>\r\n      </defs>\r\n      <use xlink:href=\"#DejaVuSans-80\"/>\r\n      <use x=\"55.802734\" xlink:href=\"#DejaVuSans-97\"/>\r\n      <use x=\"117.082031\" xlink:href=\"#DejaVuSans-114\"/>\r\n      <use x=\"158.195312\" xlink:href=\"#DejaVuSans-116\"/>\r\n      <use x=\"197.404297\" xlink:href=\"#DejaVuSans-105\"/>\r\n      <use x=\"225.1875\" xlink:href=\"#DejaVuSans-99\"/>\r\n      <use x=\"280.167969\" xlink:href=\"#DejaVuSans-108\"/>\r\n      <use x=\"307.951172\" xlink:href=\"#DejaVuSans-101\"/>\r\n      <use x=\"369.474609\" xlink:href=\"#DejaVuSans-32\"/>\r\n      <use x=\"401.261719\" xlink:href=\"#DejaVuSans-114\"/>\r\n      <use x=\"442.375\" xlink:href=\"#DejaVuSans-97\"/>\r\n      <use x=\"503.654297\" xlink:href=\"#DejaVuSans-100\"/>\r\n      <use x=\"567.130859\" xlink:href=\"#DejaVuSans-105\"/>\r\n      <use x=\"594.914062\" xlink:href=\"#DejaVuSans-117\"/>\r\n      <use x=\"658.292969\" xlink:href=\"#DejaVuSans-115\"/>\r\n      <use x=\"710.392578\" xlink:href=\"#DejaVuSans-32\"/>\r\n      <use x=\"742.179688\" xlink:href=\"#DejaVuSans-91\"/>\r\n      <use x=\"781.193359\" xlink:href=\"#DejaVuSans-109\"/>\r\n      <use x=\"878.605469\" xlink:href=\"#DejaVuSans-105\"/>\r\n      <use x=\"906.388672\" xlink:href=\"#DejaVuSans-99\"/>\r\n      <use x=\"961.369141\" xlink:href=\"#DejaVuSans-114\"/>\r\n      <use x=\"1000.232422\" xlink:href=\"#DejaVuSans-111\"/>\r\n      <use x=\"1061.414062\" xlink:href=\"#DejaVuSans-110\"/>\r\n      <use x=\"1124.792969\" xlink:href=\"#DejaVuSans-115\"/>\r\n      <use x=\"1176.892578\" xlink:href=\"#DejaVuSans-93\"/>\r\n     </g>\r\n    </g>\r\n   </g>\r\n   <g id=\"matplotlib.axis_4\">\r\n    <g id=\"ytick_8\">\r\n     <g id=\"line2d_23\">\r\n      <g>\r\n       <use style=\"stroke:#000000;stroke-width:0.8;\" x=\"522.114688\" xlink:href=\"#mba38de6f07\" y=\"229.740916\"/>\r\n      </g>\r\n     </g>\r\n     <g id=\"text_25\">\r\n      <!-- 20000 -->\r\n      <g transform=\"translate(484.383438 233.160213)scale(0.09 -0.09)\">\r\n       <use xlink:href=\"#DejaVuSans-50\"/>\r\n       <use x=\"63.623047\" xlink:href=\"#DejaVuSans-48\"/>\r\n       <use x=\"127.246094\" xlink:href=\"#DejaVuSans-48\"/>\r\n       <use x=\"190.869141\" xlink:href=\"#DejaVuSans-48\"/>\r\n       <use x=\"254.492188\" xlink:href=\"#DejaVuSans-48\"/>\r\n      </g>\r\n     </g>\r\n    </g>\r\n    <g id=\"ytick_9\">\r\n     <g id=\"line2d_24\">\r\n      <g>\r\n       <use style=\"stroke:#000000;stroke-width:0.8;\" x=\"522.114688\" xlink:href=\"#mba38de6f07\" y=\"199.473228\"/>\r\n      </g>\r\n     </g>\r\n     <g id=\"text_26\">\r\n      <!-- 20250 -->\r\n      <g transform=\"translate(484.383438 202.892525)scale(0.09 -0.09)\">\r\n       <use xlink:href=\"#DejaVuSans-50\"/>\r\n       <use x=\"63.623047\" xlink:href=\"#DejaVuSans-48\"/>\r\n       <use x=\"127.246094\" xlink:href=\"#DejaVuSans-50\"/>\r\n       <use x=\"190.869141\" xlink:href=\"#DejaVuSans-53\"/>\r\n       <use x=\"254.492188\" xlink:href=\"#DejaVuSans-48\"/>\r\n      </g>\r\n     </g>\r\n    </g>\r\n    <g id=\"ytick_10\">\r\n     <g id=\"line2d_25\">\r\n      <g>\r\n       <use style=\"stroke:#000000;stroke-width:0.8;\" x=\"522.114688\" xlink:href=\"#mba38de6f07\" y=\"169.205541\"/>\r\n      </g>\r\n     </g>\r\n     <g id=\"text_27\">\r\n      <!-- 20500 -->\r\n      <g transform=\"translate(484.383438 172.624838)scale(0.09 -0.09)\">\r\n       <use xlink:href=\"#DejaVuSans-50\"/>\r\n       <use x=\"63.623047\" xlink:href=\"#DejaVuSans-48\"/>\r\n       <use x=\"127.246094\" xlink:href=\"#DejaVuSans-53\"/>\r\n       <use x=\"190.869141\" xlink:href=\"#DejaVuSans-48\"/>\r\n       <use x=\"254.492188\" xlink:href=\"#DejaVuSans-48\"/>\r\n      </g>\r\n     </g>\r\n    </g>\r\n    <g id=\"ytick_11\">\r\n     <g id=\"line2d_26\">\r\n      <g>\r\n       <use style=\"stroke:#000000;stroke-width:0.8;\" x=\"522.114688\" xlink:href=\"#mba38de6f07\" y=\"138.937853\"/>\r\n      </g>\r\n     </g>\r\n     <g id=\"text_28\">\r\n      <!-- 20750 -->\r\n      <g transform=\"translate(484.383438 142.35715)scale(0.09 -0.09)\">\r\n       <use xlink:href=\"#DejaVuSans-50\"/>\r\n       <use x=\"63.623047\" xlink:href=\"#DejaVuSans-48\"/>\r\n       <use x=\"127.246094\" xlink:href=\"#DejaVuSans-55\"/>\r\n       <use x=\"190.869141\" xlink:href=\"#DejaVuSans-53\"/>\r\n       <use x=\"254.492188\" xlink:href=\"#DejaVuSans-48\"/>\r\n      </g>\r\n     </g>\r\n    </g>\r\n    <g id=\"ytick_12\">\r\n     <g id=\"line2d_27\">\r\n      <g>\r\n       <use style=\"stroke:#000000;stroke-width:0.8;\" x=\"522.114688\" xlink:href=\"#mba38de6f07\" y=\"108.670166\"/>\r\n      </g>\r\n     </g>\r\n     <g id=\"text_29\">\r\n      <!-- 21000 -->\r\n      <g transform=\"translate(484.383438 112.089463)scale(0.09 -0.09)\">\r\n       <use xlink:href=\"#DejaVuSans-50\"/>\r\n       <use x=\"63.623047\" xlink:href=\"#DejaVuSans-49\"/>\r\n       <use x=\"127.246094\" xlink:href=\"#DejaVuSans-48\"/>\r\n       <use x=\"190.869141\" xlink:href=\"#DejaVuSans-48\"/>\r\n       <use x=\"254.492188\" xlink:href=\"#DejaVuSans-48\"/>\r\n      </g>\r\n     </g>\r\n    </g>\r\n    <g id=\"ytick_13\">\r\n     <g id=\"line2d_28\">\r\n      <g>\r\n       <use style=\"stroke:#000000;stroke-width:0.8;\" x=\"522.114688\" xlink:href=\"#mba38de6f07\" y=\"78.402478\"/>\r\n      </g>\r\n     </g>\r\n     <g id=\"text_30\">\r\n      <!-- 21250 -->\r\n      <g transform=\"translate(484.383438 81.821775)scale(0.09 -0.09)\">\r\n       <use xlink:href=\"#DejaVuSans-50\"/>\r\n       <use x=\"63.623047\" xlink:href=\"#DejaVuSans-49\"/>\r\n       <use x=\"127.246094\" xlink:href=\"#DejaVuSans-50\"/>\r\n       <use x=\"190.869141\" xlink:href=\"#DejaVuSans-53\"/>\r\n       <use x=\"254.492188\" xlink:href=\"#DejaVuSans-48\"/>\r\n      </g>\r\n     </g>\r\n    </g>\r\n    <g id=\"ytick_14\">\r\n     <g id=\"line2d_29\">\r\n      <g>\r\n       <use style=\"stroke:#000000;stroke-width:0.8;\" x=\"522.114688\" xlink:href=\"#mba38de6f07\" y=\"48.134791\"/>\r\n      </g>\r\n     </g>\r\n     <g id=\"text_31\">\r\n      <!-- 21500 -->\r\n      <g transform=\"translate(484.383438 51.554088)scale(0.09 -0.09)\">\r\n       <use xlink:href=\"#DejaVuSans-50\"/>\r\n       <use x=\"63.623047\" xlink:href=\"#DejaVuSans-49\"/>\r\n       <use x=\"127.246094\" xlink:href=\"#DejaVuSans-53\"/>\r\n       <use x=\"190.869141\" xlink:href=\"#DejaVuSans-48\"/>\r\n       <use x=\"254.492188\" xlink:href=\"#DejaVuSans-48\"/>\r\n      </g>\r\n     </g>\r\n    </g>\r\n    <g id=\"ytick_15\">\r\n     <g id=\"line2d_30\">\r\n      <g>\r\n       <use style=\"stroke:#000000;stroke-width:0.8;\" x=\"522.114688\" xlink:href=\"#mba38de6f07\" y=\"17.867103\"/>\r\n      </g>\r\n     </g>\r\n     <g id=\"text_32\">\r\n      <!-- 21750 -->\r\n      <g transform=\"translate(484.383438 21.2864)scale(0.09 -0.09)\">\r\n       <use xlink:href=\"#DejaVuSans-50\"/>\r\n       <use x=\"63.623047\" xlink:href=\"#DejaVuSans-49\"/>\r\n       <use x=\"127.246094\" xlink:href=\"#DejaVuSans-55\"/>\r\n       <use x=\"190.869141\" xlink:href=\"#DejaVuSans-53\"/>\r\n       <use x=\"254.492188\" xlink:href=\"#DejaVuSans-48\"/>\r\n      </g>\r\n     </g>\r\n    </g>\r\n    <g id=\"text_33\">\r\n     <!-- Concentration [mol.m-3] -->\r\n     <g transform=\"translate(478.095781 192.1375)rotate(-90)scale(0.11 -0.11)\">\r\n      <defs>\r\n       <path d=\"M 64.40625 67.28125 \r\nL 64.40625 56.890625 \r\nQ 59.421875 61.53125 53.78125 63.8125 \r\nQ 48.140625 66.109375 41.796875 66.109375 \r\nQ 29.296875 66.109375 22.65625 58.46875 \r\nQ 16.015625 50.828125 16.015625 36.375 \r\nQ 16.015625 21.96875 22.65625 14.328125 \r\nQ 29.296875 6.6875 41.796875 6.6875 \r\nQ 48.140625 6.6875 53.78125 8.984375 \r\nQ 59.421875 11.28125 64.40625 15.921875 \r\nL 64.40625 5.609375 \r\nQ 59.234375 2.09375 53.4375 0.328125 \r\nQ 47.65625 -1.421875 41.21875 -1.421875 \r\nQ 24.65625 -1.421875 15.125 8.703125 \r\nQ 5.609375 18.84375 5.609375 36.375 \r\nQ 5.609375 53.953125 15.125 64.078125 \r\nQ 24.65625 74.21875 41.21875 74.21875 \r\nQ 47.75 74.21875 53.53125 72.484375 \r\nQ 59.328125 70.75 64.40625 67.28125 \r\nz\r\n\" id=\"DejaVuSans-67\"/>\r\n      </defs>\r\n      <use xlink:href=\"#DejaVuSans-67\"/>\r\n      <use x=\"69.824219\" xlink:href=\"#DejaVuSans-111\"/>\r\n      <use x=\"131.005859\" xlink:href=\"#DejaVuSans-110\"/>\r\n      <use x=\"194.384766\" xlink:href=\"#DejaVuSans-99\"/>\r\n      <use x=\"249.365234\" xlink:href=\"#DejaVuSans-101\"/>\r\n      <use x=\"310.888672\" xlink:href=\"#DejaVuSans-110\"/>\r\n      <use x=\"374.267578\" xlink:href=\"#DejaVuSans-116\"/>\r\n      <use x=\"413.476562\" xlink:href=\"#DejaVuSans-114\"/>\r\n      <use x=\"454.589844\" xlink:href=\"#DejaVuSans-97\"/>\r\n      <use x=\"515.869141\" xlink:href=\"#DejaVuSans-116\"/>\r\n      <use x=\"555.078125\" xlink:href=\"#DejaVuSans-105\"/>\r\n      <use x=\"582.861328\" xlink:href=\"#DejaVuSans-111\"/>\r\n      <use x=\"644.042969\" xlink:href=\"#DejaVuSans-110\"/>\r\n      <use x=\"707.421875\" xlink:href=\"#DejaVuSans-32\"/>\r\n      <use x=\"739.208984\" xlink:href=\"#DejaVuSans-91\"/>\r\n      <use x=\"778.222656\" xlink:href=\"#DejaVuSans-109\"/>\r\n      <use x=\"875.634766\" xlink:href=\"#DejaVuSans-111\"/>\r\n      <use x=\"936.816406\" xlink:href=\"#DejaVuSans-108\"/>\r\n      <use x=\"964.599609\" xlink:href=\"#DejaVuSans-46\"/>\r\n      <use x=\"996.386719\" xlink:href=\"#DejaVuSans-109\"/>\r\n      <use x=\"1093.798828\" xlink:href=\"#DejaVuSans-45\"/>\r\n      <use x=\"1129.882812\" xlink:href=\"#DejaVuSans-51\"/>\r\n      <use x=\"1193.505859\" xlink:href=\"#DejaVuSans-93\"/>\r\n     </g>\r\n    </g>\r\n   </g>\r\n   <g id=\"line2d_31\">\r\n    <path clip-path=\"url(#p88f457cc85)\" d=\"M 540.297074 17.85 \r\nL 559.436428 18.694118 \r\nL 578.575782 20.80444 \r\nL 597.715136 24.087254 \r\nL 616.85449 28.519226 \r\nL 635.993844 34.091125 \r\nL 655.133198 40.798435 \r\nL 674.272552 48.638673 \r\nL 693.411906 57.610372 \r\nL 712.55126 67.712631 \r\nL 731.690615 78.944884 \r\nL 750.829969 91.306768 \r\nL 769.969323 104.798047 \r\nL 789.108677 119.418565 \r\nL 808.248031 135.168207 \r\nL 827.387385 152.046881 \r\nL 846.526739 170.054498 \r\nL 865.666093 189.190964 \r\nL 884.805447 209.456172 \r\nL 903.944801 230.85 \r\n\" style=\"fill:none;stroke:#ff0000;stroke-linecap:square;stroke-width:1.8;\"/>\r\n   </g>\r\n   <g id=\"patch_8\">\r\n    <path d=\"M 522.114688 241.5 \r\nL 522.114688 7.2 \r\n\" style=\"fill:none;stroke:#000000;stroke-linecap:square;stroke-linejoin:miter;stroke-width:0.8;\"/>\r\n   </g>\r\n   <g id=\"patch_9\">\r\n    <path d=\"M 922.127187 241.5 \r\nL 922.127187 7.2 \r\n\" style=\"fill:none;stroke:#000000;stroke-linecap:square;stroke-linejoin:miter;stroke-width:0.8;\"/>\r\n   </g>\r\n   <g id=\"patch_10\">\r\n    <path d=\"M 522.114688 241.5 \r\nL 922.127187 241.5 \r\n\" style=\"fill:none;stroke:#000000;stroke-linecap:square;stroke-linejoin:miter;stroke-width:0.8;\"/>\r\n   </g>\r\n   <g id=\"patch_11\">\r\n    <path d=\"M 522.114688 7.2 \r\nL 922.127187 7.2 \r\n\" style=\"fill:none;stroke:#000000;stroke-linecap:square;stroke-linejoin:miter;stroke-width:0.8;\"/>\r\n   </g>\r\n   <g id=\"legend_1\">\r\n    <g id=\"patch_12\">\r\n     <path d=\"M 841.340937 27.610312 \r\nL 915.827188 27.610312 \r\nQ 917.627187 27.610312 917.627187 25.810312 \r\nL 917.627187 13.5 \r\nQ 917.627187 11.7 915.827188 11.7 \r\nL 841.340937 11.7 \r\nQ 839.540937 11.7 839.540937 13.5 \r\nL 839.540937 25.810312 \r\nQ 839.540937 27.610312 841.340937 27.610312 \r\nz\r\n\" style=\"fill:#ffffff;opacity:0.8;stroke:#cccccc;stroke-linejoin:miter;stroke-width:0.24;\"/>\r\n    </g>\r\n    <g id=\"line2d_32\">\r\n     <path d=\"M 843.140937 18.988594 \r\nL 861.140937 18.988594 \r\n\" style=\"fill:none;stroke:#ff0000;stroke-linecap:square;stroke-width:1.8;\"/>\r\n    </g>\r\n    <g id=\"line2d_33\"/>\r\n    <g id=\"text_34\">\r\n     <!-- t=1000[s] -->\r\n     <g transform=\"translate(868.340937 22.138594)scale(0.09 -0.09)\">\r\n      <defs>\r\n       <path d=\"M 10.59375 45.40625 \r\nL 73.1875 45.40625 \r\nL 73.1875 37.203125 \r\nL 10.59375 37.203125 \r\nz\r\nM 10.59375 25.484375 \r\nL 73.1875 25.484375 \r\nL 73.1875 17.1875 \r\nL 10.59375 17.1875 \r\nz\r\n\" id=\"DejaVuSans-61\"/>\r\n      </defs>\r\n      <use xlink:href=\"#DejaVuSans-116\"/>\r\n      <use x=\"39.208984\" xlink:href=\"#DejaVuSans-61\"/>\r\n      <use x=\"122.998047\" xlink:href=\"#DejaVuSans-49\"/>\r\n      <use x=\"186.621094\" xlink:href=\"#DejaVuSans-48\"/>\r\n      <use x=\"250.244141\" xlink:href=\"#DejaVuSans-48\"/>\r\n      <use x=\"313.867188\" xlink:href=\"#DejaVuSans-48\"/>\r\n      <use x=\"377.490234\" xlink:href=\"#DejaVuSans-91\"/>\r\n      <use x=\"416.503906\" xlink:href=\"#DejaVuSans-115\"/>\r\n      <use x=\"468.603516\" xlink:href=\"#DejaVuSans-93\"/>\r\n     </g>\r\n    </g>\r\n   </g>\r\n  </g>\r\n </g>\r\n <defs>\r\n  <clipPath id=\"p402866e5d9\">\r\n   <rect height=\"234.3\" width=\"400.0125\" x=\"59.577188\" y=\"7.2\"/>\r\n  </clipPath>\r\n  <clipPath id=\"p88f457cc85\">\r\n   <rect height=\"234.3\" width=\"400.0125\" x=\"522.114688\" y=\"7.2\"/>\r\n  </clipPath>\r\n </defs>\r\n</svg>\r\n",
      "image/png": "[encoded data removed]"
     },
     "metadata": {
      "needs_background": "light"
     }
    }
   ],
   "source": [
    "# solve\n",
    "solver = pybamm.ScipySolver()\n",
    "t = np.linspace(0, 3600, 600)\n",
    "solution = solver.solve(model, t)\n",
    "\n",
    "# post-process, so that the solution can be called at any time t or space r\n",
    "# (using interpolation)\n",
    "c = solution[\"Concentration [mol.m-3]\"]\n",
    "c_surf = solution[\"Surface concentration [mol.m-3]\"]\n",
    "\n",
    "# plot\n",
    "fig, (ax1, ax2) = plt.subplots(1, 2, figsize=(13, 4))\n",
    "\n",
    "ax1.plot(solution.t, c_surf(solution.t))\n",
    "ax1.set_xlabel(\"Time [s]\")\n",
    "ax1.set_ylabel(\"Surface concentration [mol.m-3]\")\n",
    "\n",
    "r = mesh[\"negative particle\"].nodes # radial position\n",
    "time = 1000  # time in seconds\n",
    "ax2.plot(r * 1e6, c(t=time, r=r), label=\"t={}[s]\".format(time))\n",
    "ax2.set_xlabel(\"Particle radius [microns]\")\n",
    "ax2.set_ylabel(\"Concentration [mol.m-3]\")\n",
    "ax2.legend()\n",
    "\n",
    "plt.tight_layout()\n",
    "plt.show()"
   ]
  },
  {
   "source": [
    "# Using pre-defined models in `PyBaMM`\n",
    "\n",
    "In the next few steps, we will be using the `DFN` and the `SPM` model to make the concepts explained above more clear. We will also see how you can pass a function as a `parameter's` value and how to plot such `parameter functions`.\n",
    "\n",
    "We start by initializing our model and selecting `Chen2020` chemistry."
   ],
   "cell_type": "markdown",
   "metadata": {}
  },
  {
   "cell_type": "code",
   "execution_count": 11,
   "metadata": {},
   "outputs": [],
   "source": [
    "dfn_model = pybamm.lithium_ion.DFN()\n",
    "spm_model = pybamm.lithium_ion.SPM()\n",
    "\n",
    "chemistry = pybamm.parameter_sets.Chen2020\n",
    "param = pybamm.ParameterValues(chemistry=chemistry)"
   ]
  },
  {
   "source": [
    "## Finding the parameters in a model\n",
    "\n",
    "We can print the `parameters` of a model by using the `parameters` function of the `BaseModel` class."
   ],
   "cell_type": "markdown",
   "metadata": {}
  },
  {
   "cell_type": "code",
   "execution_count": 12,
   "metadata": {},
   "outputs": [
    {
     "output_type": "execute_result",
     "data": {
      "text/plain": [
       "[Parameter(0x61aad17c8254da5a, Maximum concentration in negative electrode [mol.m-3], children=[], domain=[], auxiliary_domains={}),\n",
       " Parameter(-0x3d90036630c478c5, Negative electrode thickness [m], children=[], domain=[], auxiliary_domains={}),\n",
       " Parameter(-0x7c5ae8899714cc7d, Separator thickness [m], children=[], domain=[], auxiliary_domains={}),\n",
       " Parameter(0x88a2da4602f0034, Positive electrode thickness [m], children=[], domain=[], auxiliary_domains={}),\n",
       " Parameter(-0x2e3faead431468dd, Typical current [A], children=[], domain=[], auxiliary_domains={}),\n",
       " Parameter(0x1fedf726b2c89af3, Number of electrodes connected in parallel to make a cell, children=[], domain=[], auxiliary_domains={}),\n",
       " Parameter(0x3147944a2afad6df, Electrode width [m], children=[], domain=[], auxiliary_domains={}),\n",
       " Parameter(0x473a9458ed2598a0, Electrode height [m], children=[], domain=[], auxiliary_domains={}),\n",
       " Parameter(-0x6378d715f7261f59, Reference temperature [K], children=[], domain=[], auxiliary_domains={}),\n",
       " Parameter(-0x252284d5518e304, Negative electrode Bruggeman coefficient (electrolyte), children=[], domain=[], auxiliary_domains={}),\n",
       " Parameter(-0x5e5801f34de27fc1, Separator Bruggeman coefficient (electrolyte), children=[], domain=[], auxiliary_domains={}),\n",
       " Parameter(-0x4e7f88a982ebb259, Positive electrode Bruggeman coefficient (electrolyte), children=[], domain=[], auxiliary_domains={}),\n",
       " Parameter(0x647e60ca1fdbef16, Typical electrolyte concentration [mol.m-3], children=[], domain=[], auxiliary_domains={}),\n",
       " Parameter(-0x5a7eaebd18e10434, Negative electrode electrons in reaction, children=[], domain=[], auxiliary_domains={}),\n",
       " Parameter(0x1ba127c964545b99, Maximum concentration in positive electrode [mol.m-3], children=[], domain=[], auxiliary_domains={}),\n",
       " Parameter(-0xc995bc0b057514f, Positive electrode electrons in reaction, children=[], domain=[], auxiliary_domains={}),\n",
       " Parameter(-0x4fd509dbbef35ff2, Negative electrode conductivity [S.m-1], children=[], domain=[], auxiliary_domains={}),\n",
       " Parameter(-0x635f12b73437619b, Positive electrode conductivity [S.m-1], children=[], domain=[], auxiliary_domains={}),\n",
       " Parameter(-0x10cffd3886689d69, Initial temperature [K], children=[], domain=[], auxiliary_domains={}),\n",
       " Parameter(0x8f2d947c258ab08, Initial concentration in electrolyte [mol.m-3], children=[], domain=[], auxiliary_domains={}),\n",
       " Parameter(0x515d2f56162ee09a, Nominal cell capacity [A.h], children=[], domain=[], auxiliary_domains={}),\n",
       " Parameter(0x1f0d53ab7bff540d, Number of cells connected in series to make a battery, children=[], domain=[], auxiliary_domains={}),\n",
       " Parameter(0x3dc94915297a687f, Lower voltage cut-off [V], children=[], domain=[], auxiliary_domains={}),\n",
       " Parameter(0x5f85a07a9f0e0b2a, Upper voltage cut-off [V], children=[], domain=[], auxiliary_domains={})]"
      ]
     },
     "metadata": {},
     "execution_count": 12
    }
   ],
   "source": [
    "dfn_model.parameters"
   ]
  },
  {
   "cell_type": "code",
   "execution_count": 13,
   "metadata": {},
   "outputs": [
    {
     "output_type": "execute_result",
     "data": {
      "text/plain": [
       "[Parameter(0x61aad17c8254da5a, Maximum concentration in negative electrode [mol.m-3], children=[], domain=[], auxiliary_domains={}),\n",
       " Parameter(-0x3d90036630c478c5, Negative electrode thickness [m], children=[], domain=[], auxiliary_domains={}),\n",
       " Parameter(-0x7c5ae8899714cc7d, Separator thickness [m], children=[], domain=[], auxiliary_domains={}),\n",
       " Parameter(0x88a2da4602f0034, Positive electrode thickness [m], children=[], domain=[], auxiliary_domains={}),\n",
       " Parameter(-0x2e3faead431468dd, Typical current [A], children=[], domain=[], auxiliary_domains={}),\n",
       " Parameter(0x1fedf726b2c89af3, Number of electrodes connected in parallel to make a cell, children=[], domain=[], auxiliary_domains={}),\n",
       " Parameter(0x3147944a2afad6df, Electrode width [m], children=[], domain=[], auxiliary_domains={}),\n",
       " Parameter(0x473a9458ed2598a0, Electrode height [m], children=[], domain=[], auxiliary_domains={}),\n",
       " Parameter(-0x6378d715f7261f59, Reference temperature [K], children=[], domain=[], auxiliary_domains={}),\n",
       " Parameter(0x1ba127c964545b99, Maximum concentration in positive electrode [mol.m-3], children=[], domain=[], auxiliary_domains={}),\n",
       " Parameter(0x515d2f56162ee09a, Nominal cell capacity [A.h], children=[], domain=[], auxiliary_domains={}),\n",
       " Parameter(0x647e60ca1fdbef16, Typical electrolyte concentration [mol.m-3], children=[], domain=[], auxiliary_domains={}),\n",
       " Parameter(-0x252284d5518e304, Negative electrode Bruggeman coefficient (electrolyte), children=[], domain=[], auxiliary_domains={}),\n",
       " Parameter(-0x5e5801f34de27fc1, Separator Bruggeman coefficient (electrolyte), children=[], domain=[], auxiliary_domains={}),\n",
       " Parameter(-0x4e7f88a982ebb259, Positive electrode Bruggeman coefficient (electrolyte), children=[], domain=[], auxiliary_domains={}),\n",
       " Parameter(-0x5a7eaebd18e10434, Negative electrode electrons in reaction, children=[], domain=[], auxiliary_domains={}),\n",
       " Parameter(-0xc995bc0b057514f, Positive electrode electrons in reaction, children=[], domain=[], auxiliary_domains={}),\n",
       " Parameter(0x1f0d53ab7bff540d, Number of cells connected in series to make a battery, children=[], domain=[], auxiliary_domains={}),\n",
       " Parameter(-0x10cffd3886689d69, Initial temperature [K], children=[], domain=[], auxiliary_domains={}),\n",
       " Parameter(0x3dc94915297a687f, Lower voltage cut-off [V], children=[], domain=[], auxiliary_domains={}),\n",
       " Parameter(0x5f85a07a9f0e0b2a, Upper voltage cut-off [V], children=[], domain=[], auxiliary_domains={})]"
      ]
     },
     "metadata": {},
     "execution_count": 13
    }
   ],
   "source": [
    "spm_model.parameters"
   ]
  },
  {
   "source": [
    "We can also update `param` by using the `update` function but let us print it out first."
   ],
   "cell_type": "markdown",
   "metadata": {}
  },
  {
   "cell_type": "code",
   "execution_count": 14,
   "metadata": {},
   "outputs": [
    {
     "output_type": "execute_result",
     "data": {
      "text/plain": [
       " 0.5,\n",
       " 'Lithium interstitial reference concentration [mol.m-3]': 15.0,\n",
       " 'Lower voltage cut-off [V]': 2.5,\n",
       " 'Maximum concentration in negative electrode [mol.m-3]': 33133.0,\n",
       " 'Maximum concentration in positive electrode [mol.m-3]': 63104.0,\n",
       " 'Negative current collector conductivity [S.m-1]': 58411000.0,\n",
       " 'Negative current collector density [kg.m-3]': 8960.0,\n",
       " 'Negative current collector specific heat capacity [J.kg-1.K-1]': 385.0,\n",
       " 'Negative current collector thermal conductivity [W.m-1.K-1]': 401.0,\n",
       " 'Negative current collector thickness [m]': 1.2e-05,\n",
       " 'Negative electrode Bruggeman coefficient (electrode)': 1.5,\n",
       " 'Negative electrode Bruggeman coefficient (electrolyte)': 1.5,\n",
       " 'Negative electrode OCP [V]': ('graphite_LGM50_ocp_Chen2020',\n",
       "                                array([[0.        , 1.81772748],\n",
       "       [0.03129623, 1.0828807 ],\n",
       "       [0.03499902, 0.99593794],\n",
       "       [0.0387018 , 0.90023398],\n",
       "       [0.04240458, 0.79649431],\n",
       "       [0.04610736, 0.73354429],\n",
       "       [0.04981015, 0.66664314],\n",
       "       [0.05351292, 0.64137149],\n",
       "       [0.05721568, 0.59813869],\n",
       "       [0.06091845, 0.5670836 ],\n",
       "       [0.06462122, 0.54746181],\n",
       "       [0.06832399, 0.53068399],\n",
       "       [0.07202675, 0.51304734],\n",
       "       [0.07572951, 0.49394092],\n",
       "       [0.07943227, 0.47926274],\n",
       "       [0.08313503, 0.46065259],\n",
       "       [0.08683779, 0.45992726],\n",
       "       [0.09054054, 0.43801501],\n",
       "       [0.09424331, 0.42438665],\n",
       "       [0.09794607, 0.41150269],\n",
       "       [0.10164883, 0.40033659],\n",
       "       [0.10535158, 0.38957134],\n",
       "       [0.10905434, 0.37756538],\n",
       "       [0.1127571 , 0.36292541],\n",
       "       [0.11645985, 0.34357086],\n",
       "       [0.12016261, 0.3406314 ],\n",
       "       [0.12386536, 0.32299468],\n",
       "       [0.12756811, 0.31379458],\n",
       "       [0.13127086, 0.30795386],\n",
       "       [0.13497362, 0.29207319],\n",
       "       [0.13867638, 0.28697687],\n",
       "       [0.14237913, 0.27405477],\n",
       "       [0.14608189, 0.2670497 ],\n",
       "       [0.14978465, 0.25857493],\n",
       "       [0.15348741, 0.25265783],\n",
       "       [0.15719018, 0.24826777],\n",
       "       [0.16089294, 0.2414345 ],\n",
       "       [0.1645957 , 0.23362778],\n",
       "       [0.16829847, 0.22956218],\n",
       "       [0.17200122, 0.22370236],\n",
       "       [0.17570399, 0.22181271],\n",
       "       [0.17940674, 0.22089651],\n",
       "       [0.1831095 , 0.2194268 ],\n",
       "       [0.18681229, 0.21830064],\n",
       "       [0.19051504, 0.21845333],\n",
       "       [0.1942178 , 0.21753715],\n",
       "       [0.19792056, 0.21719357],\n",
       "       [0.20162334, 0.21635373],\n",
       "       [0.2053261 , 0.21667822],\n",
       "       [0.20902886, 0.21738444],\n",
       "       [0.21273164, 0.21469313],\n",
       "       [0.2164344 , 0.21541846],\n",
       "       [0.22013716, 0.21465495],\n",
       "       [0.22383993, 0.2135479 ],\n",
       "       [0.2275427 , 0.21392964],\n",
       "       [0.23124547, 0.21074206],\n",
       "       [0.23494825, 0.20873788],\n",
       "       [0.23865101, 0.20465319],\n",
       "       [0.24235377, 0.20205732],\n",
       "       [0.24605653, 0.19774358],\n",
       "       [0.2497593 , 0.19444147],\n",
       "       [0.25346208, 0.19190285],\n",
       "       [0.25716486, 0.18850531],\n",
       "       [0.26086762, 0.18581399],\n",
       "       [0.26457039, 0.18327537],\n",
       "       [0.26827314, 0.18157659],\n",
       "       [0.2719759 , 0.17814088],\n",
       "       [0.27567867, 0.17529686],\n",
       "       [0.27938144, 0.1719375 ],\n",
       "       [0.28308421, 0.16934161],\n",
       "       [0.28678698, 0.16756649],\n",
       "       [0.29048974, 0.16609676],\n",
       "       [0.29419251, 0.16414985],\n",
       "       [0.29789529, 0.16260378],\n",
       "       [0.30159806, 0.16224113],\n",
       "       [0.30530083, 0.160027  ],\n",
       "       [0.30900361, 0.15827096],\n",
       "       [0.31270637, 0.1588054 ],\n",
       "       [0.31640913, 0.15552238],\n",
       "       [0.32011189, 0.15580869],\n",
       "       [0.32381466, 0.15220118],\n",
       "       [0.32751744, 0.1511132 ],\n",
       "       [0.33122021, 0.14987253],\n",
       "       [0.33492297, 0.14874637],\n",
       "       [0.33862575, 0.14678037],\n",
       "       [0.34232853, 0.14620776],\n",
       "       [0.34603131, 0.14555879],\n",
       "       [0.34973408, 0.14389819],\n",
       "       [0.35343685, 0.14359279],\n",
       "       [0.35713963, 0.14242846],\n",
       "       [0.36084241, 0.14038612],\n",
       "       [0.36454517, 0.13882096],\n",
       "       [0.36824795, 0.13954628],\n",
       "       [0.37195071, 0.13946992],\n",
       "       [0.37565348, 0.13780934],\n",
       "       [0.37935626, 0.13973714],\n",
       "       [0.38305904, 0.13698858],\n",
       "       [0.38676182, 0.13523254],\n",
       "       [0.3904646 , 0.13441178],\n",
       "       [0.39416737, 0.1352898 ],\n",
       "       [0.39787015, 0.13507985],\n",
       "       [0.40157291, 0.13647321],\n",
       "       [0.40527567, 0.13601512],\n",
       "       [0.40897844, 0.13435452],\n",
       "       [0.41268121, 0.1334765 ],\n",
       "       [0.41638398, 0.1348317 ],\n",
       "       [0.42008676, 0.13275118],\n",
       "       [0.42378953, 0.13286571],\n",
       "       [0.4274923 , 0.13263667],\n",
       "       [0.43119506, 0.13456447],\n",
       "       [0.43489784, 0.13471718],\n",
       "       [0.43860061, 0.13395369],\n",
       "       [0.44230338, 0.13448814],\n",
       "       [0.44600615, 0.1334765 ],\n",
       "       [0.44970893, 0.13298023],\n",
       "       [0.45341168, 0.13259849],\n",
       "       [0.45711444, 0.13338107],\n",
       "       [0.46081719, 0.13309476],\n",
       "       [0.46451994, 0.13275118],\n",
       "       [0.46822269, 0.13443087],\n",
       "       [0.47192545, 0.13315202],\n",
       "       [0.47562821, 0.132713  ],\n",
       "       [0.47933098, 0.1330184 ],\n",
       "       [0.48303375, 0.13278936],\n",
       "       [0.48673651, 0.13225491],\n",
       "       [0.49043926, 0.13317111],\n",
       "       [0.49414203, 0.13263667],\n",
       "       [0.49784482, 0.13187316],\n",
       "       [0.50154759, 0.13265574],\n",
       "       [0.50525036, 0.13250305],\n",
       "       [0.50895311, 0.13324745],\n",
       "       [0.51265586, 0.13204496],\n",
       "       [0.51635861, 0.13242669],\n",
       "       [0.52006139, 0.13233127],\n",
       "       [0.52376415, 0.13198769],\n",
       "       [0.52746692, 0.13254122],\n",
       "       [0.53116969, 0.13145325],\n",
       "       [0.53487245, 0.13298023],\n",
       "       [0.53857521, 0.13168229],\n",
       "       [0.54227797, 0.1313578 ],\n",
       "       [0.54598074, 0.13235036],\n",
       "       [0.5496835 , 0.13120511],\n",
       "       [0.55338627, 0.13089971],\n",
       "       [0.55708902, 0.13109058],\n",
       "       [0.56079178, 0.13082336],\n",
       "       [0.56449454, 0.13011713],\n",
       "       [0.5681973 , 0.129869  ],\n",
       "       [0.57190006, 0.12992626],\n",
       "       [0.57560282, 0.12942998],\n",
       "       [0.57930558, 0.12796026],\n",
       "       [0.58300835, 0.12862831],\n",
       "       [0.58671112, 0.12656689],\n",
       "       [0.59041389, 0.12734947],\n",
       "       [0.59411664, 0.12509716],\n",
       "       [0.59781941, 0.12110791],\n",
       "       [0.60152218, 0.11839751],\n",
       "       [0.60522496, 0.11244226],\n",
       "       [0.60892772, 0.11307214],\n",
       "       [0.61263048, 0.1092165 ],\n",
       "       [0.61633325, 0.10683058],\n",
       "       [0.62003603, 0.10433014],\n",
       "       [0.6237388 , 0.10530359],\n",
       "       [0.62744156, 0.10056993],\n",
       "       [0.63114433, 0.09950104],\n",
       "       [0.63484711, 0.09854668],\n",
       "       [0.63854988, 0.09921473],\n",
       "       [0.64225265, 0.09541635],\n",
       "       [0.64595543, 0.09980643],\n",
       "       [0.64965823, 0.0986612 ],\n",
       "       [0.653361  , 0.09560722],\n",
       "       [0.65706377, 0.09755413],\n",
       "       [0.66076656, 0.09612258],\n",
       "       [0.66446934, 0.09430929],\n",
       "       [0.66817212, 0.09661885],\n",
       "       [0.67187489, 0.09366032],\n",
       "       [0.67557767, 0.09522548],\n",
       "       [0.67928044, 0.09535909],\n",
       "       [0.68298322, 0.09316404],\n",
       "       [0.686686  , 0.09450016],\n",
       "       [0.69038878, 0.0930877 ],\n",
       "       [0.69409156, 0.09343126],\n",
       "       [0.69779433, 0.0932404 ],\n",
       "       [0.70149709, 0.09350762],\n",
       "       [0.70519988, 0.09339309],\n",
       "       [0.70890264, 0.09291591],\n",
       "       [0.7126054 , 0.09303043],\n",
       "       [0.71630818, 0.0926296 ],\n",
       "       [0.72001095, 0.0932404 ],\n",
       "       [0.72371371, 0.09261052],\n",
       "       [0.72741648, 0.09249599],\n",
       "       [0.73111925, 0.09240055],\n",
       "       [0.73482204, 0.09253416],\n",
       "       [0.7385248 , 0.09209515],\n",
       "       [0.74222757, 0.09234329],\n",
       "       [0.74593034, 0.09366032],\n",
       "       [0.74963312, 0.09333583],\n",
       "       [0.75333589, 0.09322131],\n",
       "       [0.75703868, 0.09264868],\n",
       "       [0.76074146, 0.09253416],\n",
       "       [0.76444422, 0.09243873],\n",
       "       [0.76814698, 0.09230512],\n",
       "       [0.77184976, 0.09310678],\n",
       "       [0.77555253, 0.09165615],\n",
       "       [0.77925531, 0.09159888],\n",
       "       [0.78295807, 0.09207606],\n",
       "       [0.78666085, 0.09175158],\n",
       "       [0.79036364, 0.09177067],\n",
       "       [0.79406641, 0.09236237],\n",
       "       [0.79776918, 0.09241964],\n",
       "       [0.80147197, 0.09320222],\n",
       "       [0.80517474, 0.09199972],\n",
       "       [0.80887751, 0.09167523],\n",
       "       [0.81258028, 0.09322131],\n",
       "       [0.81628304, 0.09190428],\n",
       "       [0.81998581, 0.09167523],\n",
       "       [0.82368858, 0.09285865],\n",
       "       [0.82739136, 0.09180884],\n",
       "       [0.83109411, 0.09150345],\n",
       "       [0.83479688, 0.09186611],\n",
       "       [0.83849965, 0.0920188 ],\n",
       "       [0.84220242, 0.09320222],\n",
       "       [0.84590519, 0.09131257],\n",
       "       [0.84960797, 0.09117896],\n",
       "       [0.85331075, 0.09133166],\n",
       "       [0.85701353, 0.09089265],\n",
       "       [0.86071631, 0.09058725],\n",
       "       [0.86441907, 0.09051091],\n",
       "       [0.86812186, 0.09033912],\n",
       "       [0.87182464, 0.09041547],\n",
       "       [0.87552742, 0.0911217 ],\n",
       "       [0.87923019, 0.0894611 ],\n",
       "       [0.88293296, 0.08999555],\n",
       "       [0.88663573, 0.08921297],\n",
       "       [0.89033849, 0.08881213],\n",
       "       [0.89404126, 0.08797229],\n",
       "       [0.89774404, 0.08709427],\n",
       "       [0.9014468 , 0.08503284],\n",
       "       [1.        , 0.07601531]])),\n",
       " 'Negative electrode OCP entropic change [V.K-1]': 0.0,\n",
       " 'Negative electrode active material volume fraction': 0.75,\n",
       " 'Negative electrode cation signed stoichiometry': -1.0,\n",
       " 'Negative electrode charge transfer coefficient': 0.5,\n",
       " 'Negative electrode conductivity [S.m-1]': 215.0,\n",
       " 'Negative electrode density [kg.m-3]': 1657.0,\n",
       " 'Negative electrode diffusivity [m2.s-1]': 3.3e-14,\n",
       " 'Negative electrode double-layer capacity [F.m-2]': 0.2,\n",
       " 'Negative electrode electrons in reaction': 1.0,\n",
       " 'Negative electrode exchange-current density [A.m-2]': <function graphite_LGM50_electrolyte_exchange_current_density_Chen2020 at 0x000001ACCEF673A0>,\n",
       " 'Negative electrode porosity': 0.25,\n",
       " 'Negative electrode specific heat capacity [J.kg-1.K-1]': 700.0,\n",
       " 'Negative electrode thermal conductivity [W.m-1.K-1]': 1.7,\n",
       " 'Negative electrode thickness [m]': 8.52e-05,\n",
       " 'Negative particle radius [m]': 5.86e-06,\n",
       " 'Nominal cell capacity [A.h]': 5.0,\n",
       " 'Number of cells connected in series to make a battery': 1.0,\n",
       " 'Number of electrodes connected in parallel to make a cell': 1.0,\n",
       " 'Outer SEI open-circuit potential [V]': 0.8,\n",
       " 'Outer SEI partial molar volume [m3.mol-1]': 9.585e-05,\n",
       " 'Outer SEI solvent diffusivity [m2.s-1]': 2.5000000000000002e-22,\n",
       " 'Positive current collector conductivity [S.m-1]': 36914000.0,\n",
       " 'Positive current collector density [kg.m-3]': 2700.0,\n",
       " 'Positive current collector specific heat capacity [J.kg-1.K-1]': 897.0,\n",
       " 'Positive current collector thermal conductivity [W.m-1.K-1]': 237.0,\n",
       " 'Positive current collector thickness [m]': 1.6e-05,\n",
       " 'Positive electrode Bruggeman coefficient (electrode)': 1.5,\n",
       " 'Positive electrode Bruggeman coefficient (electrolyte)': 1.5,\n",
       " 'Positive electrode OCP [V]': ('nmc_LGM50_ocp_Chen2020',\n",
       "                                array([[0.24879728, 4.4       ],\n",
       "       [0.26614516, 4.2935653 ],\n",
       "       [0.26886763, 4.2768621 ],\n",
       "       [0.27159011, 4.2647018 ],\n",
       "       [0.27431258, 4.2540312 ],\n",
       "       [0.27703505, 4.2449446 ],\n",
       "       [0.27975753, 4.2364879 ],\n",
       "       [0.28248   , 4.2302647 ],\n",
       "       [0.28520247, 4.2225528 ],\n",
       "       [0.28792495, 4.2182574 ],\n",
       "       [0.29064743, 4.213294  ],\n",
       "       [0.29336992, 4.2090373 ],\n",
       "       [0.29609239, 4.2051239 ],\n",
       "       [0.29881487, 4.2012677 ],\n",
       "       [0.30153735, 4.1981564 ],\n",
       "       [0.30425983, 4.1955218 ],\n",
       "       [0.30698231, 4.1931167 ],\n",
       "       [0.30970478, 4.1889744 ],\n",
       "       [0.31242725, 4.1881533 ],\n",
       "       [0.31514973, 4.1865883 ],\n",
       "       [0.3178722 , 4.1850228 ],\n",
       "       [0.32059466, 4.1832285 ],\n",
       "       [0.32331714, 4.1808805 ],\n",
       "       [0.32603962, 4.1805749 ],\n",
       "       [0.32876209, 4.1789522 ],\n",
       "       [0.33148456, 4.1768146 ],\n",
       "       [0.33420703, 4.1768146 ],\n",
       "       [0.3369295 , 4.1752872 ],\n",
       "       [0.33965197, 4.173111  ],\n",
       "       [0.34237446, 4.1726718 ],\n",
       "       [0.34509694, 4.1710877 ],\n",
       "       [0.34781941, 4.1702285 ],\n",
       "       [0.3505419 , 4.168797  ],\n",
       "       [0.35326438, 4.1669831 ],\n",
       "       [0.35598685, 4.1655135 ],\n",
       "       [0.35870932, 4.1634517 ],\n",
       "       [0.3614318 , 4.1598248 ],\n",
       "       [0.36415428, 4.1571712 ],\n",
       "       [0.36687674, 4.154079  ],\n",
       "       [0.36959921, 4.1504135 ],\n",
       "       [0.37232169, 4.1466532 ],\n",
       "       [0.37504418, 4.1423388 ],\n",
       "       [0.37776665, 4.1382346 ],\n",
       "       [0.38048913, 4.1338248 ],\n",
       "       [0.38321161, 4.1305799 ],\n",
       "       [0.38593408, 4.1272392 ],\n",
       "       [0.38865655, 4.1228104 ],\n",
       "       [0.39137903, 4.1186109 ],\n",
       "       [0.39410151, 4.114182  ],\n",
       "       [0.39682398, 4.1096005 ],\n",
       "       [0.39954645, 4.1046948 ],\n",
       "       [0.40226892, 4.1004758 ],\n",
       "       [0.4049914 , 4.0956464 ],\n",
       "       [0.40771387, 4.0909696 ],\n",
       "       [0.41043634, 4.0864644 ],\n",
       "       [0.41315882, 4.0818448 ],\n",
       "       [0.41588129, 4.077683  ],\n",
       "       [0.41860377, 4.0733309 ],\n",
       "       [0.42132624, 4.0690737 ],\n",
       "       [0.42404872, 4.0647216 ],\n",
       "       [0.4267712 , 4.0608654 ],\n",
       "       [0.42949368, 4.0564747 ],\n",
       "       [0.43221616, 4.0527525 ],\n",
       "       [0.43493864, 4.0492401 ],\n",
       "       [0.43766111, 4.0450211 ],\n",
       "       [0.44038359, 4.041986  ],\n",
       "       [0.44310607, 4.0384736 ],\n",
       "       [0.44582856, 4.035171  ],\n",
       "       [0.44855103, 4.0320406 ],\n",
       "       [0.45127351, 4.0289288 ],\n",
       "       [0.453996  , 4.02597   ],\n",
       "       [0.45671848, 4.0227437 ],\n",
       "       [0.45944095, 4.0199757 ],\n",
       "       [0.46216343, 4.0175133 ],\n",
       "       [0.46488592, 4.0149746 ],\n",
       "       [0.46760838, 4.0122066 ],\n",
       "       [0.47033085, 4.009954  ],\n",
       "       [0.47305333, 4.0075679 ],\n",
       "       [0.47577581, 4.0050669 ],\n",
       "       [0.47849828, 4.0023184 ],\n",
       "       [0.48122074, 3.9995501 ],\n",
       "       [0.48394321, 3.9969349 ],\n",
       "       [0.48666569, 3.9926589 ],\n",
       "       [0.48938816, 3.9889555 ],\n",
       "       [0.49211064, 3.9834003 ],\n",
       "       [0.4948331 , 3.9783037 ],\n",
       "       [0.49755557, 3.9755929 ],\n",
       "       [0.50027804, 3.9707632 ],\n",
       "       [0.50300052, 3.9681098 ],\n",
       "       [0.50572298, 3.9635665 ],\n",
       "       [0.50844545, 3.9594433 ],\n",
       "       [0.51116792, 3.9556634 ],\n",
       "       [0.51389038, 3.9521511 ],\n",
       "       [0.51661284, 3.9479132 ],\n",
       "       [0.51933531, 3.9438281 ],\n",
       "       [0.52205777, 3.9400866 ],\n",
       "       [0.52478024, 3.9362304 ],\n",
       "       [0.52750271, 3.9314201 ],\n",
       "       [0.53022518, 3.9283848 ],\n",
       "       [0.53294765, 3.9242232 ],\n",
       "       [0.53567012, 3.9192028 ],\n",
       "       [0.53839258, 3.9166257 ],\n",
       "       [0.54111506, 3.9117961 ],\n",
       "       [0.54383753, 3.90815   ],\n",
       "       [0.54656   , 3.9038739 ],\n",
       "       [0.54928247, 3.8995597 ],\n",
       "       [0.55200494, 3.8959136 ],\n",
       "       [0.5547274 , 3.8909314 ],\n",
       "       [0.55744986, 3.8872662 ],\n",
       "       [0.56017233, 3.8831048 ],\n",
       "       [0.5628948 , 3.8793442 ],\n",
       "       [0.56561729, 3.8747628 ],\n",
       "       [0.56833976, 3.8702576 ],\n",
       "       [0.57106222, 3.8666878 ],\n",
       "       [0.57378469, 3.8623927 ],\n",
       "       [0.57650716, 3.8581741 ],\n",
       "       [0.57922963, 3.854146  ],\n",
       "       [0.5819521 , 3.8499846 ],\n",
       "       [0.58467456, 3.8450022 ],\n",
       "       [0.58739702, 3.8422534 ],\n",
       "       [0.59011948, 3.8380919 ],\n",
       "       [0.59284194, 3.8341596 ],\n",
       "       [0.5955644 , 3.8309333 ],\n",
       "       [0.59828687, 3.8272109 ],\n",
       "       [0.60100935, 3.823164  ],\n",
       "       [0.60373182, 3.8192315 ],\n",
       "       [0.60645429, 3.8159864 ],\n",
       "       [0.60917677, 3.8123021 ],\n",
       "       [0.61189925, 3.8090379 ],\n",
       "       [0.61462172, 3.8071671 ],\n",
       "       [0.61734419, 3.8040555 ],\n",
       "       [0.62006666, 3.8013639 ],\n",
       "       [0.62278914, 3.7970879 ],\n",
       "       [0.62551162, 3.7953317 ],\n",
       "       [0.62823408, 3.7920673 ],\n",
       "       [0.63095656, 3.788383  ],\n",
       "       [0.63367903, 3.7855389 ],\n",
       "       [0.6364015 , 3.7838206 ],\n",
       "       [0.63912397, 3.78111   ],\n",
       "       [0.64184645, 3.7794874 ],\n",
       "       [0.64456893, 3.7769294 ],\n",
       "       [0.6472914 , 3.773608  ],\n",
       "       [0.65001389, 3.7695992 ],\n",
       "       [0.65273637, 3.7690265 ],\n",
       "       [0.65545884, 3.7662776 ],\n",
       "       [0.65818131, 3.7642922 ],\n",
       "       [0.66090379, 3.7626889 ],\n",
       "       [0.66362625, 3.7603791 ],\n",
       "       [0.66634874, 3.7575538 ],\n",
       "       [0.66907121, 3.7552056 ],\n",
       "       [0.67179369, 3.7533159 ],\n",
       "       [0.67451616, 3.7507198 ],\n",
       "       [0.67723865, 3.7487535 ],\n",
       "       [0.67996113, 3.7471499 ],\n",
       "       [0.68268361, 3.7442865 ],\n",
       "       [0.68540608, 3.7423012 ],\n",
       "       [0.68812855, 3.7400677 ],\n",
       "       [0.69085103, 3.7385788 ],\n",
       "       [0.6935735 , 3.7345319 ],\n",
       "       [0.69629597, 3.7339211 ],\n",
       "       [0.69901843, 3.7301605 ],\n",
       "       [0.7017409 , 3.7301033 ],\n",
       "       [0.70446338, 3.7278316 ],\n",
       "       [0.70718585, 3.7251589 ],\n",
       "       [0.70990833, 3.723861  ],\n",
       "       [0.71263081, 3.7215703 ],\n",
       "       [0.71535328, 3.7191267 ],\n",
       "       [0.71807574, 3.7172751 ],\n",
       "       [0.72079822, 3.7157097 ],\n",
       "       [0.72352069, 3.7130945 ],\n",
       "       [0.72624317, 3.7099447 ],\n",
       "       [0.72896564, 3.7071004 ],\n",
       "       [0.7316881 , 3.7045615 ],\n",
       "       [0.73441057, 3.703588  ],\n",
       "       [0.73713303, 3.70208   ],\n",
       "       [0.73985551, 3.7002664 ],\n",
       "       [0.74257799, 3.6972122 ],\n",
       "       [0.74530047, 3.6952841 ],\n",
       "       [0.74802293, 3.6929362 ],\n",
       "       [0.7507454 , 3.6898055 ],\n",
       "       [0.75346787, 3.6890991 ],\n",
       "       [0.75619034, 3.686522  ],\n",
       "       [0.75891281, 3.6849759 ],\n",
       "       [0.76163529, 3.6821697 ],\n",
       "       [0.76435776, 3.6808143 ],\n",
       "       [0.76708024, 3.6786573 ],\n",
       "       [0.7698027 , 3.6761947 ],\n",
       "       [0.77252517, 3.674763  ],\n",
       "       [0.77524765, 3.6712887 ],\n",
       "       [0.77797012, 3.6697233 ],\n",
       "       [0.78069258, 3.6678908 ],\n",
       "       [0.78341506, 3.6652565 ],\n",
       "       [0.78613753, 3.6630611 ],\n",
       "       [0.78885999, 3.660274  ],\n",
       "       [0.79158246, 3.6583652 ],\n",
       "       [0.79430494, 3.6554828 ],\n",
       "       [0.79702741, 3.6522949 ],\n",
       "       [0.79974987, 3.6499848 ],\n",
       "       [0.80247234, 3.6470451 ],\n",
       "       [0.8051948 , 3.6405547 ],\n",
       "       [0.80791727, 3.6383405 ],\n",
       "       [0.81063974, 3.635076  ],\n",
       "       [0.81336221, 3.633549  ],\n",
       "       [0.81608468, 3.6322317 ],\n",
       "       [0.81880714, 3.6306856 ],\n",
       "       [0.82152961, 3.6283948 ],\n",
       "       [0.82425208, 3.6268487 ],\n",
       "       [0.82697453, 3.6243098 ],\n",
       "       [0.829697  , 3.6223626 ],\n",
       "       [0.83241946, 3.6193655 ],\n",
       "       [0.83514192, 3.6177621 ],\n",
       "       [0.83786439, 3.6158531 ],\n",
       "       [0.84058684, 3.6128371 ],\n",
       "       [0.84330931, 3.6118062 ],\n",
       "       [0.84603177, 3.6094582 ],\n",
       "       [0.84875424, 3.6072438 ],\n",
       "       [0.8514767 , 3.6049912 ],\n",
       "       [0.85419916, 3.6030822 ],\n",
       "       [0.85692162, 3.6012688 ],\n",
       "       [0.85964409, 3.5995889 ],\n",
       "       [0.86236656, 3.5976417 ],\n",
       "       [0.86508902, 3.5951984 ],\n",
       "       [0.86781149, 3.593843  ],\n",
       "       [0.87053395, 3.5916286 ],\n",
       "       [0.87325642, 3.5894907 ],\n",
       "       [0.87597888, 3.587429  ],\n",
       "       [0.87870135, 3.5852909 ],\n",
       "       [0.88142383, 3.5834775 ],\n",
       "       [0.8841463 , 3.5817785 ],\n",
       "       [0.88686877, 3.5801177 ],\n",
       "       [0.88959124, 3.5778842 ],\n",
       "       [0.89231371, 3.5763381 ],\n",
       "       [0.8950362 , 3.5737801 ],\n",
       "       [0.89775868, 3.5721002 ],\n",
       "       [0.90048116, 3.5702102 ],\n",
       "       [0.90320364, 3.5684922 ],\n",
       "       [0.90592613, 3.5672133 ],\n",
       "       [1.        , 3.52302167]])),\n",
       " 'Positive electrode OCP entropic change [V.K-1]': 0.0,\n",
       " 'Positive electrode active material volume fraction': 0.665,\n",
       " 'Positive electrode cation signed stoichiometry': -1.0,\n",
       " 'Positive electrode charge transfer coefficient': 0.5,\n",
       " 'Positive electrode conductivity [S.m-1]': 0.18,\n",
       " 'Positive electrode density [kg.m-3]': 3262.0,\n",
       " 'Positive electrode diffusivity [m2.s-1]': 4e-15,\n",
       " 'Positive electrode double-layer capacity [F.m-2]': 0.2,\n",
       " 'Positive electrode electrons in reaction': 1.0,\n",
       " 'Positive electrode exchange-current density [A.m-2]': <function nmc_LGM50_electrolyte_exchange_current_density_Chen2020 at 0x000001ACCEF67670>,\n",
       " 'Positive electrode porosity': 0.335,\n",
       " 'Positive electrode specific heat capacity [J.kg-1.K-1]': 700.0,\n",
       " 'Positive electrode thermal conductivity [W.m-1.K-1]': 2.1,\n",
       " 'Positive electrode thickness [m]': 7.56e-05,\n",
       " 'Positive particle radius [m]': 5.22e-06,\n",
       " 'Ratio of inner and outer SEI exchange current densities': 1.0,\n",
       " 'Reference OCP vs SHE in the negative electrode [V]': nan,\n",
       " 'Reference OCP vs SHE in the positive electrode [V]': nan,\n",
       " 'Reference temperature [K]': 298.15,\n",
       " 'SEI kinetic rate constant [m.s-1]': 1e-12,\n",
       " 'SEI open-circuit potential [V]': 0.4,\n",
       " 'SEI reaction exchange current density [A.m-2]': 1.5e-07,\n",
       " 'SEI resistivity [Ohm.m]': 5000000.0,\n",
       " 'Separator Bruggeman coefficient (electrolyte)': 1.5,\n",
       " 'Separator density [kg.m-3]': 397.0,\n",
       " 'Separator porosity': 0.47,\n",
       " 'Separator specific heat capacity [J.kg-1.K-1]': 700.0,\n",
       " 'Separator thermal conductivity [W.m-1.K-1]': 0.16,\n",
       " 'Separator thickness [m]': 1.2e-05,\n",
       " 'Total heat transfer coefficient [W.m-2.K-1]': 10.0,\n",
       " 'Typical current [A]': 5.0,\n",
       " 'Typical electrolyte concentration [mol.m-3]': 1000.0,\n",
       " 'Upper voltage cut-off [V]': 4.4}"
      ]
     },
     "metadata": {},
     "execution_count": 14
    }
   ],
   "source": [
    "param"
   ]
  },
  {
   "source": [
    "We will now search and update the `\"Current function [A]\"` first with a constant value and then with a function.\n",
    "\n",
    "### Using a constant value:"
   ],
   "cell_type": "markdown",
   "metadata": {}
  },
  {
   "cell_type": "code",
   "execution_count": 15,
   "metadata": {},
   "outputs": [
    {
     "output_type": "stream",
     "name": "stdout",
     "text": [
      "Current function [A]\t5.0\n"
     ]
    },
    {
     "output_type": "execute_result",
     "data": {
      "text/plain": [
       "4.0"
      ]
     },
     "metadata": {},
     "execution_count": 15
    }
   ],
   "source": [
    "param.search(\"Current function [A]\")\n",
    "\n",
    "param.update(\n",
    "    {\n",
    "        \"Current function [A]\": 4.0\n",
    "    }\n",
    ")\n",
    "\n",
    "param[\"Current function [A]\"]"
   ]
  },
  {
   "source": [
    "### Using a function:"
   ],
   "cell_type": "markdown",
   "metadata": {}
  },
  {
   "cell_type": "code",
   "execution_count": 16,
   "metadata": {},
   "outputs": [
    {
     "output_type": "execute_result",
     "data": {
      "text/plain": [
       "<function __main__.curren_func(time)>"
      ]
     },
     "metadata": {},
     "execution_count": 16
    }
   ],
   "source": [
    "def curren_func(time):\n",
    "    return pybamm.sin(2 * np.pi * time / 60)\n",
    "\n",
    "param.update(\n",
    "    {\n",
    "        \"Current function [A]\": curren_func\n",
    "    }\n",
    ")\n",
    "\n",
    "param[\"Current function [A]\"]"
   ]
  },
  {
   "source": [
    "## Plotting parameter functions\n",
    "\n",
    "As seen above, functions can be passed as parameter values. These parameter values can then be plotted by using `pybamm.plot`"
   ],
   "cell_type": "markdown",
   "metadata": {}
  },
  {
   "source": [
    "### Plotting \"Current function \\[A]\""
   ],
   "cell_type": "markdown",
   "metadata": {}
  },
  {
   "cell_type": "code",
   "execution_count": 17,
   "metadata": {},
   "outputs": [
    {
     "output_type": "display_data",
     "data": {
      "text/plain": "<Figure size 432x288 with 1 Axes>",
      "image/svg+xml": "<?xml version=\"1.0\" encoding=\"utf-8\" standalone=\"no\"?>\r\n<!DOCTYPE svg PUBLIC \"-//W3C//DTD SVG 1.1//EN\"\r\n  \"http://www.w3.org/Graphics/SVG/1.1/DTD/svg11.dtd\">\r\n<!-- Created with matplotlib (https://matplotlib.org/) -->\r\n<svg height=\"279.414375pt\" version=\"1.1\" viewBox=\"0 0 400.526719 279.414375\" width=\"400.526719pt\" xmlns=\"http://www.w3.org/2000/svg\" xmlns:xlink=\"http://www.w3.org/1999/xlink\">\r\n <metadata>\r\n  <rdf:RDF xmlns:cc=\"http://creativecommons.org/ns#\" xmlns:dc=\"http://purl.org/dc/elements/1.1/\" xmlns:rdf=\"http://www.w3.org/1999/02/22-rdf-syntax-ns#\">\r\n   <cc:Work>\r\n    <dc:type rdf:resource=\"http://purl.org/dc/dcmitype/StillImage\"/>\r\n    <dc:date>2021-04-28T19:37:09.491037</dc:date>\r\n    <dc:format>image/svg+xml</dc:format>\r\n    <dc:creator>\r\n     <cc:Agent>\r\n      <dc:title>Matplotlib v3.3.3, https://matplotlib.org/</dc:title>\r\n     </cc:Agent>\r\n    </dc:creator>\r\n   </cc:Work>\r\n  </rdf:RDF>\r\n </metadata>\r\n <defs>\r\n  <style type=\"text/css\">*{stroke-linecap:butt;stroke-linejoin:round;}</style>\r\n </defs>\r\n <g id=\"figure_1\">\r\n  <g id=\"patch_1\">\r\n   <path d=\"M 0 279.414375 \r\nL 400.526719 279.414375 \r\nL 400.526719 0 \r\nL 0 0 \r\nz\r\n\" style=\"fill:none;\"/>\r\n  </g>\r\n  <g id=\"axes_1\">\r\n   <g id=\"patch_2\">\r\n    <path d=\"M 58.526719 239.758125 \r\nL 393.326719 239.758125 \r\nL 393.326719 22.318125 \r\nL 58.526719 22.318125 \r\nz\r\n\" style=\"fill:#ffffff;\"/>\r\n   </g>\r\n   <g id=\"matplotlib.axis_1\">\r\n    <g id=\"xtick_1\">\r\n     <g id=\"line2d_1\">\r\n      <defs>\r\n       <path d=\"M 0 0 \r\nL 0 3.5 \r\n\" id=\"m03b1505a38\" style=\"stroke:#000000;stroke-width:0.8;\"/>\r\n      </defs>\r\n      <g>\r\n       <use style=\"stroke:#000000;stroke-width:0.8;\" x=\"73.744901\" xlink:href=\"#m03b1505a38\" y=\"239.758125\"/>\r\n      </g>\r\n     </g>\r\n     <g id=\"text_1\">\r\n      <!-- 0 -->\r\n      <g transform=\"translate(70.881776 255.696719)scale(0.09 -0.09)\">\r\n       <defs>\r\n        <path d=\"M 31.78125 66.40625 \r\nQ 24.171875 66.40625 20.328125 58.90625 \r\nQ 16.5 51.421875 16.5 36.375 \r\nQ 16.5 21.390625 20.328125 13.890625 \r\nQ 24.171875 6.390625 31.78125 6.390625 \r\nQ 39.453125 6.390625 43.28125 13.890625 \r\nQ 47.125 21.390625 47.125 36.375 \r\nQ 47.125 51.421875 43.28125 58.90625 \r\nQ 39.453125 66.40625 31.78125 66.40625 \r\nz\r\nM 31.78125 74.21875 \r\nQ 44.046875 74.21875 50.515625 64.515625 \r\nQ 56.984375 54.828125 56.984375 36.375 \r\nQ 56.984375 17.96875 50.515625 8.265625 \r\nQ 44.046875 -1.421875 31.78125 -1.421875 \r\nQ 19.53125 -1.421875 13.0625 8.265625 \r\nQ 6.59375 17.96875 6.59375 36.375 \r\nQ 6.59375 54.828125 13.0625 64.515625 \r\nQ 19.53125 74.21875 31.78125 74.21875 \r\nz\r\n\" id=\"DejaVuSans-48\"/>\r\n       </defs>\r\n       <use xlink:href=\"#DejaVuSans-48\"/>\r\n      </g>\r\n     </g>\r\n    </g>\r\n    <g id=\"xtick_2\">\r\n     <g id=\"line2d_2\">\r\n      <g>\r\n       <use style=\"stroke:#000000;stroke-width:0.8;\" x=\"124.472173\" xlink:href=\"#m03b1505a38\" y=\"239.758125\"/>\r\n      </g>\r\n     </g>\r\n     <g id=\"text_2\">\r\n      <!-- 20 -->\r\n      <g transform=\"translate(118.745923 255.696719)scale(0.09 -0.09)\">\r\n       <defs>\r\n        <path d=\"M 19.1875 8.296875 \r\nL 53.609375 8.296875 \r\nL 53.609375 0 \r\nL 7.328125 0 \r\nL 7.328125 8.296875 \r\nQ 12.9375 14.109375 22.625 23.890625 \r\nQ 32.328125 33.6875 34.8125 36.53125 \r\nQ 39.546875 41.84375 41.421875 45.53125 \r\nQ 43.3125 49.21875 43.3125 52.78125 \r\nQ 43.3125 58.59375 39.234375 62.25 \r\nQ 35.15625 65.921875 28.609375 65.921875 \r\nQ 23.96875 65.921875 18.8125 64.3125 \r\nQ 13.671875 62.703125 7.8125 59.421875 \r\nL 7.8125 69.390625 \r\nQ 13.765625 71.78125 18.9375 73 \r\nQ 24.125 74.21875 28.421875 74.21875 \r\nQ 39.75 74.21875 46.484375 68.546875 \r\nQ 53.21875 62.890625 53.21875 53.421875 \r\nQ 53.21875 48.921875 51.53125 44.890625 \r\nQ 49.859375 40.875 45.40625 35.40625 \r\nQ 44.1875 33.984375 37.640625 27.21875 \r\nQ 31.109375 20.453125 19.1875 8.296875 \r\nz\r\n\" id=\"DejaVuSans-50\"/>\r\n       </defs>\r\n       <use xlink:href=\"#DejaVuSans-50\"/>\r\n       <use x=\"63.623047\" xlink:href=\"#DejaVuSans-48\"/>\r\n      </g>\r\n     </g>\r\n    </g>\r\n    <g id=\"xtick_3\">\r\n     <g id=\"line2d_3\">\r\n      <g>\r\n       <use style=\"stroke:#000000;stroke-width:0.8;\" x=\"175.199446\" xlink:href=\"#m03b1505a38\" y=\"239.758125\"/>\r\n      </g>\r\n     </g>\r\n     <g id=\"text_3\">\r\n      <!-- 40 -->\r\n      <g transform=\"translate(169.473196 255.696719)scale(0.09 -0.09)\">\r\n       <defs>\r\n        <path d=\"M 37.796875 64.3125 \r\nL 12.890625 25.390625 \r\nL 37.796875 25.390625 \r\nz\r\nM 35.203125 72.90625 \r\nL 47.609375 72.90625 \r\nL 47.609375 25.390625 \r\nL 58.015625 25.390625 \r\nL 58.015625 17.1875 \r\nL 47.609375 17.1875 \r\nL 47.609375 0 \r\nL 37.796875 0 \r\nL 37.796875 17.1875 \r\nL 4.890625 17.1875 \r\nL 4.890625 26.703125 \r\nz\r\n\" id=\"DejaVuSans-52\"/>\r\n       </defs>\r\n       <use xlink:href=\"#DejaVuSans-52\"/>\r\n       <use x=\"63.623047\" xlink:href=\"#DejaVuSans-48\"/>\r\n      </g>\r\n     </g>\r\n    </g>\r\n    <g id=\"xtick_4\">\r\n     <g id=\"line2d_4\">\r\n      <g>\r\n       <use style=\"stroke:#000000;stroke-width:0.8;\" x=\"225.926719\" xlink:href=\"#m03b1505a38\" y=\"239.758125\"/>\r\n      </g>\r\n     </g>\r\n     <g id=\"text_4\">\r\n      <!-- 60 -->\r\n      <g transform=\"translate(220.200469 255.696719)scale(0.09 -0.09)\">\r\n       <defs>\r\n        <path d=\"M 33.015625 40.375 \r\nQ 26.375 40.375 22.484375 35.828125 \r\nQ 18.609375 31.296875 18.609375 23.390625 \r\nQ 18.609375 15.53125 22.484375 10.953125 \r\nQ 26.375 6.390625 33.015625 6.390625 \r\nQ 39.65625 6.390625 43.53125 10.953125 \r\nQ 47.40625 15.53125 47.40625 23.390625 \r\nQ 47.40625 31.296875 43.53125 35.828125 \r\nQ 39.65625 40.375 33.015625 40.375 \r\nz\r\nM 52.59375 71.296875 \r\nL 52.59375 62.3125 \r\nQ 48.875 64.0625 45.09375 64.984375 \r\nQ 41.3125 65.921875 37.59375 65.921875 \r\nQ 27.828125 65.921875 22.671875 59.328125 \r\nQ 17.53125 52.734375 16.796875 39.40625 \r\nQ 19.671875 43.65625 24.015625 45.921875 \r\nQ 28.375 48.1875 33.59375 48.1875 \r\nQ 44.578125 48.1875 50.953125 41.515625 \r\nQ 57.328125 34.859375 57.328125 23.390625 \r\nQ 57.328125 12.15625 50.6875 5.359375 \r\nQ 44.046875 -1.421875 33.015625 -1.421875 \r\nQ 20.359375 -1.421875 13.671875 8.265625 \r\nQ 6.984375 17.96875 6.984375 36.375 \r\nQ 6.984375 53.65625 15.1875 63.9375 \r\nQ 23.390625 74.21875 37.203125 74.21875 \r\nQ 40.921875 74.21875 44.703125 73.484375 \r\nQ 48.484375 72.75 52.59375 71.296875 \r\nz\r\n\" id=\"DejaVuSans-54\"/>\r\n       </defs>\r\n       <use xlink:href=\"#DejaVuSans-54\"/>\r\n       <use x=\"63.623047\" xlink:href=\"#DejaVuSans-48\"/>\r\n      </g>\r\n     </g>\r\n    </g>\r\n    <g id=\"xtick_5\">\r\n     <g id=\"line2d_5\">\r\n      <g>\r\n       <use style=\"stroke:#000000;stroke-width:0.8;\" x=\"276.653991\" xlink:href=\"#m03b1505a38\" y=\"239.758125\"/>\r\n      </g>\r\n     </g>\r\n     <g id=\"text_5\">\r\n      <!-- 80 -->\r\n      <g transform=\"translate(270.927741 255.696719)scale(0.09 -0.09)\">\r\n       <defs>\r\n        <path d=\"M 31.78125 34.625 \r\nQ 24.75 34.625 20.71875 30.859375 \r\nQ 16.703125 27.09375 16.703125 20.515625 \r\nQ 16.703125 13.921875 20.71875 10.15625 \r\nQ 24.75 6.390625 31.78125 6.390625 \r\nQ 38.8125 6.390625 42.859375 10.171875 \r\nQ 46.921875 13.96875 46.921875 20.515625 \r\nQ 46.921875 27.09375 42.890625 30.859375 \r\nQ 38.875 34.625 31.78125 34.625 \r\nz\r\nM 21.921875 38.8125 \r\nQ 15.578125 40.375 12.03125 44.71875 \r\nQ 8.5 49.078125 8.5 55.328125 \r\nQ 8.5 64.0625 14.71875 69.140625 \r\nQ 20.953125 74.21875 31.78125 74.21875 \r\nQ 42.671875 74.21875 48.875 69.140625 \r\nQ 55.078125 64.0625 55.078125 55.328125 \r\nQ 55.078125 49.078125 51.53125 44.71875 \r\nQ 48 40.375 41.703125 38.8125 \r\nQ 48.828125 37.15625 52.796875 32.3125 \r\nQ 56.78125 27.484375 56.78125 20.515625 \r\nQ 56.78125 9.90625 50.3125 4.234375 \r\nQ 43.84375 -1.421875 31.78125 -1.421875 \r\nQ 19.734375 -1.421875 13.25 4.234375 \r\nQ 6.78125 9.90625 6.78125 20.515625 \r\nQ 6.78125 27.484375 10.78125 32.3125 \r\nQ 14.796875 37.15625 21.921875 38.8125 \r\nz\r\nM 18.3125 54.390625 \r\nQ 18.3125 48.734375 21.84375 45.5625 \r\nQ 25.390625 42.390625 31.78125 42.390625 \r\nQ 38.140625 42.390625 41.71875 45.5625 \r\nQ 45.3125 48.734375 45.3125 54.390625 \r\nQ 45.3125 60.0625 41.71875 63.234375 \r\nQ 38.140625 66.40625 31.78125 66.40625 \r\nQ 25.390625 66.40625 21.84375 63.234375 \r\nQ 18.3125 60.0625 18.3125 54.390625 \r\nz\r\n\" id=\"DejaVuSans-56\"/>\r\n       </defs>\r\n       <use xlink:href=\"#DejaVuSans-56\"/>\r\n       <use x=\"63.623047\" xlink:href=\"#DejaVuSans-48\"/>\r\n      </g>\r\n     </g>\r\n    </g>\r\n    <g id=\"xtick_6\">\r\n     <g id=\"line2d_6\">\r\n      <g>\r\n       <use style=\"stroke:#000000;stroke-width:0.8;\" x=\"327.381264\" xlink:href=\"#m03b1505a38\" y=\"239.758125\"/>\r\n      </g>\r\n     </g>\r\n     <g id=\"text_6\">\r\n      <!-- 100 -->\r\n      <g transform=\"translate(318.791889 255.696719)scale(0.09 -0.09)\">\r\n       <defs>\r\n        <path d=\"M 12.40625 8.296875 \r\nL 28.515625 8.296875 \r\nL 28.515625 63.921875 \r\nL 10.984375 60.40625 \r\nL 10.984375 69.390625 \r\nL 28.421875 72.90625 \r\nL 38.28125 72.90625 \r\nL 38.28125 8.296875 \r\nL 54.390625 8.296875 \r\nL 54.390625 0 \r\nL 12.40625 0 \r\nz\r\n\" id=\"DejaVuSans-49\"/>\r\n       </defs>\r\n       <use xlink:href=\"#DejaVuSans-49\"/>\r\n       <use x=\"63.623047\" xlink:href=\"#DejaVuSans-48\"/>\r\n       <use x=\"127.246094\" xlink:href=\"#DejaVuSans-48\"/>\r\n      </g>\r\n     </g>\r\n    </g>\r\n    <g id=\"xtick_7\">\r\n     <g id=\"line2d_7\">\r\n      <g>\r\n       <use style=\"stroke:#000000;stroke-width:0.8;\" x=\"378.108537\" xlink:href=\"#m03b1505a38\" y=\"239.758125\"/>\r\n      </g>\r\n     </g>\r\n     <g id=\"text_7\">\r\n      <!-- 120 -->\r\n      <g transform=\"translate(369.519162 255.696719)scale(0.09 -0.09)\">\r\n       <use xlink:href=\"#DejaVuSans-49\"/>\r\n       <use x=\"63.623047\" xlink:href=\"#DejaVuSans-50\"/>\r\n       <use x=\"127.246094\" xlink:href=\"#DejaVuSans-48\"/>\r\n      </g>\r\n     </g>\r\n    </g>\r\n    <g id=\"text_8\">\r\n     <!-- time -->\r\n     <g transform=\"translate(213.501016 269.926719)scale(0.11 -0.11)\">\r\n      <defs>\r\n       <path d=\"M 18.3125 70.21875 \r\nL 18.3125 54.6875 \r\nL 36.8125 54.6875 \r\nL 36.8125 47.703125 \r\nL 18.3125 47.703125 \r\nL 18.3125 18.015625 \r\nQ 18.3125 11.328125 20.140625 9.421875 \r\nQ 21.96875 7.515625 27.59375 7.515625 \r\nL 36.8125 7.515625 \r\nL 36.8125 0 \r\nL 27.59375 0 \r\nQ 17.1875 0 13.234375 3.875 \r\nQ 9.28125 7.765625 9.28125 18.015625 \r\nL 9.28125 47.703125 \r\nL 2.6875 47.703125 \r\nL 2.6875 54.6875 \r\nL 9.28125 54.6875 \r\nL 9.28125 70.21875 \r\nz\r\n\" id=\"DejaVuSans-116\"/>\r\n       <path d=\"M 9.421875 54.6875 \r\nL 18.40625 54.6875 \r\nL 18.40625 0 \r\nL 9.421875 0 \r\nz\r\nM 9.421875 75.984375 \r\nL 18.40625 75.984375 \r\nL 18.40625 64.59375 \r\nL 9.421875 64.59375 \r\nz\r\n\" id=\"DejaVuSans-105\"/>\r\n       <path d=\"M 52 44.1875 \r\nQ 55.375 50.25 60.0625 53.125 \r\nQ 64.75 56 71.09375 56 \r\nQ 79.640625 56 84.28125 50.015625 \r\nQ 88.921875 44.046875 88.921875 33.015625 \r\nL 88.921875 0 \r\nL 79.890625 0 \r\nL 79.890625 32.71875 \r\nQ 79.890625 40.578125 77.09375 44.375 \r\nQ 74.3125 48.1875 68.609375 48.1875 \r\nQ 61.625 48.1875 57.5625 43.546875 \r\nQ 53.515625 38.921875 53.515625 30.90625 \r\nL 53.515625 0 \r\nL 44.484375 0 \r\nL 44.484375 32.71875 \r\nQ 44.484375 40.625 41.703125 44.40625 \r\nQ 38.921875 48.1875 33.109375 48.1875 \r\nQ 26.21875 48.1875 22.15625 43.53125 \r\nQ 18.109375 38.875 18.109375 30.90625 \r\nL 18.109375 0 \r\nL 9.078125 0 \r\nL 9.078125 54.6875 \r\nL 18.109375 54.6875 \r\nL 18.109375 46.1875 \r\nQ 21.1875 51.21875 25.484375 53.609375 \r\nQ 29.78125 56 35.6875 56 \r\nQ 41.65625 56 45.828125 52.96875 \r\nQ 50 49.953125 52 44.1875 \r\nz\r\n\" id=\"DejaVuSans-109\"/>\r\n       <path d=\"M 56.203125 29.59375 \r\nL 56.203125 25.203125 \r\nL 14.890625 25.203125 \r\nQ 15.484375 15.921875 20.484375 11.0625 \r\nQ 25.484375 6.203125 34.421875 6.203125 \r\nQ 39.59375 6.203125 44.453125 7.46875 \r\nQ 49.3125 8.734375 54.109375 11.28125 \r\nL 54.109375 2.78125 \r\nQ 49.265625 0.734375 44.1875 -0.34375 \r\nQ 39.109375 -1.421875 33.890625 -1.421875 \r\nQ 20.796875 -1.421875 13.15625 6.1875 \r\nQ 5.515625 13.8125 5.515625 26.8125 \r\nQ 5.515625 40.234375 12.765625 48.109375 \r\nQ 20.015625 56 32.328125 56 \r\nQ 43.359375 56 49.78125 48.890625 \r\nQ 56.203125 41.796875 56.203125 29.59375 \r\nz\r\nM 47.21875 32.234375 \r\nQ 47.125 39.59375 43.09375 43.984375 \r\nQ 39.0625 48.390625 32.421875 48.390625 \r\nQ 24.90625 48.390625 20.390625 44.140625 \r\nQ 15.875 39.890625 15.1875 32.171875 \r\nz\r\n\" id=\"DejaVuSans-101\"/>\r\n      </defs>\r\n      <use xlink:href=\"#DejaVuSans-116\"/>\r\n      <use x=\"39.208984\" xlink:href=\"#DejaVuSans-105\"/>\r\n      <use x=\"66.992188\" xlink:href=\"#DejaVuSans-109\"/>\r\n      <use x=\"164.404297\" xlink:href=\"#DejaVuSans-101\"/>\r\n     </g>\r\n    </g>\r\n   </g>\r\n   <g id=\"matplotlib.axis_2\">\r\n    <g id=\"ytick_1\">\r\n     <g id=\"line2d_8\">\r\n      <defs>\r\n       <path d=\"M 0 0 \r\nL -3.5 0 \r\n\" id=\"m4648c43f1c\" style=\"stroke:#000000;stroke-width:0.8;\"/>\r\n      </defs>\r\n      <g>\r\n       <use style=\"stroke:#000000;stroke-width:0.8;\" x=\"58.526719\" xlink:href=\"#m4648c43f1c\" y=\"235.613647\"/>\r\n      </g>\r\n     </g>\r\n     <g id=\"text_9\">\r\n      <!-- −1.00 -->\r\n      <g transform=\"translate(21.845938 239.032944)scale(0.09 -0.09)\">\r\n       <defs>\r\n        <path d=\"M 10.59375 35.5 \r\nL 73.1875 35.5 \r\nL 73.1875 27.203125 \r\nL 10.59375 27.203125 \r\nz\r\n\" id=\"DejaVuSans-8722\"/>\r\n        <path d=\"M 10.6875 12.40625 \r\nL 21 12.40625 \r\nL 21 0 \r\nL 10.6875 0 \r\nz\r\n\" id=\"DejaVuSans-46\"/>\r\n       </defs>\r\n       <use xlink:href=\"#DejaVuSans-8722\"/>\r\n       <use x=\"83.789062\" xlink:href=\"#DejaVuSans-49\"/>\r\n       <use x=\"147.412109\" xlink:href=\"#DejaVuSans-46\"/>\r\n       <use x=\"179.199219\" xlink:href=\"#DejaVuSans-48\"/>\r\n       <use x=\"242.822266\" xlink:href=\"#DejaVuSans-48\"/>\r\n      </g>\r\n     </g>\r\n    </g>\r\n    <g id=\"ytick_2\">\r\n     <g id=\"line2d_9\">\r\n      <g>\r\n       <use style=\"stroke:#000000;stroke-width:0.8;\" x=\"58.526719\" xlink:href=\"#m4648c43f1c\" y=\"209.469766\"/>\r\n      </g>\r\n     </g>\r\n     <g id=\"text_10\">\r\n      <!-- −0.75 -->\r\n      <g transform=\"translate(21.845938 212.889063)scale(0.09 -0.09)\">\r\n       <defs>\r\n        <path d=\"M 8.203125 72.90625 \r\nL 55.078125 72.90625 \r\nL 55.078125 68.703125 \r\nL 28.609375 0 \r\nL 18.3125 0 \r\nL 43.21875 64.59375 \r\nL 8.203125 64.59375 \r\nz\r\n\" id=\"DejaVuSans-55\"/>\r\n        <path d=\"M 10.796875 72.90625 \r\nL 49.515625 72.90625 \r\nL 49.515625 64.59375 \r\nL 19.828125 64.59375 \r\nL 19.828125 46.734375 \r\nQ 21.96875 47.46875 24.109375 47.828125 \r\nQ 26.265625 48.1875 28.421875 48.1875 \r\nQ 40.625 48.1875 47.75 41.5 \r\nQ 54.890625 34.8125 54.890625 23.390625 \r\nQ 54.890625 11.625 47.5625 5.09375 \r\nQ 40.234375 -1.421875 26.90625 -1.421875 \r\nQ 22.3125 -1.421875 17.546875 -0.640625 \r\nQ 12.796875 0.140625 7.71875 1.703125 \r\nL 7.71875 11.625 \r\nQ 12.109375 9.234375 16.796875 8.0625 \r\nQ 21.484375 6.890625 26.703125 6.890625 \r\nQ 35.15625 6.890625 40.078125 11.328125 \r\nQ 45.015625 15.765625 45.015625 23.390625 \r\nQ 45.015625 31 40.078125 35.4375 \r\nQ 35.15625 39.890625 26.703125 39.890625 \r\nQ 22.75 39.890625 18.8125 39.015625 \r\nQ 14.890625 38.140625 10.796875 36.28125 \r\nz\r\n\" id=\"DejaVuSans-53\"/>\r\n       </defs>\r\n       <use xlink:href=\"#DejaVuSans-8722\"/>\r\n       <use x=\"83.789062\" xlink:href=\"#DejaVuSans-48\"/>\r\n       <use x=\"147.412109\" xlink:href=\"#DejaVuSans-46\"/>\r\n       <use x=\"179.199219\" xlink:href=\"#DejaVuSans-55\"/>\r\n       <use x=\"242.822266\" xlink:href=\"#DejaVuSans-53\"/>\r\n      </g>\r\n     </g>\r\n    </g>\r\n    <g id=\"ytick_3\">\r\n     <g id=\"line2d_10\">\r\n      <g>\r\n       <use style=\"stroke:#000000;stroke-width:0.8;\" x=\"58.526719\" xlink:href=\"#m4648c43f1c\" y=\"183.325886\"/>\r\n      </g>\r\n     </g>\r\n     <g id=\"text_11\">\r\n      <!-- −0.50 -->\r\n      <g transform=\"translate(21.845938 186.745183)scale(0.09 -0.09)\">\r\n       <use xlink:href=\"#DejaVuSans-8722\"/>\r\n       <use x=\"83.789062\" xlink:href=\"#DejaVuSans-48\"/>\r\n       <use x=\"147.412109\" xlink:href=\"#DejaVuSans-46\"/>\r\n       <use x=\"179.199219\" xlink:href=\"#DejaVuSans-53\"/>\r\n       <use x=\"242.822266\" xlink:href=\"#DejaVuSans-48\"/>\r\n      </g>\r\n     </g>\r\n    </g>\r\n    <g id=\"ytick_4\">\r\n     <g id=\"line2d_11\">\r\n      <g>\r\n       <use style=\"stroke:#000000;stroke-width:0.8;\" x=\"58.526719\" xlink:href=\"#m4648c43f1c\" y=\"157.182005\"/>\r\n      </g>\r\n     </g>\r\n     <g id=\"text_12\">\r\n      <!-- −0.25 -->\r\n      <g transform=\"translate(21.845938 160.601302)scale(0.09 -0.09)\">\r\n       <use xlink:href=\"#DejaVuSans-8722\"/>\r\n       <use x=\"83.789062\" xlink:href=\"#DejaVuSans-48\"/>\r\n       <use x=\"147.412109\" xlink:href=\"#DejaVuSans-46\"/>\r\n       <use x=\"179.199219\" xlink:href=\"#DejaVuSans-50\"/>\r\n       <use x=\"242.822266\" xlink:href=\"#DejaVuSans-53\"/>\r\n      </g>\r\n     </g>\r\n    </g>\r\n    <g id=\"ytick_5\">\r\n     <g id=\"line2d_12\">\r\n      <g>\r\n       <use style=\"stroke:#000000;stroke-width:0.8;\" x=\"58.526719\" xlink:href=\"#m4648c43f1c\" y=\"131.038125\"/>\r\n      </g>\r\n     </g>\r\n     <g id=\"text_13\">\r\n      <!-- 0.00 -->\r\n      <g transform=\"translate(29.387656 134.457422)scale(0.09 -0.09)\">\r\n       <use xlink:href=\"#DejaVuSans-48\"/>\r\n       <use x=\"63.623047\" xlink:href=\"#DejaVuSans-46\"/>\r\n       <use x=\"95.410156\" xlink:href=\"#DejaVuSans-48\"/>\r\n       <use x=\"159.033203\" xlink:href=\"#DejaVuSans-48\"/>\r\n      </g>\r\n     </g>\r\n    </g>\r\n    <g id=\"ytick_6\">\r\n     <g id=\"line2d_13\">\r\n      <g>\r\n       <use style=\"stroke:#000000;stroke-width:0.8;\" x=\"58.526719\" xlink:href=\"#m4648c43f1c\" y=\"104.894245\"/>\r\n      </g>\r\n     </g>\r\n     <g id=\"text_14\">\r\n      <!-- 0.25 -->\r\n      <g transform=\"translate(29.387656 108.313541)scale(0.09 -0.09)\">\r\n       <use xlink:href=\"#DejaVuSans-48\"/>\r\n       <use x=\"63.623047\" xlink:href=\"#DejaVuSans-46\"/>\r\n       <use x=\"95.410156\" xlink:href=\"#DejaVuSans-50\"/>\r\n       <use x=\"159.033203\" xlink:href=\"#DejaVuSans-53\"/>\r\n      </g>\r\n     </g>\r\n    </g>\r\n    <g id=\"ytick_7\">\r\n     <g id=\"line2d_14\">\r\n      <g>\r\n       <use style=\"stroke:#000000;stroke-width:0.8;\" x=\"58.526719\" xlink:href=\"#m4648c43f1c\" y=\"78.750364\"/>\r\n      </g>\r\n     </g>\r\n     <g id=\"text_15\">\r\n      <!-- 0.50 -->\r\n      <g transform=\"translate(29.387656 82.169661)scale(0.09 -0.09)\">\r\n       <use xlink:href=\"#DejaVuSans-48\"/>\r\n       <use x=\"63.623047\" xlink:href=\"#DejaVuSans-46\"/>\r\n       <use x=\"95.410156\" xlink:href=\"#DejaVuSans-53\"/>\r\n       <use x=\"159.033203\" xlink:href=\"#DejaVuSans-48\"/>\r\n      </g>\r\n     </g>\r\n    </g>\r\n    <g id=\"ytick_8\">\r\n     <g id=\"line2d_15\">\r\n      <g>\r\n       <use style=\"stroke:#000000;stroke-width:0.8;\" x=\"58.526719\" xlink:href=\"#m4648c43f1c\" y=\"52.606484\"/>\r\n      </g>\r\n     </g>\r\n     <g id=\"text_16\">\r\n      <!-- 0.75 -->\r\n      <g transform=\"translate(29.387656 56.02578)scale(0.09 -0.09)\">\r\n       <use xlink:href=\"#DejaVuSans-48\"/>\r\n       <use x=\"63.623047\" xlink:href=\"#DejaVuSans-46\"/>\r\n       <use x=\"95.410156\" xlink:href=\"#DejaVuSans-55\"/>\r\n       <use x=\"159.033203\" xlink:href=\"#DejaVuSans-53\"/>\r\n      </g>\r\n     </g>\r\n    </g>\r\n    <g id=\"ytick_9\">\r\n     <g id=\"line2d_16\">\r\n      <g>\r\n       <use style=\"stroke:#000000;stroke-width:0.8;\" x=\"58.526719\" xlink:href=\"#m4648c43f1c\" y=\"26.462603\"/>\r\n      </g>\r\n     </g>\r\n     <g id=\"text_17\">\r\n      <!-- 1.00 -->\r\n      <g transform=\"translate(29.387656 29.8819)scale(0.09 -0.09)\">\r\n       <use xlink:href=\"#DejaVuSans-49\"/>\r\n       <use x=\"63.623047\" xlink:href=\"#DejaVuSans-46\"/>\r\n       <use x=\"95.410156\" xlink:href=\"#DejaVuSans-48\"/>\r\n       <use x=\"159.033203\" xlink:href=\"#DejaVuSans-48\"/>\r\n      </g>\r\n     </g>\r\n    </g>\r\n    <g id=\"text_18\">\r\n     <!-- Current function [A] -->\r\n     <g transform=\"translate(15.558281 185.708984)rotate(-90)scale(0.11 -0.11)\">\r\n      <defs>\r\n       <path d=\"M 64.40625 67.28125 \r\nL 64.40625 56.890625 \r\nQ 59.421875 61.53125 53.78125 63.8125 \r\nQ 48.140625 66.109375 41.796875 66.109375 \r\nQ 29.296875 66.109375 22.65625 58.46875 \r\nQ 16.015625 50.828125 16.015625 36.375 \r\nQ 16.015625 21.96875 22.65625 14.328125 \r\nQ 29.296875 6.6875 41.796875 6.6875 \r\nQ 48.140625 6.6875 53.78125 8.984375 \r\nQ 59.421875 11.28125 64.40625 15.921875 \r\nL 64.40625 5.609375 \r\nQ 59.234375 2.09375 53.4375 0.328125 \r\nQ 47.65625 -1.421875 41.21875 -1.421875 \r\nQ 24.65625 -1.421875 15.125 8.703125 \r\nQ 5.609375 18.84375 5.609375 36.375 \r\nQ 5.609375 53.953125 15.125 64.078125 \r\nQ 24.65625 74.21875 41.21875 74.21875 \r\nQ 47.75 74.21875 53.53125 72.484375 \r\nQ 59.328125 70.75 64.40625 67.28125 \r\nz\r\n\" id=\"DejaVuSans-67\"/>\r\n       <path d=\"M 8.5 21.578125 \r\nL 8.5 54.6875 \r\nL 17.484375 54.6875 \r\nL 17.484375 21.921875 \r\nQ 17.484375 14.15625 20.5 10.265625 \r\nQ 23.53125 6.390625 29.59375 6.390625 \r\nQ 36.859375 6.390625 41.078125 11.03125 \r\nQ 45.3125 15.671875 45.3125 23.6875 \r\nL 45.3125 54.6875 \r\nL 54.296875 54.6875 \r\nL 54.296875 0 \r\nL 45.3125 0 \r\nL 45.3125 8.40625 \r\nQ 42.046875 3.421875 37.71875 1 \r\nQ 33.40625 -1.421875 27.6875 -1.421875 \r\nQ 18.265625 -1.421875 13.375 4.4375 \r\nQ 8.5 10.296875 8.5 21.578125 \r\nz\r\nM 31.109375 56 \r\nz\r\n\" id=\"DejaVuSans-117\"/>\r\n       <path d=\"M 41.109375 46.296875 \r\nQ 39.59375 47.171875 37.8125 47.578125 \r\nQ 36.03125 48 33.890625 48 \r\nQ 26.265625 48 22.1875 43.046875 \r\nQ 18.109375 38.09375 18.109375 28.8125 \r\nL 18.109375 0 \r\nL 9.078125 0 \r\nL 9.078125 54.6875 \r\nL 18.109375 54.6875 \r\nL 18.109375 46.1875 \r\nQ 20.953125 51.171875 25.484375 53.578125 \r\nQ 30.03125 56 36.53125 56 \r\nQ 37.453125 56 38.578125 55.875 \r\nQ 39.703125 55.765625 41.0625 55.515625 \r\nz\r\n\" id=\"DejaVuSans-114\"/>\r\n       <path d=\"M 54.890625 33.015625 \r\nL 54.890625 0 \r\nL 45.90625 0 \r\nL 45.90625 32.71875 \r\nQ 45.90625 40.484375 42.875 44.328125 \r\nQ 39.84375 48.1875 33.796875 48.1875 \r\nQ 26.515625 48.1875 22.3125 43.546875 \r\nQ 18.109375 38.921875 18.109375 30.90625 \r\nL 18.109375 0 \r\nL 9.078125 0 \r\nL 9.078125 54.6875 \r\nL 18.109375 54.6875 \r\nL 18.109375 46.1875 \r\nQ 21.34375 51.125 25.703125 53.5625 \r\nQ 30.078125 56 35.796875 56 \r\nQ 45.21875 56 50.046875 50.171875 \r\nQ 54.890625 44.34375 54.890625 33.015625 \r\nz\r\n\" id=\"DejaVuSans-110\"/>\r\n       <path id=\"DejaVuSans-32\"/>\r\n       <path d=\"M 37.109375 75.984375 \r\nL 37.109375 68.5 \r\nL 28.515625 68.5 \r\nQ 23.6875 68.5 21.796875 66.546875 \r\nQ 19.921875 64.59375 19.921875 59.515625 \r\nL 19.921875 54.6875 \r\nL 34.71875 54.6875 \r\nL 34.71875 47.703125 \r\nL 19.921875 47.703125 \r\nL 19.921875 0 \r\nL 10.890625 0 \r\nL 10.890625 47.703125 \r\nL 2.296875 47.703125 \r\nL 2.296875 54.6875 \r\nL 10.890625 54.6875 \r\nL 10.890625 58.5 \r\nQ 10.890625 67.625 15.140625 71.796875 \r\nQ 19.390625 75.984375 28.609375 75.984375 \r\nz\r\n\" id=\"DejaVuSans-102\"/>\r\n       <path d=\"M 48.78125 52.59375 \r\nL 48.78125 44.1875 \r\nQ 44.96875 46.296875 41.140625 47.34375 \r\nQ 37.3125 48.390625 33.40625 48.390625 \r\nQ 24.65625 48.390625 19.8125 42.84375 \r\nQ 14.984375 37.3125 14.984375 27.296875 \r\nQ 14.984375 17.28125 19.8125 11.734375 \r\nQ 24.65625 6.203125 33.40625 6.203125 \r\nQ 37.3125 6.203125 41.140625 7.25 \r\nQ 44.96875 8.296875 48.78125 10.40625 \r\nL 48.78125 2.09375 \r\nQ 45.015625 0.34375 40.984375 -0.53125 \r\nQ 36.96875 -1.421875 32.421875 -1.421875 \r\nQ 20.0625 -1.421875 12.78125 6.34375 \r\nQ 5.515625 14.109375 5.515625 27.296875 \r\nQ 5.515625 40.671875 12.859375 48.328125 \r\nQ 20.21875 56 33.015625 56 \r\nQ 37.15625 56 41.109375 55.140625 \r\nQ 45.0625 54.296875 48.78125 52.59375 \r\nz\r\n\" id=\"DejaVuSans-99\"/>\r\n       <path d=\"M 30.609375 48.390625 \r\nQ 23.390625 48.390625 19.1875 42.75 \r\nQ 14.984375 37.109375 14.984375 27.296875 \r\nQ 14.984375 17.484375 19.15625 11.84375 \r\nQ 23.34375 6.203125 30.609375 6.203125 \r\nQ 37.796875 6.203125 41.984375 11.859375 \r\nQ 46.1875 17.53125 46.1875 27.296875 \r\nQ 46.1875 37.015625 41.984375 42.703125 \r\nQ 37.796875 48.390625 30.609375 48.390625 \r\nz\r\nM 30.609375 56 \r\nQ 42.328125 56 49.015625 48.375 \r\nQ 55.71875 40.765625 55.71875 27.296875 \r\nQ 55.71875 13.875 49.015625 6.21875 \r\nQ 42.328125 -1.421875 30.609375 -1.421875 \r\nQ 18.84375 -1.421875 12.171875 6.21875 \r\nQ 5.515625 13.875 5.515625 27.296875 \r\nQ 5.515625 40.765625 12.171875 48.375 \r\nQ 18.84375 56 30.609375 56 \r\nz\r\n\" id=\"DejaVuSans-111\"/>\r\n       <path d=\"M 8.59375 75.984375 \r\nL 29.296875 75.984375 \r\nL 29.296875 69 \r\nL 17.578125 69 \r\nL 17.578125 -6.203125 \r\nL 29.296875 -6.203125 \r\nL 29.296875 -13.1875 \r\nL 8.59375 -13.1875 \r\nz\r\n\" id=\"DejaVuSans-91\"/>\r\n       <path d=\"M 34.1875 63.1875 \r\nL 20.796875 26.90625 \r\nL 47.609375 26.90625 \r\nz\r\nM 28.609375 72.90625 \r\nL 39.796875 72.90625 \r\nL 67.578125 0 \r\nL 57.328125 0 \r\nL 50.6875 18.703125 \r\nL 17.828125 18.703125 \r\nL 11.1875 0 \r\nL 0.78125 0 \r\nz\r\n\" id=\"DejaVuSans-65\"/>\r\n       <path d=\"M 30.421875 75.984375 \r\nL 30.421875 -13.1875 \r\nL 9.71875 -13.1875 \r\nL 9.71875 -6.203125 \r\nL 21.390625 -6.203125 \r\nL 21.390625 69 \r\nL 9.71875 69 \r\nL 9.71875 75.984375 \r\nz\r\n\" id=\"DejaVuSans-93\"/>\r\n      </defs>\r\n      <use xlink:href=\"#DejaVuSans-67\"/>\r\n      <use x=\"69.824219\" xlink:href=\"#DejaVuSans-117\"/>\r\n      <use x=\"133.203125\" xlink:href=\"#DejaVuSans-114\"/>\r\n      <use x=\"172.566406\" xlink:href=\"#DejaVuSans-114\"/>\r\n      <use x=\"211.429688\" xlink:href=\"#DejaVuSans-101\"/>\r\n      <use x=\"272.953125\" xlink:href=\"#DejaVuSans-110\"/>\r\n      <use x=\"336.332031\" xlink:href=\"#DejaVuSans-116\"/>\r\n      <use x=\"375.541016\" xlink:href=\"#DejaVuSans-32\"/>\r\n      <use x=\"407.328125\" xlink:href=\"#DejaVuSans-102\"/>\r\n      <use x=\"442.533203\" xlink:href=\"#DejaVuSans-117\"/>\r\n      <use x=\"505.912109\" xlink:href=\"#DejaVuSans-110\"/>\r\n      <use x=\"569.291016\" xlink:href=\"#DejaVuSans-99\"/>\r\n      <use x=\"624.271484\" xlink:href=\"#DejaVuSans-116\"/>\r\n      <use x=\"663.480469\" xlink:href=\"#DejaVuSans-105\"/>\r\n      <use x=\"691.263672\" xlink:href=\"#DejaVuSans-111\"/>\r\n      <use x=\"752.445312\" xlink:href=\"#DejaVuSans-110\"/>\r\n      <use x=\"815.824219\" xlink:href=\"#DejaVuSans-32\"/>\r\n      <use x=\"847.611328\" xlink:href=\"#DejaVuSans-91\"/>\r\n      <use x=\"886.625\" xlink:href=\"#DejaVuSans-65\"/>\r\n      <use x=\"955.033203\" xlink:href=\"#DejaVuSans-93\"/>\r\n     </g>\r\n    </g>\r\n   </g>\r\n   <g id=\"line2d_17\">\r\n    <path clip-path=\"url(#pc2c74088d0)\" d=\"M 73.744901 131.038125 \r\nL 78.903606 108.932677 \r\nL 84.062312 87.826245 \r\nL 89.221018 68.672697 \r\nL 94.379723 52.337644 \r\nL 99.538429 39.559319 \r\nL 104.697135 30.915216 \r\nL 109.85584 26.795989 \r\nL 115.014546 27.3878 \r\nL 120.173252 32.663904 \r\nL 125.331958 42.385855 \r\nL 130.490663 56.114287 \r\nL 135.649369 73.22877 \r\nL 140.808075 92.955843 \r\nL 145.96678 114.403977 \r\nL 151.125486 136.603862 \r\nL 156.284192 158.552213 \r\nL 161.442897 179.257114 \r\nL 166.601603 197.782844 \r\nL 171.760309 213.292164 \r\nL 176.919015 225.08416 \r\nL 182.07772 232.625913 \r\nL 187.236426 235.576587 \r\nL 192.395132 233.80283 \r\nL 197.553837 227.384806 \r\nL 202.712543 216.612565 \r\nL 207.871249 201.972939 \r\nL 213.029954 184.127541 \r\nL 218.18866 163.882861 \r\nL 223.347366 142.153822 \r\nL 228.506072 119.922428 \r\nL 233.664777 98.193389 \r\nL 238.823483 77.948709 \r\nL 243.982189 60.103311 \r\nL 249.140894 45.463685 \r\nL 254.2996 34.691444 \r\nL 259.458306 28.27342 \r\nL 264.617012 26.499663 \r\nL 269.775717 29.450337 \r\nL 274.934423 36.99209 \r\nL 280.093129 48.784086 \r\nL 285.251834 64.293406 \r\nL 290.41054 82.819136 \r\nL 295.569246 103.524037 \r\nL 300.727951 125.472388 \r\nL 305.886657 147.672273 \r\nL 311.045363 169.120407 \r\nL 316.204069 188.84748 \r\nL 321.362774 205.961963 \r\nL 326.52148 219.690395 \r\nL 331.680186 229.412346 \r\nL 336.838891 234.68845 \r\nL 341.997597 235.280261 \r\nL 347.156303 231.161034 \r\nL 352.315008 222.516931 \r\nL 357.473714 209.738606 \r\nL 362.63242 193.403553 \r\nL 367.791126 174.250005 \r\nL 372.949831 153.143573 \r\nL 378.108537 131.038125 \r\n\" style=\"fill:none;stroke:#ff0000;stroke-linecap:square;stroke-width:1.8;\"/>\r\n   </g>\r\n   <g id=\"patch_3\">\r\n    <path d=\"M 58.526719 239.758125 \r\nL 58.526719 22.318125 \r\n\" style=\"fill:none;stroke:#000000;stroke-linecap:square;stroke-linejoin:miter;stroke-width:0.8;\"/>\r\n   </g>\r\n   <g id=\"patch_4\">\r\n    <path d=\"M 393.326719 239.758125 \r\nL 393.326719 22.318125 \r\n\" style=\"fill:none;stroke:#000000;stroke-linecap:square;stroke-linejoin:miter;stroke-width:0.8;\"/>\r\n   </g>\r\n   <g id=\"patch_5\">\r\n    <path d=\"M 58.526719 239.758125 \r\nL 393.326719 239.758125 \r\n\" style=\"fill:none;stroke:#000000;stroke-linecap:square;stroke-linejoin:miter;stroke-width:0.8;\"/>\r\n   </g>\r\n   <g id=\"patch_6\">\r\n    <path d=\"M 58.526719 22.318125 \r\nL 393.326719 22.318125 \r\n\" style=\"fill:none;stroke:#000000;stroke-linecap:square;stroke-linejoin:miter;stroke-width:0.8;\"/>\r\n   </g>\r\n   <g id=\"text_19\">\r\n    <!-- Plotting a function parameter -->\r\n    <g transform=\"translate(137.405156 16.318125)scale(0.12 -0.12)\">\r\n     <defs>\r\n      <path d=\"M 19.671875 64.796875 \r\nL 19.671875 37.40625 \r\nL 32.078125 37.40625 \r\nQ 38.96875 37.40625 42.71875 40.96875 \r\nQ 46.484375 44.53125 46.484375 51.125 \r\nQ 46.484375 57.671875 42.71875 61.234375 \r\nQ 38.96875 64.796875 32.078125 64.796875 \r\nz\r\nM 9.8125 72.90625 \r\nL 32.078125 72.90625 \r\nQ 44.34375 72.90625 50.609375 67.359375 \r\nQ 56.890625 61.8125 56.890625 51.125 \r\nQ 56.890625 40.328125 50.609375 34.8125 \r\nQ 44.34375 29.296875 32.078125 29.296875 \r\nL 19.671875 29.296875 \r\nL 19.671875 0 \r\nL 9.8125 0 \r\nz\r\n\" id=\"DejaVuSans-80\"/>\r\n      <path d=\"M 9.421875 75.984375 \r\nL 18.40625 75.984375 \r\nL 18.40625 0 \r\nL 9.421875 0 \r\nz\r\n\" id=\"DejaVuSans-108\"/>\r\n      <path d=\"M 45.40625 27.984375 \r\nQ 45.40625 37.75 41.375 43.109375 \r\nQ 37.359375 48.484375 30.078125 48.484375 \r\nQ 22.859375 48.484375 18.828125 43.109375 \r\nQ 14.796875 37.75 14.796875 27.984375 \r\nQ 14.796875 18.265625 18.828125 12.890625 \r\nQ 22.859375 7.515625 30.078125 7.515625 \r\nQ 37.359375 7.515625 41.375 12.890625 \r\nQ 45.40625 18.265625 45.40625 27.984375 \r\nz\r\nM 54.390625 6.78125 \r\nQ 54.390625 -7.171875 48.1875 -13.984375 \r\nQ 42 -20.796875 29.203125 -20.796875 \r\nQ 24.46875 -20.796875 20.265625 -20.09375 \r\nQ 16.0625 -19.390625 12.109375 -17.921875 \r\nL 12.109375 -9.1875 \r\nQ 16.0625 -11.328125 19.921875 -12.34375 \r\nQ 23.78125 -13.375 27.78125 -13.375 \r\nQ 36.625 -13.375 41.015625 -8.765625 \r\nQ 45.40625 -4.15625 45.40625 5.171875 \r\nL 45.40625 9.625 \r\nQ 42.625 4.78125 38.28125 2.390625 \r\nQ 33.9375 0 27.875 0 \r\nQ 17.828125 0 11.671875 7.65625 \r\nQ 5.515625 15.328125 5.515625 27.984375 \r\nQ 5.515625 40.671875 11.671875 48.328125 \r\nQ 17.828125 56 27.875 56 \r\nQ 33.9375 56 38.28125 53.609375 \r\nQ 42.625 51.21875 45.40625 46.390625 \r\nL 45.40625 54.6875 \r\nL 54.390625 54.6875 \r\nz\r\n\" id=\"DejaVuSans-103\"/>\r\n      <path d=\"M 34.28125 27.484375 \r\nQ 23.390625 27.484375 19.1875 25 \r\nQ 14.984375 22.515625 14.984375 16.5 \r\nQ 14.984375 11.71875 18.140625 8.90625 \r\nQ 21.296875 6.109375 26.703125 6.109375 \r\nQ 34.1875 6.109375 38.703125 11.40625 \r\nQ 43.21875 16.703125 43.21875 25.484375 \r\nL 43.21875 27.484375 \r\nz\r\nM 52.203125 31.203125 \r\nL 52.203125 0 \r\nL 43.21875 0 \r\nL 43.21875 8.296875 \r\nQ 40.140625 3.328125 35.546875 0.953125 \r\nQ 30.953125 -1.421875 24.3125 -1.421875 \r\nQ 15.921875 -1.421875 10.953125 3.296875 \r\nQ 6 8.015625 6 15.921875 \r\nQ 6 25.140625 12.171875 29.828125 \r\nQ 18.359375 34.515625 30.609375 34.515625 \r\nL 43.21875 34.515625 \r\nL 43.21875 35.40625 \r\nQ 43.21875 41.609375 39.140625 45 \r\nQ 35.0625 48.390625 27.6875 48.390625 \r\nQ 23 48.390625 18.546875 47.265625 \r\nQ 14.109375 46.140625 10.015625 43.890625 \r\nL 10.015625 52.203125 \r\nQ 14.9375 54.109375 19.578125 55.046875 \r\nQ 24.21875 56 28.609375 56 \r\nQ 40.484375 56 46.34375 49.84375 \r\nQ 52.203125 43.703125 52.203125 31.203125 \r\nz\r\n\" id=\"DejaVuSans-97\"/>\r\n      <path d=\"M 18.109375 8.203125 \r\nL 18.109375 -20.796875 \r\nL 9.078125 -20.796875 \r\nL 9.078125 54.6875 \r\nL 18.109375 54.6875 \r\nL 18.109375 46.390625 \r\nQ 20.953125 51.265625 25.265625 53.625 \r\nQ 29.59375 56 35.59375 56 \r\nQ 45.5625 56 51.78125 48.09375 \r\nQ 58.015625 40.1875 58.015625 27.296875 \r\nQ 58.015625 14.40625 51.78125 6.484375 \r\nQ 45.5625 -1.421875 35.59375 -1.421875 \r\nQ 29.59375 -1.421875 25.265625 0.953125 \r\nQ 20.953125 3.328125 18.109375 8.203125 \r\nz\r\nM 48.6875 27.296875 \r\nQ 48.6875 37.203125 44.609375 42.84375 \r\nQ 40.53125 48.484375 33.40625 48.484375 \r\nQ 26.265625 48.484375 22.1875 42.84375 \r\nQ 18.109375 37.203125 18.109375 27.296875 \r\nQ 18.109375 17.390625 22.1875 11.75 \r\nQ 26.265625 6.109375 33.40625 6.109375 \r\nQ 40.53125 6.109375 44.609375 11.75 \r\nQ 48.6875 17.390625 48.6875 27.296875 \r\nz\r\n\" id=\"DejaVuSans-112\"/>\r\n     </defs>\r\n     <use xlink:href=\"#DejaVuSans-80\"/>\r\n     <use x=\"60.302734\" xlink:href=\"#DejaVuSans-108\"/>\r\n     <use x=\"88.085938\" xlink:href=\"#DejaVuSans-111\"/>\r\n     <use x=\"149.267578\" xlink:href=\"#DejaVuSans-116\"/>\r\n     <use x=\"188.476562\" xlink:href=\"#DejaVuSans-116\"/>\r\n     <use x=\"227.685547\" xlink:href=\"#DejaVuSans-105\"/>\r\n     <use x=\"255.46875\" xlink:href=\"#DejaVuSans-110\"/>\r\n     <use x=\"318.847656\" xlink:href=\"#DejaVuSans-103\"/>\r\n     <use x=\"382.324219\" xlink:href=\"#DejaVuSans-32\"/>\r\n     <use x=\"414.111328\" xlink:href=\"#DejaVuSans-97\"/>\r\n     <use x=\"475.390625\" xlink:href=\"#DejaVuSans-32\"/>\r\n     <use x=\"507.177734\" xlink:href=\"#DejaVuSans-102\"/>\r\n     <use x=\"542.382812\" xlink:href=\"#DejaVuSans-117\"/>\r\n     <use x=\"605.761719\" xlink:href=\"#DejaVuSans-110\"/>\r\n     <use x=\"669.140625\" xlink:href=\"#DejaVuSans-99\"/>\r\n     <use x=\"724.121094\" xlink:href=\"#DejaVuSans-116\"/>\r\n     <use x=\"763.330078\" xlink:href=\"#DejaVuSans-105\"/>\r\n     <use x=\"791.113281\" xlink:href=\"#DejaVuSans-111\"/>\r\n     <use x=\"852.294922\" xlink:href=\"#DejaVuSans-110\"/>\r\n     <use x=\"915.673828\" xlink:href=\"#DejaVuSans-32\"/>\r\n     <use x=\"947.460938\" xlink:href=\"#DejaVuSans-112\"/>\r\n     <use x=\"1010.9375\" xlink:href=\"#DejaVuSans-97\"/>\r\n     <use x=\"1072.216797\" xlink:href=\"#DejaVuSans-114\"/>\r\n     <use x=\"1113.330078\" xlink:href=\"#DejaVuSans-97\"/>\r\n     <use x=\"1174.609375\" xlink:href=\"#DejaVuSans-109\"/>\r\n     <use x=\"1272.021484\" xlink:href=\"#DejaVuSans-101\"/>\r\n     <use x=\"1333.544922\" xlink:href=\"#DejaVuSans-116\"/>\r\n     <use x=\"1372.753906\" xlink:href=\"#DejaVuSans-101\"/>\r\n     <use x=\"1434.277344\" xlink:href=\"#DejaVuSans-114\"/>\r\n    </g>\r\n   </g>\r\n  </g>\r\n </g>\r\n <defs>\r\n  <clipPath id=\"pc2c74088d0\">\r\n   <rect height=\"217.44\" width=\"334.8\" x=\"58.526719\" y=\"22.318125\"/>\r\n  </clipPath>\r\n </defs>\r\n</svg>\r\n",
      "image/png": "[encoded data removed]"
     },
     "metadata": {
      "needs_background": "light"
     }
    }
   ],
   "source": [
    "currentfunc = param[\"Current function [A]\"]\n",
    "time = pybamm.linspace(0, 120, 60)\n",
    "evaluated = currentfunc(time)\n",
    "processed = param.process_symbol(evaluated)\n",
    "pybamm.plot(time, processed, xlabel=\"time\", ylabel=\"Current function [A]\", title=\"Plotting a function parameter\")\n"
   ]
  },
  {
   "source": [
    "Taking another such example:\n",
    "\n",
    "### Plotting \"Negative electrode exchange-current density \\[A.m-2]\""
   ],
   "cell_type": "markdown",
   "metadata": {}
  },
  {
   "cell_type": "code",
   "execution_count": 18,
   "metadata": {},
   "outputs": [
    {
     "output_type": "display_data",
     "data": {
      "text/plain": "<Figure size 432x288 with 1 Axes>",
      "image/svg+xml": "<?xml version=\"1.0\" encoding=\"utf-8\" standalone=\"no\"?>\r\n<!DOCTYPE svg PUBLIC \"-//W3C//DTD SVG 1.1//EN\"\r\n  \"http://www.w3.org/Graphics/SVG/1.1/DTD/svg11.dtd\">\r\n<!-- Created with matplotlib (https://matplotlib.org/) -->\r\n<svg height=\"307.910937pt\" version=\"1.1\" viewBox=\"0 0 392.985 307.910937\" width=\"392.985pt\" xmlns=\"http://www.w3.org/2000/svg\" xmlns:xlink=\"http://www.w3.org/1999/xlink\">\r\n <metadata>\r\n  <rdf:RDF xmlns:cc=\"http://creativecommons.org/ns#\" xmlns:dc=\"http://purl.org/dc/elements/1.1/\" xmlns:rdf=\"http://www.w3.org/1999/02/22-rdf-syntax-ns#\">\r\n   <cc:Work>\r\n    <dc:type rdf:resource=\"http://purl.org/dc/dcmitype/StillImage\"/>\r\n    <dc:date>2021-04-28T19:37:11.997063</dc:date>\r\n    <dc:format>image/svg+xml</dc:format>\r\n    <dc:creator>\r\n     <cc:Agent>\r\n      <dc:title>Matplotlib v3.3.3, https://matplotlib.org/</dc:title>\r\n     </cc:Agent>\r\n    </dc:creator>\r\n   </cc:Work>\r\n  </rdf:RDF>\r\n </metadata>\r\n <defs>\r\n  <style type=\"text/css\">*{stroke-linecap:butt;stroke-linejoin:round;}</style>\r\n </defs>\r\n <g id=\"figure_1\">\r\n  <g id=\"patch_1\">\r\n   <path d=\"M 0 307.910937 \r\nL 392.985 307.910937 \r\nL 392.985 0 \r\nL 0 0 \r\nz\r\n\" style=\"fill:none;\"/>\r\n  </g>\r\n  <g id=\"axes_1\">\r\n   <g id=\"patch_2\">\r\n    <path d=\"M 50.985 262.675469 \r\nL 385.785 262.675469 \r\nL 385.785 45.235469 \r\nL 50.985 45.235469 \r\nz\r\n\" style=\"fill:#ffffff;\"/>\r\n   </g>\r\n   <g id=\"matplotlib.axis_1\">\r\n    <g id=\"xtick_1\">\r\n     <g id=\"line2d_1\">\r\n      <defs>\r\n       <path d=\"M 0 0 \r\nL 0 3.5 \r\n\" id=\"m02cd51e5a7\" style=\"stroke:#000000;stroke-width:0.8;\"/>\r\n      </defs>\r\n      <g>\r\n       <use style=\"stroke:#000000;stroke-width:0.8;\" x=\"66.203182\" xlink:href=\"#m02cd51e5a7\" y=\"262.675469\"/>\r\n      </g>\r\n     </g>\r\n     <g id=\"text_1\">\r\n      <!-- 3000 -->\r\n      <g transform=\"translate(54.750682 278.614062)scale(0.09 -0.09)\">\r\n       <defs>\r\n        <path d=\"M 40.578125 39.3125 \r\nQ 47.65625 37.796875 51.625 33 \r\nQ 55.609375 28.21875 55.609375 21.1875 \r\nQ 55.609375 10.40625 48.1875 4.484375 \r\nQ 40.765625 -1.421875 27.09375 -1.421875 \r\nQ 22.515625 -1.421875 17.65625 -0.515625 \r\nQ 12.796875 0.390625 7.625 2.203125 \r\nL 7.625 11.71875 \r\nQ 11.71875 9.328125 16.59375 8.109375 \r\nQ 21.484375 6.890625 26.8125 6.890625 \r\nQ 36.078125 6.890625 40.9375 10.546875 \r\nQ 45.796875 14.203125 45.796875 21.1875 \r\nQ 45.796875 27.640625 41.28125 31.265625 \r\nQ 36.765625 34.90625 28.71875 34.90625 \r\nL 20.21875 34.90625 \r\nL 20.21875 43.015625 \r\nL 29.109375 43.015625 \r\nQ 36.375 43.015625 40.234375 45.921875 \r\nQ 44.09375 48.828125 44.09375 54.296875 \r\nQ 44.09375 59.90625 40.109375 62.90625 \r\nQ 36.140625 65.921875 28.71875 65.921875 \r\nQ 24.65625 65.921875 20.015625 65.03125 \r\nQ 15.375 64.15625 9.8125 62.3125 \r\nL 9.8125 71.09375 \r\nQ 15.4375 72.65625 20.34375 73.4375 \r\nQ 25.25 74.21875 29.59375 74.21875 \r\nQ 40.828125 74.21875 47.359375 69.109375 \r\nQ 53.90625 64.015625 53.90625 55.328125 \r\nQ 53.90625 49.265625 50.4375 45.09375 \r\nQ 46.96875 40.921875 40.578125 39.3125 \r\nz\r\n\" id=\"DejaVuSans-51\"/>\r\n        <path d=\"M 31.78125 66.40625 \r\nQ 24.171875 66.40625 20.328125 58.90625 \r\nQ 16.5 51.421875 16.5 36.375 \r\nQ 16.5 21.390625 20.328125 13.890625 \r\nQ 24.171875 6.390625 31.78125 6.390625 \r\nQ 39.453125 6.390625 43.28125 13.890625 \r\nQ 47.125 21.390625 47.125 36.375 \r\nQ 47.125 51.421875 43.28125 58.90625 \r\nQ 39.453125 66.40625 31.78125 66.40625 \r\nz\r\nM 31.78125 74.21875 \r\nQ 44.046875 74.21875 50.515625 64.515625 \r\nQ 56.984375 54.828125 56.984375 36.375 \r\nQ 56.984375 17.96875 50.515625 8.265625 \r\nQ 44.046875 -1.421875 31.78125 -1.421875 \r\nQ 19.53125 -1.421875 13.0625 8.265625 \r\nQ 6.59375 17.96875 6.59375 36.375 \r\nQ 6.59375 54.828125 13.0625 64.515625 \r\nQ 19.53125 74.21875 31.78125 74.21875 \r\nz\r\n\" id=\"DejaVuSans-48\"/>\r\n       </defs>\r\n       <use xlink:href=\"#DejaVuSans-51\"/>\r\n       <use x=\"63.623047\" xlink:href=\"#DejaVuSans-48\"/>\r\n       <use x=\"127.246094\" xlink:href=\"#DejaVuSans-48\"/>\r\n       <use x=\"190.869141\" xlink:href=\"#DejaVuSans-48\"/>\r\n      </g>\r\n     </g>\r\n    </g>\r\n    <g id=\"xtick_2\">\r\n     <g id=\"line2d_2\">\r\n      <g>\r\n       <use style=\"stroke:#000000;stroke-width:0.8;\" x=\"116.930455\" xlink:href=\"#m02cd51e5a7\" y=\"262.675469\"/>\r\n      </g>\r\n     </g>\r\n     <g id=\"text_2\">\r\n      <!-- 3500 -->\r\n      <g transform=\"translate(105.477955 278.614062)scale(0.09 -0.09)\">\r\n       <defs>\r\n        <path d=\"M 10.796875 72.90625 \r\nL 49.515625 72.90625 \r\nL 49.515625 64.59375 \r\nL 19.828125 64.59375 \r\nL 19.828125 46.734375 \r\nQ 21.96875 47.46875 24.109375 47.828125 \r\nQ 26.265625 48.1875 28.421875 48.1875 \r\nQ 40.625 48.1875 47.75 41.5 \r\nQ 54.890625 34.8125 54.890625 23.390625 \r\nQ 54.890625 11.625 47.5625 5.09375 \r\nQ 40.234375 -1.421875 26.90625 -1.421875 \r\nQ 22.3125 -1.421875 17.546875 -0.640625 \r\nQ 12.796875 0.140625 7.71875 1.703125 \r\nL 7.71875 11.625 \r\nQ 12.109375 9.234375 16.796875 8.0625 \r\nQ 21.484375 6.890625 26.703125 6.890625 \r\nQ 35.15625 6.890625 40.078125 11.328125 \r\nQ 45.015625 15.765625 45.015625 23.390625 \r\nQ 45.015625 31 40.078125 35.4375 \r\nQ 35.15625 39.890625 26.703125 39.890625 \r\nQ 22.75 39.890625 18.8125 39.015625 \r\nQ 14.890625 38.140625 10.796875 36.28125 \r\nz\r\n\" id=\"DejaVuSans-53\"/>\r\n       </defs>\r\n       <use xlink:href=\"#DejaVuSans-51\"/>\r\n       <use x=\"63.623047\" xlink:href=\"#DejaVuSans-53\"/>\r\n       <use x=\"127.246094\" xlink:href=\"#DejaVuSans-48\"/>\r\n       <use x=\"190.869141\" xlink:href=\"#DejaVuSans-48\"/>\r\n      </g>\r\n     </g>\r\n    </g>\r\n    <g id=\"xtick_3\">\r\n     <g id=\"line2d_3\">\r\n      <g>\r\n       <use style=\"stroke:#000000;stroke-width:0.8;\" x=\"167.657727\" xlink:href=\"#m02cd51e5a7\" y=\"262.675469\"/>\r\n      </g>\r\n     </g>\r\n     <g id=\"text_3\">\r\n      <!-- 4000 -->\r\n      <g transform=\"translate(156.205227 278.614062)scale(0.09 -0.09)\">\r\n       <defs>\r\n        <path d=\"M 37.796875 64.3125 \r\nL 12.890625 25.390625 \r\nL 37.796875 25.390625 \r\nz\r\nM 35.203125 72.90625 \r\nL 47.609375 72.90625 \r\nL 47.609375 25.390625 \r\nL 58.015625 25.390625 \r\nL 58.015625 17.1875 \r\nL 47.609375 17.1875 \r\nL 47.609375 0 \r\nL 37.796875 0 \r\nL 37.796875 17.1875 \r\nL 4.890625 17.1875 \r\nL 4.890625 26.703125 \r\nz\r\n\" id=\"DejaVuSans-52\"/>\r\n       </defs>\r\n       <use xlink:href=\"#DejaVuSans-52\"/>\r\n       <use x=\"63.623047\" xlink:href=\"#DejaVuSans-48\"/>\r\n       <use x=\"127.246094\" xlink:href=\"#DejaVuSans-48\"/>\r\n       <use x=\"190.869141\" xlink:href=\"#DejaVuSans-48\"/>\r\n      </g>\r\n     </g>\r\n    </g>\r\n    <g id=\"xtick_4\">\r\n     <g id=\"line2d_4\">\r\n      <g>\r\n       <use style=\"stroke:#000000;stroke-width:0.8;\" x=\"218.385\" xlink:href=\"#m02cd51e5a7\" y=\"262.675469\"/>\r\n      </g>\r\n     </g>\r\n     <g id=\"text_4\">\r\n      <!-- 4500 -->\r\n      <g transform=\"translate(206.9325 278.614062)scale(0.09 -0.09)\">\r\n       <use xlink:href=\"#DejaVuSans-52\"/>\r\n       <use x=\"63.623047\" xlink:href=\"#DejaVuSans-53\"/>\r\n       <use x=\"127.246094\" xlink:href=\"#DejaVuSans-48\"/>\r\n       <use x=\"190.869141\" xlink:href=\"#DejaVuSans-48\"/>\r\n      </g>\r\n     </g>\r\n    </g>\r\n    <g id=\"xtick_5\">\r\n     <g id=\"line2d_5\">\r\n      <g>\r\n       <use style=\"stroke:#000000;stroke-width:0.8;\" x=\"269.112273\" xlink:href=\"#m02cd51e5a7\" y=\"262.675469\"/>\r\n      </g>\r\n     </g>\r\n     <g id=\"text_5\">\r\n      <!-- 5000 -->\r\n      <g transform=\"translate(257.659773 278.614062)scale(0.09 -0.09)\">\r\n       <use xlink:href=\"#DejaVuSans-53\"/>\r\n       <use x=\"63.623047\" xlink:href=\"#DejaVuSans-48\"/>\r\n       <use x=\"127.246094\" xlink:href=\"#DejaVuSans-48\"/>\r\n       <use x=\"190.869141\" xlink:href=\"#DejaVuSans-48\"/>\r\n      </g>\r\n     </g>\r\n    </g>\r\n    <g id=\"xtick_6\">\r\n     <g id=\"line2d_6\">\r\n      <g>\r\n       <use style=\"stroke:#000000;stroke-width:0.8;\" x=\"319.839545\" xlink:href=\"#m02cd51e5a7\" y=\"262.675469\"/>\r\n      </g>\r\n     </g>\r\n     <g id=\"text_6\">\r\n      <!-- 5500 -->\r\n      <g transform=\"translate(308.387045 278.614062)scale(0.09 -0.09)\">\r\n       <use xlink:href=\"#DejaVuSans-53\"/>\r\n       <use x=\"63.623047\" xlink:href=\"#DejaVuSans-53\"/>\r\n       <use x=\"127.246094\" xlink:href=\"#DejaVuSans-48\"/>\r\n       <use x=\"190.869141\" xlink:href=\"#DejaVuSans-48\"/>\r\n      </g>\r\n     </g>\r\n    </g>\r\n    <g id=\"xtick_7\">\r\n     <g id=\"line2d_7\">\r\n      <g>\r\n       <use style=\"stroke:#000000;stroke-width:0.8;\" x=\"370.566818\" xlink:href=\"#m02cd51e5a7\" y=\"262.675469\"/>\r\n      </g>\r\n     </g>\r\n     <g id=\"text_7\">\r\n      <!-- 6000 -->\r\n      <g transform=\"translate(359.114318 278.614062)scale(0.09 -0.09)\">\r\n       <defs>\r\n        <path d=\"M 33.015625 40.375 \r\nQ 26.375 40.375 22.484375 35.828125 \r\nQ 18.609375 31.296875 18.609375 23.390625 \r\nQ 18.609375 15.53125 22.484375 10.953125 \r\nQ 26.375 6.390625 33.015625 6.390625 \r\nQ 39.65625 6.390625 43.53125 10.953125 \r\nQ 47.40625 15.53125 47.40625 23.390625 \r\nQ 47.40625 31.296875 43.53125 35.828125 \r\nQ 39.65625 40.375 33.015625 40.375 \r\nz\r\nM 52.59375 71.296875 \r\nL 52.59375 62.3125 \r\nQ 48.875 64.0625 45.09375 64.984375 \r\nQ 41.3125 65.921875 37.59375 65.921875 \r\nQ 27.828125 65.921875 22.671875 59.328125 \r\nQ 17.53125 52.734375 16.796875 39.40625 \r\nQ 19.671875 43.65625 24.015625 45.921875 \r\nQ 28.375 48.1875 33.59375 48.1875 \r\nQ 44.578125 48.1875 50.953125 41.515625 \r\nQ 57.328125 34.859375 57.328125 23.390625 \r\nQ 57.328125 12.15625 50.6875 5.359375 \r\nQ 44.046875 -1.421875 33.015625 -1.421875 \r\nQ 20.359375 -1.421875 13.671875 8.265625 \r\nQ 6.984375 17.96875 6.984375 36.375 \r\nQ 6.984375 53.65625 15.1875 63.9375 \r\nQ 23.390625 74.21875 37.203125 74.21875 \r\nQ 40.921875 74.21875 44.703125 73.484375 \r\nQ 48.484375 72.75 52.59375 71.296875 \r\nz\r\n\" id=\"DejaVuSans-54\"/>\r\n       </defs>\r\n       <use xlink:href=\"#DejaVuSans-54\"/>\r\n       <use x=\"63.623047\" xlink:href=\"#DejaVuSans-48\"/>\r\n       <use x=\"127.246094\" xlink:href=\"#DejaVuSans-48\"/>\r\n       <use x=\"190.869141\" xlink:href=\"#DejaVuSans-48\"/>\r\n      </g>\r\n     </g>\r\n    </g>\r\n    <g id=\"text_8\">\r\n     <!-- time -->\r\n     <g transform=\"translate(205.959297 292.844062)scale(0.11 -0.11)\">\r\n      <defs>\r\n       <path d=\"M 18.3125 70.21875 \r\nL 18.3125 54.6875 \r\nL 36.8125 54.6875 \r\nL 36.8125 47.703125 \r\nL 18.3125 47.703125 \r\nL 18.3125 18.015625 \r\nQ 18.3125 11.328125 20.140625 9.421875 \r\nQ 21.96875 7.515625 27.59375 7.515625 \r\nL 36.8125 7.515625 \r\nL 36.8125 0 \r\nL 27.59375 0 \r\nQ 17.1875 0 13.234375 3.875 \r\nQ 9.28125 7.765625 9.28125 18.015625 \r\nL 9.28125 47.703125 \r\nL 2.6875 47.703125 \r\nL 2.6875 54.6875 \r\nL 9.28125 54.6875 \r\nL 9.28125 70.21875 \r\nz\r\n\" id=\"DejaVuSans-116\"/>\r\n       <path d=\"M 9.421875 54.6875 \r\nL 18.40625 54.6875 \r\nL 18.40625 0 \r\nL 9.421875 0 \r\nz\r\nM 9.421875 75.984375 \r\nL 18.40625 75.984375 \r\nL 18.40625 64.59375 \r\nL 9.421875 64.59375 \r\nz\r\n\" id=\"DejaVuSans-105\"/>\r\n       <path d=\"M 52 44.1875 \r\nQ 55.375 50.25 60.0625 53.125 \r\nQ 64.75 56 71.09375 56 \r\nQ 79.640625 56 84.28125 50.015625 \r\nQ 88.921875 44.046875 88.921875 33.015625 \r\nL 88.921875 0 \r\nL 79.890625 0 \r\nL 79.890625 32.71875 \r\nQ 79.890625 40.578125 77.09375 44.375 \r\nQ 74.3125 48.1875 68.609375 48.1875 \r\nQ 61.625 48.1875 57.5625 43.546875 \r\nQ 53.515625 38.921875 53.515625 30.90625 \r\nL 53.515625 0 \r\nL 44.484375 0 \r\nL 44.484375 32.71875 \r\nQ 44.484375 40.625 41.703125 44.40625 \r\nQ 38.921875 48.1875 33.109375 48.1875 \r\nQ 26.21875 48.1875 22.15625 43.53125 \r\nQ 18.109375 38.875 18.109375 30.90625 \r\nL 18.109375 0 \r\nL 9.078125 0 \r\nL 9.078125 54.6875 \r\nL 18.109375 54.6875 \r\nL 18.109375 46.1875 \r\nQ 21.1875 51.21875 25.484375 53.609375 \r\nQ 29.78125 56 35.6875 56 \r\nQ 41.65625 56 45.828125 52.96875 \r\nQ 50 49.953125 52 44.1875 \r\nz\r\n\" id=\"DejaVuSans-109\"/>\r\n       <path d=\"M 56.203125 29.59375 \r\nL 56.203125 25.203125 \r\nL 14.890625 25.203125 \r\nQ 15.484375 15.921875 20.484375 11.0625 \r\nQ 25.484375 6.203125 34.421875 6.203125 \r\nQ 39.59375 6.203125 44.453125 7.46875 \r\nQ 49.3125 8.734375 54.109375 11.28125 \r\nL 54.109375 2.78125 \r\nQ 49.265625 0.734375 44.1875 -0.34375 \r\nQ 39.109375 -1.421875 33.890625 -1.421875 \r\nQ 20.796875 -1.421875 13.15625 6.1875 \r\nQ 5.515625 13.8125 5.515625 26.8125 \r\nQ 5.515625 40.234375 12.765625 48.109375 \r\nQ 20.015625 56 32.328125 56 \r\nQ 43.359375 56 49.78125 48.890625 \r\nQ 56.203125 41.796875 56.203125 29.59375 \r\nz\r\nM 47.21875 32.234375 \r\nQ 47.125 39.59375 43.09375 43.984375 \r\nQ 39.0625 48.390625 32.421875 48.390625 \r\nQ 24.90625 48.390625 20.390625 44.140625 \r\nQ 15.875 39.890625 15.1875 32.171875 \r\nz\r\n\" id=\"DejaVuSans-101\"/>\r\n      </defs>\r\n      <use xlink:href=\"#DejaVuSans-116\"/>\r\n      <use x=\"39.208984\" xlink:href=\"#DejaVuSans-105\"/>\r\n      <use x=\"66.992188\" xlink:href=\"#DejaVuSans-109\"/>\r\n      <use x=\"164.404297\" xlink:href=\"#DejaVuSans-101\"/>\r\n     </g>\r\n    </g>\r\n   </g>\r\n   <g id=\"matplotlib.axis_2\">\r\n    <g id=\"ytick_1\">\r\n     <g id=\"line2d_8\">\r\n      <defs>\r\n       <path d=\"M 0 0 \r\nL -3.5 0 \r\n\" id=\"mc15e3efdca\" style=\"stroke:#000000;stroke-width:0.8;\"/>\r\n      </defs>\r\n      <g>\r\n       <use style=\"stroke:#000000;stroke-width:0.8;\" x=\"50.985\" xlink:href=\"#mc15e3efdca\" y=\"225.225982\"/>\r\n      </g>\r\n     </g>\r\n     <g id=\"text_9\">\r\n      <!-- 0.22 -->\r\n      <g transform=\"translate(21.845938 228.645279)scale(0.09 -0.09)\">\r\n       <defs>\r\n        <path d=\"M 10.6875 12.40625 \r\nL 21 12.40625 \r\nL 21 0 \r\nL 10.6875 0 \r\nz\r\n\" id=\"DejaVuSans-46\"/>\r\n        <path d=\"M 19.1875 8.296875 \r\nL 53.609375 8.296875 \r\nL 53.609375 0 \r\nL 7.328125 0 \r\nL 7.328125 8.296875 \r\nQ 12.9375 14.109375 22.625 23.890625 \r\nQ 32.328125 33.6875 34.8125 36.53125 \r\nQ 39.546875 41.84375 41.421875 45.53125 \r\nQ 43.3125 49.21875 43.3125 52.78125 \r\nQ 43.3125 58.59375 39.234375 62.25 \r\nQ 35.15625 65.921875 28.609375 65.921875 \r\nQ 23.96875 65.921875 18.8125 64.3125 \r\nQ 13.671875 62.703125 7.8125 59.421875 \r\nL 7.8125 69.390625 \r\nQ 13.765625 71.78125 18.9375 73 \r\nQ 24.125 74.21875 28.421875 74.21875 \r\nQ 39.75 74.21875 46.484375 68.546875 \r\nQ 53.21875 62.890625 53.21875 53.421875 \r\nQ 53.21875 48.921875 51.53125 44.890625 \r\nQ 49.859375 40.875 45.40625 35.40625 \r\nQ 44.1875 33.984375 37.640625 27.21875 \r\nQ 31.109375 20.453125 19.1875 8.296875 \r\nz\r\n\" id=\"DejaVuSans-50\"/>\r\n       </defs>\r\n       <use xlink:href=\"#DejaVuSans-48\"/>\r\n       <use x=\"63.623047\" xlink:href=\"#DejaVuSans-46\"/>\r\n       <use x=\"95.410156\" xlink:href=\"#DejaVuSans-50\"/>\r\n       <use x=\"159.033203\" xlink:href=\"#DejaVuSans-50\"/>\r\n      </g>\r\n     </g>\r\n    </g>\r\n    <g id=\"ytick_2\">\r\n     <g id=\"line2d_9\">\r\n      <g>\r\n       <use style=\"stroke:#000000;stroke-width:0.8;\" x=\"50.985\" xlink:href=\"#mc15e3efdca\" y=\"178.262098\"/>\r\n      </g>\r\n     </g>\r\n     <g id=\"text_10\">\r\n      <!-- 0.24 -->\r\n      <g transform=\"translate(21.845938 181.681395)scale(0.09 -0.09)\">\r\n       <use xlink:href=\"#DejaVuSans-48\"/>\r\n       <use x=\"63.623047\" xlink:href=\"#DejaVuSans-46\"/>\r\n       <use x=\"95.410156\" xlink:href=\"#DejaVuSans-50\"/>\r\n       <use x=\"159.033203\" xlink:href=\"#DejaVuSans-52\"/>\r\n      </g>\r\n     </g>\r\n    </g>\r\n    <g id=\"ytick_3\">\r\n     <g id=\"line2d_10\">\r\n      <g>\r\n       <use style=\"stroke:#000000;stroke-width:0.8;\" x=\"50.985\" xlink:href=\"#mc15e3efdca\" y=\"131.298213\"/>\r\n      </g>\r\n     </g>\r\n     <g id=\"text_11\">\r\n      <!-- 0.26 -->\r\n      <g transform=\"translate(21.845938 134.71751)scale(0.09 -0.09)\">\r\n       <use xlink:href=\"#DejaVuSans-48\"/>\r\n       <use x=\"63.623047\" xlink:href=\"#DejaVuSans-46\"/>\r\n       <use x=\"95.410156\" xlink:href=\"#DejaVuSans-50\"/>\r\n       <use x=\"159.033203\" xlink:href=\"#DejaVuSans-54\"/>\r\n      </g>\r\n     </g>\r\n    </g>\r\n    <g id=\"ytick_4\">\r\n     <g id=\"line2d_11\">\r\n      <g>\r\n       <use style=\"stroke:#000000;stroke-width:0.8;\" x=\"50.985\" xlink:href=\"#mc15e3efdca\" y=\"84.334329\"/>\r\n      </g>\r\n     </g>\r\n     <g id=\"text_12\">\r\n      <!-- 0.28 -->\r\n      <g transform=\"translate(21.845938 87.753626)scale(0.09 -0.09)\">\r\n       <defs>\r\n        <path d=\"M 31.78125 34.625 \r\nQ 24.75 34.625 20.71875 30.859375 \r\nQ 16.703125 27.09375 16.703125 20.515625 \r\nQ 16.703125 13.921875 20.71875 10.15625 \r\nQ 24.75 6.390625 31.78125 6.390625 \r\nQ 38.8125 6.390625 42.859375 10.171875 \r\nQ 46.921875 13.96875 46.921875 20.515625 \r\nQ 46.921875 27.09375 42.890625 30.859375 \r\nQ 38.875 34.625 31.78125 34.625 \r\nz\r\nM 21.921875 38.8125 \r\nQ 15.578125 40.375 12.03125 44.71875 \r\nQ 8.5 49.078125 8.5 55.328125 \r\nQ 8.5 64.0625 14.71875 69.140625 \r\nQ 20.953125 74.21875 31.78125 74.21875 \r\nQ 42.671875 74.21875 48.875 69.140625 \r\nQ 55.078125 64.0625 55.078125 55.328125 \r\nQ 55.078125 49.078125 51.53125 44.71875 \r\nQ 48 40.375 41.703125 38.8125 \r\nQ 48.828125 37.15625 52.796875 32.3125 \r\nQ 56.78125 27.484375 56.78125 20.515625 \r\nQ 56.78125 9.90625 50.3125 4.234375 \r\nQ 43.84375 -1.421875 31.78125 -1.421875 \r\nQ 19.734375 -1.421875 13.25 4.234375 \r\nQ 6.78125 9.90625 6.78125 20.515625 \r\nQ 6.78125 27.484375 10.78125 32.3125 \r\nQ 14.796875 37.15625 21.921875 38.8125 \r\nz\r\nM 18.3125 54.390625 \r\nQ 18.3125 48.734375 21.84375 45.5625 \r\nQ 25.390625 42.390625 31.78125 42.390625 \r\nQ 38.140625 42.390625 41.71875 45.5625 \r\nQ 45.3125 48.734375 45.3125 54.390625 \r\nQ 45.3125 60.0625 41.71875 63.234375 \r\nQ 38.140625 66.40625 31.78125 66.40625 \r\nQ 25.390625 66.40625 21.84375 63.234375 \r\nQ 18.3125 60.0625 18.3125 54.390625 \r\nz\r\n\" id=\"DejaVuSans-56\"/>\r\n       </defs>\r\n       <use xlink:href=\"#DejaVuSans-48\"/>\r\n       <use x=\"63.623047\" xlink:href=\"#DejaVuSans-46\"/>\r\n       <use x=\"95.410156\" xlink:href=\"#DejaVuSans-50\"/>\r\n       <use x=\"159.033203\" xlink:href=\"#DejaVuSans-56\"/>\r\n      </g>\r\n     </g>\r\n    </g>\r\n    <g id=\"text_13\">\r\n     <!-- Negative electrode exchange-current density [A.m-2] -->\r\n     <g transform=\"translate(15.558281 300.710937)rotate(-90)scale(0.11 -0.11)\">\r\n      <defs>\r\n       <path d=\"M 9.8125 72.90625 \r\nL 23.09375 72.90625 \r\nL 55.421875 11.921875 \r\nL 55.421875 72.90625 \r\nL 64.984375 72.90625 \r\nL 64.984375 0 \r\nL 51.703125 0 \r\nL 19.390625 60.984375 \r\nL 19.390625 0 \r\nL 9.8125 0 \r\nz\r\n\" id=\"DejaVuSans-78\"/>\r\n       <path d=\"M 45.40625 27.984375 \r\nQ 45.40625 37.75 41.375 43.109375 \r\nQ 37.359375 48.484375 30.078125 48.484375 \r\nQ 22.859375 48.484375 18.828125 43.109375 \r\nQ 14.796875 37.75 14.796875 27.984375 \r\nQ 14.796875 18.265625 18.828125 12.890625 \r\nQ 22.859375 7.515625 30.078125 7.515625 \r\nQ 37.359375 7.515625 41.375 12.890625 \r\nQ 45.40625 18.265625 45.40625 27.984375 \r\nz\r\nM 54.390625 6.78125 \r\nQ 54.390625 -7.171875 48.1875 -13.984375 \r\nQ 42 -20.796875 29.203125 -20.796875 \r\nQ 24.46875 -20.796875 20.265625 -20.09375 \r\nQ 16.0625 -19.390625 12.109375 -17.921875 \r\nL 12.109375 -9.1875 \r\nQ 16.0625 -11.328125 19.921875 -12.34375 \r\nQ 23.78125 -13.375 27.78125 -13.375 \r\nQ 36.625 -13.375 41.015625 -8.765625 \r\nQ 45.40625 -4.15625 45.40625 5.171875 \r\nL 45.40625 9.625 \r\nQ 42.625 4.78125 38.28125 2.390625 \r\nQ 33.9375 0 27.875 0 \r\nQ 17.828125 0 11.671875 7.65625 \r\nQ 5.515625 15.328125 5.515625 27.984375 \r\nQ 5.515625 40.671875 11.671875 48.328125 \r\nQ 17.828125 56 27.875 56 \r\nQ 33.9375 56 38.28125 53.609375 \r\nQ 42.625 51.21875 45.40625 46.390625 \r\nL 45.40625 54.6875 \r\nL 54.390625 54.6875 \r\nz\r\n\" id=\"DejaVuSans-103\"/>\r\n       <path d=\"M 34.28125 27.484375 \r\nQ 23.390625 27.484375 19.1875 25 \r\nQ 14.984375 22.515625 14.984375 16.5 \r\nQ 14.984375 11.71875 18.140625 8.90625 \r\nQ 21.296875 6.109375 26.703125 6.109375 \r\nQ 34.1875 6.109375 38.703125 11.40625 \r\nQ 43.21875 16.703125 43.21875 25.484375 \r\nL 43.21875 27.484375 \r\nz\r\nM 52.203125 31.203125 \r\nL 52.203125 0 \r\nL 43.21875 0 \r\nL 43.21875 8.296875 \r\nQ 40.140625 3.328125 35.546875 0.953125 \r\nQ 30.953125 -1.421875 24.3125 -1.421875 \r\nQ 15.921875 -1.421875 10.953125 3.296875 \r\nQ 6 8.015625 6 15.921875 \r\nQ 6 25.140625 12.171875 29.828125 \r\nQ 18.359375 34.515625 30.609375 34.515625 \r\nL 43.21875 34.515625 \r\nL 43.21875 35.40625 \r\nQ 43.21875 41.609375 39.140625 45 \r\nQ 35.0625 48.390625 27.6875 48.390625 \r\nQ 23 48.390625 18.546875 47.265625 \r\nQ 14.109375 46.140625 10.015625 43.890625 \r\nL 10.015625 52.203125 \r\nQ 14.9375 54.109375 19.578125 55.046875 \r\nQ 24.21875 56 28.609375 56 \r\nQ 40.484375 56 46.34375 49.84375 \r\nQ 52.203125 43.703125 52.203125 31.203125 \r\nz\r\n\" id=\"DejaVuSans-97\"/>\r\n       <path d=\"M 2.984375 54.6875 \r\nL 12.5 54.6875 \r\nL 29.59375 8.796875 \r\nL 46.6875 54.6875 \r\nL 56.203125 54.6875 \r\nL 35.6875 0 \r\nL 23.484375 0 \r\nz\r\n\" id=\"DejaVuSans-118\"/>\r\n       <path id=\"DejaVuSans-32\"/>\r\n       <path d=\"M 9.421875 75.984375 \r\nL 18.40625 75.984375 \r\nL 18.40625 0 \r\nL 9.421875 0 \r\nz\r\n\" id=\"DejaVuSans-108\"/>\r\n       <path d=\"M 48.78125 52.59375 \r\nL 48.78125 44.1875 \r\nQ 44.96875 46.296875 41.140625 47.34375 \r\nQ 37.3125 48.390625 33.40625 48.390625 \r\nQ 24.65625 48.390625 19.8125 42.84375 \r\nQ 14.984375 37.3125 14.984375 27.296875 \r\nQ 14.984375 17.28125 19.8125 11.734375 \r\nQ 24.65625 6.203125 33.40625 6.203125 \r\nQ 37.3125 6.203125 41.140625 7.25 \r\nQ 44.96875 8.296875 48.78125 10.40625 \r\nL 48.78125 2.09375 \r\nQ 45.015625 0.34375 40.984375 -0.53125 \r\nQ 36.96875 -1.421875 32.421875 -1.421875 \r\nQ 20.0625 -1.421875 12.78125 6.34375 \r\nQ 5.515625 14.109375 5.515625 27.296875 \r\nQ 5.515625 40.671875 12.859375 48.328125 \r\nQ 20.21875 56 33.015625 56 \r\nQ 37.15625 56 41.109375 55.140625 \r\nQ 45.0625 54.296875 48.78125 52.59375 \r\nz\r\n\" id=\"DejaVuSans-99\"/>\r\n       <path d=\"M 41.109375 46.296875 \r\nQ 39.59375 47.171875 37.8125 47.578125 \r\nQ 36.03125 48 33.890625 48 \r\nQ 26.265625 48 22.1875 43.046875 \r\nQ 18.109375 38.09375 18.109375 28.8125 \r\nL 18.109375 0 \r\nL 9.078125 0 \r\nL 9.078125 54.6875 \r\nL 18.109375 54.6875 \r\nL 18.109375 46.1875 \r\nQ 20.953125 51.171875 25.484375 53.578125 \r\nQ 30.03125 56 36.53125 56 \r\nQ 37.453125 56 38.578125 55.875 \r\nQ 39.703125 55.765625 41.0625 55.515625 \r\nz\r\n\" id=\"DejaVuSans-114\"/>\r\n       <path d=\"M 30.609375 48.390625 \r\nQ 23.390625 48.390625 19.1875 42.75 \r\nQ 14.984375 37.109375 14.984375 27.296875 \r\nQ 14.984375 17.484375 19.15625 11.84375 \r\nQ 23.34375 6.203125 30.609375 6.203125 \r\nQ 37.796875 6.203125 41.984375 11.859375 \r\nQ 46.1875 17.53125 46.1875 27.296875 \r\nQ 46.1875 37.015625 41.984375 42.703125 \r\nQ 37.796875 48.390625 30.609375 48.390625 \r\nz\r\nM 30.609375 56 \r\nQ 42.328125 56 49.015625 48.375 \r\nQ 55.71875 40.765625 55.71875 27.296875 \r\nQ 55.71875 13.875 49.015625 6.21875 \r\nQ 42.328125 -1.421875 30.609375 -1.421875 \r\nQ 18.84375 -1.421875 12.171875 6.21875 \r\nQ 5.515625 13.875 5.515625 27.296875 \r\nQ 5.515625 40.765625 12.171875 48.375 \r\nQ 18.84375 56 30.609375 56 \r\nz\r\n\" id=\"DejaVuSans-111\"/>\r\n       <path d=\"M 45.40625 46.390625 \r\nL 45.40625 75.984375 \r\nL 54.390625 75.984375 \r\nL 54.390625 0 \r\nL 45.40625 0 \r\nL 45.40625 8.203125 \r\nQ 42.578125 3.328125 38.25 0.953125 \r\nQ 33.9375 -1.421875 27.875 -1.421875 \r\nQ 17.96875 -1.421875 11.734375 6.484375 \r\nQ 5.515625 14.40625 5.515625 27.296875 \r\nQ 5.515625 40.1875 11.734375 48.09375 \r\nQ 17.96875 56 27.875 56 \r\nQ 33.9375 56 38.25 53.625 \r\nQ 42.578125 51.265625 45.40625 46.390625 \r\nz\r\nM 14.796875 27.296875 \r\nQ 14.796875 17.390625 18.875 11.75 \r\nQ 22.953125 6.109375 30.078125 6.109375 \r\nQ 37.203125 6.109375 41.296875 11.75 \r\nQ 45.40625 17.390625 45.40625 27.296875 \r\nQ 45.40625 37.203125 41.296875 42.84375 \r\nQ 37.203125 48.484375 30.078125 48.484375 \r\nQ 22.953125 48.484375 18.875 42.84375 \r\nQ 14.796875 37.203125 14.796875 27.296875 \r\nz\r\n\" id=\"DejaVuSans-100\"/>\r\n       <path d=\"M 54.890625 54.6875 \r\nL 35.109375 28.078125 \r\nL 55.90625 0 \r\nL 45.3125 0 \r\nL 29.390625 21.484375 \r\nL 13.484375 0 \r\nL 2.875 0 \r\nL 24.125 28.609375 \r\nL 4.6875 54.6875 \r\nL 15.28125 54.6875 \r\nL 29.78125 35.203125 \r\nL 44.28125 54.6875 \r\nz\r\n\" id=\"DejaVuSans-120\"/>\r\n       <path d=\"M 54.890625 33.015625 \r\nL 54.890625 0 \r\nL 45.90625 0 \r\nL 45.90625 32.71875 \r\nQ 45.90625 40.484375 42.875 44.328125 \r\nQ 39.84375 48.1875 33.796875 48.1875 \r\nQ 26.515625 48.1875 22.3125 43.546875 \r\nQ 18.109375 38.921875 18.109375 30.90625 \r\nL 18.109375 0 \r\nL 9.078125 0 \r\nL 9.078125 75.984375 \r\nL 18.109375 75.984375 \r\nL 18.109375 46.1875 \r\nQ 21.34375 51.125 25.703125 53.5625 \r\nQ 30.078125 56 35.796875 56 \r\nQ 45.21875 56 50.046875 50.171875 \r\nQ 54.890625 44.34375 54.890625 33.015625 \r\nz\r\n\" id=\"DejaVuSans-104\"/>\r\n       <path d=\"M 54.890625 33.015625 \r\nL 54.890625 0 \r\nL 45.90625 0 \r\nL 45.90625 32.71875 \r\nQ 45.90625 40.484375 42.875 44.328125 \r\nQ 39.84375 48.1875 33.796875 48.1875 \r\nQ 26.515625 48.1875 22.3125 43.546875 \r\nQ 18.109375 38.921875 18.109375 30.90625 \r\nL 18.109375 0 \r\nL 9.078125 0 \r\nL 9.078125 54.6875 \r\nL 18.109375 54.6875 \r\nL 18.109375 46.1875 \r\nQ 21.34375 51.125 25.703125 53.5625 \r\nQ 30.078125 56 35.796875 56 \r\nQ 45.21875 56 50.046875 50.171875 \r\nQ 54.890625 44.34375 54.890625 33.015625 \r\nz\r\n\" id=\"DejaVuSans-110\"/>\r\n       <path d=\"M 4.890625 31.390625 \r\nL 31.203125 31.390625 \r\nL 31.203125 23.390625 \r\nL 4.890625 23.390625 \r\nz\r\n\" id=\"DejaVuSans-45\"/>\r\n       <path d=\"M 8.5 21.578125 \r\nL 8.5 54.6875 \r\nL 17.484375 54.6875 \r\nL 17.484375 21.921875 \r\nQ 17.484375 14.15625 20.5 10.265625 \r\nQ 23.53125 6.390625 29.59375 6.390625 \r\nQ 36.859375 6.390625 41.078125 11.03125 \r\nQ 45.3125 15.671875 45.3125 23.6875 \r\nL 45.3125 54.6875 \r\nL 54.296875 54.6875 \r\nL 54.296875 0 \r\nL 45.3125 0 \r\nL 45.3125 8.40625 \r\nQ 42.046875 3.421875 37.71875 1 \r\nQ 33.40625 -1.421875 27.6875 -1.421875 \r\nQ 18.265625 -1.421875 13.375 4.4375 \r\nQ 8.5 10.296875 8.5 21.578125 \r\nz\r\nM 31.109375 56 \r\nz\r\n\" id=\"DejaVuSans-117\"/>\r\n       <path d=\"M 44.28125 53.078125 \r\nL 44.28125 44.578125 \r\nQ 40.484375 46.53125 36.375 47.5 \r\nQ 32.28125 48.484375 27.875 48.484375 \r\nQ 21.1875 48.484375 17.84375 46.4375 \r\nQ 14.5 44.390625 14.5 40.28125 \r\nQ 14.5 37.15625 16.890625 35.375 \r\nQ 19.28125 33.59375 26.515625 31.984375 \r\nL 29.59375 31.296875 \r\nQ 39.15625 29.25 43.1875 25.515625 \r\nQ 47.21875 21.78125 47.21875 15.09375 \r\nQ 47.21875 7.46875 41.1875 3.015625 \r\nQ 35.15625 -1.421875 24.609375 -1.421875 \r\nQ 20.21875 -1.421875 15.453125 -0.5625 \r\nQ 10.6875 0.296875 5.421875 2 \r\nL 5.421875 11.28125 \r\nQ 10.40625 8.6875 15.234375 7.390625 \r\nQ 20.0625 6.109375 24.8125 6.109375 \r\nQ 31.15625 6.109375 34.5625 8.28125 \r\nQ 37.984375 10.453125 37.984375 14.40625 \r\nQ 37.984375 18.0625 35.515625 20.015625 \r\nQ 33.0625 21.96875 24.703125 23.78125 \r\nL 21.578125 24.515625 \r\nQ 13.234375 26.265625 9.515625 29.90625 \r\nQ 5.8125 33.546875 5.8125 39.890625 \r\nQ 5.8125 47.609375 11.28125 51.796875 \r\nQ 16.75 56 26.8125 56 \r\nQ 31.78125 56 36.171875 55.265625 \r\nQ 40.578125 54.546875 44.28125 53.078125 \r\nz\r\n\" id=\"DejaVuSans-115\"/>\r\n       <path d=\"M 32.171875 -5.078125 \r\nQ 28.375 -14.84375 24.75 -17.8125 \r\nQ 21.140625 -20.796875 15.09375 -20.796875 \r\nL 7.90625 -20.796875 \r\nL 7.90625 -13.28125 \r\nL 13.1875 -13.28125 \r\nQ 16.890625 -13.28125 18.9375 -11.515625 \r\nQ 21 -9.765625 23.484375 -3.21875 \r\nL 25.09375 0.875 \r\nL 2.984375 54.6875 \r\nL 12.5 54.6875 \r\nL 29.59375 11.921875 \r\nL 46.6875 54.6875 \r\nL 56.203125 54.6875 \r\nz\r\n\" id=\"DejaVuSans-121\"/>\r\n       <path d=\"M 8.59375 75.984375 \r\nL 29.296875 75.984375 \r\nL 29.296875 69 \r\nL 17.578125 69 \r\nL 17.578125 -6.203125 \r\nL 29.296875 -6.203125 \r\nL 29.296875 -13.1875 \r\nL 8.59375 -13.1875 \r\nz\r\n\" id=\"DejaVuSans-91\"/>\r\n       <path d=\"M 34.1875 63.1875 \r\nL 20.796875 26.90625 \r\nL 47.609375 26.90625 \r\nz\r\nM 28.609375 72.90625 \r\nL 39.796875 72.90625 \r\nL 67.578125 0 \r\nL 57.328125 0 \r\nL 50.6875 18.703125 \r\nL 17.828125 18.703125 \r\nL 11.1875 0 \r\nL 0.78125 0 \r\nz\r\n\" id=\"DejaVuSans-65\"/>\r\n       <path d=\"M 30.421875 75.984375 \r\nL 30.421875 -13.1875 \r\nL 9.71875 -13.1875 \r\nL 9.71875 -6.203125 \r\nL 21.390625 -6.203125 \r\nL 21.390625 69 \r\nL 9.71875 69 \r\nL 9.71875 75.984375 \r\nz\r\n\" id=\"DejaVuSans-93\"/>\r\n      </defs>\r\n      <use xlink:href=\"#DejaVuSans-78\"/>\r\n      <use x=\"74.804688\" xlink:href=\"#DejaVuSans-101\"/>\r\n      <use x=\"136.328125\" xlink:href=\"#DejaVuSans-103\"/>\r\n      <use x=\"199.804688\" xlink:href=\"#DejaVuSans-97\"/>\r\n      <use x=\"261.083984\" xlink:href=\"#DejaVuSans-116\"/>\r\n      <use x=\"300.292969\" xlink:href=\"#DejaVuSans-105\"/>\r\n      <use x=\"328.076172\" xlink:href=\"#DejaVuSans-118\"/>\r\n      <use x=\"387.255859\" xlink:href=\"#DejaVuSans-101\"/>\r\n      <use x=\"448.779297\" xlink:href=\"#DejaVuSans-32\"/>\r\n      <use x=\"480.566406\" xlink:href=\"#DejaVuSans-101\"/>\r\n      <use x=\"542.089844\" xlink:href=\"#DejaVuSans-108\"/>\r\n      <use x=\"569.873047\" xlink:href=\"#DejaVuSans-101\"/>\r\n      <use x=\"631.396484\" xlink:href=\"#DejaVuSans-99\"/>\r\n      <use x=\"686.376953\" xlink:href=\"#DejaVuSans-116\"/>\r\n      <use x=\"725.585938\" xlink:href=\"#DejaVuSans-114\"/>\r\n      <use x=\"764.449219\" xlink:href=\"#DejaVuSans-111\"/>\r\n      <use x=\"825.630859\" xlink:href=\"#DejaVuSans-100\"/>\r\n      <use x=\"889.107422\" xlink:href=\"#DejaVuSans-101\"/>\r\n      <use x=\"950.630859\" xlink:href=\"#DejaVuSans-32\"/>\r\n      <use x=\"982.417969\" xlink:href=\"#DejaVuSans-101\"/>\r\n      <use x=\"1042.191406\" xlink:href=\"#DejaVuSans-120\"/>\r\n      <use x=\"1099.621094\" xlink:href=\"#DejaVuSans-99\"/>\r\n      <use x=\"1154.601562\" xlink:href=\"#DejaVuSans-104\"/>\r\n      <use x=\"1217.980469\" xlink:href=\"#DejaVuSans-97\"/>\r\n      <use x=\"1279.259766\" xlink:href=\"#DejaVuSans-110\"/>\r\n      <use x=\"1342.638672\" xlink:href=\"#DejaVuSans-103\"/>\r\n      <use x=\"1406.115234\" xlink:href=\"#DejaVuSans-101\"/>\r\n      <use x=\"1467.638672\" xlink:href=\"#DejaVuSans-45\"/>\r\n      <use x=\"1503.722656\" xlink:href=\"#DejaVuSans-99\"/>\r\n      <use x=\"1558.703125\" xlink:href=\"#DejaVuSans-117\"/>\r\n      <use x=\"1622.082031\" xlink:href=\"#DejaVuSans-114\"/>\r\n      <use x=\"1661.445312\" xlink:href=\"#DejaVuSans-114\"/>\r\n      <use x=\"1700.308594\" xlink:href=\"#DejaVuSans-101\"/>\r\n      <use x=\"1761.832031\" xlink:href=\"#DejaVuSans-110\"/>\r\n      <use x=\"1825.210938\" xlink:href=\"#DejaVuSans-116\"/>\r\n      <use x=\"1864.419922\" xlink:href=\"#DejaVuSans-32\"/>\r\n      <use x=\"1896.207031\" xlink:href=\"#DejaVuSans-100\"/>\r\n      <use x=\"1959.683594\" xlink:href=\"#DejaVuSans-101\"/>\r\n      <use x=\"2021.207031\" xlink:href=\"#DejaVuSans-110\"/>\r\n      <use x=\"2084.585938\" xlink:href=\"#DejaVuSans-115\"/>\r\n      <use x=\"2136.685547\" xlink:href=\"#DejaVuSans-105\"/>\r\n      <use x=\"2164.46875\" xlink:href=\"#DejaVuSans-116\"/>\r\n      <use x=\"2203.677734\" xlink:href=\"#DejaVuSans-121\"/>\r\n      <use x=\"2262.857422\" xlink:href=\"#DejaVuSans-32\"/>\r\n      <use x=\"2294.644531\" xlink:href=\"#DejaVuSans-91\"/>\r\n      <use x=\"2333.658203\" xlink:href=\"#DejaVuSans-65\"/>\r\n      <use x=\"2400.316406\" xlink:href=\"#DejaVuSans-46\"/>\r\n      <use x=\"2432.103516\" xlink:href=\"#DejaVuSans-109\"/>\r\n      <use x=\"2529.515625\" xlink:href=\"#DejaVuSans-45\"/>\r\n      <use x=\"2565.599609\" xlink:href=\"#DejaVuSans-50\"/>\r\n      <use x=\"2629.222656\" xlink:href=\"#DejaVuSans-93\"/>\r\n     </g>\r\n    </g>\r\n   </g>\r\n   <g id=\"line2d_12\">\r\n    <path clip-path=\"url(#p4b8fbf43f0)\" d=\"M 66.203182 242.71075 \r\nL 69.277562 240.448581 \r\nL 72.351942 238.201598 \r\nL 75.426322 235.969597 \r\nL 78.500702 233.752382 \r\nL 81.575083 231.549761 \r\nL 84.649463 229.361544 \r\nL 87.723843 227.187548 \r\nL 90.798223 225.027593 \r\nL 93.872603 222.881505 \r\nL 96.946983 220.749112 \r\nL 100.021364 218.630246 \r\nL 103.095744 216.524745 \r\nL 106.170124 214.432446 \r\nL 109.244504 212.353196 \r\nL 112.318884 210.286839 \r\nL 115.393264 208.233226 \r\nL 118.467645 206.192211 \r\nL 121.542025 204.163651 \r\nL 124.616405 202.147404 \r\nL 127.690785 200.143334 \r\nL 130.765165 198.151305 \r\nL 133.839545 196.171186 \r\nL 136.913926 194.202847 \r\nL 139.988306 192.246163 \r\nL 143.062686 190.301008 \r\nL 146.137066 188.367262 \r\nL 149.211446 186.444806 \r\nL 152.285826 184.533521 \r\nL 155.360207 182.633295 \r\nL 158.434587 180.744013 \r\nL 161.508967 178.865568 \r\nL 164.583347 176.997849 \r\nL 167.657727 175.140752 \r\nL 170.732107 173.294171 \r\nL 173.806488 171.458006 \r\nL 176.880868 169.632155 \r\nL 179.955248 167.81652 \r\nL 183.029628 166.011005 \r\nL 186.104008 164.215515 \r\nL 189.178388 162.429956 \r\nL 192.252769 160.654237 \r\nL 195.327149 158.888268 \r\nL 198.401529 157.13196 \r\nL 201.475909 155.385228 \r\nL 204.550289 153.647985 \r\nL 207.624669 151.920148 \r\nL 210.69905 150.201634 \r\nL 213.77343 148.492363 \r\nL 216.84781 146.792254 \r\nL 219.92219 145.101229 \r\nL 222.99657 143.419212 \r\nL 226.07095 141.746127 \r\nL 229.145331 140.081898 \r\nL 232.219711 138.426453 \r\nL 235.294091 136.77972 \r\nL 238.368471 135.141628 \r\nL 241.442851 133.512107 \r\nL 244.517231 131.891088 \r\nL 247.591612 130.278504 \r\nL 250.665992 128.674287 \r\nL 253.740372 127.078374 \r\nL 256.814752 125.490698 \r\nL 259.889132 123.911197 \r\nL 262.963512 122.339808 \r\nL 266.037893 120.77647 \r\nL 269.112273 119.221122 \r\nL 272.186653 117.673703 \r\nL 275.261033 116.134156 \r\nL 278.335413 114.602422 \r\nL 281.409793 113.078445 \r\nL 284.484174 111.562167 \r\nL 287.558554 110.053534 \r\nL 290.632934 108.552491 \r\nL 293.707314 107.058984 \r\nL 296.781694 105.57296 \r\nL 299.856074 104.094366 \r\nL 302.930455 102.623152 \r\nL 306.004835 101.159266 \r\nL 309.079215 99.702658 \r\nL 312.153595 98.253279 \r\nL 315.227975 96.811079 \r\nL 318.302355 95.376012 \r\nL 321.376736 93.948029 \r\nL 324.451116 92.527084 \r\nL 327.525496 91.113131 \r\nL 330.599876 89.706124 \r\nL 333.674256 88.306018 \r\nL 336.748636 86.91277 \r\nL 339.823017 85.526335 \r\nL 342.897397 84.14667 \r\nL 345.971777 82.773733 \r\nL 349.046157 81.407482 \r\nL 352.120537 80.047875 \r\nL 355.194917 78.694872 \r\nL 358.269298 77.348432 \r\nL 361.343678 76.008516 \r\nL 364.418058 74.675083 \r\nL 367.492438 73.348097 \r\nL 370.566818 72.027517 \r\n\" style=\"fill:none;stroke:#ff0000;stroke-linecap:square;stroke-width:1.8;\"/>\r\n   </g>\r\n   <g id=\"patch_3\">\r\n    <path d=\"M 50.985 262.675469 \r\nL 50.985 45.235469 \r\n\" style=\"fill:none;stroke:#000000;stroke-linecap:square;stroke-linejoin:miter;stroke-width:0.8;\"/>\r\n   </g>\r\n   <g id=\"patch_4\">\r\n    <path d=\"M 385.785 262.675469 \r\nL 385.785 45.235469 \r\n\" style=\"fill:none;stroke:#000000;stroke-linecap:square;stroke-linejoin:miter;stroke-width:0.8;\"/>\r\n   </g>\r\n   <g id=\"patch_5\">\r\n    <path d=\"M 50.985 262.675469 \r\nL 385.785 262.675469 \r\n\" style=\"fill:none;stroke:#000000;stroke-linecap:square;stroke-linejoin:miter;stroke-width:0.8;\"/>\r\n   </g>\r\n   <g id=\"patch_6\">\r\n    <path d=\"M 50.985 45.235469 \r\nL 385.785 45.235469 \r\n\" style=\"fill:none;stroke:#000000;stroke-linecap:square;stroke-linejoin:miter;stroke-width:0.8;\"/>\r\n   </g>\r\n   <g id=\"text_14\">\r\n    <!-- Plotting a function parameter -->\r\n    <g transform=\"translate(129.863438 39.235469)scale(0.12 -0.12)\">\r\n     <defs>\r\n      <path d=\"M 19.671875 64.796875 \r\nL 19.671875 37.40625 \r\nL 32.078125 37.40625 \r\nQ 38.96875 37.40625 42.71875 40.96875 \r\nQ 46.484375 44.53125 46.484375 51.125 \r\nQ 46.484375 57.671875 42.71875 61.234375 \r\nQ 38.96875 64.796875 32.078125 64.796875 \r\nz\r\nM 9.8125 72.90625 \r\nL 32.078125 72.90625 \r\nQ 44.34375 72.90625 50.609375 67.359375 \r\nQ 56.890625 61.8125 56.890625 51.125 \r\nQ 56.890625 40.328125 50.609375 34.8125 \r\nQ 44.34375 29.296875 32.078125 29.296875 \r\nL 19.671875 29.296875 \r\nL 19.671875 0 \r\nL 9.8125 0 \r\nz\r\n\" id=\"DejaVuSans-80\"/>\r\n      <path d=\"M 37.109375 75.984375 \r\nL 37.109375 68.5 \r\nL 28.515625 68.5 \r\nQ 23.6875 68.5 21.796875 66.546875 \r\nQ 19.921875 64.59375 19.921875 59.515625 \r\nL 19.921875 54.6875 \r\nL 34.71875 54.6875 \r\nL 34.71875 47.703125 \r\nL 19.921875 47.703125 \r\nL 19.921875 0 \r\nL 10.890625 0 \r\nL 10.890625 47.703125 \r\nL 2.296875 47.703125 \r\nL 2.296875 54.6875 \r\nL 10.890625 54.6875 \r\nL 10.890625 58.5 \r\nQ 10.890625 67.625 15.140625 71.796875 \r\nQ 19.390625 75.984375 28.609375 75.984375 \r\nz\r\n\" id=\"DejaVuSans-102\"/>\r\n      <path d=\"M 18.109375 8.203125 \r\nL 18.109375 -20.796875 \r\nL 9.078125 -20.796875 \r\nL 9.078125 54.6875 \r\nL 18.109375 54.6875 \r\nL 18.109375 46.390625 \r\nQ 20.953125 51.265625 25.265625 53.625 \r\nQ 29.59375 56 35.59375 56 \r\nQ 45.5625 56 51.78125 48.09375 \r\nQ 58.015625 40.1875 58.015625 27.296875 \r\nQ 58.015625 14.40625 51.78125 6.484375 \r\nQ 45.5625 -1.421875 35.59375 -1.421875 \r\nQ 29.59375 -1.421875 25.265625 0.953125 \r\nQ 20.953125 3.328125 18.109375 8.203125 \r\nz\r\nM 48.6875 27.296875 \r\nQ 48.6875 37.203125 44.609375 42.84375 \r\nQ 40.53125 48.484375 33.40625 48.484375 \r\nQ 26.265625 48.484375 22.1875 42.84375 \r\nQ 18.109375 37.203125 18.109375 27.296875 \r\nQ 18.109375 17.390625 22.1875 11.75 \r\nQ 26.265625 6.109375 33.40625 6.109375 \r\nQ 40.53125 6.109375 44.609375 11.75 \r\nQ 48.6875 17.390625 48.6875 27.296875 \r\nz\r\n\" id=\"DejaVuSans-112\"/>\r\n     </defs>\r\n     <use xlink:href=\"#DejaVuSans-80\"/>\r\n     <use x=\"60.302734\" xlink:href=\"#DejaVuSans-108\"/>\r\n     <use x=\"88.085938\" xlink:href=\"#DejaVuSans-111\"/>\r\n     <use x=\"149.267578\" xlink:href=\"#DejaVuSans-116\"/>\r\n     <use x=\"188.476562\" xlink:href=\"#DejaVuSans-116\"/>\r\n     <use x=\"227.685547\" xlink:href=\"#DejaVuSans-105\"/>\r\n     <use x=\"255.46875\" xlink:href=\"#DejaVuSans-110\"/>\r\n     <use x=\"318.847656\" xlink:href=\"#DejaVuSans-103\"/>\r\n     <use x=\"382.324219\" xlink:href=\"#DejaVuSans-32\"/>\r\n     <use x=\"414.111328\" xlink:href=\"#DejaVuSans-97\"/>\r\n     <use x=\"475.390625\" xlink:href=\"#DejaVuSans-32\"/>\r\n     <use x=\"507.177734\" xlink:href=\"#DejaVuSans-102\"/>\r\n     <use x=\"542.382812\" xlink:href=\"#DejaVuSans-117\"/>\r\n     <use x=\"605.761719\" xlink:href=\"#DejaVuSans-110\"/>\r\n     <use x=\"669.140625\" xlink:href=\"#DejaVuSans-99\"/>\r\n     <use x=\"724.121094\" xlink:href=\"#DejaVuSans-116\"/>\r\n     <use x=\"763.330078\" xlink:href=\"#DejaVuSans-105\"/>\r\n     <use x=\"791.113281\" xlink:href=\"#DejaVuSans-111\"/>\r\n     <use x=\"852.294922\" xlink:href=\"#DejaVuSans-110\"/>\r\n     <use x=\"915.673828\" xlink:href=\"#DejaVuSans-32\"/>\r\n     <use x=\"947.460938\" xlink:href=\"#DejaVuSans-112\"/>\r\n     <use x=\"1010.9375\" xlink:href=\"#DejaVuSans-97\"/>\r\n     <use x=\"1072.216797\" xlink:href=\"#DejaVuSans-114\"/>\r\n     <use x=\"1113.330078\" xlink:href=\"#DejaVuSans-97\"/>\r\n     <use x=\"1174.609375\" xlink:href=\"#DejaVuSans-109\"/>\r\n     <use x=\"1272.021484\" xlink:href=\"#DejaVuSans-101\"/>\r\n     <use x=\"1333.544922\" xlink:href=\"#DejaVuSans-116\"/>\r\n     <use x=\"1372.753906\" xlink:href=\"#DejaVuSans-101\"/>\r\n     <use x=\"1434.277344\" xlink:href=\"#DejaVuSans-114\"/>\r\n    </g>\r\n   </g>\r\n  </g>\r\n </g>\r\n <defs>\r\n  <clipPath id=\"p4b8fbf43f0\">\r\n   <rect height=\"217.44\" width=\"334.8\" x=\"50.985\" y=\"45.235469\"/>\r\n  </clipPath>\r\n </defs>\r\n</svg>\r\n",
      "image/png": "[encoded data removed]"
     },
     "metadata": {
      "needs_background": "light"
     }
    }
   ],
   "source": [
    "negative_electrode_exchange_current_density = param[\"Negative electrode exchange-current density [A.m-2]\"]\n",
    "x = pybamm.linspace(3000,6000,100)\n",
    "evaluated = negative_electrode_exchange_current_density(1000,x,300)\n",
    "processed = param.process_symbol(evaluated)\n",
    "pybamm.plot(x, processed, xlabel=\"time\", ylabel=\"Negative electrode exchange-current density [A.m-2]\", title=\"Plotting a function parameter\")"
   ]
  },
  {
   "source": [
    "## Simulating and solving the model\n",
    "\n",
    "Finally we can simulate the model and solve it using `pybamm.Simulation` and `solve` respectively."
   ],
   "cell_type": "markdown",
   "metadata": {}
  },
  {
   "source": [
    "### Using the DFN model:"
   ],
   "cell_type": "markdown",
   "metadata": {}
  },
  {
   "cell_type": "code",
   "execution_count": 19,
   "metadata": {},
   "outputs": [
    {
     "output_type": "display_data",
     "data": {
      "text/plain": "interactive(children=(FloatSlider(value=0.0, description='t', max=120.0, step=1.2), Output()), _dom_classes=('…",
      "application/vnd.jupyter.widget-view+json": {
       "version_major": 2,
       "version_minor": 0,
       "model_id": "09a6d6646bd643f78ad4d20c58df4a6b"
      }
     },
     "metadata": {}
    },
    {
     "output_type": "execute_result",
     "data": {
      "text/plain": [
       "<pybamm.plotting.quick_plot.QuickPlot at 0x1accf47b820>"
      ]
     },
     "metadata": {},
     "execution_count": 19
    }
   ],
   "source": [
    "sim = pybamm.Simulation(dfn_model, parameter_values=param)\n",
    "t_eval = np.arange(0, 121, 1)\n",
    "sim.solve(t_eval=t_eval)\n",
    "sim.plot()"
   ]
  },
  {
   "source": [
    "### Using the SPM model"
   ],
   "cell_type": "markdown",
   "metadata": {}
  },
  {
   "cell_type": "code",
   "execution_count": 20,
   "metadata": {},
   "outputs": [
    {
     "output_type": "display_data",
     "data": {
      "text/plain": "interactive(children=(FloatSlider(value=0.0, description='t', max=120.0, step=1.2), Output()), _dom_classes=('…",
      "application/vnd.jupyter.widget-view+json": {
       "version_major": 2,
       "version_minor": 0,
       "model_id": "4411123814764dacb084ac1d1f169bde"
      }
     },
     "metadata": {}
    },
    {
     "output_type": "execute_result",
     "data": {
      "text/plain": [
       "<pybamm.plotting.quick_plot.QuickPlot at 0x1acd034ee80>"
      ]
     },
     "metadata": {},
     "execution_count": 20
    }
   ],
   "source": [
    "sim = pybamm.Simulation(spm_model, parameter_values=param)\n",
    "t_eval = np.arange(0, 121, 1)\n",
    "sim.solve(t_eval=t_eval)\n",
    "sim.plot()"
   ]
  },
  {
   "source": [
    "## References\n",
    "The relevant papers for this notebook are:"
   ],
   "cell_type": "markdown",
   "metadata": {}
  },
  {
   "cell_type": "code",
   "execution_count": 21,
   "metadata": {},
   "outputs": [
    {
     "output_type": "stream",
     "name": "stdout",
     "text": [
      "[1] Joel A. E. Andersson, Joris Gillis, Greg Horn, James B. Rawlings, and Moritz Diehl. CasADi – A software framework for nonlinear optimization and optimal control. Mathematical Programming Computation, 11(1):1–36, 2019. doi:10.1007/s12532-018-0139-4.\n[2] Chang-Hui Chen, Ferran Brosa Planella, Kieran O'Regan, Dominika Gastol, W. Dhammika Widanage, and Emma Kendrick. Development of Experimental Techniques for Parameterization of Multi-scale Lithium-ion Battery Models. Journal of The Electrochemical Society, 167(8):080534, 2020. doi:10.1149/1945-7111/ab9050.\n[3] Marc Doyle, Thomas F. Fuller, and John Newman. Modeling of galvanostatic charge and discharge of the lithium/polymer/insertion cell. Journal of the Electrochemical society, 140(6):1526–1533, 1993. doi:10.1149/1.2221597.\n[4] Charles R. Harris, K. Jarrod Millman, Stéfan J. van der Walt, Ralf Gommers, Pauli Virtanen, David Cournapeau, Eric Wieser, Julian Taylor, Sebastian Berg, Nathaniel J. Smith, and others. Array programming with NumPy. Nature, 585(7825):357–362, 2020. doi:10.1038/s41586-020-2649-2.\n[5] Scott G. Marquis, Valentin Sulzer, Robert Timms, Colin P. Please, and S. Jon Chapman. An asymptotic derivation of a single particle model with electrolyte. Journal of The Electrochemical Society, 166(15):A3693–A3706, 2019. doi:10.1149/2.0341915jes.\n[6] Valentin Sulzer, Scott G. Marquis, Robert Timms, Martin Robinson, and S. Jon Chapman. Python Battery Mathematical Modelling (PyBaMM). ECSarXiv. February, 2020. doi:10.1149/osf.io/67ckj.\n[7] Pauli Virtanen, Ralf Gommers, Travis E. Oliphant, Matt Haberland, Tyler Reddy, David Cournapeau, Evgeni Burovski, Pearu Peterson, Warren Weckesser, Jonathan Bright, and others. SciPy 1.0: fundamental algorithms for scientific computing in Python. Nature Methods, 17(3):261–272, 2020. doi:10.1038/s41592-019-0686-2.\n\n"
     ]
    }
   ],
   "source": [
    "pybamm.print_citations()"
   ]
  },
  {
   "cell_type": "code",
   "execution_count": null,
   "metadata": {},
   "outputs": [],
   "source": []
  }
 ]
}