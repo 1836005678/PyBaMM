{
 "cells": [
  {
   "cell_type": "code",
   "execution_count": 35,
   "metadata": {},
   "outputs": [],
   "source": [
    "import pybamm"
   ]
  },
  {
   "cell_type": "code",
   "execution_count": 36,
   "metadata": {},
   "outputs": [],
   "source": [
    "model = pybamm.lithium_ion.SPM()"
   ]
  },
  {
   "cell_type": "code",
   "execution_count": 37,
   "metadata": {},
   "outputs": [
    {
     "data": {
      "text/plain": [
       "{Variable(-0x2d4478ebf648a7a3, Discharge capacity [A.h], children=[], domain=[], auxiliary_domains={}): Division(0x16eb37becd67e722, /, children=['Current function [A] * 96485.33289 * Maximum concentration in negative electrode [mol.m-3] * Negative electrode thickness [m] + Separator thickness [m] + Positive electrode thickness [m] / function (absolute)', '3600.0'], domain=[], auxiliary_domains={}),\n",
       " Variable(0x5390b9830957db8b, X-averaged negative particle concentration, children=[], domain=['negative particle'], auxiliary_domains={'secondary': \"['current collector']\"}): Multiplication(0x60a162aa9d582fd0, *, children=['-1.0 / Negative particle radius [m] ** 2.0 / Negative electrode diffusivity [m2.s-1] / 96485.33289 * Maximum concentration in negative electrode [mol.m-3] * Negative electrode thickness [m] + Separator thickness [m] + Positive electrode thickness [m] / function (absolute)', 'div(-Negative electrode diffusivity [m2.s-1] / Negative electrode diffusivity [m2.s-1] * grad(X-averaged negative particle concentration))'], domain=['negative particle'], auxiliary_domains={'secondary': \"['current collector']\"}),\n",
       " Variable(-0x585c98cab29114ca, X-averaged positive particle concentration, children=[], domain=['positive particle'], auxiliary_domains={'secondary': \"['current collector']\"}): Multiplication(0x4dd6d9b7567c6b92, *, children=['-1.0 / Positive particle radius [m] ** 2.0 / Positive electrode diffusivity [m2.s-1] / 96485.33289 * Maximum concentration in negative electrode [mol.m-3] * Negative electrode thickness [m] + Separator thickness [m] + Positive electrode thickness [m] / function (absolute)', 'div(-Positive electrode diffusivity [m2.s-1] / Positive electrode diffusivity [m2.s-1] * grad(X-averaged positive particle concentration))'], domain=['positive particle'], auxiliary_domains={'secondary': \"['current collector']\"})}"
      ]
     },
     "execution_count": 37,
     "metadata": {},
     "output_type": "execute_result"
    }
   ],
   "source": [
    "model.rhs"
   ]
  },
  {
   "cell_type": "code",
   "execution_count": 38,
   "metadata": {},
   "outputs": [],
   "source": [
    "params = []"
   ]
  },
  {
   "cell_type": "code",
   "execution_count": 39,
   "metadata": {},
   "outputs": [],
   "source": [
    "for value in model.rhs.values():\n",
    "    for symbol in value.pre_order():\n",
    "        if isinstance(symbol, (pybamm.Parameter, pybamm.FunctionParameter)) and symbol.name not in params:\n",
    "            params.append(symbol.name)"
   ]
  },
  {
   "cell_type": "code",
   "execution_count": 40,
   "metadata": {},
   "outputs": [
    {
     "data": {
      "text/plain": [
       "['Current function [A]',\n",
       " 'Maximum concentration in negative electrode [mol.m-3]',\n",
       " 'Negative electrode thickness [m]',\n",
       " 'Separator thickness [m]',\n",
       " 'Positive electrode thickness [m]',\n",
       " 'Typical current [A]',\n",
       " 'Number of electrodes connected in parallel to make a cell',\n",
       " 'Electrode width [m]',\n",
       " 'Electrode height [m]',\n",
       " 'Negative particle radius [m]',\n",
       " 'Negative electrode diffusivity [m2.s-1]',\n",
       " 'Reference temperature [K]',\n",
       " 'Ambient temperature [K]',\n",
       " 'Positive particle radius [m]',\n",
       " 'Positive electrode diffusivity [m2.s-1]']"
      ]
     },
     "execution_count": 40,
     "metadata": {},
     "output_type": "execute_result"
    }
   ],
   "source": [
    "params"
   ]
  },
  {
   "cell_type": "code",
   "execution_count": 41,
   "metadata": {},
   "outputs": [
    {
     "data": {
      "text/plain": [
       "<pybamm.models.full_battery_models.lithium_ion.spm.SPM at 0x7fb5d6a95390>"
      ]
     },
     "execution_count": 41,
     "metadata": {},
     "output_type": "execute_result"
    }
   ],
   "source": [
    "param = model.default_parameter_values\n",
    "param.process_model(model)"
   ]
  },
  {
   "cell_type": "code",
   "execution_count": 45,
   "metadata": {},
   "outputs": [],
   "source": [
    "params_1 = []\n",
    "for value in model.rhs.values():\n",
    "    for symbol in value.pre_order():\n",
    "        if isinstance(symbol, (pybamm.Parameter, pybamm.Scalar)) and symbol.name not in params_1:\n",
    "            params_1.append(symbol.name)"
   ]
  },
  {
   "cell_type": "code",
   "execution_count": 46,
   "metadata": {},
   "outputs": [
    {
     "data": {
      "text/plain": [
       "['Current function [A]',\n",
       " 'Maximum concentration in negative electrode [mol.m-3]',\n",
       " 'Negative electrode thickness [m]',\n",
       " 'Separator thickness [m]',\n",
       " 'Positive electrode thickness [m]',\n",
       " 'Typical current [A]',\n",
       " 'Number of electrodes connected in parallel to make a cell',\n",
       " 'Electrode width [m]',\n",
       " 'Electrode height [m]',\n",
       " 'Negative particle radius [m]',\n",
       " 'Negative electrode diffusivity [m2.s-1]',\n",
       " 'Reference temperature [K]',\n",
       " 'Ambient temperature [K]',\n",
       " 'Positive particle radius [m]',\n",
       " 'Positive electrode diffusivity [m2.s-1]']"
      ]
     },
     "execution_count": 46,
     "metadata": {},
     "output_type": "execute_result"
    }
   ],
   "source": [
    "params"
   ]
  },
  {
   "cell_type": "code",
   "execution_count": 47,
   "metadata": {},
   "outputs": [
    {
     "data": {
      "text/plain": [
       "['0.680616',\n",
       " '96485.33289',\n",
       " 'Maximum concentration in negative electrode [mol.m-3]',\n",
       " 'Negative electrode thickness [m]',\n",
       " 'Separator thickness [m]',\n",
       " 'Positive electrode thickness [m]',\n",
       " 'Typical current [A]',\n",
       " 'Number of electrodes connected in parallel to make a cell',\n",
       " 'Electrode width [m]',\n",
       " 'Electrode height [m]',\n",
       " '3600.0',\n",
       " '1.0',\n",
       " 'Negative particle radius [m]',\n",
       " '2.0',\n",
       " '3.9e-14',\n",
       " '5144.0503687323135',\n",
       " '0.0033540164346805303',\n",
       " '298.15',\n",
       " 'Reference temperature [K]',\n",
       " 'Positive particle radius [m]',\n",
       " '1e-13',\n",
       " '2231.0529422488758']"
      ]
     },
     "execution_count": 47,
     "metadata": {},
     "output_type": "execute_result"
    }
   ],
   "source": [
    "params_1"
   ]
  },
  {
   "cell_type": "code",
   "execution_count": null,
   "metadata": {},
   "outputs": [],
   "source": []
  }
 ],
 "metadata": {
  "kernelspec": {
   "display_name": "Python 3",
   "language": "python",
   "name": "python3"
  },
  "language_info": {
   "codemirror_mode": {
    "name": "ipython",
    "version": 3
   },
   "file_extension": ".py",
   "mimetype": "text/x-python",
   "name": "python",
   "nbconvert_exporter": "python",
   "pygments_lexer": "ipython3",
   "version": "3.6.9"
  }
 },
 "nbformat": 4,
 "nbformat_minor": 2
}
