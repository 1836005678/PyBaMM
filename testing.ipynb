{
 "cells": [
  {
   "cell_type": "code",
   "execution_count": 1,
   "metadata": {},
   "outputs": [],
   "source": [
    "import pybamm"
   ]
  },
  {
   "cell_type": "code",
   "execution_count": 44,
   "metadata": {},
   "outputs": [],
   "source": [
    "def find_symbol_in_tree(tree, name):\n",
    "    \"Finds on instance of a symbol in a tree\"\n",
    "    \n",
    "    if name == tree.name:\n",
    "        return tree\n",
    "    elif len(tree.children) > 0:\n",
    "        for child in tree.children:\n",
    "            child_return = find_symbol_in_tree(child, name)\n",
    "            if child_return:\n",
    "                return child_return\n",
    "    else:\n",
    "        return None\n",
    "            \n",
    "def find_symbol_in_dict(dic, name):\n",
    "    \n",
    "    for tree in dic.values(): \n",
    "        tree_return = find_symbol_in_tree(tree, name)\n",
    "        \n",
    "        if tree_return: \n",
    "            return tree_return\n",
    "    \n",
    "    return tree_return \n",
    "\n",
    "def find_symbol_in_model(model, name):\n",
    "    \n",
    "    dics = [model.rhs, model.algebraic, model.boundary_conditions, model.initial_conditions]\n",
    "    \n",
    "    for dic in dics: \n",
    "        dic_return = find_symbol_in_dict(dic, name)\n",
    "        \n",
    "        if dic_return: \n",
    "            return dic_return\n",
    "        \n",
    "    print(\"Symbol not found\")\n",
    "    return dic_return\n",
    "\n",
    "def info(model, name):\n",
    "    \n",
    "    div = \"-----------------------------------------\"\n",
    "    symbol = find_symbol_in_model(model, name)\n",
    "   \n",
    "    print(div)\n",
    "    print(name, \"\\n\")\n",
    "    print(type(symbol), \"\\n\")\n",
    "    \n",
    "    if isinstance(symbol, pybamm.FunctionParameter):    \n",
    "        print(\"Inputs:\")  \n",
    "        symbol.inputs\n",
    "        \n",
    "        \n",
    "    print(div)"
   ]
  },
  {
   "cell_type": "code",
   "execution_count": 13,
   "metadata": {},
   "outputs": [],
   "source": [
    "model = pybamm.lithium_ion.DFN()"
   ]
  },
  {
   "cell_type": "code",
   "execution_count": 4,
   "metadata": {},
   "outputs": [
    {
     "data": {
      "text/plain": [
       "2"
      ]
     },
     "execution_count": 4,
     "metadata": {},
     "output_type": "execute_result"
    }
   ],
   "source": [
    "len(list(model.rhs.values())[0].children)"
   ]
  },
  {
   "cell_type": "code",
   "execution_count": 5,
   "metadata": {},
   "outputs": [],
   "source": [
    "symbol = list(model.rhs.values())[1]"
   ]
  },
  {
   "cell_type": "code",
   "execution_count": 6,
   "metadata": {},
   "outputs": [],
   "source": [
    "function = find_symbol_in_tree(symbol, \"Negative electrode diffusivity [m2.s-1]\")"
   ]
  },
  {
   "cell_type": "code",
   "execution_count": 7,
   "metadata": {},
   "outputs": [
    {
     "name": "stdout",
     "output_type": "stream",
     "text": [
      "Negative particle stoichiometry\n",
      "Temperature [K]\n",
      "Reference temperature [K]\n",
      "Activation energy [J.mol-1]\n",
      "Ideal gas constant [J.mol-1.K-1]\n"
     ]
    }
   ],
   "source": [
    "function.inputs"
   ]
  },
  {
   "cell_type": "code",
   "execution_count": 14,
   "metadata": {},
   "outputs": [],
   "source": [
    "fun = find_symbol_in_model(model, \"Negative electrode diffusivity [m2.s-1]\")"
   ]
  },
  {
   "cell_type": "code",
   "execution_count": 16,
   "metadata": {},
   "outputs": [
    {
     "name": "stdout",
     "output_type": "stream",
     "text": [
      "Negative particle stoichiometry\n",
      "Temperature [K]\n",
      "Reference temperature [K]\n",
      "Activation energy [J.mol-1]\n",
      "Ideal gas constant [J.mol-1.K-1]\n"
     ]
    }
   ],
   "source": [
    "fun.inputs"
   ]
  },
  {
   "cell_type": "code",
   "execution_count": 19,
   "metadata": {},
   "outputs": [
    {
     "data": {
      "text/plain": [
       "pybamm.expression_tree.parameter.FunctionParameter"
      ]
     },
     "execution_count": 19,
     "metadata": {},
     "output_type": "execute_result"
    }
   ],
   "source": [
    "type(fun)"
   ]
  },
  {
   "cell_type": "code",
   "execution_count": 45,
   "metadata": {},
   "outputs": [
    {
     "name": "stdout",
     "output_type": "stream",
     "text": [
      "-----------------------------------------\n",
      "Negative electrode diffusivity [m2.s-1] \n",
      "\n",
      "<class 'pybamm.expression_tree.parameter.FunctionParameter'> \n",
      "\n",
      "Inputs:\n",
      "Negative particle stoichiometry\n",
      "Temperature [K]\n",
      "Reference temperature [K]\n",
      "Activation energy [J.mol-1]\n",
      "Ideal gas constant [J.mol-1.K-1]\n",
      "-----------------------------------------\n"
     ]
    }
   ],
   "source": [
    "info(model, \"Negative electrode diffusivity [m2.s-1]\")"
   ]
  },
  {
   "cell_type": "code",
   "execution_count": 1,
   "metadata": {},
   "outputs": [],
   "source": [
    "import pybamm"
   ]
  },
  {
   "cell_type": "code",
   "execution_count": 4,
   "metadata": {},
   "outputs": [],
   "source": [
    "model = pybamm.lithium_ion.DFN()"
   ]
  },
  {
   "cell_type": "code",
   "execution_count": 5,
   "metadata": {},
   "outputs": [
    {
     "name": "stdout",
     "output_type": "stream",
     "text": [
      "-----------------------------------------\n",
      "Electrolyte conductivity [S.m-1] \n",
      "\n",
      "<class 'pybamm.expression_tree.parameter.FunctionParameter'> \n",
      "\n",
      "Inputs:\n",
      "Electrolyte concentration [mol.m-3]\n",
      "Temperature [K]\n",
      "Reference temperature [K]\n",
      "Activation energy [J.mol-1]\n",
      "Ideal gas constant [J.mol-1.K-1]\n",
      "-----------------------------------------\n"
     ]
    }
   ],
   "source": [
    "model.info(\"Electrolyte conductivity [S.m-1]\")"
   ]
  },
  {
   "cell_type": "code",
   "execution_count": 6,
   "metadata": {},
   "outputs": [
    {
     "name": "stdout",
     "output_type": "stream",
     "text": [
      "-----------------------------------------\n",
      "Electrolyte diffusivity [m2.s-1] \n",
      "\n",
      "<class 'pybamm.expression_tree.parameter.FunctionParameter'> \n",
      "\n",
      "Inputs:\n",
      "Electrolyte concentration [mol.m-3]\n",
      "Temperature [K]\n",
      "Reference temperature [K]\n",
      "Activation energy [J.mol-1]\n",
      "Ideal gas constant [J.mol-1.K-1]\n",
      "-----------------------------------------\n"
     ]
    }
   ],
   "source": [
    "model.info(\"Electrolyte diffusivity [m2.s-1]\")"
   ]
  },
  {
   "cell_type": "code",
   "execution_count": 10,
   "metadata": {},
   "outputs": [
    {
     "ename": "KeyError",
     "evalue": "\"'Electrolyte con' not found. Best matches are ['Electrolyte conductivity [S.m-1]', 'Electrode width [m]', 'Typical electrolyte concentration [mol.m-3]']\"",
     "output_type": "error",
     "traceback": [
      "\u001b[0;31m---------------------------------------------------------------------------\u001b[0m",
      "\u001b[0;31mKeyError\u001b[0m                                  Traceback (most recent call last)",
      "\u001b[0;32m~/Projects/PyBaMM/pybamm/util.py\u001b[0m in \u001b[0;36m__getitem__\u001b[0;34m(self, key)\u001b[0m\n\u001b[1;32m     88\u001b[0m         \u001b[0;32mtry\u001b[0m\u001b[0;34m:\u001b[0m\u001b[0;34m\u001b[0m\u001b[0;34m\u001b[0m\u001b[0m\n\u001b[0;32m---> 89\u001b[0;31m             \u001b[0;32mreturn\u001b[0m \u001b[0msuper\u001b[0m\u001b[0;34m(\u001b[0m\u001b[0;34m)\u001b[0m\u001b[0;34m.\u001b[0m\u001b[0m__getitem__\u001b[0m\u001b[0;34m(\u001b[0m\u001b[0mkey\u001b[0m\u001b[0;34m)\u001b[0m\u001b[0;34m\u001b[0m\u001b[0;34m\u001b[0m\u001b[0m\n\u001b[0m\u001b[1;32m     90\u001b[0m         \u001b[0;32mexcept\u001b[0m \u001b[0mKeyError\u001b[0m\u001b[0;34m:\u001b[0m\u001b[0;34m\u001b[0m\u001b[0;34m\u001b[0m\u001b[0m\n",
      "\u001b[0;31mKeyError\u001b[0m: 'Electrolyte con'",
      "\nDuring handling of the above exception, another exception occurred:\n",
      "\u001b[0;31mKeyError\u001b[0m                                  Traceback (most recent call last)",
      "\u001b[0;32m<ipython-input-10-4a4bd98d4fa3>\u001b[0m in \u001b[0;36m<module>\u001b[0;34m\u001b[0m\n\u001b[0;32m----> 1\u001b[0;31m \u001b[0mpara\u001b[0m\u001b[0;34m[\u001b[0m\u001b[0;34m\"Electrolyte con\"\u001b[0m\u001b[0;34m]\u001b[0m\u001b[0;34m\u001b[0m\u001b[0;34m\u001b[0m\u001b[0m\n\u001b[0m",
      "\u001b[0;32m~/Projects/PyBaMM/pybamm/parameters/parameter_values.py\u001b[0m in \u001b[0;36m__getitem__\u001b[0;34m(self, key)\u001b[0m\n\u001b[1;32m     83\u001b[0m \u001b[0;34m\u001b[0m\u001b[0m\n\u001b[1;32m     84\u001b[0m     \u001b[0;32mdef\u001b[0m \u001b[0m__getitem__\u001b[0m\u001b[0;34m(\u001b[0m\u001b[0mself\u001b[0m\u001b[0;34m,\u001b[0m \u001b[0mkey\u001b[0m\u001b[0;34m)\u001b[0m\u001b[0;34m:\u001b[0m\u001b[0;34m\u001b[0m\u001b[0;34m\u001b[0m\u001b[0m\n\u001b[0;32m---> 85\u001b[0;31m         \u001b[0;32mreturn\u001b[0m \u001b[0mself\u001b[0m\u001b[0;34m.\u001b[0m\u001b[0m_dict_items\u001b[0m\u001b[0;34m[\u001b[0m\u001b[0mkey\u001b[0m\u001b[0;34m]\u001b[0m\u001b[0;34m\u001b[0m\u001b[0;34m\u001b[0m\u001b[0m\n\u001b[0m\u001b[1;32m     86\u001b[0m \u001b[0;34m\u001b[0m\u001b[0m\n\u001b[1;32m     87\u001b[0m     \u001b[0;32mdef\u001b[0m \u001b[0m__setitem__\u001b[0m\u001b[0;34m(\u001b[0m\u001b[0mself\u001b[0m\u001b[0;34m,\u001b[0m \u001b[0mkey\u001b[0m\u001b[0;34m,\u001b[0m \u001b[0mvalue\u001b[0m\u001b[0;34m)\u001b[0m\u001b[0;34m:\u001b[0m\u001b[0;34m\u001b[0m\u001b[0;34m\u001b[0m\u001b[0m\n",
      "\u001b[0;32m~/Projects/PyBaMM/pybamm/util.py\u001b[0m in \u001b[0;36m__getitem__\u001b[0;34m(self, key)\u001b[0m\n\u001b[1;32m     90\u001b[0m         \u001b[0;32mexcept\u001b[0m \u001b[0mKeyError\u001b[0m\u001b[0;34m:\u001b[0m\u001b[0;34m\u001b[0m\u001b[0;34m\u001b[0m\u001b[0m\n\u001b[1;32m     91\u001b[0m             \u001b[0mbest_matches\u001b[0m \u001b[0;34m=\u001b[0m \u001b[0mself\u001b[0m\u001b[0;34m.\u001b[0m\u001b[0mget_best_matches\u001b[0m\u001b[0;34m(\u001b[0m\u001b[0mkey\u001b[0m\u001b[0;34m)\u001b[0m\u001b[0;34m\u001b[0m\u001b[0;34m\u001b[0m\u001b[0m\n\u001b[0;32m---> 92\u001b[0;31m             \u001b[0;32mraise\u001b[0m \u001b[0mKeyError\u001b[0m\u001b[0;34m(\u001b[0m\u001b[0;34mf\"'{key}' not found. Best matches are {best_matches}\"\u001b[0m\u001b[0;34m)\u001b[0m\u001b[0;34m\u001b[0m\u001b[0;34m\u001b[0m\u001b[0m\n\u001b[0m\u001b[1;32m     93\u001b[0m \u001b[0;34m\u001b[0m\u001b[0m\n\u001b[1;32m     94\u001b[0m \u001b[0;34m\u001b[0m\u001b[0m\n",
      "\u001b[0;31mKeyError\u001b[0m: \"'Electrolyte con' not found. Best matches are ['Electrolyte conductivity [S.m-1]', 'Electrode width [m]', 'Typical electrolyte concentration [mol.m-3]']\""
     ]
    }
   ],
   "source": [
    "para[\"Electrolyte condy\"]"
   ]
  },
  {
   "cell_type": "code",
   "execution_count": null,
   "metadata": {},
   "outputs": [],
   "source": []
  }
 ],
 "metadata": {
  "kernelspec": {
   "display_name": "Python 3",
   "language": "python",
   "name": "python3"
  },
  "language_info": {
   "codemirror_mode": {
    "name": "ipython",
    "version": 3
   },
   "file_extension": ".py",
   "mimetype": "text/x-python",
   "name": "python",
   "nbconvert_exporter": "python",
   "pygments_lexer": "ipython3",
   "version": "3.7.5"
  }
 },
 "nbformat": 4,
 "nbformat_minor": 2
}
